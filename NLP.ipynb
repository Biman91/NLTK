{
 "cells": [
  {
   "cell_type": "markdown",
   "metadata": {},
   "source": [
    "# 1. Introduction"
   ]
  },
  {
   "cell_type": "code",
   "execution_count": 1,
   "metadata": {},
   "outputs": [],
   "source": [
    "# NLP: Field concerned with the ability of computer to understand, analyze, manipulate and potentially generate human language."
   ]
  },
  {
   "cell_type": "code",
   "execution_count": 2,
   "metadata": {},
   "outputs": [],
   "source": [
    "# Examle:\n",
    "#     Email spam filter\n",
    "#     Auto complete: in google search\n",
    "#     Auto correct"
   ]
  },
  {
   "cell_type": "code",
   "execution_count": 3,
   "metadata": {},
   "outputs": [],
   "source": [
    "# Area of NLP:\n",
    "#     sentiment analysis\n",
    "#     topic modeling\n",
    "#     text classification\n",
    "#     Parts of sppech tagging"
   ]
  },
  {
   "cell_type": "markdown",
   "metadata": {},
   "source": [
    "# 2 NLTK"
   ]
  },
  {
   "cell_type": "code",
   "execution_count": 4,
   "metadata": {},
   "outputs": [],
   "source": [
    "# Core component of NLP is extracting all information from a block of text that is relevent to computer \n",
    "# understanding the language"
   ]
  },
  {
   "cell_type": "code",
   "execution_count": 5,
   "metadata": {},
   "outputs": [],
   "source": [
    "# NLTK is open source tools created to make NLP process in python easier to build"
   ]
  },
  {
   "cell_type": "code",
   "execution_count": 6,
   "metadata": {},
   "outputs": [],
   "source": [
    "import nltk"
   ]
  },
  {
   "cell_type": "code",
   "execution_count": 7,
   "metadata": {},
   "outputs": [
    {
     "name": "stdout",
     "output_type": "stream",
     "text": [
      "showing info https://raw.githubusercontent.com/nltk/nltk_data/gh-pages/index.xml\n"
     ]
    },
    {
     "data": {
      "text/plain": [
       "True"
      ]
     },
     "execution_count": 7,
     "metadata": {},
     "output_type": "execute_result"
    }
   ],
   "source": [
    "nltk.download()"
   ]
  },
  {
   "cell_type": "code",
   "execution_count": 8,
   "metadata": {
    "scrolled": true
   },
   "outputs": [
    {
     "data": {
      "text/plain": [
       "['AbstractLazySequence',\n",
       " 'AffixTagger',\n",
       " 'AlignedSent',\n",
       " 'Alignment',\n",
       " 'AnnotationTask',\n",
       " 'ApplicationExpression',\n",
       " 'Assignment',\n",
       " 'BigramAssocMeasures',\n",
       " 'BigramCollocationFinder',\n",
       " 'BigramTagger',\n",
       " 'BinaryMaxentFeatureEncoding',\n",
       " 'BlanklineTokenizer',\n",
       " 'BllipParser',\n",
       " 'BottomUpChartParser',\n",
       " 'BottomUpLeftCornerChartParser',\n",
       " 'BottomUpProbabilisticChartParser',\n",
       " 'Boxer',\n",
       " 'BrillTagger',\n",
       " 'BrillTaggerTrainer',\n",
       " 'CFG',\n",
       " 'CRFTagger',\n",
       " 'CfgReadingCommand',\n",
       " 'ChartParser',\n",
       " 'ChunkParserI',\n",
       " 'ChunkScore',\n",
       " 'Cistem',\n",
       " 'ClassifierBasedPOSTagger',\n",
       " 'ClassifierBasedTagger',\n",
       " 'ClassifierI',\n",
       " 'ConcordanceIndex',\n",
       " 'ConditionalExponentialClassifier',\n",
       " 'ConditionalFreqDist',\n",
       " 'ConditionalProbDist',\n",
       " 'ConditionalProbDistI',\n",
       " 'ConfusionMatrix',\n",
       " 'ContextIndex',\n",
       " 'ContextTagger',\n",
       " 'ContingencyMeasures',\n",
       " 'CoreNLPDependencyParser',\n",
       " 'CoreNLPParser',\n",
       " 'Counter',\n",
       " 'CrossValidationProbDist',\n",
       " 'DRS',\n",
       " 'DecisionTreeClassifier',\n",
       " 'DefaultTagger',\n",
       " 'DependencyEvaluator',\n",
       " 'DependencyGrammar',\n",
       " 'DependencyGraph',\n",
       " 'DependencyProduction',\n",
       " 'DictionaryConditionalProbDist',\n",
       " 'DictionaryProbDist',\n",
       " 'DiscourseTester',\n",
       " 'DrtExpression',\n",
       " 'DrtGlueReadingCommand',\n",
       " 'ELEProbDist',\n",
       " 'EarleyChartParser',\n",
       " 'Expression',\n",
       " 'FStructure',\n",
       " 'FeatDict',\n",
       " 'FeatList',\n",
       " 'FeatStruct',\n",
       " 'FeatStructReader',\n",
       " 'Feature',\n",
       " 'FeatureBottomUpChartParser',\n",
       " 'FeatureBottomUpLeftCornerChartParser',\n",
       " 'FeatureChartParser',\n",
       " 'FeatureEarleyChartParser',\n",
       " 'FeatureIncrementalBottomUpChartParser',\n",
       " 'FeatureIncrementalBottomUpLeftCornerChartParser',\n",
       " 'FeatureIncrementalChartParser',\n",
       " 'FeatureIncrementalTopDownChartParser',\n",
       " 'FeatureTopDownChartParser',\n",
       " 'FreqDist',\n",
       " 'HTTPPasswordMgrWithDefaultRealm',\n",
       " 'HeldoutProbDist',\n",
       " 'HiddenMarkovModelTagger',\n",
       " 'HiddenMarkovModelTrainer',\n",
       " 'HunposTagger',\n",
       " 'IBMModel',\n",
       " 'IBMModel1',\n",
       " 'IBMModel2',\n",
       " 'IBMModel3',\n",
       " 'IBMModel4',\n",
       " 'IBMModel5',\n",
       " 'ISRIStemmer',\n",
       " 'ImmutableMultiParentedTree',\n",
       " 'ImmutableParentedTree',\n",
       " 'ImmutableProbabilisticMixIn',\n",
       " 'ImmutableProbabilisticTree',\n",
       " 'ImmutableTree',\n",
       " 'IncrementalBottomUpChartParser',\n",
       " 'IncrementalBottomUpLeftCornerChartParser',\n",
       " 'IncrementalChartParser',\n",
       " 'IncrementalLeftCornerChartParser',\n",
       " 'IncrementalTopDownChartParser',\n",
       " 'Index',\n",
       " 'InsideChartParser',\n",
       " 'JSONTaggedDecoder',\n",
       " 'JSONTaggedEncoder',\n",
       " 'KneserNeyProbDist',\n",
       " 'LancasterStemmer',\n",
       " 'LaplaceProbDist',\n",
       " 'LazyConcatenation',\n",
       " 'LazyEnumerate',\n",
       " 'LazyIteratorList',\n",
       " 'LazyMap',\n",
       " 'LazySubsequence',\n",
       " 'LazyZip',\n",
       " 'LeftCornerChartParser',\n",
       " 'LidstoneProbDist',\n",
       " 'LineTokenizer',\n",
       " 'LogicalExpressionException',\n",
       " 'LongestChartParser',\n",
       " 'MLEProbDist',\n",
       " 'MWETokenizer',\n",
       " 'Mace',\n",
       " 'MaceCommand',\n",
       " 'MaltParser',\n",
       " 'MaxentClassifier',\n",
       " 'Model',\n",
       " 'MultiClassifierI',\n",
       " 'MultiParentedTree',\n",
       " 'MutableProbDist',\n",
       " 'NaiveBayesClassifier',\n",
       " 'NaiveBayesDependencyScorer',\n",
       " 'NgramAssocMeasures',\n",
       " 'NgramTagger',\n",
       " 'NonprojectiveDependencyParser',\n",
       " 'Nonterminal',\n",
       " 'OrderedDict',\n",
       " 'PCFG',\n",
       " 'Paice',\n",
       " 'ParallelProverBuilder',\n",
       " 'ParallelProverBuilderCommand',\n",
       " 'ParentedTree',\n",
       " 'ParserI',\n",
       " 'PerceptronTagger',\n",
       " 'PhraseTable',\n",
       " 'PorterStemmer',\n",
       " 'PositiveNaiveBayesClassifier',\n",
       " 'ProbDistI',\n",
       " 'ProbabilisticDependencyGrammar',\n",
       " 'ProbabilisticMixIn',\n",
       " 'ProbabilisticNonprojectiveParser',\n",
       " 'ProbabilisticProduction',\n",
       " 'ProbabilisticProjectiveDependencyParser',\n",
       " 'ProbabilisticTree',\n",
       " 'Production',\n",
       " 'ProjectiveDependencyParser',\n",
       " 'Prover9',\n",
       " 'Prover9Command',\n",
       " 'ProxyBasicAuthHandler',\n",
       " 'ProxyDigestAuthHandler',\n",
       " 'ProxyHandler',\n",
       " 'PunktSentenceTokenizer',\n",
       " 'QuadgramAssocMeasures',\n",
       " 'QuadgramCollocationFinder',\n",
       " 'RSLPStemmer',\n",
       " 'RTEFeatureExtractor',\n",
       " 'RUS_PICKLE',\n",
       " 'RandomChartParser',\n",
       " 'RangeFeature',\n",
       " 'ReadingCommand',\n",
       " 'RecursiveDescentParser',\n",
       " 'RegexpChunkParser',\n",
       " 'RegexpParser',\n",
       " 'RegexpStemmer',\n",
       " 'RegexpTagger',\n",
       " 'RegexpTokenizer',\n",
       " 'ReppTokenizer',\n",
       " 'ResolutionProver',\n",
       " 'ResolutionProverCommand',\n",
       " 'SExprTokenizer',\n",
       " 'SLASH',\n",
       " 'Senna',\n",
       " 'SennaChunkTagger',\n",
       " 'SennaNERTagger',\n",
       " 'SennaTagger',\n",
       " 'SequentialBackoffTagger',\n",
       " 'ShiftReduceParser',\n",
       " 'SimpleGoodTuringProbDist',\n",
       " 'SklearnClassifier',\n",
       " 'SlashFeature',\n",
       " 'SnowballStemmer',\n",
       " 'SpaceTokenizer',\n",
       " 'StackDecoder',\n",
       " 'StanfordNERTagger',\n",
       " 'StanfordPOSTagger',\n",
       " 'StanfordSegmenter',\n",
       " 'StanfordTagger',\n",
       " 'StemmerI',\n",
       " 'SteppingChartParser',\n",
       " 'SteppingRecursiveDescentParser',\n",
       " 'SteppingShiftReduceParser',\n",
       " 'SyllableTokenizer',\n",
       " 'TYPE',\n",
       " 'TabTokenizer',\n",
       " 'TableauProver',\n",
       " 'TableauProverCommand',\n",
       " 'TaggerI',\n",
       " 'TestGrammar',\n",
       " 'Text',\n",
       " 'TextCat',\n",
       " 'TextCollection',\n",
       " 'TextTilingTokenizer',\n",
       " 'TnT',\n",
       " 'TokenSearcher',\n",
       " 'ToktokTokenizer',\n",
       " 'TopDownChartParser',\n",
       " 'TransitionParser',\n",
       " 'Tree',\n",
       " 'TreebankWordTokenizer',\n",
       " 'Trie',\n",
       " 'TrigramAssocMeasures',\n",
       " 'TrigramCollocationFinder',\n",
       " 'TrigramTagger',\n",
       " 'TweetTokenizer',\n",
       " 'TypedMaxentFeatureEncoding',\n",
       " 'Undefined',\n",
       " 'UniformProbDist',\n",
       " 'UnigramTagger',\n",
       " 'UnsortedChartParser',\n",
       " 'Valuation',\n",
       " 'Variable',\n",
       " 'ViterbiParser',\n",
       " 'WekaClassifier',\n",
       " 'WhitespaceTokenizer',\n",
       " 'WittenBellProbDist',\n",
       " 'WordNetLemmatizer',\n",
       " 'WordPunctTokenizer',\n",
       " '__author__',\n",
       " '__author_email__',\n",
       " '__builtins__',\n",
       " '__cached__',\n",
       " '__classifiers__',\n",
       " '__copyright__',\n",
       " '__doc__',\n",
       " '__file__',\n",
       " '__keywords__',\n",
       " '__license__',\n",
       " '__loader__',\n",
       " '__longdescr__',\n",
       " '__maintainer__',\n",
       " '__maintainer_email__',\n",
       " '__name__',\n",
       " '__package__',\n",
       " '__path__',\n",
       " '__spec__',\n",
       " '__url__',\n",
       " '__version__',\n",
       " 'absolute_import',\n",
       " 'accuracy',\n",
       " 'add_logs',\n",
       " 'agreement',\n",
       " 'align',\n",
       " 'alignment_error_rate',\n",
       " 'aline',\n",
       " 'api',\n",
       " 'app',\n",
       " 'apply_features',\n",
       " 'approxrand',\n",
       " 'arity',\n",
       " 'association',\n",
       " 'bigrams',\n",
       " 'binary_distance',\n",
       " 'binary_search_file',\n",
       " 'binding_ops',\n",
       " 'bisect',\n",
       " 'blankline_tokenize',\n",
       " 'bleu',\n",
       " 'bleu_score',\n",
       " 'bllip',\n",
       " 'boolean_ops',\n",
       " 'boxer',\n",
       " 'bracket_parse',\n",
       " 'breadth_first',\n",
       " 'brill',\n",
       " 'brill_trainer',\n",
       " 'build_opener',\n",
       " 'call_megam',\n",
       " 'casual',\n",
       " 'casual_tokenize',\n",
       " 'ccg',\n",
       " 'chain',\n",
       " 'chart',\n",
       " 'chat',\n",
       " 'choose',\n",
       " 'chunk',\n",
       " 'cistem',\n",
       " 'class_types',\n",
       " 'classify',\n",
       " 'clause',\n",
       " 'clean_html',\n",
       " 'clean_url',\n",
       " 'cluster',\n",
       " 'collections',\n",
       " 'collocations',\n",
       " 'combinations',\n",
       " 'compat',\n",
       " 'config_java',\n",
       " 'config_megam',\n",
       " 'config_weka',\n",
       " 'conflicts',\n",
       " 'confusionmatrix',\n",
       " 'conllstr2tree',\n",
       " 'conlltags2tree',\n",
       " 'corenlp',\n",
       " 'corpus',\n",
       " 'crf',\n",
       " 'custom_distance',\n",
       " 'data',\n",
       " 'decisiontree',\n",
       " 'decorator',\n",
       " 'decorators',\n",
       " 'defaultdict',\n",
       " 'demo',\n",
       " 'dependencygraph',\n",
       " 'deque',\n",
       " 'discourse',\n",
       " 'distance',\n",
       " 'download',\n",
       " 'download_gui',\n",
       " 'download_shell',\n",
       " 'downloader',\n",
       " 'draw',\n",
       " 'drt',\n",
       " 'earleychart',\n",
       " 'edit_distance',\n",
       " 'edit_distance_align',\n",
       " 'elementtree_indent',\n",
       " 'entropy',\n",
       " 'equality_preds',\n",
       " 'evaluate',\n",
       " 'evaluate_sents',\n",
       " 'everygrams',\n",
       " 'extract_rels',\n",
       " 'extract_test_sentences',\n",
       " 'f_measure',\n",
       " 'featstruct',\n",
       " 'featurechart',\n",
       " 'filestring',\n",
       " 'find',\n",
       " 'flatten',\n",
       " 'fractional_presence',\n",
       " 'getproxies',\n",
       " 'ghd',\n",
       " 'glue',\n",
       " 'grammar',\n",
       " 'guess_encoding',\n",
       " 'help',\n",
       " 'hmm',\n",
       " 'hunpos',\n",
       " 'ibm1',\n",
       " 'ibm2',\n",
       " 'ibm3',\n",
       " 'ibm4',\n",
       " 'ibm5',\n",
       " 'ibm_model',\n",
       " 'ieerstr2tree',\n",
       " 'improved_close_quote_regex',\n",
       " 'improved_open_quote_regex',\n",
       " 'improved_open_single_quote_regex',\n",
       " 'improved_punct_regex',\n",
       " 'in_idle',\n",
       " 'induce_pcfg',\n",
       " 'inference',\n",
       " 'infile',\n",
       " 'inspect',\n",
       " 'install_opener',\n",
       " 'internals',\n",
       " 'interpret_sents',\n",
       " 'interval_distance',\n",
       " 'invert_dict',\n",
       " 'invert_graph',\n",
       " 'is_rel',\n",
       " 'islice',\n",
       " 'isri',\n",
       " 'jaccard_distance',\n",
       " 'json_tags',\n",
       " 'jsontags',\n",
       " 'lancaster',\n",
       " 'lazyimport',\n",
       " 'lfg',\n",
       " 'line_tokenize',\n",
       " 'linearlogic',\n",
       " 'lm',\n",
       " 'load',\n",
       " 'load_parser',\n",
       " 'locale',\n",
       " 'log_likelihood',\n",
       " 'logic',\n",
       " 'mace',\n",
       " 'malt',\n",
       " 'map_tag',\n",
       " 'mapping',\n",
       " 'masi_distance',\n",
       " 'maxent',\n",
       " 'megam',\n",
       " 'memoize',\n",
       " 'meteor',\n",
       " 'meteor_score',\n",
       " 'metrics',\n",
       " 'misc',\n",
       " 'mwe',\n",
       " 'naivebayes',\n",
       " 'ne_chunk',\n",
       " 'ne_chunk_sents',\n",
       " 'ngrams',\n",
       " 'nonprojectivedependencyparser',\n",
       " 'nonterminals',\n",
       " 'numpy',\n",
       " 'os',\n",
       " 'pad_sequence',\n",
       " 'paice',\n",
       " 'parse',\n",
       " 'parse_sents',\n",
       " 'pchart',\n",
       " 'perceptron',\n",
       " 'pk',\n",
       " 'porter',\n",
       " 'pos_tag',\n",
       " 'pos_tag_sents',\n",
       " 'positivenaivebayes',\n",
       " 'pprint',\n",
       " 'pr',\n",
       " 'precision',\n",
       " 'presence',\n",
       " 'print_function',\n",
       " 'print_string',\n",
       " 'probability',\n",
       " 'projectivedependencyparser',\n",
       " 'prover9',\n",
       " 'punkt',\n",
       " 'py25',\n",
       " 'py26',\n",
       " 'py27',\n",
       " 'pydoc',\n",
       " 'python_2_unicode_compatible',\n",
       " 'raise_unorderable_types',\n",
       " 'ranks_from_scores',\n",
       " 'ranks_from_sequence',\n",
       " 're',\n",
       " 're_show',\n",
       " 'read_grammar',\n",
       " 'read_logic',\n",
       " 'read_valuation',\n",
       " 'recall',\n",
       " 'recursivedescent',\n",
       " 'regexp',\n",
       " 'regexp_span_tokenize',\n",
       " 'regexp_tokenize',\n",
       " 'register_tag',\n",
       " 'relextract',\n",
       " 'repp',\n",
       " 'resolution',\n",
       " 'ribes',\n",
       " 'ribes_score',\n",
       " 'root_semrep',\n",
       " 'rslp',\n",
       " 'rte_classifier',\n",
       " 'rte_classify',\n",
       " 'rte_features',\n",
       " 'rtuple',\n",
       " 'scikitlearn',\n",
       " 'scores',\n",
       " 'segmentation',\n",
       " 'sem',\n",
       " 'senna',\n",
       " 'sent_tokenize',\n",
       " 'sequential',\n",
       " 'set2rel',\n",
       " 'set_proxy',\n",
       " 'sexpr',\n",
       " 'sexpr_tokenize',\n",
       " 'shiftreduce',\n",
       " 'simple',\n",
       " 'sinica_parse',\n",
       " 'skipgrams',\n",
       " 'skolemize',\n",
       " 'slice_bounds',\n",
       " 'snowball',\n",
       " 'sonority_sequencing',\n",
       " 'spearman',\n",
       " 'spearman_correlation',\n",
       " 'stack_decoder',\n",
       " 'stanford',\n",
       " 'stanford_segmenter',\n",
       " 'stem',\n",
       " 'str2tuple',\n",
       " 'string_span_tokenize',\n",
       " 'string_types',\n",
       " 'subprocess',\n",
       " 'subsumes',\n",
       " 'sum_logs',\n",
       " 'sys',\n",
       " 'tableau',\n",
       " 'tadm',\n",
       " 'tag',\n",
       " 'tagset_mapping',\n",
       " 'tagstr2tree',\n",
       " 'tbl',\n",
       " 'text',\n",
       " 'text_type',\n",
       " 'textcat',\n",
       " 'texttiling',\n",
       " 'textwrap',\n",
       " 'tkinter',\n",
       " 'tnt',\n",
       " 'tokenize',\n",
       " 'tokenwrap',\n",
       " 'toktok',\n",
       " 'toolbox',\n",
       " 'total_ordering',\n",
       " 'transitionparser',\n",
       " 'transitive_closure',\n",
       " 'translate',\n",
       " 'tree',\n",
       " 'tree2conllstr',\n",
       " 'tree2conlltags',\n",
       " 'treebank',\n",
       " 'treetransforms',\n",
       " 'trigrams',\n",
       " 'tuple2str',\n",
       " 'types',\n",
       " 'unify',\n",
       " 'unique_list',\n",
       " 'untag',\n",
       " 'usage',\n",
       " 'util',\n",
       " 'version_file',\n",
       " 'version_info',\n",
       " 'viterbi',\n",
       " 'weka',\n",
       " 'windowdiff',\n",
       " 'word_tokenize',\n",
       " 'wordnet',\n",
       " 'wordpunct_tokenize',\n",
       " 'wsd']"
      ]
     },
     "execution_count": 8,
     "metadata": {},
     "output_type": "execute_result"
    }
   ],
   "source": [
    "dir(nltk)"
   ]
  },
  {
   "cell_type": "code",
   "execution_count": 9,
   "metadata": {},
   "outputs": [
    {
     "data": {
      "text/plain": [
       "['I', 'am', 'learning', 'NLP', 'and', 'using', 'NLTK']"
      ]
     },
     "execution_count": 9,
     "metadata": {},
     "output_type": "execute_result"
    }
   ],
   "source": [
    "from nltk.tokenize import word_tokenize\n",
    "input_text = \"I am learning NLP and using NLTK\"\n",
    "word_tokens = word_tokenize(input_text)\n",
    "word_tokens"
   ]
  },
  {
   "cell_type": "markdown",
   "metadata": {},
   "source": [
    "# 3. Structured and Untractured"
   ]
  },
  {
   "cell_type": "code",
   "execution_count": 11,
   "metadata": {},
   "outputs": [],
   "source": [
    "# Structured data:\n",
    "#     Highly organiged\n",
    "#     well formatted\n",
    "#     Easily searchable in relational DB\n",
    "    \n",
    "#     eg: names, dates, stack_info, purches_history etc"
   ]
  },
  {
   "cell_type": "code",
   "execution_count": 12,
   "metadata": {},
   "outputs": [],
   "source": [
    "# Unstractured data:\n",
    "#     no pre-defined format\n",
    "#     Difficult to process, collect, analyze\n",
    "    \n",
    "#     eg: tweets of user, text, video, audio, social media activity, surveillance imagery"
   ]
  },
  {
   "cell_type": "markdown",
   "metadata": {},
   "source": [
    "# 4. Reading Text data"
   ]
  },
  {
   "cell_type": "code",
   "execution_count": 13,
   "metadata": {},
   "outputs": [],
   "source": [
    "# Reading Text data:"
   ]
  },
  {
   "cell_type": "code",
   "execution_count": 14,
   "metadata": {},
   "outputs": [],
   "source": [
    "# method 1: read data"
   ]
  },
  {
   "cell_type": "code",
   "execution_count": 15,
   "metadata": {},
   "outputs": [
    {
     "data": {
      "text/plain": [
       "\"ham\\tGo until jurong point, crazy.. Available only in bugis n great world la e buffet... Cine there got amore wat...\\nham\\tOk lar... Joking wif u oni...\\nspam\\tFree entry in 2 a wkly comp to win FA Cup final tkts 21st May 2005. Text FA to 87121 to receive entry question(std txt rate)T&C's apply 08452810075over18's\\nham\\tU dun say so early hor... U c already then say...\\nham\\tNah I don't think he goes to usf, he lives around here though\\nspam\\tFreeMsg Hey there darling it's been 3 week's now and no word bac\""
      ]
     },
     "execution_count": 15,
     "metadata": {},
     "output_type": "execute_result"
    }
   ],
   "source": [
    "raw_data  = open(\"SMSSpamCollection\").read()\n",
    "raw_data[:500]"
   ]
  },
  {
   "cell_type": "code",
   "execution_count": 16,
   "metadata": {},
   "outputs": [
    {
     "data": {
      "text/plain": [
       "['ham',\n",
       " 'Go until jurong point, crazy.. Available only in bugis n great world la e buffet... Cine there got amore wat...',\n",
       " 'ham',\n",
       " 'Ok lar... Joking wif u oni...',\n",
       " 'spam',\n",
       " \"Free entry in 2 a wkly comp to win FA Cup final tkts 21st May 2005. Text FA to 87121 to receive entry question(std txt rate)T&C's apply 08452810075over18's\",\n",
       " 'ham',\n",
       " 'U dun say so early hor... U c already then say...',\n",
       " 'ham',\n",
       " \"Nah I don't think he goes to usf, he lives around here though\"]"
      ]
     },
     "execution_count": 16,
     "metadata": {},
     "output_type": "execute_result"
    }
   ],
   "source": [
    "parsed_data = raw_data.replace('\\t', '\\n').split('\\n')\n",
    "parsed_data[:10]"
   ]
  },
  {
   "cell_type": "code",
   "execution_count": 17,
   "metadata": {},
   "outputs": [
    {
     "name": "stdout",
     "output_type": "stream",
     "text": [
      "['ham', 'ham', 'spam', 'ham', 'ham']\n",
      "['Go until jurong point, crazy.. Available only in bugis n great world la e buffet... Cine there got amore wat...', 'Ok lar... Joking wif u oni...', \"Free entry in 2 a wkly comp to win FA Cup final tkts 21st May 2005. Text FA to 87121 to receive entry question(std txt rate)T&C's apply 08452810075over18's\", 'U dun say so early hor... U c already then say...', \"Nah I don't think he goes to usf, he lives around here though\"]\n"
     ]
    }
   ],
   "source": [
    "label_list = parsed_data[::2]\n",
    "msg_list = parsed_data[1::2]\n",
    "print(label_list[:5])\n",
    "print(msg_list[:5])"
   ]
  },
  {
   "cell_type": "code",
   "execution_count": 18,
   "metadata": {},
   "outputs": [
    {
     "data": {
      "text/html": [
       "<div>\n",
       "<style scoped>\n",
       "    .dataframe tbody tr th:only-of-type {\n",
       "        vertical-align: middle;\n",
       "    }\n",
       "\n",
       "    .dataframe tbody tr th {\n",
       "        vertical-align: top;\n",
       "    }\n",
       "\n",
       "    .dataframe thead th {\n",
       "        text-align: right;\n",
       "    }\n",
       "</style>\n",
       "<table border=\"1\" class=\"dataframe\">\n",
       "  <thead>\n",
       "    <tr style=\"text-align: right;\">\n",
       "      <th></th>\n",
       "      <th>label</th>\n",
       "      <th>sms</th>\n",
       "    </tr>\n",
       "  </thead>\n",
       "  <tbody>\n",
       "    <tr>\n",
       "      <th>0</th>\n",
       "      <td></td>\n",
       "      <td>Go until jurong point, crazy.. Available only ...</td>\n",
       "    </tr>\n",
       "    <tr>\n",
       "      <th>1</th>\n",
       "      <td></td>\n",
       "      <td>Ok lar... Joking wif u oni...</td>\n",
       "    </tr>\n",
       "    <tr>\n",
       "      <th>2</th>\n",
       "      <td></td>\n",
       "      <td>Free entry in 2 a wkly comp to win FA Cup fina...</td>\n",
       "    </tr>\n",
       "    <tr>\n",
       "      <th>3</th>\n",
       "      <td></td>\n",
       "      <td>U dun say so early hor... U c already then say...</td>\n",
       "    </tr>\n",
       "    <tr>\n",
       "      <th>4</th>\n",
       "      <td></td>\n",
       "      <td>Nah I don't think he goes to usf, he lives aro...</td>\n",
       "    </tr>\n",
       "  </tbody>\n",
       "</table>\n",
       "</div>"
      ],
      "text/plain": [
       "  label                                                sms\n",
       "0        Go until jurong point, crazy.. Available only ...\n",
       "1                            Ok lar... Joking wif u oni...\n",
       "2        Free entry in 2 a wkly comp to win FA Cup fina...\n",
       "3        U dun say so early hor... U c already then say...\n",
       "4        Nah I don't think he goes to usf, he lives aro..."
      ]
     },
     "execution_count": 18,
     "metadata": {},
     "output_type": "execute_result"
    }
   ],
   "source": [
    "import pandas as pd\n",
    "combined_df = pd.DataFrame({\n",
    "    'label': label_list[-1], # last label is empty\n",
    "    'sms': msg_list\n",
    "})\n",
    "combined_df.head()"
   ]
  },
  {
   "cell_type": "code",
   "execution_count": 19,
   "metadata": {},
   "outputs": [],
   "source": [
    "# method 2: read data"
   ]
  },
  {
   "cell_type": "code",
   "execution_count": 20,
   "metadata": {},
   "outputs": [
    {
     "data": {
      "text/html": [
       "<div>\n",
       "<style scoped>\n",
       "    .dataframe tbody tr th:only-of-type {\n",
       "        vertical-align: middle;\n",
       "    }\n",
       "\n",
       "    .dataframe tbody tr th {\n",
       "        vertical-align: top;\n",
       "    }\n",
       "\n",
       "    .dataframe thead th {\n",
       "        text-align: right;\n",
       "    }\n",
       "</style>\n",
       "<table border=\"1\" class=\"dataframe\">\n",
       "  <thead>\n",
       "    <tr style=\"text-align: right;\">\n",
       "      <th></th>\n",
       "      <th>0</th>\n",
       "      <th>1</th>\n",
       "    </tr>\n",
       "  </thead>\n",
       "  <tbody>\n",
       "    <tr>\n",
       "      <th>0</th>\n",
       "      <td>ham</td>\n",
       "      <td>Go until jurong point, crazy.. Available only ...</td>\n",
       "    </tr>\n",
       "    <tr>\n",
       "      <th>1</th>\n",
       "      <td>ham</td>\n",
       "      <td>Ok lar... Joking wif u oni...</td>\n",
       "    </tr>\n",
       "    <tr>\n",
       "      <th>2</th>\n",
       "      <td>spam</td>\n",
       "      <td>Free entry in 2 a wkly comp to win FA Cup fina...</td>\n",
       "    </tr>\n",
       "    <tr>\n",
       "      <th>3</th>\n",
       "      <td>ham</td>\n",
       "      <td>U dun say so early hor... U c already then say...</td>\n",
       "    </tr>\n",
       "    <tr>\n",
       "      <th>4</th>\n",
       "      <td>ham</td>\n",
       "      <td>Nah I don't think he goes to usf, he lives aro...</td>\n",
       "    </tr>\n",
       "  </tbody>\n",
       "</table>\n",
       "</div>"
      ],
      "text/plain": [
       "      0                                                  1\n",
       "0   ham  Go until jurong point, crazy.. Available only ...\n",
       "1   ham                      Ok lar... Joking wif u oni...\n",
       "2  spam  Free entry in 2 a wkly comp to win FA Cup fina...\n",
       "3   ham  U dun say so early hor... U c already then say...\n",
       "4   ham  Nah I don't think he goes to usf, he lives aro..."
      ]
     },
     "execution_count": 20,
     "metadata": {},
     "output_type": "execute_result"
    }
   ],
   "source": [
    "dataset = pd.read_csv(\"SMSSpamCollection\", sep=\"\\t\", header=None)\n",
    "dataset.head()"
   ]
  },
  {
   "cell_type": "markdown",
   "metadata": {},
   "source": [
    "# 5. Exploring dataset"
   ]
  },
  {
   "cell_type": "code",
   "execution_count": 22,
   "metadata": {},
   "outputs": [
    {
     "data": {
      "text/html": [
       "<div>\n",
       "<style scoped>\n",
       "    .dataframe tbody tr th:only-of-type {\n",
       "        vertical-align: middle;\n",
       "    }\n",
       "\n",
       "    .dataframe tbody tr th {\n",
       "        vertical-align: top;\n",
       "    }\n",
       "\n",
       "    .dataframe thead th {\n",
       "        text-align: right;\n",
       "    }\n",
       "</style>\n",
       "<table border=\"1\" class=\"dataframe\">\n",
       "  <thead>\n",
       "    <tr style=\"text-align: right;\">\n",
       "      <th></th>\n",
       "      <th>label</th>\n",
       "      <th>sms</th>\n",
       "    </tr>\n",
       "  </thead>\n",
       "  <tbody>\n",
       "    <tr>\n",
       "      <th>0</th>\n",
       "      <td>ham</td>\n",
       "      <td>Go until jurong point, crazy.. Available only ...</td>\n",
       "    </tr>\n",
       "    <tr>\n",
       "      <th>1</th>\n",
       "      <td>ham</td>\n",
       "      <td>Ok lar... Joking wif u oni...</td>\n",
       "    </tr>\n",
       "    <tr>\n",
       "      <th>2</th>\n",
       "      <td>spam</td>\n",
       "      <td>Free entry in 2 a wkly comp to win FA Cup fina...</td>\n",
       "    </tr>\n",
       "    <tr>\n",
       "      <th>3</th>\n",
       "      <td>ham</td>\n",
       "      <td>U dun say so early hor... U c already then say...</td>\n",
       "    </tr>\n",
       "    <tr>\n",
       "      <th>4</th>\n",
       "      <td>ham</td>\n",
       "      <td>Nah I don't think he goes to usf, he lives aro...</td>\n",
       "    </tr>\n",
       "  </tbody>\n",
       "</table>\n",
       "</div>"
      ],
      "text/plain": [
       "  label                                                sms\n",
       "0   ham  Go until jurong point, crazy.. Available only ...\n",
       "1   ham                      Ok lar... Joking wif u oni...\n",
       "2  spam  Free entry in 2 a wkly comp to win FA Cup fina...\n",
       "3   ham  U dun say so early hor... U c already then say...\n",
       "4   ham  Nah I don't think he goes to usf, he lives aro..."
      ]
     },
     "execution_count": 22,
     "metadata": {},
     "output_type": "execute_result"
    }
   ],
   "source": [
    "dataset.columns = ['label', 'sms'] # add column name\n",
    "dataset.head()"
   ]
  },
  {
   "cell_type": "code",
   "execution_count": 23,
   "metadata": {},
   "outputs": [
    {
     "name": "stdout",
     "output_type": "stream",
     "text": [
      "input dataset has 5572 rows, 2 columns\n"
     ]
    }
   ],
   "source": [
    "# check how many row are there\n",
    "print(f\"input dataset has {len(dataset)} rows, {len(dataset.columns)} columns\")"
   ]
  },
  {
   "cell_type": "code",
   "execution_count": 24,
   "metadata": {},
   "outputs": [
    {
     "data": {
      "text/plain": [
       "(5572, 2)"
      ]
     },
     "execution_count": 24,
     "metadata": {},
     "output_type": "execute_result"
    }
   ],
   "source": [
    "dataset.shape"
   ]
  },
  {
   "cell_type": "code",
   "execution_count": 25,
   "metadata": {},
   "outputs": [
    {
     "name": "stdout",
     "output_type": "stream",
     "text": [
      "ham = 4825\n",
      "spam = 747\n"
     ]
    }
   ],
   "source": [
    "# check label. spam/ham\n",
    "print(f\"ham = {len(dataset[dataset['label']=='ham'])}\")\n",
    "print(f\"spam = {len(dataset[dataset['label']=='spam'])}\")"
   ]
  },
  {
   "cell_type": "code",
   "execution_count": 26,
   "metadata": {},
   "outputs": [
    {
     "data": {
      "text/plain": [
       "ham     4825\n",
       "spam     747\n",
       "Name: label, dtype: int64"
      ]
     },
     "execution_count": 26,
     "metadata": {},
     "output_type": "execute_result"
    }
   ],
   "source": [
    "dataset['label'].value_counts()"
   ]
  },
  {
   "cell_type": "code",
   "execution_count": 27,
   "metadata": {},
   "outputs": [
    {
     "name": "stdout",
     "output_type": "stream",
     "text": [
      "Number of missing label = 0\n",
      "Number of missing sms = 0\n"
     ]
    }
   ],
   "source": [
    "# missing data\n",
    "print(f\"Number of missing label = {dataset['label'].isnull().sum()}\")\n",
    "print(f\"Number of missing sms = {dataset['sms'].isnull().sum()}\")"
   ]
  },
  {
   "cell_type": "markdown",
   "metadata": {},
   "source": [
    "# 6. NLP Pipeline"
   ]
  },
  {
   "cell_type": "code",
   "execution_count": 28,
   "metadata": {},
   "outputs": [],
   "source": [
    "# NLP Pipeline:\n",
    "#     Raw Data => Tokenization => Text Cleaning => Vectorization => ML Algorithm => Spam Filter\n",
    "\n",
    "# Text cleaning => remove stop word. Eg: I, am, in. \n",
    "#                     Stemming: remove prefix and suffix. ing, ly\n",
    "# vectorization: convert word to numeric representation.\n",
    "#                 there are many type of vectorization\n",
    "#                     word2vec\n",
    "#                     bagofword\n",
    "#                     TF-IDF"
   ]
  },
  {
   "cell_type": "markdown",
   "metadata": {},
   "source": [
    "# 7. Preprocessing"
   ]
  },
  {
   "cell_type": "code",
   "execution_count": 29,
   "metadata": {},
   "outputs": [],
   "source": [
    "# Preprocessing = Tokenization + Text Cleaning\n",
    "#     Remove Puntuation  eg: . , ! etc\n",
    "#     Tokenization  eg: ['I', 'am', 'learning']\n",
    "#     Remove stop words  eg: am is the\n",
    "#     Stemming/ Lemmatizing eg: coder, coding to code(stemm), remove prefix and sufix ing. ly (Lemma) "
   ]
  },
  {
   "cell_type": "code",
   "execution_count": 30,
   "metadata": {},
   "outputs": [],
   "source": [
    "import pandas as pd"
   ]
  },
  {
   "cell_type": "code",
   "execution_count": 31,
   "metadata": {},
   "outputs": [
    {
     "data": {
      "text/html": [
       "<div>\n",
       "<style scoped>\n",
       "    .dataframe tbody tr th:only-of-type {\n",
       "        vertical-align: middle;\n",
       "    }\n",
       "\n",
       "    .dataframe tbody tr th {\n",
       "        vertical-align: top;\n",
       "    }\n",
       "\n",
       "    .dataframe thead th {\n",
       "        text-align: right;\n",
       "    }\n",
       "</style>\n",
       "<table border=\"1\" class=\"dataframe\">\n",
       "  <thead>\n",
       "    <tr style=\"text-align: right;\">\n",
       "      <th></th>\n",
       "      <th>label</th>\n",
       "      <th>msg</th>\n",
       "    </tr>\n",
       "  </thead>\n",
       "  <tbody>\n",
       "    <tr>\n",
       "      <th>0</th>\n",
       "      <td>ham</td>\n",
       "      <td>Go until jurong point, crazy.. Available only in bugis n great world la e buffet... Cine there g...</td>\n",
       "    </tr>\n",
       "    <tr>\n",
       "      <th>1</th>\n",
       "      <td>ham</td>\n",
       "      <td>Ok lar... Joking wif u oni...</td>\n",
       "    </tr>\n",
       "    <tr>\n",
       "      <th>2</th>\n",
       "      <td>spam</td>\n",
       "      <td>Free entry in 2 a wkly comp to win FA Cup final tkts 21st May 2005. Text FA to 87121 to receive ...</td>\n",
       "    </tr>\n",
       "    <tr>\n",
       "      <th>3</th>\n",
       "      <td>ham</td>\n",
       "      <td>U dun say so early hor... U c already then say...</td>\n",
       "    </tr>\n",
       "    <tr>\n",
       "      <th>4</th>\n",
       "      <td>ham</td>\n",
       "      <td>Nah I don't think he goes to usf, he lives around here though</td>\n",
       "    </tr>\n",
       "  </tbody>\n",
       "</table>\n",
       "</div>"
      ],
      "text/plain": [
       "  label  \\\n",
       "0   ham   \n",
       "1   ham   \n",
       "2  spam   \n",
       "3   ham   \n",
       "4   ham   \n",
       "\n",
       "                                                                                                   msg  \n",
       "0  Go until jurong point, crazy.. Available only in bugis n great world la e buffet... Cine there g...  \n",
       "1                                                                        Ok lar... Joking wif u oni...  \n",
       "2  Free entry in 2 a wkly comp to win FA Cup final tkts 21st May 2005. Text FA to 87121 to receive ...  \n",
       "3                                                    U dun say so early hor... U c already then say...  \n",
       "4                                        Nah I don't think he goes to usf, he lives around here though  "
      ]
     },
     "execution_count": 31,
     "metadata": {},
     "output_type": "execute_result"
    }
   ],
   "source": [
    "pd.set_option('display.max_colwidth', 100)\n",
    "data = pd.read_csv(\"SMSSpamCollection\", sep='\\t', header=None)\n",
    "data.columns = ['label', 'msg']\n",
    "data.head()"
   ]
  },
  {
   "cell_type": "code",
   "execution_count": 32,
   "metadata": {},
   "outputs": [
    {
     "data": {
      "text/plain": [
       "'!\"#$%&\\'()*+,-./:;<=>?@[\\\\]^_`{|}~'"
      ]
     },
     "execution_count": 32,
     "metadata": {},
     "output_type": "execute_result"
    }
   ],
   "source": [
    "# Remove puntuation\n",
    "import string\n",
    "string.punctuation"
   ]
  },
  {
   "cell_type": "code",
   "execution_count": 33,
   "metadata": {},
   "outputs": [],
   "source": [
    "def remove_puntuation(txt):\n",
    "    txt_nopunct = ''.join([i for i in txt if i not in string.punctuation])\n",
    "    return txt_nopunct"
   ]
  },
  {
   "cell_type": "code",
   "execution_count": 34,
   "metadata": {},
   "outputs": [],
   "source": [
    "data['msg_clean'] = data['msg'].apply(lambda x: remove_puntuation(x))"
   ]
  },
  {
   "cell_type": "code",
   "execution_count": 35,
   "metadata": {},
   "outputs": [
    {
     "data": {
      "text/html": [
       "<div>\n",
       "<style scoped>\n",
       "    .dataframe tbody tr th:only-of-type {\n",
       "        vertical-align: middle;\n",
       "    }\n",
       "\n",
       "    .dataframe tbody tr th {\n",
       "        vertical-align: top;\n",
       "    }\n",
       "\n",
       "    .dataframe thead th {\n",
       "        text-align: right;\n",
       "    }\n",
       "</style>\n",
       "<table border=\"1\" class=\"dataframe\">\n",
       "  <thead>\n",
       "    <tr style=\"text-align: right;\">\n",
       "      <th></th>\n",
       "      <th>label</th>\n",
       "      <th>msg</th>\n",
       "      <th>msg_clean</th>\n",
       "    </tr>\n",
       "  </thead>\n",
       "  <tbody>\n",
       "    <tr>\n",
       "      <th>0</th>\n",
       "      <td>ham</td>\n",
       "      <td>Go until jurong point, crazy.. Available only in bugis n great world la e buffet... Cine there g...</td>\n",
       "      <td>Go until jurong point crazy Available only in bugis n great world la e buffet Cine there got amo...</td>\n",
       "    </tr>\n",
       "    <tr>\n",
       "      <th>1</th>\n",
       "      <td>ham</td>\n",
       "      <td>Ok lar... Joking wif u oni...</td>\n",
       "      <td>Ok lar Joking wif u oni</td>\n",
       "    </tr>\n",
       "    <tr>\n",
       "      <th>2</th>\n",
       "      <td>spam</td>\n",
       "      <td>Free entry in 2 a wkly comp to win FA Cup final tkts 21st May 2005. Text FA to 87121 to receive ...</td>\n",
       "      <td>Free entry in 2 a wkly comp to win FA Cup final tkts 21st May 2005 Text FA to 87121 to receive e...</td>\n",
       "    </tr>\n",
       "    <tr>\n",
       "      <th>3</th>\n",
       "      <td>ham</td>\n",
       "      <td>U dun say so early hor... U c already then say...</td>\n",
       "      <td>U dun say so early hor U c already then say</td>\n",
       "    </tr>\n",
       "    <tr>\n",
       "      <th>4</th>\n",
       "      <td>ham</td>\n",
       "      <td>Nah I don't think he goes to usf, he lives around here though</td>\n",
       "      <td>Nah I dont think he goes to usf he lives around here though</td>\n",
       "    </tr>\n",
       "  </tbody>\n",
       "</table>\n",
       "</div>"
      ],
      "text/plain": [
       "  label  \\\n",
       "0   ham   \n",
       "1   ham   \n",
       "2  spam   \n",
       "3   ham   \n",
       "4   ham   \n",
       "\n",
       "                                                                                                   msg  \\\n",
       "0  Go until jurong point, crazy.. Available only in bugis n great world la e buffet... Cine there g...   \n",
       "1                                                                        Ok lar... Joking wif u oni...   \n",
       "2  Free entry in 2 a wkly comp to win FA Cup final tkts 21st May 2005. Text FA to 87121 to receive ...   \n",
       "3                                                    U dun say so early hor... U c already then say...   \n",
       "4                                        Nah I don't think he goes to usf, he lives around here though   \n",
       "\n",
       "                                                                                             msg_clean  \n",
       "0  Go until jurong point crazy Available only in bugis n great world la e buffet Cine there got amo...  \n",
       "1                                                                              Ok lar Joking wif u oni  \n",
       "2  Free entry in 2 a wkly comp to win FA Cup final tkts 21st May 2005 Text FA to 87121 to receive e...  \n",
       "3                                                          U dun say so early hor U c already then say  \n",
       "4                                          Nah I dont think he goes to usf he lives around here though  "
      ]
     },
     "execution_count": 35,
     "metadata": {},
     "output_type": "execute_result"
    }
   ],
   "source": [
    "data.head()"
   ]
  },
  {
   "cell_type": "markdown",
   "metadata": {},
   "source": [
    "# 8. Tokenization"
   ]
  },
  {
   "cell_type": "code",
   "execution_count": 37,
   "metadata": {},
   "outputs": [],
   "source": [
    "import re\n",
    "\n",
    "def tokenize(txt):\n",
    "    tokens = re.split('\\W+', txt)  # non word charecter, w word charecter.\n",
    "    return tokens"
   ]
  },
  {
   "cell_type": "code",
   "execution_count": 38,
   "metadata": {},
   "outputs": [
    {
     "data": {
      "text/html": [
       "<div>\n",
       "<style scoped>\n",
       "    .dataframe tbody tr th:only-of-type {\n",
       "        vertical-align: middle;\n",
       "    }\n",
       "\n",
       "    .dataframe tbody tr th {\n",
       "        vertical-align: top;\n",
       "    }\n",
       "\n",
       "    .dataframe thead th {\n",
       "        text-align: right;\n",
       "    }\n",
       "</style>\n",
       "<table border=\"1\" class=\"dataframe\">\n",
       "  <thead>\n",
       "    <tr style=\"text-align: right;\">\n",
       "      <th></th>\n",
       "      <th>label</th>\n",
       "      <th>msg</th>\n",
       "      <th>msg_clean</th>\n",
       "      <th>msg_clean_tokenized</th>\n",
       "    </tr>\n",
       "  </thead>\n",
       "  <tbody>\n",
       "    <tr>\n",
       "      <th>0</th>\n",
       "      <td>ham</td>\n",
       "      <td>Go until jurong point, crazy.. Available only in bugis n great world la e buffet... Cine there g...</td>\n",
       "      <td>Go until jurong point crazy Available only in bugis n great world la e buffet Cine there got amo...</td>\n",
       "      <td>[go, until, jurong, point, crazy, available, only, in, bugis, n, great, world, la, e, buffet, ci...</td>\n",
       "    </tr>\n",
       "    <tr>\n",
       "      <th>1</th>\n",
       "      <td>ham</td>\n",
       "      <td>Ok lar... Joking wif u oni...</td>\n",
       "      <td>Ok lar Joking wif u oni</td>\n",
       "      <td>[ok, lar, joking, wif, u, oni]</td>\n",
       "    </tr>\n",
       "    <tr>\n",
       "      <th>2</th>\n",
       "      <td>spam</td>\n",
       "      <td>Free entry in 2 a wkly comp to win FA Cup final tkts 21st May 2005. Text FA to 87121 to receive ...</td>\n",
       "      <td>Free entry in 2 a wkly comp to win FA Cup final tkts 21st May 2005 Text FA to 87121 to receive e...</td>\n",
       "      <td>[free, entry, in, 2, a, wkly, comp, to, win, fa, cup, final, tkts, 21st, may, 2005, text, fa, to...</td>\n",
       "    </tr>\n",
       "    <tr>\n",
       "      <th>3</th>\n",
       "      <td>ham</td>\n",
       "      <td>U dun say so early hor... U c already then say...</td>\n",
       "      <td>U dun say so early hor U c already then say</td>\n",
       "      <td>[u, dun, say, so, early, hor, u, c, already, then, say]</td>\n",
       "    </tr>\n",
       "    <tr>\n",
       "      <th>4</th>\n",
       "      <td>ham</td>\n",
       "      <td>Nah I don't think he goes to usf, he lives around here though</td>\n",
       "      <td>Nah I dont think he goes to usf he lives around here though</td>\n",
       "      <td>[nah, i, dont, think, he, goes, to, usf, he, lives, around, here, though]</td>\n",
       "    </tr>\n",
       "  </tbody>\n",
       "</table>\n",
       "</div>"
      ],
      "text/plain": [
       "  label  \\\n",
       "0   ham   \n",
       "1   ham   \n",
       "2  spam   \n",
       "3   ham   \n",
       "4   ham   \n",
       "\n",
       "                                                                                                   msg  \\\n",
       "0  Go until jurong point, crazy.. Available only in bugis n great world la e buffet... Cine there g...   \n",
       "1                                                                        Ok lar... Joking wif u oni...   \n",
       "2  Free entry in 2 a wkly comp to win FA Cup final tkts 21st May 2005. Text FA to 87121 to receive ...   \n",
       "3                                                    U dun say so early hor... U c already then say...   \n",
       "4                                        Nah I don't think he goes to usf, he lives around here though   \n",
       "\n",
       "                                                                                             msg_clean  \\\n",
       "0  Go until jurong point crazy Available only in bugis n great world la e buffet Cine there got amo...   \n",
       "1                                                                              Ok lar Joking wif u oni   \n",
       "2  Free entry in 2 a wkly comp to win FA Cup final tkts 21st May 2005 Text FA to 87121 to receive e...   \n",
       "3                                                          U dun say so early hor U c already then say   \n",
       "4                                          Nah I dont think he goes to usf he lives around here though   \n",
       "\n",
       "                                                                                   msg_clean_tokenized  \n",
       "0  [go, until, jurong, point, crazy, available, only, in, bugis, n, great, world, la, e, buffet, ci...  \n",
       "1                                                                       [ok, lar, joking, wif, u, oni]  \n",
       "2  [free, entry, in, 2, a, wkly, comp, to, win, fa, cup, final, tkts, 21st, may, 2005, text, fa, to...  \n",
       "3                                              [u, dun, say, so, early, hor, u, c, already, then, say]  \n",
       "4                            [nah, i, dont, think, he, goes, to, usf, he, lives, around, here, though]  "
      ]
     },
     "execution_count": 38,
     "metadata": {},
     "output_type": "execute_result"
    }
   ],
   "source": [
    "data['msg_clean_tokenized'] = data['msg_clean'].apply(lambda x:tokenize(x.lower()))\n",
    "data.head()"
   ]
  },
  {
   "cell_type": "markdown",
   "metadata": {},
   "source": [
    "# 9. remove stop words"
   ]
  },
  {
   "cell_type": "code",
   "execution_count": 40,
   "metadata": {},
   "outputs": [
    {
     "data": {
      "text/plain": [
       "['i', 'me', 'my', 'myself', 'we', 'our', 'ours', 'ourselves', 'you', \"you're\"]"
      ]
     },
     "execution_count": 40,
     "metadata": {},
     "output_type": "execute_result"
    }
   ],
   "source": [
    "import nltk\n",
    "stopwords = nltk.corpus.stopwords.words(\"english\")\n",
    "stopwords[:10]"
   ]
  },
  {
   "cell_type": "code",
   "execution_count": 41,
   "metadata": {},
   "outputs": [],
   "source": [
    "def remove_stopwords(txt_tokenized):\n",
    "    txt_clean = [word for word in txt_tokenized if word not in stopwords]\n",
    "    return txt_clean"
   ]
  },
  {
   "cell_type": "code",
   "execution_count": 42,
   "metadata": {},
   "outputs": [
    {
     "data": {
      "text/html": [
       "<div>\n",
       "<style scoped>\n",
       "    .dataframe tbody tr th:only-of-type {\n",
       "        vertical-align: middle;\n",
       "    }\n",
       "\n",
       "    .dataframe tbody tr th {\n",
       "        vertical-align: top;\n",
       "    }\n",
       "\n",
       "    .dataframe thead th {\n",
       "        text-align: right;\n",
       "    }\n",
       "</style>\n",
       "<table border=\"1\" class=\"dataframe\">\n",
       "  <thead>\n",
       "    <tr style=\"text-align: right;\">\n",
       "      <th></th>\n",
       "      <th>label</th>\n",
       "      <th>msg</th>\n",
       "      <th>msg_clean</th>\n",
       "      <th>msg_clean_tokenized</th>\n",
       "      <th>msg_no_stopword</th>\n",
       "    </tr>\n",
       "  </thead>\n",
       "  <tbody>\n",
       "    <tr>\n",
       "      <th>0</th>\n",
       "      <td>ham</td>\n",
       "      <td>Go until jurong point, crazy.. Available only in bugis n great world la e buffet... Cine there g...</td>\n",
       "      <td>Go until jurong point crazy Available only in bugis n great world la e buffet Cine there got amo...</td>\n",
       "      <td>[go, until, jurong, point, crazy, available, only, in, bugis, n, great, world, la, e, buffet, ci...</td>\n",
       "      <td>[go, jurong, point, crazy, available, bugis, n, great, world, la, e, buffet, cine, got, amore, wat]</td>\n",
       "    </tr>\n",
       "    <tr>\n",
       "      <th>1</th>\n",
       "      <td>ham</td>\n",
       "      <td>Ok lar... Joking wif u oni...</td>\n",
       "      <td>Ok lar Joking wif u oni</td>\n",
       "      <td>[ok, lar, joking, wif, u, oni]</td>\n",
       "      <td>[ok, lar, joking, wif, u, oni]</td>\n",
       "    </tr>\n",
       "    <tr>\n",
       "      <th>2</th>\n",
       "      <td>spam</td>\n",
       "      <td>Free entry in 2 a wkly comp to win FA Cup final tkts 21st May 2005. Text FA to 87121 to receive ...</td>\n",
       "      <td>Free entry in 2 a wkly comp to win FA Cup final tkts 21st May 2005 Text FA to 87121 to receive e...</td>\n",
       "      <td>[free, entry, in, 2, a, wkly, comp, to, win, fa, cup, final, tkts, 21st, may, 2005, text, fa, to...</td>\n",
       "      <td>[free, entry, 2, wkly, comp, win, fa, cup, final, tkts, 21st, may, 2005, text, fa, 87121, receiv...</td>\n",
       "    </tr>\n",
       "    <tr>\n",
       "      <th>3</th>\n",
       "      <td>ham</td>\n",
       "      <td>U dun say so early hor... U c already then say...</td>\n",
       "      <td>U dun say so early hor U c already then say</td>\n",
       "      <td>[u, dun, say, so, early, hor, u, c, already, then, say]</td>\n",
       "      <td>[u, dun, say, early, hor, u, c, already, say]</td>\n",
       "    </tr>\n",
       "    <tr>\n",
       "      <th>4</th>\n",
       "      <td>ham</td>\n",
       "      <td>Nah I don't think he goes to usf, he lives around here though</td>\n",
       "      <td>Nah I dont think he goes to usf he lives around here though</td>\n",
       "      <td>[nah, i, dont, think, he, goes, to, usf, he, lives, around, here, though]</td>\n",
       "      <td>[nah, dont, think, goes, usf, lives, around, though]</td>\n",
       "    </tr>\n",
       "  </tbody>\n",
       "</table>\n",
       "</div>"
      ],
      "text/plain": [
       "  label  \\\n",
       "0   ham   \n",
       "1   ham   \n",
       "2  spam   \n",
       "3   ham   \n",
       "4   ham   \n",
       "\n",
       "                                                                                                   msg  \\\n",
       "0  Go until jurong point, crazy.. Available only in bugis n great world la e buffet... Cine there g...   \n",
       "1                                                                        Ok lar... Joking wif u oni...   \n",
       "2  Free entry in 2 a wkly comp to win FA Cup final tkts 21st May 2005. Text FA to 87121 to receive ...   \n",
       "3                                                    U dun say so early hor... U c already then say...   \n",
       "4                                        Nah I don't think he goes to usf, he lives around here though   \n",
       "\n",
       "                                                                                             msg_clean  \\\n",
       "0  Go until jurong point crazy Available only in bugis n great world la e buffet Cine there got amo...   \n",
       "1                                                                              Ok lar Joking wif u oni   \n",
       "2  Free entry in 2 a wkly comp to win FA Cup final tkts 21st May 2005 Text FA to 87121 to receive e...   \n",
       "3                                                          U dun say so early hor U c already then say   \n",
       "4                                          Nah I dont think he goes to usf he lives around here though   \n",
       "\n",
       "                                                                                   msg_clean_tokenized  \\\n",
       "0  [go, until, jurong, point, crazy, available, only, in, bugis, n, great, world, la, e, buffet, ci...   \n",
       "1                                                                       [ok, lar, joking, wif, u, oni]   \n",
       "2  [free, entry, in, 2, a, wkly, comp, to, win, fa, cup, final, tkts, 21st, may, 2005, text, fa, to...   \n",
       "3                                              [u, dun, say, so, early, hor, u, c, already, then, say]   \n",
       "4                            [nah, i, dont, think, he, goes, to, usf, he, lives, around, here, though]   \n",
       "\n",
       "                                                                                       msg_no_stopword  \n",
       "0  [go, jurong, point, crazy, available, bugis, n, great, world, la, e, buffet, cine, got, amore, wat]  \n",
       "1                                                                       [ok, lar, joking, wif, u, oni]  \n",
       "2  [free, entry, 2, wkly, comp, win, fa, cup, final, tkts, 21st, may, 2005, text, fa, 87121, receiv...  \n",
       "3                                                        [u, dun, say, early, hor, u, c, already, say]  \n",
       "4                                                 [nah, dont, think, goes, usf, lives, around, though]  "
      ]
     },
     "execution_count": 42,
     "metadata": {},
     "output_type": "execute_result"
    }
   ],
   "source": [
    "data[\"msg_no_stopword\"] = data['msg_clean_tokenized'].apply(lambda x:remove_stopwords(x))\n",
    "data.head()"
   ]
  },
  {
   "cell_type": "markdown",
   "metadata": {},
   "source": [
    "# 10. Stemming"
   ]
  },
  {
   "cell_type": "code",
   "execution_count": 43,
   "metadata": {},
   "outputs": [],
   "source": [
    "# stemming: find root word\n",
    "# Error in stemming:\n",
    "#     Overstamming:\n",
    "#         Too much word is cut-off(meaning lost) #eg: university, universities, universal, universe consider same word\n",
    "#         2 words of different stems reduced to same stem\n",
    "#     Understemming:\n",
    "#         2 words of same stem mapped to different stems eg; data and datum consider 2 different stem dat, datu\n",
    "\n",
    "# Adv:\n",
    "#     Reduces the corpus of words the model need to work with\n",
    "#     Explicitly correlates words with similar meaning\n",
    "\n",
    "# different types of stemmer:\n",
    "#     Porter stemmer\n",
    "#     Snowball stemmer\n",
    "#     Lancaster stammer\n",
    "#     Regex-based Stemmer"
   ]
  },
  {
   "cell_type": "markdown",
   "metadata": {},
   "source": [
    "# 11.  Porter Stemmer"
   ]
  },
  {
   "cell_type": "code",
   "execution_count": 45,
   "metadata": {
    "scrolled": true
   },
   "outputs": [
    {
     "data": {
      "text/plain": [
       "['MARTIN_EXTENSIONS',\n",
       " 'NLTK_EXTENSIONS',\n",
       " 'ORIGINAL_ALGORITHM',\n",
       " '__abstractmethods__',\n",
       " '__class__',\n",
       " '__delattr__',\n",
       " '__dict__',\n",
       " '__dir__',\n",
       " '__doc__',\n",
       " '__eq__',\n",
       " '__format__',\n",
       " '__ge__',\n",
       " '__getattribute__',\n",
       " '__gt__',\n",
       " '__hash__',\n",
       " '__init__',\n",
       " '__init_subclass__',\n",
       " '__le__',\n",
       " '__lt__',\n",
       " '__module__',\n",
       " '__ne__',\n",
       " '__new__',\n",
       " '__reduce__',\n",
       " '__reduce_ex__',\n",
       " '__repr__',\n",
       " '__setattr__',\n",
       " '__sizeof__',\n",
       " '__str__',\n",
       " '__subclasshook__',\n",
       " '__unicode__',\n",
       " '__weakref__',\n",
       " '_abc_impl',\n",
       " '_apply_rule_list',\n",
       " '_contains_vowel',\n",
       " '_ends_cvc',\n",
       " '_ends_double_consonant',\n",
       " '_has_positive_measure',\n",
       " '_is_consonant',\n",
       " '_measure',\n",
       " '_replace_suffix',\n",
       " '_step1a',\n",
       " '_step1b',\n",
       " '_step1c',\n",
       " '_step2',\n",
       " '_step3',\n",
       " '_step4',\n",
       " '_step5a',\n",
       " '_step5b',\n",
       " 'mode',\n",
       " 'pool',\n",
       " 'stem',\n",
       " 'unicode_repr',\n",
       " 'vowels']"
      ]
     },
     "execution_count": 45,
     "metadata": {},
     "output_type": "execute_result"
    }
   ],
   "source": [
    "import nltk\n",
    "from nltk.stem import PorterStemmer\n",
    "ps = PorterStemmer()\n",
    "dir(ps)"
   ]
  },
  {
   "cell_type": "code",
   "execution_count": 46,
   "metadata": {},
   "outputs": [
    {
     "name": "stdout",
     "output_type": "stream",
     "text": [
      "coder\n",
      "code\n",
      "code\n"
     ]
    }
   ],
   "source": [
    "print(ps.stem('coder'))\n",
    "print(ps.stem('codeing'))\n",
    "print(ps.stem('code'))"
   ]
  },
  {
   "cell_type": "code",
   "execution_count": 47,
   "metadata": {},
   "outputs": [
    {
     "name": "stdout",
     "output_type": "stream",
     "text": [
      "data\n",
      "datum\n"
     ]
    }
   ],
   "source": [
    "print(ps.stem('data'))\n",
    "print(ps.stem('datum'))"
   ]
  },
  {
   "cell_type": "code",
   "execution_count": 48,
   "metadata": {},
   "outputs": [
    {
     "name": "stdout",
     "output_type": "stream",
     "text": [
      "bowl\n",
      "bowl\n",
      "bowler\n"
     ]
    }
   ],
   "source": [
    "print(ps.stem('bowl'))\n",
    "print(ps.stem('bowling'))\n",
    "print(ps.stem('bowler'))"
   ]
  },
  {
   "cell_type": "code",
   "execution_count": 49,
   "metadata": {},
   "outputs": [
    {
     "data": {
      "text/html": [
       "<div>\n",
       "<style scoped>\n",
       "    .dataframe tbody tr th:only-of-type {\n",
       "        vertical-align: middle;\n",
       "    }\n",
       "\n",
       "    .dataframe tbody tr th {\n",
       "        vertical-align: top;\n",
       "    }\n",
       "\n",
       "    .dataframe thead th {\n",
       "        text-align: right;\n",
       "    }\n",
       "</style>\n",
       "<table border=\"1\" class=\"dataframe\">\n",
       "  <thead>\n",
       "    <tr style=\"text-align: right;\">\n",
       "      <th></th>\n",
       "      <th>label</th>\n",
       "      <th>msg</th>\n",
       "      <th>msg_clean</th>\n",
       "      <th>msg_clean_tokenized</th>\n",
       "      <th>msg_no_stopword</th>\n",
       "    </tr>\n",
       "  </thead>\n",
       "  <tbody>\n",
       "    <tr>\n",
       "      <th>0</th>\n",
       "      <td>ham</td>\n",
       "      <td>Go until jurong point, crazy.. Available only in bugis n great world la e buffet... Cine there g...</td>\n",
       "      <td>Go until jurong point crazy Available only in bugis n great world la e buffet Cine there got amo...</td>\n",
       "      <td>[go, until, jurong, point, crazy, available, only, in, bugis, n, great, world, la, e, buffet, ci...</td>\n",
       "      <td>[go, jurong, point, crazy, available, bugis, n, great, world, la, e, buffet, cine, got, amore, wat]</td>\n",
       "    </tr>\n",
       "    <tr>\n",
       "      <th>1</th>\n",
       "      <td>ham</td>\n",
       "      <td>Ok lar... Joking wif u oni...</td>\n",
       "      <td>Ok lar Joking wif u oni</td>\n",
       "      <td>[ok, lar, joking, wif, u, oni]</td>\n",
       "      <td>[ok, lar, joking, wif, u, oni]</td>\n",
       "    </tr>\n",
       "    <tr>\n",
       "      <th>2</th>\n",
       "      <td>spam</td>\n",
       "      <td>Free entry in 2 a wkly comp to win FA Cup final tkts 21st May 2005. Text FA to 87121 to receive ...</td>\n",
       "      <td>Free entry in 2 a wkly comp to win FA Cup final tkts 21st May 2005 Text FA to 87121 to receive e...</td>\n",
       "      <td>[free, entry, in, 2, a, wkly, comp, to, win, fa, cup, final, tkts, 21st, may, 2005, text, fa, to...</td>\n",
       "      <td>[free, entry, 2, wkly, comp, win, fa, cup, final, tkts, 21st, may, 2005, text, fa, 87121, receiv...</td>\n",
       "    </tr>\n",
       "    <tr>\n",
       "      <th>3</th>\n",
       "      <td>ham</td>\n",
       "      <td>U dun say so early hor... U c already then say...</td>\n",
       "      <td>U dun say so early hor U c already then say</td>\n",
       "      <td>[u, dun, say, so, early, hor, u, c, already, then, say]</td>\n",
       "      <td>[u, dun, say, early, hor, u, c, already, say]</td>\n",
       "    </tr>\n",
       "    <tr>\n",
       "      <th>4</th>\n",
       "      <td>ham</td>\n",
       "      <td>Nah I don't think he goes to usf, he lives around here though</td>\n",
       "      <td>Nah I dont think he goes to usf he lives around here though</td>\n",
       "      <td>[nah, i, dont, think, he, goes, to, usf, he, lives, around, here, though]</td>\n",
       "      <td>[nah, dont, think, goes, usf, lives, around, though]</td>\n",
       "    </tr>\n",
       "  </tbody>\n",
       "</table>\n",
       "</div>"
      ],
      "text/plain": [
       "  label  \\\n",
       "0   ham   \n",
       "1   ham   \n",
       "2  spam   \n",
       "3   ham   \n",
       "4   ham   \n",
       "\n",
       "                                                                                                   msg  \\\n",
       "0  Go until jurong point, crazy.. Available only in bugis n great world la e buffet... Cine there g...   \n",
       "1                                                                        Ok lar... Joking wif u oni...   \n",
       "2  Free entry in 2 a wkly comp to win FA Cup final tkts 21st May 2005. Text FA to 87121 to receive ...   \n",
       "3                                                    U dun say so early hor... U c already then say...   \n",
       "4                                        Nah I don't think he goes to usf, he lives around here though   \n",
       "\n",
       "                                                                                             msg_clean  \\\n",
       "0  Go until jurong point crazy Available only in bugis n great world la e buffet Cine there got amo...   \n",
       "1                                                                              Ok lar Joking wif u oni   \n",
       "2  Free entry in 2 a wkly comp to win FA Cup final tkts 21st May 2005 Text FA to 87121 to receive e...   \n",
       "3                                                          U dun say so early hor U c already then say   \n",
       "4                                          Nah I dont think he goes to usf he lives around here though   \n",
       "\n",
       "                                                                                   msg_clean_tokenized  \\\n",
       "0  [go, until, jurong, point, crazy, available, only, in, bugis, n, great, world, la, e, buffet, ci...   \n",
       "1                                                                       [ok, lar, joking, wif, u, oni]   \n",
       "2  [free, entry, in, 2, a, wkly, comp, to, win, fa, cup, final, tkts, 21st, may, 2005, text, fa, to...   \n",
       "3                                              [u, dun, say, so, early, hor, u, c, already, then, say]   \n",
       "4                            [nah, i, dont, think, he, goes, to, usf, he, lives, around, here, though]   \n",
       "\n",
       "                                                                                       msg_no_stopword  \n",
       "0  [go, jurong, point, crazy, available, bugis, n, great, world, la, e, buffet, cine, got, amore, wat]  \n",
       "1                                                                       [ok, lar, joking, wif, u, oni]  \n",
       "2  [free, entry, 2, wkly, comp, win, fa, cup, final, tkts, 21st, may, 2005, text, fa, 87121, receiv...  \n",
       "3                                                        [u, dun, say, early, hor, u, c, already, say]  \n",
       "4                                                 [nah, dont, think, goes, usf, lives, around, though]  "
      ]
     },
     "execution_count": 49,
     "metadata": {},
     "output_type": "execute_result"
    }
   ],
   "source": [
    "data.head()"
   ]
  },
  {
   "cell_type": "code",
   "execution_count": 50,
   "metadata": {},
   "outputs": [],
   "source": [
    "def stemming(tokenized_text):\n",
    "    text = [ps.stem(word) for word in tokenized_text ]\n",
    "    return text"
   ]
  },
  {
   "cell_type": "code",
   "execution_count": 51,
   "metadata": {},
   "outputs": [
    {
     "data": {
      "text/html": [
       "<div>\n",
       "<style scoped>\n",
       "    .dataframe tbody tr th:only-of-type {\n",
       "        vertical-align: middle;\n",
       "    }\n",
       "\n",
       "    .dataframe tbody tr th {\n",
       "        vertical-align: top;\n",
       "    }\n",
       "\n",
       "    .dataframe thead th {\n",
       "        text-align: right;\n",
       "    }\n",
       "</style>\n",
       "<table border=\"1\" class=\"dataframe\">\n",
       "  <thead>\n",
       "    <tr style=\"text-align: right;\">\n",
       "      <th></th>\n",
       "      <th>label</th>\n",
       "      <th>msg</th>\n",
       "      <th>msg_clean</th>\n",
       "      <th>msg_clean_tokenized</th>\n",
       "      <th>msg_no_stopword</th>\n",
       "      <th>msg_stemmed</th>\n",
       "    </tr>\n",
       "  </thead>\n",
       "  <tbody>\n",
       "    <tr>\n",
       "      <th>0</th>\n",
       "      <td>ham</td>\n",
       "      <td>Go until jurong point, crazy.. Available only in bugis n great world la e buffet... Cine there g...</td>\n",
       "      <td>Go until jurong point crazy Available only in bugis n great world la e buffet Cine there got amo...</td>\n",
       "      <td>[go, until, jurong, point, crazy, available, only, in, bugis, n, great, world, la, e, buffet, ci...</td>\n",
       "      <td>[go, jurong, point, crazy, available, bugis, n, great, world, la, e, buffet, cine, got, amore, wat]</td>\n",
       "      <td>[go, jurong, point, crazi, avail, bugi, n, great, world, la, e, buffet, cine, got, amor, wat]</td>\n",
       "    </tr>\n",
       "    <tr>\n",
       "      <th>1</th>\n",
       "      <td>ham</td>\n",
       "      <td>Ok lar... Joking wif u oni...</td>\n",
       "      <td>Ok lar Joking wif u oni</td>\n",
       "      <td>[ok, lar, joking, wif, u, oni]</td>\n",
       "      <td>[ok, lar, joking, wif, u, oni]</td>\n",
       "      <td>[ok, lar, joke, wif, u, oni]</td>\n",
       "    </tr>\n",
       "    <tr>\n",
       "      <th>2</th>\n",
       "      <td>spam</td>\n",
       "      <td>Free entry in 2 a wkly comp to win FA Cup final tkts 21st May 2005. Text FA to 87121 to receive ...</td>\n",
       "      <td>Free entry in 2 a wkly comp to win FA Cup final tkts 21st May 2005 Text FA to 87121 to receive e...</td>\n",
       "      <td>[free, entry, in, 2, a, wkly, comp, to, win, fa, cup, final, tkts, 21st, may, 2005, text, fa, to...</td>\n",
       "      <td>[free, entry, 2, wkly, comp, win, fa, cup, final, tkts, 21st, may, 2005, text, fa, 87121, receiv...</td>\n",
       "      <td>[free, entri, 2, wkli, comp, win, fa, cup, final, tkt, 21st, may, 2005, text, fa, 87121, receiv,...</td>\n",
       "    </tr>\n",
       "    <tr>\n",
       "      <th>3</th>\n",
       "      <td>ham</td>\n",
       "      <td>U dun say so early hor... U c already then say...</td>\n",
       "      <td>U dun say so early hor U c already then say</td>\n",
       "      <td>[u, dun, say, so, early, hor, u, c, already, then, say]</td>\n",
       "      <td>[u, dun, say, early, hor, u, c, already, say]</td>\n",
       "      <td>[u, dun, say, earli, hor, u, c, alreadi, say]</td>\n",
       "    </tr>\n",
       "    <tr>\n",
       "      <th>4</th>\n",
       "      <td>ham</td>\n",
       "      <td>Nah I don't think he goes to usf, he lives around here though</td>\n",
       "      <td>Nah I dont think he goes to usf he lives around here though</td>\n",
       "      <td>[nah, i, dont, think, he, goes, to, usf, he, lives, around, here, though]</td>\n",
       "      <td>[nah, dont, think, goes, usf, lives, around, though]</td>\n",
       "      <td>[nah, dont, think, goe, usf, live, around, though]</td>\n",
       "    </tr>\n",
       "  </tbody>\n",
       "</table>\n",
       "</div>"
      ],
      "text/plain": [
       "  label  \\\n",
       "0   ham   \n",
       "1   ham   \n",
       "2  spam   \n",
       "3   ham   \n",
       "4   ham   \n",
       "\n",
       "                                                                                                   msg  \\\n",
       "0  Go until jurong point, crazy.. Available only in bugis n great world la e buffet... Cine there g...   \n",
       "1                                                                        Ok lar... Joking wif u oni...   \n",
       "2  Free entry in 2 a wkly comp to win FA Cup final tkts 21st May 2005. Text FA to 87121 to receive ...   \n",
       "3                                                    U dun say so early hor... U c already then say...   \n",
       "4                                        Nah I don't think he goes to usf, he lives around here though   \n",
       "\n",
       "                                                                                             msg_clean  \\\n",
       "0  Go until jurong point crazy Available only in bugis n great world la e buffet Cine there got amo...   \n",
       "1                                                                              Ok lar Joking wif u oni   \n",
       "2  Free entry in 2 a wkly comp to win FA Cup final tkts 21st May 2005 Text FA to 87121 to receive e...   \n",
       "3                                                          U dun say so early hor U c already then say   \n",
       "4                                          Nah I dont think he goes to usf he lives around here though   \n",
       "\n",
       "                                                                                   msg_clean_tokenized  \\\n",
       "0  [go, until, jurong, point, crazy, available, only, in, bugis, n, great, world, la, e, buffet, ci...   \n",
       "1                                                                       [ok, lar, joking, wif, u, oni]   \n",
       "2  [free, entry, in, 2, a, wkly, comp, to, win, fa, cup, final, tkts, 21st, may, 2005, text, fa, to...   \n",
       "3                                              [u, dun, say, so, early, hor, u, c, already, then, say]   \n",
       "4                            [nah, i, dont, think, he, goes, to, usf, he, lives, around, here, though]   \n",
       "\n",
       "                                                                                       msg_no_stopword  \\\n",
       "0  [go, jurong, point, crazy, available, bugis, n, great, world, la, e, buffet, cine, got, amore, wat]   \n",
       "1                                                                       [ok, lar, joking, wif, u, oni]   \n",
       "2  [free, entry, 2, wkly, comp, win, fa, cup, final, tkts, 21st, may, 2005, text, fa, 87121, receiv...   \n",
       "3                                                        [u, dun, say, early, hor, u, c, already, say]   \n",
       "4                                                 [nah, dont, think, goes, usf, lives, around, though]   \n",
       "\n",
       "                                                                                           msg_stemmed  \n",
       "0        [go, jurong, point, crazi, avail, bugi, n, great, world, la, e, buffet, cine, got, amor, wat]  \n",
       "1                                                                         [ok, lar, joke, wif, u, oni]  \n",
       "2  [free, entri, 2, wkli, comp, win, fa, cup, final, tkt, 21st, may, 2005, text, fa, 87121, receiv,...  \n",
       "3                                                        [u, dun, say, earli, hor, u, c, alreadi, say]  \n",
       "4                                                   [nah, dont, think, goe, usf, live, around, though]  "
      ]
     },
     "execution_count": 51,
     "metadata": {},
     "output_type": "execute_result"
    }
   ],
   "source": [
    "data['msg_stemmed'] = data['msg_no_stopword'].apply(lambda x: stemming(x))\n",
    "data.head()"
   ]
  },
  {
   "cell_type": "markdown",
   "metadata": {},
   "source": [
    "# 12 Lemmatization"
   ]
  },
  {
   "cell_type": "code",
   "execution_count": 52,
   "metadata": {},
   "outputs": [],
   "source": [
    "# Lemmatization:\n",
    "#     Process of grouping together the inflected forms of a word to be analyzed as a single root word or lemma\n",
    "#     Unlike Stemming , it reduces the inflected words properly ensuring that the root word belong to the language\n",
    "#     A lemma is canonical form, dictionary form or citation form of set of words"
   ]
  },
  {
   "cell_type": "code",
   "execution_count": 53,
   "metadata": {},
   "outputs": [],
   "source": [
    "# Stemming vs lemmatization\n",
    "# stemming: is faster\n",
    "#     simply chops off the end of word using heuristics\n",
    "#     no understanding of the context\n",
    "# Lemmatization: is typically more accurate\n",
    "#     uses more informed analysis\n",
    "#     always reduces to a dictionary word\n",
    "#     More accurate but computationally expensive\n",
    "    "
   ]
  },
  {
   "cell_type": "markdown",
   "metadata": {},
   "source": [
    "## 13. WordNetLemmatizer"
   ]
  },
  {
   "cell_type": "code",
   "execution_count": 55,
   "metadata": {},
   "outputs": [],
   "source": [
    "import nltk\n",
    "wn = nltk.WordNetLemmatizer()\n",
    "ps = nltk.PorterStemmer()"
   ]
  },
  {
   "cell_type": "code",
   "execution_count": 56,
   "metadata": {},
   "outputs": [
    {
     "name": "stdout",
     "output_type": "stream",
     "text": [
      "goos\n",
      "gees\n"
     ]
    }
   ],
   "source": [
    "print(ps.stem('goose'))\n",
    "print(ps.stem('geese'))"
   ]
  },
  {
   "cell_type": "code",
   "execution_count": 57,
   "metadata": {},
   "outputs": [
    {
     "name": "stdout",
     "output_type": "stream",
     "text": [
      "goose\n",
      "goose\n"
     ]
    }
   ],
   "source": [
    "print(wn.lemmatize('goose'))\n",
    "print(wn.lemmatize('geese'))"
   ]
  },
  {
   "cell_type": "code",
   "execution_count": 58,
   "metadata": {},
   "outputs": [
    {
     "name": "stdout",
     "output_type": "stream",
     "text": [
      "cactus\n",
      "cactus\n"
     ]
    }
   ],
   "source": [
    "print(wn.lemmatize('cactus'))\n",
    "print(wn.lemmatize('cacti'))"
   ]
  },
  {
   "cell_type": "code",
   "execution_count": 59,
   "metadata": {},
   "outputs": [
    {
     "name": "stdout",
     "output_type": "stream",
     "text": [
      "cactu\n",
      "cacti\n"
     ]
    }
   ],
   "source": [
    "print(ps.stem('cactus'))\n",
    "print(ps.stem('cacti'))"
   ]
  },
  {
   "cell_type": "code",
   "execution_count": 60,
   "metadata": {},
   "outputs": [],
   "source": [
    "# read raw text"
   ]
  },
  {
   "cell_type": "code",
   "execution_count": 61,
   "metadata": {},
   "outputs": [
    {
     "data": {
      "text/html": [
       "<div>\n",
       "<style scoped>\n",
       "    .dataframe tbody tr th:only-of-type {\n",
       "        vertical-align: middle;\n",
       "    }\n",
       "\n",
       "    .dataframe tbody tr th {\n",
       "        vertical-align: top;\n",
       "    }\n",
       "\n",
       "    .dataframe thead th {\n",
       "        text-align: right;\n",
       "    }\n",
       "</style>\n",
       "<table border=\"1\" class=\"dataframe\">\n",
       "  <thead>\n",
       "    <tr style=\"text-align: right;\">\n",
       "      <th></th>\n",
       "      <th>label</th>\n",
       "      <th>msg</th>\n",
       "    </tr>\n",
       "  </thead>\n",
       "  <tbody>\n",
       "    <tr>\n",
       "      <th>0</th>\n",
       "      <td>ham</td>\n",
       "      <td>Go until jurong point, crazy.. Available only in bugis n great world la e buffet... Cine there g...</td>\n",
       "    </tr>\n",
       "    <tr>\n",
       "      <th>1</th>\n",
       "      <td>ham</td>\n",
       "      <td>Ok lar... Joking wif u oni...</td>\n",
       "    </tr>\n",
       "    <tr>\n",
       "      <th>2</th>\n",
       "      <td>spam</td>\n",
       "      <td>Free entry in 2 a wkly comp to win FA Cup final tkts 21st May 2005. Text FA to 87121 to receive ...</td>\n",
       "    </tr>\n",
       "    <tr>\n",
       "      <th>3</th>\n",
       "      <td>ham</td>\n",
       "      <td>U dun say so early hor... U c already then say...</td>\n",
       "    </tr>\n",
       "    <tr>\n",
       "      <th>4</th>\n",
       "      <td>ham</td>\n",
       "      <td>Nah I don't think he goes to usf, he lives around here though</td>\n",
       "    </tr>\n",
       "  </tbody>\n",
       "</table>\n",
       "</div>"
      ],
      "text/plain": [
       "  label  \\\n",
       "0   ham   \n",
       "1   ham   \n",
       "2  spam   \n",
       "3   ham   \n",
       "4   ham   \n",
       "\n",
       "                                                                                                   msg  \n",
       "0  Go until jurong point, crazy.. Available only in bugis n great world la e buffet... Cine there g...  \n",
       "1                                                                        Ok lar... Joking wif u oni...  \n",
       "2  Free entry in 2 a wkly comp to win FA Cup final tkts 21st May 2005. Text FA to 87121 to receive ...  \n",
       "3                                                    U dun say so early hor... U c already then say...  \n",
       "4                                        Nah I don't think he goes to usf, he lives around here though  "
      ]
     },
     "execution_count": 61,
     "metadata": {},
     "output_type": "execute_result"
    }
   ],
   "source": [
    "import pandas as pd\n",
    "import re\n",
    "import string\n",
    "pd.set_option('display.max_colwidth', 100)\n",
    "stopwords = nltk.corpus.stopwords.words(\"english\")\n",
    "data = pd.read_csv(\"SMSSpamCollection\", sep='\\t', header=None)\n",
    "data.columns = ['label', 'msg']\n",
    "data.head()"
   ]
  },
  {
   "cell_type": "code",
   "execution_count": 62,
   "metadata": {},
   "outputs": [],
   "source": [
    "# clean text\n",
    "def clean_txt(txt):\n",
    "    txt = txt_nopunct = ''.join([i for i in txt if i not in string.punctuation])\n",
    "    tokens = re.split('\\W+', txt)\n",
    "    txt = [word for word in tokens if word not in stopwords]\n",
    "    return txt"
   ]
  },
  {
   "cell_type": "code",
   "execution_count": 63,
   "metadata": {},
   "outputs": [
    {
     "data": {
      "text/html": [
       "<div>\n",
       "<style scoped>\n",
       "    .dataframe tbody tr th:only-of-type {\n",
       "        vertical-align: middle;\n",
       "    }\n",
       "\n",
       "    .dataframe tbody tr th {\n",
       "        vertical-align: top;\n",
       "    }\n",
       "\n",
       "    .dataframe thead th {\n",
       "        text-align: right;\n",
       "    }\n",
       "</style>\n",
       "<table border=\"1\" class=\"dataframe\">\n",
       "  <thead>\n",
       "    <tr style=\"text-align: right;\">\n",
       "      <th></th>\n",
       "      <th>label</th>\n",
       "      <th>msg</th>\n",
       "      <th>msg_nostop</th>\n",
       "    </tr>\n",
       "  </thead>\n",
       "  <tbody>\n",
       "    <tr>\n",
       "      <th>0</th>\n",
       "      <td>ham</td>\n",
       "      <td>Go until jurong point, crazy.. Available only in bugis n great world la e buffet... Cine there g...</td>\n",
       "      <td>[Go, jurong, point, crazy, Available, bugis, n, great, world, la, e, buffet, Cine, got, amore, wat]</td>\n",
       "    </tr>\n",
       "    <tr>\n",
       "      <th>1</th>\n",
       "      <td>ham</td>\n",
       "      <td>Ok lar... Joking wif u oni...</td>\n",
       "      <td>[Ok, lar, Joking, wif, u, oni]</td>\n",
       "    </tr>\n",
       "    <tr>\n",
       "      <th>2</th>\n",
       "      <td>spam</td>\n",
       "      <td>Free entry in 2 a wkly comp to win FA Cup final tkts 21st May 2005. Text FA to 87121 to receive ...</td>\n",
       "      <td>[Free, entry, 2, wkly, comp, win, FA, Cup, final, tkts, 21st, May, 2005, Text, FA, 87121, receiv...</td>\n",
       "    </tr>\n",
       "    <tr>\n",
       "      <th>3</th>\n",
       "      <td>ham</td>\n",
       "      <td>U dun say so early hor... U c already then say...</td>\n",
       "      <td>[U, dun, say, early, hor, U, c, already, say]</td>\n",
       "    </tr>\n",
       "    <tr>\n",
       "      <th>4</th>\n",
       "      <td>ham</td>\n",
       "      <td>Nah I don't think he goes to usf, he lives around here though</td>\n",
       "      <td>[Nah, I, dont, think, goes, usf, lives, around, though]</td>\n",
       "    </tr>\n",
       "  </tbody>\n",
       "</table>\n",
       "</div>"
      ],
      "text/plain": [
       "  label  \\\n",
       "0   ham   \n",
       "1   ham   \n",
       "2  spam   \n",
       "3   ham   \n",
       "4   ham   \n",
       "\n",
       "                                                                                                   msg  \\\n",
       "0  Go until jurong point, crazy.. Available only in bugis n great world la e buffet... Cine there g...   \n",
       "1                                                                        Ok lar... Joking wif u oni...   \n",
       "2  Free entry in 2 a wkly comp to win FA Cup final tkts 21st May 2005. Text FA to 87121 to receive ...   \n",
       "3                                                    U dun say so early hor... U c already then say...   \n",
       "4                                        Nah I don't think he goes to usf, he lives around here though   \n",
       "\n",
       "                                                                                            msg_nostop  \n",
       "0  [Go, jurong, point, crazy, Available, bugis, n, great, world, la, e, buffet, Cine, got, amore, wat]  \n",
       "1                                                                       [Ok, lar, Joking, wif, u, oni]  \n",
       "2  [Free, entry, 2, wkly, comp, win, FA, Cup, final, tkts, 21st, May, 2005, Text, FA, 87121, receiv...  \n",
       "3                                                        [U, dun, say, early, hor, U, c, already, say]  \n",
       "4                                              [Nah, I, dont, think, goes, usf, lives, around, though]  "
      ]
     },
     "execution_count": 63,
     "metadata": {},
     "output_type": "execute_result"
    }
   ],
   "source": [
    "data['msg_nostop'] = data['msg'].apply(lambda x: clean_txt(x))\n",
    "data.head()"
   ]
  },
  {
   "cell_type": "code",
   "execution_count": 64,
   "metadata": {},
   "outputs": [],
   "source": [
    "# lemmatization\n",
    "def lemmatization(token_txt):\n",
    "    text = [wn.lemmatize(word) for word in token_txt]\n",
    "    return text"
   ]
  },
  {
   "cell_type": "code",
   "execution_count": 65,
   "metadata": {},
   "outputs": [
    {
     "data": {
      "text/html": [
       "<div>\n",
       "<style scoped>\n",
       "    .dataframe tbody tr th:only-of-type {\n",
       "        vertical-align: middle;\n",
       "    }\n",
       "\n",
       "    .dataframe tbody tr th {\n",
       "        vertical-align: top;\n",
       "    }\n",
       "\n",
       "    .dataframe thead th {\n",
       "        text-align: right;\n",
       "    }\n",
       "</style>\n",
       "<table border=\"1\" class=\"dataframe\">\n",
       "  <thead>\n",
       "    <tr style=\"text-align: right;\">\n",
       "      <th></th>\n",
       "      <th>label</th>\n",
       "      <th>msg</th>\n",
       "      <th>msg_nostop</th>\n",
       "      <th>msg_lemmatized</th>\n",
       "    </tr>\n",
       "  </thead>\n",
       "  <tbody>\n",
       "    <tr>\n",
       "      <th>0</th>\n",
       "      <td>ham</td>\n",
       "      <td>Go until jurong point, crazy.. Available only in bugis n great world la e buffet... Cine there g...</td>\n",
       "      <td>[Go, jurong, point, crazy, Available, bugis, n, great, world, la, e, buffet, Cine, got, amore, wat]</td>\n",
       "      <td>[Go, jurong, point, crazy, Available, bugis, n, great, world, la, e, buffet, Cine, got, amore, wat]</td>\n",
       "    </tr>\n",
       "    <tr>\n",
       "      <th>1</th>\n",
       "      <td>ham</td>\n",
       "      <td>Ok lar... Joking wif u oni...</td>\n",
       "      <td>[Ok, lar, Joking, wif, u, oni]</td>\n",
       "      <td>[Ok, lar, Joking, wif, u, oni]</td>\n",
       "    </tr>\n",
       "    <tr>\n",
       "      <th>2</th>\n",
       "      <td>spam</td>\n",
       "      <td>Free entry in 2 a wkly comp to win FA Cup final tkts 21st May 2005. Text FA to 87121 to receive ...</td>\n",
       "      <td>[Free, entry, 2, wkly, comp, win, FA, Cup, final, tkts, 21st, May, 2005, Text, FA, 87121, receiv...</td>\n",
       "      <td>[Free, entry, 2, wkly, comp, win, FA, Cup, final, tkts, 21st, May, 2005, Text, FA, 87121, receiv...</td>\n",
       "    </tr>\n",
       "    <tr>\n",
       "      <th>3</th>\n",
       "      <td>ham</td>\n",
       "      <td>U dun say so early hor... U c already then say...</td>\n",
       "      <td>[U, dun, say, early, hor, U, c, already, say]</td>\n",
       "      <td>[U, dun, say, early, hor, U, c, already, say]</td>\n",
       "    </tr>\n",
       "    <tr>\n",
       "      <th>4</th>\n",
       "      <td>ham</td>\n",
       "      <td>Nah I don't think he goes to usf, he lives around here though</td>\n",
       "      <td>[Nah, I, dont, think, goes, usf, lives, around, though]</td>\n",
       "      <td>[Nah, I, dont, think, go, usf, life, around, though]</td>\n",
       "    </tr>\n",
       "  </tbody>\n",
       "</table>\n",
       "</div>"
      ],
      "text/plain": [
       "  label  \\\n",
       "0   ham   \n",
       "1   ham   \n",
       "2  spam   \n",
       "3   ham   \n",
       "4   ham   \n",
       "\n",
       "                                                                                                   msg  \\\n",
       "0  Go until jurong point, crazy.. Available only in bugis n great world la e buffet... Cine there g...   \n",
       "1                                                                        Ok lar... Joking wif u oni...   \n",
       "2  Free entry in 2 a wkly comp to win FA Cup final tkts 21st May 2005. Text FA to 87121 to receive ...   \n",
       "3                                                    U dun say so early hor... U c already then say...   \n",
       "4                                        Nah I don't think he goes to usf, he lives around here though   \n",
       "\n",
       "                                                                                            msg_nostop  \\\n",
       "0  [Go, jurong, point, crazy, Available, bugis, n, great, world, la, e, buffet, Cine, got, amore, wat]   \n",
       "1                                                                       [Ok, lar, Joking, wif, u, oni]   \n",
       "2  [Free, entry, 2, wkly, comp, win, FA, Cup, final, tkts, 21st, May, 2005, Text, FA, 87121, receiv...   \n",
       "3                                                        [U, dun, say, early, hor, U, c, already, say]   \n",
       "4                                              [Nah, I, dont, think, goes, usf, lives, around, though]   \n",
       "\n",
       "                                                                                        msg_lemmatized  \n",
       "0  [Go, jurong, point, crazy, Available, bugis, n, great, world, la, e, buffet, Cine, got, amore, wat]  \n",
       "1                                                                       [Ok, lar, Joking, wif, u, oni]  \n",
       "2  [Free, entry, 2, wkly, comp, win, FA, Cup, final, tkts, 21st, May, 2005, Text, FA, 87121, receiv...  \n",
       "3                                                        [U, dun, say, early, hor, U, c, already, say]  \n",
       "4                                                 [Nah, I, dont, think, go, usf, life, around, though]  "
      ]
     },
     "execution_count": 65,
     "metadata": {},
     "output_type": "execute_result"
    }
   ],
   "source": [
    "data['msg_lemmatized'] = data['msg_nostop'].apply(lambda x : lemmatization(x))\n",
    "data.head()"
   ]
  },
  {
   "cell_type": "markdown",
   "metadata": {},
   "source": [
    "# 14. Vectorization"
   ]
  },
  {
   "cell_type": "code",
   "execution_count": 66,
   "metadata": {},
   "outputs": [],
   "source": [
    "# Vectorization:\n",
    "#     Process of encoding text as integers to ceate Feature Vector\n",
    "#     Feature Vector: vector of numerical features that represent an object\n",
    "# Types:\n",
    "#     count vectorization\n",
    "#     N-gram\n",
    "#     TF-IDF"
   ]
  },
  {
   "cell_type": "code",
   "execution_count": 67,
   "metadata": {},
   "outputs": [],
   "source": [
    "# Count vectorization:\n",
    "# w1 w2 w3 ... w100  label\n",
    "# 0  1  2       0      0\n",
    "# 2  0  1       1      1"
   ]
  },
  {
   "cell_type": "markdown",
   "metadata": {},
   "source": [
    "# 15. Count Vectorization"
   ]
  },
  {
   "cell_type": "code",
   "execution_count": 69,
   "metadata": {},
   "outputs": [
    {
     "data": {
      "text/html": [
       "<div>\n",
       "<style scoped>\n",
       "    .dataframe tbody tr th:only-of-type {\n",
       "        vertical-align: middle;\n",
       "    }\n",
       "\n",
       "    .dataframe tbody tr th {\n",
       "        vertical-align: top;\n",
       "    }\n",
       "\n",
       "    .dataframe thead th {\n",
       "        text-align: right;\n",
       "    }\n",
       "</style>\n",
       "<table border=\"1\" class=\"dataframe\">\n",
       "  <thead>\n",
       "    <tr style=\"text-align: right;\">\n",
       "      <th></th>\n",
       "      <th>label</th>\n",
       "      <th>msg</th>\n",
       "    </tr>\n",
       "  </thead>\n",
       "  <tbody>\n",
       "    <tr>\n",
       "      <th>0</th>\n",
       "      <td>ham</td>\n",
       "      <td>Go until jurong point, crazy.. Available only in bugis n great world la e buffet... Cine there g...</td>\n",
       "    </tr>\n",
       "    <tr>\n",
       "      <th>1</th>\n",
       "      <td>ham</td>\n",
       "      <td>Ok lar... Joking wif u oni...</td>\n",
       "    </tr>\n",
       "    <tr>\n",
       "      <th>2</th>\n",
       "      <td>spam</td>\n",
       "      <td>Free entry in 2 a wkly comp to win FA Cup final tkts 21st May 2005. Text FA to 87121 to receive ...</td>\n",
       "    </tr>\n",
       "    <tr>\n",
       "      <th>3</th>\n",
       "      <td>ham</td>\n",
       "      <td>U dun say so early hor... U c already then say...</td>\n",
       "    </tr>\n",
       "    <tr>\n",
       "      <th>4</th>\n",
       "      <td>ham</td>\n",
       "      <td>Nah I don't think he goes to usf, he lives around here though</td>\n",
       "    </tr>\n",
       "  </tbody>\n",
       "</table>\n",
       "</div>"
      ],
      "text/plain": [
       "  label  \\\n",
       "0   ham   \n",
       "1   ham   \n",
       "2  spam   \n",
       "3   ham   \n",
       "4   ham   \n",
       "\n",
       "                                                                                                   msg  \n",
       "0  Go until jurong point, crazy.. Available only in bugis n great world la e buffet... Cine there g...  \n",
       "1                                                                        Ok lar... Joking wif u oni...  \n",
       "2  Free entry in 2 a wkly comp to win FA Cup final tkts 21st May 2005. Text FA to 87121 to receive ...  \n",
       "3                                                    U dun say so early hor... U c already then say...  \n",
       "4                                        Nah I don't think he goes to usf, he lives around here though  "
      ]
     },
     "execution_count": 69,
     "metadata": {},
     "output_type": "execute_result"
    }
   ],
   "source": [
    "import pandas as pd\n",
    "import re\n",
    "import string\n",
    "pd.set_option('display.max_colwidth', 100)\n",
    "stopwords = nltk.corpus.stopwords.words(\"english\")\n",
    "data = pd.read_csv(\"SMSSpamCollection\", sep='\\t', header=None)\n",
    "data.columns = ['label', 'msg']\n",
    "data.head()"
   ]
  },
  {
   "cell_type": "code",
   "execution_count": 70,
   "metadata": {},
   "outputs": [],
   "source": [
    "# clean text\n",
    "def clean_text(txt):\n",
    "    txt = ''.join([i for i in txt if i not in string.punctuation])\n",
    "    tokens = re.split('\\W+', txt)\n",
    "    txt = [word for word in tokens if word not in stopwords]\n",
    "    return txt"
   ]
  },
  {
   "cell_type": "code",
   "execution_count": 71,
   "metadata": {},
   "outputs": [],
   "source": [
    "# count vectorization"
   ]
  },
  {
   "cell_type": "code",
   "execution_count": 72,
   "metadata": {},
   "outputs": [
    {
     "name": "stdout",
     "output_type": "stream",
     "text": [
      "{'this': 6, 'is': 3, 'sentence': 4, 'another': 0, 'third': 5, 'document': 1, 'here': 2}\n",
      "['another', 'document', 'here', 'is', 'sentence', 'third', 'this']\n",
      "(3, 7)\n",
      "[[0 0 0 2 1 0 1]\n",
      " [1 0 0 1 1 0 1]\n",
      " [0 1 1 1 0 1 0]]\n"
     ]
    }
   ],
   "source": [
    "from sklearn.feature_extraction.text import CountVectorizer\n",
    "cv =  CountVectorizer()\n",
    "corpus = [\"This is s sentence is\",\n",
    "          \"This is a another sentence\",\n",
    "          \"third document is here\"]\n",
    "X = cv.fit(corpus)\n",
    "print(X.vocabulary_)\n",
    "print(cv.get_feature_names())\n",
    "\n",
    "X = cv.transform(corpus)\n",
    "print(X.shape)\n",
    "print(X.toarray())"
   ]
  },
  {
   "cell_type": "code",
   "execution_count": 73,
   "metadata": {},
   "outputs": [
    {
     "data": {
      "text/html": [
       "<div>\n",
       "<style scoped>\n",
       "    .dataframe tbody tr th:only-of-type {\n",
       "        vertical-align: middle;\n",
       "    }\n",
       "\n",
       "    .dataframe tbody tr th {\n",
       "        vertical-align: top;\n",
       "    }\n",
       "\n",
       "    .dataframe thead th {\n",
       "        text-align: right;\n",
       "    }\n",
       "</style>\n",
       "<table border=\"1\" class=\"dataframe\">\n",
       "  <thead>\n",
       "    <tr style=\"text-align: right;\">\n",
       "      <th></th>\n",
       "      <th>another</th>\n",
       "      <th>document</th>\n",
       "      <th>here</th>\n",
       "      <th>is</th>\n",
       "      <th>sentence</th>\n",
       "      <th>third</th>\n",
       "      <th>this</th>\n",
       "    </tr>\n",
       "  </thead>\n",
       "  <tbody>\n",
       "    <tr>\n",
       "      <th>0</th>\n",
       "      <td>0</td>\n",
       "      <td>0</td>\n",
       "      <td>0</td>\n",
       "      <td>2</td>\n",
       "      <td>1</td>\n",
       "      <td>0</td>\n",
       "      <td>1</td>\n",
       "    </tr>\n",
       "    <tr>\n",
       "      <th>1</th>\n",
       "      <td>1</td>\n",
       "      <td>0</td>\n",
       "      <td>0</td>\n",
       "      <td>1</td>\n",
       "      <td>1</td>\n",
       "      <td>0</td>\n",
       "      <td>1</td>\n",
       "    </tr>\n",
       "    <tr>\n",
       "      <th>2</th>\n",
       "      <td>0</td>\n",
       "      <td>1</td>\n",
       "      <td>1</td>\n",
       "      <td>1</td>\n",
       "      <td>0</td>\n",
       "      <td>1</td>\n",
       "      <td>0</td>\n",
       "    </tr>\n",
       "  </tbody>\n",
       "</table>\n",
       "</div>"
      ],
      "text/plain": [
       "   another  document  here  is  sentence  third  this\n",
       "0        0         0     0   2         1      0     1\n",
       "1        1         0     0   1         1      0     1\n",
       "2        0         1     1   1         0      1     0"
      ]
     },
     "execution_count": 73,
     "metadata": {},
     "output_type": "execute_result"
    }
   ],
   "source": [
    "df = pd.DataFrame(X.toarray(), columns = cv.get_feature_names())\n",
    "df"
   ]
  },
  {
   "cell_type": "code",
   "execution_count": 74,
   "metadata": {},
   "outputs": [],
   "source": [
    "# counter vectorization on SMSSpamCollection"
   ]
  },
  {
   "cell_type": "code",
   "execution_count": 75,
   "metadata": {},
   "outputs": [
    {
     "name": "stdout",
     "output_type": "stream",
     "text": [
      "(5572, 11525)\n"
     ]
    }
   ],
   "source": [
    "cv1 = CountVectorizer(analyzer=clean_text)\n",
    "\n",
    "X = cv1.fit_transform(data['msg'])\n",
    "print(X.shape)"
   ]
  },
  {
   "cell_type": "code",
   "execution_count": 76,
   "metadata": {},
   "outputs": [
    {
     "name": "stdout",
     "output_type": "stream",
     "text": [
      "['', '0', '008704050406', '0089my', '0121', '01223585236', '01223585334', '0125698789', '02', '020603', '0207', '02070836089', '02072069400', '02073162414', '02085076972', '020903', '021', '050703', '0578', '06', '060505', '061104', '07008009200', '07046744435', '07090201529', '07090298926', '07099833605', '071104', '07123456789', '0721072', '07732584351', '07734396839', '07742676969', '07753741225', '0776xxxxxxx', '07786200117', '077xxx', '078', '07801543489', '07808', '07808247860', '07808726822', '07815296484', '07821230901', '0784987', '0789xxxxxxx', '0794674629107880867867', '0796XXXXXX', '07973788240', '07XXXXXXXXX', '07xxxxxxxxx', '0800', '08000407165', '08000776320', '08000839402', '08000930705', '08000938767', '08001950382', '08002888812', '08002986030', '08002986906', '08002988890', '08006344447', '0808', '08081263000', '08081560665', '0825', '0844', '08448350055', '08448714184', '0845', '08450542832', '08452810071', '08452810073', '08452810075over18s', '0870', '08700621170150p', '08701213186', '08701237397', '08701417012', '08701417012150p', '0870141701216', '087016248', '08701752560', '087018728737', '0870241182716', '08702490080', '08702840625', '08702840625COMUK', '08704439680', '08704439680TsCs', '08706091795', '0870737910216yrs', '08707500020', '08707509020', '0870753331018', '08707808226', '08708034412', '08708800282', '08709222922', '08709501522', '0870k', '087104711148', '08712101358', '08712103738', '0871212025016', '08712300220', '087123002209am7pm', '08712317606', '08712400200', '08712400603', '08712402050', '08712402578', '08712402779', '08712402902', '08712402972', '08712404000', '08712405020', '08712405022', '08712460324', '08712460324nat', '08712466669', '0871277810710pmin', '0871277810810', '0871277810910pmin', '087143423992stop', '087147123779am7pm', '08714712379', '08714712388', '08714712394', '08714712412', '08714714011', '08714719523', '08715203028', '08715203649', '08715203652', '08715203656', '08715203677', '08715203685', '08715203694', '08715205273', '08715500022', '08715705022', '08717111821', '08717168528', '08717205546', '08717507382', '08717507711', '08717509990', '08717890890', '08717895698', '08717898035', '08718711108', '08718720201', '08718723815', '08718725756', '08718726270', '08718726270150gbpmtmsg18', '08718726970', '08718726971', '08718726978', '087187272008', '08718727868', '08718727870', '08718729755', '08718729758', '08718730555', '08718730666', '08718738001', '08718738002', '08718738034', '08719180219', '08719180248', '08719181259', '08719181503', '08719181513', '08719839835', '08719899217', '08719899229', '08719899230', '09041940223', '09050000301', '09050000332', '09050000460', '09050000555', '09050000878', '09050000928', '09050001295', '09050001808', '09050002311', '09050003091', '09050005321', '09050090044', '09050280520', '09053750005', '09056242159', '09057039994', '09058091854', '09058091870', '09058094454', '09058094455', '09058094507', '09058094565', '09058094583', '09058094594', '09058094597', '09058094599', '09058095107', '09058095201', '09058097189', '09058097218', '09058098002', '09058099801', '09061104276', '09061104283', '09061209465', '09061213237', '09061221061', '09061221066', '09061701444', '09061701461', '09061701851', '09061701939', '09061702893', '09061743386', '09061743806', '09061743810', '09061743811', '09061744553', '09061749602', '09061790121', '09061790125', '09061790126', '09063440451', '09063442151', '09063458130', '0906346330', '09064011000', '09064012103', '09064012160', '09064015307', '09064017295', '09064017305', '09064018838', '09064019014', '09064019788', '09065069120', '09065069154', '09065171142stopsms08', '09065171142stopsms08718727870150ppm', '09065174042', '09065394514', '09065394973', '09065989180', '09065989182', '09066350750', '09066358152', '09066358361', '09066361921', '09066362206', '09066362220', '09066362231', '09066364311', '09066364349', '09066364589', '09066368327', '09066368470', '09066368753', '09066380611', '09066382422', '09066612661', '09066649731from', '09066660100', '09071512432', '09071512433', '09071517866', '09077818151', '09090204448', '09090900040', '09094100151', '09094646631', '09094646899', '09095350301', '09096102316', '09099725823', '09099726395', '09099726429', '09099726481', '09099726553', '09111030116', '09111032124', '09701213186', '0ANETWORKS', '1', '10', '100', '1000', '10000', '100000', '1000CALL', '1000s', '100603', '100pSMS', '100s', '1010', '1013', '101mega', '1030', '10803', '10K', '10am', '10am7pm', '10am9pm', '10k', '10p', '10pmin', '10ppm', '10th', '11', '1120', '113', '1131', '11414', '1146', '1148', '116', '1172', '118pmsg', '11mths', '12', '120', '12000pes', '1205', '121', '1225', '123', '1230', '125', '1250', '125gift', '128', '12Mths', '12hours', '12hrs', '12mths', '12price', '13', '130', '131004', '1327', '13404', '139', '140', '1405', '140ppm', '145', '1450', '146tf150p', '14thMarch', '150', '1500', '150Mtmsgrcvd18', '150P', '150PPM', '150ea', '150moreFrmMob', '150msg', '150p', '150pMSGRCVD', '150pMTmsg', '150pMsg', '150pMsgrcvdHGSuite3422LandsRowW1J6HL', '150pMt', '150pMtmsgrcvd18', '150pSMS', '150pday', '150perWKsub', '150perweeksub', '150pm', '150pmeg', '150pmin', '150pmmorefrommobile2BremovedMobyPOBox734LS27YF', '150pmsg', '150ppermessSubscription', '150ppm', '150ppmPOBox10183BhamB64XE', '150ppmsg', '150prcvd', '150ptext', '150ptone', '150pw', '150pwk', '150rcvd', '150week', '150wk', '151', '1526', '153', '15541', '15pmin', '16', '1680', '169', '16only', '177', '18', '180', '181104', '1843', '186', '18only', '18ptxt', '18yrs', '195', '1956669', '1AppleDayNo', '1Cup', '1DA', '1ER', '1Hanuman', '1His', '1IM', '1LemonDayNo', '1McFlyAll', '1Tulsi', '1U', '1Unbreakable', '1Winaweek', '1Winawk', '1YF', '1childish', '1hr', '1million', '1minMobsmore', '1minMobsmoreLKPOBOX177HP51FL', '1minmoremobsEMSPOBox45PO139WA', '1month', '1pm', '1s', '1st', '1st4Terms', '1stchoicecouk', '1stone', '1u', '1x150pwk', '2', '20', '200', '2000', '20000', '2003', '2004', '2005', '2006', '2007', '2025050', '20F', '20M12AQ', '20p', '20pmin', '21', '211104', '215', '21870000Hi', '21m', '21st', '22', '220CM2', '23', '2309', '230ish', '24', '241', '241004', '247MP', '24Hrs', '24M', '24hrs', '24th', '25', '250', '250k', '255', '25F', '25p', '260305', '261004', '261104', '2667', '26th', '2703', '27603', '28', '2814032', '285', '28days', '28th', '28thFebTCs', '290305', '29100', '29M', '2B', '2Bajarangabali', '2C', '2DOCDPLEASE', '2EZ', '2End', '2GETHA', '2GEVA', '2Hook', '2I', '2IM', '2KBSubject', '2MORO', '2MOROW', '2MORRO', '2MRW', '2MWEN', '2NITE', '2NITETELL', '2PX', '2Police', '2StopTx', '2StopTxt', '2U', '2Untamed', '2WATERSHD', '2WT', '2WU', '2When', '2bold', '2channel', '2day', '2daylove', '2exit', '2geva', '2go', '2godid', '2gthr', '2hrs', '2marrow', '2moro', '2morow', '2morro', '2morrow', '2morrowxxxx', '2mro', '2mrw', '2naughty', '2nd', '2nhite', '2nights', '2nite', '2optout', '2optoutD3WV', '2p', '2rcv', '2stop', '2stoptxt', '2u', '2u2', '2waxsto', '2wks', '2years', '2yr', '2yrs', '3', '30', '300', '3000', '300603', '300603tcsBCM4235WC1N3XXcallcost150ppmmobilesvary', '300p', '3030', '30Apr', '30pptxt', '30s', '30th', '31', '3100', '310303', '311004', '31pmsg150p', '32000', '3230', '32323', '326', '32F', '330', '3350', '3365', '350', '3510i', '35p', '3650', '36504', '3680', '3680Offer', '373', '3750', '375max', '38', '391784', '399', '3AJ', '3Cover', '3DB', '3G', '3GBP', '3Lions', '3MOBILE', '3Maruti', '3POUND', '3SS', '3Sentiment', '3U', '3UZ', '3Unkempt', '3Wife', '3XX', '3d', '3days', '3g', '3hrs', '3lp', '3miles', '3mins', '3optical', '3qxj9', '3rd', '3u', '3wk', '3wks', '3x', '4', '40', '400', '400minsCall', '402', '4041', '40411', '40533', '40GB', '40mph', '415', '41685', '41782', '420', '42049', '4217', '42478', '42810', '430', '434', '44', '4403LDNW1A7RW18', '447797706009', '447801259231', '447per', '448712404000Please', '449050000301', '449071512431', '449month', '45', '450', '450Ppw', '450p', '450pw', '45239', '46', '47', '4712', '4742', '48', '4882', '48922', '49557', '4BREKKIE', '4Cook', '4EVA', '4GET', '4JX', '4Lux', '4MY', '4Pavanaputra', '4Press', '4TCtxt', '4U', '4WARD', '4a', '4d', '4eva', '4few', '4fil', '4get', '4give', '4got', '4goten', '4info', '4mths', '4o', '4rowdy', '4some1', '4th', '4thNOVBEHIND', '4the', '4txt120p', '4txtú120', '4u', '4uTxt', '4ui', '4w', '4wrd', '4years', '5', '50', '500', '5000', '500000', '505060', '50award', '50p', '50s', '515', '515pm', '5226', '5249', '526', '528', '530', '532', '54', '542', '545', '5903', '5Gardener', '5Gently', '5I', '5K', '5Sankatmochan', '5Terror', '5WB', '5WE', '5WQ', '5digital', '5free', '5ful', '5ish', '5min', '5mls', '5month', '5p', '5pm', '5th', '5we', '5wkg', '5years', '6', '600', '6031', '60400thousadi', '60P', '60pmin', '61200', '61610', '62220Cncl', '6230', '62468', '62735', '630', '63miles', '645', '645pm', '650', '6669', '67441233', '68866', '69101', '69200', '69669', '69696', '69698', '69855', '6986618', '69876', '69888', '69888Nyt', '69911', '69969', '69988', '6Cruel', '6HL', '6HouseMaid', '6Ramaduth', '6WU', '6ZF', '6days', '6hrs', '6ish', '6missed', '6months', '6pm', '6romantic', '6th', '6times', '7', '700', '71', '725', '7250', '7250i', '730', '730ish', '730pm', '731', '74355', '750', '75000', '7548', '7634', '7684', '7732584351', '78', '786', '7876150ppm', '78pmin', '79', '7Children', '7Mahaveer', '7Romantic', '7WS', '7ZS', '7am', '7cfca1a', '7ish', '7oz', '7pm', '7shy', '7th', '8', '800', '8000930705', '80062', '8007', '80082', '80086', '80122300pwk', '80155', '80160', '80182', '8027', '80488', '80488biz', '80608', '8077', '80878', '80s', '81010', '81151', '81303', '81618', '816183', '82242', '82277', '82277unsub', '82324', '82468', '830', '83021', '83039', '83049', '83110', '83118', '83222', '83332Please', '83338', '83355', '83370', '83383', '83435', '83600', '83738', '84', '84025', '84122', '84128', '84128custcare', '84199', '84484', '85', '850', '85023', '85069', '85222', '85233', '8552', '85555', '86021', '861', '863', '864233', '86688', '86888', '87021', '87066', '87070', '87077', '87121', '87131', '8714714', '87239', '87575', '8800', '88039', '88039SkilGmeTsCs087147403231WinawkAge16', '88066', '88088', '88222', '8830', '88600', '88800', '8883', '88877', '88877FREE', '88888', '89034', '89070', '89080', '89105', '89123', '89545', '89555', '89693', '89938', '8Attractive', '8Ball', '8Lovable', '8Neighbour', '8WP', '8am', '8hr', '8lb', '8o', '8pm', '8th', '9', '900', '9061100010', '9153', '924', '92H', '930', '945', '946', '95pax', '96', '97N7QP', '98321561', '9996', '9AE', '9YT', '9am', '9am11pm', '9decent', '9funny', '9ja', '9pm', '9t', '9th', 'A', 'A21', 'ABOUT', 'ABOUTAS', 'ABTA', 'ACCEPT', 'ACL03530150PM', 'ACTION', 'ACTUALLY', 'AD', 'ADAM', 'ADDAMSFA', 'ADP', 'ADRINK', 'AFEW', 'AFTER', 'AFTERNOON', 'AG', 'AGAIN', 'AGAINST', 'AGAINcall', 'AGE', 'AGESRING', 'AGO', 'AGOCUSOON', 'AGreen', 'AH', 'AIG', 'AINT', 'AL', 'ALERT', 'ALETTER', 'ALEX', 'ALL', 'ALRITE', 'ALSO', 'ALWAYS', 'AM', 'AMY', 'AN', 'ANAL', 'AND', 'ANNIE', 'ANS', 'ANSWER', 'ANTELOPE', 'ANYTHING', 'AOM', 'APPY', 'APRIL', 'ARE', 'AREA', 'ARIES', 'AROUND', 'ARR', 'AS', 'ASAP', 'ASKED', 'ASLEEP', 'ASTHERE', 'ASUSUAL1', 'AT', 'AUCTION', 'AUGUST', 'AV', 'AVA', 'AVE', 'AVENT', 'AWAITING', 'AWARD', 'AXIS', 'Aah', 'Aaniye', 'Aaooooright', 'Ab', 'Abbey', 'Abeg', 'Aberdeen', 'Abiola', 'About', 'Abt', 'Accept', 'Accident', 'AccommodationVouchers', 'Account', 'Accounts', 'Ache', 'Acnt', 'AcoEntry41', 'Activate', 'Active', 'Actually', 'Address', 'Admirer', 'Adrian', 'Adult', 'Aeronautics', 'Affectionate', 'Affectionsamp', 'Aft', 'After', 'AfterNoon', 'Afternoon', 'Afternoons', 'Aftr', 'Again', 'Agalla', 'Age', 'Ages', 'Ah', 'Ahhh', 'Ahhhhjust', 'Ahmad', 'Aight', 'Air', 'Airtel', 'Aiya', 'Aiyah', 'Aiyar', 'Aiyo', 'Aka', 'AkonLonely', 'Al', 'AlaikkumPride', 'Alaipayuthe', 'Aldrine', 'AlertFrom', 'Alex', 'Alfie', 'Algarve', 'All', 'AllahRakhesh', 'Allahmeet', 'Allo', 'Almost', 'Already', 'Alright', 'Alrite', 'Also', 'Although', 'Always', 'Alwys', 'Am', 'Amanda', 'Amazing', 'Ambrithmaduraimet', 'American', 'Ami', 'Amrca', 'Amrita', 'Amy', 'An', 'And', 'Annoying', 'Another', 'Any', 'Anyone', 'Anything', 'Anytime', 'Anyway', 'Anyways', 'Apart', 'Apnt', 'Apo', 'Apparently', 'Apply', 'Apps', 'Appt', 'ArPraveesh', 'Arabian', 'Arcade', 'Ard', 'Are', 'Argh', 'Argument', 'Armand', 'Arms', 'Arngd', 'Arrow', 'Arsenal', 'Arul', 'Arun', 'As', 'Ashley', 'Asian', 'Ask', 'Asking', 'Aslamalaikkuminsha', 'Astronomer', 'At', 'Athletic', 'Atlanta', 'Atlast', 'Atleast', 'Auction', 'Audrey', 'Audrie', 'August', 'Auntie', 'Australia', 'Available', 'Ave', 'Avenge', 'Awarded', 'Awesome', 'Aww', 'Awww', 'Ay', 'B', 'B4', 'B4U', 'BA128NNFWFLY150ppm', 'BABE', 'BABEPROBPOP', 'BABES', 'BABESOZI', 'BABY', 'BABYHOPE', 'BACK', 'BACKWARDS', 'BAHAMAS', 'BAILIFF', 'BAK', 'BANG', 'BANK', 'BANNEDUK', 'BARMED', 'BATH', 'BBC', 'BBDELUXE', 'BBDpooja', 'BBDthts', 'BBlue', 'BCK', 'BCM1896WC1N3XX', 'BCM4284', 'BCMSFWC1N3XX', 'BCozI', 'BE', 'BEAUTIFUL', 'BED', 'BEDROOMLOVE', 'BEEN', 'BEER', 'BEFORE', 'BEGIN', 'BELIEVE', 'BEST', 'BETTER', 'BETTERSN', 'BIDS', 'BIG', 'BILL', 'BILLING', 'BIRD', 'BIRTHDAY', 'BIT', 'BK', 'BLOKE', 'BLOKES', 'BLOODSend', 'BMW', 'BOATIN', 'BONUS', 'BOO', 'BOOKS', 'BORED', 'BORING', 'BORNPLEASE', 'BOUT', 'BOUTxx', 'BOX', 'BOX139', 'BOX334SK38ch', 'BOX385', 'BOX420', 'BOX42WR29C', 'BOX95QU', 'BOX97N7QP', 'BOYF', 'BOYFRIEND', 'BRAND', 'BREAK', 'BREAKIN', 'BREATHE1', 'BRISTOL', 'BROKE', 'BROTHER', 'BSLVYL', 'BT', 'BTHERE', 'BTW', 'BTnational', 'BTnationalrate', 'BTooth', 'BUDDY', 'BUS', 'BUT', 'BUTTHERES', 'BUZ', 'BY', 'BYATCH', 'Baaaaaaaabe', 'Baaaaabe', 'Babe', 'Babes', 'Baby', 'BabyGoodbye', 'Back', 'Bad', 'Badrith', 'Bahamas', 'Ball', 'Balls', 'Bam', 'BangBabes', 'Bani', 'Bank', 'Barbie', 'Barkleys', 'Barry', 'Bbq', 'Bc', 'Bcm', 'Bcoz', 'Bday', 'Be', 'Bears', 'Beautiful', 'Beauty', 'Bec', 'Becaus', 'Because', 'Become', 'Becomes', 'Becoz', 'Been', 'Beer', 'BeerRs', 'Beerage', 'Before', 'Behind', 'Being', 'Belovd', 'Ben', 'Bennys', 'Bergkamp', 'Best', 'Best1', 'Beth', 'Better', 'Beware', 'Big', 'Bill', 'Bin', 'Biola', 'Biro', 'Birthday', 'Bishan', 'Bit', 'Bite', 'Bits', 'Black', 'Blackim', 'Blacko', 'Blank', 'Bless', 'Blind', 'Block', 'Bloody', 'Bloomberg', 'Blu', 'Bluetooth', 'BluetoothHdset', 'Blueu', 'Bob', 'Body', 'Bognor', 'Boltblue', 'Bone', 'Bonus', 'Boo', 'Book', 'Booked', 'Bookmark', 'Boooo', 'Boost', 'Bored', 'Boss', 'Both', 'Bought', 'Box', 'Box1146', 'Box177', 'Box326', 'Box334', 'Box39822', 'Box434SK38WP150PPM18', 'Box61M60', 'Boy', 'Boys', 'Brainless', 'Brandy', 'Bray', 'Brb', 'Brdget', 'Break', 'Breaker', 'Brief', 'Bright', 'Brilliant', 'Bring', 'Bristol', 'British', 'Britney', 'Broadband', 'Brother', 'Brought', 'Browni', 'Bstfrnd', 'Bt', 'Btooth', 'Btw', 'Buffy', 'Bugis', 'Building', 'Bull', 'Burger', 'Burns', 'Busy', 'But', 'Buy', 'Buzz', 'Buzzzz', 'Bx', 'Bx526', 'By', 'Bye', 'C', 'C52', 'CAKE', 'CAL', 'CALL', 'CALLED', 'CALLIN', 'CALM', 'CAME', 'CAMERA', 'CAN', 'CANCEL', 'CANT', 'CARD', 'CARE', 'CAREFUL', 'CARLIE', 'CASH', 'CAT', 'CATCH', 'CAUSE', 'CC', 'CD', 'CDGT', 'CDs', 'CER', 'CERI', 'CHA', 'CHANCE', 'CHARGE', 'CHARITY', 'CHAT', 'CHATLINES', 'CHECKIN', 'CHEER', 'CHEERED', 'CHEERS', 'CHILLIN', 'CHITCHAT', 'CHOSEN', 'CIN', 'CL', 'CLAIM', 'CLAIRE', 'CLUB', 'CLoSE', 'CM', 'CNN', 'COLLECT', 'COLLEGE', 'COME', 'COMIN', 'COMMON', 'COMPETITION', 'COMPLETELY', 'CONCERNED', 'CONTENTION', 'CONTRACT', 'CONVINCED', 'COOL', 'COS', 'COUNTINLOTS', 'CR01327BT', 'CR9', 'CRAZYIN', 'CREDIT', 'CRISISSPK', 'CRO1327', 'CRed', 'CSH11', 'CU', 'CULDNT', 'CUM', 'CUP', 'CUST', 'CUTE', 'CW25WX', 'CaRE', 'Cab', 'Cable', 'Cali', 'Call', 'Call2OptOut674', 'CallFREEFONE', 'Caller', 'Callers', 'Callertune', 'Calling', 'Calls', 'Calls150ppm', 'Camcorder', 'Camera', 'CameraVideo', 'Can', 'Canada', 'Canary', 'Cancel', 'Cancer', 'Cannot', 'Cant', 'Captain', 'Cardiff', 'Care', 'Career', 'Careful', 'Carlos', 'Carlosll', 'Carry', 'Case', 'Cash', 'Cashbincouk', 'Catching', 'Caught', 'Cause', 'Cbe', 'Celebrated', 'Celebrations', 'Centre', 'Cha', 'Chachi', 'Chance', 'Change', 'Channel', 'Charles', 'Chart', 'Chasing', 'Chat', 'Chat80155', 'Cheap', 'Check', 'Checkmate', 'Cheer', 'Cheers', 'Chef', 'Chikku', 'Children', 'Chinatown', 'Chinese', 'Chk', 'Chloe', 'Choose', 'Christians', 'Christmas', 'ChristmasMerry', 'Ciao', 'Cine', 'City', 'Claim', 'Classic', 'Click', 'Clos1', 'Close', 'Club', 'Club4', 'Co', 'CocaCola', 'Code', 'Code4xx26', 'Coffee', 'Cold', 'Colin', 'Colleagues', 'Collect', 'Colour', 'Com', 'Come', 'Comfort', 'Common', 'Companion', 'Company', 'Compass', 'Complete', 'Compliments', 'Concentrate', 'Confidence', 'Congrats', 'Congratulations', 'Consider', 'Contact', 'Content', 'Convey', 'Cool', 'CoolMob', 'Cornwall', 'Correct', 'Cos', 'Cost', 'Costa', 'Costs', 'CougarPen', 'Could', 'Courageous', 'Coz', 'Cozsomtimes', 'Cps', 'Crab', 'Crack', 'Craigslist', 'Cramps', 'Crazy', 'Credit', 'Cribbs', 'Croydon', 'Crucify', 'Crying', 'Cs', 'Ctagg', 'Ctargg', 'Cttargg', 'Ctter', 'Cttergg', 'Cud', 'Cup', 'Cust', 'CustCare08718720201', 'Customer', 'CustomerCare', 'Cut', 'Cute', 'Cutefrnd', 'Cutter', 'Cuz', 'D', 'DA', 'DABOOKS', 'DADS', 'DAMMIT', 'DAN', 'DARLIN', 'DAS', 'DATE', 'DATEBox1282EssexCM61XN', 'DAY', 'DAY2', 'DAYS', 'DAYU', 'DD', 'DE', 'DEAD', 'DECIDED', 'DEF', 'DEFO', 'DEL', 'DENA', 'DETAILS', 'DID', 'DIDN', 'DIDNT', 'DIGITAL', 'DIRTY', 'DIS', 'DISCOUNT', 'DLF', 'DO', 'DOCKS', 'DOES', 'DOESDISCOUNTSHITINNIT', 'DOESNT', 'DOGBREATH', 'DOIN', 'DON', 'DONATE', 'DONE', 'DONT', 'DONTIGNORE', 'DONTPLEASE', 'DOT', 'DOUBLE', 'DOWN', 'DOWNON', 'DPS', 'DRACULA', 'DRAW', 'DREAMS', 'DREAMZ', 'DRINK', 'DRIVE', 'DRUNK', 'DUE', 'DUMB', 'DVD', 'Da', 'Dad', 'Daddy', 'Dai', 'Damn', 'Dan', 'Dare', 'Darling', 'Darren', 'Dasara', 'Dat', 'Date', 'Dates', 'Dating', 'Datz', 'Dave', 'Day', 'De', 'Deal', 'Dear', 'Dear1', 'DearMe', 'Dearregret', 'Dearshall', 'December', 'Declare', 'Deeraj', 'Def', 'Del', 'Delhi', 'Deliver', 'Delivered', 'DeliveredTomorrow', 'Delivery', 'Den', 'Dependable', 'Depends', 'Derp', 'Designation', 'Desires', 'Determined', 'Detroit', 'Devils', 'Dey', 'Dhoni', 'Dial', 'Dick', 'Dictionary', 'Did', 'Didnt', 'Die', 'Digital', 'Dileepthank', 'Din', 'Ding', 'Dino', 'Dint', 'Dips', 'Direct', 'Dirty', 'Dis', 'Disconnect', 'Discussed', 'Diseases', 'Ditto', 'Divorce', 'Diwali', 'Dizzamn', 'Dizzee', 'Dload', 'Dnt', 'Do', 'Doc', 'Doctor', 'Does', 'Doesnt', 'Dogging', 'Doggy', 'Doing', 'DollD', 'Dolls', 'Dom', 'Don', 'Done', 'Dont', 'Dont4get2text', 'DontCha', 'Dormitory', 'Dorothykiefercom', 'Double', 'DoubleMins', 'DoubleTxt', 'Download', 'Dozens', 'Dr', 'Draw', 'Dream', 'Drink', 'Drinks', 'Driver', 'Drop', 'Duchess', 'Dude', 'Dun', 'Dunno', 'Dvd', 'E', 'E14', 'EACHOTHER', 'EASTENDERS', 'EAT', 'EG23F', 'EH74RR', 'ELLO', 'ENC', 'END', 'ENG', 'ENGLAND', 'ENJOY', 'ENJOYIN', 'ENTER', 'ENTRY', 'ENUFCREDEIT', 'ER', 'ESPECIALLY', 'EURO', 'EURO2004', 'EVE', 'EVEN', 'EVENING', 'EVER', 'EVERY', 'EVERY1', 'EVERYTHIN', 'EVONE', 'EXACT', 'EXAMS', 'EXETER', 'EXORCIST', 'EXP', 'EXPLAIN', 'EXPLOSIVE', 'EXTREME', 'EY', 'Each', 'Early', 'Earth', 'East', 'Easter', 'Easy', 'Eat', 'Eatin', 'Echo', 'Eckankar', 'Edison', 'Ee', 'Eek', 'Eerie', 'Egbon', 'Eh', 'Eire', 'Either', 'Ela', 'Election', 'Eleven', 'Elvis', 'Em', 'Email', 'Emily', 'Emotion', 'En', 'Enamous', 'End', 'Energy', 'England', 'English', 'Enjoy', 'Enna', 'Er', 'Erm', 'Err', 'Erutupalam', 'Ese', 'Especially', 'Esplanade', 'Eta', 'Eternal', 'Euro', 'Euro2004', 'EuroDisinc', 'Europe', 'Eve', 'Even', 'Evening', 'Evenings', 'Ever', 'Every', 'Everybody', 'Everyday', 'Everyone', 'Everything', 'Everytime', 'Evn', 'Evr', 'Evrey', 'Evry', 'Ew', 'Exactly', 'Exam', 'Excellent', 'Except', 'Executive', 'Exorcism', 'Expected', 'Expecting', 'Expires', 'Explain', 'Express', 'Expression', 'Extra', 'EyedDont', 'Eyes', 'F', 'FA', 'FANCY', 'FANTASIES', 'FANTASTIC', 'FANTASY', 'FAR', 'FEEL', 'FEELINGOOD', 'FFFFUUUUUUU', 'FIELDOF', 'FIFA', 'FIFTEEN', 'FIGHTS', 'FILTH', 'FINAL', 'FIND', 'FINE', 'FINEST', 'FINISH', 'FIRST', 'FIT', 'FIZZ', 'FLAG', 'FLOWER', 'FML', 'FMyou', 'FONE', 'FONIN', 'FOR', 'FOREVER', 'FOUNDURSELF', 'FRAN', 'FRANYxxxxx', 'FREE', 'FREE2DAY', 'FREEFONE', 'FREEMSG', 'FREENokia', 'FREEPHONE', 'FREERingtone', 'FREERingtoneReply', 'FREINDS', 'FRESHERS', 'FRIEND', 'FRIENDS', 'FRIENDSHIP', 'FRMCLOUD', 'FRND', 'FRNDS', 'FRNDSHIP', 'FROM', 'FROMWRK', 'FUCK', 'FUCKED', 'FUCKIN', 'FUCKING', 'FUCKINNICESELFISHDEVIOUSBITCHANYWAYI', 'FUDGE', 'FUNNY', 'Face', 'Facebook', 'Fails', 'Fair', 'Faith', 'Fancy', 'Fantasy', 'Farrell', 'Fat', 'Fear', 'Feb', 'Feel', 'Feeling', 'Feels', 'Fffff', 'Ffffffffff', 'Fifty', 'Fighting', 'Filling', 'Fills', 'Filthy', 'Final', 'Finally', 'Find', 'Fine', 'Fingers', 'Finish', 'Finished', 'First', 'Flag', 'Flight', 'Flirt', 'Flung', 'Fml', 'Foley', 'Follow', 'Foned', 'Food', 'Fools', 'Football', 'For', 'Force', 'Forever', 'Forevr', 'Forgets', 'Forgot', 'Forwarded', 'Found', 'Fr', 'Frankie', 'Franxx', 'Fredericksburg', 'Free', 'FreeMSG', 'FreeMsg', 'FreeMsgFAV', 'FreeMsgFeelin', 'Freeentry', 'Freemessage', 'Freemsg', 'Fresh', 'Fri', 'Friday', 'Friends', 'Friendship', 'FriendshipMotherFatherTeachersChildrens', 'Frnd', 'FrogAXEL', 'From', 'Fuck', 'Full', 'Fun', 'Funny', 'Future', 'Fuuuuck', 'Fwiw', 'Fyi', 'G', 'G2', 'GAIL', 'GAILxx', 'GAME', 'GANG', 'GAS', 'GB', 'GBP', 'GBP150week', 'GBP450week', 'GBP5month', 'GBPweek', 'GENDER', 'GENT', 'GET', 'GETTIN', 'GHOST', 'GIFTS', 'GIMMI', 'GIRL', 'GIRLS', 'GIV', 'GIVE', 'GIVEN', 'GMGNGEGN', 'GMGNGEGNT', 'GMW', 'GO', 'GOD', 'GODI', 'GOIN', 'GOING', 'GONEU', 'GONNA', 'GONNAMISSU', 'GOOD', 'GOODEVENING', 'GOODFRIEND', 'GOODMORNING', 'GOODNIGHT', 'GOODNITE', 'GOODNOON', 'GOODTIMEOLI', 'GORGEOUS', 'GOSSIP', 'GOSSx', 'GOT', 'GOTMARRIED', 'GOTTA', 'GOWER', 'GR8FUN', 'GRAN', 'GRAVEL', 'GREAT', 'GROWRANDOM', 'GSOH', 'GUARANTEED', 'GUD', 'GURL', 'GWR', 'Gain', 'Gal', 'Gam', 'Game', 'Games', 'Gamestar', 'Ganesh', 'Garbage', 'Gary', 'Gay', 'Gaze', 'Gd', 'Ge', 'Gee', 'Geeee', 'Geeeee', 'Geelater', 'Genius', 'Geoenvironmental', 'Georges', 'Germany', 'Get', 'Gettin', 'Getting', 'Gibbs', 'Gift', 'Gimme', 'Gin', 'Girl', 'Girls', 'Give', 'Glad', 'Gn', 'Gnarls', 'Go', 'GoTo', 'Goal', 'God', 'Gods', 'Goin', 'Going', 'Gokila', 'GoldDigger', 'Golf', 'Good', 'Goodmorning', 'Goodmorningmy', 'Goodnight', 'Goodnoon', 'Goodo', 'Google', 'Gopalettan', 'Gosh', 'Gossip', 'Got', 'Goto', 'Gotta', 'Gr8', 'Grahmbell', 'Granite', 'Gravity', 'Grazed', 'Great', 'Greeni', 'Greetings', 'Grl', 'Grumpy', 'Gsex', 'Guai', 'Guaranteed', 'Gud', 'Gudni8', 'Gudnite', 'Gudnitetcpractice', 'Gudnyt', 'Guess', 'Guessin', 'Guide', 'Guild', 'Gumbys', 'Guy', 'Guys', 'Gyno', 'H', 'HAD', 'HALF', 'HAPPY', 'HARD', 'HARDCORE', 'HARDEST', 'HARRY', 'HAS', 'HATES', 'HAUGHAIGHGTUJHYGUJ', 'HAV', 'HAVBEEN', 'HAVE', 'HAVEBEEN', 'HAVENT', 'HAVENTCN', 'HAVIN', 'HAVING', 'HCL', 'HEART', 'HELL', 'HELLO', 'HELLOGORGEOUS', 'HELLOYou', 'HELP', 'HER', 'HEY', 'HGSuite3422Lands', 'HGSuite3422LandsRowW1J6HL', 'HGSuite3422lands', 'HI', 'HIDE', 'HIM', 'HIS', 'HIT', 'HIYA', 'HL', 'HM', 'HMM', 'HMV', 'HMV1', 'HOLIDAY', 'HOME', 'HON', 'HONEYDID', 'HONI', 'HOPE', 'HOPEU', 'HORO', 'HOSPITAL', 'HOT', 'HOTMIX', 'HOUSE', 'HOW', 'HOWDY', 'HOWS', 'HOWU', 'HP20', 'HRS', 'HTTPWWWURAWINNERCOM', 'HU', 'HUN', 'HUNLOVE', 'HUNNY', 'HUNNYHOPE', 'HUNNYWOT', 'Ha', 'Habit', 'Hack', 'Had', 'Haf', 'Haha', 'Hahahause', 'Hahatake', 'Hai', 'Haiyoh', 'Haiz', 'Half', 'Hallaq', 'Halloween', 'Hands', 'Handset', 'Hang', 'Hanging', 'Hanumanji', 'Happy', 'Hard', 'Hardcore', 'Hari', 'Harishs', 'Harry', 'Has', 'Hasbroin', 'Hasnt', 'Hav', 'Have', 'Havent', 'Having', 'Havnt', 'He', 'Head', 'Headin', 'Headset', 'Healer', 'Hear', 'Heart', 'Hearts', 'Hee', 'Heehee', 'HehE', 'Height', 'Helen', 'Hell', 'Hello', 'HelloHow', 'Hellodrivby0quit', 'Helloooo', 'Help', 'Help08700621170150p', 'Help08714742804', 'Help08718728876', 'Helpline', 'Henry', 'Her', 'Here', 'Heroes', 'Heroi', 'Hes', 'Hey', 'HeyGreat', 'Hhahhaahahah', 'Hi', 'Hicts', 'Hidid', 'High', 'Hii', 'Him', 'Hint', 'His', 'History', 'Hitechnical', 'Hitler', 'Hiwhat', 'Hiya', 'Hlp', 'Hm', 'Hmm', 'HmmBad', 'Hmmm', 'Hmmmbut', 'Hmmmhow', 'Hmmmkbut', 'Hmmmm', 'Hmmmstill', 'Hmmmy', 'Hmph', 'Ho', 'Hockey', 'Hogli', 'Hogolo', 'Hol', 'Holby', 'Holder', 'Holding', 'Holiday', 'Holla', 'Hols', 'Holy', 'Home', 'Homeowners', 'Honestly', 'Honey', 'Honeybee', 'Hoody', 'Hope', 'Hopefully', 'Hoping', 'Horrible', 'Hospital', 'Hospitals', 'Hostbased', 'Hot', 'Hotel', 'Hottest', 'HouseMaid', 'How', 'Howda', 'However', 'Hows', 'Howz', 'Hrishi', 'Hubby', 'Hugs', 'Huh', 'Hui', 'Hungry', 'Hurry', 'Hurt', 'Hurts', 'Hyde', 'I', 'IAS', 'IBH', 'IBHltd', 'IBN', 'ID', 'IDIOT', 'IDPS', 'IF', 'IFINK', 'IG11', 'IJUST', 'IKEA', 'IKNO', 'IKNOW', 'IL', 'ILEAVE', 'ILL', 'ILLSPEAK', 'IM', 'IMAT', 'IMF', 'IMIN', 'IMPORTANT', 'IN', 'INC', 'INCLU', 'INCONVENIENCE', 'INDIA', 'INDIANS', 'INDYAROCKSCOM', 'INFORM', 'INFORMATION', 'INK', 'INR', 'INSTEAD', 'INTELLIGENT', 'INTERFLORA', 'INTERVIW', 'INTO', 'INVITED', 'IP4', 'IQ', 'IS', 'ISH', 'ISNT', 'ISVIMPORTANT', 'IT', 'ITBOTH', 'ITNOW', 'ITS', 'ITTB', 'ITXT', 'IThis', 'ITxx', 'IVE', 'IWANA', 'Iam', 'Ibiza', 'Ic', 'Ice', 'Icic', 'Id', 'Idea', 'Identifier', 'Idk', 'If', 'Ill', 'Ilol', 'Im', 'Ima', 'Imagine', 'Immediately', 'Important', 'Imprtant', 'In', 'Including', 'Inclusive', 'Incorrect', 'Incredible', 'Indeed', 'Independence', 'India', 'Indian', 'IndianPls', 'Indians', 'Indyarockscom', 'Inever', 'Infact', 'Inform', 'Information', 'Innocent', 'Insha', 'Instant', 'Intelligent', 'Interflora', 'Intimate', 'Invaders', 'Invest', 'Iraq', 'Iriver', 'Irritates', 'Is', 'IsaiahD', 'Islands', 'Isnt', 'It', 'Italian', 'Itll', 'Itna', 'Its', 'Itsnot', 'Itz', 'Ive', 'Iwasmarinethat', 'Izzit', 'J', 'J89', 'JADE', 'JAN', 'JANE', 'JANINExx', 'JANX', 'JAZ', 'JD', 'JEN', 'JESS', 'JJC', 'JOBYET', 'JSCO', 'JSco', 'JULY', 'JUS', 'JUST', 'JUSWOKE', 'Jackpot', 'Jada', 'James', 'Jamster', 'JamsterGet', 'Jamz', 'Jane', 'January', 'Japanese', 'Jason', 'Jay', 'Jays', 'Jealous', 'Jen', 'Jenny', 'Jenxxx', 'Jeremiah', 'Jeri', 'Jerk', 'Jerry', 'Jersey', 'Jesus', 'Jez', 'Jia', 'Joanna', 'John', 'Join', 'Joke', 'Jokes', 'Jokin', 'Joking', 'Jolly', 'Jon', 'Jones', 'Jordan', 'JordanTxt', 'JorgeShock', 'Jos', 'Joys', 'Jst', 'Jstfrnd', 'Jsut', 'July', 'June', 'Junna', 'Jus', 'Just', 'Juz', 'K', 'K52', 'K61', 'K718', 'KATE', 'KAVALAN', 'KEEP', 'KING', 'KISS', 'KL341', 'KNACKERED', 'KNOW', 'KNOWNEWAY', 'KNOWS', 'KR', 'KUDIyarasu', 'Kaiez', 'Kall', 'Kallis', 'Kanagu', 'Karaoke', 'Kate', 'Katexxx', 'Kath', 'Kay', 'Kdo', 'Keep', 'Keepintouch', 'Keng', 'Kens', 'Kent', 'Kerala', 'KeralaCircle', 'Keris', 'Kgive', 'Ki', 'Kicchu', 'Kick', 'Kids', 'Kidz', 'Kind', 'Kinda', 'Kindly', 'King', 'Kingdom', 'Kit', 'Kkadvance', 'Kkany', 'Kkapo', 'Kkare', 'Kkcongratulation', 'Kkfrom', 'Kkgoodstudy', 'Kkhow', 'Kkim', 'Kkits', 'Kkthis', 'Kkwhat', 'Kkwhen', 'Kkwhere', 'Kkwhy', 'Kkyesterday', 'Knock', 'Know', 'Kothi', 'Kthen', 'Ku', 'Kusruthi', 'Kyou', 'L', 'L8ER', 'L8R', 'L8TR', 'L8r', 'LA1', 'LA3', 'LA32WU', 'LADIES', 'LAPTOP', 'LAST', 'LATE', 'LATER', 'LAY', 'LCCLTD', 'LDN', 'LE', 'LEKDOG', 'LES', 'LET', 'LETS', 'LIFE', 'LIFT', 'LIKE', 'LIKELY', 'LIKEYOUR', 'LIKINGBE', 'LILY', 'LISTEN', 'LISTENING', 'LITTLE', 'LIVE', 'LKPOBOX177HP51FL', 'LLSPEAK', 'LMAO', 'LOCAL', 'LOCAXX', 'LOG', 'LOL', 'LONG', 'LONGER', 'LOOK', 'LOOKIN', 'LORD', 'LOST', 'LOT', 'LOTR', 'LOTS', 'LOU', 'LOVE', 'LOVEJEN', 'LOVEME', 'LRG', 'LS1', 'LS15HB', 'LS278BB', 'LST', 'LUCKY', 'LUCY', 'LUCYxx', 'LUSH', 'LUTON', 'LUV', 'Lacsthere', 'Ladies', 'Lancaster', 'Landline', 'Lands', 'Langport', 'Lara', 'Large', 'Last', 'Later', 'Latest', 'Laugh', 'Laughed', 'Laughing', 'Ldn', 'LdnW15H', 'LeafDayNo', 'Leannewhat', 'Leave', 'Leaving', 'Left', 'Lemme', 'Lessons', 'Let', 'Lets', 'Libertines', 'Lies', 'Life', 'Lifpartnr', 'Like', 'Lil', 'Limited', 'Lindsay', 'Line', 'Linerental', 'Lion', 'Lions', 'Litres', 'Live', 'Liverpool', 'Living', 'Lk', 'Lmao', 'Lmaonice', 'Loads', 'Loan', 'Loans', 'Log', 'Logon', 'Lol', 'Lolnice', 'Lololo', 'London', 'Long', 'LookAtMe', 'Looking', 'Looks', 'Lool', 'Loooooool', 'Loosu', 'Lots', 'Lovable', 'Love', 'Loveable', 'Loved', 'Lovely', 'Lover', 'Loverboy', 'Loves', 'Loving', 'Lowcost', 'Loyalty', 'Ltd', 'LtdHelpDesk', 'Luck', 'Luckily', 'Lucky', 'Lucozade', 'Lucy', 'Lul', 'Luv', 'Lux', 'Luxury', 'Lvblefrnd', 'M', 'M221BP', 'M227XY', 'M26', 'M263UZ', 'M39M51', 'M6', 'M95', 'MAD1', 'MAD2', 'MADE', 'MAHAL', 'MAKE', 'MALL', 'MAN', 'MANEESHA', 'MARCH', 'MARRIED', 'MARSMS', 'MAT', 'MATCH', 'MATCHED', 'MATE', 'MAYBE', 'ME', 'MECAUSE', 'MEET', 'MEETIN', 'MEGA', 'MELNITE', 'MEMBERS', 'MEREMEMBERIN', 'MESSAGE', 'MESSAGEThanks', 'MESSED', 'MF', 'MFL', 'MIDNIGHT', 'MILLIONS', 'MIN', 'MINE', 'MINI', 'MINS', 'MINUTES', 'MISS', 'MISSED', 'MISSIN', 'MISSY', 'MISTAKEU', 'MITE', 'MIX', 'MK17', 'MK45', 'MMM', 'MMSto', 'MO', 'MOAN', 'MOB', 'MOBNO', 'MOMENT', 'MONKEESPEOPLE', 'MONKEYAROUND', 'MONL8RSx', 'MONO', 'MONOC', 'MOON', 'MORAL', 'MORE', 'MORNING', 'MORROW', 'MOST', 'MOVIE', 'MOyeP', 'MP3', 'MQUIZ', 'MR', 'MRNG', 'MRur', 'MSG', 'MSGS', 'MSGWe', 'MTALK', 'MUCH', 'MUCHI', 'MUCHXXLOVE', 'MUM', 'MUMS', 'MUNSTERS', 'MUSIC', 'MUST', 'MY', 'MYCALLSU', 'MYSELF', 'Ma', 'Maangalyam', 'Maat', 'Macedonia', 'Macha', 'Machan', 'Madamregret', 'Made', 'Mah', 'Mailbox', 'Maintain', 'Make', 'Makes', 'Making', 'Male', 'Mallika', 'Man', 'Manchester', 'Mandan', 'Mandy', 'Many', 'Map', 'March', 'Maretare', 'Margaret', 'Mark', 'Marley', 'Married', 'Marvel', 'Match', 'Mathe', 'Mathews', 'Matrix3', 'Matthew', 'Max10mins', 'May', 'Mayb', 'Maybe', 'Me', 'Means', 'Meanwhile', 'Meat', 'Meds', 'Meet', 'MeetGreet', 'Meeting', 'Melle', 'Men', 'Merry', 'Message', 'Messages', 'Messagesome', 'Messaging', 'Met', 'Michael', 'Midnight', 'Might', 'Mila', 'Mileage', 'Miles', 'MilkdayNo', 'Min', 'Mind', 'Mine', 'Minimum', 'Minnaminunginte', 'Mins', 'Miserable', 'Misplaced', 'Miss', 'Missed', 'Missing', 'Mite', 'Mittelschmertz', 'Mm', 'Mmm', 'Mmmm', 'Mmmmm', 'Mmmmmm', 'Mmmmmmm', 'Mnths', 'Mob', 'MobStoreQuiz10ppm', 'MobcudB', 'Mobile', 'MobileUpd8', 'Mobiles', 'MobilesDirect', 'Mobileupd8', 'Moby', 'Mode', 'Moji', 'MojiBiola', 'Mom', 'Moment', 'Moms', 'Mon', 'Monday', 'Money', 'Monthly', 'MonthlySubscription50pmsg', 'Moon', 'Moons', 'Moral', 'MoralDont', 'MoralOne', 'More', 'Morning', 'Mornings', 'Most', 'Mostly', 'Mother', 'Motherinlaw', 'Motivate', 'Motorola', 'Mountains', 'Movie', 'Mr', 'MsSuman', 'Msg', 'Msg150p', 'Msgs', 'Much', 'Muhommad', 'Multiply', 'Mum', 'Mumtaz', 'Mumtazs', 'Murdered', 'Music', 'Must', 'Musta', 'Muz', 'Mwahs', 'My', 'MySpace', 'Mystery', 'N', 'NAKED', 'NAME', 'NAME1', 'NAME2', 'NBME', 'NEED', 'NEEDS', 'NEFT', 'NEO69', 'NETHING', 'NEVA', 'NEVER', 'NEW', 'NEWQUAYSEND', 'NGage', 'NHS', 'NIC', 'NICE', 'NICHOLS', 'NIGHT', 'NITE', 'NITE2', 'NITW', 'NO', 'NO1', 'NO165', 'NO434', 'NO440', 'NO762', 'NO910', 'NOK', 'NOKIA', 'NOKIA6600', 'NONENOWHERE', 'NOT', 'NOTHING', 'NOW', 'NOW1', 'NOWREPLY', 'NR31', 'NRI', 'NTT', 'NUMBER', 'NUMBERSO', 'NVQ', 'NYTHO', 'NYUSA', 'NYs', 'Nah', 'Name', 'Nan', 'Nasdaq', 'Natalie', 'Natalja', 'National', 'Nationwide', 'Natural', 'Nature', 'Near', 'Need', 'Neither', 'Neshanthtel', 'Netcollex', 'Network', 'Networking', 'Neva', 'Never', 'Neville', 'New', 'Neway', 'Newport', 'News', 'Next', 'Ni8', 'Nic', 'Nice', 'Nicenicehow', 'Nick', 'Nickey', 'Nigeria', 'Nigh', 'Night', 'Nights', 'Nikiyu4net', 'Nimbomsons', 'Nimya', 'Nimyapls', 'Nite', 'No', 'No1', 'No81151', 'No83355', 'NoWorriesLoanscom', 'Noble', 'Nobody', 'Nobut', 'Nofew', 'Nohe', 'Noi', 'Noice', 'Noits', 'Nojst', 'Nokia', 'Nokia150p', 'Nokia6650', 'Nokias', 'None', 'Nookii', 'Nooooooo', 'Noooooooo', 'Nope', 'Norcorp', 'Normal', 'Normally', 'Not', 'Nothin', 'Nothing', 'Nottel', 'Nottingham', 'November', 'Now', 'Now4T', 'Nowadays', 'Nt', 'Number', 'NumberRespectful', 'Nurungu', 'Nutter', 'Nver', 'Nvm', 'Nw', 'Nyt', 'NytEC2A3LPmsg150p', 'O', 'O2', 'O2FWD', 'OF', 'OFF', 'OFFICE', 'OFSI', 'OFTEN', 'OH', 'OJA', 'OK', 'OKDEN', 'OKTAKE', 'OLD', 'ON', 'ONCALL', 'ONE', 'ONLY', 'ONLYFOUND', 'ONTO', 'OPT', 'OR', 'ORANGE', 'OREOS', 'OTBox', 'OTHERWISE', 'OUR', 'OURBACKS', 'OUT', 'OUTL8RJUST', 'OUTSOMEWHERE', 'OVER', 'OVERDOSE', 'Obviously', 'OceanD', 'Of', 'Ofcourse', 'Off', 'Offer', 'OfferThe', 'Oh', 'Ohas', 'Ohi', 'Oi', 'Oic', 'Ok', 'Okay', 'Okey', 'Okie', 'Okies', 'Okok', 'Okors', 'Ola', 'Old', 'Olol', 'Omg', 'Omw', 'On', 'Onam', 'Once', 'One', 'OnionRs', 'Only', 'Only1more', 'Onum', 'Ooh', 'Oooh', 'Oooooh', 'Ooooooh', 'Oops', 'Open', 'Opinion', 'Opt', 'OptOut', 'Optout', 'Or', 'Orange', 'Orangei', 'Oranges', 'Orchard', 'Order', 'Organizer', 'Orh', 'Oru', 'Other', 'Others', 'Otherwise', 'Our', 'Out', 'Over', 'Oyea', 'Oz', 'P', 'PA', 'PARENTS', 'PARIS', 'PARISFREE', 'PARK', 'PARTNERS', 'PARTY', 'PASS', 'PAUL', 'PAY', 'PAYED2DAY', 'PC', 'PEACH', 'PERIL', 'PERSON', 'PETE', 'PETEXXX', 'PETROL', 'PHONE', 'PHP', 'PIC', 'PICK', 'PICS', 'PICSFREE1', 'PIN', 'PISS', 'PIX', 'PLAY', 'PLEASE', 'PLEASSSSSSSEEEEEE', 'PLS', 'PLUS', 'PO', 'PO19', 'POBOX', 'POBOX11414TCRW1', 'POBOX84', 'POBOXox36504W45WQ', 'POBox', 'POBox334', 'POBox36504W45WQ', 'POBox365O4W45WQ', 'POBox84', 'POD', 'POINT', 'POKKIRI', 'POLY', 'POLY3', 'POLYC', 'POLYPHONIC', 'POLYS', 'POOR', 'PORN', 'PORTIONS', 'POST', 'POSTCARD', 'POWER', 'PPL', 'PREMIER', 'PRESCHOOLCOORDINATOR', 'PRICE', 'PRIVACY', 'PRIVATE', 'PRIZEAWAITING', 'PROBLEM', 'PROBTHAT', 'PROPERLY', 'PS', 'PSP', 'PSXTRA', 'PT2', 'PUB', 'PUTTIN', 'PX3748', 'Pa', 'Package', 'Pain', 'Painful', 'Panasonic', 'Pandy', 'Pansy', 'Panther', 'Parents', 'Paris', 'Park', 'Part', 'Partys', 'Pass', 'PasswordsATMSMS', 'Pathaya', 'Patrick', 'Payee', 'Peace', 'Peaceful', 'Penny', 'People', 'Per', 'Perhaps', 'Peripherals', 'Persian', 'Person', 'Personality', 'Pest', 'Pete', 'Peteis', 'Petey', 'Peteynoi', 'PetrolRs', 'Pg', 'Ph08704050406', 'Pharmacy', 'Phil', 'Phoenix', 'Phone', 'Phony', 'Pic', 'Pick', 'Pics', 'Pie', 'Piggy', 'Pilates', 'Pin', 'Pink', 'Pinku', 'Pity', 'Pl', 'PlanetTalkInstantcom', 'Platt', 'Play', 'Player', 'Playin', 'Please', 'Pleasure', 'Pls', 'Plsi', 'Plus', 'Plyr', 'Plz', 'Po', 'PoBox1', 'PoBox12n146tf15', 'PoBox12n146tf150p', 'PoBox202', 'PoBox45W2TG150P', 'PoBox75LDNS7', 'PoBox84', 'PocketBabecouk', 'Points', 'Police', 'Polo', 'Poly', 'Poly200p', 'Polyphonic', 'Polys', 'Poop', 'Poor', 'PopcornJust', 'Pose', 'Potter', 'Pound', 'Poyyarikaturkolathupalayamunjalur', 'Prabhaim', 'Prabu', 'Prakesh', 'Prasanth', 'Prashanthettans', 'Pray', 'Prayrs', 'Predicte', 'Prem', 'Premaricakindly', 'Prepare', 'President', 'Presleys', 'Press', 'Prey', 'Price', 'Princess', 'Printer', 'Prize', 'Pro', 'Probably', 'Problms', 'Prof', 'Promo', 'Promotion', 'Props', 'Proverb', 'Provided', 'Pshewmissing', 'Psychiatrist', 'Psychic', 'Psychologist', 'Ptbo', 'Pub', 'Purity', 'Purpleu', 'PushButton', 'Put', 'Putting', 'Q', 'QUITE', 'QUITEAMUZING', 'Qatar', 'QatarRakhesh', 'QlynnBV', 'Que', 'Queen', 'Queries', 'Ques', 'Question', 'Questions', 'Quick', 'Quite', 'Quiz', 'QuizWin', 'Quote', 'R', 'R836', 'RALLY', 'RANDOM', 'RANG', 'RCT', 'READ', 'REAL', 'REAL1', 'REALISE', 'REALITY', 'REALLY', 'REALLYNEED', 'REALY', 'REBEL', 'RECD', 'RECEIVE', 'RECPT', 'RED', 'REGRET', 'REMEMBER', 'REMINDER', 'REPLY', 'REPLYS150', 'REPORT', 'REVEAL', 'REVISION', 'REWARD', 'RG21', 'RGENT', 'RIGHT', 'RING', 'RINGSRETURN', 'RINGTONE', 'RISE', 'RITE', 'ROMCAPspam', 'ROOM', 'ROSES', 'RP176781', 'RSTM', 'RTKIng', 'RTM', 'RTO', 'RUDI', 'RV', 'Racal', 'Rain', 'Raining', 'Raj', 'Rajipls', 'Rajitha', 'Rajnikant', 'Rally', 'Randy', 'Ranjith', 'Ranju', 'Rate', 'Rats', 'Raviyog', 'Rayman', 'Re', 'Reach', 'Reaction', 'Read', 'Reading', 'Ready', 'Real', 'Really', 'Realy', 'Reason', 'Received', 'Reckon', 'Records', 'Red', 'Redim', 'Ref9280114', 'Ref9307622', 'Reference', 'Reflection', 'Refused', 'Regards', 'Registered', 'Remember', 'RememberI', 'Remembered', 'Remembr', 'Remembrs', 'Remind', 'Reminder', 'Reminding', 'Remove', 'Rent', 'Rental', 'Reply', 'Requests', 'Resend', 'Response', 'Reverse', 'Rgds', 'Ride', 'Right', 'Rightio', 'Ring', 'Ringtone', 'RingtoneFrom', 'Ringtones', 'Rock', 'Rodds1', 'Rodger', 'Rofl', 'Roger', 'Romantic', 'Ron', 'Rose', 'RowW1J6HL', 'RowW1JHL', 'RowW1j6HL', 'Rreveal', 'Rs', 'Rs5', 'Rum', 'Ryder', 'S', 'S3XY', 'S8', 'S89', 'SAD', 'SAE', 'SAID', 'SAM', 'SAME', 'SARY', 'SATJUST', 'SATLOVE', 'SATSOUND', 'SATTHEN', 'SAUSAGELOVE', 'SAW', 'SAY', 'SCARY', 'SCOOL', 'SCOTLAND', 'SD', 'SED', 'SEE', 'SEEING', 'SEEMED', 'SEEN', 'SEENO', 'SELFINDEPENDENCE', 'SEND', 'SENDS', 'SENT', 'SERIOUSLY', 'SERVICES', 'SERVs', 'SEX', 'SEXYCHAT', 'SF', 'SHAME', 'SHE', 'SHEFFIELD', 'SHESIL', 'SHIT', 'SHITIN', 'SHITJUSTFOUND', 'SHOP', 'SHOULD', 'SHOW', 'SHOWR', 'SHUDVETOLD', 'SI', 'SIB', 'SIM', 'SIMPLE', 'SING', 'SIR', 'SITUATION', 'SIX', 'SK3', 'SK38XH', 'SK38xh', 'SLAP', 'SLEEPING', 'SLEEPINGWITH', 'SLEEPSWEET', 'SLEPT', 'SLO4msgs', 'SMILEY', 'SMS', 'SMSSERVICES', 'SN', 'SNAP', 'SNORINGTHEY', 'SO', 'SOFA', 'SOIREE', 'SOMEONE', 'SOMETHIN', 'SOMETHING', 'SONY', 'SOO', 'SOON', 'SOONC', 'SOONLOTS', 'SORRY', 'SORTEDBUT', 'SOUNDING', 'SOZ', 'SP', 'SPAM', 'SPECIAL', 'SPECIALE', 'SPEEDCHAT', 'SPIDER', 'SPINOUT', 'SPJanuary', 'SPK', 'SPOOK', 'SPORT', 'SPORTSx', 'SPRWM', 'SPTV', 'SPTyrone', 'SPUNOUT', 'ST', 'STAPATI', 'STAR', 'STARS', 'START', 'STATION', 'STIL', 'STILL', 'STOP', 'STOP2stop', 'STOPBCM', 'STOPCS', 'STORE', 'STORES', 'STRIKE', 'STU', 'STUDENT', 'STUDENTFINANCIAL', 'STUDY', 'STUPID', 'STaY', 'SUBPOLY', 'SUE', 'SUM', 'SUMMER', 'SUMTHINxx', 'SUNDAY', 'SUPER', 'SURE', 'SURPRISE', 'SUZY', 'SW7', 'SW73SS', 'SWAN', 'SWAP', 'SWAT', 'SWEET', 'SWITCH', 'SYMPTOMS', 'SaLL', 'Sac', 'Sad', 'Saeed', 'Safe', 'Sagamu', 'Said', 'Salad', 'Salam', 'Sale', 'Sam', 'Same', 'Sankranti', 'Santa', 'Santha', 'Sar', 'Sara', 'Sarcasm', 'Saristar', 'Sary', 'Sat', 'Saturday', 'SavaMob', 'Save', 'Saw', 'Say', 'Says', 'Sbut', 'Scared', 'School', 'Schools', 'Science', 'Scoring', 'Scotch', 'Scotsman', 'Sday', 'Search', 'Second', 'Secret', 'Secured', 'See', 'Seem', 'Select', 'Sen', 'Send', 'Sender', 'SenderName', 'Sending', 'Sends', 'Sent', 'SentDate', 'Senthil', 'Sept', 'Serena', 'Serious', 'Service', 'Services', 'Set', 'Seventeen', 'Sex', 'Sexy', 'Sez', 'Sfine', 'Sfrom', 'Shah', 'Shahjahan', 'Shahjahans', 'Shakespeare', 'Shall', 'Shampain', 'ShanilRakhesh', 'Shant', 'Shb', 'She', 'Shell', 'Sherawat', 'Shes', 'Shesil', 'Shhhhh', 'Shifad', 'Shijas', 'Shijutta', 'Shinco', 'Shiny', 'Shit', 'Shivratri', 'Shjas', 'Shola', 'Shop', 'ShopWe', 'Shopping', 'Shoranur', 'Short', 'Shoul', 'Should', 'Show', 'ShrAcomOrSglSuplt10', 'Shuhui', 'Si', 'SiPix', 'Sian', 'Sicomo', 'Sif', 'Silent', 'Sim', 'Simple', 'Simply', 'Simpsons', 'Since', 'Sinco', 'Sindu', 'Single', 'Singles', 'Sir', 'SirI', 'SirSalam', 'SirjiI', 'Sister', 'Sitting', 'Siva', 'Skallis', 'SkilGme', 'SkillGame', 'SkillGame1Winaweek', 'Skip', 'Sky', 'Slaaaaave', 'Sleep', 'Sleeping', 'SleepwellampTake', 'Slept', 'Slide', 'Slow', 'Slowly', 'Small', 'SmartCall', 'Smile', 'SmileD', 'Smiling', 'Smith', 'SmithSwitch', 'Sms', 'Snd', 'Sno', 'So', 'Soany', 'Sol', 'Sold', 'Solve', 'Some', 'Somebody', 'Someone', 'Someonone', 'Something', 'Sometimes', 'Somewhr', 'Sonetimes', 'Sony', 'SonyEricsson', 'Soon', 'Sorry', 'Sorryin', 'Sort', 'Sos', 'Soul', 'Sounds', 'Soup', 'South', 'Space', 'Spain', 'Spanish', 'Speak', 'Speaking', 'Special', 'Spending', 'Spiderman', 'Spiral', 'Spl', 'SplashMobile', 'Splat', 'Spoke', 'Spook', 'Spoons', 'Spose', 'Sppok', 'Spring', 'Sprint', 'Sptv', 'Squeeeeeze', 'Squishy', 'Sry', 'Ssi', 'Ssindia', 'Ssnervous', 'St', 'Staff', 'StarWars3', 'Start', 'Started', 'Starting', 'Starts', 'Statement', 'Stay', 'Staying', 'StdTxtRate', 'Stereophonics', 'StewartSize', 'Sthis', 'Still', 'Stockport', 'Stop', 'Stop2', 'Stoptxt', 'Storming', 'Stream', 'Street', 'Strip', 'Strokes', 'StrongBuy', 'Student', 'Studying', 'Stuff', 'Stupid', 'Stupidits', 'Stylish', 'Stylist', 'Sub', 'Subs', 'Subscribe6GBPmnth', 'Subscriber', 'Subscription', 'Subscriptn3gbpwk', 'Such', 'Sugababes', 'Suganya', 'Sugar', 'Suite', 'Sullivan', 'Summer', 'Summers', 'Sun', 'Sunday', 'Sunscreen', 'Sunshine', 'Sup', 'Super', 'Superb', 'Suprman', 'Sure', 'Surely', 'Surly', 'Sux', 'Swayze', 'Sweet', 'Sweetest', 'Sweetheart', 'Swtheart', 'Symbol', 'Sympathetic', 'Syria', 'T', 'T91', 'TA', 'TAJ', 'TAKE', 'TALK', 'TALKBUT', 'TALKED', 'TALKIN', 'TALKING', 'TAMPA', 'TAROT', 'TASTS', 'TBSPERSOLVO', 'TC', 'TCLLC', 'TCRW1', 'TCs', 'TCsBCM4235WC1N3XX', 'TCsC', 'TCsstop', 'TEL', 'TELL', 'TELLMISS', 'TERMINATEDWE', 'TEX', 'TEXD', 'TEXT', 'TEXTBUDDY', 'TEXTCOMP', 'TEXTPOD', 'TEXTS', 'TH', 'THAN', 'THANKS', 'THANX', 'THANX4', 'THASA', 'THAT', 'THATMUM', 'THE', 'THEACUSATIONS', 'THECD', 'THEMOB', 'THEN', 'THERE', 'THERES', 'THESEyours', 'THEWEND', 'THING', 'THINK', 'THIS', 'THNQ', 'THO', 'THOSE', 'TIME', 'TISSCOTayseer', 'TITLE', 'TMobile', 'TO', 'TOBED', 'TOCALLSHALL', 'TODAY', 'TOME', 'TOMORROW', 'TOMORW', 'TONE', 'TONES2U', 'TONESReply', 'TONEXS', 'TONIGHT', 'TONITE', 'TOOL', 'TOP', 'TOPLAY', 'TOTAL', 'TOTALLY', 'TOWN', 'TOWNCUD', 'TOWNDONTMATTER', 'TROUBLE', 'TRUBLE', 'TRUE', 'TRY', 'TSCs', 'TULIP', 'TV', 'TWILIGHT', 'TX', 'TXT', 'TXTAUCTION', 'TXTAUCTIONTxt', 'Ta', 'TaDaaaaa', 'TaKe', 'Taka', 'Take', 'Takecare', 'Takin', 'Talk', 'Tas', 'Tata', 'TayseerTISSCO', 'Tb', 'Tea', 'Teach', 'Teacher', 'Team', 'Tear', 'Tears', 'Tease', 'Tee', 'Tel', 'Telephonic', 'Teletext', 'Tell', 'Ten', 'Tenants', 'Tenerife', 'Tension', 'Teresa', 'Terms', 'Termsapply', 'Terry', 'Tessypls', 'Test', 'Text', 'Text82228', 'TextOperator', 'Texting', 'Thank', 'Thanks', 'Thanku', 'Thankyou', 'Thanx', 'That', 'Thatll', 'Thats', 'The', 'TheDailyDraw', 'TheMob', 'TheMobHit', 'TheMobYo', 'Them', 'Then', 'Theoretically', 'Theory', 'There', 'Therell', 'Therere', 'Theres', 'These', 'They', 'Theyre', 'Thgt', 'Thing', 'Things', 'Think', 'Thinkin', 'Thinking', 'Thinks', 'This', 'Thk', 'Thnx', 'Tho', 'Those', 'Though', 'Thought', 'Thout', 'Thts', 'Thurs', 'Thursday', 'Thx', 'Thy', 'Tick', 'Tickets', 'Tiger', 'Till', 'Tim', 'Time', 'TimeGud', 'Tired', 'Tis', 'Titles', 'Tiwary', 'Tmorrowpls', 'Tmr', 'Tmrw', 'TnC', 'TnCs', 'To', 'Toa', 'Today', 'Todays', 'Todaysundaysunday', 'Toledo', 'Toll', 'Tom', 'Tomarrow', 'Tomorrow', 'Tone', 'Tones', 'Tonight', 'Too', 'Took', 'Top', 'Total', 'Touch', 'Tour', 'Toxic', 'Trackmarque', 'Traditions', 'Traffic', 'Transaction', 'Trav', 'Travel', 'Treat', 'Triple', 'True', 'Truro', 'Trust', 'Truth', 'Truthful', 'Try', 'TryWALES', 'Trying', 'Ts', 'TsCs', 'TsCs08714740323', 'TsCs087147403231WinawkAge16', 'TsandCs', 'Tsunami', 'Tsunamis', 'Ttyl', 'Tues', 'Tuesday', 'Tunde', 'Tunji', 'Turns', 'Twelve', 'Twiggs', 'Twinks', 'Twittering', 'Two', 'Txt', 'Txt250com', 'TxtNO', 'Txting', 'Txts', 'Tyler', 'U', 'U2MORO', 'U4', 'UAWAKEFEELLIKW', 'UCALL', 'UIN', 'UK', 'UKP2000', 'UKmobiledate', 'UKs', 'UNBELIEVABLE', 'UNDERSTaND', 'UNI', 'UNICEFs', 'UNLIMITED', 'UP', 'UP4', 'UPDAT', 'UPNOT', 'UPYEH', 'UR', 'URE', 'URFEELING', 'URGENT', 'URGOIN', 'URGRAN', 'URN', 'URSELF', 'US', 'USED', 'USER', 'UU', 'Ubi', 'Ufind', 'Ugadi', 'Ugh', 'Uh', 'Uhhhhrmm', 'Ujhhhhhhh', 'Uks', 'Ull', 'Ultimate', 'Ultimately', 'Umma', 'Ummmawill', 'Ummmmmaah', 'UnSub', 'Uncle', 'Under', 'Understand', 'Unfortunately', 'Uni', 'United', 'University', 'Unless', 'Unlike', 'Unlimited', 'Unni', 'Unsecured', 'Unsub', 'Unsubscribe', 'Until', 'Up', 'Upd8', 'Update', 'UpdateNow', 'UpgrdCentre', 'Ups', 'Uptown', 'Ur', 'Ure', 'Urgent', 'Urgh', 'Us', 'Use', 'Usf', 'Usher', 'Usmle', 'Usually', 'Uve', 'V', 'VALENTINES', 'VALUED', 'VAT', 'VCo', 'VE', 'VIA', 'VIDEO', 'VILLA', 'VIOLENCE', 'VIOLET', 'VIP', 'VIVEKANAND', 'VPOD', 'VU', 'Valentine', 'Valentines', 'Valid', 'Valid12hrs', 'Valuable', 'Values', 'Vatian', 'Vegas', 'Velly', 'Velusamy', 'Verify', 'Very', 'Vettam', 'ViVa', 'Video', 'Videophones', 'Videos', 'Vijay', 'Vikky', 'Village', 'Virgin', 'Voda', 'Vodafone', 'Vodka', 'Voila', 'Vote', 'Voucher', 'Vouchers', 'Vry', 'W111WX', 'W14RG', 'W1A', 'W1J', 'W4', 'W45WQ', 'WA14', 'WAIT', 'WAITING', 'WALES', 'WANNA', 'WANNATELL', 'WANT', 'WAP', 'WAS', 'WAY', 'WAY2SMSCOM', 'WC1N', 'WC1N3XX', 'WE', 'WEDLUNCH', 'WEEK', 'WELL', 'WELLDA', 'WEN', 'WENT', 'WENWECAN', 'WERE', 'WEREBORED', 'WERETHE', 'WHASSUP', 'WHAT', 'WHEN', 'WHERE', 'WHICH', 'WHILE', 'WHITE', 'WHO', 'WHORE', 'WHY', 'WID', 'WIFE', 'WILD', 'WILL', 'WIN', 'WINNER', 'WISH', 'WISHING', 'WITH', 'WITHOUT', 'WIV', 'WK', 'WKEND', 'WKENT150P16', 'WOKE', 'WOMAN', 'WOMEN', 'WON', 'WONT', 'WORDS', 'WORK', 'WORLD', 'WORRIEDx', 'WORRY', 'WORRYC', 'WOT', 'WOTU', 'WOULD', 'WOULDNT', 'WOW', 'WRC', 'WRK', 'WRKI', 'WRKIN', 'WRLD', 'WRONGTAKE', 'WTF', 'WWWASJESUSCOM', 'Wa', 'Waaaat', 'Wah', 'Wahleykkumsharing', 'Wait', 'WaitU', 'Waiti', 'Waiting', 'Waitshould', 'Wake', 'Walk', 'Wan', 'Wan2', 'Wana', 'Wanna', 'Want', 'Wanting', 'Waqt', 'Warm', 'Warner', 'Was', 'Wasnt', 'Waste', 'Wasted', 'Wat', 'Watch', 'Watching', 'Water', 'Wating', 'WatrDayNo', 'Wats', 'Waves', 'We', 'WeBeBurnin', 'WeLL', 'Webpage', 'Wed', 'WeddingFriend', 'Wednesday', 'Weekly', 'Weightloss', 'Weiyi', 'Welcome', 'Well', 'Welp', 'Wen', 'Wendy', 'Went', 'Were', 'Westlife', 'Wet', 'Weve', 'Wewa', 'What', 'Whatever', 'Whats', 'Whatsup', 'When', 'Whenevr', 'Whenre', 'Whens', 'Whenwhere', 'Where', 'Wheres', 'Wherevr', 'Wherres', 'Which', 'Who', 'Whom', 'Whos', 'Why', 'Wicklow', 'Wif', 'Wife', 'Wifehow', 'Wil', 'Will', 'Win', 'Wine', 'Wings', 'Winner', 'WinnersClub', 'Winning', 'Wins', 'Wipe', 'Wire3net', 'Wish', 'Wishing', 'With', 'Wk', 'Wkly', 'Wld', 'Wn', 'Wnevr', 'Woke', 'Woman', 'Won', 'Wondering', 'Wont', 'Woo', 'Woodland', 'Woods', 'Woohoo', 'WordsEvry', 'Work', 'Working', 'World', 'Worth', 'Wot', 'Wotz', 'Would', 'Wow', 'Wright', 'Wrong', 'Wtf', 'Wuld', 'Wun', 'Wylie', 'X', 'X2', 'X29', 'X49', 'X49Your', 'XCHAT', 'XCLUSIVECLUBSAISAI', 'XMAS', 'XX', 'XXUK', 'XXX', 'XXXMobileMovieClub', 'XXXX', 'XXXXX', 'XXXXXX', 'Xavier', 'Xmas', 'XoXo', 'Xuhui', 'Xx', 'XxX', 'Xy', 'Y', 'Y87', 'YA', 'YEAH', 'YEAHAND', 'YEAR', 'YEARS', 'YEH', 'YES', 'YES165', 'YES434', 'YES440', 'YES762', 'YES910', 'YEST', 'YESTERDAY', 'YET', 'YM', 'YMCA', 'YO', 'YOR', 'YOU', 'YOUCLEAN', 'YOUR', 'YOURE', 'YOURJOB', 'YOUVE', 'YRS', 'YWHERE', 'Ya', 'Yagoing', 'Yahoo', 'Yalru', 'Yar', 'Yavnt', 'Yaxx', 'Yaxxx', 'Yay', 'Yeah', 'Year', 'Years', 'Yeesh', 'Yeh', 'Yellow', 'Yelowi', 'Yen', 'Yep', 'Yes', 'Yesbut', 'Yesfrom', 'Yesgauti', 'Yeshe', 'Yeshere', 'Yesim', 'Yesmum', 'Yessura', 'Yest', 'Yesterday', 'Yet', 'Yetunde', 'Yo', 'Yogasana', 'You', 'Youd', 'Youi', 'Youll', 'Your', 'Youre', 'Yours', 'Yourself', 'Youve', 'Yoyyooo', 'Yummmm', 'Yummy', 'Yun', 'Yunny', 'Yup', 'Yupz', 'Z', 'ZOE', 'ZOUK', 'Zahers', 'Zebra', 'Zindgi', 'Zogtorius', 'a30', 'aa', 'aathilove', 'aathiwhere', 'abdomen', 'abelu', 'abi', 'ability', 'abj', 'able', 'abnormally', 'abroad', 'absence', 'absolutely', 'abstract', 'abt', 'aburo', 'abuse', 'abusers', 'ac', 'acWicmb3cktz8r74', 'academic', 'acc', 'accent', 'accenture', 'accept', 'access', 'accessible', 'accidant', 'accident', 'accidentally', 'accommodation', 'accomodate', 'accomodations', 'accordin', 'accordingly', 'accordinglyor', 'account', 'accounting', 'accounts', 'accumulation', 'achanammaRakheshQatar', 'ache', 'achieve', 'acid', 'acknowledgement', 'across', 'acsmsrewards', 'act', 'acted', 'actin', 'acting', 'action', 'activ8', 'activate', 'activities', 'actor', 'actual', 'actually', 'ad', 'add', 'added', 'addicted', 'addie', 'adding', 'address', 'addressull', 'adds', 'adewale', 'adi', 'adjustable', 'admin', 'administrator', 'admirer', 'admission', 'admit', 'admiti', 'adore', 'adoring', 'adress', 'ads', 'adsense', 'adult', 'adults', 'advance', 'adventure', 'adventuring', 'advice', 'advise', 'advising', 'advisors', 'aeroplane', 'affair', 'affairs', 'affection', 'affectionate', 'affidavit', 'afford', 'afghanistan', 'afraid', 'africa', 'african', 'aft', 'afternon', 'afternoon', 'afterwards', 'aftr', 'againloving', 'agalla', 'age', 'age16', 'age16150ppermessSubscription', 'age23', 'agency', 'agent', 'agents', 'ages', 'agidhane', 'aging', 'ago', 'agree', 'ah', 'aha', 'ahead', 'ahgee', 'ahnow', 'ahold', 'ahsen', 'ahthe', 'ahwhat', 'aid', 'aids', 'aight', 'aint', 'air', 'air1', 'airport', 'airtel', 'ajith', 'ak', 'aka', 'al', 'albi', 'album', 'albumquite', 'alcohol', 'alert', 'alerts', 'alex', 'alexs', 'alfie', 'algebra', 'algorithms', 'ali', 'alian', 'alibi', 'alive', 'alivebetter', 'allah', 'allalo', 'allday', 'alle', 'allow', 'allowed', 'allows', 'alls', 'almost', 'alone', 'along', 'alot', 'already', 'alreadysabarish', 'alright', 'alrightOkay', 'alrite', 'alritehave', 'also', 'alsoor', 'alter', 'alternativehope', 'although', 'alwa', 'always', 'alwys', 'amazing', 'ambitious', 'american', 'amigos', 'amk', 'ammaelife', 'ammo', 'amnow', 'among', 'amongst', 'amore', 'amount', 'amp', 'amplikater', 'ams', 'amt', 'amused', 'amx', 'ana', 'analysis', 'anand', 'anderson', 'andor', 'andre', 'andres', 'andrewsboy', 'andros', 'angels', 'angry', 'animal', 'animation', 'anjie', 'anjolas', 'anna', 'annie', 'anniversary', 'annoncement', 'announced', 'announcement', 'annoyin', 'annoying', 'anonymous', 'anot', 'another', 'ans', 'ansr', 'answer', 'answered', 'answerin', 'answering', 'answers', 'answr', 'anthony', 'anti', 'antibiotic', 'anybody', 'anybodys', 'anyhow', 'anymore', 'anyone', 'anyones', 'anyplaces', 'anythiing', 'anythin', 'anything', 'anythings', 'anythingtomorrow', 'anytime', 'anyway', 'anyways', 'anywhere', 'apart', 'apartment', 'apes', 'apeshit', 'aphex', 'apologetic', 'apologise', 'apologize', 'apology', 'app', 'apparently', 'appeal', 'appear', 'appendix', 'applebees', 'applespairsall', 'application', 'apply', 'apply2', 'applyed', 'applying', 'appointment', 'appointments', 'appreciate', 'appreciated', 'approaches', 'approaching', 'appropriate', 'approve', 'approved', 'approx', 'apps', 'appt', 'april', 'aproach', 'apt', 'aptitude', 'aquarius', 'ar', 'arab', 'archive', 'ard', 'ardÉ', 'area', 'arent', 'arestaurant', 'aretaking', 'argentina', 'argh', 'argue', 'arguing', 'argument', 'arguments', 'arise', 'arises', 'arithmetic', 'arm', 'armand', 'armands', 'armenia', 'arms', 'arng', 'arnt', 'around', 'aroundn', 'arrange', 'arranging', 'arrested', 'arrival', 'arrive', 'arrived', 'arsenal', 'art', 'artists', 'arts', 'arty', 'arun', 'asa', 'asap', 'asapok', 'asda', 'ashes', 'ashleys', 'ashwini', 'asia', 'ask', 'askd', 'asked', 'askin', 'asking', 'asks', 'asleep', 'aspects', 'ass', 'assessment', 'asshole', 'assistance', 'associate', 'assume', 'assumed', 'asthma', 'astne', 'astoundingly', 'astrology', 'asus', 'atHome', 'ate', 'atlanta', 'atlast', 'atm', 'atrocious', 'attach', 'attached', 'attack', 'attempt', 'atten', 'attend', 'attended', 'attending', 'attention', 'attitude', 'attractioni', 'attracts', 'attributed', 'atyour', 'auction', 'auctionpunj', 'audiitions', 'audition', 'audreys', 'aunt', 'aunties', 'aunts', 'aunty', 'auntys', 'aust', 'authorise', 'auto', 'autocorrect', 'av', 'availa', 'available', 'availablei', 'availablethey', 'avalarr', 'avatar', 'avble', 'ave', 'avent', 'avenue', 'avin', 'avo', 'avoid', 'avoiding', 'avoids', 'await', 'awaiting', 'awake', 'award', 'awarded', 'away', 'awesome', 'awkward', 'ax', 'ayn', 'ayo', 'b', 'b4', 'b4190604', 'b4280703', 'ba', 'babe', 'babes', 'babies', 'baby', 'babyjontet', 'babysit', 'babysitting', 'bac', 'back', 'backa', 'backdoor', 'bad', 'badass', 'badly', 'bag', 'bagi', 'bags', 'baig', 'bak', 'bakra', 'bakrid', 'balance', 'baller', 'balloon', 'bambling', 'band', 'bandages', 'bang', 'bangb', 'bank', 'banks', 'banned', 'banter', 'bao', 'bar', 'barcelona', 'bare', 'barely', 'bari', 'barolla', 'barred', 'barrel', 'barring', 'bars', 'base', 'bash', 'basic', 'basically', 'basketball', 'baskets', 'basqihave', 'bat', 'batch', 'batchlor', 'bath', 'bathe', 'bathing', 'bathroom', 'batsman', 'batt', 'battery', 'battle', 'bawling', 'bay', 'bb', 'bbs', 'bc', 'bcaz', 'bck', 'bcoz', 'bcum', 'bcums', 'bcz', 'bday', 'beach', 'beads', 'bear', 'bears', 'beatings', 'beauties', 'beautiful', 'beautifulMay', 'beauty', 'bec', 'becausethey', 'become', 'becoz', 'becz', 'bed', 'bedbut', 'bedreal', 'bedrm', 'bedrm900', 'bedroom', 'beeen', 'beehoon', 'beendropping', 'beer', 'beers', 'befor', 'beforehand', 'beforewent', 'beg', 'beggar', 'begging', 'begin', 'begins', 'begun', 'behalf', 'behave', 'behind', 'bein', 'believe', 'belive', 'bell', 'bellearlier', 'belligerent', 'belly', 'belong', 'belongs', 'belovd', 'beloved', 'belt', 'ben', 'bend', 'beneath', 'beneficiary', 'benefits', 'beside', 'best', 'bestcongrats', 'bestrply', 'bet', 'beta', 'betta', 'better', 'beverage', 'bevieswaz', 'beyond', 'bf', 'bffs', 'bfore', 'bhaskar', 'bhayandar', 'bian', 'biatch', 'bid', 'bids', 'big', 'bigger', 'biggest', 'bike', 'bill', 'billed', 'billion', 'bills', 'billy', 'bilo', 'bimbo', 'bin', 'biolas', 'bird', 'birds', 'birla', 'birth', 'birthdate', 'birthday', 'bishan', 'bit', 'bitch', 'bitching', 'bite', 'bites', 'bk', 'black', 'blackand', 'blackberry', 'blah', 'blakes', 'blame', 'blank', 'blanked', 'blanket', 'blankets', 'blastin', 'bleak', 'bleh', 'bless', 'blessed', 'blessget', 'blessing', 'blessings', 'blimey', 'block', 'blocked', 'blog', 'blogging', 'bloke', 'blokes', 'blonde', 'bloo', 'blood', 'bloodblood', 'bloody', 'bloombergcom', 'blow', 'blowing', 'blown', 'blue', 'bluff', 'blur', 'bluray', 'board', 'boat', 'body', 'boggy', 'bold', 'bold2', 'bollox', 'bomb', 'bone', 'bong', 'bonus', 'boo', 'boobs', 'book', 'booked', 'bookedthe', 'booking', 'books', 'bookshelf', 'boost', 'booty', 'bootydelious', 'borderline', 'bored', 'borin', 'boring', 'born', 'borrow', 'boss', 'boston', 'bot', 'bother', 'bothering', 'bottle', 'bottom', 'bought', 'boundaries', 'bout', 'bowa', 'bowl', 'bowls', 'box', 'box245c2150pm', 'box334sk38ch', 'box403', 'boy', 'boye', 'boyfriend', 'boys', 'boytoy', 'boyy', 'bpo', 'brah', 'brain', 'braindance', 'brains', 'brainy', 'brand', 'bras', 'brats', 'braved', 'bread', 'breadstick', 'break', 'breakfast', 'breaking', 'breaks', 'breath', 'breathe', 'breather', 'breathing', 'breeze', 'breezy', 'bribe', 'bridge', 'bridgwater', 'brief', 'bright', 'brighten', 'brilliant', 'brilliant1thingi', 'brilliantly', 'brin', 'bring', 'bringing', 'brings', 'brisk', 'brison', 'bro', 'broad', 'broke', 'broken', 'brolly', 'bros', 'broth', 'brothas', 'brother', 'brothers', 'brought', 'brownie', 'brownies', 'browse', 'browser', 'browsin', 'bruce', 'brum', 'bruv', 'bsn', 'bsnl', 'bt', 'bthmm', 'btw', 'btwn', 'bucks', 'bud', 'buddys', 'budget', 'buen', 'buff', 'buffet', 'bugis', 'build', 'building', 'built', 'bulbs', 'bullshit', 'bunch', 'bundle', 'bunkers', 'buns', 'burden', 'burger', 'burgundy', 'burial', 'burn', 'burning', 'burns', 'burnt', 'burrito', 'bus', 'bus822656166382', 'buses', 'busetop', 'business', 'busty', 'busy', 'busyi', 'butt', 'butting', 'buttons', 'buy', 'buyer', 'buyers', 'buying', 'buzy', 'buzz', 'bw', 'bx420', 'bx420ip45we', 'bye', 'c', 'cThen', 'cabin', 'cafe', 'cage', 'cake', 'caken', 'cakes', 'cal', 'calculated', 'calculation', 'calicut', 'california', 'calis', 'call', 'call09050000327', 'call2optout4QF2', 'call2optoutF4Q', 'call2optoutHF8', 'call2optoutJ', 'call2optoutJ5Q', 'call2optoutLF56', 'call2optoutN9DX', 'call2optoutYHL', 'callback', 'callcost', 'callcoz', 'calld', 'calldrove', 'called', 'caller', 'callertune', 'callin', 'calling', 'callingForgot', 'callon', 'calls', 'callsmessagesmissed', 'callurgent', 'calm', 'cam', 'camcorder', 'came', 'camera', 'cameravideo', 'camp', 'campus', 'camry', 'canada', 'canal', 'cancel', 'canceled', 'cancelled', 'cancer', 'candont', 'canlove', 'canname', 'cannot', 'cannt', 'cant', 'cantdo', 'canteen', 'capacity', 'capital', 'cappuccino', 'caps', 'captain', 'captaining', 'car', 'card', 'cardiff', 'cardin', 'cards', 'care', 'careabout', 'cared', 'career', 'careful', 'carefully', 'careinsha', 'careless', 'carente', 'cares', 'careswt', 'careumma', 'carewhoever', 'caring', 'carlin', 'carlos', 'carly', 'carolina', 'caroline', 'carpark', 'carry', 'carryin', 'cars', 'carso', 'cartons', 'cartoon', 'case', 'cash', 'cashbalance', 'cashed', 'cashin', 'cashto', 'casing', 'cast', 'casting', 'castor', 'casualty', 'cat', 'catch', 'catches', 'catching', 'categories', 'caught', 'cause', 'causes', 'causing', 'cave', 'caveboy', 'cbe', 'cc100pmin', 'ccna', 'cd', 'cedar', 'ceiling', 'celeb', 'celeb4', 'celebrate', 'celebration', 'cell', 'census', 'center', 'centre', 'century', 'cereals', 'certainly', 'certificate', 'cha', 'chad', 'chain', 'challenge', 'challenging', 'champ', 'champlaxigating', 'champneys', 'chance', 'chances', 'change', 'changed', 'changes', 'changing', 'channel', 'chapel', 'chaps', 'chapter', 'character', 'characters', 'charge', 'charged', 'charged150pmsg2', 'charges', 'charity', 'charles', 'charlie', 'charming', 'chart', 'charts', 'chase', 'chasing', 'chastity', 'chat', 'chatIm', 'chatter', 'chatting', 'cheap', 'cheaper', 'cheat', 'cheating', 'chechi', 'check', 'checkboxes', 'checked', 'checking', 'checkup', 'cheek', 'cheers', 'cheery', 'cheese', 'cheesy', 'cheetos', 'chennai', 'chennaibecause', 'chennaii', 'cheque', 'cherish', 'cherthalain', 'chess', 'chest', 'chex', 'cheyyamoand', 'chez', 'chg', 'chgs', 'chic', 'chick', 'chicken', 'chickened', 'chief', 'chik', 'chikku', 'chikkuB', 'chikkuDB', 'chikkuali', 'chikkugoing', 'chikkuil', 'chikkuk', 'chikkusimple', 'chikkuwat', 'child', 'childish', 'childporn', 'children', 'childs', 'chile', 'chill', 'chillaxin', 'chillin', 'china', 'chinchillas', 'chinese', 'chinky', 'chiong', 'chip', 'chocolate', 'choice', 'choices', 'choose', 'choosing', 'chop', 'chords', 'chores', 'chosen', 'chrgd50p', 'christ', 'christmas', 'christmassy', 'chuck', 'chuckin', 'church', 'cine', 'cinema', 'citizen', 'city', 'citylink', 'claim', 'claimcode', 'claims', 'claire', 'clarification', 'clarify', 'clas', 'clash', 'class', 'classes', 'classmates', 'claypot', 'cld', 'clean', 'cleaning', 'clear', 'cleared', 'clearer', 'clearing', 'clearly', 'clever', 'click', 'cliff', 'cliffs', 'clip', 'clock', 'clocks', 'close', 'closeby', 'closed', 'closedincluding', 'closer', 'closes', 'closingdate040902', 'cloth', 'clothes', 'cloud', 'clover', 'club', 'club4mobilescom', 'clue', 'cm', 'cme', 'cmon', 'cn', 'cnl', 'coach', 'coast', 'coat', 'coaxing', 'coccooning', 'cochin', 'cock', 'cocksuckers', 'coco', 'code', 'coffee', 'coherently', 'coimbatore', 'coin', 'coincidence', 'coins', 'colany', 'cold', 'coldheard', 'collages', 'collapsed', 'collect', 'collected', 'collecting', 'collection', 'colleg', 'college', 'collegexx', 'color', 'colour', 'colourful', 'colourredtextcolourTXTstar', 'colours', 'comb', 'combination', 'combine', 'come', 'comedy', 'comedycant', 'comei', 'comes', 'cometil', 'comfey', 'comfort', 'comin', 'coming', 'comingdown', 'comingtmorow', 'command', 'comment', 'commercial', 'commit', 'common', 'community', 'comp', 'companies', 'company', 'compare', 'compensation', 'competition', 'complacent', 'complain', 'complaining', 'complaint', 'complementary', 'complete', 'completed', 'completely', 'completes', 'completing', 'complexities', 'complimentary', 'compofstuff', 'comprehensive', 'compromised', 'compulsory', 'computational', 'computer', 'computerless', 'computers', 'comuk220cm2', 'conacted', 'concentrate', 'concentrating', 'concentration', 'concern', 'concert', 'conclusion', 'condition', 'conditionand', 'conditions', 'conducts', 'conected', 'conference', 'confidence', 'configure', 'confirm', 'confirmd', 'confirmdeny', 'confirmed', 'conform', 'confused', 'confuses', 'congrats', 'connect', 'connected', 'connection', 'connections', 'cons', 'consensus', 'consent', 'conserve', 'consider', 'considering', 'consistently', 'console', 'constant', 'constantly', 'contact', 'contacted', 'contacts', 'contains', 'content', 'contented', 'contents', 'continent', 'continue', 'continued', 'contract', 'contribute', 'control', 'convenience', 'conversations', 'converted', 'converter', 'convey', 'conveying', 'convince', 'convincing', 'convincingjust', 'cook', 'cooked', 'cookies', 'cooking', 'cool', 'cooped', 'cooperative', 'copied', 'copies', 'coping', 'cops', 'copy', 'corect', 'cornwall', 'corporation', 'corrct', 'correct', 'correction', 'correctionor', 'correctly', 'corrupt', 'corvettes', 'cos', 'cosign', 'cost', 'costing', 'costs', 'costume', 'costumes', 'couch', 'cough', 'coughing', 'could', 'coulda', 'couldnt', 'count', 'countin', 'country', 'counts', 'coupla', 'couple', 'courage', 'course', 'court', 'courtroom', 'cousin', 'cover', 'coveragd', 'covers', 'coz', 'cozy', 'cr', 'crab', 'crammed', 'cramps', 'crap', 'crash', 'crashed', 'crashing', 'crave', 'craving', 'craziest', 'crazy', 'cream', 'created', 'creative', 'creativity', 'credit', 'credited', 'credits', 'creep', 'creepy', 'cresubi', 'cricket', 'cricketer', 'crickiting', 'cried', 'crisis', 'crore', 'cross', 'crossing', 'crowd', 'crucial', 'cruise', 'cruisin', 'crushes', 'cry', 'cs', 'cst', 'cstore', 'ctla', 'cuck', 'cud', 'cuddle', 'cuddled', 'cuddling', 'cudnt', 'cultures', 'cum', 'cumin', 'cumming', 'cup', 'cupboard', 'cuppa', 'curfew', 'curious', 'current', 'currently', 'curry', 'curtsey', 'cust', 'custcare', 'custom', 'customer', 'customers', 'customersqueriesnetvisionukcom', 'cut', 'cute', 'cutest', 'cutie', 'cutting', 'cuz', 'cya', 'cyclists', 'cysts', 'da', 'daal', 'daalways', 'dabbles', 'dad', 'daddy', 'dado', 'dads', 'dagood', 'dahe', 'dahow', 'dai', 'daily', 'dajst', 'damn', 'danalla', 'dancce', 'dance', 'dancin', 'dancing', 'dane', 'dang', 'danger', 'dangerous', 'dao', 'daplease', 'dare', 'dark', 'darker', 'darkest', 'darkness', 'darlin', 'darling', 'darlings', 'darlinim', 'darren', 'dartboard', 'dat', 'data', 'date', 'dates', 'dating', 'datingi', 'datoday', 'dats', 'daurgent', 'dawhats', 'dawhere', 'dawns', 'day', 'day2find', 'dayexcept', 'dayhas', 'days', 'dayshe', 'daysso', 'dayswill', 'daysèn', 'daytime', 'daywith', 'de', 'dead', 'deadWell', 'deal', 'dealFarm', 'dealer', 'dealers', 'dealing', 'deals', 'deam', 'dear', 'dearRakhesh', 'dearer', 'deari', 'dearloving', 'dearly', 'dearslp', 'deartake', 'deary', 'death', 'debating', 'dec', 'decades', 'decide', 'decided', 'deciding', 'decimal', 'decision', 'decisions', 'deck', 'decking', 'decorating', 'dedicate', 'dedicated', 'deduct', 'deep', 'deepak', 'deepest', 'deer', 'def', 'defeat', 'defer', 'definite', 'definitely', 'definitly', 'degree', 'degrees', 'dehydrated', 'dehydration', 'del', 'delTOMORROW', 'delay', 'delayed', 'delete', 'deleted', 'delicious', 'deliver', 'delivered', 'delivery', 'deluxe', 'dem', 'demand', 'den', 'dengra', 'denis', 'dent', 'dental', 'dentist', 'dentists', 'denying', 'department', 'dependents', 'depends', 'deposit', 'deposited', 'depressed', 'depression', 'dept', 'der', 'derek', 'dereks', 'describe', 'description', 'desert', 'deserve', 'desk', 'desparate', 'desparately', 'desperate', 'despite', 'dessert', 'destination', 'destiny', 'detail', 'detailed', 'details', 'detailsi', 'determine', 'deus', 'develop', 'developed', 'developer', 'device', 'devouring', 'dey', 'deyhope', 'deyi', 'dha', 'dhina', 'dhorte', 'di', 'dial', 'dialling', 'dialogue', 'diamond', 'diamonds', 'diapers', 'dice', 'dick', 'dict', 'dictionary', 'diddy', 'didnt', 'didntgive', 'didt', 'die', 'died', 'diesel', 'diet', 'dieting', 'diff', 'differ', 'differbe', 'difference', 'differences', 'different', 'difficult', 'difficulties', 'dificult', 'digi', 'digital', 'digits', 'dignity', 'dime', 'dimension', 'din', 'dine', 'dined', 'dinero', 'ding', 'dining', 'dinner', 'dinnermsg', 'dint', 'dippeditinaDEW', 'direct', 'directly', 'director', 'directors', 'dirt', 'dirtiest', 'dirty', 'dis', 'disagreeable', 'disappeared', 'disappointment', 'disaster', 'disasters', 'disastrous', 'disc', 'disclose', 'disconnected', 'discount', 'discreet', 'discuss', 'discussed', 'diskyou', 'dislikes', 'dismay', 'dismissial', 'display', 'distance', 'distract', 'disturb', 'disturbancemight', 'disturbing', 'divert', 'division', 'divorce', 'diwali', 'dl', 'dled', 'dnt', 'doInterested', 'dob', 'dobby', 'dobbys', 'doc', 'dock', 'docs', 'doctor', 'doctors', 'documents', 'dodda', 'dodgey', 'doesnt', 'dog', 'dogg', 'doggin', 'dogging', 'doggy', 'dogs', 'dogwood', 'doin', 'doinat', 'doingWhat', 'doinghow', 'doinnearly', 'doke', 'dokey', 'dollar', 'dollars', 'domain', 'donate', 'done', 'donewant', 'donno', 'dont', 'donyt', 'dooms', 'door', 'doors', 'dorm', 'dose', 'dosomething', 'dot', 'double', 'doublefaggot', 'doubles', 'doubt', 'doug', 'dough', 'download', 'downloaded', 'downloads', 'downs', 'downstem', 'dr', 'drama', 'dramastorms', 'dramatic', 'drastic', 'draw', 'drawPlease', 'draws', 'dreading', 'dream', 'dreamlove', 'dreams', 'dreamsMuah', 'dreamstake', 'dreamsu', 'dress', 'dressed', 'dresser', 'drink', 'drinkin', 'drinking', 'drinkpa', 'drinks', 'drive', 'driver', 'drivin', 'driving', 'drizzling', 'drms', 'drmstake', 'drop', 'dropped', 'drops', 'drove', 'drpd', 'drug', 'drugdealer', 'drugs', 'drum', 'drunk', 'drunkard', 'drunken', 'drvgsTo', 'dry', 'dryer', 'dsnt', 'dt', 'dual', 'dub', 'dubsack', 'ducking', 'dude', 'dudes', 'dudette', 'due', 'duffer', 'dull', 'dumb', 'dump', 'dun', 'dungerees', 'dunno', 'duo', 'durban', 'durham', 'dusk', 'dust', 'duvet', 'dvg', 'dwn', 'dying', 'dysentry', 'e', 'ear', 'earlier', 'earlierwe', 'earliest', 'early', 'earn', 'earning', 'ears', 'earth', 'earthsofa', 'easier', 'easiest', 'easily', 'east', 'easter', 'easy', 'eat', 'eaten', 'eatin', 'eating', 'ebay', 'ec2a', 'ecstacy', 'ecstasy', 'edge', 'edhae', 'edition', 'edrunk', 'education', 'educational', 'edukkukayee', 'edward', 'edwards', 'ee', 'eerie', 'eerulli', 'effect', 'effects', 'efficient', 'efreefone', 'eg', 'eg23G', 'egg', 'eggpotato', 'eggs', 'eggspert', 'ego', 'eh', 'eight', 'eighth', 'eightish', 'either', 'el', 'ela', 'elaborate', 'elaborating', 'elaine', 'elama', 'elaya', 'eldest', 'elections', 'electricity', 'elephant', 'elliot', 'else', 'elsewhere', 'em', 'email', 'emailed', 'embarassed', 'embarassing', 'embarrassed', 'embassy', 'emergency', 'emerging', 'emigrated', 'employee', 'employers', 'empty', 'en', 'end', 'ended', 'ending', 'endless', 'endof', 'endowed', 'ends', 'enemies', 'enemy', 'energy', 'engaged', 'engagement', 'engalnd', 'engin', 'england', 'english', 'enjoy', 'enjoyed', 'enjoying', 'enketa', 'ennal', 'enough', 'enter', 'entered', 'enters', 'entertain', 'entertaining', 'entey', 'entire', 'entirely', 'entitled', 'entrepreneurs', 'entropication', 'entry', 'enuff', 'envelope', 'envy', 'epi', 'epsilon', 'equally', 'ericson', 'ericsson', 'erotic', 'error', 'errors', 'ertini', 'eruku', 'erupt', 'erything', 'esaplanade', 'escalator', 'escape', 'ese', 'eshxxxxxxxxxxx', 'especially', 'espell', 'esplanade', 'essay', 'essential', 'establish', 'eta', 'etc', 'ethnicity', 'ethreats', 'ettans', 'europe', 'evaluation', 'evaporated', 'eve', 'eveB', 'evei', 'even', 'evening', 'evenings', 'event', 'events', 'eventually', 'ever', 'every', 'everybody', 'everybodys', 'everyboy', 'everyday', 'everyone', 'everyones', 'everyso', 'everything', 'everywhere', 'evey', 'eviction', 'evil', 'evn', 'evng', 'evo', 'evry1', 'evrydy', 'ex', 'exact', 'exactly', 'exam', 'exams', 'excellent', 'except', 'exchanged', 'excited', 'exciting', 'excuse', 'excused', 'excuses', 'exe', 'executive', 'exercise', 'exeter', 'exhaust', 'exhausted', 'exhibition', 'exist', 'exmpel', 'expect', 'expecting', 'expects', 'expensive', 'experience', 'experiencehttpwwwvouch4mecometlpdiningasp', 'experiment', 'expert', 'expired', 'expiredso', 'expiry', 'explain', 'explicit', 'explicitly', 'exposed', 'exposes', 'express', 'expression', 'ext', 'exterminator', 'extra', 'extract', 'exwife', 'ey', 'eye', 'eyes', 'f', 'fab', 'faber', 'face', 'faceasssssholeeee', 'facebook', 'facilities', 'fact', 'factory', 'facts', 'faded', 'faggy', 'faglord', 'failed', 'failing', 'failure', 'fainting', 'fair', 'faithEvening', 'fake', 'fakemy', 'fakeyes', 'fal', 'falconerf', 'fall', 'fallen', 'falling', 'falls', 'fals', 'famamus', 'familiar', 'family', 'familymay', 'famous', 'fan', 'fancied', 'fancies', 'fancy', 'fans', 'fantasies', 'fantastic', 'fantasy', 'far', 'farm', 'farting', 'fassyole', 'fast', 'faster', 'fastest', 'fastpls', 'fat', 'fated', 'father', 'fathima', 'fats', 'fatty', 'fault', 'faultal', 'faultfed', 'fav', 'fave', 'favor', 'favorite', 'favour', 'favourite', 'fb', 'fear', 'feathery', 'features', 'feb', 'febapril', 'february', 'fedex', 'feed', 'feel', 'feelin', 'feeling', 'feelingwavering', 'feels', 'fees', 'feet', 'fell', 'fellow', 'felt', 'female', 'feng', 'festival', 'fetch', 'fetching', 'fever', 'fgkslpo', 'fgkslpoPW', 'fidalfication', 'field', 'fiendmake', 'fifteen', 'fifth', 'fight', 'fighting', 'fightng', 'fights', 'figure', 'figures', 'figuring', 'file', 'files', 'fill', 'filled', 'filling', 'fills', 'film', 'films', 'filthy', 'filthyguys', 'final', 'finalise', 'finally', 'finance', 'financial', 'find', 'finding', 'finds', 'fine', 'fineInshah', 'fineabsolutly', 'finewhen', 'fingers', 'finish', 'finishd', 'finished', 'finishes', 'finishing', 'fink', 'finns', 'fire', 'fired', 'firefox', 'fireplace', 'firesAre', 'firmware', 'firsg', 'first', 'fish', 'fishhead', 'fishrman', 'fit', 'fiting', 'five', 'fix', 'fixd', 'fixed', 'fixedline', 'fixes', 'flag', 'flaked', 'flaky', 'flame', 'flash', 'flat', 'flatter', 'flavour', 'flea', 'fletcher', 'flew', 'flies', 'flight', 'flights', 'flim', 'flip', 'flippin', 'flirt', 'flirting', 'floating', 'flood', 'floor', 'floppy', 'florida', 'flow', 'flower', 'flowers', 'flowing', 'fluids', 'flurries', 'flute', 'fly', 'flyim', 'flying', 'flyng', 'fml', 'fne', 'fo', 'fold', 'folks', 'follow', 'followed', 'followin', 'following', 'follows', 'fond', 'fondly', 'fone', 'fones', 'food', 'fool', 'fooled', 'foot', 'football', 'footblcrckt', 'footie', 'footprints', 'footy', 'force', 'forced', 'foregate', 'foreign', 'forever', 'forevr', 'forfeit', 'forget', 'forgets', 'forgive', 'forgiven', 'forgiveness', 'forgot', 'forgotten', 'forgt', 'formal', 'formallyPls', 'format', 'formatting', 'formclark', 'forms', 'formsdon', 'forth', 'fortune', 'forum', 'forums', 'forward', 'forwarded', 'forwarding', 'found', 'four', 'fourth', 'foward', 'fowler', 'fox', 'fps', 'fr', 'fraction', 'frankgood', 'frauds', 'freak', 'freaked', 'freaking', 'freaky', 'free', 'freedom', 'freefone', 'freek', 'freely', 'freesend', 'freezing', 'fren', 'french', 'frens', 'frequently', 'fret', 'fri', 'friday', 'fridayhope', 'fridays', 'fridge', 'fried', 'friend', 'friendofafriend', 'friends', 'friendsare', 'friendship', 'friendships', 'fring', 'fringe', 'frm', 'frnd', 'frndZ', 'frnds', 'frndship', 'frndshp', 'frndsship', 'frnt', 'fro', 'frog', 'fromm', 'front', 'frontierville', 'frosty', 'fruit', 'frwd', 'frying', 'ft', 'fuck', 'fucked', 'fuckin', 'fucking', 'fucks', 'fuelled', 'fujitsu', 'ful', 'fulfil', 'full', 'fullonsmscom', 'fumbling', 'fun', 'function', 'functions', 'fund', 'fundamentals', 'funeral', 'funk', 'funky', 'funny', 'funs', 'furniture', 'fusion', 'future', 'fyi', 'g', 'g696ga', 'gET', 'gOoD', 'ga', 'gain', 'gained', 'gal', 'galcan', 'galileo', 'galno', 'gals', 'galsU', 'game', 'games', 'gandhipuram', 'ganesh', 'gang', 'gap', 'gaps', 'garage', 'garbage', 'garden', 'gari', 'garments', 'gas', 'gastroenteritis', 'gate', 'gauge', 'gautham', 'gave', 'gay', 'gayD', 'gayle', 'gays', 'gaytextbuddycom', 'gbpsms', 'gd', 'gdeve', 'gdnow', 'gdthe', 'ge', 'gei', 'gek1510', 'general', 'generally', 'genes', 'genius', 'gentle', 'gentleman', 'gently', 'genuine', 'genus', 'gep', 'ger', 'get', 'get4an18th', 'getiing', 'geting', 'gets', 'getsleep', 'getstop', 'gettin', 'getting', 'getzedcouk', 'gf', 'ghodbandar', 'gibbs', 'gibe', 'gift', 'gifted', 'giggle', 'gigolo', 'gimme', 'girl', 'girld', 'girlfrnd', 'girlie', 'girls', 'gist', 'giv', 'give', 'given', 'gives', 'giving', 'givits', 'glad', 'glands', 'glasgow', 'glass', 'glo', 'global', 'glorious', 'glory', 'gloucesterroad', 'go', 'go2', 'go2sri', 'goa', 'goal', 'goals', 'goalsteam', 'gobi', 'god', 'godYou', 'godnot', 'gods', 'godtaken', 'goes', 'goggles', 'goigng', 'goin', 'goin2bed', 'going', 'gold', 'golden', 'goldviking', 'gon', 'gona', 'gone', 'gong', 'gonna', 'gooD', 'good', 'gooddhanush', 'goodenvironment', 'goodfine', 'goodies', 'goodmate', 'goodnight', 'goodnite', 'goodno', 'goods', 'goodwhen', 'google', 'gorgeous', 'gossip', 'got', 'gota', 'gotany', 'goto', 'gotta', 'gotten', 'gotto', 'goverment', 'govtinstituitions', 'gowait', 'gprs', 'gpu', 'gr8', 'gr8prizes', 'grab', 'grace', 'graduated', 'gram', 'grams', 'grand', 'grandfather', 'grandma', 'grandmas', 'granted', 'graphics', 'grasp', 'grateful', 'grave', 'gravy', 'gray', 'gre', 'great', 'greatbhaji', 'greatbye', 'greatest', 'greatly', 'greatness', 'greece', 'green', 'greet', 'greeting', 'greetings', 'grief', 'grinder', 'grins', 'grinule', 'grocers', 'grooved', 'groovy', 'groovying', 'ground', 'groundamla', 'group', 'grow', 'growing', 'grown', 'grownup', 'grr', 'grumble', 'gs', 'gt', 'gua', 'guarantee', 'guaranteed', 'gucci', 'gud', 'gudk', 'guess', 'guessed', 'guesses', 'guessing', 'guidance', 'guide', 'guides', 'guilty', 'guitar', 'guoyang', 'gut', 'guy', 'guys', 'gv', 'gving', 'gym', 'gymnastics', 'gynae', 'h', 'ha', 'habbahw', 'habit', 'hadnt', 'hadya', 'haf', 'haha', 'hai', 'hail', 'hair', 'haircut', 'hairdressers', 'half', 'half8th', 'hall', 'halla', 'ham', 'hamper', 'hamster', 'hand', 'handed', 'handing', 'handle', 'hands', 'handset', 'handsome', 'handsomes', 'hang', 'hanger', 'hangin', 'hanging', 'hanks', 'hannaford', 'happen', 'happend', 'happened', 'happenin', 'happening', 'happens', 'happier', 'happiest', 'happily', 'happiness', 'happy', 'hard', 'hardcore', 'harder', 'hardly', 'harlem', 'harri', 'hasnt', 'hassling', 'hat', 'hate', 'haul', 'haunt', 'hav', 'hav2hear', 'hava', 'havent', 'havin', 'havnt', 'hdd', 'head', 'headache', 'headin', 'heading', 'heads', 'headstart', 'heal', 'healthy', 'heap', 'hear', 'heard', 'hearin', 'hearing', 'heart', 'hearted', 'heartgn', 'heartheart', 'heartsnot', 'heat', 'heater', 'heaven', 'heavily', 'heavy', 'hectic', 'hee', 'held', 'helen', 'helens', 'hell', 'hella', 'hello', 'helloed', 'help', 'help08700469649', 'help08712400602450p', 'helpful', 'helping', 'helps', 'heltiniIyo', 'hen', 'hence', 'hep', 'herI', 'herepls', 'hereremember', 'herethanksi', 'herlove', 'hermy', 'heron', 'hershe', 'herwho', 'herwill', 'hes', 'hesitant', 'hesitate', 'hesitation', 'hex', 'hey', 'hi', 'hidden', 'hide', 'hides', 'hiding', 'high', 'highest', 'hilariousalso', 'hill', 'hills', 'hillsborough', 'himso', 'himthen', 'hint', 'hip', 'hiphop', 'hire', 'hisher', 'history', 'hit', 'hitman', 'hits', 'hitteranyway', 'hittng', 'hiya', 'hlday', 'hme', 'hmm', 'hmmm', 'ho', 'hockey', 'hogidhechinnu', 'hol', 'hold', 'holder', 'holding', 'hole', 'holiday', 'holidayso', 'holla', 'hollalater', 'hols', 'holy', 'home', 'homeBut', 'homecheck', 'homeleft', 'homelove', 'homewot', 'hon', 'honest', 'honesty', 'honey', 'honeymoon', 'hont', 'hoo', 'hooch', 'hook', 'hooked', 'hoops', 'hop', 'hope', 'hopeSo', 'hopeafternoon', 'hoped', 'hopeful', 'hopefully', 'hopeing', 'hopes', 'hoping', 'hor', 'horniest', 'horny', 'horrible', 'horse', 'hos', 'hospital', 'hospitals', 'hostel', 'hostile', 'hot', 'hotel', 'hotels', 'hour', 'hourish', 'hours', 'house', 'houseful', 'housewives', 'housework', 'housing', 'howard', 'however', 'howre', 'hows', 'howve', 'hp', 'hppnss', 'hr', 'hrs', 'hsbc', 'html', 'httpalto18coukwavewaveaspo44345', 'httpcareers', 'httpdoit', 'httpgotbabescouk', 'httpimg', 'httptms', 'httpwap', 'httpwwwbubbletextcom', 'httpwwwetlpcoukexpressoffer', 'httpwwwetlpcoukreward', 'httpwwwgr8prizescom', 'httpwwwurawinnercom', 'httpwwwwtlpcouktext', 'huai', 'hubby', 'hubbys', 'hudgi', 'hug', 'huge', 'hugging', 'hugh', 'huh', 'huiming', 'hum', 'humanities', 'humans', 'hun', 'hundred', 'hundredhe', 'hundreds', 'hungover', 'hungry', 'hunks', 'hunny', 'hunnyjust', 'hunonbus', 'hunt', 'hunting', 'hurricanes', 'hurried', 'hurry', 'hurt', 'hurting', 'hurts', 'husband', 'hussey', 'hustle', 'hut', 'hv', 'hvae', 'hw', 'hwd', 'hwkeep', 'hyde', 'hypertension', 'hypotheticalhuagauahahuagahyuhagga', 'iPOD', 'iPod', 'iZ', 'iam', 'ibm', 'ibored', 'ibuprofens', 'ic', 'iccha', 'ice', 'icicibankcom', 'icky', 'icon', 'id', 'idc', 'idconvey', 'idea', 'ideal', 'ideas', 'identification', 'idiot', 'idk', 'idu', 'ie', 'iff', 'ifwhenhow', 'ignorant', 'ignore', 'ignoring', 'ikea', 'il', 'ill', 'illness', 'im', 'image', 'images', 'imaginationMy', 'imagine', 'imma', 'immed', 'immediately', 'immunisation', 'imp', 'impatient', 'implications', 'important', 'importantly', 'imposed', 'impossible', 'imposter', 'impress', 'impressed', 'impression', 'impressively', 'improve', 'improved', 'in2', 'inc', 'inch', 'inches', 'incident', 'include', 'includes', 'inclusive', 'incomm', 'inconsiderate', 'inconvenient', 'increase', 'increments', 'inde', 'indeed', 'independently', 'india', 'indian', 'indicate', 'individual', 'individualtime', 'infections', 'infernal', 'influx', 'info', 'inforingtonekingcouk', 'inform', 'information', 'informed', 'informedRgdsRakheshKerala', 'infotxt82228couk', 'infovipclub4u', 'infowww100percentrealcom', 'infra', 'infront', 'ing', 'ingredients', 'initiate', 'inlude', 'inmind', 'inner', 'innings', 'innocent', 'innu', 'inour', 'inperialmusic', 'inpersonation', 'insects', 'inshah', 'inside', 'inspection', 'inst', 'install', 'installation', 'installing', 'instantly', 'instead', 'instructions', 'insurance', 'intelligent', 'intend', 'intention', 'intentions', 'interest', 'interested', 'interesting', 'interfued', 'internal', 'internet', 'internetservice', 'interview', 'interviews', 'intha', 'intrepid', 'intro', 'intrude', 'invention', 'invest', 'investigate', 'invitation', 'invite', 'invited', 'inviting', 'invnted', 'invoices', 'involve', 'involved', 'iouri', 'ip', 'ip4', 'ipad', 'ipaditan', 'ipads', 'iphone', 'ipod', 'ireneere', 'iron', 'ironing', 'irritated', 'irritating', 'irritation', 'irulinae', 'isComing', 'isLOVE', 'isare', 'iscoming', 'ish', 'ishtamayoohappy', 'island', 'islands', 'isnt', 'issue', 'issues', 'itLEAVE', 'itU', 'italian', 'itc', 'itcould', 'items', 'iter', 'ithink', 'iti', 'itjust', 'itlet', 'itmail', 'itmay', 'itor', 'itplspls', 'itried2tell', 'itwhichturnedinto', 'ivatte', 'ive', 'iz', 'izzit', 'j', 'jabo', 'jack', 'jacket', 'jackson', 'jacuzzi', 'jaklin', 'jam', 'james', 'jamster', 'jamstercouk', 'jan', 'janarige', 'jane', 'january', 'jap', 'jason', 'java', 'jay', 'jaya', 'jaykwon', 'jays', 'jazz', 'jb', 'je', 'jealous', 'jeans', 'jeetey', 'jeevithathile', 'jelly', 'jenne', 'jenny', 'jess', 'jesus', 'jet', 'jetton', 'jewelry', 'ji', 'jiayin', 'jide', 'jiu', 'jo', 'job', 'jobs', 'jocks', 'jod', 'jog', 'jogging', 'john', 'join', 'joined', 'joinedHope', 'joinedso', 'joining', 'joke', 'joker', 'jokes', 'jokethet', 'jokin', 'joking', 'jolly', 'jolt', 'jontin', 'jot', 'journey', 'joy', 'joys', 'jp', 'js', 'jst', 'juan', 'judgementali', 'juicy', 'jules', 'juliana', 'julianaland', 'jump', 'jumpers', 'june', 'jungle', 'jurong', 'jus', 'justbeen', 'justify', 'justthought', 'juz', 'k', 'kaaj', 'kadeem', 'kafter', 'kaila', 'kaitlyn', 'kalaachutaarama', 'kalainar', 'kalisidare', 'kallis', 'kalstiyathen', 'kama', 'kane', 'kanji', 'kano', 'kanoanyway', 'kanoil', 'kanowhr', 'kappa', 'karaoke', 'karnan', 'karo', 'kaypoh', 'kb', 'kbut', 'ke', 'keen', 'keep', 'keeping', 'keeps', 'kegger', 'keluviri', 'kent', 'kept', 'kerala', 'kettoda', 'key', 'keypad', 'keys', 'keyword', 'kfc', 'kg', 'kgood', 'khelate', 'ki', 'kick', 'kickboxing', 'kickoff', 'kicks', 'kid', 'kidding', 'kids', 'kill', 'killed', 'killing', 'kills', 'kilos', 'kim', 'kind', 'kinda', 'kindly', 'king', 'kintu', 'kiosk', 'kip', 'kisi', 'kiss', 'kisses', 'kissing', 'kits', 'kittum', 'kitty', 'kkwhere', 'knackered', 'knees', 'knew', 'knickers', 'knocking', 'know', 'knowhe', 'knowing', 'known', 'knows', 'knowthis', 'knowwait', 'knowyetunde', 'knw', 'ko', 'kochi', 'kodstini', 'kodthini', 'konw', 'korche', 'korean', 'korli', 'korte', 'kotees', 'kothi', 'ksry', 'ktv', 'kuch', 'kvb', 'kwish', 'kz', 'l8', 'l8r', 'l8tr', 'la', 'lab', 'labor', 'lac', 'lacking', 'lacsthats', 'laden', 'ladies', 'ladiesU', 'lady', 'lag', 'lage', 'lager', 'laid', 'laidwant', 'lakhs', 'lambda', 'lambu', 'lamp', 'land', 'landing', 'landline', 'landlineonly', 'landlines', 'landmark', 'lane', 'langport', 'language', 'lanka', 'lanre', 'lap', 'lapdancer', 'laptop', 'lar', 'laready', 'largest', 'lark', 'lasagna', 'last', 'lastest', 'lasting', 'late', 'latebut', 'latei', 'lately', 'latelyxxx', 'later', 'lateso', 'latest', 'latests', 'latr', 'laugh', 'laughing', 'laughs', 'laundry', 'laurie', 'lautech', 'lavender', 'law', 'laxinorficated', 'layin', 'laying', 'lays', 'lazy', 'lead', 'leadership', 'leading', 'leads', 'leafcutter', 'league', 'learn', 'learned', 'least', 'least5times', 'leastWhich', 'leave', 'leaves', 'leaving', 'lect', 'lecture', 'lecturer', 'left', 'leftovers', 'leg', 'legal', 'legitimat', 'legs', 'leh', 'lehHaha', 'lei', 'lemme', 'length', 'lengths', 'lennon', 'leo', 'leona', 'leonardo', 'leonas', 'less', 'lesser', 'lesson', 'lessons', 'let', 'lets', 'letter', 'letters', 'leu', 'level', 'li', 'liao', 'liaoSo', 'liaoToo', 'lib', 'library', 'lick', 'licks', 'lido', 'lie', 'lies', 'life', 'lifeThis', 'lifeand', 'lifebook', 'lifeis', 'lifetime', 'lifeyou', 'lift', 'lifted', 'lifting', 'light', 'lighters', 'lightly', 'lik', 'like', 'liked', 'likely', 'likes', 'lil', 'lim', 'limit', 'limiting', 'limits', 'limping', 'line', 'linear', 'lined', 'linerental', 'lines', 'lineyou', 'lingerie', 'lingo', 'link', 'links', 'linux', 'lion', 'lionm', 'lionp', 'lip', 'lipo', 'lips', 'liquor', 'list', 'listed', 'listen', 'listener', 'listening', 'listening2the', 'listn', 'lists', 'lit', 'literally', 'little', 'live', 'lived', 'liver', 'lives', 'living', 'lk', 'lm', 'lmao', 'lnly', 'lo', 'load', 'loads', 'loan', 'loans', 'lobby', 'local', 'location', 'locations', 'lock', 'locks', 'lodge', 'lodging', 'log', 'logged', 'logging', 'login', 'logo', 'logoff', 'logopic', 'logos', 'logosmusicnews', 'loko', 'lol', 'londn', 'london', 'loneliness', 'lonely', 'long', 'longer', 'lonlines', 'loo', 'look', 'looked', 'lookin', 'looking', 'looks', 'looovvve', 'loose', 'loosing', 'lor', 'lorWe', 'lorgoin', 'lose', 'losers', 'loses', 'losing', 'loss', 'lost', 'lot', 'loti', 'lotr', 'lots', 'lotsly', 'lotsof', 'lotta', 'lotto', 'lotwill', 'lotz', 'lou', 'loud', 'lounge', 'lousy', 'lov', 'lovable', 'love', 'loveJen', 'loved', 'lovely', 'lover', 'loverakhesh', 'loverboy', 'lovers', 'loves', 'lovin', 'loving', 'lovingly', 'lovly', 'low', 'lower', 'lowes', 'loxahatchee', 'loyal', 'loyalty', 'lst', 'lt', 'lt3', 'ltDECIMALgt', 'ltEMAILgt', 'ltTIMEgt', 'ltURLgt', 'ltgt', 'lttrs', 'lubly', 'luck', 'luck2', 'lucky', 'lucozadecoukwrc', 'luks', 'lunch', 'lunchtime', 'lunchyou', 'lunsford', 'lush', 'luv', 'luvNight', 'luvd', 'luvs', 'luxury', 'lv', 'lyf', 'lyfu', 'lying', 'lyk', 'lyricalladie21F', 'lyrics', 'm100', 'm8', 'm8s', 'maaaan', 'mac', 'machan', 'machiany', 'machines', 'macho', 'mack', 'macleran', 'macs', 'mad', 'madam', 'made', 'madodu', 'madoke', 'madstini', 'madthen', 'mag', 'maga', 'magazine', 'maggi', 'magic', 'magical', 'magicalsongsblogspotcom', 'mah', 'mahal', 'mahfuuzmeaning', 'mail', 'mailed', 'maili', 'mails', 'main', 'maintaining', 'major', 'make', 'makes', 'makiing', 'makin', 'making', 'malaria', 'malarky', 'male', 'mall', 'man', 'manage', 'manageable', 'managed', 'management', 'manda', 'mandara', 'manege', 'mango', 'maniac', 'manky', 'manual', 'many', 'map', 'mapquest', 'maps', 'maraikara', 'marandratha', 'march', 'margin', 'mark', 'market', 'marketing', 'marking', 'marrgeremembr', 'marriage', 'marriageprogram', 'married', 'marry', 'mary', 'mas', 'masked', 'massages', 'massagetiepos', 'massive', 'masteriastering', 'masters', 'match', 'matches', 'mate', 'mates', 'math', 'mathematics', 'maths', 'matra', 'matric', 'matter', 'mattermsg', 'matters', 'matured', 'maturity', 'max', 'max6month', 'maximize', 'maximum', 'may', 'mayb', 'maybe', 'mb', 'mc', 'mca', 'mcat', 'mcr', 'meAre', 'meDont', 'meI', 'meRemove', 'meal', 'meals', 'mean', 'meaning', 'meaningful', 'meaningless', 'means', 'meant', 'measure', 'meatballs', 'med', 'medical', 'medicine', 'meds', 'mee', 'meet', 'meetin', 'meeting', 'meetins', 'meetitz', 'meets', 'mega', 'meh', 'mei', 'meim', 'meis', 'meive', 'mel', 'melike', 'melody', 'melt', 'member', 'members', 'membership', 'membershiptake', 'memorable', 'memories', 'memory', 'men', 'meneed', 'mens', 'mental', 'mention', 'mentionedtomorrow', 'mentionned', 'mentor', 'menu', 'meok', 'meow', 'meowD', 'merely', 'merry', 'mesages', 'meshe', 'meso', 'mess', 'message', 'messageIts', 'messaged', 'messageit', 'messageno', 'messagepandy', 'messages', 'messagesText', 'messagesim', 'messenger', 'messy', 'met', 'method', 'meummifyingbye', 'mgs', 'mi', 'mia', 'mid', 'middle', 'midnight', 'mids', 'might', 'miiiiiiissssssssss', 'miles', 'milk', 'millers', 'million', 'miltaZindgi', 'min', 'minAPN', 'mina', 'mind', 'minded', 'mindi', 'mindsetbelieve', 'mine', 'mineall', 'minecraft', 'mines', 'mini', 'minimum', 'minor', 'mins', 'mins100txtmth', 'minstand', 'minstexts', 'mint', 'minus', 'minute', 'minutes', 'minuts', 'miracle', 'mirror', 'mis', 'misbehaved', 'miserable', 'misfits', 'mising', 'miss', 'misscall', 'missed', 'missin', 'missing', 'missionary', 'missions', 'misss', 'misstake', 'missunderstding', 'mist', 'mistake', 'mistakes', 'misundrstud', 'mite', 'mitsake', 'miwa', 'mj', 'mjzgroup', 'ml', 'mns', 'mnth', 'mo', 'moan', 'mob', 'mobile', 'mobiles', 'mobilesvary', 'mobs', 'mobsicom', 'moby', 'mode', 'model', 'modelsony', 'modl', 'module', 'modules', 'mofo', 'moji', 'mokka', 'molestedsomeone', 'mom', 'moment', 'moments', 'moms', 'mon', 'monday', 'mondaynxt', 'moneYas', 'moneeppolum', 'money', 'moneyi', 'monkey', 'monkeys', 'mono', 'monos', 'monster', 'month', 'monthly', 'monthnot', 'months', 'mood', 'moon', 'morn', 'mornin', 'morning', 'morningtake', 'morphine', 'moseley', 'mostly', 'mother', 'motherfucker', 'motivating', 'motive', 'motor', 'motorola', 'mountain', 'mouse', 'mouth', 'move', 'moved', 'moves', 'movie', 'movies', 'moviewat', 'moving', 'mp3', 'mr', 'mre', 'mrng', 'mrt', 'ms', 'msg', 'msging', 'msgrcvd18', 'msgs', 'msgs150p', 'msgsD', 'msgsometext', 'msgsubscription', 'msgticketkioskValid', 'msn', 'mt', 'mth', 'mths', 'mtnl', 'mu', 'much', 'muchand', 'muchi', 'muchimpede', 'mudyadhu', 'mufti', 'muht', 'multimedia', 'multis', 'mum', 'mumHas', 'mumbai', 'mummy', 'mummys', 'mums', 'mundhe', 'murali', 'murder', 'murdered', 'murderer', 'mus', 'mush', 'mushy', 'music', 'musical', 'must', 'musthu', 'mustprovide', 'mutai', 'mutations', 'muz', 'mw', 'mylife', 'mymoby', 'myparents', 'mys', 'mytonecomenjoy', 'n', 'n8', 'na', 'naal', 'nachos', 'nag', 'nagar', 'nahi', 'nails', 'naked', 'nalla', 'nalli', 'name', 'named', 'namemy', 'names', 'nammanna', 'nan', 'nange', 'nanny', 'nannys', 'nap', 'narcotics', 'naseeb', 'nasty', 'nat', 'national', 'nattil', 'natuition', 'natural', 'nature', 'natwest', 'naughty', 'nauseous', 'nav', 'navigate', 'nb', 'nd', 'ne', 'near', 'nearby', 'nearer', 'nearly', 'necesity', 'necessarily', 'necessary', 'necessity', 'neck', 'necklace', 'ned', 'need', 'needa', 'needed', 'neededSalary', 'needing', 'needle', 'needs', 'needy', 'neekunna', 'negative', 'neglect', 'neglet', 'neighbor', 'neighbors', 'neither', 'nelson', 'nervous', 'net', 'netflix', 'netno', 'network', 'networks', 'neva', 'nevamindWe', 'never', 'nevering', 'nevr', 'new', 'newest', 'news', 'newsBy', 'newsHype', 'newscaster', 'newspapers', 'next', 'ni8', 'ni8swt', 'nice', 'nichols', 'nicky', 'nig', 'nigeria', 'night', 'nighters', 'nightnight', 'nightnobody', 'nights', 'nightsExcellent', 'nightsWe', 'nightswt', 'nigpun', 'nigro', 'nike', 'ninish', 'nino', 'nipost', 'nit', 'nite', 'nitro', 'nitros', 'nitz', 'njan', 'nmde', 'nobbing', 'nobody', 'nobodys', 'noe', 'noise', 'noisy', 'nokia', 'nokias', 'noline', 'nolistened2the', 'non', 'noncomittal', 'none', 'nonetheless', 'noon', 'nora', 'nordstrom', 'norm', 'norm150ptone', 'normal', 'normally', 'north', 'northampton', 'nos', 'nose', 'nosh', 'nosy', 'note', 'notebook', 'notes', 'nothin', 'nothing', 'nothis', 'notice', 'notifications', 'notified', 'notixiquating', 'notxtcouk', 'noun', 'novelty', 'nowSKY', 'nowSavaMobmember', 'nowSend', 'nowTCs', 'nowUse', 'nowadayslot', 'nowcan', 'nowi', 'nownyt', 'nowonion', 'nowstill', 'nt', 'nte', 'ntswt', 'ntwk', 'nuclear', 'nudist', 'nuerologist', 'num', 'number', 'numberpls', 'numbers', 'nursery', 'nurses', 'nus', 'nusstu', 'nuther', 'nvm', 'nw', 'nxt', 'nyc', 'nydc', 'nyt', 'nz', 'nìte', 'o2coukgames', 'oath', 'obedient', 'obese', 'obey', 'objection', 'oblisingately', 'oblivious', 'obviously', 'occasion', 'occupied', 'occupy', 'occur', 'occurs', 'oclock', 'october', 'odalebeku', 'odi', 'offc', 'offcampus', 'offdam', 'offense', 'offer', 'offered', 'offering', 'offers', 'office', 'officer', 'officestill', 'officethenampet', 'officeunderstand', 'officewhats', 'official', 'officially', 'offline', 'ofice', 'oficegot', 'often', 'oga', 'ogunrinde', 'oh', 'oil', 'ok', 'okay', 'okcome', 'okday', 'okie', 'okmail', 'oktake', 'okthenwhats', 'okvarunnathu', 'ola', 'olage', 'olave', 'olayiwolas', 'old', 'ollubut', 'olowoyey', 'olympics', 'omw', 'ondu', 'one', 'onedge', 'ones', 'oneta', 'oni', 'onit', 'online', 'onlinewhy', 'onluy', 'onlybettr', 'onlydon', 'onto', 'onwards', 'onwords', 'open', 'opened', 'opener', 'openin', 'opening', 'openings', 'operate', 'operator', 'opinion', 'opinions', 'opponenter', 'opportunity', 'opportunityall', 'opportunitypls', 'opposed', 'opposite', 'opps', 'opt', 'opted', 'optimistic', 'optin', 'option', 'optout', 'or2optoutHV9D', 'or2stoptxt', 'oral', 'orange', 'orc', 'orchard', 'order', 'ordered', 'ore', 'oredi', 'oreo', 'organise', 'orig', 'original', 'orno', 'ors', 'ortxt', 'oru', 'os', 'oscar', 'oso', 'others', 'otherwise', 'othrs', 'otside', 'ou', 'ouch', 'oursso', 'outage', 'outages', 'outbid', 'outdoors', 'outfit', 'outfor', 'outgoing', 'outhave', 'outif', 'outrageous', 'outreach', 'outs', 'outside', 'outsider', 'outstanding', 'outta', 'ovarian', 'overa', 'overdid', 'overemphasiseor', 'overheating', 'overtime', 'ovr', 'ovulatewhen', 'ovulation', 'ow', 'owe', 'owed', 'owl', 'owned', 'owns', 'ownyouve', 'owo', 'oxygen', 'oyster', 'oz', 'p', 'pa', 'paces', 'pack', 'package', 'packalso', 'packing', 'packs', 'padhegm', 'page', 'pages', 'pai', 'paid', 'pain', 'painful', 'painhope', 'paining', 'painit', 'painting', 'pale', 'palm', 'pan', 'panalambut', 'panic', 'panicks', 'panren', 'panties', 'pants', 'pap', 'papa', 'paper', 'papers', 'paperwork', 'paracetamol', 'parachute', 'parade', 'paragon', 'paragraphs', 'paranoid', 'parantella', 'parchi', 'parco', 'parent', 'parentnot', 'parents', 'parentsi', 'parish', 'park', 'park6ph', 'parked', 'parkin', 'parking', 'part', 'participate', 'particular', 'particularly', 'parties', 'partner', 'partnership', 'parts', 'party', 'paru', 'pases', 'pass', 'passThey', 'passable', 'passed', 'passes', 'passion', 'passionate', 'passport', 'password', 'past', 'pataistha', 'patent', 'path', 'paths', 'patients', 'pattern', 'patty', 'pattys', 'pause', 'pay', 'payasam', 'payback', 'payed', 'paying', 'payment', 'payments', 'payoh', 'paypal', 'pc', 'pdateNow', 'peace', 'peaceful', 'peak', 'pears', 'pee', 'peeps', 'pehle', 'pei', 'pen', 'pence', 'pendent', 'pending', 'pendingi', 'penis', 'people', 'peoples', 'per', 'percent', 'percentages', 'perf', 'perfect', 'perform', 'performance', 'performed', 'perfume', 'perhaps', 'period', 'permanent', 'permission', 'permissions', 'perpetual', 'persevered', 'person', 'person2die', 'personMeet', 'personal', 'personally', 'persons', 'perspective', 'perumbavoor', 'pesky', 'petrol', 'pg', 'ph', 'ph08700435505150p', 'phasing', 'phd', 'phews', 'philosophical', 'philosophy', 'phne', 'phone', 'phone750', 'phonebook', 'phoned', 'phones', 'photo', 'photos', 'photoshop', 'phrase', 'physics', 'piah', 'pic', 'picTxt', 'pick', 'picked', 'picking', 'pickle', 'pics', 'picture', 'pictures', 'pie', 'piece', 'pieces', 'pierre', 'pig', 'pilates', 'pile', 'pillows', 'pimples', 'pimpleseven', 'pin', 'pink', 'pints', 'pisces', 'piss', 'pissed', 'pix', 'pixels', 'pizza', 'place', 'placeNo', 'placed', 'placement', 'places', 'plaid', 'plan', 'plane', 'planet', 'planetI', 'planned', 'planning', 'plans', 'plate', 'play', 'played', 'player', 'players', 'playerwhy', 'playi', 'playing', 'playng', 'plaza', 'pleasant', 'please', 'pleased', 'pleasure', 'pleasured', 'plenty', 'plm', 'ploughing', 'pls', 'plum', 'plumbers', 'plumbingremixed', 'plural', 'plus', 'plz', 'pm', 'pmt', 'po', 'pocay', 'pocked', 'pockets', 'pocy', 'poem', 'poet', 'point', 'points', 'poker', 'poking', 'pole', 'police', 'politicians', 'poly', 'polyH', 'polyPH', 'polypH', 'polyphonic', 'polys', 'polytruePixRingtonesGames', 'pongal', 'pongaldo', 'ponnungale', 'poo', 'pookie', 'pool', 'poop', 'poor', 'poorly', 'poortiyagi', 'pop', 'popcorn', 'popped', 'popping', 'porn', 'porridge', 'port', 'portal', 'portege', 'posh', 'posible', 'position', 'positions', 'positive', 'possession', 'possessive', 'possessiveness', 'possibility', 'possible', 'possibleHope', 'possibly', 'post', 'postal', 'postcode', 'posted', 'posterode', 'posting', 'postponed', 'posts', 'potato', 'potential', 'pouch', 'pound', 'pounded', 'pounds', 'poured', 'pours', 'pouts', 'power', 'powerful', 'ppl', 'pple', 'pple700', 'ppm', 'ppm150', 'ppt150x3normal', 'prabha', 'pract', 'practical', 'practice', 'practicing', 'practicum', 'practising', 'praises', 'prakasam', 'prakasamanu', 'praps', 'prasad', 'pray', 'prayers', 'praying', 'prayingwill', 'pre', 'prebook', 'predict', 'predicting', 'prediction', 'predictive', 'prefer', 'preferably', 'prem', 'premium', 'prepaid', 'prepare', 'prepared', 'prepayment', 'preponed', 'prescribed', 'prescripiton', 'prescription', 'presence', 'present', 'presents', 'presnts', 'press', 'pressies', 'pressure', 'prestige', 'pretend', 'pretsorginta', 'pretsovru', 'pretty', 'prevent', 'previews', 'previous', 'previously', 'prey', 'price', 'prices', 'priceso', 'pride', 'priest', 'prin', 'prince', 'princeGN', 'princes', 'princess', 'print', 'printed', 'printing', 'prior', 'priority', 'priscillas', 'privacy', 'private', 'prix', 'priya', 'prize', 'prizeTo', 'prizes', 'prizesWith', 'prob', 'probably', 'problem', 'problematic', 'problembut', 'problemfree', 'problemi', 'problems', 'problum', 'probs', 'process', 'processExcellent', 'processed', 'processits', 'processnetworking', 'prods', 'products', 'professional', 'professors', 'profile', 'profiles', 'profit', 'program', 'programs', 'progress', 'project', 'projects', 'prolly', 'prometazine', 'prominent', 'promise', 'promised', 'promises', 'promoting', 'promptly', 'prompts', 'prone', 'proof', 'proove', 'proper', 'properly', 'property', 'propose', 'propsd', 'pros', 'prospects', 'protect', 'prove', 'provided', 'provider', 'province', 'proze', 'prsn', 'ps3', 'pthis', 'pub', 'pubcafe', 'public', 'publish', 'pubs', 'pudunga', 'pull', 'pulling', 'pulls', 'pump', 'punch', 'punish', 'punishment', 'punto', 'puppy', 'pura', 'purchase', 'purchases', 'pure', 'purpose', 'purse', 'push', 'pushes', 'pussy', 'put', 'puts', 'puttin', 'putting', 'puzzeles', 'puzzles', 'qatar', 'qbank', 'qet', 'qi', 'qing', 'quality', 'quarter', 'queen', 'question', 'questioned', 'questions', 'questionstd', 'quick', 'quickly', 'quiet', 'quit', 'quite', 'quitting', 'quiz', 'quizclub', 'quizzes', 'quote', 'quoting', 'r', 'racing', 'radiator', 'radio', 'raed', 'rael', 'raglan', 'rahul', 'raiden', 'railway', 'rain', 'raining', 'raise', 'raised', 'rajas', 'rajini', 'rakhesh', 'raksha', 'ralphs', 'ramen', 'ran', 'random', 'randomlly', 'randomly', 'randy', 'rang', 'range', 'raping', 'rate', 'rateTCs', 'rates', 'rather', 'ratio', 'rawring', 'rayan', 'rays', 'rcbbattle', 'rcd', 'rcv', 'rcvd', 'rd', 'rdy', 'reLation', 'reach', 'reache', 'reached', 'reaching', 'reacting', 'reaction', 'read', 'readers', 'readiness', 'reading', 'ready', 'readyall', 'real', 'realise', 'realised', 'realising', 'reality', 'realize', 'realized', 'realizes', 'really', 'realy', 'reapply', 'rearrange', 'reason', 'reasonable', 'reasons', 'reassurance', 'reassuring', 'reboot', 'rebooting', 'rebtel', 'rec', 'recd', 'recdthirtyeight', 'receipt', 'receipts', 'receive', 'receivea', 'received', 'receiving', 'recent', 'recently', 'reception', 'recession', 'recharge', 'rechargeRakhesh', 'recharged', 'recieve', 'reckon', 'recognise', 'recognises', 'record', 'recorded', 'recorder', 'records', 'recount', 'recovery', 'recreation', 'recycling', 'red', 'redeemable', 'redred', 'reduce', 'ree', 'ref', 'reference', 'references', 'referin', 'reffering', 'refilled', 'reflex', 'reformat', 'refreshed', 'refund', 'refundedThis', 'refused', 'reg', 'regard', 'regarding', 'regards', 'register', 'registered', 'registration', 'regret', 'regretted', 'regular', 'rejected', 'related', 'relation', 'relationshipits', 'relatives', 'relax', 'relaxing', 'released', 'reliant', 'relieved', 'religiously', 'relocate', 'reltnship', 'rem', 'remain', 'remains', 'remb', 'remember', 'remembered', 'remet', 'remind', 'reminded', 'reminder', 'reminding', 'reminds', 'removal', 'remove', 'removed', 'rencontre', 'renewal', 'renewed', 'renewing', 'rent', 'rental', 'renting', 'rentl', 'rents', 'repair', 'repairs', 'repeat', 'repeating', 'repent', 'replace', 'replacement', 'replacing', 'replied', 'replies', 'reply', 'replyBe', 'replying', 'report', 'reppurcussions', 'representative', 'republic', 'request', 'requests', 'require', 'required', 'requirements', 'requires', 'reschedule', 'research', 'resend', 'resent', 'reservations', 'reserve', 'reserved', 'reserves', 'reset', 'residency', 'resizing', 'reslove', 'resolution', 'resolved', 'resort', 'respect', 'respectful', 'responcewhat', 'respond', 'responding', 'response', 'responsibilities', 'responsibility', 'responsible', 'rest', 'restUWud', 'restWish', 'restaurant', 'restock', 'restocked', 'restrict', 'restrictions', 'resub', 'resubbing', 'resubmit', 'result', 'results', 'resume', 'resuming', 'retard', 'retired', 'retrieve', 'return', 'returned', 'returning', 'returns', 'reunion', 'revealed', 'revealing', 'review', 'revision', 'reward', 'rewarding', 'rhode', 'rhythm', 'rice', 'rich', 'riddance', 'ridden', 'ride', 'right', 'rightly', 'rights', 'rileys', 'rimac', 'ring', 'ringing', 'ringtone', 'ringtoneget', 'ringtoneking', 'ringtones', 'rinu', 'rip', 'ripped', 'risk', 'risks', 'rite', 'ritten', 'river', 'road', 'roads', 'roadsRVx', 'roast', 'rob', 'robinson', 'robs', 'rock', 'rocking', 'rocks', 'rofl', 'roger', 'role', 'roles', 'rolled', 'roller', 'romantic', 'ron', 'rons', 'room', 'roomate', 'roommate', 'roommates', 'rooms', 'ros', 'rose', 'rough', 'round', 'rounderso', 'rounds', 'route', 'row', 'rows', 'royal', 'rpl', 'rply', 'rr', 'rs', 'rsi', 'ru', 'rub', 'rubber', 'rude', 'rugby', 'ruin', 'ruining', 'rule', 'rules', 'rumbling', 'rummer', 'rumour', 'run', 'running', 'runninglets', 'runs', 'rupaul', 'rush', 'rushing', 'ryan', 'ryans', 'sOOn', 'sachin', 'sachinjust', 'sack', 'sacked', 'sacrifice', 'sad', 'safe', 'safely', 'safety', 'saibaba', 'said', 'saidif', 'sake', 'salary', 'sale', 'sales', 'salesman', 'salespee', 'salmon', 'salon', 'salt', 'samachara', 'samantha', 'sambarlife', 'sameso', 'samus', 'sandiago', 'sane', 'sang', 'sao', 'sapna', 'sar', 'sarasota', 'sarcasm', 'sarcastic', 'sariyag', 'sashimi', 'sat', 'satanic', 'sathy', 'sathya', 'satisfied', 'satisfy', 'satsgettin', 'saturday', 'satü', 'saucy', 'save', 'saved', 'saves', 'savings', 'saw', 'say', 'sayask', 'sayhey', 'sayin', 'saying', 'says', 'sayy', 'sc', 'scallies', 'scammers', 'scarcasim', 'scared', 'scary', 'scenario', 'scenery', 'sch', 'schedule', 'school', 'schools', 'science', 'scold', 'scorable', 'score', 'scores', 'scotland', 'scouse', 'scraped', 'scrappy', 'scratches', 'scratching', 'scream', 'screamed', 'screaming', 'screen', 'screwd', 'scrounge', 'scrumptious', 'sculpture', 'sd', 'sdryb8i', 'se', 'sea', 'search', 'searching', 'season', 'seat', 'sec', 'second', 'secondary', 'seconds', 'secret', 'secretary', 'secretly', 'secrets', 'secs', 'section', 'sections', 'secure', 'sed', 'see', 'seeds', 'seeing', 'seekers', 'seeking', 'seem', 'seemed', 'seems', 'seen', 'sees', 'sef', 'seh', 'sehwag', 'seing', 'select', 'selected', 'selection', 'self', 'selfish', 'selflessness', 'sell', 'selling', 'sells', 'sem', 'semester', 'semi', 'semiobscure', 'sen', 'send', 'sending', 'senor', 'senrddnot', 'sense', 'sensesrespect', 'sensible', 'sensitive', 'sent', 'sentence', 'senthil', 'senthilhsbc', 'seperated鈥', 'sept', 'september', 'series', 'serious', 'seriously', 'served', 'server', 'service', 'services', 'serving', 'set', 'setting', 'settings', 'settle', 'settled', 'settling', 'seven', 'several', 'sex', 'sexiest', 'sextextukcom', 'sexual', 'sexy', 'sfirst', 'sh', 'sha', 'shades', 'shadow', 'shag', 'shagged', 'shakara', 'shake', 'shaking', 'shall', 'shame', 'shangela', 'shanghai', 'shaping', 'share', 'shared', 'sharing', 'shattered', 'shaved', 'shd', 'sheet', 'sheets', 'sheffield', 'shelf', 'shell', 'shelves', 'shes', 'shexy', 'shindig', 'shining', 'ship', 'shipped', 'shipping', 'shirt', 'shirts', 'shit', 'shite', 'shitload', 'shits', 'shitstorm', 'shld', 'shldxxxx', 'shock', 'shocking', 'shoes', 'shoot', 'shop', 'shoppin', 'shopping', 'shopthe', 'shore', 'shoreThe', 'short', 'shortage', 'shortcode', 'shorter', 'shortly', 'shorts', 'shot', 'shoulders', 'shouldnt', 'shouted', 'shouting', 'shove', 'shoving', 'show', 'showed', 'shower', 'showered', 'showers', 'showing', 'showroomscity', 'shows', 'shrek', 'shrink', 'shrub', 'shu', 'shud', 'shuhui', 'shun', 'shut', 'shy', 'si', 'sian', 'sic', 'sick', 'sickness', 'side', 'sigh', 'sighs', 'sight', 'sign', 'signal', 'significance', 'significant', 'signin', 'signing', 'siguviri', 'silence', 'silent', 'silently', 'silly', 'silver', 'sim', 'simonwatson5120', 'simple', 'simpler', 'simply', 'simulate', 'since', 'sing', 'singapore', 'singing', 'single', 'singles', 'sink', 'sip', 'sips', 'sir', 'sirs', 'sis', 'sister', 'sisters', 'sit', 'site', 'sitll', 'sitter', 'sittin', 'sitting', 'situation', 'situations', 'sivatats', 'six', 'size', 'sized', 'skateboarding', 'skills', 'skinny', 'skins', 'skint', 'skip', 'skirt', 'sky', 'skye', 'skype', 'skyped', 'skyving', 'slacking', 'slap', 'slave', 'sleep', 'sleepin', 'sleeping', 'sleepingand', 'sleeps', 'sleepy', 'slept', 'slice', 'slices', 'slide', 'sliding', 'slightly', 'slip', 'slippers', 'slippery', 'slo', 'slob', 'slots', 'slovely', 'slow', 'slower', 'slowing', 'slowly', 'slurp', 'smacks', 'small', 'smaller', 'smart', 'smartThough', 'smarter', 'smash', 'smashed', 'smear', 'smell', 'smells', 'smeone', 'smidgin', 'smile', 'smiled', 'smiles', 'smiling', 'smoke', 'smoked', 'smokes', 'smokin', 'smoking', 'smoothly', 'sms', 'sms08718727870', 'smsd', 'smsing', 'smsshsexnetUN', 'smth', 'sn', 'snake', 'snappy', 'snatch', 'sneham', 'snickering', 'snogs', 'snow', 'snowball', 'snowboarding', 'snowman', 'snuggles', 'soc', 'sochte', 'social', 'sofa', 'soft', 'software', 'soil', 'soiree', 'soladha', 'solihull', 'solve', 'solved', 'some1', 'somebody', 'someday', 'someone', 'someones', 'someonethat', 'someplace', 'somerset', 'somethin', 'something', 'somethings', 'sometime', 'sometimeRakheshvisitor', 'sometimes', 'sometme', 'somewhat', 'somewhere', 'somewhereSomeone', 'somone', 'somtimes', 'sonathaya', 'song', 'songs', 'sonot', 'soo', 'soon', 'sooner', 'soonxxx', 'sooo', 'soooo', 'sooooo', 'sophas', 'sore', 'sorrow', 'sorrowsI', 'sorry', 'sorryi', 'sort', 'sorta', 'sorted', 'sorting', 'sorts', 'sory', 'sorydarealyfrm', 'soso', 'soul', 'sound', 'sounds', 'soundtrack', 'soup', 'source', 'sources', 'south', 'southern', 'souveniers', 'space', 'spacebucks', 'spaces', 'spageddies', 'spanish', 'spare', 'spares', 'spark', 'sparkling', 'spatula', 'speak', 'speaking', 'special', 'specialcall', 'specialisation', 'specialise', 'specially', 'specific', 'specify', 'specs', 'speechless', 'speed', 'speeding', 'speling', 'spell', 'spelled', 'spelling', 'spend', 'spending', 'spent', 'spice', 'spiffing', 'spile', 'spin', 'spirit', 'spiritual', 'spk', 'splash', 'splendid', 'split', 'splleing', 'splwat', 'spoil', 'spoiled', 'spoilt', 'spoke', 'spoken', 'sponsors', 'spontaneously', 'spoon', 'sporadically', 'sport', 'sports', 'spot', 'spotty', 'spouse', 'spreadsheet', 'spree', 'spring', 'springs', 'spys', 'sq825', 'squatting', 'squeezed', 'squid', 'srs', 'srsly', 'srt', 'sry', 'st', 'stability', 'stable', 'stadium', 'staff', 'staffsciencenusedusgphyhcmkteachingpc1323', 'stage', 'stagwood', 'stairs', 'stalk', 'stalking', 'stamped', 'stamps', 'stand', 'standard', 'standing', 'stands', 'star', 'starer', 'staring', 'starring', 'stars', 'starshine', 'start', 'started', 'startedindia', 'starti', 'starting', 'starts', 'starve', 'starving', 'stash', 'stated', 'statement', 'statements', 'station', 'stations', 'status', 'stay', 'stayed', 'stayin', 'staying', 'stays', 'std', 'steak', 'steal', 'stealing', 'steam', 'steamboat', 'steed', 'steering', 'step', 'steps', 'stereo', 'sterling', 'sterm', 'steve', 'stevelike', 'steyn', 'sth', 'stick', 'sticky', 'stifled', 'still', 'stillmaybe', 'stink', 'stitch', 'stock', 'stocked', 'stolen', 'stomach', 'stomps', 'stone', 'stoners', 'stones', 'stool', 'stop', 'stopCost', 'stopped', 'stops', 'stoptxtStop', 'stoptxtstop', 'store', 'storelike', 'stores', 'stories', 'story', 'str', 'str8', 'straight', 'strain', 'strange', 'stranger', 'strangersaw', 'street', 'streetshall', 'stress', 'stressed', 'stressful', 'stressfull', 'stretch', 'strewn', 'strict', 'strike', 'strings', 'stripes', 'strips', 'strong', 'strongly', 'strt', 'strtd', 'struggling', 'sts', 'stubborn', 'stuck', 'studdying', 'students', 'studentsthis', 'studies', 'studio', 'study', 'studying', 'studyn', 'stuff', 'stuff42moro', 'stuffed', 'stuffing', 'stuffleaving', 'stuffs', 'stuffwhy', 'stunning', 'stupid', 'style', 'styles', 'styling', 'stylish', 'sub', 'subject', 'subletting', 'submitted', 'submitting', 'subs', 'subscribe', 'subscribed', 'subscriber', 'subscribers', 'subscription', 'subscriptions', 'subscrition', 'subsequent', 'subtoitles', 'success', 'successful', 'successfully', 'sucker', 'suckers', 'sucks', 'sudden', 'suddenly', 'sudn', 'sue', 'suffer', 'suffering', 'suffers', 'sufficient', 'sugar', 'sugardad', 'suggest', 'suggestion', 'suggestions', 'suite', 'suitemates', 'suits', 'sum', 'sum1', 'sumfing', 'summer', 'summon', 'sumthin', 'sun', 'sun0819', 'sunday', 'sundayish', 'sunlight', 'sunny', 'sunoco', 'sunroof', 'sunshine', 'suntec', 'sup', 'super', 'superb', 'superior', 'supervisor', 'suply', 'supose', 'suppliers', 'supplies', 'supply', 'support', 'supportproviding', 'supports', 'supportvery', 'suppose', 'supposed', 'supreme', 'sura', 'sure', 'surely', 'surf', 'surfing', 'surgical', 'surname', 'surprise', 'surprised', 'surrender', 'surrounded', 'survey', 'surya', 'sutra', 'sux', 'suzy', 'svc', 'swalpa', 'swann', 'swashbuckling', 'swatch', 'sway', 'swear', 'sweater', 'sweatter', 'sweet', 'sweetie', 'sweets', 'swell', 'swhrt', 'swimming', 'swimsuit', 'swing', 'swiss', 'switch', 'swollen', 'swoop', 'swt', 'syd', 'syllabus', 'symbol', 'synced', 'syrup', 'system', 'systems', 'ta', 'table', 'tables', 'tablet', 'tablets', 'tackle', 'tacos', 'tactful', 'tactless', 'tag', 'tagged', 'tahan', 'tai', 'tait', 'take', 'taken', 'takenOnly', 'takes', 'takin', 'taking', 'talent', 'talents', 'talk', 'talking', 'talks', 'tall', 'tallahassee', 'tallent', 'tamilnaduthen', 'tampa', 'tank', 'tantrums', 'tap', 'tape', 'tariffs', 'tarpon', 'taste', 'tat', 'tattoos', 'tau', 'taught', 'taunton', 'taxes', 'taxi', 'taxless', 'taxt', 'taylor', 'taylors', 'tb', 'tc', 'tddnewsletteremc1couk', 'tea', 'teach', 'teacher', 'teaches', 'teaching', 'teacoffee', 'team', 'teams', 'tear', 'tears', 'tease', 'teasing', 'tech', 'technical', 'technologies', 'teenager', 'teeth', 'teethif', 'teethis', 'teju', 'tel', 'telephone', 'tell', 'telling', 'tells', 'telly', 'telphone', 'telugu', 'teluguthts', 'temales', 'temp', 'temper', 'temple', 'ten', 'tendencies', 'tensed', 'term', 'terms', 'terrible', 'terrific', 'terrorist', 'tescos', 'test', 'testing', 'tests', 'texas', 'text', 'textand', 'textbook', 'texted', 'textin', 'texting', 'textoperator', 'texts', 'textsweekend', 'tgxxrz', 'th', 'thandiyachu', 'thangam', 'thangamits', 'thank', 'thanks', 'thanks2', 'thanksgiving', 'thanx', 'thanxxx', 'that2worzels', 'thatd', 'thatdont', 'thati', 'thatll', 'thatnow', 'thats', 'the4th', 'theKingshead', 'theater', 'theatre', 'themP', 'themed', 'themes', 'thenwill', 'theory', 'theplace', 'thepub', 'theredo', 'theregoodnight', 'therere', 'theres', 'therexx', 'thesedays', 'thesis', 'thesmszonecom', 'theyll', 'theyre', 'thia', 'thin', 'thing', 'thinghow', 'things', 'think', 'thinkThis', 'thinked', 'thinkin', 'thinking', 'thinks', 'thinl', 'thirunelvali', 'thisdon', 'thk', 'thkin', 'thm', 'thnk', 'tho', 'thoso', 'thot', 'thou', 'though', 'thought', 'thoughts', 'thoughtsI', 'thousands', 'thread', 'threats', 'three', 'threw', 'thriller', 'throat', 'throw', 'throwin', 'throwing', 'thrown', 'throws', 'thru', 'thruRespect', 'ths', 'tht', 'thts', 'thuglyfe', 'thurs', 'thursday', 'thus', 'thx', 'tick', 'ticket', 'tickets', 'tiempo', 'tight', 'tightly', 'tigress', 'tihs', 'tiime', 'til', 'till', 'time', 'timeYour', 'timedhoni', 'timehope', 'times', 'timeslil', 'timeyou', 'timi', 'timin', 'timing', 'timings', 'tiny', 'tip', 'tips', 'tired', 'tiring', 'tirunelvai', 'tirunelvali', 'tirupur', 'tis', 'titleso', 'tiwary', 'tix', 'tiz', 'tke', 'tkts', 'tlk', 'tm', 'tming', 'tmr', 'tmrw', 'tmw', 'toClaim', 'toDo', 'toa', 'toaday', 'tobacco', 'today', 'todayFrom', 'todayGood', 'todaybut', 'todaydo', 'todayhe', 'todays', 'tog', 'together', 'tohar', 'toilet', 'tok', 'token', 'toking', 'tol', 'told', 'toldshe', 'tolerance', 'toleratbcs', 'tom', 'tomarrow', 'tomeandsaidTHIS', 'tomo', 'tomoCant', 'tomorro', 'tomorrow', 'tomorrowcall', 'tomorrowtoday', 'tone', 'tones', 'tones2youcouk', 'tonght', 'tongued', 'tonight', 'tonights', 'tonite', 'tonitebusy', 'tonitethings', 'tons', 'tonsolitusaswell', 'tooLets', 'tooPray', 'took', 'tookplace', 'tool', 'tooo', 'toopray', 'toot', 'toothpaste', 'tootsie', 'top', 'topic', 'topicsorry', 'topped', 'toppoly', 'tops', 'tor', 'torch', 'torrents', 'tortilla', 'torture', 'tosend', 'toshiba', 'toss', 'tot', 'total', 'totally', 'totes', 'touch', 'touched', 'tough', 'toughest', 'tour', 'towards', 'town', 'toyota', 'tp', 'track', 'trade', 'traffic', 'train', 'trained', 'training', 'trainners', 'trains', 'tram', 'tranquility', 'transaction', 'transcribing', 'transfer', 'transferacc', 'transfered', 'transferred', 'transfr', 'transfred', 'transport', 'trash', 'trauma', 'travel', 'traveling', 'travelled', 'travelling', 'treacle', 'treadmill', 'treasure', 'treat', 'treated', 'treatin', 'treats', 'trebles', 'tree', 'trek', 'trends', 'trial', 'tried', 'trip', 'trips', 'trishul', 'triumphed', 'tron', 'trouble', 'troubleshooting', 'trouser', 'truck', 'true', 'truekDo', 'truffles', 'truly', 'trust', 'trusting', 'truth', 'try', 'tryin', 'trying', 'ts', 'tshirt', 'tsunamis', 'tt', 'tts', 'ttyl', 'tue', 'tues', 'tuesday', 'tui', 'tuition', 'tul', 'tune', 'turkeys', 'turn', 'turned', 'turning', 'turns', 'tuth', 'tv', 'tvhe', 'tvlol', 'twat', 'twelve', 'twenty', 'twice', 'twins', 'two', 'txt', 'txtX', 'txtin', 'txting', 'txtjourney', 'txts', 'tyler', 'tylers', 'type', 'typelyk', 'types', 'typical', 'u', 'uOthrwise', 'uSo', 'ubandu', 'ubi', 'ugos', 'uh', 'uif', 'uk', 'uks', 'ull', 'ultimatum', 'um', 'umma', 'un', 'unable', 'unbelievable', 'unclaimed', 'uncle', 'uncles', 'uncomfortable', 'unconditionally', 'unconscious', 'unconsciously', 'unconvinced', 'uncountable', 'uncut', 'underdtand', 'understand', 'understanding', 'understood', 'underwear', 'undrstnd', 'undrstndng', 'unemployed', 'uneventful', 'unfolds', 'unfortunately', 'unfortuntly', 'unhappiness', 'unhappy', 'uni', 'uniform', 'unintentional', 'unintentionally', 'unique', 'uniqueI', 'units', 'univ', 'university', 'unknown', 'unless', 'unlimited', 'unmits', 'unnecessarily', 'unrecognized', 'unredeemed', 'unsold', 'unsoldmike', 'unsoldnow', 'unspoken', 'unsubscribe', 'unsubscribed', 'unusual', 'upcharge', 'update', 'upgrade', 'upgrading', 'uphad', 'upload', 'uploaded', 'uploads', 'upon', 'upping', 'upset', 'upseti', 'upsetits', 'upstairs', 'upto', 'ur', 'ure', 'urgent', 'urgentbut', 'urgentlyits', 'urgnt', 'urination', 'url', 'urmomi', 'urself', 'us', 'usGET', 'usLET', 'usb', 'usc', 'uscedu', 'use', 'used', 'useful', 'useless', 'user', 'uses', 'usf', 'using', 'usno', 'usps', 'usual', 'usualiam', 'usually', 'uterus', 'utter', 'uttered', 'uup', 'uv', 'uve', 'uwana', 'uwant', 'uworld', 'uxxxx', 'v', 'vaazhthukkal', 'vague', 'vaguely', 'vai', 'vale', 'valentine', 'valentines', 'valid', 'valuable', 'value', 'valueMorning', 'valued', 'valuing', 'varaya', 'vargu', 'various', 'varma', 'vary', 'vasai', 'vava', 'vday', 'vegas', 'vegetables', 'veggie', 'vehicle', 'velachery', 'venaam', 'venugopal', 'verified', 'verify', 'verifying', 'version', 'versus', 'vewy', 'via', 'vibrant', 'vibrate', 'vibrator', 'vic', 'victoria', 'victors', 'vid', 'video', 'videochat', 'videopic', 'videosound', 'videosounds2', 'vidnot', 'view', 'vijay', 'vijaykanth', 'vikky', 'vikkyim', 'vilikkamt', 'vill', 'village', 'vinobanagar', 'violated', 'violence', 'virgils', 'virgin', 'virgins', 'virtual', 'visa', 'visionsmscom', 'visit', 'visiting', 'visitneed', 'visitors', 'vital', 'vitamin', 'vivek', 'viveki', 'vl', 'vldo', 'vodafone', 'vodka', 'voice', 'voicemail', 'volcanoes', 'vomit', 'vomitin', 'vomiting', 'vote', 'voted', 'voucher', 'vouchers', 'vouchersText', 'vpist', 'vry', 'vs', 'vth', 'vtired', 'w', 'w1t1jy', 'w8in', 'wa', 'wad', 'wadebridgeI', 'wahala', 'wahay', 'waheed', 'waheeda', 'waht', 'wait', 'waited', 'waitin', 'waiting', 'wake', 'waking', 'waliking', 'walk', 'walkabout', 'walked', 'walkin', 'walking', 'walks', 'wall', 'wallet', 'wallpaper', 'wallpaperall', 'walls', 'walmart', 'walsall', 'wamma', 'wan', 'wana', 'wanna', 'want', 'want2come', 'wanted', 'wanting', 'wants', 'wap', 'warm', 'warming', 'warned', 'warner', 'warning', 'warranty', 'warwick', 'washob', 'wasnt', 'waste', 'wasted', 'wasting', 'wat', 'watch', 'watched', 'watches', 'watchin', 'watching', 'watchng', 'water', 'watever', 'watevr', 'watll', 'wats', 'watts', 'waves', 'way', 'waythis', 'wc', 'wc1n3xx', 'weak', 'weakness', 'weaknesses', 'weapon', 'wear', 'wearing', 'weaseling', 'weasels', 'weather', 'weathers', 'web', 'web2mobile', 'webadres', 'website', 'websitenow', 'wed', 'weddin', 'wedding', 'wednesday', 'weds', 'wee', 'weed', 'weeddeficient', 'week', 'weekdays', 'weekend', 'weekends', 'weekly', 'weeks', 'weekstop', 'weigh', 'weighed', 'weight', 'weightHaha', 'weird', 'weirdest', 'weirdo', 'weirdy', 'welcome', 'welcomes', 'well', 'welli', 'welltake', 'wellyou', 'welp', 'wen', 'wenever', 'went', 'wer', 'wereare', 'werent', 'wesley', 'wesleys', 'west', 'western', 'westonzoyland', 'westshore', 'wet', 'wetherspoons', 'weve', 'whatever', 'whats', 'wheat', 'wheel', 'wheellock', 'whenever', 'whens', 'whereare', 'wherebtw', 'wheres', 'wherever', 'whether', 'whileamp', 'whillTake', 'whispers', 'white', 'whn', 'whole', 'whos', 'whose', 'whr', 'wi', 'wicked', 'wicket', 'wid', 'widelivecomindex', 'wif', 'wife', 'wifedont', 'wifes', 'wifi', 'wihtuot', 'wikipediacom', 'wil', 'wildest', 'wildlife', 'willing', 'willpower', 'win', 'win150ppmx3age16', 'wind', 'window', 'windows', 'winds', 'windy', 'wine', 'wined', 'wining', 'winner', 'winning', 'wins', 'winterstone', 'wipro', 'wiproyou', 'wisdom', 'wise', 'wish', 'wisheds', 'wishes', 'wishin', 'wishing', 'wishlist', 'wiskey', 'wit', 'withdraw', 'wither', 'within', 'without', 'witin', 'witot', 'witout', 'wiv', 'wizzle', 'wk', 'wkTXT', 'wkend', 'wkg', 'wkly', 'wknd', 'wks', 'wlcome', 'wld', 'wmlid1b6a5ecef91ff937819firsttrue180430JUL05', 'wmlid820554ad0a1705572711firsttrue', 'wnt', 'wo', 'woah', 'wocay', 'woke', 'woken', 'woman', 'womdarfull', 'women', 'wondar', 'wondarfull', 'wonder', 'wonderful', 'wondering', 'wonders', 'wont', 'woot', 'woould', 'woozles', 'worc', 'word', 'wordCOLLECT', 'wordSTART', 'wordnot', 'words', 'work', 'workAnd', 'workLove', 'workage', 'workin', 'working', 'workout', 'works', 'world', 'worldgnun', 'worldmay', 'worlds', 'worldvery', 'worms', 'worried', 'worries', 'worry', 'worrying', 'worryuse', 'worse', 'worst', 'worth', 'worthless', 'wot', 'woul', 'would', 'woulda', 'wouldnt', 'wounds', 'wow', 'wquestion', 'wrecked', 'wrench', 'wrenching', 'write', 'writhing', 'wrk', 'wrking', 'wrks', 'wrnog', 'wrong', 'wrongly', 'wrote', 'ws', 'wt', 'wtc', 'wtf', 'wth', 'wthout', 'wud', 'wudnt', 'wuld', 'wuldnt', 'wun', 'www07781482378com', 'www4tcbiz', 'www80488biz', 'wwwApplausestorecom', 'wwwB4Utelecom', 'wwwIdewcom', 'wwwLdewcom', 'wwwLdewcom1win150ppmx3age16', 'wwwLdewcom1win150ppmx3age16subscription', 'wwwLdewcomsubs161win150ppmx3', 'wwwSMSacubootydelious', 'wwwSMSacugoldviking', 'wwwSMSacuhmmross', 'wwwSMSacunat27081980', 'wwwSMSacunatalie2k9', 'wwwareyouuniquecouk', 'wwwbridalpetticoatdreamscouk', 'wwwcashbincouk', 'wwwclubmobycom', 'wwwclubzedcouk', 'wwwcnupdatescomnewsletter', 'wwwcomuknet', 'wwwdbuknet', 'wwwflirtpartyus', 'wwwfullonsmscom', 'wwwgambtv', 'wwwgetzedcouk', 'wwwldewcom', 'wwwldewcom1win150ppmx3age16', 'wwwmovietriviatv', 'wwwmusictrivianet', 'wwworangecoukow', 'wwwphb1com', 'wwwregalportfoliocouk', 'wwwringtonekingcouk', 'wwwringtonescouk', 'wwwrtfsphostingcom', 'wwwsantacallingcom', 'wwwshortbreaksorguk', 'wwwsmsconet', 'wwwtcbiz', 'wwwtelediscountcouk', 'wwwtextcompcom', 'wwwtextpodnet', 'wwwtklscom', 'wwwtxt2shopcom', 'wwwtxt43com', 'wwwtxt82228com', 'wwwtxttowincouk', 'wwwwin82050couk', 'wylie', 'x', 'xafter', 'xam', 'xavier', 'xin', 'xins', 'xmas', 'xnet', 'xt', 'xuhui', 'xx', 'xxSP', 'xxx', 'xxxmobilemovieclubcomnQJKGIGHJJGCBL', 'xxxx', 'xxxxxxx', 'xxxxxxxx', 'xxxxxxxxxxxxxX', 'xy', 'ya', 'yah', 'yahoo', 'yalrigu', 'yam', 'yan', 'yards', 'yay', 'yck', 'yday', 'yeah', 'year', 'years', 'yelling', 'yellow', 'yeovil', 'yep', 'yer', 'yes', 'yest', 'yesterday', 'yet', 'yettys', 'yetunde', 'yi', 'yifeng', 'yijue', 'yijuehotmailcom', 'ym', 'yo', 'yoHere', 'yoga', 'yogasana', 'yor', 'yorge', 'youPhone', 'youTo', 'youany', 'youcarlos', 'youd', 'youdearwith', 'youdoing', 'youhow', 'youkwhere', 'yould', 'youll', 'youmoney', 'youmy', 'young', 'younger', 'youre', 'yourinclusive', 'youso', 'youthats', 'youuuuu', 'youve', 'youwanna', 'youwhen', 'yoville', 'yowifes', 'yr', 'yrs', 'ystrdayice', 'yummy', 'yun', 'yuo', 'yuou', 'zac', 'zealand', 'zed', 'zeros', 'zhong', 'zoom', 'zyada', 'Ü', 'Üll', 'é', 'ü', 'üll', '〨ud']\n"
     ]
    }
   ],
   "source": [
    "print(cv1.get_feature_names())"
   ]
  },
  {
   "cell_type": "code",
   "execution_count": 77,
   "metadata": {},
   "outputs": [
    {
     "name": "stdout",
     "output_type": "stream",
     "text": [
      "(10, 137)\n"
     ]
    }
   ],
   "source": [
    "# create sample data\n",
    "data_sample = data[:10]\n",
    "cv2 = CountVectorizer(analyzer=clean_text)\n",
    "\n",
    "X = cv2.fit_transform(data_sample['msg'])\n",
    "print(X.shape)"
   ]
  },
  {
   "cell_type": "code",
   "execution_count": 78,
   "metadata": {},
   "outputs": [
    {
     "data": {
      "text/html": [
       "<div>\n",
       "<style scoped>\n",
       "    .dataframe tbody tr th:only-of-type {\n",
       "        vertical-align: middle;\n",
       "    }\n",
       "\n",
       "    .dataframe tbody tr th {\n",
       "        vertical-align: top;\n",
       "    }\n",
       "\n",
       "    .dataframe thead th {\n",
       "        text-align: right;\n",
       "    }\n",
       "</style>\n",
       "<table border=\"1\" class=\"dataframe\">\n",
       "  <thead>\n",
       "    <tr style=\"text-align: right;\">\n",
       "      <th></th>\n",
       "      <th>08002986030</th>\n",
       "      <th>08452810075over18s</th>\n",
       "      <th>09061701461</th>\n",
       "      <th>11</th>\n",
       "      <th>12</th>\n",
       "      <th>150</th>\n",
       "      <th>2</th>\n",
       "      <th>2005</th>\n",
       "      <th>21st</th>\n",
       "      <th>3</th>\n",
       "      <th>...</th>\n",
       "      <th>u</th>\n",
       "      <th>usf</th>\n",
       "      <th>valued</th>\n",
       "      <th>wat</th>\n",
       "      <th>weeks</th>\n",
       "      <th>wif</th>\n",
       "      <th>win</th>\n",
       "      <th>wkly</th>\n",
       "      <th>word</th>\n",
       "      <th>world</th>\n",
       "    </tr>\n",
       "  </thead>\n",
       "  <tbody>\n",
       "    <tr>\n",
       "      <th>0</th>\n",
       "      <td>0</td>\n",
       "      <td>0</td>\n",
       "      <td>0</td>\n",
       "      <td>0</td>\n",
       "      <td>0</td>\n",
       "      <td>0</td>\n",
       "      <td>0</td>\n",
       "      <td>0</td>\n",
       "      <td>0</td>\n",
       "      <td>0</td>\n",
       "      <td>...</td>\n",
       "      <td>0</td>\n",
       "      <td>0</td>\n",
       "      <td>0</td>\n",
       "      <td>1</td>\n",
       "      <td>0</td>\n",
       "      <td>0</td>\n",
       "      <td>0</td>\n",
       "      <td>0</td>\n",
       "      <td>0</td>\n",
       "      <td>1</td>\n",
       "    </tr>\n",
       "    <tr>\n",
       "      <th>1</th>\n",
       "      <td>0</td>\n",
       "      <td>0</td>\n",
       "      <td>0</td>\n",
       "      <td>0</td>\n",
       "      <td>0</td>\n",
       "      <td>0</td>\n",
       "      <td>0</td>\n",
       "      <td>0</td>\n",
       "      <td>0</td>\n",
       "      <td>0</td>\n",
       "      <td>...</td>\n",
       "      <td>1</td>\n",
       "      <td>0</td>\n",
       "      <td>0</td>\n",
       "      <td>0</td>\n",
       "      <td>0</td>\n",
       "      <td>1</td>\n",
       "      <td>0</td>\n",
       "      <td>0</td>\n",
       "      <td>0</td>\n",
       "      <td>0</td>\n",
       "    </tr>\n",
       "    <tr>\n",
       "      <th>2</th>\n",
       "      <td>0</td>\n",
       "      <td>1</td>\n",
       "      <td>0</td>\n",
       "      <td>0</td>\n",
       "      <td>0</td>\n",
       "      <td>0</td>\n",
       "      <td>1</td>\n",
       "      <td>1</td>\n",
       "      <td>1</td>\n",
       "      <td>0</td>\n",
       "      <td>...</td>\n",
       "      <td>0</td>\n",
       "      <td>0</td>\n",
       "      <td>0</td>\n",
       "      <td>0</td>\n",
       "      <td>0</td>\n",
       "      <td>0</td>\n",
       "      <td>1</td>\n",
       "      <td>1</td>\n",
       "      <td>0</td>\n",
       "      <td>0</td>\n",
       "    </tr>\n",
       "    <tr>\n",
       "      <th>3</th>\n",
       "      <td>0</td>\n",
       "      <td>0</td>\n",
       "      <td>0</td>\n",
       "      <td>0</td>\n",
       "      <td>0</td>\n",
       "      <td>0</td>\n",
       "      <td>0</td>\n",
       "      <td>0</td>\n",
       "      <td>0</td>\n",
       "      <td>0</td>\n",
       "      <td>...</td>\n",
       "      <td>0</td>\n",
       "      <td>0</td>\n",
       "      <td>0</td>\n",
       "      <td>0</td>\n",
       "      <td>0</td>\n",
       "      <td>0</td>\n",
       "      <td>0</td>\n",
       "      <td>0</td>\n",
       "      <td>0</td>\n",
       "      <td>0</td>\n",
       "    </tr>\n",
       "    <tr>\n",
       "      <th>4</th>\n",
       "      <td>0</td>\n",
       "      <td>0</td>\n",
       "      <td>0</td>\n",
       "      <td>0</td>\n",
       "      <td>0</td>\n",
       "      <td>0</td>\n",
       "      <td>0</td>\n",
       "      <td>0</td>\n",
       "      <td>0</td>\n",
       "      <td>0</td>\n",
       "      <td>...</td>\n",
       "      <td>0</td>\n",
       "      <td>1</td>\n",
       "      <td>0</td>\n",
       "      <td>0</td>\n",
       "      <td>0</td>\n",
       "      <td>0</td>\n",
       "      <td>0</td>\n",
       "      <td>0</td>\n",
       "      <td>0</td>\n",
       "      <td>0</td>\n",
       "    </tr>\n",
       "    <tr>\n",
       "      <th>5</th>\n",
       "      <td>0</td>\n",
       "      <td>0</td>\n",
       "      <td>0</td>\n",
       "      <td>0</td>\n",
       "      <td>0</td>\n",
       "      <td>1</td>\n",
       "      <td>0</td>\n",
       "      <td>0</td>\n",
       "      <td>0</td>\n",
       "      <td>1</td>\n",
       "      <td>...</td>\n",
       "      <td>0</td>\n",
       "      <td>0</td>\n",
       "      <td>0</td>\n",
       "      <td>0</td>\n",
       "      <td>1</td>\n",
       "      <td>0</td>\n",
       "      <td>0</td>\n",
       "      <td>0</td>\n",
       "      <td>1</td>\n",
       "      <td>0</td>\n",
       "    </tr>\n",
       "    <tr>\n",
       "      <th>6</th>\n",
       "      <td>0</td>\n",
       "      <td>0</td>\n",
       "      <td>0</td>\n",
       "      <td>0</td>\n",
       "      <td>0</td>\n",
       "      <td>0</td>\n",
       "      <td>0</td>\n",
       "      <td>0</td>\n",
       "      <td>0</td>\n",
       "      <td>0</td>\n",
       "      <td>...</td>\n",
       "      <td>0</td>\n",
       "      <td>0</td>\n",
       "      <td>0</td>\n",
       "      <td>0</td>\n",
       "      <td>0</td>\n",
       "      <td>0</td>\n",
       "      <td>0</td>\n",
       "      <td>0</td>\n",
       "      <td>0</td>\n",
       "      <td>0</td>\n",
       "    </tr>\n",
       "    <tr>\n",
       "      <th>7</th>\n",
       "      <td>0</td>\n",
       "      <td>0</td>\n",
       "      <td>0</td>\n",
       "      <td>0</td>\n",
       "      <td>0</td>\n",
       "      <td>0</td>\n",
       "      <td>0</td>\n",
       "      <td>0</td>\n",
       "      <td>0</td>\n",
       "      <td>0</td>\n",
       "      <td>...</td>\n",
       "      <td>0</td>\n",
       "      <td>0</td>\n",
       "      <td>0</td>\n",
       "      <td>0</td>\n",
       "      <td>0</td>\n",
       "      <td>0</td>\n",
       "      <td>0</td>\n",
       "      <td>0</td>\n",
       "      <td>0</td>\n",
       "      <td>0</td>\n",
       "    </tr>\n",
       "    <tr>\n",
       "      <th>8</th>\n",
       "      <td>0</td>\n",
       "      <td>0</td>\n",
       "      <td>1</td>\n",
       "      <td>0</td>\n",
       "      <td>1</td>\n",
       "      <td>0</td>\n",
       "      <td>0</td>\n",
       "      <td>0</td>\n",
       "      <td>0</td>\n",
       "      <td>0</td>\n",
       "      <td>...</td>\n",
       "      <td>0</td>\n",
       "      <td>0</td>\n",
       "      <td>1</td>\n",
       "      <td>0</td>\n",
       "      <td>0</td>\n",
       "      <td>0</td>\n",
       "      <td>0</td>\n",
       "      <td>0</td>\n",
       "      <td>0</td>\n",
       "      <td>0</td>\n",
       "    </tr>\n",
       "    <tr>\n",
       "      <th>9</th>\n",
       "      <td>1</td>\n",
       "      <td>0</td>\n",
       "      <td>0</td>\n",
       "      <td>1</td>\n",
       "      <td>0</td>\n",
       "      <td>0</td>\n",
       "      <td>0</td>\n",
       "      <td>0</td>\n",
       "      <td>0</td>\n",
       "      <td>0</td>\n",
       "      <td>...</td>\n",
       "      <td>0</td>\n",
       "      <td>0</td>\n",
       "      <td>0</td>\n",
       "      <td>0</td>\n",
       "      <td>0</td>\n",
       "      <td>0</td>\n",
       "      <td>0</td>\n",
       "      <td>0</td>\n",
       "      <td>0</td>\n",
       "      <td>0</td>\n",
       "    </tr>\n",
       "  </tbody>\n",
       "</table>\n",
       "<p>10 rows × 137 columns</p>\n",
       "</div>"
      ],
      "text/plain": [
       "   08002986030  08452810075over18s  09061701461  11  12  150  2  2005  21st  \\\n",
       "0            0                   0            0   0   0    0  0     0     0   \n",
       "1            0                   0            0   0   0    0  0     0     0   \n",
       "2            0                   1            0   0   0    0  1     1     1   \n",
       "3            0                   0            0   0   0    0  0     0     0   \n",
       "4            0                   0            0   0   0    0  0     0     0   \n",
       "5            0                   0            0   0   0    1  0     0     0   \n",
       "6            0                   0            0   0   0    0  0     0     0   \n",
       "7            0                   0            0   0   0    0  0     0     0   \n",
       "8            0                   0            1   0   1    0  0     0     0   \n",
       "9            1                   0            0   1   0    0  0     0     0   \n",
       "\n",
       "   3  ...  u  usf  valued  wat  weeks  wif  win  wkly  word  world  \n",
       "0  0  ...  0    0       0    1      0    0    0     0     0      1  \n",
       "1  0  ...  1    0       0    0      0    1    0     0     0      0  \n",
       "2  0  ...  0    0       0    0      0    0    1     1     0      0  \n",
       "3  0  ...  0    0       0    0      0    0    0     0     0      0  \n",
       "4  0  ...  0    1       0    0      0    0    0     0     0      0  \n",
       "5  1  ...  0    0       0    0      1    0    0     0     1      0  \n",
       "6  0  ...  0    0       0    0      0    0    0     0     0      0  \n",
       "7  0  ...  0    0       0    0      0    0    0     0     0      0  \n",
       "8  0  ...  0    0       1    0      0    0    0     0     0      0  \n",
       "9  0  ...  0    0       0    0      0    0    0     0     0      0  \n",
       "\n",
       "[10 rows x 137 columns]"
      ]
     },
     "execution_count": 78,
     "metadata": {},
     "output_type": "execute_result"
    }
   ],
   "source": [
    "df = pd.DataFrame(X.toarray(), columns=cv2.get_feature_names())\n",
    "df"
   ]
  },
  {
   "cell_type": "markdown",
   "metadata": {},
   "source": [
    "# 16. N-Grams Vectorization"
   ]
  },
  {
   "cell_type": "code",
   "execution_count": 79,
   "metadata": {},
   "outputs": [],
   "source": [
    "# N-Grams Vectorization: creates a document-term matrix\n",
    "#     Columns represent all columns of adjacent word of length n\n",
    "#     cell represent count\n",
    "    \n",
    "#     I am studing NLP\n",
    "#     bigram(n=2)    : \"i am\",              \"am studing\",           \"studing NLP\"\n",
    "#     trigram(n=3)   : \"I am studing\",      \"am studing NLP\"\n",
    "#     4 gram(n=4)    : \"I am studing NLP\""
   ]
  },
  {
   "cell_type": "code",
   "execution_count": 80,
   "metadata": {},
   "outputs": [
    {
     "data": {
      "text/html": [
       "<div>\n",
       "<style scoped>\n",
       "    .dataframe tbody tr th:only-of-type {\n",
       "        vertical-align: middle;\n",
       "    }\n",
       "\n",
       "    .dataframe tbody tr th {\n",
       "        vertical-align: top;\n",
       "    }\n",
       "\n",
       "    .dataframe thead th {\n",
       "        text-align: right;\n",
       "    }\n",
       "</style>\n",
       "<table border=\"1\" class=\"dataframe\">\n",
       "  <thead>\n",
       "    <tr style=\"text-align: right;\">\n",
       "      <th></th>\n",
       "      <th>label</th>\n",
       "      <th>msg</th>\n",
       "    </tr>\n",
       "  </thead>\n",
       "  <tbody>\n",
       "    <tr>\n",
       "      <th>0</th>\n",
       "      <td>ham</td>\n",
       "      <td>Go until jurong point, crazy.. Available only in bugis n great world la e buffet... Cine there g...</td>\n",
       "    </tr>\n",
       "    <tr>\n",
       "      <th>1</th>\n",
       "      <td>ham</td>\n",
       "      <td>Ok lar... Joking wif u oni...</td>\n",
       "    </tr>\n",
       "    <tr>\n",
       "      <th>2</th>\n",
       "      <td>spam</td>\n",
       "      <td>Free entry in 2 a wkly comp to win FA Cup final tkts 21st May 2005. Text FA to 87121 to receive ...</td>\n",
       "    </tr>\n",
       "    <tr>\n",
       "      <th>3</th>\n",
       "      <td>ham</td>\n",
       "      <td>U dun say so early hor... U c already then say...</td>\n",
       "    </tr>\n",
       "    <tr>\n",
       "      <th>4</th>\n",
       "      <td>ham</td>\n",
       "      <td>Nah I don't think he goes to usf, he lives around here though</td>\n",
       "    </tr>\n",
       "  </tbody>\n",
       "</table>\n",
       "</div>"
      ],
      "text/plain": [
       "  label  \\\n",
       "0   ham   \n",
       "1   ham   \n",
       "2  spam   \n",
       "3   ham   \n",
       "4   ham   \n",
       "\n",
       "                                                                                                   msg  \n",
       "0  Go until jurong point, crazy.. Available only in bugis n great world la e buffet... Cine there g...  \n",
       "1                                                                        Ok lar... Joking wif u oni...  \n",
       "2  Free entry in 2 a wkly comp to win FA Cup final tkts 21st May 2005. Text FA to 87121 to receive ...  \n",
       "3                                                    U dun say so early hor... U c already then say...  \n",
       "4                                        Nah I don't think he goes to usf, he lives around here though  "
      ]
     },
     "execution_count": 80,
     "metadata": {},
     "output_type": "execute_result"
    }
   ],
   "source": [
    "import pandas as pd\n",
    "import re\n",
    "import string\n",
    "pd.set_option('display.max_colwidth', 100)\n",
    "stopwords = nltk.corpus.stopwords.words(\"english\")\n",
    "data = pd.read_csv(\"SMSSpamCollection\", sep='\\t', header=None)\n",
    "data.columns = ['label', 'msg']\n",
    "data.head()"
   ]
  },
  {
   "cell_type": "code",
   "execution_count": 81,
   "metadata": {},
   "outputs": [],
   "source": [
    "# clean text\n",
    "def clean_text(txt):\n",
    "    txt = ''.join([i for i in txt if i not in string.punctuation])\n",
    "    tokens = re.split('\\W+', txt)\n",
    "    txt = \" \".join([word for word in tokens if word not in stopwords])\n",
    "    return txt"
   ]
  },
  {
   "cell_type": "code",
   "execution_count": 82,
   "metadata": {},
   "outputs": [
    {
     "data": {
      "text/html": [
       "<div>\n",
       "<style scoped>\n",
       "    .dataframe tbody tr th:only-of-type {\n",
       "        vertical-align: middle;\n",
       "    }\n",
       "\n",
       "    .dataframe tbody tr th {\n",
       "        vertical-align: top;\n",
       "    }\n",
       "\n",
       "    .dataframe thead th {\n",
       "        text-align: right;\n",
       "    }\n",
       "</style>\n",
       "<table border=\"1\" class=\"dataframe\">\n",
       "  <thead>\n",
       "    <tr style=\"text-align: right;\">\n",
       "      <th></th>\n",
       "      <th>label</th>\n",
       "      <th>msg</th>\n",
       "      <th>msg_clean</th>\n",
       "    </tr>\n",
       "  </thead>\n",
       "  <tbody>\n",
       "    <tr>\n",
       "      <th>0</th>\n",
       "      <td>ham</td>\n",
       "      <td>Go until jurong point, crazy.. Available only in bugis n great world la e buffet... Cine there g...</td>\n",
       "      <td>Go jurong point crazy Available bugis n great world la e buffet Cine got amore wat</td>\n",
       "    </tr>\n",
       "    <tr>\n",
       "      <th>1</th>\n",
       "      <td>ham</td>\n",
       "      <td>Ok lar... Joking wif u oni...</td>\n",
       "      <td>Ok lar Joking wif u oni</td>\n",
       "    </tr>\n",
       "    <tr>\n",
       "      <th>2</th>\n",
       "      <td>spam</td>\n",
       "      <td>Free entry in 2 a wkly comp to win FA Cup final tkts 21st May 2005. Text FA to 87121 to receive ...</td>\n",
       "      <td>Free entry 2 wkly comp win FA Cup final tkts 21st May 2005 Text FA 87121 receive entry questions...</td>\n",
       "    </tr>\n",
       "    <tr>\n",
       "      <th>3</th>\n",
       "      <td>ham</td>\n",
       "      <td>U dun say so early hor... U c already then say...</td>\n",
       "      <td>U dun say early hor U c already say</td>\n",
       "    </tr>\n",
       "    <tr>\n",
       "      <th>4</th>\n",
       "      <td>ham</td>\n",
       "      <td>Nah I don't think he goes to usf, he lives around here though</td>\n",
       "      <td>Nah I dont think goes usf lives around though</td>\n",
       "    </tr>\n",
       "  </tbody>\n",
       "</table>\n",
       "</div>"
      ],
      "text/plain": [
       "  label  \\\n",
       "0   ham   \n",
       "1   ham   \n",
       "2  spam   \n",
       "3   ham   \n",
       "4   ham   \n",
       "\n",
       "                                                                                                   msg  \\\n",
       "0  Go until jurong point, crazy.. Available only in bugis n great world la e buffet... Cine there g...   \n",
       "1                                                                        Ok lar... Joking wif u oni...   \n",
       "2  Free entry in 2 a wkly comp to win FA Cup final tkts 21st May 2005. Text FA to 87121 to receive ...   \n",
       "3                                                    U dun say so early hor... U c already then say...   \n",
       "4                                        Nah I don't think he goes to usf, he lives around here though   \n",
       "\n",
       "                                                                                             msg_clean  \n",
       "0                   Go jurong point crazy Available bugis n great world la e buffet Cine got amore wat  \n",
       "1                                                                              Ok lar Joking wif u oni  \n",
       "2  Free entry 2 wkly comp win FA Cup final tkts 21st May 2005 Text FA 87121 receive entry questions...  \n",
       "3                                                                  U dun say early hor U c already say  \n",
       "4                                                        Nah I dont think goes usf lives around though  "
      ]
     },
     "execution_count": 82,
     "metadata": {},
     "output_type": "execute_result"
    }
   ],
   "source": [
    "data['msg_clean'] = data['msg'].apply(lambda x: clean_text(x))\n",
    "data.head()"
   ]
  },
  {
   "cell_type": "code",
   "execution_count": 83,
   "metadata": {},
   "outputs": [],
   "source": [
    "# n-gram"
   ]
  },
  {
   "cell_type": "code",
   "execution_count": 84,
   "metadata": {},
   "outputs": [
    {
     "name": "stdout",
     "output_type": "stream",
     "text": [
      "(3, 8)\n",
      "[[0 0 0 0 1 1 0 1]\n",
      " [1 0 1 0 0 0 0 1]\n",
      " [0 1 0 1 0 0 1 0]]\n"
     ]
    }
   ],
   "source": [
    "from sklearn.feature_extraction.text import CountVectorizer\n",
    "cv =  CountVectorizer(ngram_range=(2,2))\n",
    "corpus = [\"This is s sentence is\",\n",
    "          \"This is a another sentence\",\n",
    "          \"third document is here\"]\n",
    "\n",
    "\n",
    "X = cv.fit_transform(corpus)\n",
    "print(X.shape)\n",
    "print(X.toarray())"
   ]
  },
  {
   "cell_type": "code",
   "execution_count": 85,
   "metadata": {},
   "outputs": [
    {
     "data": {
      "text/html": [
       "<div>\n",
       "<style scoped>\n",
       "    .dataframe tbody tr th:only-of-type {\n",
       "        vertical-align: middle;\n",
       "    }\n",
       "\n",
       "    .dataframe tbody tr th {\n",
       "        vertical-align: top;\n",
       "    }\n",
       "\n",
       "    .dataframe thead th {\n",
       "        text-align: right;\n",
       "    }\n",
       "</style>\n",
       "<table border=\"1\" class=\"dataframe\">\n",
       "  <thead>\n",
       "    <tr style=\"text-align: right;\">\n",
       "      <th></th>\n",
       "      <th>another sentence</th>\n",
       "      <th>document is</th>\n",
       "      <th>is another</th>\n",
       "      <th>is here</th>\n",
       "      <th>is sentence</th>\n",
       "      <th>sentence is</th>\n",
       "      <th>third document</th>\n",
       "      <th>this is</th>\n",
       "    </tr>\n",
       "  </thead>\n",
       "  <tbody>\n",
       "    <tr>\n",
       "      <th>0</th>\n",
       "      <td>0</td>\n",
       "      <td>0</td>\n",
       "      <td>0</td>\n",
       "      <td>0</td>\n",
       "      <td>1</td>\n",
       "      <td>1</td>\n",
       "      <td>0</td>\n",
       "      <td>1</td>\n",
       "    </tr>\n",
       "    <tr>\n",
       "      <th>1</th>\n",
       "      <td>1</td>\n",
       "      <td>0</td>\n",
       "      <td>1</td>\n",
       "      <td>0</td>\n",
       "      <td>0</td>\n",
       "      <td>0</td>\n",
       "      <td>0</td>\n",
       "      <td>1</td>\n",
       "    </tr>\n",
       "    <tr>\n",
       "      <th>2</th>\n",
       "      <td>0</td>\n",
       "      <td>1</td>\n",
       "      <td>0</td>\n",
       "      <td>1</td>\n",
       "      <td>0</td>\n",
       "      <td>0</td>\n",
       "      <td>1</td>\n",
       "      <td>0</td>\n",
       "    </tr>\n",
       "  </tbody>\n",
       "</table>\n",
       "</div>"
      ],
      "text/plain": [
       "   another sentence  document is  is another  is here  is sentence  \\\n",
       "0                 0            0           0        0            1   \n",
       "1                 1            0           1        0            0   \n",
       "2                 0            1           0        1            0   \n",
       "\n",
       "   sentence is  third document  this is  \n",
       "0            1               0        1  \n",
       "1            0               0        1  \n",
       "2            0               1        0  "
      ]
     },
     "execution_count": 85,
     "metadata": {},
     "output_type": "execute_result"
    }
   ],
   "source": [
    "df = pd.DataFrame(X.toarray(), columns=cv.get_feature_names())\n",
    "df"
   ]
  },
  {
   "cell_type": "code",
   "execution_count": 86,
   "metadata": {},
   "outputs": [],
   "source": [
    "# n-gram vectorization on SMSSpamCollection"
   ]
  },
  {
   "cell_type": "code",
   "execution_count": 87,
   "metadata": {},
   "outputs": [
    {
     "name": "stdout",
     "output_type": "stream",
     "text": [
      "(5572, 34931)\n"
     ]
    }
   ],
   "source": [
    "cv1 = CountVectorizer(ngram_range=(2,2)) # (2,3) bygram and trigram both\n",
    "\n",
    "X = cv1.fit_transform(data['msg_clean'])\n",
    "print(X.shape)"
   ]
  },
  {
   "cell_type": "code",
   "execution_count": 88,
   "metadata": {},
   "outputs": [
    {
     "name": "stdout",
     "output_type": "stream",
     "text": [
      "['008704050406 sp', '0089my last', '0121 2025050', '01223585236 xx', '01223585334 cum', '0125698789 ring', '02 user', '020603 2nd', '020603 this', '0207 153', '02072069400 bx', '02073162414 costs', '02085076972 reply', '020903 this', '021 3680', '021 3680offer', '050703 tcsbcm4235wc1n3xx', '06 good', '07046744435 arrange', '07090298926 reschedule', '07099833605 reschedule', '07123456789 87077', '0721072 find', '07732584351 rodger', '07734396839 ibh', '07742676969 shows', '07753741225 shows', '0776xxxxxxx uve', '077xxx won', '07801543489 guaranteed', '07808 xxxxxx', '07808247860 shows', '07808726822 awarded', '07815296484 shows', '0784987 shows', '0789xxxxxxx today', '0796xxxxxx today', '07973788240 shows', '07xxxxxxxxx 2000', '07xxxxxxxxx shows', '0800 0721072', '0800 169', '0800 18', '0800 195', '0800 1956669', '0800 505060', '0800 542', '08000407165 18', '08000776320 reply', '08000839402 2stoptx', '08000839402 2stoptxt', '08000839402 call', '08000839402 call2optout4qf2', '08000839402 call2optoutf4q', '08000839402 call2optouthf8', '08000839402 call2optoutj5q', '08000839402 call2optoutlf56', '08000839402 call2optoutn9dx', '08000839402 call2optoutyhl', '08000839402 now', '08000839402 or2optouthv9d', '08000930705 del', '08000930705 delivery', '08000930705 free', '08000930705 now', '08000930705 reply', '08000938767 update', '08001950382 call', '08001950382 call2optout674', '08001950382 call2optoutj', '08002888812 reply', '08002988890 reply', '08006344447 claim', '0808 145', '08081263000 charges', '08081560665 speak', '0844 861', '08448350055 bt', '08448714184 stoptxt', '0845 021', '0845 2814032', '08452810071 16', '08452810073 details', '0870 chatlines', '0870 national', '08700621170150p per', '08701237397 you', '08701417012 profit', '08701417012150p per', '0870141701216 norm', '08701752560 450p', '087018728737 national', '0870241182716 3wk', '08702490080 tells', '08702840625 comuk220cm2', '08702840625comuk 220cm2', '08704439680 when', '08704439680tscs apply', '0870737910216yrs 150wk', '08707500020 just', '08707509020 just', '08708800282 hgsuite3422lands', '08709222922 national', '08709501522 details', '087104711148 now', '08712101358 now', '08712103738 now', '08712300220 claim', '08712300220 quoting', '087123002209am7pm cost', '08712317606 msg150p', '08712317606 stop', '08712402050 before', '08712402578 immediately', '08712402779 immediately', '08712402902 immediately', '08712402972 immediately', '08712404000 immediately', '08712405022 1x150pwk', '08712460324 10pmin', '08712460324 nat', '08712460324nat rate', '08712466669 10pmin', '0871277810710pmin 18', '0871277810910pmin 18', '087143423992stop reply', '087147123779am7pm cost', '08714712379 10am7pm', '08714712388 10am7pm', '08714712394 10am7pm', '08714712412 10am7pm', '08714719523 box95qu', '08715203028 to', '08715203649 identifier', '08715203652 identifier', '08715203656 identifier', '08715203677 identifier', '08715203685 identifier', '08715203694 identifier', '08715500022 rpl', '08715705022 1x150pwk', '08717507382 now', '08717507711 btnational', '08717509990 polytruepixringtonesgames', '08717890890 150', '08717895698 have', '08717898035 300', '08718720201 hgsuite3422lands', '08718720201 po', '08718725756 140ppm', '08718726270150gbpmtmsg18 txtauction', '08718726970 now', '08718726971 now', '08718726978 now', '087187272008 now1', '08718727868 over', '08718729755 box95qu', '08718729758 box95qu', '08718730555 10pmin', '08718730666 10pmin', '08718738001 identifier', '08718738002 identifier', '08719180219 identifier', '08719180248 identifier', '08719181259 identifier', '08719839835 future', '08719899217 identifier', '08719899229 identifier', '08719899230 identifier', '09041940223 claim', '09050000332 claim', '09050000460 land', '09050000555 ba128nnfwfly150ppm', '09050000878 pobox45w2tg150p', '09050000928 pobox45w2tg150p', '09050001295 land', '09050001808 land', '09050002311 b4280703', '09050003091 land', '09050090044 now', '09050280520 subscribe', '09053750005 b4', '09056242159 retrieve', '09058091854 now', '09058091870 now', '09058094454 land', '09058094455 land', '09058094507 land', '09058094565 land', '09058094583 book', '09058095107 now', '09058095201 land', '09058097189 now', '09058097218 find', '09058098002 pobox1', '09058099801 b4190604', '09061104276 claim', '09061104283 tscs', '09061209465 suprman', '09061213237 landline', '09061221061 landline', '09061221066 fromm', '09061701444 valid', '09061701461 claim', '09061701851 claim', '09061701939 claim', '09061702893 acl03530150pm', '09061743806 landline', '09061743810 landline', '09061743811 landline', '09061744553 videochat', '09061749602 landline', '09061790121 land', '09061790125 landline', '09061790126 land', '09063440451 landline', '09063442151 claim', '09063458130 videochat', '0906346330 your', '09064011000 ntt', '09064012103 box334sk38ch', '09064012160 claim', '09064015307 box334sk38ch', '09064017295 claim', '09064017305 pobox75ldns7', '09064018838 ntt', '09064019014 receive', '09064019788 box42wr29c', '09065174042 to', '09065394514 from', '09065394973 landline', '09065989182 from', '09066350750 landline', '09066358152 claim', '09066358361 land', '09066362206 asap', '09066362220 asap', '09066362231 asap', '09066362231 urgent', '09066364311 collect', '09066364349 now', '09066368327 now', '09066368753 asap', '09066382422 calls', '09066612661 landline', '09066649731from landline', '09066660100 now', '09071512432 b4', '09071512433 b4', '09071517866 now', '09077818151 book', '09090204448 join', '09090900040 listen', '09094100151 use', '09094646631 60pmin', '09094646899 cheap', '09095350301 send', '09096102316 cum', '09099725823 hope', '09099726395 lucy', '09099726429 janinexx', '09099726481 luv', '09099726553 reply', '09111030116 pobox12n146tf15', '09111032124 pobox12n146tf150p', '0anetworks allow', '10 83383', '10 bid', '10 days', '10 den', '10 did', '10 evey', '10 free', '10 kilos', '10 man', '10 min', '10 mths', '10 pages', '10 polys', '10 smth', '10 txtauction', '10 txtauctiontxt', '100 20000', '100 cash', '100 dating', '100 free', '100 gb', '100 gift', '100 high', '100 music', '100 percent', '100 travel', '100 txts', '100 weekly', '100 wkly', '1000 cash', '1000 cashto', '1000 holiday', '1000 prize', '1000 quiz', '1000 to', '1000 txt', '1000 txts', '1000 winner', '10000 cash', '100000 prize', '1000call 09071512432', '1000s choose', '1000s flirting', '1000s girls', '1000s gr8', '1000s real', '1000s texts', '100603 this', '100s filthy', '1010 make', '1013 ig11', '101mega pixels', '1030 den', '1030 theres', '1030 wanna', '10803 this', '10am till', '10am7pm cost', '10am9pm won', '10k 5k', '10k cash', '10p per', '10p reply', '10pmin landlines', '10pmin mob', '10pmin stop', '10pmin to', '10ppm 16', '10th sept', '11 mnths', '11 months', '11 ok', '11 tmr', '11 well', '1120 1205', '113 bray', '1131 standard', '11414 tcrw1', '1146 mk45', '1148 well', '116 need', '1172 for', '118pmsg rcvd', '11mths call', '11mths update', '11mths you', '12 530', '12 83049', '12 anyway', '12 help', '12 hours', '12 mths', '12 price', '12 rite', '120 call', '12000pes around', '1205 one', '121 chat', '1225 selected', '123 congratulations', '1230 planned', '125 gift', '1250 call', '125gift guaranteed', '128 mb', '12hrs 150p', '12hrs 150ppm', '12mths 12price', '12mths half', '12price linerental', '13 you', '130 iriver', '1327 croydon', '13404 call', '139 la3', '140 ardé', '1405 1680', '145 4742', '1450 prize', '14thmarch tcs', '150 008704050406', '150 cancel', '150 increments', '150 min', '150 minapn', '150 per', '150 ppm', '150 prize', '150 rcv', '150 sae', '150 sptyrone', '150 text', '150 textand', '150 voucher', '150 worth', '1500 bonus', '150ea otbox', '150morefrmmob shracomorsglsuplt10', '150p 08712400603', '150p daily', '150p inc', '150p netcollex', '150p per', '150p pm', '150p reply', '150p stop', '150p textoperator', '150pday 6days', '150pm approx', '150pm dont', '150pm max10mins', '150pm unsubscribe', '150pmeg cc', '150pmin 18', '150pmin polo', '150pmsg cc', '150pmsg exp', '150pmsg rcd', '150pmsg rcvd', '150pmsgrcvd skip', '150pmsgrcvdhgsuite3422landsroww1j6hl ldn', '150pmt msgrcvd18', '150ppm 16', '150ppm 18', '150ppm ave', '150ppm mobile', '150ppm mobiles', '150ppm mobilesvary', '150ppmsg 18', '150prcvd stop2stop', '150ptone 16', '150pw nd', '150pwk club4', '150pwk tc', '150week savamob', '151 to', '1526 sorry', '153 9153', '153 9996', '15pmin cheap', '16 118pmsg', '16 1st', '16 399', '16 3wk', '16 after', '16 close', '16 club', '16 gbp150week', '16 may', '16 need', '16 norm150ptone', '16 remove', '16 reply', '16 sn', '16 stoptxtstop', '16 tcs', '16 tsandcs', '16 unsub', '1680 1843', '169 6031', '16only help', '16only tcs', '177 m227xy', '18 150pmin', '18 150pmsgrcvd', '18 150ppm', '18 150prcvd', '18 8007', '18 bt', '18 content', '18 days', '18 its', '18 msg', '18 sender', '18 stop', '18 tc', '18 wwwflirtpartyus', '18 xxx', '18 years', '18 yrs', '180 leastwhich', '1843 all', '186 150morefrmmob', '18only to', '195 6669', '1956669 text', '1appledayno doctor', '1childish 2naughty', '1cup milkdayno', '1da 150ppmsg', '1er stop', '1hanuman 2bajarangabali', '1his wife', '1hr time', '1im talkin', '1lemondayno fat', '1mcflyall ab', '1million give', '1minmobsmore lkpobox177hp51fl', '1month unlimited', '1pm orchard', '1s finish', '1s reach', '1st 5free', '1st 5wkg', '1st class', '1st confirm', '1st free', '1st get', '1st june', '1st lor', '1st ringtone', '1st salary', '1st sept', '1st tone', '1st ur', '1st wat', '1st week', '1st wk', '1st wks', '1st4terms pobox84', '1stchoicecouk wish', '1stone sun', '1tulsi leafdayno', '1u like', '1u poor', '1unbreakable 2untamed', '1winaweek age16', '1winawk age16', '1yf 150ppm', '20 mins', '20 photo', '20 sale', '20 salon', '20 tones', '20 years', '200 award', '200 free', '200 prize', '200 shopping', '200 summer', '200 week', '2000 award', '2000 bonus', '2000 cash', '2000 gift', '2000 plus', '2000 pound', '2000 price', '2000 prize', '2000 prizeto', '2000 xmas', '20000 pounds', '2003 account', '2004 241', '2004 account', '2004 must', '2005 text', '2006 fifa', '2007 name', '2007 uk', '2025050 visit', '20f inviting', '20m12aq 150ppm', '20p per', '20pmin gsex', '21 matches', '21 may', '215 trying', '21870000hi mailbox', '21m aberdeen', '21st instead', '21st may', '22 146tf150p', '22 days', '220cm2 9ae', '230ish desperate', '24 hours', '24 hrs', '241 offer', '247mp 0870753331018', '24hrs for', '24hrs free', '24th sept', '25 18', '25 free', '25 love', '25 pass', '25 year', '250 added', '250 cash', '250 gift', '250 pounds', '250 sms', '250 top', '250 unicefs', '250 want', '250 weekly', '250 wkly', '250k dream', '255 all', '25f inviting', '25p alfie', '25p free', '25p optout', '25p pm', '25p see', '2667 wc1n', '26th july', '26th of', '2703 marsms', '27603 our', '28 days', '28 eh74rr', '2814032 16', '285 soiree', '28days cs', '28th feb', '28thfebtcs apply', '290305 prize', '29m inviting', '2b terminatedwe', '2bajarangabali 3maruti', '2c pics', '2channel 2day', '2day 09099726395', '2day da', '2day goodmate', '2day night', '2day normal', '2day text', '2day ur', '2day wiv', '2daylove misstake', '2docdplease dontplease', '2end send', '2exit this', '2ez 150ppm', '2geva again', '2geva bin', '2go 4a', '2go thanxxx', '2godid little', '2gthr drinking', '2hook sn', '2hrs because', '2i am', '2im in', '2kbsubject lowcost', '2marrow coming', '2marrow wed', '2moro luv', '2moro who', '2morow 285', '2morow after', '2morow luv', '2morro half', '2morrow luv', '2morrow maga', '2morrow take', '2mro coming', '2mrw afternoon', '2mrw love', '2mrw luv', '2mrw ninish', '2mwen im', '2naughty 3sentiment', '2nd attempt', '2nd innings', '2nd may', '2nd one', '2nd opinion', '2nd test', '2nd time', '2nd ur', '2nhite ros', '2nights ur', '2nite chat', '2nite didnt', '2nite just', '2nite love', '2nite sexy', '2nite want', '2nite what', '2nitetell every1', '2optout 08718726270150gbpmtmsg18', '2p per', '2police questioned', '2px 150ppm', '2rcv hlp', '2stop txt', '2stoptxt tcs', '2u 3wks', '2u get', '2u need', '2u rply', '2u soonlots', '2u2 id', '2untamed 3unkempt', '2watershd bit', '2waxsto wat', '2when moving', '2wks free', '2wks the', '2wt 23', '2wu only', '2years sent', '2yr warranty', '2yrs just', '30 secs', '300 free', '300 nasdaq', '300 sub', '300 subs', '3000 award', '300603 post', '300603tcsbcm4235wc1n3xxcallcost150ppmmobilesvary max', '300p one', '3030 valid', '30pptxt 1st', '30s tc', '30th august', '31 december', '3100 standard', '310303 tcsstop', '32000 award', '3230 textbook', '326 cw25wx', '32f inviting', '330 hm', '3350 the', '3365 thats', '350 award', '350 dial', '350 reward', '350 to', '3510i colour', '35p think', '3650 video', '36504 w4', '36504 w45wq', '3680 subject', '3680offer ends', '373 london', '3750 pounds', '38 definitely', '391784 use', '3cover screen', '3d imp', '3days also', '3g ltgt', '3g spotty', '3g videophones', '3gbp network', '3hrs 16', '3lions tone', '3lp 150msg', '3maruti 4pavanaputra', '3miles day', '3mins 30s', '3mins vary', '3mobile if', '3optical 5digital', '3pound help', '3qxj9 unsubscribe', '3rd ur', '3sentiment 4rowdy', '3ss 150ppm', '3u frnd', '3u wont', '3unkempt text', '3uz 150p', '3uz 16', '3uz cost', '3wife siri', '3wk 087016248', '3wks but', '3x 150pw', '40 matches', '40 years', '400 inclusive', '400 prize', '400 proze', '400 reward', '400 xmas', '400minscall mobileupd8', '4041 standard', '40411 expires', '40533 expires', '40gb ipod', '40mph hey', '415 cos', '41685 expires', '41782 expires', '42049 expires', '4217 london', '42478 expires', '42810 expires', '430 got', '434 sk3', '44 7732584351', '447797706009 why', '447801259231 secret', '447per hour', '448712404000please call', '449050000301 you', '449071512431 urgent', '449month 750', '45 per', '450 should', '450 uk', '450 ur', '450 you', '450p per', '450ppw 16', '45239 expires', '46 dun', '47 po19', '4712 tc', '4742 9am11pm', '48 tb', '4882 selected', '48922 expires', '49557 expires', '4a meal', '4a month', '4brekkie love', '4cook cooking', '4d closes', '4d dad', '4eva promise', '4few seconds', '4fil text', '4fil ur', '4get about', '4get name', '4give think', '4got im', '4goten bout', '4lux tenerife', '4mths half', '4my work', '4o clock', '4pavanaputra 5sankatmochan', '4press ltgt', '4rowdy 5ful', '4some1 luvs', '4tctxt tc', '4th guy', '4th ur', '4th wife', '4the driving', '4thnovbehind ourbacks', '4txtú120 poboxox36504w45wq', '4u congratulations', '4u couple', '4u meet', '4u rodds1', '4u rply', '4ui intend', '4utxt rply', '4w technologies', '4ward cin', '4wrd dearloving', '4years dental', '50 500', '50 deposit', '50 mins', '50 more', '50 pay', '50 play', '50 shd', '500 75000', '500 cash', '500 cd', '500 cross', '500 enter', '500 free', '500 guaranteed', '500 maximize', '500 new', '500 optout', '500 per', '500 pounds', '500 prize', '500 texts', '500 ur', '5000 await', '5000 cash', '5000 claim', '5000 pounds', '5000 prize', '500000 easter', '505060 place', '50award if', '50p per', '50p std', '50s is', '515 like', '515pm go', '5226 selected', '5249 mk17', '526 sw73ss', '528 hp20', '530 ar', '530 bit', '530 like', '530 lor', '530 max', '530 show', '532 ltgt', '54 next', '54 weeks', '542 0578', '542 0825', '545 lor', '5903 this', '5digital dooms', '5free 150', '5ful attitude', '5gardener picking', '5gently remove', '5i knackered', '5k 500', '5min hold', '5min opening', '5mls ltgt', '5month please', '5p alfie', '5pm 95pax', '5sankatmochan 6ramaduth', '5terror face', '5th ur', '5wb 0870', '5wb 0870k', '5we 150p', '5we 150pm', '5wkg daysèn', '5wq norm', '5years salary', '600 anytime', '600 next', '6031 10am9pm', '60400thousadi told', '60p min', '60pmin choose', '60pmin to', '61200 25p', '61610 unsubscribe', '62220cncl send', '6230 plus', '62735 450', '630 oredi', '630 want', '63miles good', '645pm thatll', '6669 text', '67441233 look', '68866 subscriptn3gbpwk', '69101 wwwrtfsphostingcom', '69200 get', '69669 collect', '69669 saristar', '69696 nownyt', '69696 nyt', '69698 text', '69855 24hrs', '6986618 30pptxt', '69876 txts', '69888 nt', '69888 nytec2a3lpmsg150p', '69888nyt ec2a', '69911 150p', '69969 msg', '69988 if', '6cruel face', '6days 16', '6hl please', '6housemaid went', '6hrs if', '6hrs it', '6hrs see', '6ish ur', '6missed marry', '6months finishing', '6months free', '6pm directly', '6pm sorry', '6ramaduth 7mahaveer', '6romantic 7shy', '6th ur', '6zf 16', '700 studio', '71 to', '725 tell', '7250 auction', '7250i this', '730 830', '730 speak', '730 wanna', '730ish what', '730pm see', '731 la1', '74355 xmas', '750 anytime', '750 cross', '750 mins', '750 pound', '750 time', '75000 homeowners', '7548 selected', '7634 selected', '7684 standard', '7732584351 do', '78 mins', '786 unredeemed', '78pmin peak', '79 book', '7am every', '7children we', '7ish right', '7mahaveer ee', '7oz mother', '7pm forward', '7romantic face', '7shy 8attractive', '7th you', '7zs subscription', '800 cash', '800 free', '800 prize', '800 unredeemed', '80062 whats', '8007 25p', '8007 classic', '8007 eg', '8007 free', '8007 get', '8007 join', '8007 nokias', '8007 polys', '8007 titles', '8007 wwwgetzedcouk', '8007 zed', '80082 enter', '80086 now', '80122300pwk sprwm', '80155 dont', '80160 tc', '80182 get', '8027 ldn', '80488 tcs', '80488 well', '80488 your', '80608 tscs', '8077 get', '80878 httpwwwgr8prizescom', '80878 tscs', '80s answer', '81010 tc', '81151 get', '81303 could', '81303 trackmarque', '81303 tscs', '81618 per', '816183 per', '82242 hlp', '82242 msg150p', '82277 150', '82277unsub stop', '82324 helpline', '830 ice', '83021 reply', '83039 62735', '83049 cost', '83110 see', '83118 colin', '83332please call', '83338 game', '83355 ibhltd', '83355 norcorp', '83370 tscs', '83383 good', '83383 pobox11414tcrw1', '83435 helpline', '83600 150pmsg', '83600 good', '83738 good', '84 m26', '84025 now', '84025 nowuse', '84122 customer', '84128 now', '84128 tscs', '84128custcare 08712405020', '84199 now', '84199 optout', '85 85', '85 no', '850 toa', '85023 nowsavamobmember', '85023 savamob', '85069 verify', '85222 nowtcs', '85233 freeringtonereply', '8552 2end', '8552 sam', '85555 16', '86021 hgsuite3422lands', '861 85', '863 ltgt', '864233 250', '86688 150pmeg', '86688 150pmsg', '86688 150pmsgrcvdhgsuite3422landsroww1j6hl', '86688 lets', '86688 more', '86888 claim', '87021 1st', '87066 tnc', '87066 tncs', '87066 tscs', '87070 150pwk', '87077 eg', '87077 get', '87077 kick', '87077 trywales', '87077 yahoo', '87121 186', '87121 receive', '87131 get', '87131 poly', '87131 then', '87131 true', '8714714 ur', '87239 customer', '87239 end', '87575 1st', '87575 cost', '8800 psp', '88039 skilgme', '88039skilgmetscs087147403231winawkage16 150perwksub', '88066 from', '88066 lost', '88222 php', '8830 want', '88600 1million', '88600 claim', '88600 then', '88800 89034', '8883 cm', '88877 now', '88877free entry', '88888 crazy', '88888 tc', '89034 premium', '89070 cancel', '89080 dont', '89105 its', '89545 collect', '89555 by', '89555 see', '89555 txt', '89693 08715500022', '89938 strings', '8attractive 9funny', '8ball wallpaper', '8hr trip', '8lb 7oz', '8lovable face', '8neighbour we', '8o clock', '8pm havent', '8pm thurs', '8th fifty', '8th im', '8th leave', '8th usf', '8th youre', '8wp 150', '8wp 150ppm', '900 nightsexcellent', '900 prize', '900 reward', '9061100010 wire3net', '9153 offer', '924 ltgt', '92h 450ppw', '946 wot', '95pax 50', '97n7qp 150ppm', '98321561 familiar', '9996 offer', '9am 5pm', '9am11pm won', '9decent face', '9funny ltgt', '9ja miss', '9ja person', '9pm have', '9pm it', '9t sd', '9th player', '9yt 08701752560', 'a21 valid', 'a30 had', 'aa exhaust', 'aah bless', 'aah cuddle', 'aah speak', 'aaniye pudunga', 'aaooooright work', 'aathilove lot', 'aathiwhere dear', 'ab sara', 'abbey happy', 'abdomen gynae', 'abeg make', 'abelu hav2hear', 'aberdeen united', 'abi how', 'abi hwkeep', 'ability listen', 'ability question', 'abj serving', 'able anything', 'able atten', 'able buy', 'able come', 'able deliver', 'able dont', 'able eat', 'able fridayhope', 'able get', 'able give', 'able go', 'able ill', 'able join', 'able kids', 'able late', 'able met', 'able pay', 'able raise', 'able reply', 'able show', 'able sleep', 'abnormally ill', 'about 2moro', 'about how', 'about itboth', 'about ltgt', 'about tonight', 'about what', 'aboutas much', 'abroad lonely', 'absence gud', 'absolutely love', 'abstract are', 'abt abt', 'abt already', 'abt character', 'abt dvg', 'abt events', 'abt functions', 'abt half', 'abt if', 'abt leona', 'abt making', 'abt mei', 'abt movie', 'abt muz', 'abt rows', 'abt syd', 'abt tat', 'abt tel', 'abt tht', 'abt trip', 'abt ur', 'abt whr', 'abta complimentary', 'aburo enjoy', 'abusers lives', 'ac blind', 'ac jsco', 'ac sptv', 'ac sun0819', 'academic department', 'academic secretary', 'acc details', 'acc the', 'acc wen', 'accent because', 'accenture confirm', 'accept brother', 'accept dayu', 'accept even', 'accept life', 'accept one', 'access 24', 'access adult', 'access games', 'access number', 'access til', 'access wwwtelediscountcouk', 'accessible just', 'accidant tookplace', 'accident a30', 'accident to', 'accidentally brought', 'accidentally deleted', 'accidentally left', 'accommodation various', 'accommodationvouchers terms', 'accomodations thought', 'accordin wat', 'accordingly ok', 'accordingly repeat', 'accordinglyor tell', 'account 07xxxxxxxxx', 'account another', 'account balance', 'account bank', 'account credited', 'account details', 'account detailsi', 'account identification', 'account if', 'account ltgt', 'account number', 'account please', 'account refilled', 'account send', 'account statement', 'accounting delayed', 'accounts dry', 'accounts executive', 'ache feel', 'ache fuck', 'ache speak', 'ache without', 'achieve korli', 'acknowledgement astoundingly', 'acoentry41 or', 'across sea', 'acsmsrewards end', 'act real', 'acted like', 'acted upon', 'actin like', 'acting happy', 'acting might', 'action 80608', 'action real', 'action txt', 'activ8 press', 'activate 500', 'activate call', 'activate full', 'activate smartcall', 'activate txt', 'active play', 'activities planned', 'actor when', 'actual exam', 'actual guy', 'actually awake', 'actually bornplease', 'actually called', 'actually could', 'actually decided', 'actually deleted', 'actually first', 'actually flies', 'actually fuck', 'actually getting', 'actually got', 'actually guys', 'actually im', 'actually life', 'actually little', 'actually ltgt', 'actually mobile', 'actually necessity', 'actually nvm', 'actually pretty', 'actually quite', 'actually reasonable', 'actually send', 'actually sleeping', 'actually start', 'actually talk', 'actually thk', 'actually tonight', 'acwicmb3cktz8r74 blind', 'ad craigslist', 'ad crap', 'ad nice', 'ad row', 'adam eve', 'add dont', 'add figures', 'add spice', 'add tat', 'add ur', 'add years', 'add yet', 'addamsfa munsters', 'added benefits', 'added contact', 'added next', 'addicted msging', 'addicted sweet', 'addie amp', 'addie goes', 'adding zeros', 'address applespairsall', 'address carlos', 'address changed', 'address dob', 'address envelope', 'address icky', 'address incomm', 'address it', 'address ltgt', 'address sandiago', 'address should', 'address sir', 'address test', 'address you', 'addressull alrightokay', 'adds life', 'adewale uncle', 'adi entey', 'adjustable cooperative', 'admin building', 'admin team', 'administrator network', 'admirer looking', 'admirer reveal', 'admission til', 'admit wrong', 'admiti madthen', 'adore ahmad', 'adore loverboy', 'adoring kiss', 'adrian text', 'adrink in', 'ads 150p', 'adsense approved', 'adult 18', 'adult parties', 'adult singles', 'adult would', 'adults may', 'advance haha', 'advance it', 'adventure galileo', 'advice enjoy', 'advice gary', 'advice please', 'advice thanks', 'advise following', 'advisors free', 'aeronautics professors', 'aeroplane aftr', 'afew days', 'affair cheers', 'affairs ask', 'affairs come', 'affairs wif', 'affection care', 'affectionate loveable', 'affectionsamp traditions', 'affidavit says', 'afford around', 'afghanistan stable', 'afraid dark', 'afraid im', 'africa hope', 'african soil', 'aft 850', 'aft ask', 'aft bathing', 'aft come', 'aft dat', 'aft finish', 'aft lunch', 'aft many', 'aft meeting', 'aft so', 'aft thinking', 'aft tmr', 'aft ur', 'aft wat', 'after all', 'after buy', 'after come', 'after completed', 'after drug', 'after free', 'after keep', 'after last', 'after loosing', 'after lot', 'after lunch', 'after wil', 'after work', 'afternon love', 'afternoon 1his', 'afternoon at', 'afternoon babe', 'afternoon boytoy', 'afternoon casualty', 'afternoon finish', 'afternoon glorious', 'afternoon im', 'afternoon love', 'afternoon loverboy', 'afternoon mah', 'afternoon onwords', 'afternoon sexy', 'afternoon starshine', 'afternoon sunshine', 'afternoon sup', 'afternoon thought', 'afternoons evenings', 'aftr 6pm', 'aftr decades', 'aftr ltdecimalgt', 'aftr ltgt', 'aftr sat', 'ag promo', 'again boy', 'again its', 'again long', 'again needs', 'againcall anytime', 'againloving smile', 'against women', 'agalla boy', 'age anyway', 'age deciding', 'age eg', 'age followed', 'age gender', 'age join', 'age opt', 'age range', 'age verify', 'age16 150perweeksub', 'age16 150ppermesssubscription', 'age16 2stop', 'age16 stoptxtstop', 'age23 blonde', 'agency renting', 'agent the', 'agents dont', 'ages 18', 'ages hows', 'ages started', 'ages yeah', 'agesring me', 'aging products', 'ago already', 'ago but', 'ago guy', 'ago liao', 'ago showered', 'ago when', 'ago wtf', 'agocusoon honi', 'agree price', 'agree so', 'agreen day', 'ah coz', 'ah den', 'ah dun', 'ah keep', 'ah meet', 'ah muz', 'ah okie', 'ah opps', 'ah poop', 'ah poor', 'ah said', 'ah see', 'ah she', 'ah thk', 'ah tmr', 'ah waitin', 'ah wat', 'ah well', 'aha da', 'ahead amp', 'ahead months', 'ahead smoke', 'ahead watts', 'ahhh work', 'ahhhhjust woken', 'ahmad adoring', 'ahmad al', 'ahmad cant', 'ahmad kisses', 'ahmad saeed', 'ahnow wkg', 'ahold anybody', 'ahsen got', 'ahthe ubi', 'ahwhat machiany', 'aid usmle', 'aids patent', 'aig joined', 'aight call', 'aight close', 'aight fuck', 'aight ill', 'aight im', 'aight ive', 'aight latest', 'aight lemme', 'aight let', 'aight pick', 'aight plan', 'aight rush', 'aight see', 'aight sorry', 'aight sounds', 'aight still', 'aight text', 'aight thanks', 'aight thatll', 'aight time', 'aight tomorrow', 'aight wats', 'aight well', 'aight yo', 'aint answerin', 'aint bad', 'aint been', 'aint coming', 'aint complaining', 'aint gonna', 'aint smokin', 'aint thinghow', 'aint tobacco', 'air balloon', 'air force', 'air know', 'air opinions', 'air smile', 'air whats', 'air1 hilariousalso', 'airport evening', 'airport lounge', 'airport rd', 'airport road', 'airport satsgettin', 'airtel broadband', 'airtel line', 'aiya discuss', 'aiya dunno', 'aiya later', 'aiya thk', 'aiyah ok', 'aiyah rain', 'aiyah sorry', 'aiyah tok', 'aiyah wait', 'aiyar dun', 'aiyar hard', 'aiyar poor', 'aiyar sorry', 'aiyo always', 'aiyo bit', 'aiyo cos', 'aiyo her', 'aiyo please', 'aiyo poor', 'ajith film', 'ak try', 'aka egbon', 'aka pap', 'akonlonely black', 'al hallaq', 'al moan', 'al post', 'al salam', 'al sudn', 'alaikkumpride pleasure', 'alaipayuthe set', 'albi mufti', 'album due', 'albumquite gdthe', 'alcohol jay', 'aldrine rakhesh', 'alert the', 'alert these', 'alert you', 'alertfrom jeri', 'alerts reply', 'aletter thatmum', 'alex knows', 'alex nichols', 'alex pizza', 'alex says', 'alexs place', 'alfie moons', 'algarve txt', 'algebra today', 'algorithms second', 'ali halla', 'alibi you', 'alive do', 'alive gud', 'alivebetter correct', 'all 128', 'all aeronautics', 'all best', 'all big', 'all boys', 'all come', 'all creepy', 'all day', 'all done', 'all eve', 'all fine', 'all gods', 'all gone', 'all handed', 'all is', 'all know', 'all ladies', 'all mobs', 'all morning', 'all nice', 'all replies', 'all say', 'all screaming', 'all sounds', 'all the', 'all theseyours', 'all things', 'all tonite', 'all waiting', 'all well', 'all wellda', 'allah tohar', 'allahmeet sometimerakheshvisitor', 'allahrakhesh ex', 'allday hope', 'alle moneeppolum', 'allo we', 'allow companies', 'allow work', 'allowed play', 'allows one', 'alls coming', 'almost done', 'almost forgot', 'almost gas', 'almost home', 'almost is', 'almost know', 'almost ltgt', 'almost noon', 'almost reached', 'almost see', 'almost tried', 'almost want', 'almost whole', 'alone alive', 'alone also', 'alone bored', 'alone feeling', 'alone hotel', 'alone mite', 'alone take', 'alone time', 'alone wanna', 'alone week', 'alone wif', 'alone without', 'along asking', 'along next', 'along stars', 'along will', 'alot wiv', 'already ah', 'already asking', 'already assumed', 'already back', 'already bought', 'already brains', 'already but', 'already closed', 'already come', 'already concentrate', 'already cover', 'already coz', 'already done', 'already dunno', 'already envy', 'already got', 'already haf', 'already haha', 'already including', 'already irritating', 'already know', 'already lar', 'already lessons', 'already lido', 'already lor', 'already love', 'already made', 'already mah', 'already one', 'already orchard', 'already paid', 'already planned', 'already rite', 'already said', 'already say', 'already see', 'already sighs', 'already sort', 'already spend', 'already squatting', 'already thanx', 'already that', 'already thk', 'already today', 'already told', 'already used', 'already wait', 'already wake', 'already wan', 'already wat', 'already we', 'already woke', 'already xy', 'already yar', 'alreadysabarish asked', 'alright babe', 'alright did', 'alright fone', 'alright hooked', 'alright hows', 'alright ill', 'alright im', 'alright new', 'alright omw', 'alright phews', 'alright see', 'alright set', 'alright thanks', 'alright think', 'alright thinkin', 'alright took', 'alright tylers', 'alright way', 'alright well', 'alright youre', 'alrite girl', 'alrite hunnywot', 'alrite is', 'alrite jod', 'alrite sam', 'alritehave good', 'also andros', 'also anything', 'also avble', 'also better', 'also beware', 'also bills', 'also bringing', 'also came', 'also cannot', 'also cbe', 'also chat', 'also come', 'also contact', 'also cos', 'also da', 'also deep', 'also der', 'also didnt', 'also differbe', 'also dont', 'also dunno', 'also find', 'also finewhen', 'also forgot', 'also fuck', 'also hi', 'also imagine', 'also important', 'also ive', 'also knows', 'also let', 'also like', 'also maaaan', 'also making', 'also miss', 'also north', 'also reach', 'also remember', 'also reslove', 'also runninglets', 'also shipping', 'also simple', 'also sir', 'also smart', 'also tel', 'also tell', 'also teluguthts', 'also thk', 'also time', 'also track', 'also tried', 'also upload', 'also use', 'also utter', 'also wan', 'also want', 'also wants', 'also wheres', 'alsoor wednesday', 'alter 11', 'alternativehope yr', 'although told', 'although would', 'alwa gud', 'always 4ui', 'always available', 'always bcz', 'always brainy', 'always celebrate', 'always chat', 'always coming', 'always convincing', 'always correct', 'always dear', 'always diet', 'always even', 'always ex', 'always find', 'always give', 'always happy', 'always ignorant', 'always is', 'always looking', 'always love', 'always make', 'always needs', 'always one', 'always online', 'always owns', 'always passionate', 'always possibility', 'always putting', 'always regretted', 'always remember', 'always safe', 'always saying', 'always seemed', 'always shit', 'always singing', 'always sleep', 'always speechless', 'always to', 'always touch', 'always treats', 'always trust', 'always try', 'always ur', 'always wait', 'always wanting', 'always wants', 'always work', 'always yahoo', 'alwys be', 'alwys stay', 'am also', 'am at', 'am buying', 'am def', 'am feelingood', 'am film', 'am first', 'am free', 'am gobi', 'am going', 'am how', 'am ill', 'am interested', 'am invited', 'am much', 'am new', 'am okay', 'am one', 'am ploughing', 'am searching', 'am slow', 'am surfing', 'am teaching', 'am train', 'am uworld', 'am watching', 'am way', 'am working', 'amanda regard', 'amazing if', 'amazing quote', 'amazing things', 'amazing xxx', 'ambrithmaduraimet arun', 'american customer', 'american freek', 'american pie', 'ami parchi', 'amigos hoping', 'amk need', 'ammaelife takes', 'ammo want', 'amnow feelin', 'among mess', 'among readers', 'amongst bros', 'amore wat', 'amount get', 'amount small', 'amount still', 'amount taking', 'amount terrible', 'amp answered', 'amp art', 'amp asks', 'amp best', 'amp church', 'amp concern', 'amp conducts', 'amp dont', 'amp drive', 'amp eve', 'amp express', 'amp fight', 'amp fills', 'amp finally', 'amp fletcher', 'amp found', 'amp fowler', 'amp fuelled', 'amp get', 'amp happy', 'amp have', 'amp imf', 'amp irritated', 'amp kills', 'amp let', 'amp life', 'amp ltgt', 'amp miracle', 'amp mobile', 'amp need', 'amp one', 'amp packing', 'amp pain', 'amp pass', 'amp present', 'amp reach', 'amp said', 'amp say', 'amp sayin', 'amp see', 'amp send', 'amp successful', 'amp sweet', 'amp taylor', 'amp teaches', 'amp well', 'amp wer', 'amp win', 'amp wish', 'amplikater fidalfication', 'amrca thing', 'amrita college', 'ams xx', 'amt ltgt', 'amused just', 'amused only', 'amy sending', 'amy ure', 'an amazing', 'an del', 'an excellent', 'an knackered', 'an occasion', 'ana tomarrow', 'anal sex', 'analysis something', 'anand number', 'and also', 'and ask', 'and ate', 'and beautiful', 'and beer', 'and bf', 'and boost', 'and bring', 'and bus', 'and called', 'and course', 'and decided', 'and didnt', 'and diet', 'and don', 'and dont', 'and downloads', 'and electricity', 'and every', 'and exhausted', 'and finally', 'and food', 'and get', 'and give', 'and god', 'and gone', 'and good', 'and had', 'and hes', 'and home', 'and hows', 'and ill', 'and im', 'and imagine', 'and importantly', 'and ive', 'and knw', 'and like', 'and loved', 'and loves', 'and ltgt', 'and luxury', 'and man', 'and many', 'and maybe', 'and me', 'and miss', 'and need', 'and one', 'and pls', 'and popping', 'and princess', 'and problem', 'and reply', 'and saying', 'and seeno', 'and send', 'and several', 'and shell', 'and shes', 'and sister', 'and smile', 'and sometimes', 'and still', 'and stop', 'and system', 'and tell', 'and thanks', 'and thats', 'and theres', 'and time', 'and tomorrow', 'and walk', 'and wanna', 'and want', 'and water', 'and way', 'and what', 'and whenever', 'and will', 'and wonderful', 'and wont', 'and work', 'and youll', 'and youre', 'andor vomiting', 'andre virgils', 'andres money', 'andrewsboy long', 'andros ice', 'andros steal', 'angels snowball', 'angry before', 'angry busy', 'angry childish', 'angry ever', 'angry msg', 'angry reply', 'angry take', 'angry told', 'angry what', 'angry wid', 'animal thought', 'animation badass', 'anna nagar', 'anniversary day', 'anniversary party', 'annoncement you', 'announced blog', 'announcement call', 'announcement premier', 'announcement we', 'annoying day', 'annoying isnt', 'anonymous masked', 'anot thk', 'another 1hr', 'another 6hrs', 'another 8th', 'another app', 'another audition', 'another batch', 'another butt', 'another customer', 'another day', 'another driver', 'another friend', 'another hope', 'another hour', 'another icon', 'another idiot', 'another italian', 'another job', 'another message', 'another month', 'another my', 'another night', 'another number', 'another one', 'another place', 'another problem', 'another stops', 'another time', 'another two', 'another weeks', 'ans 80062', 'ans 80082', 'ans bslvyl', 'ans holiday', 'ans lar', 'ans ths', 'ans when', 'ans wquestion', 'ansr 82277', 'answer 80062', 'answer 83600', 'answer brilliant1thingi', 'answer den', 'answer easy', 'answer fucking', 'answer now', 'answer one', 'answer question', 'answer questions', 'answer someone', 'answer texts', 'answer txt', 'answered she', 'answerin phone', 'answering cant', 'answering everyones', 'answering phone', 'answering texts', 'answers fighting', 'answers pls', 'answers someone', 'antelope begin', 'anthony are', 'anthony dad', 'anti aging', 'anti sleep', 'anti social', 'antibiotic used', 'any amount', 'any chance', 'any connection', 'any friend', 'any help', 'any idea', 'any job', 'any luck', 'any pain', 'any plm', 'any problem', 'any purchases', 'any super', 'any way', 'anybody asks', 'anybody else', 'anybody let', 'anybodys number', 'anyhow like', 'anymore jia', 'anymore like', 'anymore nothing', 'anymore tonight', 'anyone calling', 'anyone calls', 'anyone cud', 'anyone else', 'anyone except', 'anyone girl', 'anyone going', 'anyone heri', 'anyone ltgt', 'anyone oh', 'anyone spare', 'anyones help', 'anyplaces something', 'anythiing keeping', 'anythin likes', 'anythin special', 'anythin thk', 'anything anymore', 'anything buy', 'anything changed', 'anything comedy', 'anything da', 'anything de', 'anything drastic', 'anything else', 'anything except', 'anything feel', 'anything first', 'anything friendship', 'anything go', 'anything going', 'anything gud', 'anything he', 'anything hear', 'anything heavy', 'anything hes', 'anything id', 'anything know', 'anything lar', 'anything leave', 'anything lemme', 'anything like', 'anything lor', 'anything need', 'anything now', 'anything outdoors', 'anything practical', 'anything room', 'anything see', 'anything shouldnt', 'anything so', 'anything special', 'anything specific', 'anything till', 'anything tomo', 'anything trust', 'anything unconditionally', 'anything ur', 'anything valuable', 'anything way', 'anything website', 'anything wrong', 'anything you', 'anythings goin', 'anythingtomorrow myparents', 'anytime all', 'anytime calling', 'anytime lor', 'anytime network', 'anytime networks', 'anyway are', 'anyway dont', 'anyway give', 'anyway going', 'anyway have', 'anyway help', 'anyway holla', 'anyway ill', 'anyway im', 'anyway many', 'anyway need', 'anyway plans', 'anyway promoting', 'anyway seriously', 'anyway thing', 'anyway thk', 'anyway tho', 'anyway tts', 'anyway wun', 'anyway youd', 'anyways far', 'anyways go', 'anyways gr8', 'anyways great', 'anywhere damn', 'aom box61m60', 'aom gbp5month', 'apart one', 'apart things', 'apartment chennai', 'apartment got', 'apartment we', 'apes fight', 'aphex abelu', 'apnt 5pm', 'apo mokka', 'apologetic fallen', 'apologise advance', 'apologise cali', 'apologize admit', 'apology texting', 'app phone', 'apparently bffs', 'apparently cant', 'apparently happens', 'apparently retired', 'appeal tomo', 'appear front', 'appendix age', 'applebees fucking', 'applebees nothing', 'applespairsall malarky', 'application airtel', 'application schools', 'apply 08452810073', 'apply 08452810075over18s', 'apply 16', 'apply 18', 'apply ag', 'apply claim', 'apply enjoy', 'apply future', 'apply optout', 'apply phd', 'apply reply', 'apply to', 'apply wwworangecoukow', 'apply2 stop', 'applyed oil', 'applying research', 'appointment and', 'appointment four', 'appointment right', 'appointments next', 'appreciate call', 'appreciate care', 'appreciate keeping', 'appreciate sacrifice', 'appreciate safe', 'appreciate will', 'appreciated last', 'appreciated yeah', 'approaches hurts', 'approaching so', 'approve panalambut', 'approx 3mins', 'approx per', 'apps class', 'apps da', 'appt its', 'appt lttimegt', 'appt next', 'appy fizz', 'april cant', 'april ill', 'april les', 'april real', 'aproach gal', 'apt opportunitypls', 'aptitude class', 'ar hes', 'ar so', 'arab boy', 'arabian steed', 'arcade 1st', 'arcade game', 'arcade std', 'arcade termsapply', 'archive haiz', 'ard 10', 'ard 116', 'ard 12', 'ard 180', 'ard 20', 'ard 515', 'ard 530', 'ard christmas', 'ard do', 'ard like', 'ard lor', 'ard nothing', 'ard oso', 'ard smth', 'ard wat', 'ard ya', 'ardé rest', 'are alright', 'are always', 'are angry', 'are are', 'are around', 'are at', 'are available', 'are awake', 'are back', 'are bringing', 'are brother', 'are castor', 'are challenge', 'are chosen', 'are coming', 'are comingdown', 'are cutest', 'are driving', 'are eating', 'are finding', 'are free', 'are freezing', 'are frying', 'are going', 'are gonna', 'are good', 'are happy', 'are have', 'are having', 'are home', 'are in', 'are jay', 'are lazy', 'are letters', 'are library', 'are missing', 'are much', 'are norm', 'are obedient', 'are ok', 'are planning', 'are plans', 'are pub', 'are ready', 'are refreshed', 'are room', 'are seeing', 'are setting', 'are sold', 'are staying', 'are still', 'are sure', 'are ta', 'are unbelievable', 'are unique', 'are up', 'are using', 'are wet', 'are willing', 'are work', 'are you', 'are yuou', 'area 09099726553', 'area 1000s', 'area 25p', 'area call', 'area lots', 'area one', 'area reply', 'area restaurant', 'area thing', 'area to', 'area urgnt', 'arent bookshelf', 'arent bright', 'arent coming', 'arent enough', 'arent hot', 'arent next', 'arestaurant eating', 'aretaking outfor', 'argentina not', 'argh 3g', 'argh fuck', 'argh ok', 'argue always', 'argue ur', 'arguing week', 'argument apart', 'argument every', 'argument wins', 'arguments faultfed', 'arise hurricanes', 'arises hell', 'arithmetic percentages', 'arm feeling', 'armand always', 'armand really', 'armand says', 'armand would', 'armands still', 'armenia ends', 'arms every', 'arms fine', 'arms right', 'arng dis', 'arngd marriage', 'arnt pissed', 'around 48', 'around 8830', 'around 8o', 'around alexs', 'around area', 'around bit', 'around could', 'around four', 'around friend', 'around heartsnot', 'around hermy', 'around hillsborough', 'around ill', 'around ive', 'around julianaland', 'around just', 'around know', 'around looking', 'around ltdecimalgt', 'around ltgt', 'around lttimegt', 'around meshe', 'around move', 'around mu', 'around need', 'around pm', 'around responding', 'around say', 'around silently', 'around someone', 'around still', 'around talk', 'around tattoos', 'around theres', 'around though', 'around time', 'around tonght', 'around usc', 'around usf', 'around wait', 'around wednesday', 'aroundn teaches', 'arpraveesh details', 'arr birthday', 'arrange delivery', 'arrange pick', 'arrange shipping', 'arrange theres', 'arrange transport', 'arranging time', 'arrested day', 'arrested murderer', 'arrested possession', 'arrival time', 'arrive please', 'arrive shortly', 'arrived see', 'arsenal dartboard', 'arsenal goal', 'arsenal henry', 'art class', 'art ill', 'arts college', 'arts today', 'arty collages', 'arul ltgt', 'arun dha', 'arun transfr', 'as always', 'as depends', 'as different', 'as entered', 'as far', 'as im', 'as long', 'as missionary', 'as need', 'as one', 'as per', 'as public', 'as registered', 'as sim', 'as usual', 'as usualiam', 'as valued', 'as want', 'as wasnt', 'as youre', 'asa ill', 'asap box', 'asap box97n7qp', 'asap ta', 'asap try', 'asap xxx', 'asapok take', 'asda counts', 'ashley cant', 'ashleys number', 'ashwini ur', 'asia or', 'asian tsunami', 'ask 1st', 'ask abt', 'ask alex', 'ask along', 'ask already', 'ask any', 'ask anything', 'ask around', 'ask b4', 'ask big', 'ask bout', 'ask bring', 'ask brother', 'ask buy', 'ask call', 'ask carlos', 'ask chechi', 'ask come', 'ask confirm', 'ask connect', 'ask cooked', 'ask cos', 'ask crazy', 'ask created', 'ask cut', 'ask da', 'ask dad', 'ask darren', 'ask especially', 'ask fri', 'ask go', 'ask happened', 'ask ill', 'ask iouri', 'ask jay', 'ask join', 'ask lol', 'ask macho', 'ask meeting', 'ask miwa', 'ask mom', 'ask mummy', 'ask next', 'ask nickey', 'ask one', 'ask pa', 'ask princess', 'ask questions', 'ask roommates', 'ask say', 'ask sell', 'ask shes', 'ask shuhui', 'ask smth', 'ask someone', 'ask something', 'ask speed', 'ask suitemates', 'ask superior', 'ask take', 'ask today', 'ask transfer', 'ask vava', 'ask wait', 'ask wana', 'ask wat', 'ask will', 'ask workin', 'ask yet', 'askd knw', 'askd lunch', 'askd question', 'askd sit', 'asked 3mobile', 'asked anand', 'asked boy', 'asked call', 'asked come', 'asked contact', 'asked could', 'asked dating', 'asked frnd', 'asked fun', 'asked girl', 'asked go', 'asked hows', 'asked hw', 'asked money', 'asked needed', 'asked sen', 'asked waheeda', 'asked wanted', 'asked what', 'askin cos', 'askin leaving', 'askin ltgt', 'askin please', 'askin well', 'asking get', 'asking gym', 'asking knw', 'asking like', 'asking missed', 'asking practicum', 'asking shuhui', 'asking stuff', 'asking tiwary', 'asking wats', 'asking working', 'asks abt', 'asks sensitive', 'asks type', 'aslamalaikkuminsha allah', 'asleep 5i', 'asleep deartake', 'asleep imma', 'asleep til', 'aspects issues', 'ass back', 'ass buzz', 'ass dick', 'ass did', 'ass do', 'ass epsilon', 'ass facebook', 'ass id', 'ass quick', 'ass srt', 'assessment also', 'assistance us', 'assume mindsetbelieve', 'assume people', 'assume wont', 'assume youre', 'assumed worst', 'asthere is', 'asthma attack', 'astne chikku', 'astoundingly tactless', 'astrology waiting', 'astronomer moon', 'asus ppl', 'asusual1 cheered', 'at 430', 'at 630', 'at 6pm', 'at amy', 'at college', 'at da', 'at do', 'at dogbreath', 'at funeral', 'at get', 'at go', 'at home', 'at is', 'at least', 'at lets', 'at love', 'at ltdecimalgt', 'at moment', 'at one', 'at party', 'at repair', 'at same', 'at the', 'at thewend', 'at time', 'at tmr', 'at town', 'at what', 'at work', 'ate chicken', 'ate honey', 'ate many', 'ate spageddies', 'athletic ltgt', 'athome youwanna', 'atlanta friends', 'atlanta wish', 'atlast iz', 'atlast jus', 'atleast once', 'atm could', 'atm register', 'atm would', 'atrocious wotz', 'attach wat', 'attached liao', 'attached seeing', 'attack nxt', 'attempt contact', 'attempt contract', 'attempt failed', 'attempt reach', 'attempt terrorist', 'attempt you', 'atten class', 'attend another', 'attend kb', 'attend phone', 'attend ur', 'attended nothing', 'attending da', 'attitude 6romantic', 'attractioni feel', 'attracts brothas', 'attributed always', 'atyour phone', 'auction brand', 'auction free', 'auction round', 'auction send', 'auction subscription', 'auction to', 'auction today', 'auction txt', 'auction you', 'auctionpunj asking', 'audiitions trying', 'audition next', 'audition season', 'audrey dad', 'audreys status', 'audrie lousy', 'august 1000', 'august they', 'august wwwareyouuniquecouk', 'aunt flow', 'aunt nike', 'auntie huai', 'aunties uncles', 'aunts anniversary', 'aunts charlie', 'aunty manege', 'auntys number', 'aust put', 'australia text', 'authorise payment', 'auto centre', 'auto correct', 'av done', 'av new', 'ava goodtimeoli', 'available appointment', 'available bugis', 'available im', 'available last', 'available let', 'available mid', 'available soiree', 'available sony', 'available spaces', 'available though', 'available washob', 'available work', 'availablei want', 'availablethey pick', 'avalarr will', 'avatar 3d', 'avatar nigro', 'avatar supposed', 'avble call', 'ave ams', 'ave call', 'ave find', 'ave forgot', 'ave good', 'ave specially', 'ave ya', 'avent done', 'avent killed', 'avent spoken', 'avenue somewhere', 'avin good', 'avo point', 'avoid like', 'avoid missunderstding', 'avoiding burden', 'avoiding you', 'avoids problems', 'await collection', 'awaiting collection', 'awaiting for', 'awaiting you', 'awake bet', 'awake is', 'awake like', 'awake loving', 'awake noon', 'awake oh', 'award 20m12aq', 'award calculated', 'award call', 'award even', 'award if', 'award maybe', 'award pls', 'award selected', 'award speak', 'award still', 'award todays', 'awarded 1500', 'awarded 2000', 'awarded 50', 'awarded 500', 'awarded city', 'awarded complimentary', 'awarded either', 'awarded free', 'awarded sipix', 'awarded ukp2000', 'away alot', 'away call', 'away doesnt', 'away dont', 'away frm', 'away galno', 'away grins', 'away harlem', 'away house', 'away keep', 'away langport', 'away last', 'away like', 'away mom', 'away money', 'away need', 'away ppt150x3normal', 'away shattered', 'away system', 'away these', 'away til', 'away trek', 'away ugh', 'awesome cookies', 'awesome deal', 'awesome dont', 'awesome gonna', 'awesome ill', 'awesome ive', 'awesome lemme', 'awesome might', 'awesome minute', 'awesome omw', 'awesome payback', 'awesome phone', 'awesome plan', 'awesome question', 'awesome remember', 'awesome text', 'awesome think', 'awkward den', 'aww must', 'aww thats', 'awww dat', 'ax well', 'axis bank', 'ay wana', 'ayn mitsake', 'ayo travelled', 'b4 050703', 'b4 10th', 'b4 300603tcsbcm4235wc1n3xxcallcost150ppmmobilesvary', 'b4 310303', 'b4 ask', 'b4 call', 'b4 come', 'b4 go', 'b4 leave', 'b4 liao', 'b4 prepared', 'b4 thursday', 'b4190604 pobox', 'b4280703 tcsstop', 'b4u voucher', 'ba dao', 'ba gua', 'baaaaaaaabe wake', 'baaaaabe misss', 'babe 4goten', 'babe 88600', 'babe chloe', 'babe crave', 'babe enjoyin', 'babe far', 'babe feel', 'babe friend', 'babe fucking', 'babe gary', 'babe go', 'babe got', 'babe hope', 'babe how', 'babe hows', 'babe im', 'babe jordan', 'babe justthought', 'babe late', 'babe long', 'babe lost', 'babe love', 'babe make', 'babe miiiiiiissssssssss', 'babe miss', 'babe model', 'babe most', 'babe need', 'babe nice', 'babe ok', 'babe passionate', 'babe saw', 'babe smiles', 'babe sorry', 'babe squishy', 'babe still', 'babe sure', 'babe swollen', 'babe teasing', 'babe thanks', 'babe thasa', 'babe uawakefeellikw', 'babe videos', 'babe want', 'babe what', 'babe wont', 'babe woo', 'babe worry', 'babe you', 'babeprobpop in', 'babes aint', 'babes goin', 'babes hope', 'babes hunks', 'babes sport', 'babes think', 'babesozi culdnt', 'babies together', 'baby 4eva', 'baby and', 'baby are', 'baby brilliantly', 'baby cant', 'baby come', 'baby dolld', 'baby from', 'baby get', 'baby girl', 'baby house', 'baby im', 'baby is', 'baby ive', 'baby jontin', 'baby need', 'baby oil', 'baby promise', 'baby soon', 'baby the', 'baby want', 'baby we', 'baby well', 'baby wow', 'baby yo', 'babygoodbye golddigger', 'babyhope urfeeling', 'babyjontet txt', 'babysit but', 'babysitting monday', 'bac train', 'back 09056242159', 'back 150p', 'back 1u', 'back adp', 'back always', 'back amp', 'back and', 'back bed', 'back big', 'back bit', 'back box', 'back brum', 'back building', 'back busy', 'back call', 'back chat', 'back come', 'back dinner', 'back do', 'back documents', 'back earlier', 'back enjoy', 'back every', 'back excellent', 'back forth', 'back fr', 'back get', 'back good', 'back half', 'back help', 'back holby', 'back home', 'back hope', 'back hotel', 'back id', 'back if', 'back im', 'back jess', 'back kerala', 'back keyword', 'back later', 'back lemme', 'back life', 'back like', 'back loads', 'back log', 'back love', 'back ltgt', 'back maybe', 'back mid', 'back midnight', 'back moms', 'back monday', 'back morrow', 'back mu', 'back must', 'back name', 'back net', 'back next', 'back northampton', 'back on', 'back open', 'back otherwise', 'back pain', 'back parents', 'back ph', 'back pick', 'back ring', 'back ruin', 'back said', 'back sch', 'back school', 'back sd', 'back sleep', 'back so', 'back soon', 'back south', 'back sun', 'back take', 'back tampa', 'back test', 'back thanks', 'back though', 'back thursday', 'back til', 'back time', 'back to', 'back tomo', 'back tomorrow', 'back tonight', 'back tv', 'back ull', 'back ur', 'back urself', 'back walk', 'back wanna', 'back wonder', 'back work', 'back xafter', 'back xxx', 'back yan', 'back yo', 'backa beautiful', 'backdoor entry', 'bad aint', 'bad avoid', 'bad cant', 'bad character', 'bad credit', 'bad dat', 'bad day', 'bad days', 'bad dream', 'bad even', 'bad feel', 'bad girl', 'bad is', 'bad jen', 'bad lar', 'bad miss', 'bad people', 'bad princess', 'bad thanks', 'bad the', 'bad timing', 'bad today', 'bad totally', 'bad use', 'bad well', 'bad youre', 'badass hoody', 'badly cheers', 'badrith chennaii', 'bag goigng', 'bag im', 'bag ok', 'bagi work', 'bags blanket', 'bags eggs', 'bags my', 'bahamas callfreefone', 'bahamas cruise', 'baig face', 'bailiff due', 'bak again', 'bak at', 'bak college', 'bak girlie', 'bak holiday', 'bak luv', 'bak neway', 'bak terry', 'bakra msg', 'balance 500', 'balance 600', 'balance dont', 'balance ltgt', 'balance rs', 'ball moving', 'balls time', 'bam first', 'bambling entropication', 'band died', 'bandages shit', 'bang kochi', 'bangb tv', 'bangbabes ur', 'bani big', 'bank account', 'bank address', 'bank amp', 'bank authorise', 'bank directors', 'bank facilities', 'bank find', 'bank granite', 'bank later', 'bank natwest', 'bank remove', 'bank say', 'bank tomorrow', 'banks differ', 'banks fees', 'banks used', 'banned uk', 'banneduk 89555', 'bao ur', 'bar airport', 'bar town', 'barbie it', 'barcelona by', 'barely enough', 'barely keeping', 'barely stand', 'barely stay', 'bari hudgi', 'barkleys crazy', 'barmed want', 'barred stores', 'barrel shower', 'barring sudden', 'barry ben', 'bars ptbo', 'base rate', 'bash flat', 'basic care', 'basic sunday', 'basic yoga', 'basically good', 'basically time', 'basically times', 'basketball anything', 'baskets gettin', 'basqihave fun', 'bat 2nd', 'batch get', 'batch isnt', 'batchlor party', 'bath drink', 'bath have', 'bath ill', 'bath msg', 'bath need', 'bath put', 'bath water', 'bathe already', 'bathe da', 'bathe dog', 'bathe dun', 'bathe first', 'bathe hav', 'bathe liao', 'bathe looks', 'bathe settle', 'bathing bathe', 'bathing dog', 'bathroom sup', 'batt watch', 'battery died', 'battery hont', 'battery low', 'battery mr', 'battery went', 'battle vivekanand', 'bawling eyes', 'bay gud', 'bb anyone', 'bb bold', 'bb cos', 'bb if', 'bb soon', 'bb torch', 'bbc charts', 'bbdeluxe take', 'bbdpooja full', 'bbdthts chikku', 'bblue day', 'bbq sat', 'bbs longer', 'bc doin', 'bc way', 'bcaz mobile', 'bck blackim', 'bck please', 'bcm box', 'bcm4284 ldn', 'bcoz dont', 'bcoz heart', 'bcoz its', 'bcoz my', 'bcoz nobody', 'bcoz teacher', 'bcoz they', 'bcoz world', 'bcozi dont', 'bcum difficult', 'bcums angry', 'bcz cant', 'bday babe', 'bday boss', 'bday drinks', 'bday feel', 'bday ill', 'bday my', 'bday real', 'be good', 'be grateful', 'be happy', 'be in', 'be on', 'be problem', 'be safe', 'be seen', 'be sure', 'be ur', 'be warned', 'beach lor', 'beads dont', 'bear defeat', 'bears pic', 'bears scallies', 'beatings like', 'beauties wish', 'beautiful day', 'beautiful footprints', 'beautiful girl', 'beautiful intelligent', 'beautiful lady', 'beautiful morning', 'beautiful necklace', 'beautiful ok', 'beautiful one', 'beautiful thenwill', 'beautiful tomorrow', 'beautiful truth', 'beautifulmay three', 'beauty life', 'beauty sleep', 'bec temple', 'bec well', 'becaus hes', 'because back', 'because download', 'because important', 'because want', 'becausethey fancy', 'become better', 'become freinds', 'become issue', 'become one', 'become quite', 'become slob', 'become teenager', 'becomes part', 'becomes your', 'becoz ltgt', 'becoz settle', 'becoz someone', 'becz hav', 'bed 9pm', 'bed among', 'bed but', 'bed cant', 'bed cuddling', 'bed double', 'bed early', 'bed fals', 'bed hope', 'bed ill', 'bed its', 'bed like', 'bed lonely', 'bed long', 'bed make', 'bed on', 'bed pillows', 'bed prin', 'bed princess', 'bed ridden', 'bed sweet', 'bed this', 'bed throw', 'bed well', 'bedbut mite', 'bedreal bored', 'bedrm 900', 'bedroom minute', 'bedroom text', 'bedroomlove jen', 'beeen muht', 'beehoon either', 'been dates', 'been longer', 'been ne', 'been running', 'been sleeping', 'been swimming', 'been up', 'beendropping red', 'beer cheaper', 'beer vodka', 'beerrs ltgt', 'beers shall', 'befor activities', 'befor goa', 'before fucking', 'before getting', 'before left', 'before lines', 'beforehand does', 'beforewent hair', 'beg like', 'beg listen', 'begging change', 'begging come', 'begin againcall', 'begin eg', 'begin every', 'begin qatar', 'begin toplay', 'begun registration', 'behalf stunning', 'behave abnormally', 'behave like', 'behind abt', 'behind cricket', 'behind every', 'behind wheel', 'bein good', 'bein thot', 'bein woah', 'being simple', 'believe actually', 'believe attached', 'believe didnt', 'believe forgot', 'believe im', 'believe leh', 'believe messagepandy', 'believe said', 'believe things', 'believe this', 'believe thk', 'believe time', 'believe true', 'believe wat', 'belive come', 'belive godnot', 'bell get', 'bell sorry', 'bell ya', 'bellearlier hunnyjust', 'belly dancing', 'belly how', 'belly laugh', 'belly pulls', 'belly warm', 'belongs family', 'belovd ms', 'belovd swtheart', 'beloved 3u', 'beloved ones', 'belt know', 'ben going', 'ben text', 'bend rule', 'beneath pale', 'beneficiary account', 'benefits anything', 'benefits you', 'bennys near', 'bergkamp give', 'beside watching', 'best case', 'best cheap', 'best choice', 'best could', 'best cricketer', 'best day', 'best dialogue', 'best ever', 'best exam', 'best friend', 'best friends', 'best get', 'best life', 'best line', 'best mate', 'best mcat', 'best mobile', 'best msg', 'best ones', 'best orange', 'best present', 'best reading', 'best tones', 'best ttyl', 'best understanding', 'best ur', 'best watch', 'best way', 'best you', 'best1 clos1', 'bet brothas', 'bet hella', 'bet take', 'bet ure', 'beta ill', 'beth aunts', 'betta invest', 'better babe', 'better bb', 'better buy', 'better call', 'better come', 'better complete', 'better cos', 'better drinks', 'better each', 'better evening', 'better flirt', 'better get', 'better go', 'better got', 'better hear', 'better hope', 'better hopeso', 'better ipads', 'better late', 'better lookin', 'better lose', 'better lying', 'better made', 'better night', 'better opportunity', 'better quickly', 'better reboot', 'better respond', 'better silence', 'better soon', 'better still', 'better thanks', 'better told', 'better why', 'better work', 'better yi', 'better yor', 'bettersn luv', 'beverage txt', 'bevieswaz gona', 'beware frauds', 'beyond joke', 'beyond time', 'beyond words', 'bf coming', 'bf hungry', 'bf oso', 'bffs carly', 'bfore starti', 'bhaskar deep', 'bhayandar east', 'bian watch', 'biatch thanx', 'bid 10', 'bid 151', 'bid 54', 'bid 71', 'bid notifications', 'bid send', 'bid visit', 'bids 10', 'bids online', 'big baller', 'big belly', 'big bob', 'big brother', 'big butt', 'big chic', 'big cos', 'big day', 'big deal', 'big dent', 'big difference', 'big files', 'big god', 'big hitteranyway', 'big hundredhe', 'big kiss', 'big lambu', 'big leh', 'big loads', 'big man', 'big meaning', 'big old', 'big order', 'big pls', 'big rawring', 'big sale', 'big small', 'big strong', 'big surprise', 'big things', 'big titleso', 'bigger life', 'biggest best', 'biggest live', 'biggest part', 'bill 3365', 'bill are', 'bill brison', 'bill dont', 'bill may', 'bill millers', 'bill said', 'bill sms', 'billed 150p', 'billed mobile', 'billing msg', 'billion calls', 'billion classes', 'bills cant', 'bills really', 'billy mates', 'bilo marriageprogram', 'bimbo ugos', 'bin awarded', 'bin doin', 'bin mint', 'bin spain', 'bin watchng', 'biolas fne', 'bird antelope', 'bird any', 'birds all', 'birds chaps', 'birds humans', 'birds meeting', 'birds one', 'birla soft', 'biro dont', 'birth 8lb', 'birth company', 'birth control', 'birthdate certificate', 'birthdate month', 'birthday already', 'birthday dear', 'birthday feb', 'birthday happy', 'birthday hi', 'birthday is', 'birthday know', 'birthday loving', 'birthday may', 'birthday shijas', 'birthday thanks', 'birthday today', 'birthday truly', 'birthday txt', 'birthday vikky', 'birthday when', 'birthday wishes', 'birthday youdearwith', 'bishan cos', 'bishan im', 'bishan lar', 'bishan lei', 'bit ambitious', 'bit arty', 'bit bloody', 'bit blur', 'bit bored', 'bit desparate', 'bit didnt', 'bit different', 'bit ex', 'bit far', 'bit free', 'bit got', 'bit hopeful', 'bit l8', 'bit left', 'bit long', 'bit longer', 'bit lor', 'bit messed', 'bit pai', 'bit party', 'bit ppl', 'bit run', 'bit sorting', 'bit stylish', 'bit ur', 'bit we', 'bit weird', 'bit worriedx', 'bitch asshole', 'bitch how', 'bitch im', 'bitch later', 'bitching acted', 'bite bite', 'bite mark', 'bites bt', 'bits pieces', 'bk frmcloud', 'bk weight', 'black agidhane', 'black eyeddont', 'black one', 'black pants', 'black shirt', 'black trainners', 'blackand ur', 'blackberry bold', 'blackberry bold2', 'blackberry torch', 'blackim jealous', 'blacko londn', 'blah blah', 'blakes address', 'blakes night', 'blame day', 'blame ever', 'blank blank', 'blank but', 'blank lol', 'blank msg', 'blanket paper', 'blankets sufficient', 'blastin no', 'bleak hmmm', 'bleh but', 'bless hows', 'blessed month', 'blessget good', 'blessing times', 'blessings always', 'blessings good', 'blimey exercise', 'blind date', 'blind dates', 'block away', 'block breaker', 'blocked rich', 'blogging magicalsongsblogspotcom', 'bloke gona', 'bloke ur', 'blokes weddin', 'blonde new', 'bloo bloo', 'bloo ill', 'blood oath', 'blood pressure', 'blood sugar', 'bloodblood heartheart', 'bloodsend ten', 'bloody babyjontet', 'bloody bus', 'bloody funky', 'bloody hell', 'bloomberg message', 'blow mind', 'blow phil', 'blowing hair', 'blown couple', 'blu concert', 'blu gift', 'blue bay', 'blue blue', 'blue heron', 'blue jeans', 'blue looking', 'blue shirt', 'bluetooth double', 'bluetooth dvd', 'bluetooth free', 'bluetooth headset', 'bluetooth mobiles', 'bluetooth orange', 'bluetoothhdset free', 'blueu put', 'bluff leh', 'bluff wat', 'blur blur', 'blur can', 'bluray player', 'bmw car', 'board working', 'boat rolled', 'boat still', 'boat yeah', 'boatin the', 'bob barry', 'body bcoz', 'body even', 'body learn', 'body repairs', 'body takes', 'boggy boring', 'bognor should', 'bold bb', 'bold cos', 'bold ltgt', 'bold torch', 'bold2 nigeria', 'bollox hurt', 'boltblue tones', 'bomb date', 'bone infections', 'bone problms', 'bong gt', 'bonus caller', 'bonus get', 'bonus points', 'bonus prize', 'bonus special', 'boo babe', 'boo hoping', 'boo hows', 'boo im', 'boo time', 'book chez', 'book huh', 'book kb', 'book lesson', 'book next', 'book one', 'book perhaps', 'book reply', 'book sch', 'book see', 'book status', 'book think', 'book ticket', 'book time', 'book tomo', 'booked already', 'booked cancelled', 'booked half', 'booked kb', 'booked lessons', 'booked liao', 'booked pilates', 'booked slots', 'booked things', 'booked ticket', 'bookedthe hut', 'booking fri', 'booking quote', 'booking tour', 'bookmark text', 'books masteriastering', 'books my', 'boooo always', 'boost evrydy', 'boost secret', 'booty dance', 'bootydelious 32f', 'borderline yeah', 'bored already', 'bored bridgwater', 'bored come', 'bored da', 'bored death', 'bored depressed', 'bored etc', 'bored housewives', 'bored inever', 'bored izzit', 'bored james', 'bored lotsof', 'bored msg', 'bored so', 'bored speed', 'bored then', 'bored tv', 'bored wat', 'bored with', 'bored work', 'borin time', 'borin without', 'boring biatch', 'boring wat', 'boring whens', 'born god', 'bornplease report', 'borrow ur', 'boss felt', 'boss im', 'boss morning', 'boss tell', 'boston men', 'boston nyc', 'boston personal', 'bot notes', 'both essential', 'both shoot', 'both us', 'bother bills', 'bother get', 'bother hav', 'bother sending', 'bother ur', 'bothering trust', 'bottle red', 'bottle wine', 'bottom half', 'bought braindance', 'bought clothes', 'bought eggs', 'bought one', 'bought rons', 'bought test', 'boundaries may', 'bout 230ish', 'bout 2mrw', 'bout 730ish', 'bout 730pm', 'bout bein', 'bout da', 'bout drink', 'bout early', 'bout last', 'bout scammers', 'bout shexy', 'bout something', 'bout times', 'bowa is', 'bowl car', 'bowl plan', 'bowls worth', 'box 1013', 'box 113', 'box 11414', 'box 1146', 'box 1327', 'box 177', 'box 326', 'box 4217', 'box 434', 'box 47', 'box 5249', 'box 528', 'box 8027', 'box 84', 'box 97n7qp', 'box cr01327bt', 'box cro1327', 'box number', 'box right', 'box wa14', 'box1146 mk45', 'box139 la32wu', 'box177 m221bp', 'box326 cw25wx', 'box334 sk38xh', 'box385 m6', 'box39822 w111wx', 'box403 w1t1jy', 'box420 ip4', 'box42wr29c 150ppm', 'box61m60 1er', 'box95qu bt', 'box97n7qp 150ppm', 'boy always', 'boy are', 'boy asked', 'boy best', 'boy decided', 'boy do', 'boy glad', 'boy gold', 'boy grins', 'boy hogli', 'boy hope', 'boy is', 'boy late', 'boy love', 'boy loved', 'boy necklace', 'boy no', 'boy online', 'boy ran', 'boy replied', 'boy stevelike', 'boy ur', 'boy walking', 'boy whereare', 'boye changed', 'boye faded', 'boye need', 'boyf ive', 'boyfriend ltgt', 'boyfriend who', 'boys back', 'boys bring', 'boys even', 'boys made', 'boys pissed', 'boys want', 'boytoy does', 'boytoy geeee', 'boytoy how', 'boytoy hows', 'boytoy made', 'boytoy miss', 'boytoy send', 'boytoy smacks', 'boytoy teasing', 'boytoy think', 'boyy think', 'brah finished', 'brah see', 'brain dear', 'braindance compofstuff', 'brainless baby', 'brains going', 'brainy one', 'brand new', 'brandy rum', 'bras strewn', 'brats pulling', 'braved buses', 'bray wicklow', 'brb gonna', 'brdget jones', 'bread hannaford', 'bread milk', 'breadstick lol', 'break accommodationvouchers', 'break chain', 'break could', 'break do', 'break fassyole', 'break from', 'break know', 'break suffer', 'break tears', 'break time', 'break times', 'break walls', 'break wanna', 'breaker comes', 'breakfast hamper', 'breakin his', 'breaking ltgt', 'breaks 45', 'breath namemy', 'breath sunshine', 'breathe air', 'breathe easier', 'breathe1 titles', 'breather promise', 'breathing neck', 'breeze bright', 'bribe nipost', 'bridge needs', 'bridgwater banter', 'brief description', 'brief history', 'bright early', 'bright light', 'bright sun', 'brighten day', 'brilliant weekend', 'brilliant1thingi got', 'brin lar', 'bring 2mrw', 'bring along', 'bring babe', 'bring back', 'bring bottle', 'bring bud', 'bring food', 'bring got', 'bring happiness', 'bring hell', 'bring home', 'bring inner', 'bring light', 'bring mini', 'bring notice', 'bring one', 'bring perf', 'bring see', 'bring success', 'bring tape', 'bring tat', 'bring that', 'bring thk', 'bring us', 'bringing extra', 'bringing galileo', 'bringing money', 'bringing real', 'brings faithevening', 'brings hopeafternoon', 'brings luvnight', 'brings ppl', 'brings restwish', 'brings ringtones', 'brings smile', 'brings tear', 'brisk walks', 'brison book', 'bristol road', 'bristol st', 'british hotels', 'britney fml', 'bro amongst', 'bro no', 'broad st', 'broadband processed', 'broke already', 'broke an', 'broke didnt', 'broke list', 'broke oh', 'broken english', 'broken heart', 'brolly left', 'bros ltgt', 'broth want', 'brothas chasing', 'brother alert', 'brother do', 'brother drive', 'brother family', 'brother fly', 'brother genius', 'brother like', 'brother nothing', 'brother pls', 'brother really', 'brother role', 'brother sister', 'brother spoken', 'brother time', 'brother transfered', 'brothers head', 'brought em', 'brought gmw', 'brought sun', 'brought weddingfriend', 'browni miss', 'brownie nice', 'brownies sister', 'browse content', 'browser surf', 'browsin compulsory', 'bruce amp', 'bruce downs', 'brum thanks', 'bruv hope', 'bslvyl sent', 'bsn like', 'bsnl offc', 'bstfrnd no', 'bt alwys', 'bt day', 'bt didnt', 'bt dont', 'bt fightng', 'bt forgot', 'bt frnds', 'bt girlfrnd', 'bt innu', 'bt landline', 'bt line', 'bt love', 'bt national', 'bt quiet', 'bt sitll', 'bt txting', 'bthere love', 'bthmm njan', 'btnational rate', 'btooth call', 'btooth freenokia', 'btw carlos', 'btw lunch', 'btw regarding', 'btw youre', 'btwn ur', 'bucks dad', 'bucks dont', 'bucks jay', 'bucks send', 'bucks the', 'bud anyway', 'bud drinks', 'bud last', 'buddy ya', 'buddys txt', 'budget available', 'budget bb', 'budget ltgt', 'budget money', 'buen tiempo', 'buff wind', 'buffet cine', 'buffet eat', 'buffy 25', 'bugis 930', 'bugis great', 'bugis juz', 'bugis oso', 'bugis vill', 'bugis we', 'build snowman', 'build tolerance', 'building coat', 'building might', 'building was', 'built dis', 'bulbs seeds', 'bull your', 'bullshit it', 'bunch lotto', 'bundle deals', 'bunkers shit', 'buns have', 'buns how', 'buns sugar', 'buns what', 'burger king', 'burger way', 'burgundy captaining', 'burial mojibiola', 'burn think', 'burning ltgt', 'burning update', 'burns msg', 'burns tonite', 'burnt fingers', 'burrito right', 'bus aint', 'bus are', 'bus coz', 'bus directly', 'bus going', 'bus homebut', 'bus homewot', 'bus if', 'bus inform', 'bus last', 'bus leaves', 'bus love', 'bus mo', 'bus pick', 'bus slow', 'bus stand', 'bus stop', 'bus to', 'bus way', 'bus822656166382 ubi', 'buses hav', 'buses taken', 'business plan', 'business you', 'busty married', 'busy able', 'busy come', 'busy dear', 'busy guy', 'busy im', 'busy juz', 'busy much', 'busy though', 'busy transcribing', 'busy trying', 'busy ur', 'busy wif', 'busy work', 'busy wun', 'busyi call', 'but 630', 'but actually', 'but add', 'but also', 'but ate', 'but bag', 'but become', 'but being', 'but brother', 'but buy', 'but call', 'but can', 'but checking', 'but coin', 'but comment', 'but complexities', 'but conform', 'but cute', 'but depression', 'but didnt', 'but din', 'but dint', 'but dont', 'but dun', 'but dunno', 'but end', 'but enjoy', 'but fails', 'but family', 'but far', 'but feels', 'but find', 'but finish', 'but flame', 'but flurries', 'but forget', 'but found', 'but going', 'but good', 'but got', 'but great', 'but guess', 'but haf', 'but happy', 'but havent', 'but hurt', 'but ill', 'but im', 'but isnt', 'but juz', 'but law', 'but least', 'but lesser', 'but life', 'but like', 'but liked', 'but love', 'but maybe', 'but miracle', 'but motivating', 'but mum', 'but need', 'but never', 'but nobody', 'but one', 'but oso', 'but pay', 'but person', 'but pls', 'but really', 'but relax', 'but remain', 'but said', 'but scared', 'but school', 'but send', 'but shes', 'but silence', 'but simple', 'but sis', 'but sometimes', 'but start', 'but still', 'but sure', 'but surely', 'but tell', 'but telly', 'but thats', 'but thk', 'but together', 'but torch', 'but tot', 'but toughest', 'but true', 'but was', 'but wat', 'but we', 'but well', 'but went', 'but where', 'but wil', 'but wont', 'but words', 'butt hang', 'butt sore', 'buttheres aboutas', 'butting heads', 'buttons doesnt', 'buy 4d', 'buy and', 'buy anything', 'buy apartment', 'buy bb', 'buy blackberry', 'buy bmw', 'buy bunch', 'buy cheese', 'buy china', 'buy drop', 'buy early', 'buy ericsson', 'buy food', 'buy get', 'buy gotta', 'buy hanger', 'buy juz', 'buy later', 'buy liquor', 'buy little', 'buy ltgt', 'buy lunch', 'buy make', 'buy making', 'buy meals', 'buy much', 'buy mums', 'buy new', 'buy newspapers', 'buy one', 'buy ovulation', 'buy pizza', 'buy replying', 'buy say', 'buy shell', 'buy shit', 'buy smth', 'buy space', 'buy storelike', 'buy stuff', 'buy tell', 'buy thing', 'buy tickets', 'buy tmr', 'buy two', 'buy unsold', 'buy wat', 'buy where', 'buy wif', 'buyer melike', 'buying but', 'buying end', 'buying gucci', 'buying qbank', 'buying self', 'buying something', 'buying tix', 'buying today', 'buz wedlunch', 'buzz ass', 'buzz chest', 'buzz cock', 'buzz didnt', 'buzz friends', 'buzz hey', 'buzzzz grins', 'bx 526', 'bx420 ip4', 'bx420ip45we 150pm', 'bx526 sw73ss', 'by loved', 'by march', 'by monday', 'by post', 'by rajitha', 'by textoperator', 'by way', 'byatch whassup', 'bye abiola', 'bye bye', 'c52 valid', 'c52 valid12hrs', 'cab availablethey', 'cabin pa', 'cable internet', 'cafe did', 'cafe tok', 'cafe yet', 'cage cock', 'cake fishhead', 'cake guess', 'cake tasts', 'caken my', 'cakes its', 'cal drpd', 'cal lets', 'cal sir', 'cal tiz', 'cal you', 'calculated every', 'calculation reply', 'calculation that', 'cali sweet', 'california okay', 'california the', 'calis great', 'call 0121', 'call 0207', 'call 02070836089', 'call 07046744435', 'call 07090298926', 'call 07099833605', 'call 0800', 'call 08000776320', 'call 08000930705', 'call 08001950382', 'call 08002888812', 'call 08002988890', 'call 08081263000', 'call 0845', 'call 08701213186', 'call 08701237397', 'call 087018728737', 'call 08702490080', 'call 08704439680', 'call 08704439680tscs', 'call 08707500020', 'call 08707509020', 'call 08707808226', 'call 08709222922', 'call 08709501522', 'call 087104711148', 'call 08712101358', 'call 08712103738', 'call 08712300220', 'call 087123002209am7pm', 'call 08712400200', 'call 08712402050', 'call 08712402578', 'call 08712402779', 'call 08712402902', 'call 08712402972', 'call 08712404000', 'call 08712460324', 'call 08712460324nat', 'call 08712466669', 'call 087147123779am7pm', 'call 08714714011', 'call 08714719523', 'call 08715203028', 'call 08715203649', 'call 08715203652', 'call 08715203656', 'call 08715203677', 'call 08715203685', 'call 08715203694', 'call 08715205273', 'call 08717168528', 'call 08717507382', 'call 08717509990', 'call 08717895698', 'call 08718711108', 'call 08718723815', 'call 08718726970', 'call 08718726971', 'call 08718726978', 'call 087187272008', 'call 08718729755', 'call 08718729758', 'call 08718730555', 'call 08718730666', 'call 08718738001', 'call 08718738002', 'call 08718738034', 'call 08719180219', 'call 08719180248', 'call 08719181259', 'call 08719181503', 'call 08719181513', 'call 08719899217', 'call 08719899229', 'call 08719899230', 'call 09050000301', 'call 09050000460', 'call 09050001295', 'call 09050001808', 'call 09050002311', 'call 09050003091', 'call 09050090044', 'call 09050280520', 'call 09053750005', 'call 09058091854', 'call 09058091870', 'call 09058094454', 'call 09058094455', 'call 09058094507', 'call 09058094565', 'call 09058094583', 'call 09058095107', 'call 09058095201', 'call 09058097189', 'call 09058097218', 'call 09058099801', 'call 09061104276', 'call 09061104283', 'call 09061209465', 'call 09061213237', 'call 09061221061', 'call 09061221066', 'call 09061701444', 'call 09061701461', 'call 09061701851', 'call 09061701939', 'call 09061743386', 'call 09061743806', 'call 09061743810', 'call 09061743811', 'call 09061744553', 'call 09061749602', 'call 09061790121', 'call 09061790125', 'call 09061790126', 'call 09063440451', 'call 09063442151', 'call 09063458130', 'call 0906346330', 'call 09064011000', 'call 09064012103', 'call 09064012160', 'call 09064017295', 'call 09064018838', 'call 09064019014', 'call 09065174042', 'call 09065394514', 'call 09065394973', 'call 09066350750', 'call 09066358152', 'call 09066358361', 'call 09066361921', 'call 09066362206', 'call 09066362220', 'call 09066362231', 'call 09066364589', 'call 09066368327', 'call 09066368470', 'call 09066368753', 'call 09066380611', 'call 09066382422', 'call 09066612661', 'call 09066649731from', 'call 09066660100', 'call 09071512433', 'call 09071517866', 'call 09077818151', 'call 09090204448', 'call 09090900040', 'call 09094100151', 'call 09094646631', 'call 09094646899', 'call 09095350301', 'call 09701213186', 'call 1010', 'call 123', 'call 2mrw', 'call 2mwen', 'call 2optout', 'call 2optoutd3wv', 'call 3mins', 'call 8000930705', 'call 9061100010', 'call ah', 'call alert', 'call alter', 'call amanda', 'call appreciate', 'call ard', 'call armand', 'call arul', 'call asa', 'call at', 'call b4', 'call back', 'call bank', 'call bfore', 'call book', 'call boss', 'call break', 'call bx526', 'call call', 'call can', 'call candont', 'call cause', 'call chechi', 'call check', 'call claim', 'call class', 'call cost', 'call credit', 'call customer', 'call da', 'call dear', 'call dhorte', 'call didnt', 'call discuss', 'call disturb', 'call done', 'call email', 'call embassy', 'call evening', 'call father', 'call finish', 'call fixed', 'call free', 'call freefone', 'call freephone', 'call friends', 'call germany', 'call get', 'call gets', 'call got', 'call hand', 'call home', 'call hour', 'call how', 'call im', 'call just', 'call khelate', 'call knows', 'call land', 'call landline', 'call later', 'call lets', 'call lifeand', 'call like', 'call london', 'call lor', 'call ltgt', 'call lunch', 'call me', 'call meet', 'call mei', 'call mine', 'call miss', 'call mistake', 'call mobile', 'call mobilesdirect', 'call mobileupd8', 'call mssuman', 'call mumhas', 'call night', 'call no', 'call noon', 'call now', 'call noworriesloanscom', 'call number', 'call ok', 'call pa', 'call phones', 'call plz', 'call radio', 'call reach', 'call ready', 'call reply', 'call right', 'call rude', 'call santa', 'call say', 'call scold', 'call senthil', 'call sir', 'call something', 'call specially', 'call sporadically', 'call sum', 'call sure', 'call tell', 'call the', 'call therexx', 'call time', 'call times', 'call tmorrowpls', 'call tmr', 'call tomorrow', 'call tomorrowcall', 'call txt', 'call unable', 'call uncle', 'call ure', 'call urgnt', 'call vasai', 'call waheed', 'call wat', 'call when', 'call work', 'call world', 'call xxx', 'call you', 'call youcarlos', 'call youre', 'call youve', 'call09050000327 tc', 'call2optoutj mf', 'callback orno', 'callback remove', 'callcost 150ppm', 'callcoz iz', 'calld amp', 'calldrove frm', 'called ask', 'called bbdthts', 'called brother', 'called coming', 'called dad', 'called falling', 'called hair', 'called hey', 'called left', 'called let', 'called mei', 'called mittelschmertz', 'called mom', 'called one', 'called police', 'called received', 'called said', 'called so', 'called someone', 'called texted', 'called the', 'called this', 'called tool', 'called ubandu', 'called whole', 'caller food', 'caller prize', 'callers press', 'callertune callers', 'callfreefone 08081560665', 'callin babesozi', 'callin bad', 'callin say', 'calling 08719839835', 'calling customer', 'calling dont', 'calling everyone', 'calling hotmix', 'calling it', 'calling lot', 'calling mobile', 'calling right', 'calling shit', 'calling something', 'calling texting', 'calling unable', 'calling us', 'calling would', 'callingforgot say', 'callon friday', 'calls 1minmobsmore', 'calls 1minmobsmorelkpobox177hp51fl', 'calls 1minmoremobsemspobox45po139wa', 'calls activate', 'calls and', 'calls call', 'calls cast', 'calls cost', 'calls friends', 'calls get', 'calls help', 'calls if', 'calls later', 'calls text', 'calls texts', 'calls treadmill', 'calls ur', 'calls us', 'calls150ppm last', 'callsmessagesmissed calls', 'calm downon', 'calm reassurance', 'cam good', 'cam moby', 'cam working', 'camcorder call', 'camcorder hit', 'camcorder please', 'camcorder reply', 'came ago', 'came asked', 'came back', 'came cleared', 'came fix', 'came hme', 'came home', 'came hostel', 'came last', 'came look', 'came minuts', 'came online', 'came room', 'came said', 'came ya', 'came you', 'camera call', 'camera free', 'camera mobile', 'camera mobiles', 'camera phone', 'camera phones', 'camera quite', 'camera reply', 'camera something', 'camera this', 'camera you', 'cameravideo phones', 'camp amrca', 'campus are', 'campus atm', 'campus he', 'campus lodge', 'camry like', 'can 2nite', 'can 4fil', 'can assume', 'can buy', 'can call', 'can can', 'can come', 'can crack', 'can dad', 'can decide', 'can dunno', 'can feel', 'can get', 'can give', 'can go', 'can hear', 'can help', 'can if', 'can im', 'can itleave', 'can itu', 'can later', 'can let', 'can like', 'can look', 'can lor', 'can mag', 'can meet', 'can meh', 'can online', 'can open', 'can please', 'can pls', 'can plz', 'can put', 'can reply', 'can say', 'can send', 'can talk', 'can tell', 'can text', 'can use', 'can wah', 'can work', 'canada abi', 'canada eh', 'canal ok', 'canary islands', 'cancel cheyyamoand', 'cancel leh', 'cancel send', 'cancel still', 'cancel text', 'canceled havnt', 'cancelled again', 'cancelled yeah', 'cancer 1lemondayno', 'cancer and', 'cancer causing', 'cancer moms', 'cancer my', 'candont keep', 'canlove nic', 'canname capital', 'cannot come', 'cannot forget', 'cannot oredi', 'cannot take', 'cannot then', 'cannt get', 'cannt listen', 'cant aha', 'cant answering', 'cant apologize', 'cant at', 'cant bare', 'cant believe', 'cant catch', 'cant close', 'cant come', 'cant could', 'cant cum', 'cant describe', 'cant display', 'cant dont', 'cant drive', 'cant eat', 'cant even', 'cant ever', 'cant feel', 'cant find', 'cant friend', 'cant get', 'cant give', 'cant go', 'cant guess', 'cant handle', 'cant help', 'cant imagine', 'cant keep', 'cant least', 'cant leh', 'cant let', 'cant live', 'cant love', 'cant make', 'cant mis', 'cant need', 'cant outside', 'cant park', 'cant pay', 'cant pick', 'cant put', 'cant remember', 'cant right', 'cant see', 'cant settle', 'cant sleep', 'cant sound', 'cant speak', 'cant stay', 'cant stop', 'cant take', 'cant talk', 'cant tell', 'cant text', 'cant thanks', 'cant think', 'cant thk', 'cant til', 'cant try', 'cant txt', 'cant wait', 'cant work', 'cantdo anythingtomorrow', 'capacity one', 'capital australia', 'capital never', 'cappuccino miss', 'cappuccino think', 'caps that', 'captain room', 'captain tvhe', 'captain vijaykanth', 'captaining party', 'car appreciated', 'car back', 'car better', 'car but', 'car buy', 'car cant', 'car come', 'car dats', 'car fixed', 'car going', 'car hour', 'car house', 'car ill', 'car it', 'car keys', 'car later', 'car lei', 'car meant', 'car move', 'car mum', 'car one', 'car oredi', 'car park', 'car picking', 'car please', 'car shop', 'car sunroof', 'car today', 'car urgentlyits', 'card abi', 'card da', 'card dunno', 'card get', 'card got', 'card great', 'card is', 'card itz', 'card loyalty', 'card spook', 'card uk', 'card wif', 'card xxx', 'cardiff still', 'cardiff uni', 'cardin one', 'cards box', 'care 07821230901', 'care 08712405020', 'care 08718726270', 'care brother', 'care bruv', 'care buy', 'care call', 'care cant', 'care cause', 'care enough', 'care financial', 'care firsg', 'care forevr', 'care get', 'care give', 'care hello', 'care im', 'care live', 'care llspeak', 'care luv', 'care msg', 'care need', 'care oh', 'care other', 'care others', 'care pa', 'care princess', 'care reaching', 'care restuwud', 'care sleep', 'care so', 'care something', 'care soonc', 'care soonxxx', 'care spk', 'care stuff', 'care sweet', 'care understand', 'care wil', 'care wont', 'care world', 'cared missed', 'career flyng', 'career im', 'career tel', 'careful dont', 'careful spk', 'carefully our', 'careinsha allah', 'carente style', 'cares enough', 'cares gud', 'careswt dreamsmuah', 'carewhoever king', 'caring loving', 'caring person', 'caring stuff', 'carlie calls', 'carlin ten', 'carlos could', 'carlos definitely', 'carlos difficult', 'carlos friends', 'carlos gauge', 'carlos let', 'carlos make', 'carlos pick', 'carlos says', 'carlos soon', 'carlos taking', 'carlos took', 'carlos wanted', 'carlos went', 'carlosll minute', 'carly quick', 'carolina texas', 'caroline end', 'carry disturbing', 'carry meh', 'carryin bac', 'cars bids', 'cars do', 'carso problem', 'cartons pleased', 'cartoon listening', 'cartoon person', 'case cant', 'case cheap', 'case collecting', 'case coming', 'case get', 'case guess', 'case huiming', 'case man', 'case plan', 'case scenario', 'case wake', 'cash 100', 'cash 150', 'cash 18only', 'cash 200', 'cash 2000', 'cash 5000', 'cash 86688', 'cash await', 'cash award', 'cash call', 'cash claim', 'cash collect', 'cash def', 'cash every', 'cash from', 'cash give', 'cash good', 'cash holiday', 'cash know', 'cash luxury', 'cash name', 'cash needs', 'cash nitros', 'cash prize', 'cash spanish', 'cash still', 'cash together', 'cash tomorrow', 'cash weekend', 'cash wkent150p16', 'cash yet', 'cashbalance currently', 'cashbincouk get', 'cashed left', 'cashin send', 'cashto claim', 'casing cost', 'cast 10pmin', 'casting look', 'castor you', 'casualty means', 'cat house', 'cat question', 'cat wanted', 'cat worms', 'catch big', 'catch bus', 'catch let', 'catch something', 'catch thats', 'catch up', 'catch world', 'catches put', 'catching show', 'catching sleep', 'catching speak', 'categories used', 'caught mrt', 'caught till', 'caught using', 'cause announced', 'cause developed', 'cause doin', 'cause get', 'cause gyno', 'cause im', 'cause jay', 'cause know', 'cause old', 'cause pain', 'cause prob', 'cause started', 'cause thinks', 'cause today', 'cause will', 'cause wont', 'cause yelling', 'causes mutations', 'causing age', 'causing outages', 'cave im', 'cbe but', 'cbe chennai', 'cbe really', 'cc 08708800282', 'cc 08718720201', 'ccna exam', 'cd forget', 'cd gift', 'cd vouchers', 'cdgt that', 'cds 4u', 'cds stdtxtrate', 'cds store', 'cds virgin', 'cedar key', 'celeb pocketbabecouk', 'celeb4 pics', 'celebrate day', 'celebrate nys', 'celebrate stuffing', 'celebrate such', 'celebrated reflection', 'celebration rents', 'celebration thats', 'celebrations full', 'cell already', 'cell dead', 'cell got', 'cell phone', 'cell wat', 'cell way', 'cell whole', 'census busy', 'center 447797706009', 'center 7ish', 'center tootsie', 'centre part', 'centre something', 'centre tmr', 'century cm', 'cer it', 'cereals if', 'ceri rebel', 'certainly dont', 'certainly mind', 'certainly puts', 'certificate april', 'cha cha', 'cha hav', 'cha quiteamuzing', 'cha slide', 'chachi tried', 'chad gymnastics', 'chain amp', 'chain if', 'chain kodstini', 'challenge godyou', 'challenge know', 'challenging time', 'champ leaving', 'champlaxigating think', 'champneys can', 'chance 85555', 'chance anything', 'chance claim', 'chance first', 'chance friend', 'chance gang', 'chance if', 'chance might', 'chance of', 'chance plz', 'chance rahul', 'chance to', 'chance ttyl', 'chance win', 'chance winning', 'chances win', 'change also', 'change batt', 'change fb', 'change field', 'change info', 'change its', 'change lifeyou', 'change ltgt', 'change number', 'change order', 'change permissions', 'change plan', 'change poet', 'change ring', 'change said', 'change see', 'change sentence', 'change suntec', 'change tat', 'change windows', 'changed 25', 'changed cuz', 'changed day', 'changed phone', 'changed realized', 'changed search', 'changes da', 'changes next', 'changing diapers', 'channel teletext', 'chapel frontierville', 'chaps user', 'chapter one', 'character dnt', 'character not', 'characters dey', 'charge activate', 'charge camera', 'charge contribute', 'charge felt', 'charge help', 'charge help08700469649', 'charge lst', 'charge mobile', 'charge month', 'charge offer', 'charge probably', 'charge see', 'charge smiles', 'charged 150pm', 'charged 35p', 'charged 450', 'charged 5month', 'charged gbp', 'charged150pmsg2 unsubscribe', 'charges also', 'charges apply', 'charges refundedthis', 'charges transfer', 'charges withdraw', 'charity 8007', 'charity polys', 'charles sorry', 'charles told', 'charlie working', 'charming soon', 'chart heroes', 'chart mobile', 'chase run', 'chase stated', 'chasing dream', 'chasing us', 'chastity device', 'chat 09099725823', 'chat 60pmin', 'chat 62220cncl', 'chat 82242', 'chat 86688', 'chat awesome', 'chat cheaper', 'chat click', 'chat coz', 'chat date', 'chat dont', 'chat flirt', 'chat get', 'chat going', 'chat horny', 'chat in', 'chat mob', 'chat now', 'chat nowsend', 'chat photo', 'chat private', 'chat properly', 'chat rooms', 'chat see', 'chat send', 'chat service', 'chat set', 'chat someday', 'chat sort', 'chat svc', 'chat things', 'chat txt', 'chat uks', 'chat wit', 'chat xxsp', 'chat80155 pobox36504w45wq', 'chatim w8in', 'chatlines inclu', 'chatter chat80155', 'chatting send', 'cheap 78pmin', 'cheap apologise', 'cheap book', 'cheap but', 'cheap chat', 'cheap den', 'cheap gd', 'cheaper call', 'cheaper find', 'cheaper he', 'cheaper petrol', 'cheat anyway', 'cheat others', 'cheating that', 'chechi did', 'check already', 'check arrival', 'check audreys', 'check cos', 'check da', 'check dlf', 'check dont', 'check errors', 'check google', 'check got', 'check him', 'check hows', 'check inour', 'check leo', 'check maili', 'check newest', 'check nothing', 'check nuerologist', 'check out', 'check phone', 'check planettalkinstantcom', 'check review', 'check rooms', 'check sagamu', 'check tell', 'check text', 'check theres', 'check til', 'check todays', 'check wid', 'check wif', 'check yahoo', 'check yo', 'checkboxes know', 'checked balance', 'checked da', 'checked heading', 'checked phone', 'checked stuff', 'checkin that', 'checking do', 'checking happening', 'checking iq', 'checking ltgt', 'checking online', 'checking really', 'checking replying', 'checkmate chess', 'checkup aka', 'cheer no', 'cheer upnot', 'cheered me', 'cheers card', 'cheers for', 'cheers lou', 'cheers message', 'cheers oh', 'cheers tex', 'cheers you', 'cheery bye', 'cheese on', 'cheese pizza', 'cheesy songs', 'cheetos bag', 'chef ltgt', 'chennai forgot', 'chennai requires', 'chennai search', 'chennai still', 'chennai sunday', 'chennai thirunelvali', 'chennai velachery', 'chennai well', 'chennaibecause im', 'chennaii surely', 'cherish brother', 'cherish guys', 'cherthalain case', 'chess comes', 'chest abdomen', 'chest buzz', 'cheyyamoand get', 'chez jules', 'chg 150', 'chgs send', 'chic common', 'chick huge', 'chicken broth', 'chicken curry', 'chicken rice', 'chickened he', 'chief give', 'chik get', 'chikku bt', 'chikku cell', 'chikku chikkudb', 'chikku favourite', 'chikku gud', 'chikku hw', 'chikku nange', 'chikku nt', 'chikku send', 'chikku shared', 'chikku tke', 'chikkuali vargu', 'chikkugoing room', 'chikkuil send', 'chikkuk wat', 'chikkusimple habbahw', 'chikkuwat abt', 'child afraid', 'child gave', 'child got', 'childish smile', 'childish true', 'childporn cars', 'children adults', 'children cant', 'children need', 'childs job', 'chile please', 'chill another', 'chill let', 'chillin at', 'chillin friends', 'chillin home', 'china asia', 'china noisy', 'chinatown got', 'chinese food', 'chinese thanks', 'chinky tonight', 'chiong sat', 'chip fat', 'chitchat mobile', 'chk ur', 'chloe smashed', 'chocolate melt', 'chocolate weed', 'choice den', 'choice tcs', 'choice worth', 'choice yes', 'choices just', 'choose 10', 'choose 1000s', 'choose content', 'choose even', 'choose friend', 'choose future', 'choose girl', 'choose number', 'choose one', 'choose rather', 'choose superb', 'choose top', 'choose wife', 'choose you', 'choose your', 'choosing phone', 'chords speak', 'chores time', 'chosen receive', 'chosen to', 'chrgd50p per', 'christ bitch', 'christ taking', 'christians class', 'christmas an', 'christmas annie', 'christmas babe', 'christmas but', 'christmas call', 'christmas hug', 'christmas ltgt', 'christmas thing', 'christmasmerry christmas', 'chuckin ur', 'church holla', 'church what', 'cin 2mrw', 'cine actually', 'cine better', 'cine den', 'cine frm', 'cine go', 'cine got', 'cine lor', 'cinema pass', 'cinema plus', 'cinema trip', 'cinema up', 'citizen also', 'citizen get', 'citizen rates', 'city break', 'citylink faster', 'cl how', 'claim 0871277810710pmin', 'claim 0871277810810', 'claim 0871277810910pmin', 'claim 09050000555', 'claim 150pmsg', 'claim 1st', 'claim 200', 'claim 290305', 'claim 3030', 'claim 350', 'claim 5000', 'claim a21', 'claim c52', 'claim call', 'claim call09050000327', 'claim calls', 'claim code', 'claim easy', 'claim either', 'claim every', 'claim free', 'claim guaranteed', 'claim j89', 'claim m95', 'claim msg', 'claim mustprovide', 'claim national', 'claim no', 'claim number', 'claim prize', 'claim reward', 'claim tc', 'claim tscs', 'claim txt', 'claim ur', 'claim vip', 'claim weeks', 'claim y87', 'claim yr', 'claimcode m39m51', 'claims dept', 'claims hot', 'claire goes', 'claire havin', 'claire xx', 'clarify back', 'clash really', 'class airport', 'class babe', 'class bsn', 'class class', 'class did', 'class do', 'class early', 'class full', 'class gonna', 'class hours', 'class hrishi', 'class lets', 'class ltgt', 'class lunsford', 'class midnight', 'class one', 'class please', 'class pm', 'class right', 'class run', 'class thru', 'class tmrw', 'class us', 'class varaya', 'class wanna', 'class will', 'classes go', 'classes right', 'classic nokia', 'claypot rice', 'cld drink', 'cld meet', 'clean choose', 'clean dont', 'clean fold', 'clean hee', 'clean ltgt', 'clean need', 'clean room', 'cleaning house', 'cleaning shows', 'cleaning ur', 'clear movies', 'clear sure', 'clear things', 'cleared footprints', 'cleared frndsship', 'cleared two', 'clearing beautiful', 'clearing cars', 'clearly fault', 'clearly ok', 'clever aft', 'clever simple', 'click delete', 'click following', 'click friend', 'click httpwap', 'click open', 'click themob', 'click wap', 'cliff something', 'clip lookatme', 'clock call', 'clock nt', 'clock though', 'clocks back', 'clos1 lvblefrnd', 'close 300603', 'close cost', 'close dificult', 'close eyes', 'close fight', 'close friends', 'close frnd', 'close heart', 'close oredi', 'close still', 'close tho', 'closeby see', 'closed tomorrow', 'closedincluding post', 'closer are', 'closer goodnoon', 'closer like', 'closer side', 'closes lor', 'closingdate040902 claimcode', 'cloth packalso', 'clothes jewelry', 'clothes little', 'cloud cant', 'clover whatever', 'club 81303', 'club choose', 'club credits', 'club day', 'club dont', 'club get', 'club gr8', 'club name', 'club need', 'club nokia', 'club reply', 'club stop', 'club to', 'club tones', 'club txt', 'club week', 'club your', 'club4 po', 'club4mobilescom choose', 'clue spanish', 'cm frwd', 'cm po', 'cme this', 'cme want', 'cmon babe', 'cn go', 'cn run', 'cnn ibn', 'co amp', 'co free', 'coach hot', 'coast haiz', 'coat dont', 'coat gym', 'coaxing images', 'cocacola walk', 'coccooning home', 'cochin homeleft', 'cochin pls', 'cock my', 'cock surrounded', 'cock where', 'cocksuckers if', 'coco hes', 'code 1131', 'code 2309', 'code 3100', 'code 4041', 'code 40411', 'code 40533', 'code 41685', 'code 41782', 'code 42049', 'code 42478', 'code 42810', 'code 45239', 'code 48922', 'code 49557', 'code 7684', 'code acc', 'code k52', 'code k61', 'code kl341', 'code rp176781', 'code s89', 'code xxxxx', 'code4xx26 expires', 'coffee animation', 'coffee await', 'coffee cake', 'coffee run', 'coffee wif', 'coffee wld', 'coherently see', 'coin air', 'coin becoz', 'coins factory', 'coins must', 'coins someone', 'coins then', 'cold dont', 'cold im', 'cold keep', 'cold nothing', 'cold wearing', 'coldheard tht', 'colin farrell', 'collages mo', 'collapsed university', 'colleagues all', 'colleagues wish', 'collect 83600', 'collect award', 'collect bottom', 'collect call', 'collect car', 'collect cheque', 'collect content', 'collect da', 'collect easy', 'collect message', 'collect no', 'collect polyphonic', 'collect prize', 'collect tenerife', 'collect text', 'collect today', 'collect todayfrom', 'collect ur', 'collect valentines', 'collected dough', 'collected simply', 'collecting ur', 'collecting week', 'collection 09066364349', 'collection call', 'collection cs', 'collection logo', 'collection nokia', 'collection ppm', 'collection ppm150', 'collection sae', 'collection tcs', 'collection to', 'colleg watll', 'college 7pm', 'college able', 'college leannewhat', 'college life', 'college medicine', 'college pa', 'college sad', 'college tell', 'college txt', 'college yet', 'color dreams', 'colour camera', 'colour choose', 'colour flag', 'colour mobiles', 'colour phone', 'colour quite', 'colour suits', 'colourful life', 'colours euro', 'colours lor', 'com see', 'comb hair', 'combine lor', 'combine parts', 'come 11', 'come 2morrow', 'come accordingly', 'come aftr', 'come ah', 'come alivebetter', 'come also', 'come and', 'come anna', 'come anymore', 'come anyway', 'come around', 'come ask', 'come auction', 'come back', 'come backa', 'come bit', 'come bus', 'come canlove', 'come cant', 'come carlos', 'come cause', 'come chase', 'come chennai', 'come college', 'come color', 'come come', 'come cos', 'come crash', 'come da', 'come din', 'come dinner', 'come dont', 'come early', 'come earth', 'come english', 'come enough', 'come evening', 'come ever', 'come everybodys', 'come fetch', 'come find', 'come first', 'come fix', 'come get', 'come getting', 'come got', 'come guoyang', 'come havent', 'come home', 'come house', 'come ideas', 'come ill', 'come im', 'come immediately', 'come karnan', 'come kerala', 'come lar', 'come late', 'come later', 'come life', 'come like', 'come look', 'come lor', 'come lowes', 'come lt', 'come ltgt', 'come lunch', 'come mahal', 'come me', 'come medical', 'come meet', 'come mu', 'come near', 'come need', 'come never', 'come noon', 'come nordstrom', 'come nyc', 'come office', 'come ok', 'come online', 'come otherwise', 'come people', 'come pick', 'come playi', 'come point', 'come quick', 'come quickly', 'come right', 'come river', 'come room', 'come round', 'come search', 'come sec', 'come self', 'come shopping', 'come slave', 'come smoke', 'come soon', 'come special', 'come take', 'come takes', 'come taunton', 'come tb', 'come tell', 'come tht', 'come till', 'come time', 'come todaydo', 'come tomorro', 'come tomorrow', 'come tonight', 'come took', 'come true', 'come try', 'come up', 'come upstairs', 'come ur', 'come us', 'come want', 'come wat', 'come way', 'come wen', 'come wenever', 'come wherever', 'come wipe', 'come with', 'come within', 'come worry', 'come worse', 'come you', 'comedy captain', 'comedy club', 'comedy night', 'comedycant stop', 'comei always', 'comes already', 'comes amp', 'comes back', 'comes bak', 'comes deluxe', 'comes find', 'comes flowing', 'comes guys', 'comes kens', 'comes mind', 'comes new', 'comes persian', 'comes thoughtsi', 'comes toothpaste', 'comes ur', 'comes when', 'cometil enjoy', 'comfey if', 'comfort and', 'comfort lie', 'comin 2nitetell', 'comin back', 'comin bristol', 'comin early', 'comin fetch', 'comin ok', 'comin the', 'coming 630', 'coming and', 'coming back', 'coming better', 'coming class', 'coming cochin', 'coming day', 'coming deliver', 'coming dont4get2text', 'coming due', 'coming early', 'coming even', 'coming friday', 'coming funeral', 'coming gym', 'coming hill', 'coming home', 'coming it', 'coming later', 'coming making', 'coming morning', 'coming mu', 'coming pick', 'coming playing', 'coming queen', 'coming review', 'coming today', 'coming tonight', 'coming wednesday', 'coming whatever', 'comingdown later', 'comingtmorow engaged', 'commercial hasbroin', 'commit random', 'common car', 'common declare', 'common hearin', 'common room', 'common take', 'community 100psms', 'community 150psms', 'community outreach', 'comp 1st', 'comp chance', 'comp send', 'comp win', 'companies bill', 'companion lover', 'company apnt', 'company bank', 'company could', 'company elama', 'company goodenvironment', 'company hope', 'company jan', 'company jst', 'company just', 'company name', 'company night', 'company share', 'company takes', 'company tell', 'compare violet', 'compass ur', 'compensation accident', 'competition draw', 'competition text', 'competition who', 'complain num', 'complaint its', 'complaint three', 'complementary tenerife', 'complete calm', 'complete course', 'complete drug', 'complete gist', 'complete how', 'complete landmark', 'completed course', 'completed degree', 'completely broke', 'completely diff', 'completely forgot', 'completely formclark', 'completely free', 'completely gone', 'completely stop', 'completes medical', 'complexities great', 'complimentary 4lux', 'complimentary ibiza', 'complimentary lux', 'complimentary spanish', 'complimentary star', 'complimentary tenerife', 'complimentary trip', 'compliments was', 'compofstuff aphex', 'comprehensive mail', 'compromised everything', 'computational science', 'computer aiyah', 'computer filling', 'computer fried', 'computer isnt', 'computer picked', 'computer randomly', 'computer selected', 'computer shipped', 'computer shut', 'computerless time', 'comuk220cm2 9ae', 'conacted dating', 'concentrate educational', 'concentrate ur', 'concentrating final', 'concentration dear', 'concern prior', 'concert november', 'concert tmw', 'conclusion contents', 'condition doubles', 'conditionand hw', 'conditions apply', 'conditions please', 'conditions visit', 'conducts exam', 'conected gud', 'conference da', 'confidence all', 'confidence derek', 'confidence means', 'configure da', 'confirm asap', 'confirm beware', 'confirm eating', 'confirm is', 'confirm ive', 'confirm lodging', 'confirm lor', 'confirm replying', 'confirm time', 'confirm wif', 'confirmd nokia', 'confirmed staying', 'confirmed tot', 'confused anyway', 'confused please', 'confuses things', 'congrats 2u2', 'congrats dear', 'congrats kanowhr', 'congrats mobile', 'congrats nokia', 'congrats student', 'congrats thats', 'congrats treat', 'congrats year', 'congratulations claim', 'congratulations ore', 'congratulations thanks', 'congratulations ur', 'congratulations weeks', 'congratulations youve', 'connect call', 'connect live', 'connection bw', 'connection slow', 'connection sucks', 'connection think', 'connection today', 'connections maybe', 'connections mode', 'cons brief', 'consensus next', 'consent forms', 'conserve energy', 'consider excused', 'consider walls', 'considering computer', 'considering mah', 'considering much', 'consistently intelligent', 'console press', 'constant smile', 'constant thought', 'constantly go', 'constantly isnt', 'constantly want', 'contact 1450', 'contact 400', 'contact 750', 'contact admin', 'contact attempt', 'contact call', 'contact cant', 'contact indyarockscom', 'contact ive', 'contact joke', 'contact last', 'contact list', 'contact number', 'contact offer', 'contact reply', 'contact report', 'contact response', 'contact someone', 'contact to', 'contact todays', 'contact txt', 'contact ufind', 'contact us', 'contact uu', 'contact via', 'contact you', 'contact your', 'contacted dating', 'contacts hereremember', 'contacts see', 'contains cancer', 'content already', 'content enjoy', 'content games', 'content if', 'content order', 'content prey', 'content service', 'content stop', 'content text', 'content top', 'content wwwclubmobycom', 'content your', 'contented sigh', 'contention will', 'contents page', 'contents pg', 'continue brisk', 'continue talk', 'continued support', 'contract call', 'contract luv', 'contract mobile', 'contract ran', 'contract weeks', 'contribute way', 'control massive', 'control number', 'conversations usget', 'converted live', 'converter free', 'convey birthday', 'convey regards', 'conveying reason', 'convince tht', 'convinced thati', 'convinced timeyour', 'convincingjust tel', 'cook whole', 'cooked rather', 'cookies jelly', 'cookies took', 'cooking 5gardener', 'cooking dinner', 'cool breeze', 'cool chikku', 'cool college', 'cool cool', 'cool do', 'cool gentleman', 'cool hell', 'cool how', 'cool iknow', 'cool ill', 'cool its', 'cool last', 'cool let', 'cool life', 'cool liked', 'cool ltgt', 'cool mean', 'cool nytho', 'cool pick', 'cool please', 'cool princess', 'cool see', 'cool shall', 'cool so', 'cool sometimes', 'cool ta', 'cool text', 'cool thanx', 'cool time', 'cool tyler', 'cool want', 'cool wanted', 'cool we', 'cool where', 'coolmob tones', 'cooped bed', 'cooperative wife', 'copied jus', 'coping individualtime', 'coping long', 'cops nothing', 'copy cos', 'copy da', 'copy friends', 'copy important', 'copy regarding', 'corect speling', 'cornwall hope', 'cornwall txt', 'corporation st', 'corrct dane', 'correct ans', 'correct good', 'correct incorrect', 'correct name', 'correct phone', 'correct so', 'correctionor let', 'corrupt politicians', 'corvettes lately', 'cos accident', 'cos asthma', 'cos ba', 'cos bishan', 'cos buses', 'cos buy', 'cos comes', 'cos da', 'cos daddy', 'cos darren', 'cos dont', 'cos dun', 'cos eye', 'cos fees', 'cos fr', 'cos full', 'cos go', 'cos got', 'cos havent', 'cos house', 'cos ill', 'cos im', 'cos ive', 'cos iwana', 'cos juz', 'cos lar', 'cos late', 'cos later', 'cos laying', 'cos lect', 'cos like', 'cos mayb', 'cos meeting', 'cos might', 'cos money', 'cos mys', 'cos need', 'cos never', 'cos noe', 'cos one', 'cos pay', 'cos really', 'cos said', 'cos sale', 'cos saw', 'cos shakara', 'cos shopping', 'cos sis', 'cos sms', 'cos st', 'cos telling', 'cos thats', 'cos theres', 'cos told', 'cos wait', 'cos want', 'cos would', 'cos yetunde', 'cosign option', 'cost 10p', 'cost 10ppm', 'cost 150', 'cost 150p', 'cost 150pday', 'cost 150pm', 'cost 150ppm', 'cost 375max', 'cost 50p', 'cost also', 'cost approx', 'cost do', 'cost gbp450week', 'cost hire', 'cost ltgt', 'cost reply', 'cost thats', 'cost which', 'costa del', 'costing 300p', 'costing pound', 'costs 150p', 'costs 20', 'costs 20pmin', 'costs risks', 'costume im', 'costumes its', 'couch link', 'cough today', 'coughing nothing', 'could able', 'could always', 'could ask', 'could be', 'could better', 'could big', 'could borrow', 'could buy', 'could call', 'could click', 'could crash', 'could decide', 'could delivered', 'could die', 'could dust', 'could get', 'could go', 'could good', 'could handle', 'could head', 'could keep', 'could kiss', 'could lot', 'could male', 'could maybe', 'could meet', 'could pick', 'could read', 'could ring', 'could seen', 'could send', 'could set', 'could show', 'could sleep', 'could snow', 'could starve', 'could stop', 'could swing', 'could tell', 'could text', 'could the', 'could trade', 'could understood', 'could use', 'could win', 'could work', 'coulda real', 'couldnt come', 'couldnt make', 'couldnt normal', 'couldnt say', 'couldnt sleep', 'count decimal', 'count your', 'countin aburo', 'countinlots of', 'country algarve', 'country good', 'country liverpool', 'country says', 'counts celebration', 'coupla wks', 'couple bucks', 'couple days', 'couple different', 'couple gays', 'couple hours', 'couple minutes', 'couple pics', 'couple times', 'couple weeks', 'courage earth', 'courageous ltgt', 'course 2yrs', 'course bugis', 'course coimbatore', 'course dont', 'course expect', 'course guess', 'course make', 'course may', 'course nice', 'course nothing', 'course only', 'court at', 'courtroom ltgt', 'cousin said', 'cover charge', 'cover chuck', 'cover face', 'cover pg', 'cover story', 'coveragd area', 'covers energy', 'covers face', 'coz angry', 'coz avent', 'coz end', 'coz know', 'coz man', 'coz need', 'coz never', 'coz reserved', 'coz sent', 'coz somtimes', 'coz thought', 'coz truth', 'coz wants', 'cozsomtimes little', 'cozy and', 'cps causing', 'cr da', 'cr01327bt fixedline', 'cr9 5wb', 'crab asked', 'crab crab', 'crab running', 'crack jokes', 'craigslist selling', 'crammed full', 'cramps first', 'cramps like', 'cramps stopped', 'crap nite', 'crap weekends', 'crash night', 'crashed cuddled', 'crashing place', 'crave but', 'crave cant', 'crave do', 'crave geeee', 'crave miss', 'crave need', 'crave see', 'crave yet', 'craving ice', 'craziest shit', 'craziest things', 'crazy ar', 'crazy available', 'crazy dunno', 'crazy everyboy', 'crazy frog', 'crazy frogaxel', 'crazy keep', 'crazy questions', 'crazy ringtone', 'crazy sounds', 'crazy stuff', 'crazy terrible', 'crazy world', 'crazy zebra', 'crazyin sleepingwith', 'cream go', 'cream oso', 'cream shipped', 'created gap', 'created much', 'created web', 'creative neva', 'creativity stifled', 'cred day', 'credit account', 'credit call', 'credit card', 'credit click', 'credit details', 'credit im', 'credit kick', 'credit no', 'credit please', 'credit tenants', 'credit to', 'credited 500', 'credited beneficiary', 'credited ltgt', 'credits go', 'credits new', 'credits pls', 'credits redeemable', 'credits topped', 'creep people', 'creepy crazy', 'creepy like', 'cresubi tech', 'cricket ground', 'cricketer sachin', 'crickiting mind', 'cried enough', 'crisis home', 'crisisspk l8r', 'cro1327 18', 'crore indian', 'crore jobs', 'cross cut', 'cross ntwk', 'crossing street', 'crowd try', 'croydon cr9', 'crucial things', 'crucify you', 'cruise 2000', 'cruise thing', 'cruisin girl', 'cry but', 'cry herwill', 'cry its', 'cry sorry', 'crying baby', 'cs 08717898035', 'cs apply', 'cs box177', 'cs sae', 'cs savamob', 'cs text', 'cs visit', 'csh11 send', 'cst std', 'ctagg ie', 'ctargg ctagg', 'cthen thk', 'ctla cochin', 'cttargg ctargg', 'ctter cttergg', 'cttergg cttargg', 'cu satthen', 'cud come', 'cud im', 'cud pick', 'cud tell', 'cuddle take', 'cuddle want', 'cuddle would', 'cuddled sofa', 'cuddling love', 'cuddling only', 'cudnt pick', 'culdnt talkbut', 'cultures module', 'cum 2moro', 'cum 2morow', 'cum 2nite', 'cum accounts', 'cum collegexx', 'cum on', 'cum oso', 'cum text', 'cum times', 'cum wan', 'cumin pls', 'cumming thank', 'cup coffee', 'cup final', 'cup held', 'cup milk', 'cup stop', 'cup tea', 'cupboard come', 'curfew gonna', 'curious cuz', 'curious sugar', 'current food', 'current leading', 'current one', 'current situation', 'current tmobile', 'currently 500', 'currently message', 'currently scotland', 'currently shopping', 'currently tour', 'curry end', 'cust care', 'cust servs', 'custcare 08712405020', 'custcare 08712405022', 'custcare 08715705022', 'custom checkboxes', 'custom officer', 'customer call', 'customer care', 'customer claims', 'customer computer', 'customer hvae', 'customer loyalty', 'customer machan', 'customer may', 'customer place', 'customer pleased', 'customer selected', 'customer service', 'customer services', 'customer tc', 'customer voice', 'customercare 08718726270', 'customers receive', 'cut hair', 'cut look', 'cut nails', 'cut or', 'cut road', 'cut short', 'cut ur', 'cut yet', 'cute 69911', 'cute answer', 'cute be', 'cute luvd', 'cute reltnship', 'cute thought', 'cutefrnd lifpartnr', 'cutest girl', 'cutie how', 'cutter ctter', 'cutting hair', 'cutting quite', 'cuz asked', 'cuz get', 'cuz got', 'cuz gpu', 'cuz ibored', 'cuz ill', 'cuz signin', 'cw25wx 150', 'cw25wx 150ppm', 'cyclists around', 'cysts bc', 'da aft', 'da afternoon', 'da already', 'da any', 'da at', 'da birthdate', 'da book', 'da browser', 'da bus', 'da call', 'da cam', 'da can', 'da canteen', 'da car', 'da contents', 'da decision', 'da domain', 'da feel', 'da feeling', 'da fone', 'da ge', 'da glass', 'da gone', 'da good', 'da gossip', 'da goto', 'da guys', 'da hair', 'da happy', 'da help', 'da intro', 'da know', 'da lab', 'da laptop', 'da latest', 'da lecturer', 'da lib', 'da listed', 'da lt', 'da middle', 'da mo', 'da model', 'da morn', 'da next', 'da num', 'da on', 'da one', 'da photos', 'da please', 'da pls', 'da present', 'da previous', 'da project', 'da pub', 'da realy', 'da report', 'da rest', 'da return', 'da right', 'da row', 'da run', 'da settings', 'da sofa', 'da started', 'da stock', 'da talks', 'da thangam', 'da thangamits', 'da topic', 'da truth', 'da url', 'da vijay', 'da waiting', 'da wat', 'da what', 'da when', 'da works', 'da wrld', 'da you', 'daal ltgt', 'daalways sending', 'dabbles jazz', 'dabooks did', 'dad 1405', 'dad alone', 'dad and', 'dad ask', 'dad back', 'dad buy', 'dad called', 'dad cancer', 'dad fetching', 'dad get', 'dad gonna', 'dad he', 'dad home', 'dad map', 'dad oredi', 'dad pick', 'dad said', 'dad says', 'dad wake', 'dad wanted', 'dad wants', 'dad went', 'daddy arranging', 'daddy bb', 'daddy come', 'daddy make', 'daddy shu', 'daddy take', 'daddy wants', 'dads car', 'dads fone', 'dagood replacement', 'dahe stupid', 'dahow many', 'dahow todays', 'dai da', 'dai downloaded', 'dai ltgt', 'dai thought', 'dai wanna', 'daily text', 'daily to', 'daily unsubscribe', 'dajst nw', 'damn christmas', 'damn iam', 'damn job', 'damn make', 'damn poor', 'damn working', 'dan reminded', 'danalla timing', 'dancce drum', 'dance floor', 'dance river', 'dancin eatin', 'dancing frnt', 'dancing moseley', 'dang didnt', 'danger dont', 'dao ok', 'dare ask', 'dare change', 'dare sell', 'dare stupid', 'dark become', 'dark he', 'dark liao', 'darker lor', 'darkest fantasies', 'darkness shining', 'darlin cantdo', 'darlin finish', 'darlin give', 'darlin hope', 'darlin how', 'darlin im', 'darlin its', 'darlin ive', 'darlin pick', 'darlin supose', 'darlin youphone', 'darling anjie', 'darling sexy', 'darling sister', 'darling today', 'darling weeks', 'darlings far', 'darlings hope', 'darlinim cool', 'darren ask', 'darren go', 'darren going', 'darren jus', 'darren lor', 'darren mayb', 'darren say', 'darren saying', 'darren wif', 'darren willing', 'dartboard good', 'das cool', 'dasara happy', 'dat almost', 'dat avoids', 'dat check', 'dat day', 'dat dun', 'dat feel', 'dat feelin', 'dat gals', 'dat girl', 'dat go', 'dat going', 'dat ill', 'dat im', 'dat ive', 'dat keep', 'dat like', 'dat lor', 'dat means', 'dat meeting', 'dat one', 'dat or', 'dat person', 'dat plane', 'dat route', 'dat sells', 'dat slowly', 'dat small', 'dat sum1', 'dat sweet', 'dat time', 'dat uve', 'data analysis', 'date 08717507711', 'date 4u', 'date 82242', 'date are', 'date birth', 'date brothas', 'date even', 'date join', 'date latest', 'date next', 'date on', 'date phone', 'date start', 'date today', 'datebox1282essexcm61xn 150pmin', 'dates area', 'dates guy', 'dates send', 'dating service', 'dating try', 'datingi two', 'datoday also', 'datoday wont', 'dats bored', 'dats straight', 'dats wat', 'datz confidence', 'dave day', 'dave final', 'dawhats plan', 'dawns day', 'day 10am', 'day abiola', 'day advance', 'day amp', 'day and', 'day any', 'day anything', 'day are', 'day asked', 'day babe', 'day bblue', 'day big', 'day bslvyl', 'day cable', 'day class', 'day coming', 'day comingtmorow', 'day crab', 'day cred', 'day da', 'day dear', 'day did', 'day do', 'day dudette', 'day each', 'day else', 'day end', 'day everything', 'day find', 'day finish', 'day forget', 'day free', 'day fri', 'day fuck', 'day full', 'day gives', 'day goes', 'day going', 'day good', 'day got', 'day had', 'day happy', 'day have', 'day hope', 'day hoping', 'day how', 'day hun', 'day if', 'day im', 'day impressively', 'day know', 'day last', 'day leave', 'day life', 'day listen', 'day little', 'day lmao', 'day love', 'day lturlgt', 'day mei', 'day mine', 'day miracle', 'day moji', 'day mojibiola', 'day morning', 'day no', 'day ok', 'day one', 'day or', 'day otherwise', 'day ovulatewhen', 'day party', 'day perfect', 'day pic', 'day plus', 'day ready', 'day realize', 'day return', 'day saturday', 'day say', 'day send', 'day shitstorm', 'day so', 'day sorted', 'day special', 'day spend', 'day sure', 'day sweet', 'day things', 'day this', 'day those', 'day to', 'day today', 'day tomorrow', 'day training', 'day two', 'day txt', 'day ur', 'day us', 'day use', 'day wanted', 'day wen', 'day what', 'day which', 'day wish', 'day word', 'day working', 'day wudnt', 'day yesterday', 'day you', 'day2 find', 'day2find log', 'dayexcept saturday', 'dayhas valuemorning', 'days 250', 'days ago', 'days agocusoon', 'days billion', 'days celebrate', 'days completely', 'days den', 'days didnt', 'days euro2004', 'days give', 'days kick', 'days leh', 'days lives', 'days lt3', 'days satanic', 'days send', 'days since', 'days so', 'days stop2', 'days tues', 'days waiting', 'days week', 'dayshe great', 'daysso prepared', 'dayswill mail', 'daytime fun', 'dayu accept', 'daywith thoughts', 'de arab', 'de are', 'de arguments', 'de asking', 'de but', 'de dont', 'de gossx', 'de happiness', 'de no', 'de only', 'de pain', 'de pls', 'de start', 'de they', 'de webadres', 'de went', 'de you', 'dead da', 'dead goodmorning', 'dead hee', 'dead hey', 'dead slow', 'dead so', 'dead tell', 'dead yet', 'deadwell jez', 'deal gate', 'deal im', 'deal regular', 'deal somewhere', 'deal stuff', 'deal take', 'deal you', 'dealer carlos', 'dealers getting', 'dealfarm tour', 'deals also', 'deam seeing', 'dear 0776xxxxxxx', 'dear also', 'dear amp', 'dear angry', 'dear are', 'dear brother', 'dear call', 'dear chechi', 'dear cherish', 'dear dave', 'dear dear', 'dear denying', 'dear did', 'dear food', 'dear free', 'dear friends', 'dear going', 'dear good', 'dear got', 'dear gud', 'dear happen', 'dear happy', 'dear hav', 'dear have', 'dear helen', 'dear heroi', 'dear know', 'dear look', 'dear matthew', 'dear mood', 'dear nice', 'dear not', 'dear reach', 'dear reache', 'dear reached', 'dear rechargerakhesh', 'dear relieved', 'dear saw', 'dear she', 'dear shijutta', 'dear sirsalam', 'dear sleeping', 'dear sleepwellamptake', 'dear still', 'dear subscriber', 'dear sweet', 'dear take', 'dear tell', 'dear umma', 'dear uve', 'dear voucher', 'dear we', 'dear welcome', 'dear what', 'dear why', 'dear you', 'dear1 best1', 'dearer de', 'deari pray', 'deari sat', 'dearloving frnds', 'dearly missed', 'dearme cherthalain', 'dearregret cudnt', 'dearshall mail', 'dearslp welltake', 'deartake care', 'deary smiling', 'death day', 'death im', 'death keep', 'debating whether', 'dec ltgt', 'decades beer', 'december 2005', 'december had', 'decide easter', 'decide eat', 'decide faster', 'decide lor', 'decide love', 'decide whats', 'decide wot', 'decided 4years', 'decided anything', 'decided aproach', 'decided come', 'decided give', 'decided go', 'decided head', 'decided hungry', 'decided keep', 'decided people', 'decided perfect', 'decided send', 'decided whether', 'decided wont', 'decided yet', 'deciding get', 'deciding whether', 'decimal places', 'decimal points', 'decision feeling', 'decision mah', 'decisions coping', 'decisions make', 'deck club', 'decking so', 'dedicate send', 'dedicated day', 'deduct lesson', 'deep affection', 'deep contented', 'deep inside', 'deep sigh', 'deep thats', 'deep well', 'deepak 5min', 'deepest darkest', 'deer show', 'deeraj deepak', 'def night', 'def ready', 'def up4', 'def wont', 'defeat without', 'defer admission', 'definite move', 'definite nos', 'definitely buying', 'definitely coming', 'definitely need', 'definitely paying', 'definitely people', 'definitely special', 'definitly undrstnd', 'defo try', 'degree there', 'dehydration giving', 'del bak', 'del sat', 'del sol', 'del thurs', 'delay yes', 'delayed rent', 'delete right', 'delete tag', 'deleted contact', 'deleted message', 'deleted msg', 'deleted old', 'delhi chennai', 'delhi lane', 'delicious treat', 'deliver 24th', 'deliver all', 'deliver basic', 'deliver end', 'delivered door', 'delivered sufficient', 'delivered tomorrow', 'deliveredtomorrow with', 'delivery brought', 'delivery he', 'delivery tomorrow', 'delivery unable', 'delivery waiting', 'delivery wed', 'delivery within', 'deltomorrow call', 'deluxe format', 'dem coz', 'demand blood', 'demand iti', 'den confirm', 'den dun', 'den enjoy', 'den go', 'den got', 'den hop', 'den hug', 'den juz', 'den manage', 'den meet', 'den might', 'den msg', 'den muz', 'den nd', 'den plus', 'den prefer', 'den rush', 'den sat', 'den shld', 'den take', 'den wat', 'den weekdays', 'dena calls', 'denis mina', 'denis want', 'dent im', 'dental school', 'dentists hour', 'denying words', 'department except', 'department tell', 'dependable ltgt', 'depends going', 'depends how', 'depends individual', 'depends phone', 'depends quality', 'depends wan', 'depends whether', 'deposit 16', 'deposited swiss', 'depressed didnt', 'depressed sittin', 'depression heart', 'dept expires', 'der ltgt', 'derek amp', 'derek done', 'derek taylor', 'derek taylors', 'dereks house', 'derp which', 'describe lucky', 'description nuclear', 'desert geoenvironmental', 'desert something', 'deserve sleep', 'designation software', 'desires affectionsamp', 'desires going', 'desk ill', 'desparate learned', 'desparate recorded', 'desperate company', 'desperate ill', 'despite cramps', 'despite fact', 'dessert wan', 'destination soon', 'destiny keep', 'detail want', 'detailed message', 'details 18', 'details anything', 'details contact', 'details cos', 'details fri', 'details great', 'details later', 'details log', 'details mail', 'details money', 'details online', 'details part', 'details prompts', 'details savamob', 'details text', 'details wee', 'detailsi ask', 'determine smokes', 'determined ltgt', 'detroit red', 'detroit the', 'deus ex', 'develop ability', 'develop da', 'developed ovarian', 'developer may', 'device boy', 'devils detroit', 'devouring kiss', 'dey best', 'dey hurried', 'dey laugh', 'dey swell', 'deyhope ur', 'deyi paid', 'dha marrgeremembr', 'dhina vaazhthukkal', 'dhoni luck', 'dhorte lage', 'di yijue', 'dial 08712300220', 'dial juz', 'dialling 402', 'dialogue cute', 'diamond stuffleaving', 'diamonds moraldont', 'diamonds though', 'diapers cause', 'dice art', 'dick in', 'dick keep', 'dictionary mode', 'dictionary pieces', 'did anything', 'did buzz', 'did call', 'did catch', 'did download', 'did either', 'did enjoy', 'did ever', 'did feel', 'did find', 'did fix', 'did forget', 'did get', 'did go', 'did good', 'did got', 'did hear', 'did hrs', 'did leave', 'did lookin', 'did make', 'did miss', 'did multimedia', 'did receive', 'did run', 'did say', 'did see', 'did show', 'did sleep', 'did smile', 'did specify', 'did start', 'did stitch', 'did take', 'did talk', 'did try', 'did turn', 'did urgran', 'diddy neighbor', 'didn txt', 'didnt accept', 'didnt babe', 'didnt call', 'didnt check', 'didnt complete', 'didnt dont', 'didnt eat', 'didnt end', 'didnt even', 'didnt fall', 'didnt find', 'didnt get', 'didnt go', 'didnt hav', 'didnt hear', 'didnt holla', 'didnt include', 'didnt know', 'didnt let', 'didnt listen', 'didnt mean', 'didnt mind', 'didnt move', 'didnt phone', 'didnt pick', 'didnt piss', 'didnt read', 'didnt remember', 'didnt reply', 'didnt say', 'didnt search', 'didnt see', 'didnt set', 'didnt shut', 'didnt sleep', 'didnt speak', 'didnt spring', 'didnt starring', 'didnt tell', 'didnt think', 'didnt told', 'didnt try', 'didnt visit', 'didnt wake', 'didnt watch', 'didnt wish', 'didnt work', 'didnt write', 'didntgive ya', 'didt msg', 'didt play', 'didt reach', 'didt recognise', 'didt see', 'die accidentally', 'die dont', 'die hee', 'die loneliness', 'die now', 'die plz', 'die stay', 'die told', 'die want', 'died come', 'died didnt', 'died ltgt', 'died start', 'died yeah', 'diet and', 'diet everyday', 'diet flew', 'dieting week', 'diff farm', 'diff guess', 'diff word', 'differ charges', 'differbe sure', 'difference ltgt', 'difference smile', 'different did', 'different dont', 'different feelingwavering', 'different nos', 'different people', 'different styles', 'different weekends', 'different wonder', 'difficult bat', 'difficult decide', 'difficult gud', 'difficult guys', 'difficult make', 'difficult simple', 'difficult time', 'difficult type', 'difficulties correction', 'difficulties phone', 'dificult lose', 'digi cam', 'digital camera', 'digits selected', 'dignity respect', 'dileepthank muchand', 'dime expect', 'dime gives', 'din buy', 'din found', 'din get', 'din lock', 'din stripes', 'din tell', 'din ur', 'din yup', 'dine lady', 'dinero left', 'ding tai', 'ding ya', 'dining experiencehttpwwwvouch4mecometlpdiningasp', 'dinner already', 'dinner cos', 'dinner cousin', 'dinner date', 'dinner den', 'dinner do', 'dinner going', 'dinner help', 'dinner ill', 'dinner leh', 'dinner lor', 'dinner nite', 'dinner nìte', 'dinner outside', 'dinner rite', 'dinner soon', 'dinner together', 'dinner tonight', 'dinner tonite', 'dinner us', 'dinner yet', 'dino prem', 'dint come', 'dint meet', 'dint slept', 'dint tell', 'dint touch', 'dint try', 'dippeditinadew lovingly', 'dips cell', 'direct 2u', 'direct access', 'direct link', 'direct mobile', 'direct pay', 'direct ur', 'directly behind', 'directly calicut', 'directly go', 'directly goto', 'directly internet', 'directly so', 'director like', 'directors he', 'dirt floor', 'dirtiest girls', 'dirty anal', 'dirty fellow', 'dirty live', 'dirty room', 'dis 87121', 'dis aft', 'dis amt', 'dis answer', 'dis chain', 'dis eve', 'dis fight', 'dis lose', 'dis ltgt', 'dis msg', 'dis name', 'dis num', 'dis pierre', 'dis sem', 'dis sweater', 'dis ur', 'dis wil', 'dis world', 'dis would', 'dis yijue', 'disagreeable lol', 'disappeared happened', 'disappointment texted', 'disaster support', 'disasters happens', 'disastrous class', 'disc could', 'disclose urn', 'disconnect callcoz', 'discount can', 'discount code', 'discount credit', 'discount oh', 'discount vouchers', 'discount voucherstext', 'discreet action', 'discreet text', 'discuss abt', 'discuss housing', 'discuss later', 'discuss liao', 'discussed mother', 'discussed yest', 'diseases snd', 'diskyou use', 'dislikes bed', 'dismay many', 'dismissial 2nd', 'display internal', 'display okay', 'display texts', 'distance wat', 'distract also', 'distract isaiahd', 'disturb anymore', 'disturb goodnoon', 'disturb liao', 'disturb one', 'disturb talk', 'disturbancemight receive', 'disturbing da', 'ditto and', 'divert via', 'division courtroom', 'division push', 'divorce barbie', 'divorce lol', 'diwali happy', 'diwali one', 'dizzamn aight', 'dizzee racal', 'dl 3d', 'dled 3d', 'dlf premaricakindly', 'dload polyh', 'dload polyph', 'dnt forget', 'dnt lik', 'dnt live', 'dnt take', 'dnt wnt', 'dnt worry', 'dnt worryuse', 'do always', 'do beautiful', 'do best', 'do breathe', 'do crave', 'do disconnect', 'do dislikes', 'do drink', 'do enjoy', 'do ever', 'do fancy', 'do fantastic', 'do feel', 'do get', 'do good', 'do gr8', 'do great', 'do hav', 'do hide', 'do if', 'do keep', 'do know', 'do knw', 'do konw', 'do like', 'do love', 'do make', 'do mind', 'do need', 'do nice', 'do noe', 'do not', 'do pick', 'do please', 'do po', 'do realize', 'do remember', 'do rewarding', 'do scream', 'do social', 'do something', 'do spare', 'do still', 'do take', 'do then', 'do thing', 'do think', 'do thought', 'do wan', 'do want', 'do well', 'do whatever', 'do wish', 'do wonderful', 'do work', 'dob asap', 'dobbys bowl', 'doc gave', 'doc pls', 'doc prescribed', 'doc visit', 'dock boat', 'docks slept', 'docs appointments', 'docs treat', 'docs waiting', 'doctor 1tulsi', 'doctor india', 'doctor liver', 'doctor said', 'doctors reminds', 'documents submitted', 'dodda problum', 'dodgey one', 'does cause', 'does cinema', 'does crave', 'does daddy', 'does happen', 'does make', 'does miss', 'does operate', 'does uncle', 'does usually', 'doesnt ache', 'doesnt add', 'doesnt bother', 'doesnt class', 'doesnt get', 'doesnt go', 'doesnt heart', 'doesnt help', 'doesnt hurt', 'doesnt inlude', 'doesnt know', 'doesnt like', 'doesnt make', 'doesnt mention', 'doesnt need', 'doesnt progress', 'doesnt reply', 'doesnt stalk', 'doesnt stand', 'doesnt start', 'doesnt thought', 'doesnt vomit', 'doesnt want', 'doesnt work', 'dog bathe', 'dog cat', 'dog going', 'dog later', 'dog must', 'dog today', 'dogbreath its', 'doggin locations', 'dogging area', 'dogging club', 'dogging locations', 'dogging network', 'dogging service', 'doggy hook', 'doggy style', 'dogs 69696', 'dogwood drive', 'doin alritehave', 'doin at', 'doin baby', 'doin foundurself', 'doin loads', 'doin shit', 'doin smidgin', 'doin somethin', 'doin tonight', 'doin wot', 'doinat mo', 'doing masters', 'doing nothing', 'doing project', 'doingwhat 2when', 'doinnearly endof', 'dointerested sextextukcom', 'doke im', 'dokey bit', 'dokey swashbuckling', 'dollar loan', 'dollar store', 'dollars 2years', 'dollars got', 'dollars hi', 'dollars shoul', 'dolld vehicle', 'dolls last', 'dom told', 'domain nusstu', 'don dawhats', 'don give', 'don know', 'don knowhe', 'don knowthis', 'don knowwait', 'don like', 'don stand', 'don worry', 'don worryc', 'donate 250', 'donate 864233', 'done 12', 'done all', 'done already', 'done anything', 'done around', 'done become', 'done blimey', 'done blood', 'done class', 'done day', 'done done', 'done england', 'done get', 'done handed', 'done im', 'done internet', 'done just', 'done leave', 'done luv', 'done mean', 'done no', 'done now', 'done oredi', 'done oso', 'done parade', 'done shes', 'done sportsx', 'done stuff42moro', 'done today', 'done wif', 'done yeah', 'done yes', 'done yet', 'done your', 'donewant smoke', 'donno genes', 'donno scorable', 'dont angry', 'dont anybodys', 'dont argue', 'dont ask', 'dont baby', 'dont behave', 'dont belong', 'dont break', 'dont call', 'dont can', 'dont cancer', 'dont care', 'dont carewhoever', 'dont cheat', 'dont come', 'dont consent', 'dont crave', 'dont cum', 'dont dare', 'dont die', 'dont drive', 'dont drop', 'dont eat', 'dont enough', 'dont everything', 'dont feel', 'dont file', 'dont fink', 'dont flatter', 'dont floppy', 'dont force', 'dont forget', 'dont forgot', 'dont fret', 'dont get', 'dont gimme', 'dont giv', 'dont give', 'dont go', 'dont hesitate', 'dont hustle', 'dont ignore', 'dont initiate', 'dont involve', 'dont ive', 'dont keep', 'dont kick', 'dont know', 'dont knw', 'dont let', 'dont like', 'dont listen', 'dont live', 'dont look', 'dont looking', 'dont make', 'dont masters', 'dont matter', 'dont mean', 'dont meet', 'dont message', 'dont mind', 'dont mindi', 'dont mis', 'dont miss', 'dont mistake', 'dont msg', 'dont much', 'dont necessarily', 'dont need', 'dont neglet', 'dont network', 'dont new', 'dont number', 'dont opener', 'dont pack', 'dont panic', 'dont paracetamol', 'dont pick', 'dont plan', 'dont play', 'dont prize', 'dont proove', 'dont publish', 'dont put', 'dont quite', 'dont randomly', 'dont read', 'dont really', 'dont recognise', 'dont regret', 'dont remember', 'dont reply', 'dont respond', 'dont restrict', 'dont run', 'dont rush', 'dont sad', 'dont say', 'dont search', 'dont second', 'dont see', 'dont shall', 'dont show', 'dont sleep', 'dont slippers', 'dont stop', 'dont talk', 'dont tease', 'dont tell', 'dont text', 'dont that', 'dont think', 'dont thnk', 'dont try', 'dont underdtand', 'dont understand', 'dont use', 'dont wait', 'dont walk', 'dont wanna', 'dont want', 'dont waste', 'dont well', 'dont wish', 'dont without', 'dont wonder', 'dont worry', 'dont4get2text number', 'dontcha babygoodbye', 'dontignore mycallsu', 'dontplease dontignore', 'donyt feel', 'dooms have', 'door im', 'door steps', 'door txt', 'doors game', 'doors sometime', 'dorm account', 'dormitory dirty', 'dorothykiefercom bank', 'dose tablet', 'dosomething late', 'dot compare', 'double check', 'double coins', 'double eviction', 'double mins', 'double txt', 'doublemins doubletxt', 'doubles trebles', 'doubletxt orange', 'doubt ask', 'doubt could', 'doug realizes', 'dough pls', 'dough soon', 'down on', 'down soon', 'down town', 'download big', 'download clear', 'download come', 'download flash', 'download format', 'download fring', 'download many', 'download movies', 'download songs', 'download stuff', 'download this', 'download type', 'download ur', 'downloaded content', 'downloaded exe', 'downloads members', 'downloads per', 'downon theacusations', 'downs amp', 'dozens free', 'dps bcm', 'dr appt', 'dracula 8007', 'drama plsi', 'dramastorms details', 'dramatic schools', 'drastic dont', 'draw 100', 'draw 1450', 'draw 250', 'draw 87066', 'draw acc', 'draw call', 'draw custom', 'draw prediction', 'draw series', 'draw shows', 'draw takes', 'draw txt', 'draw vai', 'draw xt', 'drawplease telephone', 'draws we', 'dreading work', 'dream changing', 'dream kids', 'dream love', 'dream partner', 'dream team', 'dream thoso', 'dream whats', 'dream world', 'dreamlove every', 'dreams ahmad', 'dreams amp', 'dreams come', 'dreams miss', 'dreams stars', 'dreamstake care', 'dreamsu meummifyingbye', 'dreamz me', 'dress panties', 'dress shop', 'dress want', 'dressed cos', 'dressed white', 'dresser already', 'dresser fr', 'dresser say', 'drink appeal', 'drink appy', 'drink bit', 'drink but', 'drink coffee', 'drink cup', 'drink milk', 'drink plenty', 'drink so', 'drink somethin', 'drink something', 'drink sometime', 'drink takes', 'drink tap', 'drink tea', 'drink water', 'drink wld', 'drinkin dancin', 'drinkin im', 'drinking appreciate', 'drinking boost', 'drinkpa need', 'drinks good', 'drinks nite', 'drinks something', 'drinks us', 'drive back', 'drive brother', 'drive coherently', 'drive come', 'drive em', 'drive go', 'drive inch', 'drive lor', 'drive mac', 'drive madoke', 'drive read', 'drive right', 'drive south', 'drive thats', 'drive time', 'driver aaniye', 'driver big', 'drivin den', 'drivin neva', 'drivin wat', 'driving ah', 'driving anyone', 'driving centre', 'driving clas', 'driving even', 'driving faster', 'driving fri', 'driving lesson', 'driving lessons', 'driving lor', 'driving raining', 'driving reach', 'driving stay', 'driving sure', 'driving test', 'driving tmr', 'driving today', 'driving training', 'driving usf', 'driving worried', 'drizzling least', 'drms shesil', 'drmstake care', 'drop buy', 'drop cards', 'drop carso', 'drop door', 'drop if', 'drop is', 'drop later', 'drop place', 'drop ready', 'drop since', 'drop stuff', 'drop tank', 'drop tear', 'drop text', 'drop ur', 'dropped cell', 'dropped em', 'dropped keys', 'drops though', 'drove shell', 'drpd deeraj', 'drug able', 'drug abusers', 'drug anymore', 'drug dealers', 'drug have', 'drugs answer', 'drugs dont', 'drugs ltgt', 'drugs without', 'drum basqihave', 'drunk bak', 'drunk motherfucker', 'drunkard just', 'drunken night', 'drvgsto listen', 'dry last', 'dry shot', 'dry spell', 'dry would', 'dryer something', 'dsnt hav', 'dsnt lik', 'dt time', 'dual sim', 'dub je', 'dubsack another', 'duchess cornwall', 'ducking chinchillas', 'dude always', 'dude avatar', 'dude dont', 'dude fakemy', 'dude files', 'dude friends', 'dude fuck', 'dude go', 'dude got', 'dude guess', 'dude guys', 'dude hw', 'dude im', 'dude ive', 'dude knw', 'dude like', 'dude makin', 'dude need', 'dude saw', 'dude sux', 'dude whats', 'dudes poker', 'dudette missing', 'due dodgey', 'due dont', 'due in', 'due network', 'due several', 'dull easy', 'dumb realize', 'dump heap', 'dun anythin', 'dun believe', 'dun bluff', 'dun buy', 'dun cut', 'dun disturb', 'dun drive', 'dun feel', 'dun go', 'dun haf', 'dun like', 'dun meet', 'dun mind', 'dun need', 'dun rem', 'dun sad', 'dun say', 'dun seen', 'dun tell', 'dun thk', 'dun wan', 'dun wear', 'dun work', 'dungerees came', 'dunno abt', 'dunno ask', 'dunno close', 'dunno cos', 'dunno da', 'dunno dad', 'dunno dats', 'dunno get', 'dunno jus', 'dunno juz', 'dunno leh', 'dunno lei', 'dunno lets', 'dunno network', 'dunno tahan', 'dunno thing', 'dunno type', 'dunno wat', 'dunno whether', 'dunno wot', 'dunno yet', 'duo have', 'durban still', 'durham already', 'dusk game', 'duvet predictive', 'dvd copies', 'dvd double', 'dvd player', 'dvd plyr', 'dvd recorder', 'dvg coldheard', 'dwn gud', 'dying man', 'dysentry able', 'e14 9yt', 'each day', 'each moment', 'eachother if', 'ear go', 'ear training', 'earlier appreciate', 'earlier ill', 'earlier later', 'earlier lor', 'earlier putting', 'earlier stations', 'earlier tot', 'earlier wat', 'earlier week', 'earlier you', 'earlierwe goin', 'early bird', 'early check', 'early cos', 'early feel', 'early hee', 'early hor', 'early hundreds', 'early im', 'early lei', 'early lor', 'early mah', 'early me', 'early morning', 'early mrng', 'early neva', 'early next', 'early nightnight', 'early nite', 'early online', 'early sleep', 'early spring', 'early then', 'early tomorrow', 'early yay', 'earn da', 'earning money', 'ears open', 'earth bear', 'earth but', 'earth finished', 'earth send', 'earthsofa comfey', 'easier ill', 'easiest way', 'easily forgets', 'easily go', 'east coast', 'eastenders tv', 'easter prize', 'easy ahsen', 'easy and', 'easy but', 'easy call', 'easy either', 'easy enough', 'easy give', 'easy guys', 'easy hope', 'easy ingredients', 'easy just', 'easy mate', 'easy money', 'easy pay', 'easy pie', 'easy questions', 'easy uncle', 'eat 1st', 'eat already', 'eat anything', 'eat bathe', 'eat better', 'eat cheap', 'eat dad', 'eat day', 'eat earlier', 'eat fo', 'eat forgot', 'eat im', 'eat jap', 'eat left', 'eat liao', 'eat lunch', 'eat macs', 'eat maggi', 'eat night', 'eat old', 'eat sch', 'eat shit', 'eat slice', 'eat smth', 'eat sweets', 'eat text', 'eat these', 'eat thk', 'eat today', 'eat tonight', 'eat wait', 'eat wat', 'eat western', 'eaten day', 'eaten lion', 'eaten wat', 'eatin cinema', 'eatin later', 'eatin lor', 'eatin lunch', 'eatin much', 'eatin wif', 'eating anythin', 'eating esplanade', 'eating got', 'eating moms', 'eating nachos', 'eating squid', 'ebay might', 'ebay something', 'ec2a 31pmsg150p', 'ec2a 3lp', 'echo ringtone', 'eckankar details', 'ecstacy just', 'edge you', 'edhae lyf', 'edison rightly', 'edition im', 'edrunk sorry', 'education nigeria', 'educational career', 'edukkukayee raksha', 'edward rd', 'edwards anderson', 'ee msg', 'ee name', 'eek thats', 'eek we', 'eerie nokia', 'eerie tone', 'eerulli kodthini', 'effect geelater', 'effect irritation', 'effects birth', 'effects he', 'efficient gee', 'efreefone number', 'eg 24m', 'eg england', 'eg girl', 'eg love', 'eg poly', 'eg poly3', 'eg real1', 'eg sam', 'eg tone', 'eg villa', 'eg23f for', 'egg daplease', 'egg did', 'eggpotato ratio', 'eggs jam', 'eggspert potato', 'ego going', 'eh den', 'eh ger', 'eh remember', 'eh send', 'eh sorry', 'eh ur', 'eh will', 'eh wow', 'eh yes', 'eight let', 'eight station', 'eight thats', 'eighth smarter', 'eightish walk', 'eire quiz', 'either 1000', 'either 10k', 'either 500', 'either bahamas', 'either clever', 'either come', 'either eat', 'either ideas', 'either raglan', 'either way', 'either win', 'either yrs', 'el nino', 'ela kanoil', 'ela pa', 'elaborate test', 'elaborating safety', 'elaine todays', 'elama po', 'eldest know', 'election results', 'elections go', 'electricity and', 'electricity went', 'elephant tablets', 'eleven plus', 'elliot kissing', 'ello babe', 'else 4th', 'else but', 'else chip', 'else ill', 'else instead', 'else next', 'else pushes', 'else salad', 'else say', 'else shall', 'else thanks', 'else vomiting', 'else you', 'elsewhere eat', 'elvis presleys', 'em find', 'em home', 'em lessons', 'em nuther', 'em olowoyey', 'em omw', 'em round', 'em someplace', 'em txt', 'em using', 'email account', 'email address', 'email alertfrom', 'email call', 'email do', 'email hes', 'email id', 'email log', 'email never', 'email we', 'emailed yifeng', 'embarassed accomodations', 'embarassed delete', 'embarassed maybe', 'embarassed theres', 'embarrassed ok', 'embassy send', 'emergency see', 'emerging friends', 'emigrated something', 'emily rose', 'emotion dsnt', 'employers paperwork', 'empty handed', 'empty slots', 'empty without', 'en chikku', 'en samachara', 'enamous happy', 'enc ltgt', 'end bid', 'end can', 'end cine', 'end course', 'end day', 'end favourite', 'end hershe', 'end jsco', 'end library', 'end life', 'end love', 'end makiing', 'end march', 'end might', 'end month', 'end night', 'end out', 'end reply', 'end service', 'end sptv', 'end txt', 'end txts', 'end up', 'end week', 'ended another', 'ended long', 'ending 0089my', 'ending 1225', 'ending 4882', 'ending 5226', 'ending 7548', 'ending 7634', 'ending ready', 'ending xxxx', 'endless blessings', 'endof wk', 'endowed ltgt', 'ends 14thmarch', 'ends 26th', 'ends 28thfebtcs', 'ends cine', 'ends lets', 'ends may', 'ends shjas', 'ends swann', 'ends take', 'ends today', 'enemies feel', 'enemy so', 'energy high', 'energy instantly', 'energy text', 'energy thy', 'energy trends', 'eng stop', 'engaged ans', 'engagement fixd', 'engalnd but', 'engin cos', 'england 87077', 'england flag', 'england get', 'england macedonia', 'england poly', 'england tone', 'english blokes', 'english grins', 'english neededsalary', 'english wil', 'enjoy batchlor', 'enjoy community', 'enjoy concert', 'enjoy cuck', 'enjoy dining', 'enjoy doggy', 'enjoy driving', 'enjoy future', 'enjoy home', 'enjoy if', 'enjoy jamster', 'enjoy making', 'enjoy merry', 'enjoy night', 'enjoy one', 'enjoy rest', 'enjoy role', 'enjoy showers', 'enjoy this', 'enjoy tones', 'enjoy ur', 'enjoy urself', 'enjoy watching', 'enjoy wish', 'enjoy wit', 'enjoyed burial', 'enjoyed game', 'enjoyed new', 'enjoyin indians', 'enjoyin yourjob', 'enjoying semester', 'enketa maraikara', 'enna kalaachutaarama', 'ennal prabha', 'enough 2day', 'enough adore', 'enough anything', 'enough break', 'enough bud', 'enough dont', 'enough family', 'enough find', 'enough fluids', 'enough gas', 'enough half', 'enough money', 'enough my', 'enough replace', 'enough room', 'enough stop', 'enough time', 'enough today', 'enough tosend', 'enough trouble', 'enough waiting', 'enter 100', 'enter 84128', 'enter 88877', 'enter draw', 'enter in2', 'enter place', 'enter to', 'enter ur', 'enter urn', 'enter weekly', 'entered cabin', 'entered phone', 'entered receipt', 'enters account', 'entertain hee', 'entertaining getting', 'entey nattil', 'entire month', 'entirely sure', 'entitled 3750', 'entitled 5000', 'entitled update', 'entropication have', 'entry 100', 'entry 121', 'entry 250', 'entry 69888', 'entry gr8prizes', 'entry questionstd', 'entry std', 'entry textpod', 'entry weekly', 'entry wkly', 'enufcredeit tocallshall', 'enuff go', 'enuff space', 'enuff still', 'envelope drinks', 'envelope in', 'envelope paper', 'envy everyone', 'epi shes', 'epsilon like', 'equally uneventful', 'er enjoyin', 'er hello', 'er mw', 'er yeah', 'er yep', 'ericson also', 'ericsson oso', 'ericsson salesman', 'erm ill', 'erm thought', 'erm woodland', 'erotic ecstacy', 'err cud', 'error queries', 'errors difficulties', 'ertini kano', 'erupt tsunamis', 'erutupalam thandiyachu', 'esaplanade tonight', 'escape fancy', 'escape theatre', 'escape wetherspoons', 'ese tihs', 'ese what', 'especially duvet', 'especially end', 'especially first', 'especially girls', 'especially have', 'especially one', 'especially since', 'especially stick', 'espell cared', 'esplanade do', 'esplanade fr', 'esplanade lor', 'essay xx', 'essential life', 'essential part', 'essential thesedays', 'establish rhythm', 'eta taunton', 'etc at', 'etc etc', 'etc free', 'etc ill', 'etc join', 'etc take', 'eternal noble', 'ethnicity next', 'ethreats sib', 'ettans mother', 'euro 2004', 'euro stop', 'euro2004 cup', 'euro2004 kept', 'euro2004 kickoff', 'eurodisinc trav', 'europe give', 'evaluation fri', 'evaporated soon', 'eve 07123456789', 'eve 730', 'eve but', 'eve call', 'eve chennai', 'eve feeling', 'eve go', 'eve online', 'eve tickets', 'eve was', 'eve work', 'eve xxx', 'evei already', 'even 1000', 'even appendix', 'even bad', 'even bone', 'even born', 'even brother', 'even call', 'even cant', 'even colleagues', 'even cook', 'even cookies', 'even dan', 'even dont', 'even drop', 'even eat', 'even felt', 'even fill', 'even flirt', 'even friend', 'even go', 'even god', 'even gotten', 'even great', 'even hisher', 'even isnt', 'even know', 'even later', 'even logged', 'even ltgt', 'even many', 'even messaged', 'even move', 'even reasons', 'even send', 'even shirt', 'even single', 'even spirit', 'even start', 'even stick', 'even supposed', 'even the', 'even things', 'even tho', 'even though', 'even told', 'even uttered', 'even want', 'even wanting', 'even wot', 'evening 150', 'evening bslvyl', 'evening cos', 'evening daurgent', 'evening dont', 'evening felt', 'evening french', 'evening good', 'evening hope', 'evening how', 'evening il', 'evening ill', 'evening im', 'evening miss', 'evening ok', 'evening roger', 'evening sir', 'evening sleep', 'evening ttyl', 'evening wonderful', 'evenings nights', 'event laden', 'events espell', 'eventually build', 'ever angry', 'ever cash', 'ever compromised', 'ever easier', 'ever easy', 'ever figure', 'ever get', 'ever going', 'ever green', 'ever happened', 'ever leafcutter', 'ever long', 'ever met', 'ever misbehaved', 'ever not', 'ever notice', 'ever oblisingately', 'ever ok', 'ever one', 'ever seen', 'ever thought', 'ever told', 'ever took', 'ever vote', 'ever wanted', 'ever way', 'every 9th', 'every best', 'every breath', 'every citizen', 'every darkness', 'every day', 'every dime', 'every drop', 'every five', 'every great', 'every hours', 'every king', 'every ltgt', 'every moment', 'every mondaynxt', 'every morning', 'every night', 'every real', 'every second', 'every secret', 'every sexual', 'every stool', 'every thing', 'every time', 'every two', 'every week', 'every wk', 'every wktxt', 'every1 im', 'everybody find', 'everybody fun', 'everybody happy', 'everybodys done', 'everybodys speed', 'everyboy needs', 'everyday cheat', 'everyday teach', 'everyone 3wife', 'everyone around', 'everyone but', 'everyone cancer', 'everyone driving', 'everyone else', 'everyone gas', 'everyone get', 'everyone lucky', 'everyone project', 'everyone saying', 'everyone sees', 'everyone smoke', 'everyone together', 'everyones calls', 'everyso often', 'everythin on', 'everything alright', 'everything alrite', 'everything believe', 'everything blessing', 'everything but', 'everything closed', 'everything come', 'everything dat', 'everything dont', 'everything else', 'everything fine', 'everything goes', 'everything good', 'everything gud', 'everything love', 'everything missing', 'everything must', 'everything nobody', 'everything should', 'everything stop', 'everything want', 'everything weather', 'everything wen', 'everything would', 'everytime bslvyl', 'everywhere cannot', 'everywhere dirt', 'evey mnth', 'eviction week', 'evil men', 'evn if', 'evn meetitz', 'evng musthu', 'evo download', 'evone hates', 'evrey splleing', 'evry emotion', 'evry1 love', 'evrydy moral', 'ew one', 'ex better', 'ex game', 'ex one', 'ex oso', 'ex rtm', 'ex tata', 'ex wat', 'exact day', 'exact intentions', 'exact prob', 'exact words', 'exactly anyways', 'exactly could', 'exactly mth', 'exam amp', 'exam but', 'exam february', 'exam harder', 'exam later', 'exam march', 'exam next', 'exam week', 'exams in', 'exams outta', 'excellent are', 'excellent ill', 'excellent service', 'excellent spent', 'excellent sub', 'excellent thought', 'excellent wish', 'except gud', 'except kb', 'except oursso', 'except perfume', 'except theres', 'exchanged uncut', 'excited day', 'exciting adult', 'exciting happened', 'exciting karaoke', 'exciting prizes', 'excuse city', 'excuse go', 'excuse lazy', 'excuse lol', 'excuse much', 'excuse run', 'excuse tampa', 'exe file', 'exe installing', 'exe mail', 'executive shifad', 'executive ur', 'exercise yeah', 'exeter bit', 'exeter still', 'exhaust hanging', 'exhaust needs', 'exhausted just', 'exhausted last', 'exhausted train', 'exist like', 'exmpel jsut', 'exorcism emily', 'exorcist twilight', 'exp 30apr', 'expect anything', 'expect done', 'expect welcome', 'expect whenever', 'expected dinner', 'expecting aint', 'expecting battery', 'expecting help', 'expecting mine', 'expecting one', 'expects us', 'expensive have', 'expensive ill', 'expensive much', 'expensive ones', 'expensive unless', 'expensive way', 'experience both', 'experience reply', 'experience theres', 'experience understand', 'expired resub', 'expiredso leave', 'expires 060505', 'expires 061104', 'expires 071104', 'expires 131004', 'expires 13404', 'expires 181104', 'expires 211104', 'expires 241004', 'expires 260305', 'expires 261004', 'expires 261104', 'expires 29100', 'expires 311004', 'expiry reply', 'explain everythin', 'explain later', 'explain things', 'explicit sex', 'explicitly told', 'explosive pick', 'exposed also', 'exposes belly', 'express it', 'express love', 'expression 1childish', 'expression face', 'ext you', 'exterminator ltgt', 'extra cash', 'extra charge', 'extra films', 'extra free', 'extra ill', 'extra time', 'extra warm', 'extra week', 'extreme dirty', 'exwife able', 'ey calm', 'ey what', 'eye really', 'eye ur', 'eyeddont more', 'eyes always', 'eyes empty', 'eyes feel', 'eyes philosophy', 'eyes they', 'eyes vava', 'fa 87121', 'fa cup', 'fab hols', 'fab new', 'faber yest', 'face 5terror', 'face 6cruel', 'face 7romantic', 'face 8lovable', 'face 9decent', 'face astrology', 'face bitch', 'face book', 'face choices', 'face could', 'face hot', 'face innocent', 'face keeps', 'face kisses', 'face look', 'face ltgt', 'face making', 'face purpleu', 'face smiling', 'face test', 'face waste', 'face watches', 'face worst', 'facebook huh', 'facebook messages', 'facebook you', 'facilities details', 'fact although', 'fact asked', 'fact even', 'fact gets', 'fact leave', 'fact need', 'fact nobody', 'fact tee', 'fact types', 'fact youre', 'factory gotta', 'facts mumtaz', 'faded glory', 'faggy demand', 'failed due', 'failed shes', 'failed test', 'fails express', 'failure everything', 'fainting housework', 'fair enough', 'fair you', 'faith makes', 'faithevening brings', 'fake waiting', 'fakemy frnds', 'fakeyes eckankar', 'fal luv', 'fall asleep', 'fall but', 'fall know', 'fall love', 'fallen actin', 'falling love', 'falls brothers', 'falls lucky', 'falls ur', 'fals luv', 'family aft', 'family booking', 'family crazy', 'family going', 'family happiness', 'family lets', 'family many', 'family merry', 'family responding', 'family set', 'family she', 'family struggling', 'family town', 'family wake', 'family wit', 'familymay new', 'famous quote', 'fancied bevieswaz', 'fancies call', 'fancies wanna', 'fancy bridge', 'fancy chat', 'fancy chatim', 'fancy comedy', 'fancy cumin', 'fancy drink', 'fancy flirt', 'fancy meetin', 'fancy rude', 'fancy shag', 'fancy to', 'fancy youto', 'fans get', 'fantasies call', 'fantastic chance', 'fantastic nokia', 'fantastic prizeawaiting', 'fantastic surprise', 'fantastic year', 'fantasy babe', 'fantasy football', 'fantasy show', 'far as', 'far back', 'far didnt', 'far find', 'far gone', 'far hows', 'far is', 'far knew', 'far ptbo', 'far put', 'far spunout', 'far we', 'far week', 'far weiyi', 'farm open', 'farm shop', 'farrell swat', 'farting night', 'fassyole blacko', 'fast approaching', 'fast asleep', 'fast boy', 'fast cos', 'fast dat', 'fast im', 'fast liao', 'fast lose', 'fast ltgt', 'fast lucky', 'fast one', 'fast searching', 'fast xy', 'faster come', 'faster cos', 'faster go', 'faster maniac', 'fastest growing', 'fastpls add', 'fat 1cup', 'fat fingers', 'fat gettin', 'fat head', 'fat thanks', 'fat then', 'fat youre', 'fated shoranur', 'father get', 'father if', 'father john', 'father mandan', 'father power', 'fathima hr', 'fathima leave', 'fault avenge', 'fault dont', 'fault im', 'fault spouse', 'faultal de', 'faultfed himso', 'fav darlings', 'fave dun', 'fave position', 'favor pls', 'favorite oyster', 'favorite sashimi', 'favour pls', 'favour time', 'favourite bless', 'favourite person', 'favourite song', 'fb chat', 'fb couple', 'fb jaykwon', 'fb list', 'fb page', 'fb theres', 'fear fainting', 'fear live', 'feathery bowa', 'features great', 'feb 06', 'feb ltgt', 'feb this', 'febapril audition', 'february april', 'february ill', 'february pls', 'february wish', 'fedex way', 'feel alone', 'feel awkward', 'feel bad', 'feel basically', 'feel better', 'feel bleh', 'feel cage', 'feel does', 'feel feel', 'feel fine', 'feel free', 'feel friend', 'feel guilty', 'feel happy', 'feel ill', 'feel legs', 'feel like', 'feel love', 'feel loved', 'feel meet', 'feel miss', 'feel mr', 'feel nauseous', 'feel need', 'feel next', 'feel probably', 'feel really', 'feel sad', 'feel shake', 'feel shouldnt', 'feel stupid', 'feel that', 'feel the', 'feel upseti', 'feel ur', 'feel used', 'feel violated', 'feel words', 'feel yesterday', 'feel yourself', 'feelin ill', 'feelin pete', 'feeling better', 'feeling dear', 'feeling even', 'feeling great', 'feeling hungry', 'feeling if', 'feeling lazy', 'feeling liked', 'feeling main', 'feeling randy', 'feeling really', 'feeling sameso', 'feeling sick', 'feeling sleepy', 'feeling time', 'feeling today', 'feeling weak', 'feeling well', 'feelingood luv', 'feelingwavering decisions', 'feels heavy', 'feels light', 'feels need', 'feels quiet', 'feels walking', 'fees fixed', 'fees pay', 'fees university', 'feet make', 'feet need', 'feet want', 'feet where', 'fell asleep', 'fell splat', 'fell swoop', 'felt bit', 'felt iwasmarinethat', 'felt like', 'felt shit', 'felt sonot', 'felt soso', 'felt special', 'felt would', 'female howre', 'female know', 'female live', 'feng cant', 'festival happy', 'fetch already', 'fetch later', 'fetch mah', 'fetch us', 'fetch yun', 'fetching home', 'fever dysentry', 'fever fine', 'fever vomitin', 'fffff can', 'ffffffffff alright', 'fgkslpopw fgkslpo', 'fidalfication it', 'field quickly', 'fieldof selfindependence', 'fiendmake smoke', 'fifa world', 'fifteen fucking', 'fifteen min', 'fifteen minutes', 'fifth week', 'fight anyone', 'fight death', 'fight only', 'fight saves', 'fight ur', 'fight wit', 'fighting constantly', 'fighting plus', 'fighting world', 'fightng some1', 'fights it', 'figure going', 'figure im', 'figure much', 'figure tomorrow', 'figure trust', 'figure weed', 'figures got', 'figures well', 'figuring shit', 'file bagi', 'file run', 'file someone', 'files because', 'files complaint', 'files computers', 'files system', 'fill abiola', 'fill dont', 'fill fucking', 'fill gaps', 'filled love', 'filled tuth', 'filling belly', 'filling formsdon', 'fills complete', 'fills gaps', 'film 2day', 'film agreen', 'film ah', 'film computer', 'film different', 'film ill', 'film offers', 'film stuff', 'film yet', 'films ordered', 'films xxx', 'filth 69669', 'filthy films', 'filthy stories', 'filthyguys fancy', 'final 800', 'final attempt', 'final chance', 'final contact', 'final hearing', 'final notice', 'final tkts', 'final try', 'final yr', 'finalise dont', 'finally came', 'finally completed', 'finally fancy', 'finally get', 'finally guessed', 'finally happened', 'finally it', 'finally kerala', 'finally lol', 'finally lunch', 'finally match', 'finally meeting', 'finally ready', 'finance cbe', 'financial problemi', 'find 30th', 'find alternativehope', 'find anything', 'find aunt', 'find behind', 'find buyer', 'find call', 'find cares', 'find check', 'find chinese', 'find cos', 'find could', 'find date', 'find every', 'find excuse', 'find free', 'find give', 'find got', 'find happiness', 'find hella', 'find job', 'find less', 'find log', 'find love', 'find lturlgt', 'find lucky', 'find more', 'find much', 'find number', 'find one', 'find only', 'find out', 'find partner', 'find photos', 'find pobox', 'find school', 'find sent', 'find sitter', 'find someone', 'find something', 'find spot', 'find thats', 'find things', 'find time', 'find todaygood', 'find totally', 'find ur', 'find way', 'find wot', 'find wtc', 'finding job', 'finds happy', 'fine 730', 'fine avalarr', 'fine babe', 'fine babes', 'fine bbdpooja', 'fine busy', 'fine difficulties', 'fine do', 'fine excuse', 'fine give', 'fine good', 'fine got', 'fine gudnite', 'fine happy', 'fine hope', 'fine hows', 'fine ill', 'fine imma', 'fine its', 'fine juz', 'fine love', 'fine might', 'fine miss', 'fine not', 'fine or', 'fine remembered', 'fine send', 'fine sends', 'fine shes', 'fine simply', 'fine started', 'fine thanks', 'fine the', 'fine way', 'fineabsolutly fine', 'fineinshah allahmeet', 'finest ymca', 'finewhen complete', 'fingers dat', 'fingers getting', 'fingers makes', 'fingers press', 'fingers so', 'fingers trains', 'finish 415', 'finish already', 'finish ard', 'finish at', 'finish aunties', 'finish bath', 'finish bathing', 'finish blowing', 'finish buying', 'finish come', 'finish dinner', 'finish drivin', 'finish film', 'finish lect', 'finish liao', 'finish loads', 'finish love', 'finish lunch', 'finish meeting', 'finish mon', 'finish new', 'finish sch', 'finish tomorrow', 'finish ur', 'finish urgent', 'finish watching', 'finish work', 'finish wrki', 'finish yet', 'finished avatar', 'finished class', 'finished college', 'finished eating', 'finished formatting', 'finished last', 'finished long', 'finished lunch', 'finished making', 'finished march', 'finished missing', 'finished painting', 'finished watching', 'finished work', 'finished yeah', 'finishes girl', 'finishes hour', 'finishing doors', 'finishing school', 'finishing soon', 'fink met', 'finns come', 'fire it', 'firefox when', 'fireplace now', 'firesare around', 'firmware update', 'first 87131', 'first aid', 'first among', 'first answer', 'first before', 'first bowl', 'first but', 'first come', 'first conducts', 'first daddy', 'first gained', 'first genus', 'first hows', 'first join', 'first lar', 'first months', 'first name', 'first offense', 'first ok', 'first one', 'first person', 'first person2die', 'first place', 'first punch', 'first right', 'first rply', 'first served', 'first sight', 'first strike', 'first tests', 'first thing', 'first thought', 'first time', 'first two', 'first wishing', 'first woke', 'first you', 'fish curry', 'fish memory', 'fish water', 'fishhead beehoon', 'fishrman woke', 'fit funky', 'fit soo', 'fit tell', 'fiting ones', 'five call', 'five minutes', 'five pounds', 'five said', 'fix cause', 'fix ceiling', 'fix ready', 'fix teethif', 'fix tomorrow', 'fixd ltgt', 'fixed better', 'fixed cheaper', 'fixed cuz', 'fixed gpu', 'fixed line', 'fixed send', 'fixed tomo', 'fixedline cost', 'fixes spelling', 'fizz it', 'flag 3lions', 'flag 84199', 'flag yer', 'flaked last', 'flaked right', 'flaked that', 'flaky one', 'flaky parent', 'flame big', 'flame xoxo', 'flash drive', 'flash if', 'flash jealous', 'flat cos', 'flat ltdecimalgt', 'flat plan', 'flat rate', 'flat seems', 'flatter tell', 'flea forums', 'flew window', 'flies room', 'flies tog', 'flight have', 'flight hotel', 'flight tmr', 'flights 79', 'flights europe', 'flights inc', 'flip shit', 'flippin shit', 'flirt click', 'flirt flirt', 'flirt join', 'flirt rather', 'flirt reply', 'flirt sexy', 'flirting got', 'flirting now', 'floating ikea', 'flood pretty', 'floor thats', 'floor windows', 'floppy snappy', 'florida seem', 'flow didnt', 'flower dippeditinadew', 'flower dot', 'flower of', 'flower twittering', 'flowers christmas', 'flowing dream', 'flowing im', 'flung advance', 'flurries usually', 'flute behind', 'flyim joking', 'flying monkeys', 'flyng start', 'fml po', 'fmyou chosen', 'fo lunch', 'fold laundry', 'foley ipod', 'folks waiting', 'follow instructions', 'follow it', 'followed aa', 'followed eg23g', 'followed gender', 'followed ur', 'following dreams', 'following link', 'following recent', 'following service', 'following ur', 'follows subsequent', 'fond souveniers', 'fondly bein', 'fone camcorder', 'fone down', 'fone fone', 'fone im', 'fone love', 'fone no', 'fone on', 'fone shows', 'fone up', 'fone was', 'fone weekly', 'foned already', 'fones reply', 'fonin hon', 'food alone', 'food da', 'food den', 'food do', 'food done', 'food fridge', 'food good', 'food home', 'food how', 'food la', 'food like', 'food pack', 'food place', 'food preferably', 'food really', 'food way', 'fool ask', 'fool dont', 'fool like', 'fooled around', 'fools day', 'foot penis', 'football back', 'football basketball', 'football eve', 'footie worried', 'footprints catch', 'footprints crab', 'footprints waves', 'footy top', 'for callin', 'for chance', 'for cs', 'for details', 'for doin', 'for euro2004', 'for family', 'for fear', 'for free', 'for gay', 'for inclusive', 'for info', 'for information', 'for leave', 'for life', 'for love', 'for many', 'for me', 'for months', 'for nothing', 'for o2', 'for offers', 'for one', 'for our', 'for partnership', 'for poly', 'for real', 'for removal', 'for sale', 'for sparkling', 'for taking', 'for terms', 'for the', 'for ur', 'for visit', 'for you', 'force fall', 'force iraq', 'forced eat', 'foregate street', 'foreign stamps', 'forever beyond', 'forever come', 'forever free', 'forever gud', 'forever ok', 'forever pick', 'forever prescription', 'forevr goodfriend', 'forevr gudnyt', 'forfeit haha', 'forget enjoy', 'forget gn', 'forget know', 'forget or', 'forget owns', 'forget paths', 'forget pix', 'forget place', 'forget smile', 'forget study', 'forget tell', 'forget though', 'forget time', 'forget today', 'forget you', 'forgets heart', 'forgets someone', 'forgive you', 'forgiveness little', 'forgot abt', 'forgot ask', 'forgot check', 'forgot come', 'forgot comei', 'forgot eh', 'forgot even', 'forgot hairdressers', 'forgot happy', 'forgot kids', 'forgot lect', 'forgot liao', 'forgot modl', 'forgot name', 'forgot pop', 'forgot surname', 'forgot take', 'forgot takes', 'forgot tell', 'forgot will', 'forgot working', 'forgotten guy', 'forgotten might', 'forgt previous', 'formal anyway', 'formallypls keep', 'format disc', 'format new', 'formclark also', 'formsdon know', 'forth audition', 'fortune love', 'forum already', 'forum post', 'forums love', 'forums ppl', 'forward da', 'forward finally', 'forward karo', 'forward link', 'forward lots', 'forward pound', 'forward sex', 'forwarded 21870000hi', 'forwarded 448712404000please', 'forwarded 88877free', 'forwarded message', 'forwarded messageits', 'forwarding message', 'found ad', 'found diff', 'found dis', 'found enc', 'found feel', 'found group', 'found murdered', 'found number', 'found one', 'found pick', 'found piece', 'found sack', 'found something', 'found tht', 'found way', 'foundurself jobyet', 'four digits', 'four need', 'four ok', 'fourth dimension', 'foward make', 'fowler im', 'fox following', 'fr 46', 'fr china', 'fr dinner', 'fr home', 'fr lei', 'fr lunch', 'fr mango', 'fr post', 'fr thanx', 'fr thriller', 'fraction cost', 'fran decided', 'fran ps', 'fran still', 'frankgood morning', 'frankie bennys', 'frauds do', 'freak knew', 'freak sheets', 'freak unless', 'freaking shes', 'freaky lol', 'free 0800', 'free 08000407165', 'free 08000839402', 'free 08000938767', 'free 08002986030', 'free 08002986906', 'free 1st', 'free 50p', 'free 8ball', 'free abt', 'free access', 'free accommodation', 'free anonymous', 'free auction', 'free basically', 'free bluetooth', 'free bored', 'free bt', 'free btooth', 'free but', 'free bx420ip45we', 'free call', 'free calling', 'free calls', 'free camcorder', 'free camera', 'free charge', 'free chat', 'free come', 'free credits', 'free day', 'free days', 'free delivery', 'free deltomorrow', 'free digital', 'free double', 'free doublemins', 'free download', 'free eerie', 'free entry', 'free extra', 'free flights', 'free for', 'free game', 'free games', 'free get', 'free give', 'free giving', 'free go', 'free goals', 'free gr8', 'free gym', 'free had', 'free hardcore', 'free hit', 'free ice', 'free if', 'free join', 'free just', 'free katexxx', 'free keep', 'free leh', 'free link', 'free med', 'free membership', 'free message', 'free messages', 'free messagethanks', 'free mini', 'free mins', 'free minstexts', 'free minutes', 'free mobile', 'free motorola', 'free movie', 'free msg', 'free msgs', 'free msgsd', 'free msgwe', 'free music', 'free need', 'free next', 'free nokia', 'free now', 'free nowcan', 'free o2', 'free oranges', 'free oso', 'free phone', 'free please', 'free plus', 'free poly', 'free polyphonic', 'free power', 'free question', 'free recd', 'free receive', 'free reply', 'free requests', 'free right', 'free ring', 'free ringtone', 'free sat', 'free save', 'free selection', 'free sexy', 'free sms', 'free stream', 'free tarot', 'free tell', 'free text', 'free texts', 'free textsweekend', 'free think', 'free time', 'free today', 'free tone', 'free tones', 'free tonight', 'free top', 'free txt', 'free unlimited', 'free via', 'free video', 'free wallpaper', 'free wan', 'free welcome', 'free xnet', 'free yes', 'free2day sexy', 'freedom class', 'freedom vs', 'freeentry 100', 'freefone 08000839402', 'freefone 08006344447', 'freek wont', 'freely taxes', 'freemessage jamsterget', 'freemsg 1month', 'freemsg claim', 'freemsg fancy', 'freemsg hey', 'freemsg hi', 'freemsg our', 'freemsg todays', 'freemsg txt', 'freemsg why', 'freemsg you', 'freemsgfav xmas', 'freemsgfeelin kinda', 'freenokia free', 'freephone 0800', 'freephone 0808', 'freeringtone reply', 'freeringtonereply real', 'freesend subpoly', 'freezing are', 'freezing craving', 'freezing windy', 'freinds forever', 'fren 730', 'fren drove', 'fren dun', 'fren lor', 'french guy', 'frens darren', 'frens go', 'frens if', 'frens lei', 'frens like', 'frens lor', 'frens my', 'frens present', 'frens shop', 'fresh flower', 'freshers voice', 'fret ill', 'fret know', 'fri ah', 'fri alone', 'fri ask', 'fri find', 'fri hey', 'fri leh', 'fri mentionned', 'fri oso', 'fri quite', 'fri said', 'fri sat', 'fri we', 'friday after', 'friday can', 'friday cant', 'friday eggpotato', 'friday leave', 'friday morning', 'friday person', 'friday stuffed', 'friday wait', 'fridayhope find', 'fridays pub', 'fridge want', 'fried essential', 'friend 11', 'friend already', 'friend always', 'friend around', 'friend as', 'friend cancel', 'friend come', 'friend companion', 'friend dog', 'friend feel', 'friend free', 'friend give', 'friend got', 'friend house', 'friend in', 'friend interested', 'friend is', 'friend lists', 'friend may', 'friend mine', 'friend mineall', 'friend mines', 'friend need', 'friend priest', 'friend reply', 'friend request', 'friend share', 'friend shes', 'friend shortly', 'friend times', 'friend tyler', 'friend wanted', 'friend wants', 'friend won', 'friend youre', 'friendofafriend stuff', 'friends 150ptone', 'friends already', 'friends bslvyl', 'friends call', 'friends callertune', 'friends car', 'friends care', 'friends fall', 'friends find', 'friends forever', 'friends goodevening', 'friends got', 'friends grins', 'friends help', 'friends if', 'friends im', 'friends imma', 'friends including', 'friends kick', 'friends lancaster', 'friends lead', 'friends make', 'friends maybe', 'friends my', 'friends net', 'friends plan', 'friends receive', 'friends room', 'friends school', 'friends seemed', 'friends sorry', 'friends stay', 'friends staying', 'friends telling', 'friends this', 'friends understand', 'friends use', 'friends want', 'friendsare thekingshead', 'friendship game', 'friendship good', 'friendship hanging', 'friendship im', 'friendship its', 'friendship never', 'friendship one', 'friendship poem', 'friendship two', 'friendshipmotherfatherteacherschildrens day', 'friendships grow', 'fring app', 'fringe thk', 'frm 10', 'frm 1030', 'frm ctla', 'frm god', 'frm letters', 'frm tht', 'frm tmr', 'frm virgin', 'frm walk', 'frm wats', 'frnd 62468', 'frnd best', 'frnd clearing', 'frnd hwd', 'frnd juz', 'frnd knw', 'frnd many', 'frnd name', 'frnd necesity', 'frnd watever', 'frnds classmates', 'frnds evn', 'frnds first', 'frnds got', 'frnds ltgt', 'frnds never', 'frnds so', 'frnds threw', 'frnds wthout', 'frndship forever', 'frndship give', 'frndship like', 'frndshp den', 'frndsship never', 'frndz amp', 'frnt snake', 'fro wherever', 'frog sound', 'frogaxel akonlonely', 'from 100', 'from 88066', 'from barmed', 'from colourredtextcolourtxtstar', 'from dabooks', 'from landline', 'from lucyxx', 'from next', 'from o2', 'from o2fwd', 'from only', 'from parisfree', 'from remb', 'from someone', 'from the', 'from tomorrow', 'from ur', 'from village', 'from work', 'fromm landline', 'fromwrk will', 'front house', 'front us', 'frontierville why', 'frosty snowman', 'fruit tree', 'frwd thnk', 'frying egg', 'frying pan', 'ft we', 'fuck babe', 'fuck cant', 'fuck cedar', 'fuck come', 'fuck doesnt', 'fuck family', 'fuck good', 'fuck gt', 'fuck hey', 'fuck ill', 'fuck im', 'fuck juswoke', 'fuck leaving', 'fuck love', 'fuck merry', 'fuck morning', 'fuck nobody', 'fuck not', 'fuck sips', 'fuck want', 'fuck whatever', 'fuck yes', 'fuck you', 'fucked after', 'fucked like', 'fuckin believe', 'fuckin showr', 'fuckin time', 'fucking chickened', 'fucking chords', 'fucking dealing', 'fucking faceasssssholeeee', 'fucking gas', 'fucking idiot', 'fucking love', 'fucking minutes', 'fucking phone', 'fucking retard', 'fucking shitin', 'fucking shoes', 'fucking take', 'fucking this', 'fuckinniceselfishdeviousbitchanywayi call', 'fucks sake', 'fudge oreos', 'fuelled love', 'fujitsu ibm', 'fujitsu series', 'ful song', 'ful stones', 'fulfil promise', 'full feeling', 'full flim', 'full gist', 'full heat', 'full im', 'full joy', 'full life', 'full ltgt', 'full might', 'full msg', 'full msgsometext', 'full name', 'full people', 'full pimpleseven', 'full rights', 'full swing', 'full time', 'full version', 'full weak', 'fun 2nhite', 'fun bar', 'fun call', 'fun cooped', 'fun evening', 'fun fact', 'fun games', 'fun get', 'fun great', 'fun hahatake', 'fun jamstercouk', 'fun night', 'fun practicing', 'fun shopping', 'fun still', 'fun text', 'fun this', 'fun tho', 'fun today', 'fun without', 'fun wiv', 'fun workage', 'functions thnk', 'fund texting', 'fundamentals cool', 'funeral home', 'funk ur', 'funky shit', 'funky text', 'funny bluff', 'funny fact', 'funny lor', 'funny things', 'funny tho', 'funny want', 'funs shopping', 'furniture if', 'furniture tho', 'fusion oso', 'future httpcareers', 'future marketing', 'future mgs', 'future planned', 'future yowifes', 'fuuuuck need', 'fwiw reason', 'fyi im', 'fyi ride', 'g2 1da', 'g696ga 18', 'gail is', 'gain rights', 'gain work', 'gained ltgt', 'gal boy', 'gal dt', 'gal falls', 'gal he', 'gal knew', 'gal me', 'gal wn', 'galcan hold', 'galileo dobby', 'galileo little', 'galno jst', 'gals anyone', 'gals group', 'gals know', 'gals laughing', 'galsu wanna', 'gam gone', 'game 450', 'game almost', 'game comin', 'game console', 'game deck', 'game get', 'game gt', 'game im', 'game new', 'game okay', 'game play', 'game send', 'game text', 'game think', 'game yesterday', 'games arcade', 'games dload', 'games flirt', 'games give', 'games great', 'games netcollex', 'games news', 'games settings', 'games thedailydraw', 'games tones', 'games wwwtxt82228com', 'gamestar sky', 'gandhipuram walk', 'ganesh dress', 'ganesh festival', 'gang bang', 'gang ready', 'gang want', 'gap btwn', 'gap fingers', 'gap legs', 'gap see', 'gaps holding', 'garage centre', 'garage collapsed', 'garage keys', 'garbage bags', 'garbage novelty', 'garden ready', 'gari something', 'garments account', 'gary come', 'gary split', 'gary would', 'gas afford', 'gas alcohol', 'gas get', 'gas money', 'gas one', 'gas st', 'gas station', 'gas tank', 'gastroenteritis if', 'gate charles', 'gauge pattys', 'gautham ah', 'gave boston', 'gave card', 'gave cos', 'gave lovely', 'gave morning', 'gave number', 'gave pain', 'gave photo', 'gave us', 'gay chat', 'gay guys', 'gay men', 'gay will', 'gays mean', 'gaytextbuddycom txt', 'gaze eyes', 'gb gift', 'gbp per', 'gbp450week mfl', 'gbp5month aom', 'gbpweek 16only', 'gd den', 'gd food', 'gd got', 'gd haha', 'gd looking', 'gd lor', 'gd luck', 'gd night', 'gd nite', 'gd ntswt', 'gd thk', 'gd use', 'gdnow 50', 'gdthe new', 'ge 1st', 'ge den', 'ge nite', 'ge slow', 'ge tmr', 'gee nvm', 'gee thanx', 'gee thgt', 'gee thk', 'geeee im', 'geeee miss', 'geeee need', 'geeeee love', 'geeeee your', 'geelater go', 'gei that', 'gender begin', 'gender wither', 'general price', 'generally date', 'generally faggy', 'generally isnt', 'genes something', 'genius whats', 'gent we', 'gentle baby', 'gentle love', 'gentle princess', 'gentle sonetimes', 'gentle unlike', 'gentleman treat', 'gently please', 'genuine hmv', 'genus second', 'geoenvironmental implications', 'georges day', 'gep home', 'ger toking', 'germany 08448350055', 'germany pence', 'get 100s', 'get 250', 'get 2getha', 'get 2u', 'get 5years', 'get 6missed', 'get 7am', 'get 87131', 'get 8th', 'get acknowledgement', 'get ahold', 'get and', 'get angry', 'get another', 'get anybody', 'get anything', 'get ass', 'get away', 'get babe', 'get back', 'get backdoor', 'get bb', 'get bbdeluxe', 'get bday', 'get bed', 'get bit', 'get book', 'get bored', 'get brand', 'get bud', 'get build', 'get burger', 'get bus', 'get car', 'get cash', 'get caught', 'get center', 'get chance', 'get chatting', 'get check', 'get chennai', 'get chicken', 'get class', 'get closer', 'get complacent', 'get concentration', 'get control', 'get converted', 'get convinced', 'get credit', 'get cut', 'get cute', 'get da', 'get dear', 'get dehydrated', 'get delivered', 'get deus', 'get dobbys', 'get dont', 'get door', 'get drink', 'get drugs', 'get drunk', 'get dubsack', 'get dude', 'get dump', 'get early', 'get em', 'get email', 'get england', 'get enough', 'get entry', 'get euro', 'get ever', 'get every', 'get everyone', 'get everything', 'get exams', 'get extra', 'get fat', 'get fb', 'get fear', 'get fired', 'get fixed', 'get fr', 'get free', 'get fun', 'get gandhipuram', 'get garden', 'get gas', 'get gift', 'get girl', 'get gnarls', 'get good', 'get gud', 'get half', 'get headache', 'get hep', 'get high', 'get hold', 'get home', 'get hotel', 'get ice', 'get if', 'get info', 'get interview', 'get into', 'get involved', 'get itlet', 'get job', 'get laid', 'get laidwant', 'get lar', 'get last', 'get later', 'get latest', 'get library', 'get like', 'get lions', 'get little', 'get lor', 'get lost', 'get lots', 'get ltgt', 'get lucky', 'get made', 'get man', 'get matched', 'get may', 'get medical', 'get melt', 'get message', 'get messages', 'get mind', 'get mobile', 'get money', 'get monthly', 'get morning', 'get move', 'get mu', 'get na', 'get need', 'get new', 'get news', 'get next', 'get nice', 'get noon', 'get nothing', 'get now', 'get official', 'get ok', 'get on', 'get one', 'get opinion', 'get oscar', 'get paid', 'get parish', 'get park', 'get phone', 'get pic', 'get pick', 'get pickle', 'get please', 'get pleasure', 'get pls', 'get police', 'get pouch', 'get prem', 'get premium', 'get problem', 'get program', 'get random', 'get rayman', 'get ready', 'get readyall', 'get realised', 'get redim', 'get reply', 'get rimac', 'get ringtones', 'get rooms', 'get second', 'get see', 'get seperated鈥', 'get sexy', 'get shall', 'get should', 'get sick', 'get sink', 'get sleep', 'get slippers', 'get so', 'get song', 'get sooner', 'get sort', 'get specs', 'get spiritual', 'get sponsors', 'get statements', 'get step', 'get stopped', 'get stressful', 'get stuff', 'get suite', 'get supposed', 'get system', 'get tacos', 'get taxi', 'get ten', 'get text', 'get though', 'get throw', 'get tickets', 'get til', 'get till', 'get time', 'get tired', 'get tm', 'get together', 'get tomorrow', 'get tons', 'get toppoly', 'get touch', 'get train', 'get trouble', 'get txt', 'get txtin', 'get txting', 'get txtjourney', 'get txts', 'get uk', 'get unless', 'get unlimited', 'get upto', 'get ur', 'get used', 'get usher', 'get voice', 'get voucher', 'get wanted', 'get watch', 'get weaseling', 'get weed', 'get well', 'get whatever', 'get win', 'get wkend', 'get work', 'get yo', 'get yours', 'get yoville', 'get4an18th and', 'getiing ltgt', 'geting salary', 'gets added', 'gets almost', 'gets completely', 'gets fucked', 'gets his', 'gets lag', 'gets oh', 'gets thrown', 'gets twelve', 'gets used', 'gets work', 'getsleep anything', 'getstop 88222', 'gettin and', 'gettin bit', 'gettin cash', 'gettin full', 'gettin hurt', 'gettin juicy', 'gettin on', 'gettin rdy', 'gettin shagged', 'getting 8th', 'getting anywhere', 'getting back', 'getting bored', 'getting cars', 'getting citizen', 'getting connection', 'getting do', 'getting even', 'getting feel', 'getting free', 'getting goods', 'getting gram', 'getting hanging', 'getting headstart', 'getting hungry', 'getting hurt', 'getting impatient', 'getting messages', 'getting msgs', 'getting number', 'getting offcampus', 'getting owed', 'getting pc', 'getting place', 'getting ready', 'getting really', 'getting sat', 'getting second', 'getting slippery', 'getting smartthough', 'getting soon', 'getting texts', 'getting threats', 'getting tickets', 'getting time', 'getting tired', 'getting touch', 'getting wet', 'getting whole', 'getting worried', 'getting yo', 'getzedcouk pobox365o4w45wq', 'gf theater', 'ghodbandar rd', 'ghost addamsfa', 'gibbs unsoldmike', 'gibe til', 'gift birds', 'gift day', 'gift frm', 'gift future', 'gift guaranteed', 'gift loved', 'gift speak', 'gift this', 'gift voucher', 'gift vouchers', 'gifted tomeandsaidthis', 'gifts you', 'giggle saw', 'gigolo join', 'gimme lip', 'gimme ltgt', 'gimme ring', 'gimmi de', 'gin beer', 'girl 80s', 'girl beautiful', 'girl bloke', 'girl cant', 'girl comes', 'girl connect', 'girl doesnt', 'girl friend', 'girl friends', 'girl happy', 'girl hope', 'girl how', 'girl ive', 'girl know', 'girl margaret', 'girl mrur', 'girl or', 'girl propose', 'girl shouted', 'girl stay', 'girl still', 'girl tell', 'girl waiting', 'girl world', 'girl yes', 'girl zoe', 'girld boy', 'girlfrnd grahmbell', 'girls always', 'girls either', 'girls erotic', 'girls happy', 'girls live', 'girls many', 'girls name', 'girls never', 'girls night', 'girls office', 'girls situation', 'girls the', 'girls waiting', 'girls while', 'gist oh', 'giv da', 'giv one', 'giv shit', 'give access', 'give account', 'give and', 'give arsenal', 'give away', 'give back', 'give bell', 'give big', 'give buz', 'give call', 'give clue', 'give coming', 'give cos', 'give couple', 'give drugs', 'give enough', 'give everything', 'give experience', 'give feb', 'give fifteen', 'give flying', 'give food', 'give full', 'give good', 'give great', 'give guarantee', 'give happiness', 'give im', 'give kvb', 'give lift', 'give love', 'give ltgt', 'give malaria', 'give massages', 'give me', 'give minutes', 'give miss', 'give misscall', 'give missed', 'give money', 'give monkeys', 'give month', 'give na', 'give new', 'give one', 'give only', 'give ors', 'give otherwise', 'give pick', 'give plus', 'give prometazine', 'give raise', 'give reason', 'give repair', 'give reply', 'give response', 'give ride', 'give ring', 'give sec', 'give small', 'give something', 'give space', 'give special', 'give stupid', 'give support', 'give thanks', 'give thatdont', 'give tickets', 'give til', 'give time', 'give treat', 'give us', 'give warm', 'give you', 'given 50', 'given ultimatum', 'gives even', 'gives every', 'gives everything', 'gives hurt', 'gives meaning', 'gives tough', 'giving break', 'giving enough', 'giving free', 'giving lift', 'giving much', 'giving problems', 'giving receiving', 'giving second', 'givits ok', 'glad better', 'glad didnt', 'glad made', 'glad really', 'glad see', 'glad talking', 'glad text', 'glad wasted', 'glad went', 'glad you', 'glands throat', 'glass exhibition', 'global locations', 'glorious anniversary', 'glory if', 'gloucesterroad uup', 'gmw ltd', 'gnarls barkleys', 'go 1120', 'go 2watershd', 'go 4u', 'go 69988', 'go 83600', 'go 86688', 'go 89105', 'go accordin', 'go afternoon', 'go ah', 'go ahead', 'go aiya', 'go andros', 'go another', 'go apps', 'go aptitude', 'go ask', 'go attend', 'go aust', 'go away', 'go back', 'go bak', 'go bank', 'go bathe', 'go bed', 'go bedroom', 'go bill', 'go bored', 'go bsnl', 'go bugis', 'go buy', 'go cafe', 'go call', 'go careful', 'go celebration', 'go change', 'go chase', 'go check', 'go cine', 'go club4mobilescom', 'go college', 'go come', 'go crazy', 'go creep', 'go da', 'go den', 'go dentists', 'go dinner', 'go doctor', 'go dont', 'go download', 'go drink', 'go earlier', 'go early', 'go eat', 'go elsewhere', 'go engin', 'go evaluation', 'go far', 'go figure', 'go find', 'go floating', 'go fool', 'go fr', 'go free', 'go fun', 'go gep', 'go get', 'go go', 'go google', 'go grand', 'go gre', 'go great', 'go gurl', 'go gym', 'go haha', 'go hair', 'go head', 'go home', 'go honesty', 'go horse', 'go hos', 'go hospital', 'go httpgotbabescouk', 'go httpwwwetlpcoukexpressoffer', 'go httpwwwetlpcoukreward', 'go httpwwwwtlpcouktext', 'go hungry', 'go jazz', 'go jiayin', 'go jogging', 'go jurong', 'go kappa', 'go karaoke', 'go kb', 'go kill', 'go kind', 'go large', 'go learn', 'go lesson', 'go lessons', 'go liao', 'go lido', 'go longer', 'go look', 'go lor', 'go lunch', 'go make', 'go meal', 'go meet', 'go message', 'go monday', 'go month', 'go movie', 'go mrt', 'go my', 'go net', 'go neva', 'go no', 'go normal', 'go not', 'go nus', 'go nydc', 'go ok', 'go one', 'go orchard', 'go outsomewhere', 'go perumbavoor', 'go pick', 'go pilates', 'go place', 'go plan', 'go plaza', 'go pump', 'go ringtones', 'go rto', 'go sat', 'go sch', 'go see', 'go shop', 'go shoppin', 'go shopping', 'go sim', 'go sky', 'go sleep', 'go slo', 'go stop', 'go str', 'go suntec', 'go sup', 'go taunton', 'go teach', 'go tell', 'go temple', 'go texting', 'go thats', 'go then', 'go thepub', 'go there', 'go tip', 'go tis', 'go toa', 'go today', 'go tog', 'go tomo', 'go tonight', 'go town', 'go trying', 'go tuition', 'go txt', 'go unrecognized', 'go ur', 'go walmart', 'go wanted', 'go watch', 'go way', 'go well', 'go welli', 'go whatever', 'go wid', 'go world', 'go write', 'go wwwcnupdatescomnewsletter', 'go wwwringtonescouk', 'go yahoo', 'go yan', 'go yoga', 'go yogasana', 'go2 notxtcouk', 'go2sri lanka', 'goa meet', 'goal arsenal', 'goal margin', 'goals news', 'goalsteam news', 'gobi arts', 'god asked', 'god bed', 'god blessget', 'god bring', 'god can', 'god created', 'god day', 'god decided', 'god got', 'god happy', 'god im', 'god ive', 'god laughed', 'god marry', 'god picked', 'god please', 'god reason', 'god said', 'godi love', 'godnot jesus', 'gods blessings', 'gods endless', 'gods gift', 'gods got', 'gods grace', 'gods love', 'gods power', 'godtaken teethis', 'godyou dont', 'goes back', 'goes day', 'goes here', 'goes job', 'goes like', 'goes loverboy', 'goes new', 'goes usf', 'goes walking', 'goes well', 'goes work', 'goes wrong', 'goggles went', 'goigng dat', 'goin back', 'goin bout', 'goin dinner', 'goin down', 'goin got', 'goin jazz', 'goin keris', 'goin late', 'goin later', 'goin meet', 'goin mite', 'goin out', 'goin rest', 'goin roommate', 'goin workout', 'goin wrk', 'goin wrks', 'goin yogasana', 'goin2bed night', 'going 8pm', 'going ah', 'going apeshit', 'going around', 'going aunty', 'going back', 'going bahamas', 'going bath', 'going bed', 'going blow', 'going book', 'going bored', 'going but', 'going buy', 'going call', 'going cinema', 'going college', 'going configure', 'going did', 'going dinner', 'going dinnermsg', 'going doctor', 'going draw', 'going driving', 'going earn', 'going esplanade', 'going film', 'going fine', 'going finns', 'going get', 'going go', 'going goodno', 'going got', 'going home', 'going hospital', 'going if', 'going ikea', 'going intro', 'going it', 'going join', 'going jus', 'going kip', 'going late', 'going learn', 'going liao', 'going lo', 'going lor', 'going lounge', 'going ltgt', 'going lunch', 'going make', 'going mall', 'going management', 'going min', 'going msg', 'going mush', 'going new', 'going nothing', 'going ok', 'going on', 'going onit', 'going orchard', 'going plan', 'going quit', 'going rain', 'going reg', 'going rem', 'going rhode', 'going ride', 'going robinson', 'going round', 'going royal', 'going rubber', 'going ruin', 'going said', 'going sao', 'going sch', 'going sea', 'going send', 'going shell', 'going shopping', 'going slap', 'going sleep', 'going slower', 'going smoothly', 'going sound', 'going stop', 'going stuff', 'going suggest', 'going sunny', 'going swing', 'going take', 'going talk', 'going tell', 'going theatre', 'going thru', 'going tirunelvai', 'going tirunelvali', 'going to', 'going todays', 'going try', 'going upset', 'going village', 'going watch', 'going we', 'going wear', 'going wif', 'going wildlife', 'going wipro', 'going write', 'going xins', 'going yeovil', 'going yoga', 'gokila talking', 'gold chain', 'gold club', 'golddigger webeburnin', 'golden gift', 'goldviking 29m', 'golf free', 'gon past', 'gona bit', 'gona get', 'gona go', 'gone 4the', 'gone get', 'gone if', 'gone its', 'gone just', 'gone last', 'gone late', 'gone mad', 'gone net', 'gone outstanding', 'gone place', 'gone sisters', 'gone speak', 'goneu know', 'gong kaypoh', 'gonna able', 'gonna another', 'gonna around', 'gonna ask', 'gonna blakes', 'gonna bored', 'gonna bother', 'gonna buy', 'gonna call', 'gonna celebrate', 'gonna death', 'gonna die', 'gonna finish', 'gonna get', 'gonna gibe', 'gonna go', 'gonna google', 'gonna head', 'gonna home', 'gonna last', 'gonna leave', 'gonna let', 'gonna massive', 'gonna miss', 'gonna ok', 'gonna pay', 'gonna pick', 'gonna pop', 'gonna princes', 'gonna ring', 'gonna rip', 'gonna say', 'gonna see', 'gonna smoke', 'gonna snow', 'gonna soon', 'gonna start', 'gonna still', 'gonna swing', 'gonna til', 'gonna try', 'gonna way', 'gonna worry', 'gonnamissu so', 'good 101mega', 'good 9t', 'good afternon', 'good afternoon', 'good babe', 'good baby', 'good back', 'good bad', 'good been', 'good billy', 'good birthday', 'good boy', 'good boyfriend', 'good bt', 'good by', 'good cant', 'good care', 'good combination', 'good condition', 'good crickiting', 'good day', 'good days', 'good do', 'good dog', 'good dual', 'good enough', 'good eve', 'good evening', 'good evenings', 'good excuse', 'good fingers', 'good friend', 'good friends', 'good full', 'good give', 'good good', 'good have', 'good hear', 'good hehe', 'good holiday', 'good home', 'good how', 'good huge', 'good idea', 'good ideas', 'good ill', 'good in', 'good indian', 'good its', 'good job', 'good joke', 'good journey', 'good keep', 'good later', 'good least', 'good lecture', 'good lei', 'good lets', 'good life', 'good listener', 'good looking', 'good lovin', 'good luck', 'good maybe', 'good mornin', 'good morning', 'good mornings', 'good movie', 'good need', 'good news', 'good ni8', 'good night', 'good nit', 'good nite', 'good no', 'good now', 'good nowadayslot', 'good nyt', 'good one', 'good partnership', 'good people', 'good person', 'good playerwhy', 'good problem', 'good rest', 'good riddance', 'good see', 'good semester', 'good she', 'good sign', 'good sleep', 'good somewhat', 'good spam', 'good stuff', 'good team', 'good thanx', 'good thing', 'good think', 'good thinking', 'good time', 'good times', 'good trip', 'good wake', 'good we', 'good week', 'good weekend', 'good well', 'good weve', 'good what', 'good when', 'good words', 'good yes', 'gooddhanush rocks', 'goodenvironment terrific', 'goodevening dear', 'goodfine night', 'goodies for', 'goodmate think', 'goodmorning amp', 'goodmorning have', 'goodmorning once', 'goodmorning sleeping', 'goodmorning today', 'goodmorningmy grandfather', 'goodnight amp', 'goodnight da', 'goodnight ill', 'goodnight sleep', 'goodnite amp', 'goodnite shame', 'goodno problembut', 'goodo ill', 'goodo yes', 'goodtimeoli rang', 'goodwhen going', 'google if', 'google maps', 'google nearby', 'google search', 'gopalettan we', 'gorgeous howu', 'gorgeous keep', 'gorgeous man', 'gosh pain', 'gossip babes', 'gossip hospital', 'gossip l8r', 'got 20', 'got 530', 'got 650', 'got abt', 'got adsense', 'got amore', 'got another', 'got answr', 'got apologetic', 'got arrested', 'got ask', 'got back', 'got bak', 'got bao', 'got bath', 'got biggest', 'got bit', 'got buff', 'got bus', 'got bus822656166382', 'got call', 'got called', 'got cam', 'got car', 'got card', 'got caught', 'got cleaning', 'got colours', 'got conclusion', 'got confused', 'got court', 'got da', 'got dear', 'got detailed', 'got divorce', 'got dont', 'got drunk', 'got eaten', 'got effect', 'got enough', 'got epi', 'got error', 'got exams', 'got exciting', 'got excuse', 'got fast', 'got favorite', 'got finished', 'got fireplace', 'got first', 'got flaky', 'got free', 'got friend', 'got fringe', 'got fujitsu', 'got gas', 'got gd', 'got go', 'got good', 'got got', 'got haircut', 'got hella', 'got hip', 'got hold', 'got home', 'got improve', 'got invitation', 'got it', 'got itmail', 'got job', 'got late', 'got lazy', 'got leads', 'got lect', 'got lesson', 'got lessons', 'got letter', 'got like', 'got list', 'got lo', 'got lost', 'got lot', 'got lots', 'got lousy', 'got ltgt', 'got lunch', 'got mail', 'got many', 'got mc', 'got mega', 'got meh', 'got message', 'got minor', 'got minute', 'got money', 'got msg', 'got new', 'got nothing', 'got number', 'got off', 'got offer', 'got old', 'got one', 'got online', 'got outta', 'got pa', 'got paper', 'got part', 'got payed2day', 'got persons', 'got phone', 'got photo', 'got place', 'got placed', 'got planned', 'got plate', 'got pleasant', 'got plenty', 'got porridge', 'got postponed', 'got problem', 'got really', 'got removed', 'got roast', 'got room', 'got rumour', 'got salt', 'got says', 'got screwd', 'got selected', 'got seventeen', 'got shitload', 'got shot', 'got sing', 'got smaller', 'got social', 'got somebody', 'got somethin', 'got something', 'got space', 'got special', 'got spys', 'got st', 'got stock', 'got stuff', 'got takes', 'got tallent', 'got taunton', 'got tea', 'got ten', 'got then', 'got things', 'got think', 'got time', 'got touch', 'got train', 'got tv', 'got up', 'got ur', 'got urself', 'got use', 'got video', 'got videopic', 'got voted', 'got vpist', 'got want', 'got wat', 'got way', 'got wisdom', 'got woman', 'got words', 'got work', 'got xmas', 'got zhong', 'gotany credit', 'gotmarried 4thnovbehind', 'goto doctor', 'goto httpdoit', 'goto wap', 'goto wwwcomuknet', 'gotta bathe', 'gotta cash', 'gotta change', 'gotta check', 'gotta collect', 'gotta drive', 'gotta extract', 'gotta go', 'gotta hit', 'gotta interviw', 'gotta park', 'gotten dinner', 'gotten job', 'gotto wwwcomuknet', 'goverment expects', 'govtinstituitions closedincluding', 'gowait serious', 'gower mate', 'gprs charges', 'gpu problem', 'gpu replacement', 'gr8 day', 'gr8 evening', 'gr8 new', 'gr8 please', 'gr8 poly', 'gr8 see', 'gr8 so', 'gr8 tones', 'gr8 top', 'gr8 weekend', 'gr8 you', 'gr8fun keep', 'gr8prizes wkly', 'grab something', 'grace god', 'grace measure', 'grahmbell invnted', 'gram ltgt', 'gram usually', 'gram wheres', 'grams hes', 'gran onlyfound', 'grand bit', 'grand nature', 'grand prix', 'grandfather expiredso', 'grandma today', 'grandmas oh', 'granite issues', 'granted fulfil', 'graphics tmobile', 'grasp pretty', 'grateful dont', 'grave say', 'gravel 69888', 'gravity read', 'gravy only', 'gray remembr', 'grazed knees', 'gre site', 'great 80878', 'great advice', 'great amp', 'great are', 'great aunts', 'great break', 'great building', 'great but', 'great came', 'great comedycant', 'great cost', 'great cud', 'great day', 'great deal', 'great diddy', 'great doctor', 'great escape', 'great fingers', 'great getting', 'great graphics', 'great hari', 'great have', 'great hear', 'great hope', 'great how', 'great ill', 'great im', 'great inpersonation', 'great job', 'great lengths', 'great loxahatchee', 'great month', 'great morning', 'great never', 'great new', 'great news', 'great night', 'great offers', 'great people', 'great personal', 'great phone', 'great place', 'great pls', 'great potential', 'great prey', 'great princess', 'great prizeswith', 'great role', 'great run', 'great semester', 'great shoot', 'great so', 'great thanx', 'great time', 'great trip', 'great wanted', 'great week', 'great weekend', 'great well', 'great world', 'great you', 'greatbhaji told', 'greatest test', 'greatly appreciated', 'greece but', 'green black', 'green meant', 'green quote', 'greeni realy', 'greet kind', 'greet whenever', 'greetings consider', 'greetings joy', 'grief amp', 'grins did', 'grins do', 'grins im', 'grins love', 'grins or', 'grins pushes', 'grins reminding', 'grins say', 'grins sofa', 'grinule greet', 'grl agalla', 'grl hogolo', 'grl love', 'grooved and', 'groovy wine', 'ground eek', 'ground gimme', 'groundamla home', 'group attached', 'group company', 'group liao', 'group mail', 'group mate', 'growing mens', 'growing mobile', 'grown right', 'grownup stuffwhy', 'grr mom', 'grumble sad', 'grumpy old', 'gs still', 'gsex pobox', 'gsoh good', 'gt atm', 'gt married', 'gt racing', 'gua but', 'guai shd', 'guarantee sell', 'guaranteed 1000', 'guaranteed 200', 'guaranteed 32000', 'guaranteed award', 'guaranteed call', 'guaranteed caller', 'guaranteed free', 'guaranteed freeentry', 'guaranteed latest', 'guaranteed latests', 'guaranteed reply', 'guaranteed text', 'gucci bags', 'gud 9t', 'gud eveb', 'gud evng', 'gud gud', 'gud gudk', 'gud habit', 'gud mathe', 'gud mornin', 'gud mrng', 'gud n8', 'gud news', 'gud ni8', 'gud ni8swt', 'gud night', 'gud nightswt', 'gud nit', 'gud nitz', 'gud noon', 'gud nte', 'gud nyt', 'gud undrstndng', 'gudk chikku', 'gudk gud', 'gudnitetcpractice going', 'gudnyt dear', 'guess call', 'guess could', 'guess dropped', 'guess gave', 'guess go', 'guess gods', 'guess got', 'guess hes', 'guess idk', 'guess ill', 'guess im', 'guess isnt', 'guess ithis', 'guess like', 'guess ltgt', 'guess might', 'guess needa', 'guess place', 'guess pub', 'guess quick', 'guess right', 'guess rite', 'guess somebody', 'guess spent', 'guess thats', 'guess useless', 'guess wants', 'guess well', 'guess whenever', 'guessed darren', 'guesses lor', 'guessin aint', 'guessing flaked', 'guessing wif', 'guidance when', 'guide and', 'guide ovulation', 'guide plus', 'guide right', 'guild could', 'guilty enemy', 'guilty yet', 'guitar impress', 'gumbys special', 'guoyang go', 'gurl would', 'gut wrenching', 'guy bitching', 'guy browsin', 'guy car', 'guy commit', 'guy exact', 'guy flaked', 'guy flash', 'guy gave', 'guy gets', 'guy hes', 'guy im', 'guy kadeem', 'guy kinda', 'guy know', 'guy loving', 'guy met', 'guy rite', 'guy sells', 'guy stopped', 'guy throws', 'guy wants', 'guys 2nite', 'guys asking', 'guys close', 'guys costumes', 'guys dolls', 'guys dont', 'guys ever', 'guys feeling', 'guys fun', 'guys getting', 'guys go', 'guys gonna', 'guys great', 'guys ill', 'guys leaving', 'guys like', 'guys meet', 'guys miss', 'guys my', 'guys neva', 'guys never', 'guys numbers', 'guys planning', 'guys still', 'guys town', 'guys ur', 'guys want', 'guys werent', 'guys why', 'guys wish', 'gv lv', 'gving yuo', 'gym excuse', 'gym harri', 'gym machan', 'gym tomorrow', 'gym whatever', 'gymnastics class', 'gynae infections', 'gyno shoving', 'ha both', 'ha cool', 'ha good', 'ha ha', 'ha joking', 'ha jus', 'ha nan', 'ha popped', 'ha then', 'ha wouldnt', 'ha you', 'habbahw abt', 'habit amp', 'habit nan', 'hack chat', 'had come', 'had contract', 'had cool', 'had divert', 'had food', 'had gone', 'had lunch', 'had mobile', 'had money', 'had nice', 'had phone', 'had really', 'hadnt put', 'hadya sapna', 'haf ard', 'haf combine', 'haf come', 'haf da', 'haf eaten', 'haf enuff', 'haf found', 'haf hint', 'haf keep', 'haf lunch', 'haf many', 'haf meet', 'haf msn', 'haf passport', 'haf pick', 'haf run', 'haf seen', 'haf smth', 'haf study', 'haf time', 'haf walk', 'haha awesome', 'haha best', 'haha better', 'haha but', 'haha can', 'haha den', 'haha dont', 'haha dunno', 'haha figures', 'haha first', 'haha friend', 'haha get', 'haha go', 'haha good', 'haha got', 'haha heard', 'haha hope', 'haha kidding', 'haha legs', 'haha looking', 'haha mayb', 'haha money', 'haha okay', 'haha okie', 'haha really', 'haha sounds', 'haha they', 'haha think', 'haha thinkin', 'haha thinking', 'haha wat', 'haha what', 'haha where', 'haha wonder', 'haha yeah', 'haha yup', 'hahahause brain', 'hahatake care', 'hai ana', 'hai dear', 'hai jo', 'hai me', 'hai priya', 'hai zindgi', 'hail mist', 'hair anymore', 'hair cream', 'hair cut', 'hair dresser', 'hair dryer', 'hair finish', 'hair fire', 'hair ill', 'hair loving', 'hair managed', 'hair moment', 'hair paragon', 'hair sense', 'hair wat', 'hair whole', 'hair youll', 'haircut now', 'hairdressers appointment', 'haiyoh maybe', 'haiz cant', 'haiz sad', 'haiz üll', 'half chores', 'half could', 'half day', 'half dead', 'half eight', 'half eighth', 'half hour', 'half hr', 'half im', 'half message', 'half naked', 'half pages', 'half price', 'half ten', 'half term', 'half track', 'half way', 'half years', 'hall boy', 'halla ke', 'hallaq loved', 'halloween collection', 'ham have', 'ham hi', 'ham jeetey', 'ham yeah', 'hamster dead', 'hamster jealous', 'hand 4press', 'hand boyy', 'hand its', 'hand love', 'hand machines', 'hand phone', 'hand side', 'handed celebrations', 'handed dont', 'handed right', 'handle malaria', 'handle times', 'handle victoria', 'hands may', 'hands now', 'hands together', 'handset 750', 'handset free', 'handsome are', 'handsomes beauties', 'hang last', 'hanger lor', 'hangin mr', 'hanging around', 'hanging brother', 'hanging thread', 'hanks lotsly', 'hannaford wheat', 'hanumanji name', 'happen around', 'happen behave', 'happen de', 'happen dear', 'happen dont', 'happen lar', 'happen long', 'happen tell', 'happen tonight', 'happen why', 'happen within', 'happend tron', 'happened adventuring', 'happened aftr', 'happened anything', 'happened brb', 'happened cruise', 'happened feels', 'happened how', 'happened interview', 'happened morning', 'happened switch', 'happened yo', 'happened you', 'happenin wit', 'happening around', 'happening but', 'happening have', 'happening lindsay', 'happening showing', 'happening side', 'happening til', 'happens 2waxsto', 'happens somebody', 'happens top', 'happens vegas', 'happier tomorrow', 'happiest frnds', 'happily 2gthr', 'happiness abiola', 'happiness bad', 'happiness dat', 'happiness do', 'happiness every', 'happiness main', 'happiness soon', 'happiness stability', 'happiness take', 'happy alive', 'happy amp', 'happy are', 'happy babe', 'happy baby', 'happy bday', 'happy birthday', 'happy cave', 'happy christmas', 'happy come', 'happy content', 'happy dasara', 'happy day', 'happy dear', 'happy diwali', 'happy do', 'happy even', 'happy filled', 'happy fools', 'happy friendshipmotherfatherteacherschildrens', 'happy ganesh', 'happy good', 'happy independence', 'happy its', 'happy know', 'happy lar', 'happy may', 'happy moments', 'happy morning', 'happy need', 'happy new', 'happy newsby', 'happy onam', 'happy only', 'happy person', 'happy pig', 'happy pongal', 'happy promises', 'happy reading', 'happy republic', 'happy returns', 'happy sad', 'happy sankranti', 'happy saying', 'happy see', 'happy shivratri', 'happy sit', 'happy slowly', 'happy splash', 'happy time', 'happy toughest', 'happy ugadi', 'happy unspoken', 'happy valentines', 'happy wait', 'happy where', 'happy work', 'hard believe', 'hard but', 'hard couldnt', 'hard diskyou', 'hard get', 'hard leave', 'hard live', 'hard person', 'hard rock', 'hard txt', 'hard type', 'hardcore porn', 'hardcore services', 'harder nbme', 'hardest cum', 'hardly gotany', 'hardly play', 'harishs rent', 'harry answer', 'harry potter', 'has boye', 'has made', 'hasbroin august', 'hasnt gdnow', 'hasnt pattern', 'hasnt seen', 'hasnt selling', 'hasnt sent', 'hassling get', 'hat belt', 'hate bt', 'hate she', 'hate urself', 'hate you', 'hates me', 'haul ass', 'haunt got', 'hav 12000pes', 'hav 2go', 'hav almost', 'hav blessed', 'hav frnd', 'hav gd', 'hav go', 'hav gon', 'hav good', 'hav great', 'hav gud', 'hav lil', 'hav ltgt', 'hav natural', 'hav nice', 'hav prayrs', 'hav sent', 'hav signal', 'hav steam', 'hav sum', 'hav wordsevry', 'hav2hear itc', 'hava match', 'havbeen given', 'have always', 'have another', 'have beautiful', 'have better', 'have bookedthe', 'have date', 'have emigrated', 'have ever', 'have fab', 'have finished', 'have fun', 'have funs', 'have good', 'have goodfine', 'have got', 'have gotten', 'have gr8', 'have great', 'have happy', 'have heard', 'have ideal', 'have jolly', 'have laid', 'have lots', 'have lovely', 'have lunch', 'have made', 'have missed', 'have mobstorequiz10ppm', 'have move', 'have next', 'have nice', 'have one', 'have practising', 'have previously', 'have registered', 'have rich', 'have safe', 'have seen', 'have smiley', 'have spoken', 'have started', 'have time', 'have told', 'have won', 'have wonderful', 'havebeen made', 'havent add', 'havent ask', 'havent been', 'havent collected', 'havent decided', 'havent done', 'havent eaten', 'havent even', 'havent explicitly', 'havent finish', 'havent finished', 'havent forgotten', 'havent found', 'havent gone', 'havent got', 'havent heard', 'havent left', 'havent lei', 'havent mus', 'havent planning', 'havent replied', 'havent reply', 'havent seen', 'havent sent', 'havent shopping', 'havent slept', 'havent snow', 'havent still', 'havent stuck', 'havent thought', 'havent wined', 'havent woke', 'havent you', 'haventcn in', 'havin borin', 'havin credit', 'havin gr8fun', 'having good', 'having lunchyou', 'havnt met', 'havnt seen', 'hcl chennai', 'hdd casing', 'he also', 'he angry', 'he didnt', 'he dint', 'he fucking', 'he gets', 'he gorgeous', 'he got', 'he graduated', 'he guys', 'he gv', 'he however', 'he impossible', 'he kept', 'he knows', 'he like', 'he lots', 'he married', 'he messaged', 'he naughty', 'he needs', 'he neva', 'he propsd', 'he remains', 'he said', 'he saidif', 'he say', 'he says', 'he send', 'he smiled', 'he strongly', 'he strtd', 'he telling', 'he waited', 'he wants', 'he womdarfull', 'he world', 'he you', 'head big', 'head dey', 'head doesnt', 'head dont', 'head earlierwe', 'head mins', 'head minutes', 'head ok', 'head reason', 'head speak', 'head straight', 'head towards', 'head usf', 'head whos', 'headache anyone', 'headache trying', 'headache want', 'headin towards', 'heading drop', 'heading towards', 'heads dont', 'heads freedom', 'headset simply', 'headstart im', 'heal everything', 'healer ltgt', 'healthy old', 'heap my', 'hear ahmad', 'hear anything', 'hear cannt', 'hear dont', 'hear fr', 'hear happened', 'hear how', 'hear im', 'hear loud', 'hear netcollex', 'hear new', 'hear omg', 'hear people', 'hear philosophy', 'hear receipt', 'hear screamed', 'hear see', 'hear settling', 'hear sound', 'hear strt', 'hear texts', 'hear treated', 'hear unless', 'hear voice', 'hear wont', 'hear word', 'heard abt', 'heard anything', 'heard job', 'heard neither', 'heard text', 'heard u4', 'heard week', 'heard year', 'hearin how', 'hearing laptop', 'heart 88888', 'heart ache', 'heart always', 'heart bcoz', 'heart be', 'heart could', 'heart empty', 'heart falls', 'heart feels', 'heart guides', 'heart happy', 'heart hoping', 'heart if', 'heart im', 'heart it', 'heart life', 'heart like', 'heart mind', 'heart plz', 'heart putting', 'heart remembrs', 'heart remind', 'heart so', 'heart txt', 'heart warm', 'heart with', 'heart youthats', 'hearted person', 'heartgn tc', 'heartheart but', 'hearts gud', 'heartsnot safe', 'heat pa', 'heater set', 'heater the', 'heaven princegn', 'heavily cos', 'heavy is', 'heavy ok', 'heavy someone', 'hectic would', 'hee but', 'hee buy', 'hee cos', 'hee off', 'heehee funny', 'hehe hows', 'height confidence', 'height oh', 'height recycling', 'held prasad', 'held send', 'helen dozens', 'helen mo', 'helens fone', 'hell av', 'hell cant', 'hell give', 'hell im', 'hell love', 'hell match', 'hell mu', 'hell night', 'hell put', 'hell saved', 'hella cash', 'hella drugs', 'hella gas', 'hella weed', 'hello across', 'hello as', 'hello baby', 'hello beautiful', 'hello boytoy', 'hello caroline', 'hello coz', 'hello damn', 'hello darlin', 'hello darling', 'hello do', 'hello good', 'hello handsome', 'hello hello', 'hello hi', 'hello how', 'hello hows', 'hello hun', 'hello its', 'hello just', 'hello little', 'hello love', 'hello lover', 'hello madam', 'hello no', 'hello orange', 'hello peach', 'hello she', 'hello site', 'hello sort', 'hello thanx', 'hello they', 'hello things', 'hello ucall', 'hello wats', 'hello we', 'hello yeah', 'hellodrivby0quit edrunk', 'helloed hello', 'hellogorgeous hows', 'hellohow doingwhat', 'helloooo wake', 'helloyou seem', 'help 08448714184', 'help 0845', 'help 08702840625', 'help 08702840625comuk', 'help ask', 'help buy', 'help call', 'help clearing', 'help creativity', 'help do', 'help friend', 'help get', 'help god', 'help granted', 'help guys', 'help hee', 'help if', 'help info', 'help inforingtonekingcouk', 'help ive', 'help let', 'help navigate', 'help pls', 'help propose', 'help sheet', 'help swoop', 'help tell', 'help thank', 'help thanks', 'help ur', 'help us', 'help would', 'help youi', 'help08700469649 po', 'help08700621170150p msg', 'help08712400602450p provided', 'helpful want', 'helpline 08706091795', 'helps us', 'heltiniiyo kothi', 'hen night', 'hence askin', 'henry liverpool', 'henry scores', 'hep immunisation', 'her lesson', 'her said', 'her those', 'here discount', 'here got', 'here wales', 'herepls callurgent', 'hereremember one', 'herethanksi exchanged', 'heri love', 'heri would', 'herlove dont', 'herlove start', 'hermy life', 'heroes free', 'heroi leaving', 'heron something', 'hershe every', 'herwho fated', 'herwill give', 'hes adult', 'hes answering', 'hes apparently', 'hes around', 'hes busy', 'hes crashing', 'hes cutting', 'hes dealing', 'hes definitely', 'hes going', 'hes gonna', 'hes got', 'hes korean', 'hes lag', 'hes makin', 'hes married', 'hes naughty', 'hes ok', 'hes paranoid', 'hes paying', 'hes quitting', 'hes really', 'hes saying', 'hes sent', 'hes south', 'hes sweet', 'hes upping', 'hes verifying', 'hesitate you', 'hesitation lookin', 'hex place', 'hex way', 'hey abiola', 'hey ad', 'hey almost', 'hey angry', 'hey anyway', 'hey around', 'hey babe', 'hey booked', 'hey boys', 'hey check', 'hey chief', 'hey come', 'hey company', 'hey congrats', 'hey cutie', 'hey darlin', 'hey darling', 'hey das', 'hey doc', 'hey dont', 'hey elaine', 'hey ever', 'hey fancy', 'hey feeling', 'hey for', 'hey free', 'hey gals', 'hey galsu', 'hey gave', 'hey girl', 'hey glad', 'hey go', 'hey going', 'hey gorgeous', 'hey got', 'hey guy', 'hey happen', 'hey happy', 'hey hey', 'hey ho', 'hey hunonbus', 'hey im', 'hey iouri', 'hey ive', 'hey kate', 'hey late', 'hey leave', 'hey looks', 'hey love', 'hey loverboy', 'hey mate', 'hey missed', 'hey money', 'hey morning', 'hey mr', 'hey muhommad', 'hey next', 'hey of', 'hey one', 'hey parking', 'hey pay', 'hey pple700', 'hey project', 'hey really', 'hey reply', 'hey rite', 'hey sat', 'hey sathya', 'hey sexy', 'hey someone', 'hey something', 'hey sorry', 'hey still', 'hey sweet', 'hey tell', 'hey there', 'hey theres', 'hey thk', 'hey tmr', 'hey told', 'hey very', 'hey want', 'hey watching', 'hey werethe', 'hey what', 'hey whats', 'hey why', 'hey you', 'heygreat dealfarm', 'hgsuite3422lands roww1j6hl', 'hgsuite3422lands roww1jhl', 'hgsuite3422landsroww1j6hl ldn', 'hhahhaahahah rofl', 'hi 07734396839', 'hi 2nights', 'hi amy', 'hi babe', 'hi baby', 'hi birth', 'hi chachi', 'hi chikku', 'hi customer', 'hi dahow', 'hi darlin', 'hi dear', 'hi decide', 'hi di', 'hi dis', 'hi do', 'hi drugdealer', 'hi dude', 'hi durban', 'hi elaine', 'hi email', 'hi finally', 'hi find', 'hi frnd', 'hi get', 'hi good', 'hi happy', 'hi harishs', 'hi hi', 'hi hope', 'hi hun', 'hi im', 'hi its', 'hi jon', 'hi juan', 'hi kate', 'hi kindly', 'hi lou', 'hi love', 'hi lucy', 'hi mandy', 'hi mate', 'hi missed', 'hi mobile', 'hi mom', 'hi msg', 'hi my', 'hi neva', 'hi peteynoi', 'hi please', 'hi princess', 'hi probably', 'hi sexychat', 'hi shanilrakhesh', 'hi shes', 'hi soon', 'hi stop', 'hi take', 'hi test', 'hi this', 'hi ur', 'hi way', 'hi we', 'hi were', 'hi wesley', 'hi wk', 'hi wkend', 'hi wlcome', 'hi wont', 'hi ya', 'hi yijue', 'hi you', 'hicts employee', 'hidden inside', 'hide anythiing', 'hides thousands', 'hidid asked', 'hiding stranger', 'high enough', 'high first', 'high may', 'high score', 'high street', 'highest bid', 'hii got', 'hilariousalso bought', 'hill address', 'hill have', 'hill is', 'hill thing', 'hills shit', 'hillsborough amp', 'him do', 'him httpimg', 'him said', 'himso bother', 'himthen choose', 'hint forum', 'hint hint', 'hip hop', 'hiphop open', 'hire hitman', 'his bday', 'his birthday', 'his contract', 'his father', 'his frens', 'his name', 'his work', 'hisher enemies', 'history iter', 'history need', 'hit fuck', 'hit get', 'hit girld', 'hit ground', 'hit me', 'hit move', 'hit on', 'hit people', 'hit reply', 'hit send', 'hit week', 'hit youre', 'hitechnical supportproviding', 'hitler eleven', 'hitteranyway good', 'hittng one', 'hiwhat think', 'hiya comin', 'hiya good', 'hiya how', 'hiya hows', 'hiya like', 'hiya paying', 'hiya probably', 'hiya sorry', 'hiya stu', 'hl 4info', 'hl info', 'hlday pics', 'hlp 08712317606', 'hm friday', 'hm go', 'hm good', 'hme da', 'hmm bits', 'hmm did', 'hmm dunno', 'hmm ill', 'hmm many', 'hmm ok', 'hmm shall', 'hmm thinking', 'hmm well', 'hmm yeah', 'hmmbad newshype', 'hmmm and', 'hmmm doesnt', 'hmmm go', 'hmmm guess', 'hmmm italian', 'hmmm mayb', 'hmmm or', 'hmmm thk', 'hmmm thought', 'hmmmbut give', 'hmmmhow many', 'hmmmkbut want', 'hmmmstill dont', 'hmmmy uncle', 'hmph go', 'hmv 86688', 'hmv bonus', 'hmv quiz', 'hmv vouchers', 'hmv1 86688', 'ho big', 'ho ho', 'ho is', 'ho which', 'ho will', 'hockey correct', 'hockey elections', 'hogidhechinnu full', 'hogli mutai', 'hogolo boy', 'hol message', 'hol offer', 'hold anyone', 'hold bslvyl', 'hold connections', 'hold em', 'hold hands', 'hold right', 'hold somebody', 'hold steering', 'hold strong', 'hold ur', 'hold weed', 'holder claim', 'holder have', 'holder to', 'holding hand', 'holding tightly', 'holding ur', 'hole wanna', 'holiday 1000', 'holiday 10000', 'holiday 5000', 'holiday await', 'holiday call', 'holiday cn', 'holiday day', 'holiday difficult', 'holiday flights', 'holiday gimmi', 'holiday govtinstituitions', 'holiday monday', 'holiday safe', 'holiday send', 'holiday valued', 'holiday voucher', 'holiday want', 'holiday worth', 'holidayso work', 'holla back', 'holla get', 'holla later', 'holla whenever', 'hols to', 'hols yes', 'holy living', 'holy shit', 'home 12', 'home 730', 'home abroad', 'home all', 'home alone', 'home already', 'home also', 'home always', 'home any', 'home anyway', 'home ard', 'home ask', 'home at', 'home audrey', 'home babe', 'home bathe', 'home big', 'home box', 'home bring', 'home calicut', 'home call', 'home cant', 'home class', 'home clean', 'home come', 'home constant', 'home da', 'home dinner', 'home diwali', 'home doc', 'home dont', 'home dressed', 'home dunno', 'home early', 'home eating', 'home evening', 'home finally', 'home first', 'home followed', 'home fri', 'home give', 'home go', 'home got', 'home groundamla', 'home half', 'home have', 'home hi', 'home his', 'home im', 'home jess', 'home kiss', 'home lei', 'home liao', 'home little', 'home look', 'home lor', 'home love', 'home ltgt', 'home midnight', 'home min', 'home not', 'home now', 'home one', 'home oredi', 'home phone', 'home please', 'home probably', 'home quite', 'home ready', 'home rub', 'home safe', 'home sale', 'home saw', 'home see', 'home shower', 'home sms', 'home snow', 'home so', 'home soon', 'home sooner', 'home soup', 'home stuff', 'home thanksgiving', 'home thats', 'home tired', 'home tomorrow', 'home tonight', 'home town', 'home urself', 'home vl', 'home watching', 'home way', 'home wear', 'home weekend', 'home weeks', 'home wendy', 'home went', 'home within', 'home work', 'home yet', 'home you', 'homebut hes', 'homecheck mails', 'homeleft mobile', 'homelove lot', 'homeowners tenants', 'homewot inmind', 'hon call', 'hon how', 'hon lab', 'honest like', 'honestly ive', 'honesty road', 'honey ar', 'honey boo', 'honey have', 'honey moon', 'honey pls', 'honey still', 'honey sweetheart', 'honeybee said', 'honeydid ave', 'honeymoon outfit', 'hont and', 'hoo party', 'hooch walk', 'hoody wallpaperall', 'hook doggy', 'hook means', 'hook standing', 'hooked guys', 'hoops get', 'hop ard', 'hop go', 'hop kb', 'hop open', 'hop orc', 'hop parco', 'hope agents', 'hope alright', 'hope also', 'hope anything', 'hope are', 'hope arnt', 'hope ava', 'hope avin', 'hope cardiff', 'hope day', 'hope didnt', 'hope doesnt', 'hope dont', 'hope enjoy', 'hope enjoyed', 'hope everything', 'hope feel', 'hope feeling', 'hope find', 'hope finds', 'hope fine', 'hope get', 'hope goes', 'hope good', 'hope great', 'hope guys', 'hope hav', 'hope hear', 'hope kind', 'hope know', 'hope like', 'hope luv', 'hope maybe', 'hope meet', 'hope much', 'hope next', 'hope nice', 'hope ok', 'hope okay', 'hope pay', 'hope pee', 'hope photo', 'hope remember', 'hope scared', 'hope see', 'hope showing', 'hope smile', 'hope still', 'hope text', 'hope thats', 'hope things', 'hope tomorrow', 'hope tonight', 'hope true', 'hope ur', 'hope using', 'hope well', 'hope wind', 'hope work', 'hope you', 'hope youve', 'hopeafternoon brings', 'hoped wont', 'hoped would', 'hopefully asus', 'hopefully dont', 'hopefully lose', 'hopefully month', 'hopefully tyler', 'hopeing pissed', 'hopes offer', 'hopeso hunny', 'hopeu ad', 'hoping could', 'hoping end', 'hoping enjoyed', 'hoping get', 'hoping gudni8', 'hoping l8r', 'hoping laugh', 'hoping text', 'hoping would', 'hor already', 'horniest dogging', 'horny 89070', 'horny guys', 'horny live', 'horny turn', 'horny want', 'horny willing', 'horo aries', 'horo followed', 'horrible bf', 'horrible eat', 'horrible gal', 'horrible took', 'horse racing', 'hos 2morow', 'hospital 2b', 'hospital da', 'hospital data', 'hospital de', 'hospital ext', 'hospital kept', 'hospital see', 'hospital two', 'hospitals medical', 'hospitals weak', 'hostbased idps', 'hostel aha', 'hostel going', 'hot 69698', 'hot air', 'hot cakes', 'hot downloads', 'hot gay', 'hot horny', 'hot line', 'hot live', 'hot mail', 'hot nearly', 'hot pic', 'hot pinku', 'hot smells', 'hot sticky', 'hot sun', 'hot xxx', 'hotel 200', 'hotel dusk', 'hotel fancy', 'hotel got', 'hotel time', 'hotels for', 'hotmix fmyou', 'hottest pics', 'hour ago', 'hour anyway', 'hour bed', 'hour cos', 'hour drive', 'hour give', 'hour half', 'hour home', 'hour im', 'hour least', 'hour means', 'hour much', 'hour my', 'hour show', 'hour sick', 'hour supposed', 'hour though', 'hour two', 'hours acl03530150pm', 'hours almost', 'hours and', 'hours beforewent', 'hours begging', 'hours imma', 'hours its', 'hours see', 'hours slave', 'hours sorry', 'hours take', 'hours talk', 'hours tops', 'hours you', 'house 8am', 'house and', 'house cos', 'house empty', 'house entertaining', 'house how', 'house im', 'house just', 'house let', 'house meet', 'house ok', 'house parentsi', 'house postcode', 'house see', 'house sky', 'house still', 'house water', 'house youll', 'houseful screaming', 'housemaid murderer', 'housewives chat', 'housework quick', 'housing agency', 'how 100', 'how abt', 'how are', 'how babes', 'how bout', 'how boy', 'how brother', 'how clothes', 'how come', 'how creep', 'how dare', 'how dawns', 'how day', 'how dear', 'how doin', 'how doinat', 'how enjoy', 'how enjoying', 'how far', 'how fast', 'how feeling', 'how find', 'how friends', 'how getting', 'how go', 'how goes', 'how going', 'how guys', 'how holding', 'how honey', 'how hope', 'how hows', 'how im', 'how its', 'how izzit', 'how just', 'how last', 'how little', 'how long', 'how love', 'how madam', 'how make', 'how man', 'how many', 'how moneyas', 'how much', 'how night', 'how noe', 'how office', 'how pain', 'how photos', 'how plan', 'how possible', 'how pretty', 'how punish', 'how rugby', 'how schedule', 'how seeing', 'how side', 'how sleep', 'how speaking', 'how stand', 'how stupid', 'how teresa', 'how then', 'how today', 'how txting', 'how ur', 'how use', 'how want', 'how was', 'how wat', 'how way', 'how weekend', 'how went', 'how whens', 'how where', 'how wish', 'how would', 'howard it', 'howda gud', 'howdy gorgeous', 'however impossible', 'however let', 'however recession', 'however said', 'however side', 'however suggest', 'however wish', 'howre throwing', 'hows abj', 'hows anthony', 'hows arm', 'hows bf', 'hows bout', 'hows boytoy', 'hows camp', 'hows cardiff', 'hows champ', 'hows da', 'hows darling', 'hows de', 'hows everyone', 'hows favourite', 'hows feel', 'hows going', 'hows honeydid', 'hows husband', 'hows london', 'hows loverboy', 'hows masters', 'hows mode', 'hows my', 'hows pain', 'hows project', 'hows queen', 'hows revision', 'hows saturday', 'hows school', 'hows scotland', 'hows sound', 'hows street', 'hows things', 'hows ur', 'hows watch', 'hows weather', 'hows work', 'hows yummy', 'howu doin', 'howz girls', 'howz painhope', 'howz painit', 'howz persons', 'hp toshiba', 'hp20 1yf', 'hppnss drop', 'hr b4', 'hr conform', 'hr driving', 'hr oni', 'hr want', 'hrs 63miles', 'hrs chrgd50p', 'hrs last', 'hrs tomo', 'html terms', 'httpcareers bloombergcom', 'httpdoit mymoby', 'httpgotbabescouk no', 'httpimg sms', 'httptms widelivecomindex', 'httpwap xxxmobilemovieclubcomnqjkgighjjgcbl', 'httpwwwbubbletextcom your', 'httpwwwetlpcoukexpressoffer tscs', 'httpwwwetlpcoukreward tscs', 'httpwwwgr8prizescom 08715705022', 'httpwwwurawinnercom fantastic', 'httpwwwurawinnercom there', 'httpwwwurawinnercom theres', 'httpwwwwtlpcouktext tscs', 'hu think', 'huai juan', 'hubby meetins', 'hubby nice', 'hubbys away', 'hudgi yorge', 'hug back', 'hug dont', 'hug if', 'hug need', 'huge back', 'huge boobs', 'hugh laurie', 'hugs snogs', 'huh also', 'huh cant', 'huh early', 'huh fast', 'huh going', 'huh got', 'huh hyde', 'huh late', 'huh lei', 'huh lol', 'huh means', 'huh slow', 'huh the', 'huh watch', 'hui xin', 'huiming havent', 'hum sochte', 'humanities dis', 'humans hav', 'hun im', 'hun ru', 'hundred ml', 'hundredhe set', 'hundreds handsomes', 'hungover another', 'hungry buy', 'hungry call', 'hungry gay', 'hungry havent', 'hungry like', 'hungry tho', 'hunks straight', 'hunlove yaxxx', 'hunny 4brekkie', 'hunny amnow', 'hunny uin', 'hunnyhope ure', 'hunnyjust bedbut', 'hunnywot up', 'hunonbus goin', 'hunt beautiful', 'hurricanes sway', 'hurried plane', 'hurry come', 'hurry hell', 'hurry home', 'hurry im', 'hurry ive', 'hurt and', 'hurt but', 'hurt days', 'hurt gud', 'hurt hurt', 'hurt leave', 'hurt lot', 'hurt make', 'hurt much', 'hurt never', 'hurt nonetheless', 'hurt plz', 'hurt prsn', 'hurt shows', 'hurt stone', 'hurt tease', 'hurt truth', 'hurt unintentional', 'hurt wen', 'hurting feeling', 'hurting meaningful', 'hurts musta', 'hurts smile', 'hurts studying', 'hurts talk', 'husband marry', 'husband toolets', 'hustle back', 'hut and', 'hv free', 'hv shortage', 'hvae selected', 'hw abt', 'hw choose', 'hw cn', 'hw conditionand', 'hw da', 'hw ru', 'hwd feel', 'hwkeep posted', 'hyde park', 'hypertension oh', 'iam addicted', 'iam going', 'iam layin', 'ias question', 'ibh customer', 'ibhltd ldnw15h', 'ibiza holiday', 'ibm hp', 'ibored and', 'ibuprofens help', 'ic lol', 'ic there', 'ic thought', 'iccha korche', 'ice age', 'ice cream', 'ice etc', 'ice fml', 'ice hockey', 'ice pieces', 'icic lor', 'icicibankcom enter', 'icky american', 'icon sitting', 'id 1172', 'id buzz', 'id check', 'id for', 'id get', 'id interested', 'id kr', 'id like', 'id luv', 'id need', 'id onluy', 'id pa', 'id password', 'id proof', 'id rather', 'id say', 'id sayask', 'id soon', 'id stayed', 'id txt', 'id would', 'idc get', 'idconvey regards', 'idea guess', 'idea slurp', 'idea smoke', 'idea soon', 'idea sure', 'idea time', 'ideal christmas', 'ideal path', 'ideas anything', 'ideas do', 'identification tomorrow', 'identifier code', 'identifier code4xx26', 'idiot everyone', 'idiot roommates', 'idiot txt', 'idiot when', 'idk fuck', 'idk im', 'idk reacting', 'idk you', 'idps linux', 'idu matra', 'ie sarcasm', 'if 0870', 'if ans', 'if answers', 'if anyone', 'if ask', 'if belive', 'if break', 'if brilliant', 'if can', 'if cant', 'if come', 'if comes', 'if coughing', 'if could', 'if die', 'if doesnt', 'if dont', 'if drizzling', 'if dun', 'if ever', 'if get', 'if give', 'if go', 'if goto', 'if gud', 'if hava', 'if hear', 'if hit', 'if home', 'if ignore', 'if im', 'if india', 'if laugh', 'if let', 'if lik', 'if like', 'if love', 'if ltgt', 'if make', 'if makes', 'if match', 'if meeting', 'if moves', 'if must', 'if need', 'if none', 'if not', 'if number', 'if ok', 'if one', 'if person', 'if raining', 'if raise', 'if rearrange', 'if reply', 'if said', 'if search', 'if sending', 'if smiled', 'if start', 'if started', 'if still', 'if takes', 'if talk', 'if thanks', 'if timing', 'if treat', 'if unmits', 'if ur', 'if urgnt', 'if urgoin', 'if wan', 'if want', 'if wasnt', 'if we', 'if wereare', 'if win', 'if wont', 'if you', 'if youre', 'iff pthis', 'ifink it', 'ifwhenhow much', 'ig11 oja', 'ignore dis', 'ignore kath', 'ignoring yes', 'ijust talked', 'ikea spelled', 'ikea str', 'ikea without', 'ikno doesdiscountshitinnit', 'iknow all', 'il ave', 'il come', 'il defo', 'il explain', 'il free', 'il getiing', 'il reply', 'il send', 'ileave uni', 'ill always', 'ill appreciate', 'ill around', 'ill ask', 'ill back', 'ill bathing', 'ill bitch', 'ill bring', 'ill buy', 'ill call', 'ill come', 'ill da', 'ill day', 'ill disturb', 'ill dl', 'ill double', 'ill down', 'ill drinkpa', 'ill fall', 'ill feel', 'ill felt', 'ill fix', 'ill forward', 'ill free', 'ill get', 'ill getting', 'ill give', 'ill go', 'ill going', 'ill grab', 'ill hand', 'ill head', 'ill hit', 'ill holla', 'ill home', 'ill ideas', 'ill ithink', 'ill jus', 'ill keep', 'ill late', 'ill leave', 'ill leaving', 'ill let', 'ill little', 'ill look', 'ill lst', 'ill ltgt', 'ill make', 'ill meet', 'ill mins', 'ill miss', 'ill mu', 'ill obey', 'ill pay', 'ill peace', 'ill phone', 'ill pick', 'ill place', 'ill point', 'ill post', 'ill prob', 'ill probably', 'ill put', 'ill quit', 'ill reach', 'ill right', 'ill ring', 'ill sathy', 'ill sch', 'ill see', 'ill send', 'ill snatch', 'ill speak', 'ill stay', 'ill still', 'ill sure', 'ill swing', 'ill take', 'ill talk', 'ill tell', 'ill text', 'ill think', 'ill thk', 'ill throw', 'ill tomorrow', 'ill tonight', 'ill treat', 'ill try', 'ill work', 'ill xmas', 'illness means', 'illspeak u2moro', 'ilol let', 'im 07090201529', 'im actor', 'im actually', 'im afraid', 'im aight', 'im almost', 'im already', 'im also', 'im always', 'im amk', 'im answering', 'im aquarius', 'im arestaurant', 'im around', 'im askin', 'im at', 'im athome', 'im awake', 'im ba', 'im babe', 'im babysitting', 'im back', 'im baig', 'im barely', 'im basically', 'im bed', 'im bedroom', 'im bk', 'im boat', 'im bored', 'im bruce', 'im buffy', 'im bus', 'im campus', 'im cant', 'im chennai', 'im chillin', 'im church', 'im class', 'im close', 'im coming', 'im completely', 'im computerless', 'im costume', 'im crazy', 'im cruisin', 'im currently', 'im da', 'im debating', 'im desparate', 'im desperate', 'im diet', 'im dinner', 'im docs', 'im done', 'im drinking', 'im drivin', 'im driving', 'im eatin', 'im elaborating', 'im embarassed', 'im excited', 'im exhausted', 'im expecting', 'im failing', 'im failure', 'im feeling', 'im filled', 'im fine', 'im finishing', 'im freaked', 'im freaky', 'im free', 'im freezing', 'im fucking', 'im gettin', 'im getting', 'im glad', 'im gloucesterroad', 'im goin', 'im goin2bed', 'im going', 'im gona', 'im goneu', 'im gonna', 'im gonnamissu', 'im good', 'im great', 'im guessing', 'im guy', 'im gving', 'im half', 'im happy', 'im headin', 'im helens', 'im hesitant', 'im holding', 'im home', 'im horny', 'im hot', 'im hour', 'im hungry', 'im im', 'im inperialmusic', 'im inside', 'im job', 'im knocking', 'im lacking', 'im last', 'im late', 'im lazy', 'im leaving', 'im like', 'im list', 'im listn', 'im lonely', 'im longer', 'im looking', 'im love', 'im mad', 'im mall', 'im meant', 'im meeting', 'im missin', 'im missing', 'im moms', 'im movie', 'im mrt', 'im nanny', 'im nasty', 'im needy', 'im nervous', 'im nevering', 'im not', 'im nothing', 'im nt', 'im office', 'im officially', 'im oh', 'im ok', 'im okay', 'im on', 'im outhave', 'im outside', 'im parents', 'im paying', 'im perpetual', 'im person', 'im picking', 'im pissed', 'im pretty', 'im probably', 'im putting', 'im quite', 'im randy', 'im raping', 'im reaching', 'im reading', 'im ready', 'im really', 'im realy', 'im referin', 'im reffering', 'im relaxing', 'im resubbing', 'im right', 'im sad', 'im sat', 'im saying', 'im school', 'im see', 'im selling', 'im serious', 'im she', 'im shopping', 'im short', 'im sick', 'im sitting', 'im sleepy', 'im small', 'im smoking', 'im so', 'im solihull', 'im sorry', 'im sory', 'im starving', 'im staying', 'im stil', 'im still', 'im stressed', 'im stuck', 'im studying', 'im sue', 'im suffering', 'im suppose', 'im supposed', 'im sure', 'im surprised', 'im sweetest', 'im table', 'im taking', 'im talk', 'im thinking', 'im thought', 'im tired', 'im tom', 'im touched', 'im town', 'im trying', 'im turning', 'im unemployed', 'im upset', 'im upsetits', 'im used', 'im usf', 'im viveki', 'im wait', 'im waiting', 'im waking', 'im waliking', 'im walking', 'im watching', 'im way', 'im weak', 'im wearing', 'im weed', 'im wet', 'im wif', 'im with', 'im wondering', 'im woozles', 'im work', 'im workin', 'im working', 'im worried', 'im wylie', 'ima try', 'image class', 'images fond', 'imaginationmy phone', 'imagine feel', 'imagine finally', 'imagine life', 'imagine second', 'imagine urself', 'imagine would', 'imagine youve', 'imat my', 'imf loan', 'imin towndontmatter', 'imma assume', 'imma come', 'imma definitely', 'imma flip', 'imma get', 'imma start', 'immediately aft', 'immediately or', 'immediately urgent', 'immediately whos', 'immunisation nigeria', 'imp at', 'impatient belligerent', 'important alwa', 'important and', 'important customer', 'important files', 'important find', 'important how', 'important information', 'important message', 'important messages', 'important never', 'important prevent', 'important put', 'important reply', 'important there', 'important understand', 'importantly discuss', 'imposed anything', 'impossible argue', 'impossible so', 'impossible us', 'imposter meneed', 'impress shit', 'impressed have', 'impression got', 'impressively sensible', 'improve already', 'improve month', 'improved sex', 'imprtant where', 'in afternoon', 'in agesring', 'in april', 'in bed', 'in case', 'in class', 'in cu', 'in da', 'in day', 'in days', 'in eachother', 'in end', 'in envelope', 'in exeter', 'in fact', 'in fifteen', 'in free', 'in get', 'in hunt', 'in india', 'in life', 'in luton', 'in march', 'in me', 'in meeting', 'in msg', 'in newquaysend', 'in news', 'in place', 'in rock', 'in saibaba', 'in sch', 'in so', 'in stores', 'in the', 'in this', 'in touch', 'in town', 'in towncud', 'in wales', 'in way', 'in work', 'in xam', 'in2 draw', 'in2 pub', 'in2 sea', 'inc 3hrs', 'inc flight', 'inc speak', 'inc vat', 'inch accumulation', 'inch snow', 'inches deep', 'inches long', 'inches pleasure', 'incident lets', 'inclu in', 'include 1mcflyall', 'include crazy', 'include details', 'includes time', 'including if', 'including one', 'inclusive text', 'inclusive video', 'incomm right', 'inconsiderate nag', 'inconvenient sis', 'incorrect end', 'increase chance', 'incredible txts', 'increments help08718728876', 'inde dodda', 'indeed especially', 'indeed way', 'independence day', 'independently count', 'india and', 'india cust', 'india do', 'india onionrs', 'india padhegm', 'india poor', 'india take', 'india win', 'indian money', 'indian oceand', 'indian version', 'indianpls save', 'indians at', 'indians from', 'indians nice', 'indians poor', 'indicate may', 'indicate maybe', 'individual lor', 'individualtime heal', 'indyarockscom send', 'inever thought', 'infact happy', 'infections even', 'infernal affair', 'infernal affairs', 'influx cash', 'info 0794674629107880867867', 'info bt', 'info sheets', 'info text', 'info ts', 'inforingtonekingcouk call', 'inform application', 'inform get', 'inform person', 'inform that', 'information 02', 'information call', 'information for', 'information ikea', 'information like', 'information o2', 'information orange', 'information today', 'information we', 'informed hes', 'informed latest', 'informed saved', 'infra slow', 'infront call', 'infront other', 'ing tomorrow', 'initiate dont', 'ink bath', 'inlude previews', 'inmind recreation', 'inner tigress', 'innocent face', 'innocent fun', 'innu mundhe', 'inour life', 'inperialmusic listening2the', 'inpersonation flea', 'inr ltdecimalgt', 'insects molestedsomeone', 'insha allahrakhesh', 'inshah allah', 'inside already', 'inside da', 'inside every', 'inside mayb', 'inside officestill', 'inside outside', 'inside tight', 'inspection nursery', 'inst pending', 'install phone', 'installation happen', 'installing hard', 'instant cash', 'instantly girl', 'instantly phone', 'instead fun', 'instead jus', 'instead respond', 'instead well', 'instead white', 'instructions next', 'instructions txt', 'instructions wats', 'insurance and', 'insurance personmeet', 'insurance so', 'intelligent caring', 'intelligent kind', 'intelligent ltgt', 'intelligent woman', 'intend hurt', 'intention run', 'interest figuring', 'interested buying', 'interested hav', 'interested like', 'interested may', 'interested picking', 'interesting did', 'interflora flowers', 'interflora its', 'interfued blackberry', 'internal subs', 'internet any', 'internet connection', 'internet outage', 'internet really', 'internet thing', 'internetservice menu', 'interview today', 'interview via', 'interviews wake', 'interviw exeter', 'intha ponnungale', 'intimate natural', 'into trouble', 'intrepid duo', 'intro algorithms', 'intro covers', 'intro next', 'intro pilates', 'intrude pls', 'invaders chance', 'invention flyim', 'invest anti', 'invest money', 'investigate anywhere', 'invitation apologise', 'invite anything', 'invite anywhere', 'invited actually', 'invited apartment', 'invited tho', 'invited xchat', 'inviting friend', 'invnted telphone', 'invoices work', 'involve anything', 'involved thats', 'iouri gave', 'iouri ive', 'iouri kaila', 'ip address', 'ip4 5we', 'ipad and', 'ipad can', 'ipads worthless', 'ipod 250', 'ipod more', 'ipod mp3', 'ipod txt', 'iq tis', 'iraq afghanistan', 'ireneere got', 'iriver 255', 'iron plan', 'ironing staying', 'irritated 4wrd', 'irritates always', 'irritating ltgt', 'irritating msging', 'irritation just', 'irulinae neekunna', 'is 11', 'is 4u', 'is avatar', 'is away', 'is coming', 'is da', 'is dog', 'is fantastic', 'is first', 'is fr', 'is fran', 'is free', 'is fujitsu', 'is gonna', 'is good', 'is idiot', 'is important', 'is internet', 'is it', 'is itnow', 'is ittb', 'is jide', 'is long', 'is minimum', 'is monster', 'is movie', 'is my', 'is neva', 'is ofsi', 'is ok', 'is one', 'is opening', 'is over', 'is positive', 'is pub', 'is reason', 'is red', 'is replying', 'is seriously', 'is snow', 'is someone', 'is something', 'is talking', 'is telly', 'is th', 'is the', 'is this', 'is time', 'is toshiba', 'is training', 'is true', 'is up', 'is ur', 'is vibrator', 'is waiting', 'is way', 'is where', 'is xy', 'is yahoo', 'is your', 'isare phones', 'iscoming todo', 'iscoming ur', 'ish minutes', 'ishtamayoohappy bakrid', 'island traffic', 'island wherever', 'islands head', 'islands holiday', 'islove got', 'isnt bad', 'isnt decision', 'isnt elaborate', 'isnt free', 'isnt frnd', 'isnt good', 'isnt helping', 'isnt itxx', 'isnt kind', 'isnt minecraft', 'isnt one', 'isnt sweetie', 'isnt tb', 'issue going', 'issue overheating', 'issue weigh', 'issues california', 'issues right', 'issues strongbuy', 'isvimportant tome', 'it backwards', 'it becomes', 'it better', 'it certainly', 'it champlaxigating', 'it comes', 'it contains', 'it could', 'it dark', 'it didnt', 'it doesnt', 'it even', 'it everything', 'it get', 'it gives', 'it good', 'it great', 'it gud', 'it happens', 'it happy', 'it hurts', 'it issues', 'it just', 'it least', 'it looks', 'it makes', 'it may', 'it means', 'it messy', 'it mite', 'it most', 'it never', 'it occurs', 'it passable', 'it ready', 'it reassuring', 'it reply', 'it resent', 'it right', 'it says', 'it seems', 'it shall', 'it simple', 'it somewhere', 'it sooooo', 'it spark', 'it stop', 'it sucks', 'it take', 'it tescos', 'it that', 'it tomorrow', 'it took', 'it turns', 'it vl', 'it was', 'it wasnt', 'it with', 'it wonderful', 'it wont', 'it word', 'it works', 'it yesterday', 'it you', 'italian boy', 'italian food', 'italian job', 'italian one', 'itboth try', 'itc sn', 'items feel', 'items mobile', 'iter jet', 'ithink may', 'ithis first', 'iti trying', 'itjust dont', 'itleave and', 'itlet try', 'itll tough', 'itmail panren', 'itmay destiny', 'itna forward', 'itnow read', 'itor admiti', 'itried2tell urmomi', 'its 140', 'its ages', 'its almost', 'its amazing', 'its answer', 'its been', 'its better', 'its big', 'its cause', 'its cold', 'its common', 'its cool', 'its date', 'its difficult', 'its dont', 'its driving', 'its dun', 'its easier', 'its effect', 'its either', 'its engalnd', 'its fine', 'its free', 'its freezing', 'its gals', 'its get', 'its gift', 'its going', 'its good', 'its great', 'its hard', 'its home', 'its important', 'its incredible', 'its innocent', 'its interesting', 'its jenny', 'its jess', 'its just', 'its justbeen', 'its kate', 'its kinda', 'its laptop', 'its late', 'its latebut', 'its legitimat', 'its less', 'its like', 'its little', 'its loan', 'its ltdecimalgt', 'its ltgt', 'its make', 'its making', 'its meant', 'its name', 'its necessary', 'its nic', 'its nice', 'its normally', 'its number', 'its official', 'its ok', 'its okcome', 'its one', 'its pain', 'its part', 'its paul', 'its posible', 'its pride', 'its quite', 'its regarding', 'its sarcasm', 'its scratches', 'its sdryb8i', 'its self', 'its shame', 'its site', 'its something', 'its specialisation', 'its still', 'its stuff', 'its sunny', 'its taxt', 'its that2worzels', 'its time', 'its tough', 'its true', 'its uncountable', 'its ur', 'its valentine', 'its vital', 'its warm', 'its way', 'its worse', 'its wylie', 'its yijuehotmailcom', 'itsnot supposed', 'itu must', 'itwhichturnedinto gifted', 'itxt cos', 'itz confirmd', 'ivatte kalisidare', 'ive 4u', 'ive already', 'ive barred', 'ive bin', 'ive booked', 'ive called', 'ive cried', 'ive done', 'ive ever', 'ive finished', 'ive fixed', 'ive found', 'ive go', 'ive gone', 'ive got', 'ive gotta', 'ive heard', 'ive hurt', 'ive joined', 'ive just', 'ive kind', 'ive kinda', 'ive little', 'ive looked', 'ive made', 'ive naughty', 'ive never', 'ive oredi', 'ive put', 'ive reached', 'ive returned', 'ive ritten', 'ive school', 'ive searching', 'ive see', 'ive seeing', 'ive seen', 'ive sent', 'ive set', 'ive settled', 'ive smoked', 'ive sorta', 'ive told', 'ive touch', 'ive tried', 'ive trying', 'ive weeddeficient', 'ive woken', 'iwana know', 'iwasmarinethat itried2tell', 'iz attempt', 'iz lonlines', 'iz yellow', 'izzit still', 'izzit suddenly', 'izzit thk', 'izzit wan', 'j89 po', 'jabo abi', 'jack shit', 'jacket ah', 'jacket im', 'jackpot txt', 'jackson rec', 'jacuzzi house', 'jada kusruthi', 'jade its', 'jaklin idk', 'jam bread', 'james 28', 'james farting', 'jamster to', 'jamster videosound', 'jamstercouk 16only', 'jamsterget crazy', 'jamz toxic', 'jan onlydon', 'jan that', 'jan whn', 'janarige ivatte', 'jane babes', 'jane xx', 'janinexx calls', 'january as', 'january ltgt', 'january male', 'january though', 'janx ps', 'jap done', 'japanese proverb', 'jason says', 'java games', 'jay noncomittal', 'jay says', 'jay snickering', 'jay told', 'jay trying', 'jay tyler', 'jay wants', 'jaya tv', 'jaykwon thuglyfe', 'jays getting', 'jays guitar', 'jays sort', 'jazz flute', 'jazz oso', 'jazz power', 'jazz yogasana', 'jazz zoom', 'jb fantastic', 'jd customer', 'je still', 'jealous browni', 'jealous million', 'jeans lor', 'jeans thk', 'jeetey hai', 'jeevithathile irulinae', 'jen eh', 'jen xxx', 'jenny college', 'jenny xxx', 'jeremiah do', 'jeri stewartsize', 'jerry cartoon', 'jersey devils', 'jess dont', 'jess xx', 'jesus armand', 'jesus christ', 'jesus hav', 'jet got', 'jetton ave', 'jewelry trips', 'jez iscoming', 'ji vl', 'jia ill', 'jiayin but', 'jiayin take', 'jide study', 'jiu den', 'jiu fast', 'jiu liao', 'jiu we', 'jjc tendencies', 'jo ham', 'jo hum', 'joanna freaking', 'joanna im', 'job aha', 'job are', 'job bar', 'job begun', 'job birla', 'job dayshe', 'job fake', 'job geeee', 'job hand', 'job hope', 'job how', 'job hunting', 'job im', 'job like', 'job making', 'job natuition', 'job not', 'job profile', 'job prospects', 'job search', 'job starts', 'job support', 'job the', 'job think', 'job today', 'job whats', 'job wiproyou', 'jobs available', 'jobs indians', 'jobyet sausagelove', 'jocks calling', 'jod hows', 'jogging did', 'john also', 'john joys', 'john lennon', 'john let', 'john name', 'john sounds', 'john then', 'john today', 'join 10p', 'join 3wk', 'join bday', 'join cafe', 'join company', 'join denis', 'join dis', 'join get', 'join im', 'join like', 'join ltgt', 'join mobile', 'join optout', 'join sts', 'join take', 'join tomorrow', 'join txt250com', 'join uks', 'join uncle', 'joined 4w', 'joined heart', 'joined league', 'joined tisscotayseer', 'joined today', 'joinedhope fineinshah', 'joinedso training', 'joining finance', 'joining today', 'joke girls', 'joke ogunrinde', 'joke so', 'joke wont', 'joker face', 'jokes gmgngegn', 'jokes school', 'jokethet really', 'jokin lar', 'jokin oni', 'joking bring', 'joking ill', 'joking seriously', 'joking wif', 'jolly good', 'jolt heart', 'jolt suzy', 'jon pete', 'jordan got', 'jordan im', 'jordan just', 'jordantxt pic', 'jorgeshock will', 'jos ask', 'jot things', 'journey happy', 'journey let', 'journey terrible', 'joy gud', 'joy happiness', 'joy lots', 'joys father', 'joys lifeis', 'jp hungry', 'js love', 'jsco energy', 'jst bin', 'jst got', 'jst takecare', 'jst wana', 'jstfrnd cutefrnd', 'jsut ese', 'juan im', 'juan never', 'judgementali save', 'juicy booty', 'juicy gossip', 'juicy pizza', 'jules half', 'juliana do', 'julianaland oblivious', 'july 2007', 'july tcs', 'jump many', 'jumpers hat', 'june 3rd', 'june chance', 'jungle two', 'jurong point', 'jus 1stone', 'jus 420', 'jus ans', 'jus anything', 'jus ate', 'jus bit', 'jus call', 'jus called', 'jus came', 'jus chillaxin', 'jus chillin', 'jus concentrating', 'jus da', 'jus finish', 'jus finished', 'jus get', 'jus got', 'jus hope', 'jus leave', 'jus reached', 'jus rite', 'jus said', 'jus saw', 'jus say', 'jus take', 'jus telling', 'jus testing', 'jus tot', 'jus wait', 'jus walk', 'jus went', 'just 20p', 'just 2p', 'just 4get', 'just 60pmin', 'just answer', 'just arrived', 'just bash', 'just buy', 'just call', 'just came', 'just check', 'just checked', 'just checkin', 'just checking', 'just chill', 'just click', 'just come', 'just curious', 'just dont', 'just dropped', 'just ever', 'just finished', 'just forced', 'just gettin', 'just getting', 'just glad', 'just got', 'just hair', 'just havent', 'just helen', 'just hit', 'just hopeing', 'just hurry', 'just id', 'just ignore', 'just install', 'just jogging', 'just joking', 'just know', 'just knowyetunde', 'just let', 'just looked', 'just making', 'just messages', 'just missed', 'just need', 'just normal', 'just nw', 'just opened', 'just pray', 'just pull', 'just quick', 'just quit', 'just read', 'just remember', 'just saw', 'just say', 'just saying', 'just seeing', 'just send', 'just sent', 'just sign', 'just sing', 'just slap', 'just sleepingand', 'just sounding', 'just studyn', 'just taste', 'just tell', 'just text', 'just thot', 'just told', 'just toss', 'just trying', 'just txt', 'just wait', 'just want', 'just wanted', 'just wishin', 'just woke', 'just wondering', 'justbeen overa', 'justify ruining', 'justthought sayhey', 'juswoke up', 'juz arrive', 'juz askin', 'juz buy', 'juz dun', 'juz go', 'juz havent', 'juz last', 'juz meet', 'juz open', 'juz receive', 'juz rem', 'juz remembered', 'juz say', 'juz send', 'juz take', 'juz tt', 'juz us', 'juz wat', 'juz watch', 'juz watched', 'juz wordnot', 'juz work', 'k52 valid', 'k61 valid', 'k718 your', 'kaaj korte', 'kadeem far', 'kadeem hasnt', 'kafter placement', 'kaiez dun', 'kaiez enjoy', 'kaitlyn sick', 'kalaachutaarama prof', 'kalainar tv', 'kalisidare next', 'kall bestcongrats', 'kallis best', 'kallis dismissial', 'kallis home', 'kallis ready', 'kallis wont', 'kalstiyathen teacoffee', 'kama sutra', 'kane bit', 'kanji dont', 'kano trishul', 'kanoanyway enjoy', 'kanoil download', 'kanowhr treat', 'kappa guys', 'kappa meet', 'karaoke mobile', 'karaoke type', 'karnan car', 'karo ki', 'kate are', 'kate can', 'kate evening', 'kate hope', 'kate jackson', 'kate lovely', 'kate xxx', 'kath manchester', 'kavalan minutes', 'kay on', 'kay since', 'kaypoh also', 'kb lesson', 'kb liao', 'kb power', 'kb sat', 'kb sun', 'kb yogasana', 'kbut big', 'kdo evening', 'ke bilo', 'ke qi', 'keen go', 'keep away', 'keep busy', 'keep butting', 'keep calling', 'keep company', 'keep ears', 'keep everybody', 'keep expecting', 'keep extra', 'keep eye', 'keep fantastic', 'keep followin', 'keep getting', 'keep going', 'keep happy', 'keep hes', 'keep informed', 'keep mind', 'keep mobile', 'keep mp3', 'keep notebook', 'keep one', 'keep payasam', 'keep phone', 'keep pix', 'keep posted', 'keep prayingwill', 'keep raining', 'keep room', 'keep running', 'keep safe', 'keep sat', 'keep saying', 'keep secret', 'keep seeing', 'keep sleeping', 'keep smiling', 'keep something', 'keep spares', 'keep talking', 'keep ten', 'keep touch', 'keep updat', 'keep ur', 'keep us', 'keeping away', 'keeping company', 'keeping distance', 'keeping heart', 'keeping together', 'keeping us', 'keepintouch gdeve', 'keeps coming', 'keeps happy', 'keluviri maretare', 'keng rocking', 'kens stuff', 'kent vale', 'kept copy', 'kept date', 'kept informed', 'kept telling', 'kept waking', 'kerala daysso', 'kerala version', 'keralacircle prepaid', 'keris bin', 'kettoda manda', 'key arcade', 'key fuck', 'key jenne', 'key window', 'keys burnt', 'keys purse', 'keys they', 'keyword picsfree1', 'kfc tuesday', 'kg mon', 'kg since', 'kgive back', 'kgood movie', 'khelate kintu', 'ki deleted', 'ki didt', 'ki give', 'ki pura', 'ki send', 'ki think', 'kicchu kaaj', 'kick amp', 'kick back', 'kick coco', 'kick fast', 'kick for', 'kick new', 'kickoff kept', 'kicks around', 'kid and', 'kid youre', 'kidding bud', 'kidding papa', 'kids boys', 'kids do', 'kids one', 'kids went', 'kidz my', 'killed mumtazs', 'killing amigos', 'kills dont', 'kilos today', 'kim watching', 'kind advice', 'kind affair', 'kind bleh', 'kind coccooning', 'kind day', 'kind feel', 'kind fumbling', 'kind just', 'kind life', 'kind person', 'kind shitload', 'kind start', 'kind thing', 'kind time', 'kind took', 'kind weather', 'kinda ad', 'kinda first', 'kinda flaky', 'kinda fun', 'kinda jokethet', 'kinda lnly', 'kinda ok', 'kinda remember', 'kinda thing', 'kindly give', 'kindly send', 'king 1st', 'king dead', 'king gud', 'king havin', 'king hill', 'king or', 'king store', 'king wanna', 'king was', 'kingdom check', 'kintu opponenter', 'kiosk reply', 'kip good', 'kisi ko', 'kiss across', 'kiss cant', 'kiss feel', 'kiss hope', 'kiss kiss', 'kiss make', 'kiss miss', 'kiss mom', 'kisses xxx', 'kissing damn', 'kit strip', 'kits clean', 'kitty shaved', 'kkadvance happy', 'kkany special', 'kkapo kgood', 'kkare college', 'kkfrom tomorrow', 'kkgoodstudy well', 'kkhow business', 'kkhow much', 'kkhow sister', 'kkhow training', 'kkim also', 'kkim going', 'kkits goodwhen', 'kkthis month', 'kkwhat detail', 'kkwhen give', 'kkwhen going', 'kkwhere take', 'kkwhere youhow', 'kkwhy cant', 'kkyesterday cbe', 'kl341 valid', 'knackered dreading', 'knackered got', 'knackered just', 'knees everything', 'knees exposes', 'knew dat', 'knew dis', 'knew dont', 'knew felt', 'knew giving', 'knew one', 'knew saw', 'knew slept', 'knew time', 'knew wasnt', 'knickers make', 'knock knock', 'knock txt', 'knocking right', 'know 2channel', 'know 6hrs', 'know able', 'know account', 'know actually', 'know adore', 'know advising', 'know anjolas', 'know anyone', 'know anyplaces', 'know anything', 'know anythings', 'know ask', 'know asked', 'know ate', 'know avoiding', 'know awesome', 'know barely', 'know best', 'know breathing', 'know bring', 'know but', 'know called', 'know can', 'know cant', 'know challenging', 'know change', 'know changes', 'know cheesy', 'know come', 'know complain', 'know contact', 'know cos', 'know costs', 'know country', 'know dad', 'know dat', 'know definite', 'know details', 'know didt', 'know difference', 'know do', 'know doin', 'know don', 'know dont', 'know early', 'know either', 'know else', 'know eta', 'know even', 'know exact', 'know exactly', 'know fancies', 'know fondly', 'know forgot', 'know friend', 'know fuck', 'know gail', 'know get', 'know girls', 'know go', 'know god', 'know got', 'know grumpy', 'know hang', 'know happen', 'know hardcore', 'know heart', 'know hey', 'know hook', 'know iam', 'know if', 'know ifwhenhow', 'know ill', 'know im', 'know it', 'know jabo', 'know jack', 'know kicks', 'know lab', 'know later', 'know leave', 'know liao', 'know log', 'know lor', 'know lot', 'know ltgt', 'know made', 'know mallika', 'know mean', 'know meant', 'know mega', 'know might', 'know mind', 'know miss', 'know missed', 'know mood', 'know much', 'know near', 'know need', 'know new', 'know noon', 'know number', 'know oh', 'know ok', 'know old', 'know one', 'know outsider', 'know patty', 'know people', 'know personally', 'know place', 'know please', 'know plus', 'know pouts', 'know really', 'know relatives', 'know rest', 'know result', 'know roommates', 'know rules', 'know satisfied', 'know second', 'know secretly', 'know send', 'know serving', 'know shall', 'know shes', 'know simply', 'know smeone', 'know so', 'know someone', 'know still', 'know strain', 'know stubborn', 'know supports', 'know sure', 'know swing', 'know taj', 'know take', 'know the', 'know theres', 'know theyre', 'know thing', 'know things', 'know thinkin', 'know thurs', 'know time', 'know to', 'know torrents', 'know track', 'know trying', 'know ur', 'know us', 'know want', 'know wat', 'know watchin', 'know way', 'know we', 'know weaknesses', 'know well', 'know wesleys', 'know whats', 'know whenever', 'know wicked', 'know wikipediacom', 'know wonderful', 'know wont', 'know worried', 'know wot', 'know wotu', 'know would', 'know yeah', 'know your', 'know youre', 'know youve', 'knowhe watching', 'knowing have', 'knowing may', 'knowing well', 'known facts', 'knowneway illspeak', 'knows aint', 'knows doesnt', 'knows guy', 'knows his', 'knows im', 'knows lunch', 'knows one', 'knows wants', 'knows your', 'knowthis week', 'knowwait check', 'knowyetunde hasnt', 'knw also', 'knw dat', 'knw dis', 'knw hate', 'knw nt', 'knw pa', 'knw ru', 'knw sivatats', 'knw tht', 'knw truth', 'knw vl', 'knw wt', 'ko kuch', 'kodstini grl', 'kodthini grl', 'konw waht', 'korche na', 'korean leonas', 'korte iccha', 'kotees birthday', 'kothi chikku', 'kothi print', 'kr ltgt', 'ksry knw', 'kthen come', 'kthen special', 'ktv oso', 'ku also', 'kuch nahi', 'kudiyarasu dhina', 'kusruthi lovable', 'kvb acc', 'kyou girl', 'kz sura', 'l8 cos', 'l8er got', 'l8r in', 'l8r malaria', 'l8r quite', 'l8r xxx', 'l8tr hunlove', 'l8tr uwana', 'la buffet', 'la ex', 'la kaiez', 'la my', 'la wana', 'la1 7ws', 'la3 2wu', 'la32wu 16', 'lab goggles', 'lab one', 'lab stuff', 'lab wat', 'labor will', 'lac crore', 'lacking particular', 'lacsthats prob', 'lacsthere source', 'laden will', 'ladies first', 'ladies gaze', 'ladies info', 'ladies running', 'ladiesu could', 'lady like', 'lady street', 'lady whole', 'lady xxxxxxxx', 'lag may', 'lag thats', 'lage thats', 'lager see', 'laid 2nite', 'laid airtel', 'laid tonight', 'laidwant real', 'lambu ji', 'lamp etc', 'lancaster got', 'land line', 'landing sell', 'landline 09058098002', 'landline 09064015307', 'landline 09064017305', 'landline 09064019788', 'landline 09111030116', 'landline 09111032124', 'landline 5000', 'landline claim', 'landline complimentary', 'landline cost', 'landline datebox1282essexcm61xn', 'landline delivery', 'landline lose', 'landline number', 'landline tcs', 'landline your', 'landmark big', 'lands us', 'lane roads', 'lane wtf', 'langport sorry', 'langport you', 'language words', 'lanre fakeyes', 'lap room', 'lapdancer love', 'laptop case', 'laptop get', 'laptop going', 'laptop got', 'laptop heavy', 'laptop my', 'laptop noe', 'laptop take', 'lar aiya', 'lar ard', 'lar busy', 'lar depends', 'lar double', 'lar dun', 'lar go', 'lar going', 'lar if', 'lar im', 'lar joking', 'lar jus', 'lar mayb', 'lar me', 'lar nearer', 'lar not', 'lar nydc', 'lar pick', 'lar sleep', 'lar still', 'lar then', 'lar tot', 'lar ull', 'lar wait', 'lar wan', 'lara said', 'laready reaching', 'large super', 'largest dogging', 'lasagna vodka', 'last 3mins', 'last bus', 'last buy', 'last caller', 'last chance', 'last days', 'last difficult', 'last exams', 'last four', 'last little', 'last ltgt', 'last min', 'last minute', 'last month', 'last night', 'last nightnobody', 'last nite', 'last nite2', 'last page', 'last practice', 'last second', 'last semester', 'last sight', 'last thing', 'last thought', 'last time', 'last two', 'last wednesday', 'last week', 'last weekends', 'last weeks', 'last year', 'lastest stereophonics', 'lasting much', 'late 1hr', 'late 2hrs', 'late afternoon', 'late ah', 'late already', 'late but', 'late ever', 'late fr', 'late goodnight', 'late home', 'late how', 'late im', 'late information', 'late lar', 'late leh', 'late love', 'late ltdecimalgt', 'late ltgt', 'late need', 'late night', 'late notice', 'late order', 'late paying', 'late reach', 'late reply', 'late said', 'late school', 'late since', 'late slept', 'late start', 'late still', 'late tellmiss', 'late think', 'late tomorrow', 'late tonight', 'late well', 'late when', 'late woould', 'late yest', 'late you', 'latebut kwish', 'latei shall', 'lately need', 'later afternoon', 'later alsoor', 'later ask', 'later bit', 'later bout', 'later call', 'later check', 'later come', 'later cos', 'later dont', 'later feed', 'later first', 'later fone', 'later free', 'later got', 'later great', 'later guess', 'later im', 'later in', 'later lar', 'later leave', 'later lor', 'later ltgt', 'later meeting', 'later normally', 'later ok', 'later or', 'later ortxt', 'later pls', 'later plus', 'later pple', 'later rite', 'later sar', 'later sha', 'later showing', 'later so', 'later though', 'later together', 'later tonight', 'later we', 'later wenwecan', 'later yeah', 'lateso call', 'latest camera', 'latest cameravideo', 'latest colour', 'latest gs', 'latest motorola', 'latest news', 'latest nokia', 'latest offers', 'latest orange', 'latest probably', 'latest sports', 'latest version', 'latest video', 'latests nokia', 'latr wid', 'laugh embarassed', 'laugh it', 'laugh love', 'laugh meanwhile', 'laugh really', 'laugh see', 'laugh soon', 'laugh try', 'laugh you', 'laughed amp', 'laughing da', 'laughing lor', 'laughing simple', 'laundry etc', 'laundry top', 'laurie thing', 'lautech its', 'law allows', 'law hope', 'law make', 'law meatballs', 'law never', 'laxinorficated opportunity', 'lay man', 'layin bedreal', 'laying around', 'lays rock', 'lazy bleak', 'lazy dun', 'lazy go', 'lazy got', 'lazy mode', 'lazy people', 'lazy though', 'lazy type', 'lazy working', 'lccltd pobox', 'ldn 18', 'ldn 18yrs', 'ldn wc1n3xx', 'ldnw15h 150pmtmsgrcvd18', 'le 61200', 'lead always', 'lead today', 'lead ur', 'leadership skills', 'leading bid', 'leads job', 'leafcutter john', 'leafdayno cancer', 'league people', 'learn 2nd', 'learn change', 'learn experience', 'learn pilates', 'learn truly', 'learn use', 'learned job', 'least armands', 'least get', 'least hows', 'least make', 'least making', 'least moment', 'least run', 'least tell', 'least unique', 'least wednesday', 'least writhing', 'least5times day', 'leastwhich price', 'leave always', 'leave around', 'leave bec', 'leave big', 'leave bit', 'leave but', 'leave class', 'leave couple', 'leave credit', 'leave de', 'leave department', 'leave dismay', 'leave finalise', 'leave friday', 'leave get', 'leave go', 'leave hour', 'leave hourish', 'leave house', 'leave im', 'leave key', 'leave line', 'leave long', 'leave ltgt', 'leave maybe', 'leave min', 'leave minute', 'leave mouse', 'leave msg', 'leave need', 'leave note', 'leave orchard', 'leave pongaldo', 'leave put', 'leave sat', 'leave since', 'leave think', 'leave today', 'leave topicsorry', 'leave wif', 'leave xy', 'leave youany', 'leave zahers', 'leaves good', 'leaves goodmorning', 'leaves ltgt', 'leaves nothin', 'leaves worries', 'leaving alone', 'leaving bout', 'leaving congrats', 'leaving earlier', 'leaving glasgow', 'leaving house', 'leaving qatar', 'leaving right', 'leaving shanghai', 'leaving soon', 'leaving thing', 'leaving yet', 'lect 12', 'lect cos', 'lect finishes', 'lect havent', 'lect lar', 'lect saw', 'lect today', 'lect wat', 'lecture cheery', 'lecture two', 'lecturer repeating', 'left already', 'left bedrm900', 'left bill', 'left but', 'left day', 'left dessert', 'left dinner', 'left early', 'left english', 'left guys', 'left hit', 'left ill', 'left lounge', 'left ltgt', 'left message', 'left miss', 'left mobile', 'left morning', 'left phone', 'left right', 'left sitting', 'left vague', 'left victors', 'left yet', 'leftovers time', 'leg hurts', 'legal advice', 'legal and', 'legal wen', 'legitimat efreefone', 'legs fuck', 'legs neck', 'leh and', 'leh booked', 'leh busy', 'leh cant', 'leh cos', 'leh din', 'leh dun', 'leh got', 'leh haha', 'leh if', 'leh later', 'leh mayb', 'leh of', 'leh reach', 'leh said', 'leh sleep', 'leh so', 'leh still', 'leh tot', 'lei but', 'lei decide', 'lei going', 'lei got', 'lei he', 'lei how', 'lei lazy', 'lei like', 'lei me', 'lei might', 'lei neva', 'lei next', 'lei shd', 'lei thinkin', 'lei thk', 'lei tot', 'lemme know', 'length top', 'lengths behalf', 'leona also', 'leona oops', 'leona still', 'leonardo room', 'leonas fave', 'les got', 'less contacts', 'less elsewhere', 'less expensive', 'less magical', 'less problematic', 'lesser known', 'lesson 8am', 'lesson already', 'lesson amp', 'lesson boytoy', 'lesson early', 'lesson first', 'lesson go', 'lesson gym', 'lesson lei', 'lesson many', 'lesson msg', 'lesson pilates', 'lesson tmr', 'lesson tonight', 'lessons den', 'lessons flung', 'lessons going', 'lessons haha', 'lessons happy', 'lessons sch', 'lessons start', 'lessons sun', 'let ask', 'let call', 'let careless', 'let fuck', 'let gently', 'let get', 'let go', 'let him', 'let hug', 'let know', 'let love', 'let math', 'let noe', 'let send', 'let sit', 'let snow', 'let studying', 'let text', 'let ur', 'let us', 'let want', 'let watch', 'lets dwn', 'lets early', 'lets find', 'lets friends', 'lets go', 'lets hold', 'lets just', 'lets know', 'lets make', 'lets meet', 'lets plan', 'lets pool', 'lets recount', 'lets send', 'lets talk', 'lets thank', 'lets use', 'letter car', 'letter gal', 'letter today', 'letters copy', 'letters expecting', 'letters gives', 'letters know', 'leu come', 'level series', 'li hai', 'liao ask', 'liao call', 'liao cant', 'liao cleaning', 'liao cut', 'liao days', 'liao den', 'liao go', 'liao he', 'liao huh', 'liao if', 'liao im', 'liao nice', 'liao sat', 'liao still', 'liao thk', 'liao too', 'liao wake', 'liao which', 'liao working', 'liaoso gd', 'liaotoo ex', 'lib got', 'libertines the', 'library class', 'library later', 'library stuff', 'library walk', 'lick every', 'lick pussy', 'licks take', 'lido got', 'lido same', 'lie brings', 'lie gud', 'lie keep', 'lie think', 'lies golden', 'lies lets', 'life all', 'life alle', 'life anything', 'life begin', 'life brought', 'life but', 'life die', 'life difficult', 'life dont', 'life easier', 'life empty', 'life ends', 'life everything', 'life face', 'life fair', 'life first', 'life follow', 'life good', 'life gud', 'life happen', 'life have', 'life he', 'life heart', 'life imagine', 'life know', 'life lift', 'life lol', 'life love', 'life means', 'life named', 'life never', 'life next', 'life nothing', 'life partners', 'life perfect', 'life photo', 'life pockets', 'life sometimes', 'life spend', 'life stressfull', 'life strict', 'life style', 'life the', 'life try', 'life ur', 'life vava', 'life walk', 'life way', 'life went', 'life without', 'life would', 'life years', 'lifeand keep', 'lifebook good', 'lifeis waking', 'lifethis twat', 'lifetime may', 'lifetime send', 'lifeyou need', 'lifpartnr belovd', 'lift cos', 'lift losing', 'lift phne', 'lift see', 'lifted hopes', 'lifting one', 'light armand', 'light cell', 'light darker', 'light everyone', 'light someone', 'light turned', 'light waiting', 'lighters find', 'lightly think', 'lik come', 'lik frndshp', 'lik ill', 'lik sending', 'lik stay', 'like actually', 'like ah', 'like aids', 'like alian', 'like all', 'like already', 'like and', 'like becaus', 'like best', 'like better', 'like big', 'like block', 'like bowls', 'like bpo', 'like buff', 'like bus', 'like call', 'like chat', 'like cheap', 'like choosing', 'like comin', 'like could', 'like cuz', 'like dat', 'like def', 'like deserve', 'like dick', 'like died', 'like din', 'like dis', 'like does', 'like dont', 'like dun', 'like em', 'like entrepreneurs', 'like essential', 'like everyone', 'like fifteen', 'like found', 'like fr', 'like friends', 'like fun', 'like gd', 'like girl', 'like go', 'like goes', 'like going', 'like good', 'like half', 'like happens', 'like hell', 'like hi', 'like hills', 'like hits', 'like hlday', 'like hotel', 'like hour', 'like hours', 'like id', 'like if', 'like ill', 'like im', 'like india', 'like insects', 'like italian', 'like jan', 'like john', 'like judgementali', 'like keep', 'like king', 'like know', 'like last', 'like listening', 'like lol', 'like looking', 'like lor', 'like lot', 'like love', 'like ltgt', 'like mac', 'like made', 'like mah', 'like make', 'like man', 'like manky', 'like many', 'like march', 'like mb', 'like me', 'like minded', 'like mine', 'like minutes', 'like mofo', 'like mr', 'like needle', 'like never', 'like newport', 'like nice', 'like noon', 'like number', 'like ok', 'like participate', 'like passwordsatmsms', 'like peeps', 'like pendent', 'like peoples', 'like personal', 'like pig', 'like pink', 'like plan', 'like proper', 'like quite', 'like rain', 'like randomlly', 'like restrictions', 'like right', 'like sachinjust', 'like said', 'like say', 'like see', 'like selling', 'like send', 'like sexy', 'like shaking', 'like shock', 'like shorter', 'like showed', 'like single', 'like so', 'like something', 'like speak', 'like spoiled', 'like spoilt', 'like sub', 'like sunny', 'like swimming', 'like talk', 'like tallahassee', 'like tell', 'like telling', 'like ten', 'like that', 'like thats', 'like theyre', 'like things', 'like think', 'like thisdon', 'like three', 'like times', 'like told', 'like torture', 'like traveling', 'like treated', 'like try', 'like trying', 'like turkeys', 'like ur', 'like watch', 'like weird', 'like well', 'like wil', 'like wont', 'like would', 'like wouldnt', 'like wrong', 'like year', 'liked new', 'liked ones', 'liked photos', 'liked since', 'liked someone', 'likely book', 'likely called', 'likely to', 'likes dislikes', 'likes next', 'likeyour havin', 'likingbe that', 'lil beverage', 'lil fever', 'lily txt', 'lim look', 'limit gods', 'limited minutes', 'limiting illness', 'limits worries', 'limping slowly', 'lindsay new', 'line 01223585334', 'line 09050000878', 'line 09050000928', 'line 09050005321', 'line big', 'line claim', 'line hurt', 'line just', 'line paragraphs', 'line rental', 'line rest', 'line said', 'line valid', 'line via', 'linear algebra', 'lined us', 'linerental 449month', 'linerental 500', 'linerental latest', 'linerental motorola', 'lines close', 'lines ever', 'lineyou much', 'lingerie wwwbridalpetticoatdreamscouk', 'lingo let', 'link get', 'link next', 'link pc', 'link picture', 'link reply', 'link sent', 'link us', 'link vl', 'links keep', 'linux systems', 'lion devouring', 'lion something', 'lionm mono', 'lionp poly', 'lions england', 'lip caveboy', 'lip synced', 'lips wheres', 'liquor our', 'list buyers', 'list easy', 'list joanna', 'list reasons', 'list wwwfullonsmscom', 'listed da', 'listen aha', 'listen anything', 'listen cannt', 'listen dont', 'listen email', 'listen hear', 'listen less', 'listen like', 'listen tell', 'listen to', 'listen told', 'listen voice', 'listener ltgt', 'listening 60p', 'listening music', 'listening songs', 'listening2the weirdest', 'listn watevr', 'lists then', 'lit hair', 'literally asked', 'literally bed', 'litres watrdayno', 'little bit', 'little bored', 'little buddy', 'little child', 'little closer', 'little darlings', 'little difficult', 'little early', 'little experience', 'little getting', 'little interesting', 'little meds', 'little ones', 'little party', 'little pocy', 'little ready', 'little spreadsheet', 'little thing', 'little things', 'little thought', 'little time', 'little useful', 'little weather', 'little whileamp', 'live 121', 'live anymore', 'live call', 'live chat', 'live dream', 'live fantasies', 'live high', 'live im', 'live is', 'live jst', 'live local', 'live ltgt', 'live mess', 'live next', 'live operator', 'live service', 'live sex', 'live smokes', 'live the', 'live think', 'live town', 'live ur', 'live us', 'live with', 'lived happily', 'liver and', 'liverpool henry', 'liverpool played', 'lives around', 'lives love', 'lives thanks', 'living christ', 'living good', 'living jungle', 'living simple', 'lk sun', 'lk tt', 'llspeak 2u', 'lm always', 'lmao fun', 'lmao know', 'lmao ok', 'lmao take', 'lmao wheres', 'lnly hope', 'lo lesson', 'lo oso', 'load card', 'loads get', 'loads goodies', 'loads loans', 'loads love', 'loads money', 'loads planning', 'loads put', 'loads reasons', 'loads sugar', 'loads work', 'loan ill', 'loan ltgt', 'loan need', 'loan purpose', 'loan secured', 'loan stapati', 'loan think', 'loans pay', 'loans purpose', 'local dates', 'local hospital', 'local luv', 'local text', 'local virgins', 'local women', 'location nyc', 'location wif', 'locations sent', 'locations wwwphb1com', 'lock keypad', 'lock locks', 'locks leave', 'log face', 'log icicibankcom', 'log marking', 'log onto', 'log usc', 'log wat', 'logged like', 'logging desert', 'login 3qxj9', 'login anything', 'login dat', 'login unsubscribe', 'logo pic', 'logo ur', 'logoff sound', 'logon txting', 'logopic message', 'logos games', 'logosmusicnews get', 'loko night', 'lol alright', 'lol always', 'lol boo', 'lol come', 'lol could', 'lol dont', 'lol drunkard', 'lol enjoy', 'lol forgot', 'lol gonna', 'lol great', 'lol grins', 'lol grr', 'lol happens', 'lol have', 'lol hope', 'lol im', 'lol just', 'lol knew', 'lol know', 'lol luckily', 'lol mad', 'lol missed', 'lol nah', 'lol need', 'lol no', 'lol oh', 'lol ok', 'lol oops', 'lol ouch', 'lol please', 'lol real', 'lol really', 'lol right', 'lol shes', 'lol should', 'lol sighs', 'lol still', 'lol take', 'lol thats', 'lol think', 'lol trust', 'lol well', 'lol wont', 'lol would', 'lol woulda', 'lol wtf', 'lol yeah', 'lol yep', 'lol yes', 'lolnice went', 'lololo ok', 'london 02072069400', 'london smashed', 'london treatin', 'london w1a', 'london w1j', 'loneliness know', 'lonely go', 'lonely text', 'lonely today', 'lonely xxx', 'long ago', 'long applebees', 'long bath', 'long beach', 'long cant', 'long cos', 'long day', 'long distance', 'long dry', 'long family', 'long fuckin', 'long get', 'long got', 'long hair', 'long hope', 'long keep', 'long leave', 'long legal', 'long moment', 'long omw', 'long quit', 'long reply', 'long since', 'long spoke', 'long story', 'long take', 'long time', 'long timehope', 'long way', 'long world', 'longer comin', 'longer crowd', 'longer darren', 'longer hour', 'longer pisces', 'longer syria', 'longer than', 'lonlines lotz', 'loo helloed', 'look after', 'look at', 'look back', 'look da', 'look flat', 'look forward', 'look frying', 'look gong', 'look got', 'look house', 'look hugging', 'look ireneere', 'look like', 'look longer', 'look month', 'look mp3', 'look nice', 'look picture', 'look pretty', 'look sex', 'look timings', 'look tomorrow', 'look ur', 'look us', 'look usf', 'lookatme thanks', 'lookatme youve', 'looked addie', 'looked horrible', 'looked since', 'looked thru', 'lookin 4ward', 'lookin around', 'lookin oredi', 'lookin pick', 'lookin saucy', 'lookin strong', 'looking car', 'looking discreet', 'looking empty', 'looking excuse', 'looking figure', 'looking forward', 'looking good', 'looking guys', 'looking job', 'looking make', 'looking okvarunnathu', 'looking pick', 'looking really', 'looking reason', 'looking shit', 'looking skinny', 'looking stock', 'looking wan', 'looking weed', 'looks like', 'looks normal', 'looks scrumptious', 'loooooool that', 'looovvve leaving', 'loose weight', 'loose worldgnun', 'loosu go', 'lor actually', 'lor aft', 'lor aiya', 'lor anyway', 'lor ard', 'lor ate', 'lor bit', 'lor but', 'lor call', 'lor cant', 'lor change', 'lor coming', 'lor cos', 'lor da', 'lor days', 'lor decide', 'lor den', 'lor dun', 'lor early', 'lor except', 'lor expected', 'lor faster', 'lor finish', 'lor forgot', 'lor free', 'lor funny', 'lor go', 'lor goin', 'lor haha', 'lor hair', 'lor he', 'lor hee', 'lor how', 'lor if', 'lor im', 'lor its', 'lor juz', 'lor keep', 'lor leh', 'lor like', 'lor msg', 'lor muz', 'lor ned', 'lor never', 'lor nice', 'lor no', 'lor not', 'lor ok', 'lor one', 'lor or', 'lor place', 'lor poor', 'lor put', 'lor reaching', 'lor saw', 'lor so', 'lor sony', 'lor sorry', 'lor still', 'lor thanx', 'lor them', 'lor then', 'lor thk', 'lor toa', 'lor tot', 'lor uni', 'lor ur', 'lor wah', 'lor wait', 'lor wan', 'lor wat', 'lor watch', 'lor we', 'lor where', 'lor whole', 'lor will', 'lor workin', 'lor ya', 'lord of', 'lorgoin drivin', 'lorwe go', 'lose best', 'lose box434sk38wp150ppm18', 'lose bt', 'lose fats', 'lose kg', 'lose lose', 'lose pound', 'lose ur', 'lose weight', 'lose win', 'loses person', 'losing heartgn', 'losing live', 'losing temper', 'loss gain', 'loss sweet', 'loss temp', 'lost 10', 'lost 12', 'lost 3pound', 'lost fact', 'lost hes', 'lost ill', 'lost pounds', 'lost weight', 'lost will', 'lot dear', 'lot friendofafriend', 'lot happened', 'lot hesitation', 'lot know', 'lot memories', 'lot model', 'lot not', 'lot pple', 'lot quality', 'lot right', 'lot sickness', 'lot stoners', 'lot terms', 'lot thats', 'lot things', 'lot time', 'lot timeslil', 'lot tol', 'lot turns', 'lot ur', 'lot wishes', 'lot work', 'loti already', 'lotr june', 'lotr sis', 'lotr soundtrack', 'lots aft', 'lots baby', 'lots cash', 'lots hair', 'lots just', 'lots love', 'lots loverakhesh', 'lots new', 'lots of', 'lots places', 'lots presents', 'lots supportvery', 'lots tea', 'lots tv', 'lots used', 'lots vitamin', 'lots water', 'lotsof luv', 'lotta childporn', 'lotta corvettes', 'lotto tickets', 'lotwill spin', 'lotwill tell', 'lotz lot', 'lou sorry', 'lou yeah', 'loud if', 'loud scream', 'lounge nice', 'lounge passes', 'lousy autocorrect', 'lousy run', 'lousy sleep', 'lov care', 'lov line', 'lovable bcums', 'lovable persons', 'lovable reply', 'lovable silent', 'love 1u', 'love aathilove', 'love across', 'love adam', 'love ahmad', 'love amp', 'love and', 'love annie', 'love answered', 'love any', 'love anyone', 'love are', 'love arrange', 'love as', 'love ass', 'love babe', 'love bcoz', 'love be', 'love bslvyl', 'love but', 'love chat', 'love compromised', 'love craziest', 'love cuddle', 'love daddy', 'love day', 'love dearly', 'love did', 'love do', 'love especially', 'love evry1', 'love find', 'love fran', 'love franyxxxxx', 'love frndship', 'love give', 'love giving', 'love go', 'love grl', 'love had', 'love have', 'love hear', 'love holiday', 'love hope', 'love how', 'love if', 'love im', 'love in', 'love isnt', 'love it', 'love janx', 'love jeevithathile', 'love jen', 'love jenny', 'love jess', 'love kano', 'love kate', 'love kisses', 'love let', 'love life', 'love limit', 'love lion', 'love little', 'love lot', 'love loving', 'love ltgt', 'love man', 'love marriage', 'love me', 'love means', 'love mi', 'love mind', 'love mmmm', 'love much', 'love mum', 'love name1', 'love nicky', 'love one', 'love people', 'love person', 'love pete', 'love petexxx', 'love plenty', 'love satisfy', 'love see', 'love send', 'love sex', 'love shall', 'love sighs', 'love smiles', 'love someone', 'love someonethat', 'love sooo', 'love soooo', 'love south', 'love start', 'love sweet', 'love tell', 'love the', 'love think', 'love wait', 'love want', 'love what', 'love wine', 'love wish', 'love words', 'love working', 'love worlds', 'love xxx', 'love xxxxxxxxxxxxxx', 'love ya', 'love you', 'love youso', 'loveable eternal', 'loved anyone', 'loved cared', 'loved gal', 'loved loving', 'loved ones', 'loved owned', 'loved send', 'loved truly', 'loved waking', 'lovejen xxx', 'lovely cup', 'lovely friendship', 'lovely frndship', 'lovely holiday', 'lovely night', 'lovely reply', 'lovely see', 'lovely shall', 'lovely smell', 'lovely sure', 'lovely wisheds', 'loveme xxxx', 'loveme xxxxx', 'lover chef', 'lover dear1', 'lover how', 'lover names', 'lover need', 'loverakhesh nri', 'loverboy hope', 'loverboy how', 'loverboy love', 'loverboy miss', 'loverboy what', 'lovers becz', 'lovers supreme', 'loves but', 'loves much', 'loves ques', 'loves see', 'loves vry', 'loving adjustable', 'loving also', 'loving arpraveesh', 'loving gopalettan', 'loving kiss', 'loving smile', 'loving someone', 'loving you', 'lovingly touched', 'low babe', 'lowcost prescripiton', 'lower number', 'lower seat', 'lowes boring', 'loxahatchee xmas', 'loyal mobile', 'loyalty call', 'loyalty offer', 'loyalty offerthe', 'lrg portions', 'ls1 3aj', 'ls15hb 150p', 'lst nite', 'lst nitw', 'lt 25', 'ltd 08700621170150p', 'ltd 150mtmsgrcvd18', 'ltd connected', 'ltd e14', 'ltd infovipclub4u', 'ltd po', 'ltd suite', 'ltdecimalgt amp', 'ltdecimalgt cleaning', 'ltdecimalgt common', 'ltdecimalgt credited', 'ltdecimalgt hour', 'ltdecimalgt ill', 'ltdecimalgt lakhs', 'ltdecimalgt ltgt', 'ltdecimalgt min', 'ltdecimalgt ok', 'ltdecimalgt pm', 'ltdecimalgt refund', 'ltdecimalgt so', 'ltdecimalgt today', 'ltdecimalgt your', 'ltdhelpdesk 02085076972', 'ltemailgt kerala', 'ltgt 3g', 'ltgt 5gently', 'ltgt 725', 'ltgt 863', 'ltgt 924', 'ltgt account', 'ltgt add', 'ltgt added', 'ltgt afternoon', 'ltgt aha', 'ltgt are', 'ltgt athletic', 'ltgt bb', 'ltgt bc', 'ltgt beerrs', 'ltgt bucks', 'ltgt bus', 'ltgt call', 'ltgt case', 'ltgt century', 'ltgt charge', 'ltgt cheese', 'ltgt come', 'ltgt confirm', 'ltgt courageous', 'ltgt crore', 'ltgt cstore', 'ltgt da', 'ltgt dad', 'ltgt day', 'ltgt deal', 'ltgt degrees', 'ltgt dependable', 'ltgt determined', 'ltgt do', 'ltgt dollar', 'ltgt dollars', 'ltgt dont', 'ltgt driver', 'ltgt easy', 'ltgt even', 'ltgt every', 'ltgt fast', 'ltgt feel', 'ltgt frnds', 'ltgt get', 'ltgt good', 'ltgt great', 'ltgt half', 'ltgt healer', 'ltgt help', 'ltgt hours', 'ltgt hrs', 'ltgt ibuprofens', 'ltgt ill', 'ltgt inches', 'ltgt intelligent', 'ltgt iq', 'ltgt irritating', 'ltgt is', 'ltgt ish', 'ltgt jan', 'ltgt janarige', 'ltgt jetton', 'ltgt joker', 'ltgt just', 'ltgt kg', 'ltgt kits', 'ltgt lac', 'ltgt lacsthats', 'ltgt lacsthere', 'ltgt leave', 'ltgt lovable', 'ltgt love', 'ltgt ltgt', 'ltgt lttimegt', 'ltgt luks', 'ltgt mca', 'ltgt mesages', 'ltgt min', 'ltgt mins', 'ltgt minutes', 'ltgt morning', 'ltgt movie', 'ltgt naal', 'ltgt never', 'ltgt night', 'ltgt oh', 'ltgt ok', 'ltgt organizer', 'ltgt otherwise', 'ltgt oz', 'ltgt pa', 'ltgt pest', 'ltgt petrolrs', 'ltgt pls', 'ltgt pm', 'ltgt pple', 'ltgt psychiatrist', 'ltgt psychologist', 'ltgt question', 'ltgt rd', 'ltgt religiously', 'ltgt reunion', 'ltgt right', 'ltgt rs', 'ltgt rs5', 'ltgt rsi', 'ltgt saw', 'ltgt seconds', 'ltgt select', 'ltgt sent', 'ltgt shesil', 'ltgt so', 'ltgt social', 'ltgt starts', 'ltgt still', 'ltgt street', 'ltgt stylist', 'ltgt sympathetic', 'ltgt telephonic', 'ltgt th', 'ltgt thats', 'ltgt think', 'ltgt this', 'ltgt times', 'ltgt toyota', 'ltgt true', 'ltgt twiggs', 'ltgt units', 'ltgt versus', 'ltgt very', 'ltgt warm', 'ltgt way', 'ltgt week', 'ltgt wifi', 'ltgt worth', 'ltgt year', 'ltgt years', 'ltgt yrs', 'lttimegt am', 'lttimegt ltgt', 'lttimegt not', 'lttimegt pm', 'lttrs bt', 'lubly love', 'luck come', 'luck draw', 'luck for', 'luck love', 'luck no', 'luck sorting', 'luck ur', 'luck win', 'luck2 catches', 'luckily didnt', 'lucky dad', 'lucky day', 'lucky day2', 'lucky day2find', 'lucky havent', 'lucky im', 'lucky man', 'lucky night', 'lucky none', 'lucky see', 'lucky told', 'lucky winner', 'lucky workin', 'lucozade energy', 'lucozadecoukwrc itcould', 'lucy calls', 'lucy hubby', 'luks good', 'lul im', 'lunch after', 'lunch aha', 'lunch alone', 'lunch already', 'lunch break', 'lunch buffet', 'lunch but', 'lunch come', 'lunch den', 'lunch eat', 'lunch go', 'lunch haha', 'lunch im', 'lunch invited', 'lunch la', 'lunch lor', 'lunch menu', 'lunch senor', 'lunch still', 'lunch tmr', 'lunch today', 'lunch way', 'lunch wif', 'lunch yup', 'lunchtime shall', 'lunchyou onlinewhy', 'lush id', 'luton 0125698789', 'luv claire', 'luv dan', 'luv dena', 'luv evr', 'luv franxx', 'luv hear', 'luv if', 'luv ive', 'luv jane', 'luv jaz', 'luv jenxxx', 'luv kate', 'luv kettoda', 'luv letter', 'luv millions', 'luv mj', 'luv nikiyu4net', 'luv probthat', 'luv rain', 'luv rays', 'luv soo', 'luv thing', 'luv vth', 'luv vtired', 'luv wid', 'luv xxx', 'luv xxxx', 'luv ya', 'luv yaxx', 'luvd lucky', 'luvnight brings', 'luvs some1', 'lux costa', 'luxury are', 'luxury canary', 'lv lttrs', 'lvblefrnd jstfrnd', 'lyf ali', 'lyf nt', 'lyfu astne', 'lyfu meow', 'lying then', 'lyk greeni', 'lyricalladie21f inviting', 'm100 gd', 'm221bp 2yr', 'm227xy 150ppm', 'm227xy 16', 'm26 3uz', 'm263uz 300', 'm39m51 150pmmorefrommobile2bremovedmobypobox734ls27yf', 'm6 6wu', 'm8 lovejen', 'm8 they', 'm8s txt', 'm95 valid12hrs', 'ma head', 'maaaan missing', 'maangalyam alaipayuthe', 'maat means', 'mac 830', 'mac my', 'macedonia dont', 'macha dont', 'machan call', 'machan go', 'machan goodnight', 'machiany problem', 'machines right', 'macho much', 'macho price', 'macho question', 'mack gf', 'macs eat', 'mad first', 'mad many', 'mad1 real', 'mad2 88888', 'madam take', 'madamregret disturbancemight', 'made and', 'made appointment', 'made awesome', 'made changes', 'made comes', 'made day', 'made eta', 'made friday', 'made frm', 'made fun', 'made greatness', 'made hold', 'made home', 'made lovely', 'made mistakeu', 'made ok', 'made payments', 'made plans', 'made preschoolcoordinator', 'made students', 'made studentsthis', 'made throw', 'made truly', 'made us', 'made wait', 'made walking', 'madodu nav', 'madoke barolla', 'madstini grl', 'madthen correctionor', 'mag meeting', 'mag people', 'maga money', 'magazine telephone', 'maggi mee', 'magic you', 'magical sight', 'mah ask', 'mah cos', 'mah eat', 'mah hard', 'mah ill', 'mah im', 'mah juz', 'mah or', 'mah today', 'mahal bus', 'mahal symbol', 'mail also', 'mail box', 'mail check', 'mail com', 'mail dayswill', 'mail dileepthank', 'mail do', 'mail id', 'mail idconvey', 'mail im', 'mail in', 'mail know', 'mail link', 'mail thrurespect', 'mail tonitebusy', 'mailbox messaging', 'mailed varma', 'maili mailed', 'mails lor', 'main sources', 'maintain till', 'maintaining stuff', 'major person', 'major roles', 'make air', 'make appointment', 'make baby', 'make bed', 'make beg', 'make belly', 'make call', 'make calls', 'make clear', 'make contact', 'make cry', 'make day', 'make delivery', 'make dinner', 'make face', 'make fall', 'make fb', 'make feel', 'make fucking', 'make fucks', 'make girl', 'make girls', 'make greet', 'make happy', 'make hav', 'make horny', 'make im', 'make lasagna', 'make life', 'make list', 'make little', 'make loads', 'make love', 'make meet', 'make moan', 'make money', 'make musical', 'make ne', 'make new', 'make note', 'make ok', 'make oreo', 'make pain', 'make pretty', 'make profit', 'make promises', 'make regular', 'make relax', 'make reservations', 'make rest', 'make saturday', 'make scream', 'make sense', 'make shes', 'make smile', 'make squeezed', 'make stink', 'make strike', 'make sure', 'make sweet', 'make tea', 'make things', 'make time', 'make tonight', 'make trip', 'make ur', 'make us', 'make use', 'make wedding', 'make wet', 'make xavier', 'makes bottom', 'makes computer', 'makes difficult', 'makes even', 'makes feel', 'makes happy', 'makes life', 'makes mistakes', 'makes people', 'makes senrddnot', 'makes sense', 'makes so', 'makes things', 'makes thk', 'makes us', 'makes want', 'makiing sambarlife', 'makin happy', 'makin weirdy', 'making another', 'making babies', 'making bed', 'making big', 'making birthday', 'making chicken', 'making day', 'making dinner', 'making easy', 'making everyone', 'making feel', 'making love', 'making money', 'making pics', 'making see', 'making sure', 'making think', 'making tortilla', 'making unhappy', 'making wait', 'malaria but', 'malaria know', 'malaria meds', 'malaria she', 'male gigolo', 'male sale', 'mall iouri', 'mall or', 'mallika sherawat', 'man accidentally', 'man accounts', 'man all', 'man answer', 'man bus', 'man cant', 'man car', 'man carlos', 'man everyday', 'man feel', 'man gang', 'man hockey', 'man isnt', 'man just', 'man know', 'man last', 'man make', 'man mine', 'man money', 'man much', 'man murdered', 'man my', 'man please', 'man satisfy', 'man see', 'man stash', 'man then', 'man was', 'man well', 'man you', 'manage after', 'managed minutes', 'managed thats', 'management office', 'management puzzeles', 'manda have', 'mandara movie', 'mandy sullivan', 'maneesha wed', 'manege yday', 'mango size', 'manky scouse', 'manual show', 'many 4some1', 'many beers', 'many buy', 'many company', 'many days', 'many dependents', 'many free', 'many fucking', 'many good', 'many guesses', 'many happy', 'many hoops', 'many licks', 'many local', 'many many', 'many messages', 'many miles', 'many miss', 'many mistakes', 'many modelsony', 'many movies', 'many mths', 'many page', 'many pages', 'many pending', 'many people', 'many pesky', 'many players', 'many reasons', 'many responsibilities', 'many returns', 'many ringtones', 'many sensesrespect', 'many slices', 'many sweets', 'many talents', 'many things', 'many times', 'many unfortunately', 'many years', 'map not', 'map reading', 'map ur', 'mapquest something', 'maps place', 'maraikara pa', 'march better', 'march can', 'march el', 'march ending', 'march ends', 'march hope', 'march ish', 'march ive', 'march my', 'maretare inde', 'margaret hello', 'margin 78', 'mark distract', 'mark dream', 'mark getting', 'mark im', 'mark right', 'mark taking', 'mark works', 'market 8th', 'market hotel', 'marketing reply', 'marley dizzee', 'marriage dancing', 'marriage function', 'marriage police', 'marriage walkin', 'marriageprogram edhae', 'married like', 'married local', 'married mumtazs', 'married person', 'married woman', 'marry lovers', 'marry mumtaz', 'marry try', 'marry ur', 'marsms log', 'marvel mobile', 'mary jane', 'mas happy', 'masked messagesim', 'massages use', 'massagetiepos argh', 'massive gut', 'massive pain', 'masteriastering amplikater', 'masters and', 'masters cant', 'masters when', 'mat 87021', 'match 69969', 'match heading', 'match office', 'match please', 'match startedindia', 'matched reply', 'matches call', 'matches cc100pmin', 'matches instantly', 'matches please', 'mate babysit', 'mate catching', 'mate cos', 'mate getting', 'mate guess', 'mate haunt', 'mate hows', 'mate lucky', 'mate pete', 'mate rv', 'mate spoke', 'mate which', 'mates etc', 'mates gone', 'mates phone', 'mates play', 'mates wwwgetzedcouk', 'mates zed', 'math promise', 'math your', 'mathe en', 'mathews tait', 'maths one', 'matra ltgt', 'matric card', 'matrix3 starwars3', 'matter my', 'mattermsg nowi', 'matters getting', 'matthew please', 'matured stylish', 'maturity start', 'max 50', 'max very', 'max6month tcsc', 'maximize ur', 'maximum bid', 'may 2005', 'may add', 'may address', 'may also', 'may approve', 'may around', 'may behave', 'may bribe', 'may business', 'may call', 'may canceled', 'may claim', 'may come', 'may coz', 'may day', 'may entitled', 'may find', 'may free', 'may get', 'may go', 'may gods', 'may it', 'may know', 'may leave', 'may lesson', 'may may', 'may meaningless', 'may never', 'may not', 'may pub', 'may send', 'may smile', 'may still', 'may tonsolitusaswell', 'may ur', 'may wonder', 'mayb bag', 'mayb dun', 'mayb haf', 'mayb ill', 'mayb interested', 'mayb lor', 'mayb need', 'mayb neva', 'mayb prob', 'mayb try', 'mayb ure', 'mayb xy', 'maybe 530', 'maybe 7ish', 'maybe ask', 'maybe cld', 'maybe could', 'maybe entitled', 'maybe even', 'maybe fat', 'maybe find', 'maybe got', 'maybe hamster', 'maybe hour', 'maybe if', 'maybe ill', 'maybe interviews', 'maybe leave', 'maybe meet', 'maybe mum', 'maybe pressies', 'maybe ready', 'maybe reboot', 'maybe say', 'maybe thats', 'maybe today', 'maybe westshore', 'maybe wrong', 'maybe youd', 'mca but', 'mcat got', 'mcat study', 'me also', 'me an', 'me at', 'me avent', 'me babe', 'me baby', 'me bedroomlove', 'me bored', 'me call', 'me do', 'me dont', 'me even', 'me fineabsolutly', 'me from', 'me funny', 'me gt', 'me have', 'me hope', 'me hopeu', 'me hungry', 'me if', 'me im', 'me in', 'me like', 'me little', 'me mark', 'me my', 'me online', 'me outside', 'me please', 'me postcard', 'me ring', 'me sch', 'me see', 'me sef', 'me still', 'me stop', 'me text', 'me up', 'me waiting', 'me waking', 'me watching', 'me when', 'me xxx', 'meal donyt', 'meal free', 'meal tonight', 'meal us', 'meals only', 'mean almost', 'mean come', 'mean confirmed', 'mean games', 'mean get', 'mean great', 'mean groovy', 'mean guess', 'mean ham', 'mean how', 'mean intrude', 'mean king', 'mean left', 'mean ltgt', 'mean post', 'mean send', 'mean texting', 'mean website', 'meaning dormitory', 'meaning hello', 'meaning miss', 'meaningful lines', 'meaningless moments', 'means computational', 'means could', 'means days', 'means enemy', 'means fat', 'means february', 'means get', 'means good', 'means got', 'means havent', 'means king', 'means lie', 'means life', 'means lot', 'means married', 'means record', 'means right', 'means shouting', 'means still', 'meant another', 'meant apology', 'meant calculation', 'meant crammed', 'meant fatty', 'meant joke', 'meant mary', 'meant middle', 'meant money', 'meant opposed', 'meant say', 'meant signing', 'meant yep', 'meanwhile hows', 'meanwhile shit', 'meanwhile talk', 'meare missing', 'measure ethnicity', 'measure fri', 'measure gods', 'meat lovers', 'meatballs grins', 'mecause werebored', 'med holiday', 'med kick', 'med popcornjust', 'medical college', 'medical education', 'medical insurance', 'medical missions', 'medical places', 'medicine visit', 'medont worry', 'meds arent', 'meds ruining', 'meds say', 'meds says', 'meds vomit', 'meet 11', 'meet 1pm', 'meet 945', 'meet afterwards', 'meet ah', 'meet already', 'meet another', 'meet as', 'meet bhaskar', 'meet bishan', 'meet bristol', 'meet bugis', 'meet call', 'meet carlos', 'meet chat', 'meet combine', 'meet confirm', 'meet corporation', 'meet cya', 'meet dat', 'meet day', 'meet de', 'meet dinner', 'meet discuss', 'meet dreams', 'meet em', 'meet even', 'meet exciting', 'meet fren', 'meet got', 'meet greet', 'meet he', 'meet hrs', 'meet l8r', 'meet later', 'meet lect', 'meet library', 'meet lobby', 'meet lunch', 'meet me', 'meet monday', 'meet mountains', 'meet mrt', 'meet next', 'meet online', 'meet othrs', 'meet outside', 'meet rummer', 'meet satü', 'meet send', 'meet someone', 'meet soon', 'meet sooner', 'meet sunoco', 'meet today', 'meet town', 'meet up', 'meet ur', 'meet we', 'meet xy', 'meet yck', 'meetgreet westlife', 'meetin cha', 'meetin dinner', 'meetin lunch', 'meetin up', 'meeting avo', 'meeting call', 'meeting confirmed', 'meeting da', 'meeting darren', 'meeting dinner', 'meeting five', 'meeting fren', 'meeting friend', 'meeting ill', 'meeting later', 'meeting pm', 'meeting rite', 'meeting sir', 'meeting still', 'meeting supervisor', 'meeting thing', 'meeting tmr', 'meeting today', 'meeting want', 'meeting work', 'meetins day', 'meetitz 4few', 'meets smiling', 'meets well', 'mega bill', 'mega shop', 'meh heavy', 'meh thgt', 'meh when', 'meh work', 'mei didt', 'mei reply', 'mei tell', 'mei wait', 'mei would', 'meim office', 'meis ex', 'meive hardly', 'mel ah', 'melike 4a', 'melle melle', 'melle oru', 'melnite ifink', 'melt hit', 'melt sunlight', 'member offers', 'member said', 'member wit', 'members get', 'members up', 'membership 100000', 'membership px3748', 'membershiptake careinsha', 'memories feeling', 'memory need', 'men acid', 'men also', 'men always', 'men changed', 'men home', 'men left', 'men like', 'men lunch', 'men text', 'meneed pay', 'mens club', 'mental ability', 'mention cover', 'mentionedtomorrow latei', 'mentionned chinese', 'mentor 100', 'menu da', 'menu know', 'meok chikkub', 'meow meowd', 'merely relationshipits', 'merememberin asthere', 'meremove teeth', 'merry christmas', 'merry mas', 'merry xmas', 'mesages today', 'meshe first', 'meso far', 'mess another', 'mess came', 'message 07008009200', 'message activate', 'message awaiting', 'message brought', 'message call', 'message center', 'message click', 'message days', 'message download', 'message email', 'message explain', 'message free', 'message fun', 'message great', 'message hope', 'message ignoring', 'message ill', 'message important', 'message info', 'message know', 'message left', 'message lor', 'message my', 'message offer', 'message please', 'message plus', 'message proof', 'message really', 'message resend', 'message right', 'message say', 'message sent', 'message so', 'message speak', 'message that', 'message theredo', 'message this', 'message thought', 'message truro', 'message waiting', 'message word', 'message zogtorius', 'messaged would', 'messageit da', 'messageits smiling', 'messageno responcewhat', 'messagepandy mental', 'messages had', 'messages hope', 'messages matches', 'messages messenger', 'messages new', 'messages phone', 'messages reply', 'messages replying', 'messages sent', 'messages since', 'messages sup', 'messages to', 'messages valid', 'messages waiting', 'messages without', 'messages you', 'messagesim sending', 'messagesome text', 'messagestext ok', 'messagethanks using', 'messaging sms', 'messed upyeh', 'messenger just', 'messenger lik', 'messy haha', 'messy wednesday', 'met evn', 'met insurance', 'met person', 'met stranger', 'met town', 'met walkabout', 'met why', 'met yet', 'method calculation', 'mfl po', 'mgs billed', 'mi phone', 'mia elliot', 'michael good', 'mid feb', 'mid february', 'mid january', 'mid march', 'mid time', 'mid week', 'middle da', 'middle left', 'middle school', 'midnight earliest', 'midnight huh', 'midnight movie', 'midnight thanks', 'midnight tomorrow', 'mids hes', 'might able', 'might accidant', 'might ax', 'might back', 'might call', 'might cancer', 'might cheaper', 'might come', 'might couple', 'might drive', 'might drop', 'might eatin', 'might evaporated', 'might felt', 'might get', 'might give', 'might go', 'might hear', 'might hectic', 'might less', 'might make', 'might nap', 'might need', 'might resort', 'might slightly', 'might still', 'might tonight', 'might want', 'might well', 'miiiiiiissssssssss need', 'mila age23', 'mileage ltgt', 'miles away', 'miles smiles', 'milk and', 'milk youll', 'milkdayno bone', 'millions lekdog', 'miltazindgi wo', 'min 247mp', 'min 50', 'min btnationalrate', 'min call', 'min check', 'min go', 'min later', 'min lovely', 'min mobcudb', 'min ntt', 'min term', 'min thats', 'min think', 'min warning', 'mina or', 'minapn ls278bb', 'mind any', 'mind are', 'mind ask', 'mind blastin', 'mind dont', 'mind dun', 'mind easily', 'mind eat', 'mind empty', 'mind everything', 'mind from', 'mind get', 'mind giving', 'mind go', 'mind goin', 'mind he', 'mind help', 'mind ive', 'mind ltgt', 'mind mind', 'mind nxt', 'mind ok', 'mind picking', 'mind saying', 'mind things', 'mind ur', 'mind working', 'minded guys', 'mindi wil', 'mindsetbelieve one', 'mine 6ish', 'mine can', 'mine facebook', 'mine for', 'mine just', 'mine laughs', 'mine like', 'mine lower', 'mine or', 'mine really', 'mine tomo', 'mine two', 'mine wanted', 'mine wil', 'mineall just', 'minecraft server', 'mines lookin', 'mini cheetos', 'mini digital', 'mini when', 'minimum wait', 'minimum walk', 'minnaminunginte nurungu', 'minor crisis', 'minor shindig', 'mins 100', 'mins 1000', 'mins 12', 'mins 150', 'mins 400', 'mins calls', 'mins double', 'mins half', 'mins il', 'mins india', 'mins late', 'mins later', 'mins look', 'mins ok', 'mins see', 'mins stop', 'mins text', 'mins txts', 'mins unlimited', 'mins whn', 'mins100txtmth free', 'minstand bus', 'minstexts text', 'mint ur', 'minus 10', 'minute btnationalrate', 'minute call', 'minute decision', 'minute ham', 'minute let', 'minute ok', 'minute still', 'minutes ago', 'minutes amp', 'minutes as', 'minutes away', 'minutes cause', 'minutes day', 'minutes got', 'minutes know', 'minutes long', 'minutes mobile', 'minutes needed', 'minutes please', 'minutes respond', 'minutes text', 'minutes think', 'minutes track', 'minutes was', 'minuts latr', 'miracle god', 'miracle jesus', 'miracle love', 'miracle tomorrow', 'mirror youre', 'mis love', 'misbehaved hurt', 'miserable they', 'mising today', 'misplaced number', 'miss already', 'miss am', 'miss anything', 'miss babe', 'miss bani', 'miss boytoy', 'miss call', 'miss calls', 'miss cant', 'miss crave', 'miss curfew', 'miss da', 'miss dear', 'miss delicious', 'miss dem', 'miss desparately', 'miss dont', 'miss every', 'miss first', 'miss get', 'miss goalsteam', 'miss guys', 'miss have', 'miss just', 'miss keepintouch', 'miss love', 'miss much', 'miss my', 'miss need', 'miss number', 'miss nw', 'miss really', 'miss seeing', 'miss so', 'miss someone', 'miss something', 'miss sooooo', 'miss teasing', 'miss ur', 'miss vday', 'miss weekends', 'miss what', 'miss ya', 'miss your', 'misscall amp', 'missed amp', 'missed babe', 'missed cal', 'missed call', 'missed cinema', 'missed first', 'missed friendship', 'missed girls', 'missed good', 'missed havent', 'missed last', 'missed much', 'missed thought', 'missed tm', 'missed train', 'missed without', 'missin cos', 'missin hope', 'missin you', 'missing do', 'missing home', 'missing lot', 'missing missing', 'missing number', 'missing plenty', 'missing send', 'missing sendername', 'missing sent', 'missing sentdate', 'missing sp', 'missing today', 'missing toopray', 'missing what', 'missing xxx', 'missing yet', 'missionary hook', 'missions nigeria', 'misss youuuuu', 'misstake care', 'missunderstding wit', 'mist time', 'mistake shortcode', 'mistake side', 'mistake this', 'mistakes valuing', 'mistakeu were', 'misundrstud frnd', 'mite break', 'mite go', 'mite hav', 'mite sortedbut', 'mite well', 'mitsake goodnight', 'mittelschmertz google', 'miwa jiayin', 'mix 85069', 'mix see', 'mjzgroup 087143423992stop', 'mk17 92h', 'mk45 2wt', 'ml hope', 'mm ask', 'mm asked', 'mm entirely', 'mm feeling', 'mm food', 'mm kanji', 'mm time', 'mm umma', 'mm way', 'mm yes', 'mmm childish', 'mmm fuck', 'mmm thats', 'mmm yummy', 'mmmm cant', 'mmmm fuck', 'mmmmm it', 'mmmmm loved', 'mmmmmm love', 'mmmmmm yummy', 'mmmmmmm snuggles', 'mmsto 32323', 'mns prabha', 'mnths latest', 'mo dead', 'mo how', 'mo hows', 'mo in', 'mo owo', 'mo well', 'mo wont', 'moan 69888nyt', 'moan bed', 'moan scream', 'moan thin', 'mob every', 'mob halloween', 'mob join', 'mob no', 'mob offer', 'mob plus', 'mob see', 'mob tell', 'mob vary', 'mobile 10', 'mobile 100', 'mobile 11', 'mobile 11mths', 'mobile 3g', 'mobile 750', 'mobile 7cfca1a', 'mobile awarded', 'mobile carente', 'mobile charged', 'mobile club', 'mobile co', 'mobile community', 'mobile content', 'mobile cs', 'mobile customer', 'mobile customers', 'mobile dating', 'mobile dialling', 'mobile every', 'mobile fit', 'mobile for', 'mobile free', 'mobile friends', 'mobile full', 'mobile get', 'mobile internetservice', 'mobile ipod', 'mobile join', 'mobile landline', 'mobile logon', 'mobile ltgt', 'mobile mode', 'mobile music', 'mobile no', 'mobile number', 'mobile numberpls', 'mobile only', 'mobile pa', 'mobile personal', 'mobile phone', 'mobile play', 'mobile problem', 'mobile right', 'mobile survey', 'mobile text', 'mobile tonights', 'mobile txt', 'mobile upd8', 'mobile update', 'mobile vary', 'mobile video', 'mobile visit', 'mobile week', 'mobile wk', 'mobiles 16', 'mobiles 2004', 'mobiles call', 'mobiles camera', 'mobiles unlimited', 'mobiles vary', 'mobilesdirect free', 'mobilesvary max', 'mobileupd8 08000839402', 'mobileupd8 08001950382', 'mobileupd8 free', 'mobileupd8 latest', 'mobno eg', 'mobs direct', 'mobsicom 391784', 'moby pub', 'moby wanna', 'mode 3cover', 'mode men', 'mode ok', 'mode sha', 'mode today', 'model doesnt', 'model num', 'model pls', 'model say', 'model you', 'modelsony ericson', 'module already', 'module humanities', 'modules 1st', 'modules jus', 'moji informed', 'moji love', 'moji seem', 'moji told', 'mokka players', 'molestedsomeone plumbingremixed', 'mom amp', 'mom bring', 'mom decided', 'mom instead', 'mom like', 'mom might', 'mom morning', 'mom reach', 'mom send', 'mom taking', 'mom wants', 'mom would', 'moment always', 'moment dayhas', 'moment evone', 'moment gd', 'moment live', 'moment might', 'moment revealing', 'moment spend', 'moment together', 'moment yeah', 'moments fro', 'moments spent', 'moms are', 'moms car', 'moms check', 'moms did', 'moms left', 'moms making', 'moms right', 'moms shes', 'moms telling', 'mon hip', 'mon muz', 'mon my', 'mon okie', 'mon thurs', 'monday feeling', 'monday next', 'monday not', 'monday per', 'monday sorry', 'monday sucks', 'mondaynxt week', 'moneeppolum oru', 'money 88600', 'money account', 'money back', 'money base', 'money better', 'money blocked', 'money cant', 'money carlos', 'money chance', 'money cheers', 'money da', 'money deposited', 'money ebay', 'money enters', 'money everyone', 'money expecting', 'money far', 'money haughaighgtujhyguj', 'money hee', 'money hes', 'money im', 'money issue', 'money ive', 'money kid', 'money later', 'money leh', 'money lucky', 'money management', 'money money', 'money need', 'money nosh', 'money pick', 'money raise', 'money returned', 'money sent', 'money shipping', 'money spent', 'money steve', 'money take', 'money thts', 'money together', 'money towards', 'money use', 'money want', 'money wedding', 'money wining', 'money worries', 'money yesterday', 'money yet', 'moneyas youmoney', 'moneyi give', 'monkeespeople say', 'monkey face', 'monkeyaround howdy', 'monkeys wot', 'mono eg', 'mono lionp', 'monoc monos', 'monos polyc', 'monster hope', 'month ahead', 'month and', 'month approaches', 'month cashed', 'month deliver', 'month den', 'month end', 'month extra', 'month february', 'month finish', 'month get', 'month hence', 'month just', 'month know', 'month kotees', 'month mid', 'month need', 'month period', 'month sha', 'month we', 'month wwwclubzedcouk', 'month year', 'monthly amount', 'monthly ltgt', 'monthly password', 'monthlysubscription50pmsg max6month', 'monthnot current', 'months ago', 'months didnt', 'months end', 'months entitled', 'months free', 'months ha', 'months its', 'months pay', 'months reply', 'mood cant', 'mood she', 'mood soany', 'mood today', 'moon come', 'moon light', 'moon starer', 'moons children', 'moral even', 'moral story', 'moraldont wake', 'moralone 4get', 'more calls', 'more exciting', 'more games', 'more info', 'more infowww100percentrealcom', 'more often', 'more people', 'more tear', 'more time', 'morn aft', 'mornin thanku', 'morning amp', 'morning at', 'morning boytoy', 'morning come', 'morning dear', 'morning do', 'morning feeling', 'morning greeting', 'morning had', 'morning headache', 'morning hes', 'morning hope', 'morning im', 'morning its', 'morning ive', 'morning keep', 'morning let', 'morning love', 'morning ltdecimalgt', 'morning miss', 'morning mr', 'morning ok', 'morning plz', 'morning pookie', 'morning princess', 'morning really', 'morning said', 'morning see', 'morning sighs', 'morning stay', 'morning thank', 'morning thats', 'morning think', 'morning too', 'morning welcomes', 'morning went', 'morning woke', 'morning ym', 'mornings afternoons', 'morningtake care', 'morphine back', 'morphine cause', 'morrow this', 'moseley weds', 'most beautiful', 'most likely', 'most tiime', 'most time', 'mostly like', 'mostly sports', 'mother ah', 'mother baby', 'mother homecheck', 'mother passed', 'motherinlaw woman', 'motivate behind', 'motivating thanks', 'motive tui', 'motor project', 'motorola free', 'motorola nokia', 'motorola phones', 'motorola sonyericsson', 'motorola upto', 'motorola verified', 'mountain deer', 'mountains dont', 'mouse desk', 'mouth comes', 'mouth well', 'move freely', 'move he', 'move lock', 'move ltgt', 'move morphine', 'move outif', 'move pain', 'move slave', 'moved away', 'moved in2', 'moved keep', 'moves however', 'moves slovely', 'movie already', 'movie and', 'movie call', 'movie collect', 'movie doesnt', 'movie gonna', 'movie juz', 'movie kano', 'movie netflix', 'movie ok', 'movie pm', 'movie pokkiri', 'movie released', 'movie theatre', 'movie to', 'movie tonight', 'movie wan', 'movie yest', 'movies dvd', 'movies laptop', 'movies oh', 'movies pay', 'movies side', 'movies thanks', 'movies want', 'moviewat abt', 'moving flat', 'moving lotwill', 'moyep sall', 'mp3 doesnt', 'mp3 player', 'mquiz 82277', 'mr adewale', 'mr foley', 'mr going', 'mr hows', 'mr ill', 'mr olayiwolas', 'mr owl', 'mr right', 'mr sheffield', 'mr whats', 'mr your', 'mre film', 'mrng dear', 'mrng good', 'mrng it', 'mrt cant', 'mrt hip', 'mrt later', 'mrt noe', 'mrt one', 'mrt station', 'mrur mum', 'ms dict', 'msg 150rcvd', 'msg 2day', 'msg aft', 'msg and', 'msg b4', 'msg call', 'msg cost', 'msg danalla', 'msg download', 'msg evrey', 'msg free', 'msg frm', 'msg get', 'msg gud', 'msg is', 'msg its', 'msg jus', 'msg kalstiyathen', 'msg kanagu', 'msg lor', 'msg love', 'msg ltgt', 'msg meim', 'msg mobile', 'msg moral', 'msg na', 'msg netcollex', 'msg next', 'msg not', 'msg oso', 'msg put', 'msg rajini', 'msg random', 'msg recd', 'msg recdthirtyeight', 'msg recently', 'msg reply', 'msg ringtonefrom', 'msg send', 'msg sent', 'msg single', 'msg sorry', 'msg stop', 'msg suppose', 'msg tat', 'msg tncs', 'msg to', 'msg tone', 'msg ur', 'msg we', 'msg wen', 'msg wil', 'msg wrnog', 'msg xuhui', 'msg yar', 'msg yup', 'msg150p 2rcv', 'msging they', 'msgs 150', 'msgs 150p', 'msgs chat', 'msgs cst', 'msgs dis', 'msgs dont', 'msgs just', 'msgs phone', 'msgs rcvd', 'msgs they', 'msgs time', 'msgs150p 18', 'msgs150p 18only', 'msgsd gud', 'msgsometext missing', 'msgsubscription other', 'msgticketkioskvalid 4712', 'msgwe billed', 'msn its', 'msn we', 'mssuman ltgt', 'mt faber', 'mt love', 'mt uploads', 'mtalk 6986618', 'mth today', 'mths 500', 'mths come', 'mths update', 'mtnl service', 'mu ill', 'mu im', 'mu like', 'mu lot', 'mu ltgt', 'mu sorting', 'mu today', 'mu tonight', 'mu waiting', 'mu you', 'much 40mph', 'much 8th', 'much ahmad', 'much already', 'much am', 'much bad', 'much barely', 'much best', 'much better', 'much bit', 'much blackberry', 'much budget', 'much but', 'much buzy', 'much call', 'much camera', 'much chance', 'much chillin', 'much close', 'much confidence', 'much cost', 'much could', 'much decorating', 'much dirty', 'much dont', 'much easy', 'much eighth', 'much entire', 'much for', 'much forgets', 'much fun', 'much gap', 'much gave', 'much getting', 'much got', 'much hair', 'much hoped', 'much hours', 'much hurt', 'much im', 'much image', 'much justify', 'much know', 'much left', 'much less', 'much lesson', 'much longer', 'much mean', 'much money', 'much my', 'much need', 'much no', 'much notice', 'much payed', 'much puttin', 'much really', 'much safely', 'much selflessness', 'much sell', 'much semester', 'much sense', 'much shit', 'much show', 'much shy', 'much simpler', 'much smokes', 'much sorry', 'much spend', 'much tas', 'much tell', 'much textin', 'much tho', 'much though', 'much today', 'much tomorrow', 'much torch', 'much trauma', 'much truble', 'much trying', 'much tuition', 'much understand', 'much ur', 'much value', 'much want', 'much when', 'much willing', 'much wine', 'much wish', 'much work', 'much would', 'muchand look', 'muchi film', 'muchi would', 'muchimpede things', 'muchxxlove locaxx', 'mufti mahfuuzmeaning', 'muhommad penny', 'muht albi', 'multimedia message', 'multiply numbers', 'mum all', 'mum ask', 'mum finish', 'mum going', 'mum hope', 'mum ive', 'mum lazy', 'mum lor', 'mum say', 'mum sis', 'mum still', 'mum take', 'mum went', 'mum yun', 'mumbai hear', 'mumhas beendropping', 'mummy call', 'mummy made', 'mummy wheres', 'mummys boy', 'mums 2nite', 'mums present', 'mums repent', 'mums somerset', 'mumtaz died', 'mumtaz shahjahans', 'mumtazs husband', 'mumtazs sister', 'mundhe lyf', 'munsters exorcist', 'murder exactly', 'murder took', 'murdered ltgt', 'murdered on', 'murderer coz', 'murderer immediately', 'mus ask', 'mushy embarrassed', 'music 87066', 'music amp', 'music gift', 'music noline', 'music player', 'music service', 'musical sms', 'must 1000s', 'must 16', 'must age', 'must always', 'must book', 'must come', 'must decide', 'must exist', 'must get', 'must go', 'must indian', 'must know', 'must nearly', 'must pack', 'must pain', 'must say', 'must see', 'must sit', 'must speak', 'must summon', 'must taken', 'must walk', 'musta overdid', 'mustprovide claim', 'mutai eerulli', 'mutations sunscreen', 'muz call', 'muz change', 'muz chiong', 'muz come', 'muz eat', 'muz go', 'muz guy', 'muz lose', 'muz make', 'muz us', 'muz wait', 'mw im', 'my baby', 'my battery', 'my bed', 'my best', 'my bf', 'my birthday', 'my body', 'my boyfriend', 'my butt', 'my cake', 'my cat', 'my colleagues', 'my computer', 'my cousin', 'my dad', 'my dads', 'my darling', 'my drive', 'my engagement', 'my exam', 'my fone', 'my fren', 'my frens', 'my fri', 'my friend', 'my friends', 'my hands', 'my hardest', 'my heart', 'my house', 'my hubbys', 'my kidz', 'my lect', 'my life', 'my likingbe', 'my love', 'my mate', 'my matric', 'my membership', 'my mind', 'my mobile', 'my mom', 'my moms', 'my mums', 'my new', 'my no', 'my no1', 'my one', 'my painful', 'my parents', 'my phone', 'my planning', 'my possession', 'my property', 'my rent', 'my reserves', 'my roommates', 'my sis', 'my sister', 'my slave', 'my sort', 'my stomach', 'my superior', 'my supervisor', 'my throat', 'my trip', 'my tuition', 'my uncles', 'my usb', 'my way', 'my wife', 'my work', 'my world', 'mycallsu no', 'mylife hope', 'mymoby tv', 'myparents aretaking', 'mys sis', 'myself il', 'myspace havent', 'mystery gift', 'mystery solved', 'mytonecomenjoy html', 'na hi', 'na kicchu', 'na phone', 'na plz', 'na poortiyagi', 'naal eruku', 'nachos will', 'nag something', 'nagar go', 'nah cant', 'nah didnt', 'nah dont', 'nah dub', 'nah im', 'nah man', 'nah straight', 'nah wasnt', 'nah wednesday', 'nahi jo', 'nahi miltazindgi', 'nails oso', 'naked instead', 'naked text', 'nalla adi', 'nalli siguviri', 'name 1hanuman', 'name 82277unsub', 'name 87077', 'name 89693', 'name address', 'name age', 'name ashwini', 'name band', 'name beloved', 'name bill', 'name da', 'name gautham', 'name girl', 'name gud', 'name hotel', 'name house', 'name in', 'name jokes', 'name joys', 'name ltgt', 'name method', 'name new', 'name person', 'name place', 'name roger', 'name story', 'name taking', 'name ur', 'name wit', 'name yes', 'name1 name2', 'name2 mobno', 'named heri', 'named tampa', 'namemy life', 'names joined', 'names penis', 'nammanna pretsovru', 'nan bari', 'nan sonathaya', 'nan yalrigu', 'nange bakra', 'nanny you', 'nannys address', 'nap tho', 'nap yup', 'narcotics situation', 'nasdaq symbol', 'naseeb se', 'nasty cough', 'nasty thing', 'nat rate', 'natalie 20f', 'natalja 25f', 'national delivery', 'national rate', 'national team', 'nationwide auto', 'nattil kittum', 'natural disasters', 'natural enamous', 'natural gift', 'nature 2nd', 'nature adventure', 'natwest can', 'naughty adoring', 'naughty bought', 'naughty free', 'naughty little', 'naughty make', 'naughty pix', 'nauseous im', 'nav pretsorginta', 'navigate even', 'nb okie', 'nb sun', 'nd apply', 'nd go', 'nd txt', 'ne plans', 'ne thing', 'ne way', 'near but', 'near campus', 'near frankie', 'near house', 'near kalainar', 'near my', 'near univ', 'near warner', 'near wat', 'nearby cliffs', 'nearer no', 'nearly banned', 'nearly deadwell', 'nearly rang', 'necesity life', 'necessarily expect', 'necessarily respectful', 'necessary share', 'necessity gowait', 'neck get', 'neck killing', 'necklace madstini', 'necklace token', 'ned convince', 'ned go', 'need 2godid', 'need 2nd', 'need 8th', 'need address', 'need advice', 'need alcohol', 'need all', 'need amp', 'need anything', 'need arrange', 'need ask', 'need axis', 'need babe', 'need bad', 'need bigger', 'need break', 'need but', 'need buy', 'need can', 'need car', 'need cash', 'need change', 'need chocolate', 'need coffee', 'need come', 'need comfort', 'need cover', 'need coz', 'need crave', 'need deal', 'need details', 'need draw', 'need drink', 'need drug', 'need drugs', 'need especially', 'need every', 'need excuse', 'need feel', 'need friend', 'need get', 'need getsleep', 'need go', 'need going', 'need hair', 'need help', 'need hoping', 'need ill', 'need in', 'need investigate', 'need job', 'need ke', 'need kiss', 'need know', 'need lar', 'need learn', 'need leave', 'need little', 'need login', 'need loose', 'need lots', 'need love', 'need meet', 'need meh', 'need miss', 'need module', 'need money', 'need movies', 'need one', 'need pick', 'need please', 'need posh', 'need prepare', 'need presnts', 'need real', 'need receipts', 'need recovery', 'need remember', 'need remove', 'need restock', 'need sacrifice', 'need say', 'need see', 'need send', 'need shit', 'need somebody', 'need someone', 'need song', 'need sort', 'need srs', 'need start', 'need stop', 'need stress', 'need stretch', 'need strong', 'need studdying', 'need study', 'need support', 'need take', 'need talk', 'need tell', 'need test', 'need think', 'need this', 'need tickets', 'need tim', 'need town', 'need ur', 'need use', 'need velusamy', 'need want', 'need work', 'need world', 'need write', 'need ya', 'need yellow', 'need you', 'need youclean', 'needa mcat', 'needed anything', 'needed oxygen', 'neededsalary upto', 'needing hair', 'needle clock', 'needs beautiful', 'needs blokes', 'needs carry', 'needs change', 'needs dat', 'needs drugs', 'needs imaginationmy', 'needs lady', 'needs lager', 'needs replacing', 'needs sacked', 'needs smile', 'needs stop', 'needs ur', 'needs urgent', 'needs water', 'needy want', 'neekunna prakasamanu', 'neft transaction', 'negative why', 'neglect msgs', 'neighbor comes', 'neighbors didnt', 'neither sterm', 'neither unusual', 'nelson bbs', 'neo69 call', 'nervous course', 'net cafe', 'net mummy', 'net need', 'net tell', 'net think', 'netcollex ltd', 'netcollex ltdhelpdesk', 'nething satlove', 'netno ticket', 'network administrator', 'network bt', 'network charge', 'network customer', 'network error', 'network gd', 'network if', 'network mins', 'network operator', 'network try', 'network txt', 'network txting', 'networking job', 'networking technical', 'networks mins', 'neva ask', 'neva came', 'neva develop', 'neva grumble', 'neva hear', 'neva mate', 'neva mind', 'neva msg', 'neva person', 'neva reply', 'neva say', 'neva set', 'neva tell', 'neva test', 'neva worry', 'neva wrongtake', 'nevamindwe 2hook', 'never actually', 'never answer', 'never ask', 'never asks', 'never believe', 'never better', 'never blame', 'never came', 'never cancel', 'never characters', 'never comes', 'never comfort', 'never complete', 'never ends', 'never go', 'never hear', 'never intention', 'never invite', 'never iphone', 'never knew', 'never know', 'never lei', 'never lets', 'never loose', 'never make', 'never mind', 'never much', 'never nothing', 'never pick', 'never play', 'never played', 'never rang', 'never realized', 'never released', 'never share', 'never sleep', 'never study', 'never try', 'never wanted', 'nevr go', 'new address', 'new air1', 'new ak', 'new amp', 'new bong', 'new cam', 'new car', 'new chatter', 'new club', 'new content', 'new deus', 'new divorce', 'new duchess', 'new features', 'new friends', 'new goal', 'new house', 'new improved', 'new invention', 'new jersey', 'new job', 'new local', 'new message', 'new mobile', 'new mobiles', 'new nokia', 'new nokia6600', 'new nokia6650', 'new number', 'new offer', 'new one', 'new people', 'new pictures', 'new polys', 'new room', 'new school', 'new season', 'new selection', 'new semester', 'new service', 'new shirts', 'new stuff', 'new sugababes', 'new textbuddy', 'new theory', 'new things', 'new tone', 'new tones', 'new uk', 'new us', 'new used', 'new video', 'new videosounds2', 'new voicemail', 'new way', 'new year', 'new years', 'new yrs', 'new zealand', 'neway im', 'newest harry', 'newest selection', 'newport road', 'newquaysend me', 'news call', 'news friday', 'news hassling', 'news job', 'news keluviri', 'news picked', 'news police', 'news results', 'news sport', 'news str', 'news txt', 'news ur', 'news work', 'newsby grace', 'newscaster dabbles', 'newshype park', 'newspapers already', 'next 24hrs', 'next 6hrs', 'next amazing', 'next bill', 'next census', 'next escalator', 'next event', 'next friday', 'next link', 'next ltgt', 'next maximum', 'next meal', 'next meeting', 'next message', 'next mini', 'next mon', 'next month', 'next olympics', 'next question', 'next sat', 'next saturday', 'next second', 'next semester', 'next show', 'next space', 'next stop', 'next sun', 'next themes', 'next time', 'next two', 'next txt', 'next video', 'next wed', 'next wednesday', 'next week', 'next weekend', 'next year', 'next yr', 'ngage game', 'nhs has', 'ni8 dearslp', 'ni8 sweet', 'ni8swt dreams', 'ni8swt drmstake', 'nic just', 'nice all', 'nice catch', 'nice day', 'nice evening', 'nice fiting', 'nice hol', 'nice jolt', 'nice juicy', 'nice leh', 'nice line', 'nice long', 'nice meet', 'nice msgs', 'nice new', 'nice night', 'nice off', 'nice one', 'nice pubs', 'nice ready', 'nice salmon', 'nice shirt', 'nice sleep', 'nice sleepsweet', 'nice something', 'nice talking', 'nice tho', 'nice time', 'nice too', 'nice visit', 'nice waitshould', 'nice wat', 'nice wkend', 'nicenicehow working', 'nichols from', 'nichols middle', 'nick tom', 'nickey platt', 'nig leonardo', 'nigeria and', 'nigeria find', 'nigeria its', 'nigeria that', 'nigeria wish', 'nigh cant', 'night am', 'night amp', 'night and', 'night applebees', 'night ask', 'night babe', 'night burn', 'night by', 'night cant', 'night case', 'night chatting', 'night dear', 'night didnt', 'night do', 'night ended', 'night especially', 'night free', 'night get', 'night give', 'night going', 'night great', 'night guess', 'night hope', 'night im', 'night ima', 'night ive', 'night just', 'night knickers', 'night least', 'night lemme', 'night long', 'night menu', 'night might', 'night night', 'night obviously', 'night patrick', 'night phasing', 'night phone', 'night pray', 'night prolly', 'night quizzes', 'night real', 'night save', 'night see', 'night shite', 'night shits', 'night sleep', 'night speak', 'night spent', 'night sweet', 'night take', 'night tmr', 'night uh', 'night uve', 'night wait', 'night wake', 'night want', 'night wants', 'night we', 'night week', 'night whatever', 'night wish', 'night wiv', 'night worrying', 'night xavier', 'night xxx', 'night yeah', 'night your', 'nighters persevered', 'nightnobody went', 'nights flights', 'nights rememberi', 'nights sleep', 'nightsexcellent location', 'nightswe nt', 'nightswt dreamstake', 'nimbomsons yep', 'nimya pls', 'nimyapls dnt', 'ninish address', 'nino gets', 'nipost get', 'nit js', 'nite 2morrow', 'nite borin', 'nite foned', 'nite nearly', 'nite nite', 'nite please', 'nite pocay', 'nite scenery', 'nite til', 'nite tmr', 'nite ur', 'nite went', 'nite2 today', 'nitro requests', 'nitros hurry', 'nitw wen', 'njan vilikkamt', 'nmde exam', 'no 077xxx', 'no 07808726822', 'no 07xxxxxxxxx', 'no 68866', 'no 69101', 'no 80488', 'no 81010', 'no 81151', 'no 83355', 'no 86888', 'no 88600', 'no 8883', 'no 89545', 'no ah', 'no amount', 'no another', 'no awarded', 'no b4', 'no blankets', 'no bluray', 'no brdget', 'no break', 'no busy', 'no but', 'no callsmessagesmissed', 'no cancelled', 'no charged', 'no check', 'no chikku', 'no competition', 'no creative', 'no credit', 'no current', 'no da', 'no dahe', 'no datoday', 'no de', 'no deam', 'no dear', 'no decided', 'no dice', 'no did', 'no didnt', 'no dont', 'no drama', 'no drugs', 'no dude', 'no fights', 'no future', 'no gifts', 'no girl', 'no give', 'no go', 'no got', 'no gravy', 'no idea', 'no if', 'no ill', 'no im', 'no in', 'no its', 'no let', 'no ltgt', 'no management', 'no means', 'no meant', 'no messageno', 'no messages', 'no more', 'no movies', 'no mum', 'no need', 'no news', 'no nokia', 'no nothis', 'no objection', 'no on', 'no one', 'no openings', 'no pic', 'no plans', 'no plm', 'no polyphonic', 'no prepayment', 'no prob', 'no probably', 'no problem', 'no probs', 'no promises', 'no purchase', 'no put', 'no reach', 'no revision', 'no rply', 'no rushing', 'no screaming', 'no sell', 'no send', 'no shes', 'no shining', 'no shit', 'no shoot', 'no silly', 'no sir', 'no snow', 'no subscriptions', 'no sweet', 'no swimsuit', 'no thank', 'no thecd', 'no to', 'no told', 'no truekdo', 'no trying', 'no tsunamis', 'no valentines', 'no wahala', 'no waiting', 'no way', 'no won', 'no wonder', 'no word', 'no working', 'no worries', 'no yes', 'no youll', 'no1 bbc', 'no1 man', 'no1 nokia', 'no165 see', 'no434 see', 'no440 see', 'no762 see', 'no81151 get', 'no83355 tcllc', 'no910 see', 'nobbing last', 'noble truthful', 'nobody decide', 'nobody fight', 'nobody interest', 'nobody names', 'nobody recognises', 'nobody supposed', 'nobody teaches', 'nobody town', 'nobody wants', 'nobodys town', 'nobut heard', 'noe ben', 'noe details', 'noe did', 'noe hor', 'noe im', 'noe infra', 'noe la', 'noe later', 'noe leave', 'noe leh', 'noe much', 'noe scared', 'noe send', 'noe shes', 'noe ure', 'noe used', 'noe wan', 'noe wat', 'noe where', 'nofew hours', 'nohe joined', 'noi got', 'noice text', 'noits ful', 'nojst change', 'nok 87021', 'nokia 3510i', 'nokia 3650', 'nokia 6230', 'nokia 7250', 'nokia 7250i', 'nokia 8007', 'nokia 8077', 'nokia 83383', 'nokia 86021', 'nokia 87077', 'nokia 8800', 'nokia bluetooth', 'nokia etc', 'nokia fone', 'nokia free', 'nokia go', 'nokia logopic', 'nokia mobile', 'nokia motorola', 'nokia ngage', 'nokia no', 'nokia on', 'nokia or', 'nokia phone', 'nokia tone', 'nokia tones', 'nokia150p poly200p', 'nokia6600 mobile', 'nokia6650 mobile', 'nokias poly', 'noline rentl', 'nolistened2the plaid', 'non stop', 'none can', 'none make', 'none people', 'none thats', 'nonenowhere ikno', 'nookii games', 'noon menu', 'noon see', 'nooooooo im', 'noooooooo please', 'nope forgot', 'nope ill', 'nope im', 'nope juz', 'nope meanwhile', 'nope since', 'nope thats', 'nope think', 'nope waiting', 'nope watching', 'nope wif', 'nora know', 'norcorp ltd', 'nordstrom youre', 'norm 150ptone', 'norm 4txt120p', 'norm tomorrow', 'norm150ptone 16', 'normal body', 'normal costs', 'normal gprs', 'normal limits', 'normal pilates', 'normal starting', 'normal waythis', 'normally bathe', 'normally hot', 'normally use', 'north carolina', 'northampton im', 'nos booking', 'nos used', 'nose essay', 'nosh dont', 'nosy guess', 'not able', 'not alone', 'not asleep', 'not badly', 'not breakin', 'not call', 'not campus', 'not come', 'not comin', 'not cool', 'not course', 'not directly', 'not drop', 'not enufcredeit', 'not everything', 'not fair', 'not fault', 'not getting', 'not going', 'not good', 'not heard', 'not im', 'not imprtant', 'not invited', 'not kids', 'not late', 'not lazy', 'not leftovers', 'not lot', 'not love', 'not matured', 'not much', 'not near', 'not planned', 'not possession', 'not really', 'not sad', 'not say', 'not share', 'not sure', 'not thought', 'not tonight', 'not violence', 'not worry', 'not yet', 'note anyone', 'note says', 'note shes', 'notebook eat', 'notes oredi', 'nothin comes', 'nothin relation', 'nothing and', 'nothing at', 'nothing can', 'nothing dinner', 'nothing else', 'nothing ever', 'nothing getting', 'nothing go', 'nothing got', 'nothing greatbye', 'nothing happen', 'nothing holiday', 'nothing jus', 'nothing lor', 'nothing meant', 'nothing much', 'nothing must', 'nothing ok', 'nothing problem', 'nothing really', 'nothing serious', 'nothing smsing', 'nothing splwat', 'nothing wen', 'nothing worried', 'nothing youve', 'nothis kallis', 'notice collect', 'notice ill', 'notice late', 'notice like', 'notice nah', 'notice youre', 'notifications reply', 'notified sms', 'notixiquating laxinorficated', 'nottel software', 'nottingham hrs', 'noun dictionary', 'noun research', 'novelty items', 'november blu', 'now 09050000332', 'now 09061702893', 'now 09096102316', 'now 09099726481', 'now 150ppmpobox10183bhamb64xe', 'now 18', 'now 2stoptxt', 'now 4tctxt', 'now another', 'now breezy', 'now care', 'now chance', 'now closingdate040902', 'now dumb', 'now feel', 'now free', 'now get', 'now going', 'now got', 'now im', 'now imin', 'now know', 'now landline', 'now only', 'now optout', 'now play', 'now plz', 'now press', 'now prize', 'now project', 'now reached', 'now reply', 'now revealed', 'now room', 'now send', 'now sing', 'now sound', 'now started', 'now thats', 'now toclaim', 'now toot', 'now total', 'now txt', 'now wanna', 'now wat', 'now were', 'now whats', 'now wont', 'now1 only', 'nowadays people', 'nowadayslot shop', 'nowcan call', 'nowi call', 'nownyt ec2a', 'nowonion roast', 'noworriesloanscom 08717111821', 'nowreply lotr', 'nowsavamobmember offers', 'nowsend chat', 'nowsky opt', 'nowstill bloke', 'nowtcs winnersclub', 'nowuse web2mobile', 'nr31 7zs', 'nt able', 'nt driving', 'nt ec2a', 'nt feeling', 'nt goin', 'nt joking', 'nt may', 'nt much', 'nt scarcasim', 'nt staying', 'nt stones', 'nt yet', 'ntswt drms', 'ntt ltd', 'ntt po', 'ntwk chg', 'ntwk mins', 'nuclear fusion', 'nudist themed', 'num 98321561', 'num corrct', 'num dis', 'num onlybettr', 'num ur', 'number 0844', 'number 09066364311', 'number 15541', 'number 5000', 'number 8714714', 'number 946', 'number asked', 'number atlanta', 'number available', 'number awarded', 'number by', 'number confused', 'number could', 'number couple', 'number decided', 'number employers', 'number etc', 'number gautham', 'number get', 'number give', 'number gonna', 'number have', 'number im', 'number joke', 'number k718', 'number like', 'number live', 'number ltgt', 'number luv', 'number matches', 'number missing', 'number mistake', 'number number', 'number oh', 'number once', 'number paperwork', 'number pin', 'number please', 'number pls', 'number qatarrakhesh', 'number r836', 'number sections', 'number sending', 'number shows', 'number sir', 'number skype', 'number still', 'number tell', 'number vivek', 'number wanna', 'number wat', 'number way', 'number why', 'number wil', 'number won', 'number wondering', 'number x29', 'number x49', 'number x49your', 'numberpls sms', 'numberrespectful regards', 'numbers called', 'numbers ending', 'numbers ill', 'numbers independently', 'numbers still', 'numbers the', 'numberso is', 'nursery take', 'nurses talking', 'nurungu vettam', 'nus sc', 'nusstu still', 'nuther place', 'nuther time', 'nutter cutter', 'nver get', 'nvm got', 'nvm im', 'nvm la', 'nvm ok', 'nvm take', 'nvq think', 'nw came', 'nw il', 'nw im', 'nw plz', 'nxt one', 'nxt started', 'nxt time', 'nxt wk', 'nxt wknd', 'nyc audiitions', 'nyc experiment', 'nyc it', 'nyc something', 'nydc somethin', 'nydc wheellock', 'nys family', 'nyt ec2a', 'nytho tx', 'nyusa 150pmt', 'nz players', 'o2 games', 'o2 service', 'o2 to', 'o2 user', 'o2coukgames terms', 'o2fwd 18ptxt', 'oath fo', 'obedient slave', 'obese oyea', 'objection my', 'oblisingately opted', 'oblivious going', 'obviously arent', 'obviously catching', 'obviously cos', 'obviously eggspert', 'obviously people', 'occasion celebrated', 'occupied im', 'occupy biggest', 'occupy place', 'occur rajnikant', 'occurs im', 'oclock mine', 'odalebeku hanumanji', 'odi series', 'of contention', 'of cos', 'of course', 'of frndship', 'of july', 'of lovejen', 'of loveme', 'of meet', 'of merememberin', 'of my', 'of studentfinancial', 'of the', 'of work', 'of wrk', 'of your', 'ofcourse also', 'off lecture', 'off rudi', 'off sheffield', 'off that', 'offc nd', 'offdam nevamindwe', 'offer 2000', 'offer 750', 'offer always', 'offer claim', 'offer double', 'offer easily', 'offer ends', 'offer get', 'offer latest', 'offer money', 'offer new', 'offer package', 'offer pc', 'offer tayseertissco', 'offer the', 'offer video', 'offered im', 'offering tones', 'offers 08000839402', 'offers accessible', 'offers mobile', 'offers pls', 'offers want', 'offerthe new', 'office 7children', 'office around', 'office call', 'office da', 'office dawhere', 'office lap', 'office later', 'office may', 'office na', 'office reply', 'office right', 'office take', 'office today', 'officer discount', 'officestill filling', 'officewhats mattermsg', 'official england', 'official message', 'official poly', 'official ultimate', 'officially paid', 'officially philosophical', 'offline message', 'ofice holiday', 'oficegot duffer', 'ofsi not', 'often cry', 'often makes', 'often oh', 'often panicks', 'oga left', 'ogunrinde school', 'oh and', 'oh babe', 'oh baby', 'oh charge', 'oh come', 'oh dang', 'oh dear', 'oh den', 'oh fine', 'oh forwarded', 'oh fuck', 'oh fucks', 'oh gei', 'oh get', 'oh getting', 'oh god', 'oh godtaken', 'oh got', 'oh grand', 'oh great', 'oh guide', 'oh haha', 'oh half', 'oh ho', 'oh hopefully', 'oh how', 'oh howda', 'oh ic', 'oh icic', 'oh kafter', 'oh kay', 'oh kbut', 'oh ki', 'oh kim', 'oh kkwhere', 'oh lk', 'oh love', 'oh mr', 'oh must', 'oh no', 'oh oh', 'oh ok', 'oh okie', 'oh outside', 'oh phone', 'oh really', 'oh right', 'oh rite', 'oh send', 'oh shit', 'oh should', 'oh shut', 'oh so', 'oh sorry', 'oh thanks', 'oh thats', 'oh thkin', 'oh unintentionally', 'oh wait', 'oh wasted', 'oh way', 'oh we', 'oh well', 'oh whats', 'oh which', 'oh wow', 'oh ya', 'oh yah', 'oh yeah', 'oh yeahand', 'oh yes', 'ohas usual', 'ohi asked', 'oi ami', 'oi gonna', 'oic cos', 'oic saw', 'oic then', 'oil pa', 'oil what', 'ok 50s', 'ok 80488', 'ok 84025', 'ok already', 'ok also', 'ok another', 'ok anybody', 'ok anyway', 'ok ard', 'ok arm', 'ok ask', 'ok askd', 'ok asked', 'ok bit', 'ok blood', 'ok bus', 'ok but', 'ok bye', 'ok called', 'ok can', 'ok careful', 'ok chikku', 'ok chinese', 'ok coffee', 'ok come', 'ok cool', 'ok cos', 'ok da', 'ok darlin', 'ok days', 'ok dear', 'ok didnt', 'ok din', 'ok dinner', 'ok drop', 'ok enjoy', 'ok every', 'ok feel', 'ok finishing', 'ok forgiven', 'ok found', 'ok gentleman', 'ok get', 'ok give', 'ok go', 'ok going', 'ok good', 'ok goodnight', 'ok guess', 'ok help', 'ok hols', 'ok how', 'ok ill', 'ok im', 'ok ive', 'ok journey', 'ok juz', 'ok knackered', 'ok ksry', 'ok lar', 'ok least', 'ok leave', 'ok let', 'ok lool', 'ok lor', 'ok maybe', 'ok me', 'ok meet', 'ok message', 'ok might', 'ok mobile', 'ok msg', 'ok na', 'ok need', 'ok next', 'ok no', 'ok noe', 'ok not', 'ok ok', 'ok omw', 'ok pa', 'ok pls', 'ok pm', 'ok popped', 'ok prob', 'ok problem', 'ok quite', 'ok said', 'ok sed', 'ok set', 'ok shall', 'ok shell', 'ok shit', 'ok so', 'ok stay', 'ok sweet', 'ok take', 'ok tell', 'ok thanks', 'ok thanx', 'ok thats', 'ok the', 'ok then', 'ok there', 'ok thk', 'ok throat', 'ok tot', 'ok try', 'ok umma', 'ok ur', 'ok very', 'ok vikky', 'ok vldo', 'ok wait', 'ok wanted', 'ok wat', 'ok wats', 'ok way', 'ok went', 'ok what', 'ok wif', 'ok will', 'ok wont', 'ok word', 'ok worry', 'ok would', 'ok wun', 'ok xxx', 'ok ya', 'ok youre', 'okay booked', 'okay call', 'okay chasing', 'okay every', 'okay going', 'okay good', 'okay ive', 'okay lor', 'okay name', 'okay no', 'okay not', 'okay sorry', 'okay thanks', 'okay thought', 'okay today', 'okay we', 'okay well', 'okay when', 'okay will', 'okay youre', 'okcome home', 'okday good', 'okden hunny', 'okey doke', 'okey dokey', 'okie depends', 'okie go', 'okie lor', 'okie lorgoin', 'okie lorwe', 'okie muz', 'okie okie', 'okie scared', 'okie thanx', 'okie wan', 'okies ill', 'okmail dear', 'okok okthenwhats', 'okors great', 'oktake care', 'oktake careumma', 'okthenwhats ur', 'okvarunnathu edukkukayee', 'ola would', 'olage ondu', 'olave mandara', 'olayiwolas mileage', 'old airport', 'old commercial', 'old dom', 'old friends', 'old hope', 'old ladies', 'old live', 'old man', 'old number', 'old orchard', 'old people', 'old raiden', 'old roomate', 'old shouldnt', 'old silver', 'old spinout', 'old websitenow', 'old work', 'ollubut good', 'olol printed', 'olowoyey uscedu', 'olympics txt', 'omg could', 'omg joanna', 'omg know', 'omg make', 'omg missed', 'omg one', 'omg want', 'omg yesterday', 'omw back', 'omw castor', 'omw gotta', 'on 8007', 'on boatin', 'on books', 'on charge', 'on da', 'on dammit', 'on in', 'on ltdecimalgt', 'on me', 'on monl8rsx', 'on my', 'on new', 'on paper', 'on reality', 'on road', 'on sat', 'on snowboarding', 'on sunday', 'on this', 'on tuesday', 'on way', 'on well', 'onam sirjii', 'oncall mjzgroup', 'once crying', 'once fishrman', 'once free', 'once get', 'once in', 'once map', 'once pick', 'ondu good', 'one anyway', 'one assume', 'one babe', 'one best', 'one blah', 'one breadstick', 'one bugis', 'one call', 'one called', 'one can', 'one chapter', 'one cheap', 'one class', 'one color', 'one colour', 'one commercial', 'one credit', 'one cut', 'one day', 'one days', 'one dear', 'one do', 'one doesnt', 'one drink', 'one dun', 'one dunno', 'one ear', 'one egg', 'one evening', 'one expecting', 'one fell', 'one flat', 'one foot', 'one forgot', 'one friend', 'one frm', 'one gals', 'one gbpsms', 'one gets', 'one give', 'one good', 'one goodo', 'one great', 'one guy', 'one half', 'one hospital', 'one how', 'one if', 'one im', 'one interested', 'one issues', 'one its', 'one jacket', 'one joys', 'one kappa', 'one kinda', 'one know', 'one knows', 'one language', 'one last', 'one law', 'one less', 'one like', 'one lined', 'one lineyou', 'one loads', 'one looks', 'one lor', 'one loves', 'one ltgt', 'one made', 'one maybe', 'one message', 'one midnight', 'one miss', 'one missed', 'one month', 'one name', 'one next', 'one night', 'one nighters', 'one obviously', 'one open', 'one orange', 'one pick', 'one play', 'one point', 'one powerful', 'one push', 'one quite', 'one real', 'one reflex', 'one registered', 'one ringtone', 'one rose', 'one round', 'one say', 'one saying', 'one slice', 'one slow', 'one small', 'one step', 'one stop', 'one swiss', 'one talking', 'one teach', 'one th', 'one the', 'one thing', 'one thinks', 'one thk', 'one time', 'one today', 'one told', 'one torch', 'one tt', 'one venugopal', 'one vid', 'one week', 'one who', 'one whole', 'one wicket', 'one wife', 'one wiv', 'one woman', 'onedge late', 'ones babe', 'ones bcoz', 'ones budget', 'ones gud', 'ones like', 'ones remembered', 'oni lar', 'oni ok', 'onionrs ltgt', 'onit small', 'online arrange', 'online checking', 'online how', 'online ive', 'online job', 'online let', 'online love', 'online need', 'online places', 'online second', 'online see', 'online shop', 'online spacebucks', 'online store', 'online today', 'online transaction', 'online use', 'online waiting', 'online yahoo', 'onluy matters', 'only 10', 'only 10p', 'only 150pmsg', 'only 150week', 'only amp', 'only buy', 'only gay', 'only got', 'only hospitals', 'only ill', 'only joking', 'only ltgt', 'only mark', 'only maths', 'only my', 'only no', 'only promise', 'only reason', 'only saturday', 'only started', 'only students', 'only two', 'only www4tcbiz', 'only1more sleep', 'onlybettr directly', 'onlydon know', 'onlyfound out', 'onto httpwwwurawinnercom', 'onto wwwb4utelecom', 'onum ela', 'onwards eve', 'onwards started', 'onwords mtnl', 'ooh 4got', 'oooh bed', 'oooh got', 'oooooh let', 'ooooooh forgot', 'oops got', 'oops ill', 'oops ltgt', 'oops mums', 'oops phone', 'oops shower', 'oops sorry', 'oops thk', 'oops tot', 'open back', 'open best', 'open cant', 'open chat', 'open da', 'open door', 'open haha', 'open mouth', 'open next', 'open people', 'open pussy', 'open rebtel', 'open return', 'open tonight', 'open wounds', 'opened email', 'openin sentence', 'opening mca', 'openings room', 'operate ltgt', 'operator claim', 'operator now', 'operator rates', 'operator the', 'opinion abt', 'opinion junna', 'opinion leh', 'opinion over', 'opinion something', 'opinions categories', 'opinions want', 'opponenter miss', 'opportunity bambling', 'opportunity happier', 'opportunity you', 'opportunityall went', 'opportunitypls keep', 'opposed drunken', 'opposite side', 'opps got', 'opt enjoy', 'opt out', 'opt reply', 'opt send', 'opt stop', 'opt text', 'opt txt', 'opted ur', 'optimistic things', 'optin subscriber', 'option sounds', 'optout 08718727870', 'optout availa', 'optout available', 'optout txt', 'or 1000', 'or 6times', 'or actually', 'or ask', 'or begging', 'or better', 'or bomb', 'or boring', 'or call', 'or denis', 'or even', 'or find', 'or for', 'or go', 'or going', 'or guess', 'or happy', 'or ill', 'or jus', 'or juz', 'or kickboxing', 'or know', 'or lady', 'or legal', 'or mall', 'or maybe', 'or meet', 'or motorola', 'or one', 'or remind', 'or something', 'or sumthinxx', 'or take', 'or the', 'or walk', 'or wan', 'or2stoptxt tcs', 'oral doggy', 'orange 12', 'orange available', 'orange bill', 'orange bluetooth', 'orange brings', 'orange call', 'orange cameravideo', 'orange contract', 'orange customer', 'orange dungerees', 'orange for', 'orange line', 'orange tariffs', 'orange user', 'orangei thnk', 'oranges latest', 'orc mrt', 'orchard already', 'orchard dads', 'orchard laready', 'orchard lor', 'orchard mrt', 'orchard near', 'orchard weigh', 'order follow', 'order grams', 'order half8th', 'order interflora', 'order it', 'order midnight', 'order phoenix', 'order processed', 'order quarter', 'order ref', 'order reference', 'order slippers', 'order way', 'ordered 81303', 'ordered ringtone', 'ordered taking', 'ordered ts', 'ore mo', 'oredi booked', 'oredi can', 'oredi cos', 'oredi fan', 'oredi got', 'oredi lar', 'oredi late', 'oredi leh', 'oredi many', 'oreo truffles', 'oreos are', 'organise something', 'organizer ltgt', 'orh tot', 'orig arcade', 'original best', 'original either', 'orno opt', 'ors every', 'ortxt back', 'oru minnaminunginte', 'oru pole', 'os called', 'os copy', 'oso aft', 'oso ask', 'oso boring', 'oso brief', 'oso cannot', 'oso dunno', 'oso forgot', 'oso gee', 'oso go', 'oso muz', 'oso near', 'oso okie', 'oso rite', 'oso saw', 'oso scared', 'oso sian', 'oso wan', 'oso we', 'otbox 731', 'other close', 'other nos', 'other true', 'other wise', 'others feel', 'others heart', 'others hit', 'others life', 'others ok', 'others plz', 'others probably', 'others took', 'others youd', 'otherwise able', 'otherwise light', 'otherwise nalla', 'otherwise part', 'otherwise tomorrow', 'otherwise you', 'othrs spoon', 'otside leu', 'otside nw', 'ou guaranteed', 'ouch wish', 'our brand', 'our computer', 'our dating', 'our final', 'our friendship', 'our guy', 'our heart', 'our members', 'our plans', 'our prasanth', 'our prashanthettans', 'our records', 'our ride', 'our total', 'ourbacks fuckinniceselfishdeviousbitchanywayi', 'oursso leave', 'out 2nite', 'out 88088', 'out afew', 'out cause', 'out choose', 'out customer', 'out soon', 'out unsubscribe', 'out via', 'out why', 'out with', 'outages conserve', 'outbid simonwatson5120', 'outdoors and', 'outfor meal', 'outgoing you', 'outhave good', 'outif im', 'outl8rjust reallyneed', 'outrageous but', 'outreach you', 'outs da', 'outside already', 'outside bedroom', 'outside cos', 'outside front', 'outside gap', 'outside got', 'outside im', 'outside islands', 'outside izzit', 'outside like', 'outside mu', 'outside office', 'outside players', 'outside wun', 'outsomewhere adrink', 'outstanding innings', 'outstanding invoices', 'outstanding one', 'outta class', 'outta way', 'ovarian cysts', 'over 18', 'over 300', 'over in', 'over jada', 'overa week', 'overdid mon', 'overdose of', 'overemphasiseor role', 'overheating also', 'overtime nigpun', 'ovr chikkuali', 'ovulatewhen get', 'ovulation relax', 'ovulation test', 'ow deyi', 'owed face', 'owl licks', 'owned possessive', 'owns enjoy', 'owns whos', 'ownyouve got', 'owo wa', 'oxygen might', 'oyster got', 'oz guy', 'oz kind', 'oz let', 'oz lucozade', 'pa able', 'pa after', 'pa applyed', 'pa dont', 'pa drink', 'pa had', 'pa how', 'pa normal', 'pa nothing', 'pa please', 'pa said', 'pa selected', 'pa tell', 'pa thank', 'pa what', 'pa where', 'paces maybe', 'pack buy', 'pack food', 'pack gari', 'package min', 'package programs', 'package since', 'packalso take', 'packing car', 'packs lucozadecoukwrc', 'page collect', 'page go', 'page still', 'page ugh', 'page want', 'page wwwasjesuscom', 'pages add', 'pai seh', 'paid 60400thousadi', 'paid goto', 'paid last', 'paid market', 'paid still', 'paid the', 'pain ass', 'pain back', 'pain came', 'pain catch', 'pain coming', 'pain couldnt', 'pain de', 'pain deary', 'pain feel', 'pain if', 'pain inside', 'pain is', 'pain killing', 'pain kind', 'pain meds', 'pain pls', 'pain smile', 'pain spose', 'pain surgical', 'pain urination', 'painful maintaining', 'painful personal', 'painful words', 'painhope fine', 'painit come', 'painting ur', 'pale moon', 'palm hear', 'pan case', 'pan likely', 'panalambut posts', 'panasonic bluetoothhdset', 'pandy joined', 'panic surrender', 'panic time', 'panicks starts', 'panren paru', 'pansy youve', 'panther game', 'pap slowly', 'pap smear', 'papa needs', 'paper da', 'paper ended', 'paper go', 'paper morn', 'paper on', 'paper phone', 'paper today', 'paper words', 'papers sem', 'paperwork called', 'paperwork not', 'paracetamol dont', 'parachute double', 'paragon called', 'paragon havent', 'paranoid fuck', 'parantella lane', 'parchi na', 'parco nb', 'parent itsnot', 'parentnot theyre', 'parents for', 'parents forgot', 'parents gettin', 'parents my', 'parents place', 'parents say', 'parents tonite', 'parents working', 'parentsi new', 'paris inc', 'paris nights', 'paris no', 'parisfree roses', 'parish magazine', 'park 69696', 'park car', 'park galcan', 'park long', 'park mel', 'park plaza', 'park recently', 'park village', 'park6ph 1st', 'parked car', 'parked next', 'parkin kent', 'parking garage', 'parking lot', 'part checking', 'part dont', 'part exhaust', 'part hearts', 'part im', 'part keep', 'part missing', 'part mobile', 'part nottingham', 'part of', 'part ordered', 'part oredi', 'part send', 'part time', 'part tomorrow', 'part txt', 'part ur', 'part wrc', 'participate welcome', 'particular dramastorms', 'particularly legal', 'partner area', 'partner just', 'partner soon', 'partner trip', 'partners name', 'partnership going', 'partnership invest', 'parts hows', 'party animal', 'party boat', 'party days', 'party doesnt', 'party dude', 'party good', 'party lots', 'party ltgt', 'party tarpon', 'party together', 'party with', 'partys place', 'pases un', 'pass 69669', 'pass bergkamp', 'pass call', 'pass dis', 'pass fun', 'pass lar', 'pass right', 'pass stop', 'pass time', 'passable and', 'passed away', 'passed last', 'passed papers', 'passes using', 'passion b4', 'passionate kiss', 'passport smth', 'passthey silently', 'password anybody', 'password mix', 'password reset', 'password wap', 'passwordsatmsms pin', 'past cos', 'past five', 'past history', 'past its', 'past months', 'past nights', 'pataistha ertini', 'path appear', 'pathaya enketa', 'paths made', 'patients like', 'patrick swayze', 'pattern emerging', 'pattern recently', 'patty donewant', 'pattys interest', 'paul didn', 'pause auction', 'pay agree', 'pay anything', 'pay back', 'pay charge', 'pay find', 'pay first', 'pay go', 'pay like', 'pay ltdecimalgt', 'pay ltgt', 'pay priceso', 'pay rent', 'pay returning', 'pay rise', 'pay test', 'pay ticket', 'pay treat', 'pay with', 'payasam rinu', 'payed suganya', 'payed2day havbeen', 'payee log', 'paying attention', 'paying lipo', 'paying money', 'paying much', 'paying rent', 'paying school', 'paying thanks', 'payment portal', 'payments dont', 'payoh got', 'payoh return', 'paypal voila', 'pc enjoy', 'pc go', 'pc moms', 'pc phone', 'pc please', 'pdatenow double', 'peace the', 'peaceful guess', 'peaceful sleep', 'peach my', 'peak to', 'pears day', 'pee burns', 'peeps using', 'pehle naseeb', 'pei bf', 'pen thing', 'pence per', 'pending come', 'pending works', 'pendingi mail', 'penis girls', 'penny says', 'people amp', 'people around', 'people but', 'people called', 'people care', 'people cool', 'people dearer', 'people dogging', 'people dont', 'people first', 'people for', 'people game', 'people gud', 'people hate', 'people hit', 'people ive', 'people jog', 'people life', 'people mu', 'people my', 'people notixiquating', 'people registered', 'people sarasota', 'people see', 'people seems', 'people spend', 'people still', 'people sure', 'people use', 'people waiting', 'people we', 'people wear', 'people week', 'people were', 'people wil', 'peoples much', 'per 10', 'per convenience', 'per day', 'per days', 'per logopic', 'per min', 'per minute', 'per month', 'per msg', 'per night', 'per person', 'per pole', 'per request', 'per ten', 'per week', 'per weekstop', 'per wk', 'percent sure', 'perf or', 'perfect christmas', 'perfect partner', 'perfect time', 'perform write', 'performance award', 'perfume smth', 'perhaps much', 'perhaps no', 'peril of', 'period ended', 'period reapply', 'peripherals bhayandar', 'permanent residency', 'permissions drive', 'perpetual dd', 'persevered found', 'persian phrase', 'person accounting', 'person bt', 'person call', 'person cant', 'person definitely', 'person die', 'person dont', 'person dorm', 'person establish', 'person give', 'person gonna', 'person guide', 'person ill', 'person know', 'person like', 'person love', 'person luv', 'person needs', 'person reading', 'person sending', 'person so', 'person sort', 'person special', 'person till', 'person today', 'person unconscious', 'person who', 'person whos', 'person wonderful', 'person2die nvq', 'personal cost', 'personal details', 'personal sized', 'personal statement', 'personal thought', 'personality 3rd', 'personally wuldnt', 'personmeet you', 'persons cozsomtimes', 'persons story', 'perspective something', 'pesky cyclists', 'pest exterminator', 'pete dick', 'pete ive', 'pete please', 'pete who', 'pete wuld', 'pete xx', 'peteis phone', 'petey boy', 'peteynoi ok', 'petrol lor', 'petrol the', 'petrolrs ltgt', 'pg 750', 'pg cover', 'pg references', 'pharmacy like', 'phasing fourth', 'phd get', 'phews miss', 'phil neville', 'philosophical hole', 'philosophy just', 'philosophy text', 'phne say', 'phoenix book', 'phone 11mths', 'phone 40gb', 'phone 600', 'phone 750', 'phone actually', 'phone age', 'phone agent', 'phone answer', 'phone ask', 'phone battery', 'phone becausethey', 'phone bright', 'phone browse', 'phone call', 'phone callon', 'phone card', 'phone charge', 'phone chat', 'phone click', 'phone could', 'phone dead', 'phone delivered', 'phone deliveredtomorrow', 'phone details', 'phone didnt', 'phone died', 'phone eh', 'phone every', 'phone fancy', 'phone father', 'phone five', 'phone get', 'phone go', 'phone gonna', 'phone got', 'phone half', 'phone home', 'phone im', 'phone is', 'phone it', 'phone knows', 'phone lol', 'phone lovly', 'phone me', 'phone miss', 'phone my', 'phone needs', 'phone now', 'phone number', 'phone parents', 'phone pc', 'phone phone', 'phone phoned', 'phone plan', 'phone receiving', 'phone recharged', 'phone right', 'phone ring', 'phone rply', 'phone see', 'phone send', 'phone services', 'phone side', 'phone silent', 'phone still', 'phone subscribe6gbpmnth', 'phone ta', 'phone text', 'phone that', 'phone this', 'phone today', 'phone tomo', 'phone tomorrow', 'phone txt', 'phone unknown', 'phone upgrade', 'phone upstairs', 'phone want', 'phone wanted', 'phone weirdest', 'phone750 anytime', 'phonebook sms', 'phoned disconnected', 'phoned someone', 'phones call', 'phones free', 'phones half', 'phones linerental', 'phones problems', 'phones vibrate', 'phony 350', 'photo ever', 'photo its', 'photo messages', 'photo registered', 'photo shoot', 'photo upload', 'photos and', 'photos lei', 'photos useful', 'photos yesterday', 'photos you', 'photoshop makes', 'php rg21', 'phrase shah', 'physics get', 'piah quite', 'pic 89080', 'pic fancy', 'pic jordan', 'pic jordantxt', 'pic like', 'pic message', 'pic msgs', 'pic nick', 'pic please', 'pic right', 'pic send', 'pick 515pm', 'pick 530', 'pick 645pm', 'pick another', 'pick ave', 'pick bout', 'pick bread', 'pick burger', 'pick call', 'pick calldrove', 'pick college', 'pick come', 'pick drop', 'pick engin', 'pick for', 'pick friday', 'pick hour', 'pick ill', 'pick im', 'pick lamp', 'pick lar', 'pick later', 'pick lor', 'pick me', 'pick nothing', 'pick number', 'pick open', 'pick parents', 'pick phone', 'pick place', 'pick prescription', 'pick rayan', 'pick second', 'pick sister', 'pick something', 'pick sunday', 'pick tomorrow', 'pick tuesday', 'pick ur', 'pick usno', 'picked downstem', 'picked flower', 'picked loyal', 'picked receipt', 'picked you', 'picking ard', 'picking ltgt', 'picking tomo', 'picking trash', 'picking us', 'picking various', 'picking vegetables', 'picking wherever', 'pics 16', 'pics 89555', 'pics bigger', 'pics fb', 'pics get', 'pics gettin', 'pics hot', 'pics hurry', 'pics looked', 'pics obviously', 'pics pocketbabecouk', 'pics sent', 'pics straight', 'pics wap', 'pics you', 'pics yr', 'picsfree1 get', 'picsfree1 video', 'picture ache', 'picture room', 'picture sent', 'pictures ass', 'pictures facebook', 'pictures sleep', 'pictures today', 'pictxt reply', 'pie like', 'pie lol', 'pie you', 'piece priscillas', 'pieces cloth', 'pieces lol', 'pieces research', 'pierre cardin', 'pig clover', 'pig dieting', 'pig leh', 'pig yesterday', 'piggy awake', 'pilates intro', 'pilates or', 'pilates orchard', 'pilates yoga', 'pile ironing', 'pillows floor', 'pimpleseven become', 'pin display', 'pin show', 'pin tgxxrz', 'pin thru', 'pink furniture', 'pink panther', 'pinku swt', 'pints carlin', 'pisces im', 'piss is', 'piss phone', 'pissed didnt', 'pissed id', 'pissed not', 'pissed remember', 'pity mood', 'pix 8552', 'pix cumming', 'pix qlynnbv', 'pix want', 'pix would', 'pixels 3optical', 'pizza cant', 'pizza know', 'pizza lol', 'pizza meat', 'pizza want', 'pizza yesterday', 'pl give', 'place 28th', 'place 4cook', 'place always', 'place apologise', 'place around', 'place but', 'place call', 'place dat', 'place dorm', 'place get', 'place go', 'place heart', 'place high', 'place ill', 'place key', 'place last', 'place later', 'place like', 'place man', 'place many', 'place midnight', 'place near', 'place nuther', 'place order', 'place others', 'place poorly', 'place send', 'place sent', 'place show', 'place south', 'place stay', 'place talk', 'place the', 'place tonight', 'place town', 'place ur', 'place usf', 'place walk', 'place want', 'place well', 'place wil', 'placed birla', 'placement ah', 'placement training', 'placeno reason', 'places around', 'places like', 'places looked', 'places only', 'places safe', 'plaid albumquite', 'plan bringing', 'plan cardiff', 'plan come', 'plan end', 'plan get', 'plan go', 'plan liao', 'plan limping', 'plan manage', 'plan meet', 'plan pay', 'plan pongal', 'plan require', 'plan sat', 'plan spending', 'plan staying', 'plan travel', 'plan trip', 'plan valentines', 'plan weekend', 'plane bt', 'plane give', 'plane ws', 'planet earthsofa', 'planeti always', 'planettalkinstantcom info', 'planned go', 'planned hope', 'planned im', 'planned tomorrow', 'planned wil', 'planned yet', 'planned yo', 'planning buy', 'planning come', 'planning coming', 'planning get', 'planning give', 'planning pig', 'planning usually', 'planning wk', 'plans family', 'plans new', 'plans nxt', 'plans take', 'plans uslet', 'plans yet', 'plate not', 'platt instead', 'play 250k', 'play 83370', 'play 85222', 'play 8neighbour', 'play along', 'play computer', 'play doors', 'play first', 'play football', 'play footy', 'play hold', 'play ice', 'play instant', 'play it', 'play java', 'play jokes', 'play know', 'play later', 'play now', 'play official', 'play one', 'play others', 'play peaceful', 'play send', 'play text', 'play that', 'play usb', 'played mid', 'played original', 'played smash', 'player 400', 'player 500', 'player arrive', 'player free', 'player know', 'player wins', 'players allowed', 'players base', 'players selected', 'players unsold', 'playerwhy unsold', 'playi driving', 'playin space', 'playing football', 'playing gautham', 'playing jays', 'playing much', 'playing umma', 'playng doors', 'plaza 700', 'plaza mah', 'pleasant surprise', 'please actually', 'please ask', 'please attend', 'please been', 'please call', 'please charge', 'please come', 'please complete', 'please confirm', 'please contact', 'please cos', 'please da', 'please dont', 'please every', 'please find', 'please forgive', 'please get', 'please give', 'please go', 'please got', 'please help', 'please inside', 'please its', 'please last', 'please leave', 'please let', 'please luv', 'please message', 'please protect', 'please queen', 'please reply', 'please resend', 'please reserve', 'please ring', 'please see', 'please sen', 'please send', 'please take', 'please tell', 'please top', 'please wait', 'pleased advise', 'pleased inform', 'pleased send', 'pleased shelves', 'pleassssssseeeeee tel', 'pleasure company', 'pleasure going', 'pleasure meeting', 'pleasure smile', 'plenty plenty', 'plenty time', 'plenty water', 'plm come', 'plm ur', 'ploughing way', 'pls accept', 'pls ask', 'pls buy', 'pls call', 'pls clarify', 'pls come', 'pls confirm', 'pls continue', 'pls convey', 'pls da', 'pls dont', 'pls drink', 'pls fill', 'pls find', 'pls give', 'pls go', 'pls goto', 'pls gotto', 'pls help', 'pls holla', 'pls join', 'pls keep', 'pls know', 'pls leave', 'pls let', 'pls load', 'pls lots', 'pls make', 'pls needs', 'pls open', 'pls pls', 'pls pray', 'pls relax', 'pls reply', 'pls resubmit', 'pls send', 'pls speak', 'pls stop', 'pls tell', 'pls today', 'pls want', 'pls whats', 'pls wont', 'plsi enough', 'plum loverboy', 'plumbers tape', 'plumbingremixed evil', 'plural noun', 'plus 10', 'plus bank', 'plus drink', 'plus free', 'plus hes', 'plus hows', 'plus interfued', 'plus know', 'plus loads', 'plus lor', 'plus minus', 'plus one', 'plus really', 'plus said', 'plus saying', 'plus sign', 'plus started', 'plus two', 'plus whens', 'plyr bid', 'plz call', 'plz dont', 'plz giv', 'plz just', 'plz keep', 'plz lt3', 'plz note', 'plz nxt', 'plz plz', 'plz slip', 'plz stay', 'plz tell', 'plz your', 'pm dangerous', 'pm dps', 'pm esaplanade', 'pm fav', 'pm lor', 'pm now', 'pm show', 'pm tonite', 'pm vijay', 'pm vikkyim', 'pmt sumthin', 'po box', 'po box1146', 'po box245c2150pm', 'po box385', 'po box420', 'po de', 'po mudyadhu', 'po19 2ez', 'pobox 139', 'pobox 2667', 'pobox 36504', 'pobox 4403ldnw1a7rw18', 'pobox 7876150ppm', 'pobox ls15hb', 'pobox s3xy', 'pobox1 w14rg', 'pobox11414tcrw1 16', 'pobox202 nr31', 'pobox334 stockport', 'pobox36504w45wq 150p', 'pobox36504w45wq 150pmsg', 'pobox36504w45wq txtno', 'pobox365o4w45wq 300p', 'pobox84 m26', 'pobox84 m263uz', 'poboxox36504w45wq 16', 'pocay wocay', 'pocketbabecouk 0870241182716', 'pocketbabecouk pics', 'pocy bell', 'pod 80182', 'pod 84128', 'poem dear', 'poet needs', 'point crazy', 'point figure', 'point guess', 'point hangin', 'point have', 'point iron', 'point january', 'point this', 'point thought', 'point tomo', 'points call', 'points cultures', 'points division', 'points going', 'points to', 'poking man', 'pole allalo', 'pole unsub', 'police 2police', 'police abstract', 'police arrested', 'police station', 'politicians itna', 'politicians we', 'polo ltd', 'poly breathe1', 'poly charity', 'poly eg', 'poly go', 'poly mono', 'poly ringtone', 'poly text', 'poly title', 'poly tone', 'poly tones', 'poly200p 16', 'poly3 cha', 'polyc polys', 'polyh music', 'polyph music', 'polyphonic ringtone', 'polyphonic ringtones', 'polyphonic tone', 'polyphonic tones', 'polys 87131', 'polys direct', 'polys month', 'polys nokia150p', 'polys weekly', 'polys zed', 'polytruepixringtonesgames six', 'pongaldo get', 'ponnungale ipaditan', 'pookie pie', 'pool jacuzzi', 'pool money', 'poop looks', 'poor babyhope', 'poor country', 'poor girl', 'poor india', 'poor relation', 'poor thing', 'poor zac', 'poorly thought', 'poortiyagi odalebeku', 'pop em', 'pop how', 'popcorn hair', 'popcornjust show', 'popped ask', 'popped loo', 'popped sux', 'popping ltgt', 'porn 69200', 'porn 69855', 'porn direct', 'porn fun', 'porridge claypot', 'port step', 'portal ill', 'portege m100', 'portions me', 'pose comb', 'posh birds', 'posible dnt', 'position how', 'positions kama', 'positive negative', 'possession especially', 'possession my', 'possession shit', 'possessive passionate', 'possessiveness poured', 'possibility pub', 'possible dint', 'possible teach', 'possible witot', 'possiblehope makes', 'possibly first', 'post bcm4284', 'post come', 'post guy', 'post l8r', 'post nitro', 'post office', 'post officeunderstand', 'post ofice', 'post oficegot', 'post save', 'post weeks', 'post wrote', 'postal addressull', 'postcard buttheres', 'postcard look', 'postcode gaytextbuddycom', 'posted couple', 'posted facebook', 'posted luv', 'posted prey', 'posterode dis', 'posting chennaibecause', 'postponed still', 'posts helloyou', 'potato head', 'potential abuse', 'potential talent', 'potter order', 'pouch like', 'pound award', 'pound end', 'pound offering', 'pound prize', 'pound special', 'pounded every', 'pounds accident', 'pounds compensation', 'pounds free', 'pounds genuine', 'pounds maximize', 'pounds per', 'pounds seven', 'pounds since', 'pounds txt', 'poured ur', 'pours like', 'pouts stomps', 'power boundaries', 'power of', 'power suply', 'power supplies', 'power yoga', 'powerful weapon', 'poyyarikaturkolathupalayamunjalur posterode', 'ppl dont', 'ppl fromwrk', 'ppl im', 'ppl post', 'ppl together', 'pple marry', 'pple take', 'pple type', 'pple700 900', 'ppm 150', 'ppm 18', 'ppm150 sae', 'ppt150x3normal text', 'prabha islove', 'prabha that', 'prabhaim sorydarealyfrm', 'prabu told', 'pract lessons', 'practical lessons', 'practical something', 'practice real', 'practicing accent', 'practicing making', 'practicum links', 'practising curtsey', 'praises herlove', 'prakasam ennal', 'prakasamanu sneham', 'prakesh know', 'praps meant', 'prasanth ettans', 'prashanthettans mother', 'pray evening', 'pray family', 'pray get', 'pray good', 'pray hard', 'pray herwho', 'prayers dearrakhesh', 'praying god', 'prayingwill talk', 'prayrs if', 'pre booked', 'prebook vip', 'predict wat', 'predicte nigeria', 'predicting inch', 'predictive text', 'prefer free', 'prefer spend', 'preferably citizen', 'preferably kegger', 'preferably pap', 'prem rate', 'premaricakindly informedrgdsrakheshkerala', 'premier call', 'premium phone', 'premium pink', 'prepaid account', 'prepare next', 'prepare pleasured', 'prepare pounded', 'prepared now', 'prepared take', 'prepayment direct', 'preponed go', 'preschoolcoordinator 2i', 'prescribed morphine', 'prescripiton drvgsto', 'prescription pain', 'prescription pharmacy', 'presence since', 'present ar', 'present enjoy', 'present lei', 'present number', 'present swatch', 'present wan', 'presents ill', 'president txt', 'presleys birthday', 'presnts always', 'press buttons', 'press conference', 'press copy', 'press games', 'press key', 'pressure within', 'prestige problem', 'pretend text', 'pretsorginta nammanna', 'pretsovru important', 'pretty babies', 'pretty booty', 'pretty dress', 'pretty how', 'pretty lady', 'pretty late', 'pretty much', 'pretty parents', 'pretty pissed', 'pretty pussy', 'pretty reasonable', 'pretty sculpture', 'pretty weak', 'pretty wif', 'prevent dehydration', 'previews youre', 'previous attempt', 'previous problem', 'previous report', 'previously refused', 'prey loving', 'prey teasing', 'prey think', 'price bedrm', 'price haiz', 'price in', 'price line', 'price linerental', 'price long', 'price ltgt', 'price orange', 'price range', 'price rental', 'price so', 'price to', 'price txt', 'prices mean', 'priceso itmay', 'pride im', 'priest call', 'prince charming', 'princes nite', 'princess are', 'princess bet', 'princess cover', 'princess do', 'princess europe', 'princess happy', 'princess have', 'princess how', 'princess kitty', 'princess like', 'princess love', 'princess please', 'princess run', 'princess thank', 'princess toledo', 'princess ttyl', 'princess want', 'princess we', 'princess what', 'princess you', 'print marandratha', 'print outs', 'printed forum', 'printed oh', 'printer cool', 'printing handing', 'prior grief', 'priority constantly', 'priscillas bowl', 'priscillas ready', 'privacy no', 'privacy stealing', 'private line', 'private property', 'private your', 'priya right', 'prize 020603', 'prize 020903', 'prize 100603', 'prize 10803', 'prize 27603', 'prize 5903', 'prize call', 'prize claim', 'prize code', 'prize draw', 'prize drawplease', 'prize draws', 'prize either', 'prize enter', 'prize final', 'prize go', 'prize guaranteed', 'prize jackpot', 'prize just', 'prize know', 'prize prize', 'prize quizclub', 'prize reward', 'prize text', 'prize to', 'prize transferred', 'prize txt', 'prize worth', 'prize yesterday', 'prizeawaiting you', 'prizes soon', 'prizeto claim', 'pro video', 'prob fixed', 'prob home', 'prob ill', 'prob jus', 'prob send', 'prob take', 'probably around', 'probably bed', 'probably closer', 'probably come', 'probably coming', 'probably couple', 'probably dear', 'probably earlier', 'probably failed', 'probably first', 'probably going', 'probably gone', 'probably gonna', 'probably im', 'probably ltgt', 'probably money', 'probably much', 'probably still', 'probably sure', 'probably swing', 'probably take', 'probably tomorrow', 'probably txt', 'probably want', 'probably wont', 'problem auctionpunj', 'problem baby', 'problem capital', 'problem frm', 'problem get', 'problem have', 'problem helps', 'problem how', 'problem least', 'problem listen', 'problem renewal', 'problem sent', 'problem south', 'problem talk', 'problem thanx', 'problem thing', 'problem thts', 'problem we', 'problem when', 'problem you', 'problem yup', 'problematic sat', 'problembut still', 'problemfree places', 'problemi help', 'problems mayb', 'problems provider', 'problems sent', 'problems they', 'problems ur', 'problms litres', 'problum nalli', 'probs hon', 'probs last', 'probthat overdose', 'process direct', 'processed successfully', 'processexcellent english', 'processits password', 'processnetworking field', 'prods champneys', 'prof gud', 'prof passed', 'professional sport', 'professors wer', 'profile seems', 'profit but', 'profit charity', 'program youre', 'programs well', 'progress can', 'project centre', 'project everyone', 'project frens', 'project going', 'project hours', 'project meeting', 'project pa', 'project prabu', 'project started', 'project tmr', 'project twins', 'projects every', 'prolly get', 'prolly wont', 'prolly yeah', 'prometazine syrup', 'prominent bite', 'promise getting', 'promise ill', 'promise ring', 'promise says', 'promise take', 'promise treat', 'promise wont', 'promise you', 'promised carlie', 'promises make', 'promises part', 'promises though', 'promoting hex', 'promotion number', 'promptly dropped', 'prompts careful', 'prone falls', 'proof fb', 'proof ltgt', 'proove anyone', 'proper tongued', 'properly got', 'property and', 'property mmm', 'propose going', 'propose today', 'propsd bt', 'pros cons', 'prospects are', 'prospects miss', 'prospects yet', 'protect ethreats', 'prove gud', 'proverb if', 'provided aom', 'provided tones2youcouk', 'provider thank', 'province sterling', 'proze guaranteed', 'prsn close', 'ps this', 'ps ur', 'ps want', 'ps3 play', 'pshewmissing much', 'psp 250', 'psxtra lrg', 'psychiatrist ltgt', 'psychic reply', 'psychologist ltgt', 'pt2 87575', 'ptbo blue', 'ptbo hope', 'ptbo says', 'pthis makes', 'pub called', 'pub either', 'pub gas', 'pub im', 'pub instead', 'pub later', 'pub quizwin', 'pub wanted', 'pub would', 'pubcafe sit', 'public holiday', 'publish shall', 'pubs near', 'pudunga venaam', 'pull case', 'pulling hair', 'pulls head', 'pump petrol', 'punishment face', 'punto that', 'puppy noise', 'pura india', 'purchase stuff', 'purchase video', 'purchases yet', 'pure hearted', 'purity friendship', 'purpleu realy', 'purpose 500', 'purpose even', 'push decimal', 'pushbutton dontcha', 'pushes edge', 'pushes knees', 'pussy cum', 'pussy perfect', 'put 10', 'put back', 'put bk', 'put case', 'put clocks', 'put dictionary', 'put excellent', 'put know', 'put ltgt', 'put makes', 'put need', 'put new', 'put paces', 'put party', 'put phone', 'put pictures', 'put place', 'put plus', 'put see', 'put sign', 'put sim', 'put skip', 'put smile', 'put stuff', 'put walls', 'puts things', 'puttin da', 'puttin weighthaha', 'putting ad', 'putting business', 'putting constant', 'putting firesare', 'putting it', 'putting us', 'puzzles area', 'qatar insha', 'qatar pls', 'qatar tonite', 'qatarrakhesh indianpls', 'qbank buying', 'qi bored', 'qing if', 'qlynnbv help08700621170150p', 'quality aint', 'quality he', 'quality if', 'quality items', 'quality ringtone', 'quality time', 'quality wins', 'quarter got', 'que pases', 'queen are', 'queen hmmm', 'queen this', 'queries customersqueriesnetvisionukcom', 'ques colour', 'question arises', 'question but', 'question complete', 'question cute', 'question follows', 'question hours', 'question try', 'question week', 'question who', 'question xam', 'questioned everyone', 'questions chance', 'questions infotxt82228couk', 'questions like', 'questions play', 'questions test', 'questions wise', 'questionstd txt', 'quick cant', 'quick cuppa', 'quick drink', 'quick question', 'quick reply', 'quick shower', 'quickly dai', 'quickly go', 'quickly open', 'quiet beth', 'quiet leaves', 'quit get', 'quit soon', 'quit yet', 'quite big', 'quite bit', 'quite blackand', 'quite clean', 'quite clever', 'quite dark', 'quite diff', 'quite early', 'quite ex', 'quite fast', 'quite funny', 'quite gd', 'quite go', 'quite good', 'quite know', 'quite late', 'quite light', 'quite long', 'quite lor', 'quite nice', 'quite ok', 'quite prone', 'quite reality', 'quite sad', 'quite short', 'quite sure', 'quite tired', 'quite tiring', 'quiteamuzing that', 'quitting least5times', 'quiz cashbalance', 'quiz starts', 'quiz take', 'quiz text', 'quiz what', 'quiz win', 'quiz wkly', 'quizclub opt', 'quizwin 100', 'quizzes popcorn', 'quote 1st', 'quote develop', 'quote ever', 'quote sometimes', 'quoting claim', 'r836 your', 'racal libertines', 'racing phone', 'racing today', 'radio last', 'radio show', 'radio times', 'raed wihtuot', 'rael friendship', 'raglan rd', 'rahul dengra', 'raiden got', 'railway what', 'rain cant', 'rain hail', 'rain leh', 'rain like', 'rain smile', 'rain soon', 'rain stop', 'raining got', 'raining heavily', 'raining mah', 'raining non', 'raining then', 'raise dough', 'raise ill', 'raise ltgt', 'raised complaint', 'raj ranju', 'rajas burrito', 'rajini comes', 'rajipls favour', 'rajitha raj', 'rajnikant stopped', 'rakhesh ex', 'raksha ollubut', 'rally le', 'rally oz', 'ralphs maybe', 'ramen unless', 'ran dry', 'ran like', 'ran the4th', 'ran younger', 'random btw', 'random dude', 'random saw', 'randomlly within', 'randomly picked', 'randomly reformat', 'randy reply', 'randy sexy', 'rang 430', 'rang india', 'rang melnite', 'range however', 'range want', 'ranjith cal', 'ranjith sir', 'raping dudes', 'rate 10pmin', 'rate 15pmin', 'rate box403', 'rate call', 'rate get', 'rate msgsubscription', 'rate someone', 'rate tcs', 'rates app', 'rates apply', 'rates new', 'ratetcs apply', 'rather get', 'rather keep', 'rather loving', 'rather nice', 'rather pass', 'rather prominent', 'rather text', 'ratio tortilla', 'rats hey', 'raviyog peripherals', 'rawring flame', 'rayan macleran', 'rayman golf', 'rays cloud', 'rays leaves', 'rcbbattle bang', 'rcd 16', 'rct thnq', 'rcv msgs', 'rcvd 25p', 'rcvd custcare08718720201', 'rcvd hgsuite3422landsroww1j6hl', 'rd behind', 'rd edward', 'rd lor', 'rd traffic', 'rdy ship', 're call', 'reach 4o', 'reach accordinglyor', 'reach ard', 'reach call', 'reach consensus', 'reach destination', 'reach home', 'reach inside', 'reach liao', 'reach long', 'reach office', 'reach orchard', 'reach pl', 'reach school', 'reach she', 'reach ten', 'reach tomorw', 'reach ur', 'reach without', 'reach you', 'reache room', 'reached already', 'reached call', 'reached home', 'reached railway', 'reached sch', 'reaching another', 'reaching ard', 'reaching home', 'reaching homelove', 'reaching message', 'reaching soon', 'reaching tp', 'reacting im', 'reaction lor', 'reaction morning', 'read anything', 'read carefully', 'read it', 'read itjust', 'read light', 'read love', 'read need', 'read shame', 'read something', 'read twice', 'read wrote', 'reading forwarded', 'reading gud', 'reading my', 'reading plus', 'reading semi', 'reading text', 'reading this', 'reading women', 'ready 4fil', 'ready bat', 'ready big', 'ready but', 'ready call', 'ready date', 'ready download', 'ready fight', 'ready fyi', 'ready im', 'ready kind', 'ready leave', 'ready ltgt', 'ready lttimegt', 'ready meet', 'ready moan', 'ready porn', 'ready put', 'ready saved', 'ready shopping', 'ready spoiled', 'ready summer', 'ready thursday', 'ready time', 'ready use', 'ready yet', 'readyall well', 'real april', 'real baby', 'real breath', 'real danger', 'real date', 'real doggin', 'real dogging', 'real getting', 'real life', 'real man', 'real matches', 'real meaning', 'real people', 'real poly', 'real sense', 'real she', 'real text', 'real thing', 'real tho', 'real ur', 'real valentine', 'real value', 'real word', 'real1 pushbutton', 'realise busy', 'realise that', 'realised wahay', 'realising actually', 'reality check', 'reality fantasy', 'realize 40', 'realize cannot', 'realized absence', 'realized embarassed', 'realized said', 'realizes dont', 'really ah', 'really anti', 'really appreciate', 'really bad', 'really bam', 'really bored', 'really broke', 'really busy', 'really buy', 'really care', 'really crashed', 'really did', 'really didnt', 'really dont', 'really dude', 'really dun', 'really ever', 'really expensive', 'really gentle', 'really getting', 'really good', 'really gooddhanush', 'really greatbhaji', 'really help', 'really hope', 'really hoped', 'really horny', 'really hungry', 'really hurt', 'really impatient', 'really like', 'really looking', 'really loud', 'really love', 'really loves', 'really making', 'really miss', 'really missin', 'really missing', 'really nasty', 'really need', 'really neva', 'really nice', 'really oh', 'really perform', 'really pig', 'really pretty', 'really quite', 'really really', 'really scraped', 'really shocking', 'really side', 'really skateboarding', 'really sore', 'really sorry', 'really starting', 'really still', 'really surprised', 'really tot', 'really try', 'really trying', 'really wanna', 'really wanted', 'really what', 'really wish', 'reallyneed 2docdplease', 'realy hot', 'realy mising', 'realy sorryi', 'realy soz', 'realy wana', 'reapply do', 'rearrange letters', 'reason ego', 'reason ese', 'reason everything', 'reason if', 'reason im', 'reason smile', 'reason take', 'reason team', 'reason weve', 'reason wont', 'reason worry', 'reasonable hour', 'reasonable im', 'reasons called', 'reasons nobodys', 'reasons smile', 'reasons thank', 'reassuring crazy', 'rebel sweet', 'reboot ym', 'rebtel firefox', 'rec 150ea', 'rec center', 'recd cust', 'recd msgs', 'recdthirtyeight pence', 'receipt correct', 'receipt something', 'receipt sound', 'receipts shall', 'receipts well', 'receive 1000', 'receive 2000', 'receive 3000', 'receive 350', 'receive 400', 'receive 500000', 'receive 50award', 'receive 900', 'receive account', 'receive bonus', 'receive by', 'receive entry', 'receive msg', 'receive reference', 'receive search', 'receive service', 'receive something', 'receive valued', 'receivea 900', 'received 350', 'received mobile', 'received package', 'received understood', 'receiving oral', 'receiving quality', 'receiving tips', 'receiving weeks', 'recent review', 'recently crap', 'recently hav', 'recently id', 'recently started', 'recently tried', 'reception ah', 'recession wont', 'recharge hi', 'recharged were', 'recieve tone', 'reckon need', 'recognise face', 'recognise number', 'recognises alone', 'record one', 'record reading', 'recorded message', 'recorder canname', 'records indicate', 'records mystery', 'recount motherinlaw', 'recovery time', 'recpt 13', 'recreation dis', 'recycling read', 'red green', 'red one', 'red white', 'red wine', 'red wings', 'redeemable wwwringtonekingcouk', 'redim luv', 'redred bloodblood', 'reduce and', 'ree entry', 'ref number', 'reference check', 'reference number', 'reference t91', 'reference the', 'references ill', 'referin meis', 'reffering uif', 'refilled successfully', 'reflection ur', 'refreshed happy', 'refund bill', 'refundedthis call', 'refused loan', 'refused we', 'reg ciao', 'reg pract', 'regard renewing', 'regarding 3230', 'regarding membershiptake', 'regarding really', 'regards achanammarakheshqatar', 'regards jaklin', 'register not', 'register nowsky', 'registered driving', 'registered optin', 'registered sinco', 'registered subscriber', 'registered subscribers', 'registered vote', 'registered your', 'registration permanent', 'regret thanks', 'regret to', 'regretted getting', 'regular checkup', 'regular unless', 'regular vodafone', 'rejected kinda', 'related trade', 'relation 2u', 'relation bt', 'relation built', 'relation gud', 'relationshipits silent', 'relatives coming', 'relatives home', 'relax also', 'relax but', 'relax children', 'relax nothing', 'relax we', 'relaxing time', 'released another', 'released july', 'released vday', 'released which', 'reliant soon', 'relieved westonzoyland', 'reltnship wen', 'rem 20', 'rem correctly', 'rem die', 'rem got', 'rem seeing', 'remain special', 'remain unconvinced', 'remains atlast', 'remains bro', 'remb think', 'remember ask', 'remember beads', 'remember da', 'remember day', 'remember eat', 'remember friend', 'remember furniture', 'remember get', 'remember gone', 'remember hurt', 'remember kiss', 'remember last', 'remember later', 'remember mayb', 'remember me', 'remember old', 'remember research', 'remember set', 'remember spell', 'remember stupid', 'remember thank', 'remember til', 'remember today', 'remember what', 'remember wish', 'remember wot', 'remembered everytime', 'remembered gotta', 'remembered met', 'rememberi am', 'remembr im', 'remembrs someone', 'remet alex', 'remind get', 'remind hrs', 'remind im', 'remind love', 'remind necessary', 'reminded sorry', 'reminder from', 'reminder today', 'reminder you', 'reminding always', 'reminding loved', 'reminds still', 'removal send', 'remove flat', 'remove phonebook', 'remove records', 'remove txt', 'remove txtx', 'remove ur', 'removed send', 'removed so', 'rencontre meet', 'renewal ill', 'renewal pin', 'renewed charged', 'renewing upgrading', 'rent cant', 'rent discuss', 'rent due', 'rent expensive', 'rent past', 'rent so', 'rent stuff', 'rent transfred', 'rental 12', 'rental 400minscall', 'rental call', 'rental camcorder', 'rental free', 'rental latest', 'rental reply', 'renting another', 'rentl bx420', 'rents mayb', 'repair shop', 'repair shopthe', 'repairs and', 'repeat instructions', 'repeat text', 'repeating last', 'replace loss', 'replacement hopefully', 'replacement murali', 'replacing part', 'replied boost', 'replied fox', 'replied late', 'replied mail', 'replied text', 'replies cost', 'reply age', 'reply ans', 'reply back', 'reply call', 'reply came', 'reply claim', 'reply confirm', 'reply date', 'reply defer', 'reply delivery', 'reply dr', 'reply end', 'reply fast', 'reply first', 'reply free', 'reply go', 'reply harry', 'reply hear', 'reply hl', 'reply it', 'reply lar', 'reply learn', 'reply left', 'reply let', 'reply lionm', 'reply monday', 'reply monoc', 'reply msg', 'reply must', 'reply name', 'reply neo69', 'reply no', 'reply now', 'reply offer', 'reply oncall', 'reply oso', 'reply pa', 'reply pix', 'reply poly', 'reply post', 'reply promised', 'reply real', 'reply reveal', 'reply sing', 'reply sms', 'reply snap', 'reply sony', 'reply stop', 'reply summer', 'reply text', 'reply themob', 'reply thk', 'reply today', 'reply toll', 'reply tomorrow', 'reply tones2u', 'reply wait', 'reply wat', 'reply wild', 'reply win', 'reply with', 'reply word', 'reply yes', 'reply yes165', 'reply yes434', 'reply yes440', 'reply yes762', 'reply yes910', 'replybe frankgood', 'replying enter', 'replying get', 'replying has', 'replying mails', 'replying message', 'replying stop', 'replying yes', 'report big', 'report supervisor', 'report yor', 'representative 0800', 'representative 08714712379', 'representative 08714712394', 'representative 08714712412', 'representative freephone', 'republic day', 'request expiry', 'request ltgt', 'request maangalyam', 'request melle', 'requests 1stchoicecouk', 'requests make', 'requests start', 'require guidance', 'requirements please', 'requires freshers', 'reschedule ref9280114', 'reschedule ref9307622', 'research cost', 'research province', 'resend please', 'resent previous', 'reservations but', 'reserve ticket', 'reserved seat', 'reserves completely', 'reset troubleshooting', 'reslove but', 'resolution waiting', 'resolved tho', 'resort roller', 'responcewhat happend', 'respond else', 'respond get', 'respond imma', 'respond immed', 'respond yes', 'responding anything', 'responding well', 'response cares', 'response hypotheticalhuagauahahuagahyuhagga', 'response offer', 'response one', 'responsibility and', 'responsibility yet', 'responsible suppliers', 'rest ard', 'rest available', 'rest da', 'rest day', 'rest dunno', 'rest mylife', 'rest week', 'restaurant ill', 'restock thanksgiving', 'restrict eating', 'restrictions 1000s', 'restuwud self', 'restwish find', 'resub reply', 'resubbing eve', 'resubmit request', 'result consistently', 'result offer', 'result today', 'results daily', 'results lies', 'results sent', 'resume id', 'resuming is', 'retrieve messages', 'return home', 'return immediately', 'return period', 'return smth', 'return ticket', 'returned hes', 'returned mid', 'returned that', 'returns day', 'reveal stop', 'reveal thinks', 'revealed po', 'revealed pobox', 'revealed pobox84', 'revealing even', 'reverse cheating', 'review keep', 'review mob', 'review online', 'revision goin', 'revision is', 'reward hours', 'reward if', 'reward is', 'reward just', 'reward to', 'rewarding month', 'rewarding semester', 'rg21 4jx', 'rgds vatian', 'rgent this', 'rhode island', 'rhythm body', 'rhythm the', 'rice yam', 'rich day', 'rich liaoso', 'rich politicians', 'ridden ey', 'ride age', 'ride bike', 'ride early', 'ride equally', 'right ahmad', 'right also', 'right around', 'right away', 'right back', 'right bawling', 'right brah', 'right call', 'right cheek', 'right didnt', 'right dont', 'right door', 'right freak', 'right giggle', 'right go', 'right hand', 'right hes', 'right ill', 'right im', 'right insurance', 'right it', 'right later', 'right let', 'right lor', 'right meanwhile', 'right medical', 'right need', 'right now', 'right ok', 'right okay', 'right outside', 'right person', 'right pls', 'right second', 'right side', 'right since', 'right stagwood', 'right text', 'right think', 'right though', 'right wanna', 'right want', 'right wasnt', 'right way', 'right what', 'right winterstone', 'right words', 'right yo', 'rightio 1148', 'rightly said', 'rights corrupt', 'rights wifedont', 'rileys plans', 'rimac access', 'ring 02073162414', 'ring 2morrow', 'ring 2morrowxxxx', 'ring asap', 'ring claims', 'ring comes', 'ring hope', 'ring later', 'ring me', 'ring meet', 'ring meive', 'ring tone', 'ring ur', 'ring weekend', 'ringing thing', 'ringsreturn of', 'ringtone club', 'ringtone colour', 'ringtone free', 'ringtone getting', 'ringtone order', 'ringtone service', 'ringtone shortly', 'ringtone sub', 'ringtone text', 'ringtone this', 'ringtone totally', 'ringtone uk', 'ringtone waiting', 'ringtone your', 'ringtonefrom httptms', 'ringtoneget 1st', 'ringtoneking 84484', 'ringtones like', 'ringtones logos', 'ringtones normal', 'ringtones pics', 'ringtones time', 'rinu brings', 'rip uterus', 'ripped get', 'rise 4my', 'risk life', 'risks benefits', 'rite cold', 'rite dad', 'rite den', 'rite hee', 'rite ill', 'rite im', 'rite know', 'rite lor', 'rite put', 'rite sary', 'rite take', 'rite wan', 'rite well', 'ritten stuff', 'river send', 'road but', 'road call', 'road cant', 'road liked', 'road name', 'road right', 'road somewhere', 'road turn', 'roads forever', 'roads keep', 'roast better', 'roast min', 'rob mack', 'robinson already', 'robs fault', 'rock envelope', 'rock in', 'rock mel', 'rock night', 'rock sis', 'rock youll', 'rock yr', 'rocking ashes', 'rodds1 21m', 'rodger burns', 'rofl betta', 'rofl its', 'rofl wtf', 'roger cl', 'roger he', 'roger how', 'roger we', 'role life', 'role like', 'role model', 'role playing', 'roles community', 'rolled newscaster', 'roller option', 'romantic jus', 'romantic paris', 'romcapspam everyone', 'ron burgundy', 'ron darren', 'ron say', 'rons present', 'room almost', 'room astronomer', 'room cannot', 'room clean', 'room embarassing', 'room lets', 'room need', 'room number', 'room nw', 'room one', 'room point', 'room quite', 'room room', 'room sleep', 'room something', 'room soon', 'room text', 'room think', 'room til', 'room top', 'room two', 'room went', 'room whenever', 'room would', 'roomate campus', 'roommate also', 'roommate finishes', 'roommate tonight', 'roommates done', 'roommates looking', 'roommates looovvve', 'roommates took', 'rooms befor', 'rooms cheap', 'rooms fraction', 'ros xxxxxxx', 'rose amp', 'rose day', 'rose grave', 'rose may', 'rose needs', 'rose redred', 'roses all', 'rough hard', 'round birla', 'round like', 'round take', 'round the', 'round til', 'round trip', 'round week', 'rounderso required', 'rounds todaybut', 'row da', 'row tickets', 'row wiv', 'rows behind', 'roww1jhl 16', 'royal visit', 'royal wedding', 'rp176781 to', 'rpl stop', 'rply chat', 'rply filth', 'rply means', 'rply poly', 'rply tone', 'rreveal thinks', 'rs dado', 'rs il', 'rs ltdecimalgt', 'rs shelf', 'rs we', 'rs5 transfered', 'rsi draw', 'rstm sw7', 'rtking pro', 'rtm herepls', 'rto office', 'ru any', 'ru house', 'ru its', 'ru pa', 'rub feet', 'rub open', 'rubber place', 'rude campus', 'rude chat', 'rude time', 'rudi on', 'rugby weekend', 'ruin thesis', 'ruin ur', 'ruining life', 'ruining shit', 'rule one', 'rule tamilnaduthen', 'rule way', 'rules we', 'rum gin', 'rumour going', 'run activate', 'run already', 'run away', 'run choose', 'run exe', 'run fast', 'run forgot', 'run home', 'run please', 'run shes', 'run shorter', 'run time', 'run tomocant', 'run ttyl', 'run water', 'run without', 'running around', 'running full', 'running managed', 'running sea', 'running stillmaybe', 'running worldmay', 'runninglets run', 'runs blame', 'runs like', 'rupaul show', 'rush go', 'rush home', 'rush ill', 'rush parco', 'rushing im', 'rv hav', 'ryans friend', 'ryder unsoldnow', 's3xy 150p', 's8 min', 's89 valid', 'sac needs', 'sac score', 'sachin worldvery', 'sachinjust standing', 'sack ful', 'sacrifice im', 'sacrifice keep', 'sad already', 'sad dear', 'sad go', 'sad isnt', 'sad its', 'sad left', 'sad lor', 'sad one', 'sad part', 'sad puppy', 'sad secretary', 'sad story', 'sad whenevr', 'sad without', 'sae award', 'sae box326', 'sae po', 'sae tc', 'sae tcs', 'saeed al', 'safe getting', 'safe hope', 'safe need', 'safe selfish', 'safe sound', 'safe trip', 'safely spend', 'safety aspects', 'sagamu thing', 'saibaba colany', 'said anything', 'said ask', 'said aunt', 'said bad', 'said broke', 'said broken', 'said call', 'said check', 'said coming', 'said cut', 'said didnt', 'said ding', 'said dun', 'said eat', 'said fool', 'said going', 'said gonna', 'said grinule', 'said happy', 'said himthen', 'said hours', 'said im', 'said it', 'said ive', 'said jb', 'said kiss', 'said last', 'said like', 'said loan', 'said look', 'said loud', 'said love', 'said make', 'said many', 'said matter', 'said mind', 'said missed', 'said no', 'said nyc', 'said oh', 'said ok', 'said okay', 'said one', 'said pa', 'said plus', 'said pray', 'said reason', 'said right', 'said text', 'said thanks', 'said the', 'said thinking', 'said train', 'said tshirt', 'said ur', 'said wait', 'said waitu', 'said walk', 'said wanted', 'said website', 'said wed', 'said went', 'said would', 'said wun', 'said youd', 'said ystrdayice', 'saidif made', 'sake shes', 'salad desert', 'salam wahleykkumsharing', 'salary de', 'salary slip', 'salary so', 'sale arsenal', 'sale club', 'sale hot', 'sale hows', 'sale together', 'sales executive', 'salesman ask', 'salespee text', 'sall good', 'salmon la', 'salon boring', 'salon called', 'salt rub', 'sam 25', 'sam in', 'sam its', 'sam xxx', 'samachara chikku', 'samantha coming', 'sambarlife beautiful', 'same consider', 'same dun', 'same im', 'same kallis', 'same lets', 'same number', 'same price', 'same time', 'same wana', 'sameso itor', 'samus shoulders', 'sandiago parantella', 'sane fighting', 'sang uptown', 'sankranti happy', 'santa calling', 'santa xmas', 'santha num', 'sao mu', 'sapna aunty', 'sar piah', 'sar xxx', 'sara jorgeshock', 'sarcasm nt', 'sarcastic faggy', 'sarcastic thats', 'saristar ltd', 'sariyag drive', 'sary asusual1', 'sary need', 'sashimi ok', 'sat already', 'sat am', 'sat bloody', 'sat book', 'sat cant', 'sat eve', 'sat go', 'sat going', 'sat if', 'sat ill', 'sat mine', 'sat night', 'sat pray', 'sat right', 'sat rite', 'sat sun', 'sat tell', 'sat wer', 'satanic imposter', 'sathy go', 'sathya till', 'satisfied experience', 'satisfy men', 'satisfy txt', 'satjust got', 'satlove xxx', 'satsgettin 447per', 'satsound likeyour', 'satthen hunny', 'saturday eve', 'saturday go', 'saturday monday', 'saturday night', 'saturday olage', 'saturday register', 'saturday sunday', 'saturday to', 'saturday unsub', 'saturday you', 'satü wkg', 'saucy celeb4', 'saucy daytime', 'sausagelove jen', 'savamob member', 'savamob offers', 'savamob pobox', 'savamob pobox84', 'save activ8', 'save carryin', 'save free', 'save fridays', 'save money', 'save numberrespectful', 'save stress', 'save taxi', 'saved lives', 'saved she', 'saves relation', 'savings the', 'saw black', 'saw came', 'saw class', 'saw days', 'saw dear', 'saw dollar', 'saw guys', 'saw message', 'saw messageit', 'saw new', 'saw old', 'saw parked', 'saw pouch', 'saw ron', 'saw scary', 'saw situation', 'saw swatch', 'saw top', 'saw tot', 'saw true', 'saw ur', 'saw you', 'say already', 'say anything', 'say bold', 'say cant', 'say cause', 'say challenge', 'say change', 'say come', 'say coming', 'say considering', 'say could', 'say cut', 'say didnt', 'say dying', 'say early', 'say fantastic', 'say fat', 'say fri', 'say go', 'say good', 'say got', 'say happen', 'say happened', 'say happy', 'say hello', 'say hes', 'say hey', 'say hi', 'say holy', 'say il', 'say im', 'say it', 'say jus', 'say lavender', 'say leh', 'say lie', 'say like', 'say look', 'say lotwill', 'say make', 'say mon', 'say money', 'say oni', 'say orange', 'say pay', 'say please', 'say pretty', 'say quite', 'say romantic', 'say slowly', 'say somebody', 'say sorry', 'say still', 'say stupid', 'say syllabus', 'say take', 'say terms', 'say thanks2', 'say thats', 'say things', 'say thinking', 'say time', 'say uncomfortable', 'say visitors', 'say wan', 'say we', 'say wish', 'say youll', 'sayask something', 'sayhey doinnearly', 'sayin bite', 'saying anything', 'saying big', 'saying buy', 'saying clearly', 'saying dat', 'saying havent', 'saying hey', 'saying hi', 'saying ltgt', 'saying matter', 'saying might', 'saying mushy', 'saying order', 'saying welp', 'saying youre', 'says boston', 'says christians', 'says cool', 'says cost', 'says everything', 'says get', 'says hell', 'says hello', 'says hes', 'says hi', 'says hurry', 'says ltgt', 'says never', 'says one', 'says pick', 'says robs', 'says you', 'says youre', 'sbut luck2', 'sc wana', 'scallies skins', 'scammers getting', 'scared dun', 'scared hiphop', 'scared say', 'scary cant', 'scary movie', 'scenery nice', 'sch already', 'sch daddy', 'sch earlier', 'sch finish', 'sch fr', 'sch fri', 'sch going', 'sch hr', 'sch its', 'sch later', 'sch lunch', 'sch mon', 'sch neva', 'sch oredi', 'sch rem', 'sch stuff', 'sch today', 'sch wat', 'sch yar', 'schedule lk', 'schedule next', 'school all', 'school anyone', 'school can', 'school cos', 'school directly', 'school fees', 'school got', 'school ill', 'school lor', 'school night', 'school one', 'school or', 'school really', 'school resuming', 'school rush', 'school starting', 'school tues', 'school turns', 'school wat', 'school work', 'school year', 'school youll', 'schools already', 'schools think', 'science like', 'science tells', 'scold tell', 'scold yest', 'scool babeprobpop', 'score apply', 'score big', 'score cos', 'scores simple', 'scores sophas', 'scoring starts', 'scotch shampain', 'scotland 4txtú120', 'scotland hope', 'scotsman saturday', 'scouse boy', 'scraped barrel', 'scrappy miss', 'scratches talk', 'scream ecstasy', 'scream ltgt', 'scream moan', 'scream pleasure', 'scream weighed', 'screamed across', 'screamed princess', 'screaming brats', 'screaming means', 'screaming surprise', 'screen hand', 'scrounge ammo', 'scrounge something', 'scrumptious daddy', 'sd ham', 'sd la', 'sday joinedso', 'se pehle', 'se qing', 'se zyada', 'sea coaxing', 'sea kiss', 'sea lays', 'sea make', 'sea pass', 'sea shorethe', 'sea view', 'sea world', 'search happiness', 'search hard', 'search job', 'search location', 'search love', 'search online', 'search opportunityall', 'search postcode', 'search qet', 'search tat', 'search wake', 'searching get', 'searching good', 'searching medont', 'searching right', 'season 2wks', 'season needs', 'season since', 'season would', 'seat mine', 'sec breaking', 'sec theres', 'sec think', 'second after', 'second batch', 'second chance', 'second def', 'second disappeared', 'second done', 'second edition', 'second gotta', 'second gram', 'second half', 'second hand', 'second hides', 'second option', 'second takes', 'second time', 'second wonderful', 'secondary application', 'seconds bt', 'seconds warning', 'secret admirer', 'secret any', 'secret energy', 'secret ur', 'secretary current', 'secretary everything', 'secretly fancies', 'secrets wish', 'secs ring', 'section forums', 'sections clearer', 'secure anything', 'secured unsecured', 'sed sexy', 'sed yes', 'see allday', 'see anyone', 'see bit', 'see btw', 'see but', 'see campus', 'see cant', 'see cat', 'see channel', 'see christmassy', 'see come', 'see cost', 'see could', 'see couple', 'see cup', 'see day', 'see do', 'see doctor', 'see election', 'see facebook', 'see film', 'see forwarding', 'see get', 'see getting', 'see go', 'see grins', 'see half', 'see help', 'see hes', 'see house', 'see how', 'see im', 'see important', 'see its', 'see join', 'see knew', 'see later', 'see letter', 'see library', 'see like', 'see major', 'see many', 'see maybe', 'see message', 'see mind', 'see money', 'see morning', 'see movies', 'see msgs', 'see mytonecomenjoy', 'see naked', 'see name', 'see netno', 'see nice', 'see o2coukgames', 'see packs', 'see person', 'see point', 'see pose', 'see posted', 'see potential', 'see pretty', 'see prolly', 'see recovery', 'see reply', 'see requirements', 'see rileys', 'see sad', 'see sec', 'see sexiest', 'see shadow', 'see six', 'see smile', 'see smiling', 'see something', 'see soon', 'see stars', 'see still', 'see sunday', 'see sundayish', 'see swing', 'see the', 'see theyre', 'see thought', 'see tomo', 'see tomorrow', 'see tonight', 'see top', 'see tuesday', 'see twenty', 'see uncle', 'see unfolds', 'see wat', 'see whats', 'see when', 'see words', 'see work', 'see wwwsmsacubootydelious', 'see wwwsmsacugoldviking', 'see wwwsmsacuhmmross', 'see wwwsmsacunat27081980', 'see wwwsmsacunatalie2k9', 'see xx', 'see xxx', 'see ya', 'see you', 'see youd', 'see youkwhere', 'seeds worth', 'seeing every', 'seeing jeremiah', 'seeing lotta', 'seeing missed', 'seeing name', 'seeing online', 'seeing silver', 'seeing tuesday', 'seeing weird', 'seeking lady', 'seem actually', 'seem busy', 'seem cool', 'seem ok', 'seemed count', 'seemed dont', 'seemed gettin', 'seemed happy', 'seems alright', 'seems like', 'seems ok', 'seems special', 'seems unnecessarily', 'seen ages', 'seen buzz', 'seen everyone', 'seen facebook', 'seen heard', 'seen hes', 'seen let', 'seen lost', 'seen mei', 'seen my', 'seen so', 'seen whos', 'seeno one', 'sees real', 'sef dey', 'seh noe', 'sehwag odi', 'seing ur', 'select number', 'select o2', 'selected 10k', 'selected means', 'selected receive', 'selected receivea', 'selected received', 'selected stay', 'selection content', 'selection hot', 'selection national', 'selection summer', 'self address', 'self amp', 'self assessment', 'self confidence', 'self limiting', 'self pa', 'self reliant', 'selfindependence believe', 'selfish know', 'selflessness love', 'sell coins', 'sell fast', 'sell holla', 'sell if', 'sell ill', 'sell ltgt', 'sell pc', 'sell predicte', 'sell well', 'sell wifi', 'selling 50', 'selling fast', 'selling ltgt', 'selling since', 'selling without', 'sells 4d', 'sells mids', 'sem congrats', 'sem izzit', 'semester do', 'semester much', 'semester take', 'semester thanks', 'semi argument', 'semiobscure internet', 'sen come', 'sen kind', 'sen told', 'send 150', 'send 87575', 'send account', 'send address', 'send aftr', 'send another', 'send ashleys', 'send auntys', 'send be', 'send bec', 'send bids', 'send bimbo', 'send care', 'send cash', 'send chat', 'send collect', 'send company', 'send comprehensive', 'send contact', 'send contents', 'send copy', 'send correct', 'send da', 'send dis', 'send email', 'send exe', 'send file', 'send files', 'send free', 'send get', 'send girls', 'send go', 'send group', 'send hide', 'send hmv', 'send hmv1', 'send home', 'send id', 'send jolt', 'send kiss', 'send laptop', 'send liao', 'send logo', 'send lol', 'send love', 'send ltdecimalgt', 'send ltgt', 'send luv', 'send mail', 'send message', 'send mobile', 'send money', 'send naughty', 'send new', 'send nice', 'send no', 'send nokia', 'send number', 'send one', 'send out', 'send passionate', 'send pic', 'send pics', 'send pix', 'send plus', 'send postal', 'send postcard', 'send print', 'send reminder', 'send requests', 'send resume', 'send shades', 'send someone', 'send something', 'send stamped', 'send stop', 'send stopcs', 'send teasing', 'send test', 'send text', 'send tis', 'send tm', 'send tomorrow', 'send txt', 'send ur', 'send video', 'send virtual', 'send wat', 'send will', 'send word', 'send wrongly', 'send yettys', 'send you', 'send youmy', 'send yr', 'sender hol', 'sendername missing', 'sending account', 'sending blackberry', 'sending free', 'sending greetings', 'sending home', 'sending like', 'sending mental', 'sending message', 'sending so', 'sending texts', 'sends greetings', 'sends ink', 'senrddnot dancce', 'sense btw', 'sense do', 'sense foot', 'sense grins', 'sense take', 'sense tot', 'sensesrespect overemphasiseor', 'sensible went', 'sensitive information', 'sent ages', 'sent another', 'sent askin', 'sent blank', 'sent boye', 'sent da', 'sent days', 'sent de', 'sent direct', 'sent dis', 'sent do', 'sent email', 'sent enjoy', 'sent every', 'sent get', 'sent glo', 'sent he', 'sent its', 'sent jd', 'sent know', 'sent lanre', 'sent ltgt', 'sent maga', 'sent mail', 'sent many', 'sent money', 'sent msg', 'sent num', 'sent offline', 'sent one', 'sent part', 'sent photos', 'sent prices', 'sent right', 'sent scores', 'sent shuhui', 'sent so', 'sent text', 'sent ur', 'sent via', 'sent wasnt', 'sent wife', 'sent you', 'sent your', 'sentdate missing', 'sentence because', 'sentence formal', 'senthil group', 'senthil hsbc', 'seperated鈥 〨ud', 'sept 38', 'sept go', 'sept take', 'sept talk', 'series lifebook', 'series many', 'series means', 'serious pls', 'serious reppurcussions', 'serious studying', 'serious what', 'serious you', 'seriously coz', 'seriously goin', 'seriously hit', 'seriously spell', 'seriously tell', 'seriously told', 'service 18', 'service added', 'service annoncement', 'service announcement', 'service asked', 'service call', 'service changed', 'service contact', 'service cum', 'service dino', 'service entered', 'service free', 'service get', 'service just', 'service live', 'service message', 'service msg', 'service msgs', 'service ordered', 'service photo', 'service provided', 'service reply', 'service representative', 'service sex', 'service someone', 'service to', 'service uk', 'service vu', 'service weekly', 'services 08450542832', 'services 08708034412', 'services 08717205546', 'services 09057039994', 'services 09065069120', 'services 09065069154', 'services 09065989180', 'services 09065989182', 'services call', 'services for', 'services get', 'services inclusive', 'services inspection', 'services text', 'serving are', 'serving mean', 'servs sed', 'set batsman', 'set callertune', 'set dates', 'set free', 'set let', 'set like', 'set ltgt', 'set meet', 'set page', 'set place', 'set properly', 'set soul', 'set stone', 'set text', 'set website', 'setting computer', 'setting definite', 'settings izzit', 'settings no', 'settings reply', 'settle month', 'settle question', 'settled new', 'settled room', 'settling well', 'seven hundred', 'seven is', 'seventeen pounds', 'several outstanding', 'several sir', 'sex 2nite', 'sex 30', 'sex and', 'sex cuddling', 'sex dogging', 'sex fun', 'sex text', 'sex uk', 'sex ur', 'sex video', 'sexiest dirtiest', 'sextextukcom txt', 'sexual need', 'sexy babes', 'sexy bitch', 'sexy buns', 'sexy celeb', 'sexy cum', 'sexy female', 'sexy make', 'sexy mood', 'sexy passion', 'sexy pic', 'sexy sexy', 'sexy singles', 'sexy st', 'sexy today', 'sexychat girls', 'sez hows', 'sf wc1n3xx', 'sfine anytime', 'sfirst timedhoni', 'sfrom training', 'sh get', 'sha cos', 'sha ill', 'shades stuff', 'shadow we', 'shag dointerested', 'shagged text', 'shah maat', 'shahjahan killed', 'shahjahans 4th', 'shakara beggar', 'shakespeare shesil', 'shaking booty', 'shall also', 'shall ask', 'shall book', 'shall bring', 'shall buy', 'shall call', 'shall come', 'shall eat', 'shall enjoy', 'shall fine', 'shall get', 'shall give', 'shall go', 'shall meet', 'shall organise', 'shall send', 'shall speak', 'shall start', 'shall talk', 'shall tell', 'shall try', 'shall work', 'shame maybe', 'shame missed', 'shame neva', 'shame tell', 'shampain wine', 'shanghai 21st', 'shanilrakhesh herethanksi', 'shant disturb', 'shaping good', 'share bslvyl', 'share disclose', 'share every', 'share moments', 'share password', 'shared many', 'shared true', 'shattered plz', 'shaved natural', 'shb ok', 'shd driving', 'shd enuff', 'shd go', 'shd haf', 'shd ok', 'she ask', 'she askd', 'she asked', 'she belongs', 'she broke', 'she came', 'she come', 'she didnt', 'she doesnt', 'she failed', 'she fine', 'she girlfrnd', 'she hope', 'she left', 'she lip', 'she ran', 'she said', 'she shudvetold', 'she sister', 'she supposed', 'she telling', 'she thinks', 'she told', 'she turns', 'she went', 'she wondering', 'she would', 'sheet wif', 'sheets is', 'sheets party', 'sheets sorry', 'sheffield tom', 'sheffield you', 'shelf buy', 'shell able', 'shell give', 'shell ok', 'shell tell', 'shell unconsciously', 'sherawat yesterday', 'shes asking', 'shes big', 'shes borderline', 'shes crossing', 'shes currently', 'shes da', 'shes drinkin', 'shes exposed', 'shes find', 'shes fine', 'shes getting', 'shes good', 'shes like', 'shes looked', 'shes making', 'shes obese', 'shes quite', 'shes sarcastic', 'shes smiling', 'shes still', 'shes studying', 'shes styling', 'shes working', 'shesil ltgt', 'shexy pete', 'shhhhh nobody', 'shifad raised', 'shijutta have', 'shinco dvd', 'shindig place', 'shining light', 'shining that', 'shiny warming', 'ship cars', 'ship comp', 'shipped address', 'shipping company', 'shipping get', 'shipping takes', 'shirt and', 'shirt black', 'shirt blue', 'shirt hubby', 'shirts jumpers', 'shirts put', 'shirts thing', 'shit also', 'shit andor', 'shit anything', 'shit arms', 'shit babe', 'shit bailiff', 'shit bein', 'shit considering', 'shit credit', 'shit deal', 'shit fucking', 'shit got', 'shit guys', 'shit important', 'shit last', 'shit like', 'shit lttimegt', 'shit mirror', 'shit morning', 'shit nights', 'shit really', 'shit situation', 'shit still', 'shit suite', 'shit thought', 'shit tomorrow', 'shit twice', 'shit wait', 'shit wasnt', 'shit yet', 'shite anyway', 'shitin myself', 'shitjustfound out', 'shitload diamonds', 'shits seriously', 'shitstorm attributed', 'shivratri happy', 'shld rich', 'shld went', 'shld ya', 'shock leh', 'shocking bthmm', 'shocking scary', 'shoes anyway', 'shoes sorry', 'shola please', 'shoot big', 'shoot im', 'shoot went', 'shop 80878', 'shop 85023', 'shop asda', 'shop asked', 'shop bit', 'shop buy', 'shop closes', 'shop flirting', 'shop give', 'shop im', 'shop parking', 'shop showroomscity', 'shop till', 'shoppin area', 'shoppin tt', 'shopping breaks', 'shopping can', 'shopping concert', 'shopping cos', 'shopping eh', 'shopping first', 'shopping frens', 'shopping get', 'shopping got', 'shopping lor', 'shopping mark', 'shopping of', 'shopping right', 'shopping spree', 'shopping tho', 'shopping today', 'shopping trip', 'shopping wif', 'shopthe only', 'shopwe pleased', 'shoranur train', 'shore takin', 'shorethe waves', 'short but', 'short he', 'short hoping', 'short leh', 'short onedge', 'shortage ltgt', 'shortcode 83332please', 'shorter distance', 'shorter got', 'shorter ladies', 'shortly enjoy', 'shortly just', 'shot go', 'shot really', 'shot yards', 'shoul pay', 'should buy', 'should call', 'should head', 'should picked', 'should play', 'should quite', 'should receive', 'should say', 'should send', 'should splendid', 'should stalking', 'should stayed', 'should tell', 'should tone', 'shoulders yet', 'shouldnt go', 'shouldnt imposed', 'shouldnt takin', 'shouldnt trying', 'shouldnt worry', 'shouted energy', 'shouted everyone', 'shove um', 'shoving stuff', 'shoving things', 'show aft', 'show afternoon', 'show amp', 'show call', 'show care', 'show fuck', 'show how', 'show huh', 'show msgticketkioskvalid', 'show much', 'show next', 'show right', 'show start', 'show tech', 'show tool', 'show two', 'show ur', 'show watch', 'show wont', 'show world', 'show wot', 'shower baby', 'shower beforehand', 'shower called', 'shower epsilon', 'shower social', 'shower sorry', 'shower sup', 'shower whats', 'shower yeah', 'showered erything', 'showers possessiveness', 'showing around', 'showing deep', 'showing jjc', 'showing responsibility', 'showroomscity shaping', 'shows 1000', 'shows 2000', 'shows 786', 'shows 800', 'shows 900', 'shows coveragd', 'shows ill', 'shows know', 'shows really', 'shracomorsglsuplt10 ls1', 'shrek 3db', 'shrub hill', 'shu looking', 'shu shu', 'shud go', 'shudvetold did', 'shuhui bought', 'shuhui like', 'shuhui oso', 'shuhui say', 'shun bian', 'shut omg', 'shy call', 'shy pa', 'si si', 'si take', 'si then', 'si think', 'sian aft', 'sian tmr', 'sib never', 'sic listening', 'sick im', 'sick just', 'sick slept', 'sick still', 'sick time', 'sick turn', 'sickness thing', 'sicomo nolistened2the', 'side da', 'side dropped', 'side effects', 'side fever', 'side happy', 'side long', 'side ltgt', 'side next', 'side sorry', 'sif one', 'sigh miss', 'sigh whispers', 'sighs how', 'sighs some', 'sight but', 'sight maintain', 'sight worlds', 'sign choose', 'sign follow', 'sign horo', 'sign maturity', 'sign user', 'sign well', 'signal havent', 'significant dont', 'signin page', 'signing sounds', 'signing tmr', 'siguviri idu', 'silence good', 'silence gud', 'silent last', 'silent mode', 'silent promise', 'silent spl', 'silent tensed', 'silently said', 'silently say', 'silly frying', 'silver back', 'silver car', 'sim archive', 'sim card', 'sim lim', 'sim mobile', 'sim points', 'sim subscriber', 'sim watching', 'simonwatson5120 shinco', 'simple arithmetic', 'simple but', 'simple difficult', 'simple laughing', 'simple loving', 'simple pls', 'simple shot', 'simple thing', 'simple way', 'simple winning', 'simpler less', 'simply must', 'simply reply', 'simply sitting', 'simply text', 'simpsons movie', 'simulate test', 'since already', 'since american', 'since armenia', 'since ayo', 'since best', 'since break', 'since broke', 'since checked', 'since dec', 'since doc', 'since got', 'since im', 'since ive', 'since ltgt', 'since moved', 'since parents', 'since screamed', 'since sept', 'since side', 'since sister', 'since talk', 'since took', 'since usual', 'since warm', 'since weekend', 'since young', 'sinco payee', 'sindu got', 'sing along', 'sing guy', 'sing hu', 'singapore wat', 'singing praises', 'single answers', 'single call', 'single find', 'single line', 'single single', 'single time', 'singles chart', 'singles uk', 'singles waiting', 'singles yr', 'sink bath', 'sip cappuccino', 'sipix digital', 'sips cappuccino', 'sir 80082', 'sir al', 'sir call', 'sir called', 'sir good', 'sir goodmorning', 'sir hope', 'sir in', 'sir late', 'sir need', 'sir receive', 'sir send', 'sir sent', 'sir thats', 'sir waiting', 'sir you', 'siri sleeping', 'sirjii fine', 'sirs date', 'sirsalam alaikkumpride', 'sis arts', 'sis catching', 'sis dis', 'sis done', 'sis finish', 'sis going', 'sis got', 'sis huh', 'sis leh', 'sis lor', 'sis need', 'sis using', 'sis will', 'sister airport', 'sister cleared', 'sister going', 'sister got', 'sister how', 'sister kids', 'sister law', 'sister lover', 'sister made', 'sister moved', 'sister question', 'sister she', 'sister things', 'sister wont', 'sisters something', 'sit aeroplane', 'sit around', 'sit come', 'sit together', 'sit try', 'sit was', 'site am', 'site download', 'site pay', 'site says', 'site simulate', 'sitll yuo', 'sitter kaitlyn', 'sittin waitin', 'sitting ard', 'sitting bed', 'sitting mu', 'sitting radiator', 'sitting staring', 'sitting stop', 'sitting watching', 'situation ask', 'situation guy', 'situation loses', 'situation sathya', 'situation seekers', 'situation you', 'situations first', 'siva hostel', 'sivatats askd', 'six chances', 'six downloads', 'size already', 'size elephant', 'sk3 8wp', 'sk38xh cost', 'skallis wont', 'skateboarding despite', 'skilgme tscs08714740323', 'skilgme tscs087147403231winawkage16', 'skillgame 1winaweek', 'skillgame1winaweek age16150ppermesssubscription', 'skills strong', 'skinny white', 'skins jocks', 'skint fancied', 'skip ard', 'skip auction', 'skip right', 'sky active', 'sky gamestar', 'sky quite', 'skype later', 'skype take', 'skyped wit', 'skyving today', 'slaaaaave where', 'slap ass', 'slap urself', 'slave do', 'slave labor', 'slave send', 'slave smiles', 'slave want', 'slave you', 'slave your', 'sleep anything', 'sleep bored', 'sleep couch', 'sleep deari', 'sleep dun', 'sleep early', 'sleep fell', 'sleep good', 'sleep have', 'sleep help', 'sleep hope', 'sleep hugs', 'sleep isnt', 'sleep kept', 'sleep last', 'sleep late', 'sleep later', 'sleep love', 'sleep ltgt', 'sleep medicine', 'sleep miss', 'sleep much', 'sleep my', 'sleep night', 'sleep not', 'sleep pain', 'sleep plz', 'sleep rhythm', 'sleep this', 'sleep tight', 'sleep tired', 'sleep to', 'sleep today', 'sleep want', 'sleep well', 'sleep wellyou', 'sleep wish', 'sleep wiv', 'sleepin haha', 'sleepin sup', 'sleeping ah', 'sleeping bag', 'sleeping bags', 'sleeping but', 'sleeping ga', 'sleeping im', 'sleeping morning', 'sleeping murder', 'sleeping nt', 'sleeping on', 'sleeping or', 'sleeping still', 'sleeping texts', 'sleepingand surfing', 'sleepingwith finest', 'sleepsweet dreams', 'sleepwellamptake care', 'sleepy today', 'slept afternoon', 'slept day', 'slept hope', 'slept late', 'slept thinkthis', 'slept timeyou', 'slept well', 'slept wid', 'slice im', 'slice one', 'slices pizza', 'slide enough', 'slide yeah', 'sliding place', 'slightly disastrous', 'slightly earlier', 'slip amp', 'slippers cos', 'slippers gone', 'slo hard', 'slob oh', 'slots driving', 'slots weekends', 'slovely so', 'slow first', 'slow gentle', 'slow jamz', 'slow lar', 'slow poo', 'slow send', 'slow think', 'slow tot', 'slow using', 'slow wat', 'slow youll', 'slower idiot', 'slowing what', 'slowly amp', 'slowly godi', 'slowly home', 'slowly it', 'slowly loads', 'slowly vomit', 'smacks ass', 'small dose', 'small even', 'small gift', 'small house', 'small kid', 'small or', 'small prestige', 'small problem', 'small sat', 'small things', 'smaller capacity', 'smart help', 'smart move', 'smart win', 'smartcall txt', 'smarter though', 'smartthough regular', 'smash bros', 'smashed another', 'smashed saturday', 'smell bus', 'smells chip', 'smeone hold', 'smidgin way', 'smile 4th', 'smile across', 'smile becoz', 'smile biola', 'smile brighten', 'smile bye', 'smile devouring', 'smile face', 'smile goodmorning', 'smile happy', 'smile have', 'smile hppnss', 'smile knowing', 'smile like', 'smile makes', 'smile pain', 'smile pleasure', 'smile right', 'smile sometimes', 'smile sum1', 'smile think', 'smile today', 'smile trouble', 'smile truth', 'smile two', 'smile ur', 'smiled amp', 'smiled world', 'smiles drink', 'smiles hope', 'smiles made', 'smiles meeting', 'smiley sunday', 'smiling do', 'smiling face', 'smiling good', 'smiling if', 'smiling reading', 'smiling seeing', 'smiling so', 'smiling sore', 'smiling think', 'smith waste', 'smithswitch to', 'smoke day', 'smoke determine', 'smoke dont', 'smoke every', 'smoke gas', 'smoke go', 'smoke great', 'smoke hella', 'smoke ill', 'smoke ltgt', 'smoke much', 'smoke muchimpede', 'smoke telling', 'smoke told', 'smoked last', 'smokes gets', 'smokes much', 'smokin yet', 'smoking friends', 'smoking help', 'smoking people', 'smoothly really', 'sms 08718725756', 'sms 08718727868', 'sms 1st', 'sms ac', 'sms acsmsrewards', 'sms acwicmb3cktz8r74', 'sms alert', 'sms auction', 'sms chat', 'sms de', 'sms free', 'sms give', 'sms good', 'sms like', 'sms messagestext', 'sms need', 'sms neva', 'sms no', 'sms people', 'sms responsible', 'sms services', 'sms survey', 'sms to', 'sms ur', 'sms video', 'smsd time', 'smsing xy', 'smsservices yourinclusive', 'smsshsexnetun fgkslpopw', 'smth can', 'smth dat', 'smth eat', 'smth else', 'smth home', 'smth like', 'smth lor', 'smth mind', 'smth sign', 'smth theres', 'smth wan', 'sn lots', 'sn pobox202', 'sn uwant', 'sn xxxx', 'snake amp', 'snake bites', 'snake he', 'snap collect', 'snappy happy', 'snatch purse', 'snd ths', 'sneham prakasam', 'snickering tells', 'sno competition', 'snoringthey were', 'snow angels', 'snow enjoy', 'snow its', 'snow let', 'snow manageable', 'snow much', 'snow outside', 'snow since', 'snow start', 'snow supposed', 'snow this', 'snow tonite', 'snowball fights', 'snowboarding trip', 'snowman snow', 'snuggles deep', 'so always', 'so alwys', 'so anythin', 'so anything', 'so anyways', 'so april', 'so asked', 'so attracts', 'so bad', 'so bank', 'so banks', 'so call', 'so calls', 'so catch', 'so check', 'so chill', 'so collect', 'so come', 'so coming', 'so coping', 'so could', 'so dad', 'so didnt', 'so don', 'so dont', 'so dunno', 'so free', 'so gd', 'so give', 'so go', 'so gonna', 'so got', 'so guys', 'so handle', 'so hows', 'so im', 'so is', 'so keep', 'so leaving', 'so let', 'so lets', 'so li', 'so live', 'so long', 'so ltgt', 'so makes', 'so making', 'so many', 'so means', 'so messages', 'so much', 'so muchi', 'so one', 'so pay', 'so phone', 'so pick', 'so pls', 'so plz', 'so poking', 'so read', 'so really', 'so relax', 'so samus', 'so send', 'so sms', 'so sorry', 'so special', 'so stop', 'so sun', 'so sweet', 'so takes', 'so telling', 'so text', 'so thats', 'so theres', 'so think', 'so thought', 'so today', 'so took', 'so type', 'so wan', 'so wanna', 'so wat', 'so wats', 'so what', 'so whats', 'so wish', 'so work', 'so workin', 'so worries', 'so wouldnt', 'so üll', 'soany suggestions', 'soc use', 'sochte hai', 'social misfits', 'social projects', 'social services', 'social support', 'sofa all', 'sofa naked', 'sofa reference', 'sofa thing', 'soft da', 'soft yesterday', 'software developer', 'software inst', 'software name', 'soiree june', 'soiree speciale', 'sol holiday', 'soladha why', 'sold at', 'solihull want', 'solve case', 'solve puzzles', 'solved cat', 'solved just', 'some bars', 'some friends', 'some lasting', 'some told', 'some1 close', 'some1 praying', 'somebody get', 'somebody go', 'somebody high', 'somebody know', 'somebody loko', 'somebody named', 'somebody set', 'somebody shld', 'somebody want', 'somebody wants', 'someone able', 'someone asked', 'someone but', 'someone check', 'someone conacted', 'someone contacted', 'someone dont', 'someone else', 'someone female', 'someone gd', 'someone gettin', 'someone gone', 'someone good', 'someone great', 'someone im', 'someone its', 'someone know', 'someone leaves', 'someone lifetime', 'someone number', 'someone person', 'someone punto', 'someone really', 'someone sexy', 'someone shy', 'someone smoke', 'someone soon', 'someone still', 'someone surely', 'someone talk', 'someone tells', 'someone testing', 'someone that', 'someone think', 'someone thru', 'someone transfered', 'someone very', 'someone we', 'someone wont', 'someone year', 'someones smile', 'someonethat much', 'someonone know', 'someplace probably', 'somerset bit', 'somethin later', 'somethin tonight', 'somethin unless', 'somethin want', 'something 9ja', 'something and', 'something ate', 'something bit', 'something came', 'something changed', 'something dear', 'something different', 'something drink', 'something drop', 'something earlier', 'something eat', 'something else', 'something exams', 'something exciting', 'something first', 'something give', 'something going', 'something grandma', 'something guys', 'something have', 'something helpful', 'something how', 'something important', 'something later', 'something lets', 'something like', 'something look', 'something minute', 'something new', 'something nothing', 'something ok', 'something pain', 'something real', 'something said', 'something satjust', 'something sell', 'something smoke', 'something someone', 'something sound', 'something starts', 'something thats', 'something tonight', 'something ur', 'something with', 'something xx', 'somethings going', 'sometime soon', 'sometime yo', 'sometimerakheshvisitor india', 'sometimes gets', 'sometimes heart', 'sometimes life', 'sometimes open', 'sometimes put', 'sometimes slow', 'sometimes someones', 'sometimes time', 'somewhat event', 'somewhere beneath', 'somewhere could', 'somewhere do', 'somewhere else', 'somewhere first', 'somewhere fredericksburg', 'somewhere get', 'somewhere ghodbandar', 'somewhere sleep', 'somewheresomeone cares', 'somewhr someone', 'somone often', 'somtimes dis', 'sonathaya soladha', 'sonetimes rough', 'song bro', 'song dedicate', 'song dedicated', 'song lyrics', 'song stuck', 'song ur', 'songs 2u', 'songs frosty', 'songs urgent', 'sonot conveying', 'sony dvd', 'sony ericsson', 'sony mre', 'sony nokia', 'sonyericsson btooth', 'sonyericsson nokia', 'soo much', 'soo muchxxlove', 'soon all', 'soon and', 'soon bcoz', 'soon but', 'soon come', 'soon company', 'soon dnt', 'soon dont', 'soon dun', 'soon get', 'soon hadnt', 'soon hows', 'soon is', 'soon just', 'soon keep', 'soon landing', 'soon later', 'soon little', 'soon lol', 'soon lots', 'soon love', 'soon mite', 'soon mountain', 'soon princess', 'soon reaching', 'soon real', 'soon serena', 'soon taking', 'soon violated', 'soon xuhui', 'sooner gary', 'sooner thought', 'soonlots of', 'sooo much', 'soooo good', 'sooooo good', 'sooooo much', 'sophas secondary', 'sore throat', 'sorrow part', 'sorrowsi ready', 'sorry able', 'sorry about', 'sorry are', 'sorry bathroom', 'sorry battery', 'sorry bout', 'sorry brah', 'sorry cant', 'sorry chikku', 'sorry completely', 'sorry da', 'sorry dai', 'sorry datoday', 'sorry day', 'sorry de', 'sorry delay', 'sorry didnt', 'sorry didntgive', 'sorry din', 'sorry dude', 'sorry earlier', 'sorry flaked', 'sorry going', 'sorry got', 'sorry grocers', 'sorry guess', 'sorry have', 'sorry held', 'sorry hope', 'sorry hurt', 'sorry hurts', 'sorry iff', 'sorry ill', 'sorry im', 'sorry ive', 'sorry just', 'sorry late', 'sorry left', 'sorry leh', 'sorry life', 'sorry light', 'sorry lit', 'sorry lor', 'sorry lot', 'sorry love', 'sorry mail', 'sorry make', 'sorry man', 'sorry mates', 'sorry me', 'sorry meeting', 'sorry missed', 'sorry moji', 'sorry offered', 'sorry pa', 'sorry pain', 'sorry please', 'sorry problems', 'sorry replied', 'sorry room', 'sorry roommates', 'sorry sent', 'sorry service', 'sorry shower', 'sorry sir', 'sorry sorry', 'sorry take', 'sorry the', 'sorry took', 'sorry trouble', 'sorry uncle', 'sorry unsubscribe', 'sorry ur', 'sorry vikky', 'sorry went', 'sorry where', 'sorry wont', 'sorry would', 'sorry you', 'sorryi dont', 'sorryin meeting', 'sort code', 'sort fucking', 'sort house', 'sort hugs', 'sort invited', 'sort know', 'sort library', 'sort semiobscure', 'sort stuff', 'sort time', 'sort town', 'sorta blown', 'sorted im', 'sorted nowstill', 'sortedbut il', 'sorting car', 'sorting narcotics', 'sorting stuff', 'sorts funny', 'sorydarealyfrm heart', 'sos any', 'soso smsd', 'soul fire', 'soul ur', 'sound anyway', 'sound effects', 'sound for', 'sound gd', 'sound liao', 'sound like', 'sound ok', 'sound voice', 'sounding like', 'sounds beta', 'sounds better', 'sounds crazy', 'sounds gbpweek', 'sounds gd', 'sounds good', 'sounds great', 'sounds important', 'sounds like', 'soundtrack cds', 'soup done', 'soup kind', 'soup yummmm', 'source arng', 'sources unhappiness', 'south african', 'south chill', 'south mumbai', 'south park', 'south tampa', 'southern california', 'souveniers you', 'soz imat', 'sp arrow', 'sp visionsmscom', 'space gives', 'space got', 'space invaders', 'space poker', 'space want', 'spaces pls', 'spageddies lor', 'spain recently', 'spam ladiesu', 'spanish begins', 'spanish holiday', 'spare power', 'spare room', 'spares fucking', 'spark but', 'sparkling shopping', 'spatula hands', 'speak bcaz', 'speak customer', 'speak feel', 'speak friday', 'speak however', 'speak later', 'speak live', 'speak ltgt', 'speak miss', 'speak soon', 'speak they', 'speak tomo', 'speak txt', 'speak wont', 'speaking cash', 'speaking expression', 'special 500', 'special but', 'special call', 'special cinema', 'special fill', 'special first', 'special happened', 'special ltgt', 'special miss', 'special people', 'special price', 'special ring', 'special she', 'special stock', 'special till', 'special today', 'special treat', 'special way', 'special win', 'special wont', 'specialcall 09058094565', 'specialcall 09058094594', 'specialcall 09058094597', 'specialcall 09058094599', 'specialcall 09065171142stopsms08', 'specialcall 09065171142stopsms08718727870150ppm', 'speciale zouk', 'specialisation can', 'specialise wad', 'specially selected', 'specially trained', 'specific regards', 'specify da', 'specs my', 'speechless viva', 'speechless you', 'speed dating', 'speedchat 80155', 'speedchat txt', 'speeding towards', 'speling ie', 'spell name', 'spell season', 'spelled caps', 'spelling but', 'spend amount', 'spend days', 'spend evening', 'spend hours', 'spend money', 'spend someone', 'spend time', 'spend together', 'spend weed', 'spend you', 'spending dont', 'spending lot', 'spending new', 'spending time', 'spent 2geva', 'spent chastity', 'spent evening', 'spent last', 'spent late', 'spent ltgt', 'spent someone', 'spent spending', 'spice day', 'spider 83338', 'spiderman game', 'spiffing fun', 'spile seven', 'spin last', 'spinout giv', 'spiral michael', 'spirit ill', 'spiritual deep', 'spjanuary male', 'spk at', 'spk sn', 'spl character', 'splash wine', 'splashmobile choose', 'splat grazed', 'splendid time', 'split person', 'splleing tihs', 'splwat abt', 'spoil bed', 'spoilt child', 'spoke mag', 'spoke maneesha', 'spoke uncle', 'spoke woke', 'spoken long', 'spoken not', 'spoken since', 'spoken year', 'sponsors next', 'spontaneously if', 'spook 8007', 'spook mob', 'spoon jst', 'spoons okay', 'sporadically starting', 'sport keep', 'sport on', 'sport plus', 'sport radio', 'sport shoes', 'sport tiger', 'sports fans', 'sports news', 'sports typelyk', 'spose better', 'spot would', 'spotty anyway', 'spouse pmt', 'sppok ur', 'spreadsheet track', 'spree call', 'spree every', 'spree txt', 'spring coming', 'spring yay', 'sprint dead', 'sprwm ph08704050406', 'sptv the', 'spunout spk', 'spys wat', 'sq825 reaching', 'squatting new', 'squeeeeeze this', 'squeezed ltgt', 'squid 1030', 'squishy mwahs', 'srs model', 'srsly better', 'srt thnk', 'sry cant', 'sry dajst', 'ssi thinl', 'ssindia going', 'ssnervous ltgt', 'st andre', 'st andrewsboy', 'st broad', 'st canal', 'st division', 'st georges', 'st outside', 'st tests', 'st week', 'stability tranquility', 'stable honest', 'stadium get', 'staff name', 'staff placement', 'stage use', 'stagwood pass', 'stairs seems', 'stalk profiles', 'stamped self', 'stamps country', 'stamps whatever', 'stand away', 'stand chance', 'stand close', 'stand wonder', 'standard network', 'standard rates', 'standing others', 'stands friendship', 'star ibiza', 'star sign', 'starer the', 'staring juicy', 'staring phone', 'starring role', 'stars karaoke', 'stars make', 'starshine hows', 'start 18', 'start are', 'start around', 'start asking', 'start attractioni', 'start belly', 'start calling', 'start datz', 'start day', 'start film', 'start find', 'start happening', 'start hear', 'start june', 'start last', 'start lor', 'start making', 'start march', 'start missing', 'start no', 'start omw', 'start prepare', 'start putting', 'start rumbling', 'start saying', 'start sending', 'start studying', 'start understanding', 'start way', 'start working', 'started ah', 'started aha', 'started cos', 'started dont', 'started driving', 'started guessing', 'started last', 'started office', 'started practicing', 'started searching', 'started send', 'started sent', 'started skye', 'started today', 'started uni', 'started watching', 'startedindia ltgt', 'starti shall', 'starting become', 'starting like', 'starting now', 'starting panic', 'starting term', 'starting where', 'starts goin', 'starts hour', 'starts monday', 'starts saturday', 'starts today', 'starve lose', 'starving dont', 'starwars3 etc', 'stash ran', 'stated watch', 'statement 07742676969', 'statement 07753741225', 'statement 078', 'statement 07808', 'statement 07808247860', 'statement 07815296484', 'statement 0784987', 'statement 07973788240', 'statement fone', 'statement lol', 'statement shows', 'statements acc', 'station dun', 'station go', 'station like', 'station lor', 'station toilet', 'station would', 'stations think', 'status frequently', 'status right', 'stay 250', 'stay bed', 'stay conected', 'stay dont', 'stay fb', 'stay forever', 'stay home', 'stay late', 'stay like', 'stay meh', 'stay night', 'stay oh', 'stay roadsrvx', 'stay sane', 'stay sch', 'stay whats', 'stay wit', 'stay yeah', 'stayed bit', 'stayed home', 'stayin extra', 'stayin trouble', 'staying chinky', 'staying dad', 'staying mcr', 'staying night', 'staying port', 'staying skyving', 'staying town', 'staying weekend', 'staying whole', 'stays someone', 'stays vegas', 'std chgs', 'std ntwk', 'std text', 'std txt', 'std wap', 'stdtxtrate reply', 'steak dinner', 'steal ice', 'stealing phone', 'steam bath', 'steam salespee', 'steamboat noe', 'steed mmmmmm', 'step back', 'step foward', 'step liaotoo', 'step outta', 'stereo love', 'stereophonics marley', 'sterling problemfree', 'sterm voice', 'steve mate', 'stevelike travelling', 'stewartsize 2kbsubject', 'steyn surely', 'sth im', 'sthis increase', 'stick indeed', 'sticky cum', 'sticky need', 'stifled pls', 'stil fucked', 'still act', 'still area', 'still around', 'still asleep', 'still attach', 'still attending', 'still available', 'still avent', 'still awaiting', 'still awake', 'still bit', 'still bring', 'still buff', 'still busy', 'still buying', 'still cant', 'still car', 'still catch', 'still chance', 'still checked', 'still clear', 'still coffee', 'still cold', 'still come', 'still coming', 'still cozy', 'still customer', 'still da', 'still didt', 'still dun', 'still early', 'still eating', 'still feeling', 'still game', 'still getting', 'still give', 'still go', 'still going', 'still got', 'still gotta', 'still grand', 'still greece', 'still grinder', 'still guess', 'still gym', 'still haf', 'still have', 'still havent', 'still help', 'still home', 'still hook', 'still ill', 'still its', 'still let', 'still looking', 'still lose', 'still loves', 'still loving', 'still ltgt', 'still mad', 'still market', 'still maybe', 'still meetin', 'still meeting', 'still messy', 'still might', 'still moms', 'still muz', 'still need', 'still number', 'still office', 'still okday', 'still online', 'still opportunity', 'still otside', 'still painting', 'still passed', 'still phone', 'still playing', 'still plumbers', 'still pretty', 'still project', 'still quite', 'still raining', 'still remember', 'still say', 'still says', 'still sch', 'still scrounge', 'still silent', 'still sleepin', 'still sleeping', 'still snow', 'still software', 'still still', 'still stock', 'still stocked', 'still tb', 'still think', 'still thinks', 'still tonight', 'still town', 'still trying', 'still unclaimed', 'still visit', 'still vomit', 'still waitin', 'still waiting', 'still wake', 'still want', 'still west', 'still with', 'still work', 'still working', 'stillmaybe feeling', 'stitch trouser', 'stock comin', 'stock lei', 'stock talking', 'stock tomorrowtoday', 'stock trip', 'stockport sk38xh', 'stolen cops', 'stomach start', 'stomach thru', 'stomps feet', 'stone good', 'stones diamonds', 'stones he', 'stop 08452810071', 'stop 150', 'stop 150ptext', 'stop 2exit', 'stop 61610', 'stop 62468', 'stop 69698', 'stop 80062', 'stop 80122300pwk', 'stop 82242', 'stop 82324', 'stop 83021', 'stop 83222', 'stop 83435', 'stop 84122', 'stop 84128custcare', 'stop 8552', 'stop 87070', 'stop 87239', 'stop 89070', 'stop 89123', 'stop aft', 'stop ages', 'stop and', 'stop bcmsfwc1n3xx', 'stop bootydelious', 'stop box39822', 'stop callin', 'stop calling', 'stop club', 'stop cnl', 'stop customer', 'stop customercare', 'stop end', 'stop extra', 'stop frnd', 'stop getstop', 'stop go2', 'stop going', 'stop help08714742804', 'stop however', 'stop if', 'stop it', 'stop just', 'stop knowing', 'stop landlineonly', 'stop laughing', 'stop like', 'stop ltdecimalgt', 'stop messages', 'stop mix', 'stop msg', 'stop msgs150p', 'stop old', 'stop opt', 'stop or', 'stop receiving', 'stop runs', 'stop send', 'stop service', 'stop shop', 'stop singing', 'stop sleepin', 'stop somewhere', 'stop stop', 'stop stopcost', 'stop story', 'stop street', 'stop text', 'stop texts', 'stop thinkin', 'stop this', 'stop tming', 'stop tones', 'stop txt', 'stop txts', 'stop violence', 'stop wondering', 'stop work', 'stop wwwregalportfoliocouk', 'stop2 cancel', 'stopbcm sf', 'stopcost 150p', 'stopcs 08717890890', 'stopped get', 'stopped going', 'stopped irritating', 'stopped see', 'stopped swimming', 'stops find', 'stops its', 'stoptxt stop', 'stoptxtstop 150week', 'stoptxtstop wwwgambtv', 'store 88039', 'store 88039skilgmetscs087147403231winawkage16', 'store for', 'store nowreply', 'store ur', 'store yr', 'storelike cereals', 'stores lifethis', 'stories girls', 'storming msg', 'story doesnt', 'story hv', 'story ive', 'story like', 'story man', 'story peace', 'str aft', 'str lor', 'str orchard', 'str ur', 'str8 wk', 'straight bring', 'straight cash', 'straight dogg', 'straight phone', 'strain plan', 'strange placeno', 'strange watching', 'stranger choose', 'strangersaw dave', 'stream 0871212025016', 'street end', 'street freak', 'street parking', 'street prize', 'street road', 'street shrub', 'streetshall update', 'stress for', 'stress if', 'stress l8r', 'stressed depressed', 'stressful have', 'stressfull always', 'stretch open', 'strewn bed', 'strict teacher', 'strike is', 'strings action', 'strip billed', 'stripes skirt', 'strips send', 'strokes win', 'strong arms', 'strong hands', 'strong psychic', 'strongbuy explosive', 'strongly feels', 'strt back', 'strtd throwin', 'struggling hot', 'sts later', 'stu wot', 'stubborn didnt', 'stuck da', 'stuck head', 'stuck orchard', 'studdying ear', 'student discount', 'student enna', 'studentfinancial crisisspk', 'students dey', 'students havent', 'students solved', 'studentsthis wont', 'studies alone', 'studio takenonly', 'study lightly', 'study positions', 'study safe', 'study visiting', 'studying all', 'studying anyways', 'studying but', 'studying sch', 'studying stress', 'studying surfing', 'studying warwick', 'studyn library', 'stuff and', 'stuff anymore', 'stuff asap', 'stuff directly', 'stuff dull', 'stuff first', 'stuff fr', 'stuff give', 'stuff happens', 'stuff havent', 'stuff how', 'stuff im', 'stuff let', 'stuff like', 'stuff losers', 'stuff mate', 'stuff myspace', 'stuff oh', 'stuff point', 'stuff roads', 'stuff saw', 'stuff sell', 'stuff sing', 'stuff sorted', 'stuff this', 'stuff today', 'stuff ugh', 'stuff vote', 'stuff wan', 'stuff waste', 'stuff watch', 'stuff42moro includes', 'stuffed like', 'stuffing face', 'stuffleaving back', 'stuffwhy dont', 'stunning my', 'stupid auto', 'stupid da', 'stupid daalways', 'stupid friend', 'stupid hear', 'stupid miss', 'stupid say', 'stupid suggestion', 'stupid wont', 'stupidits possible', 'style 5th', 'style fave', 'style garments', 'style ishtamayoohappy', 'styling hair', 'stylish get', 'stylish simple', 'stylist ltgt', 'sub 16', 'sub face', 'sub like', 'sub weekly', 'subject ts', 'subletting febapril', 'submitted loan', 'submitting da', 'subpoly 81618', 'subpoly 816183', 'subs 16', 'subs expired', 'subs gotta', 'subscribe 25p', 'subscribe6gbpmnth inc', 'subscribed best', 'subscribed textcomp', 'subscriber selected', 'subscriber ur', 'subscriber yr', 'subscribers enter', 'subscription 450pw', 'subscription renewed', 'subscription ringtone', 'subscription service', 'subscriptn3gbpwk unlimited', 'subscrition service', 'subsequent wks', 'successful day', 'successfully inr', 'successfully your', 'such magical', 'sucker hospitals', 'sucks cant', 'sucks ill', 'sucks mark', 'sucks remember', 'sucks so', 'sudden influx', 'suddenly thk', 'sue 20', 'sue 89555', 'suffer send', 'suffering fever', 'suffers lot', 'sufficient credit', 'sufficient thx', 'sugababes crazy', 'sugar plum', 'sugar tests', 'sugar you', 'sugardad ahgee', 'suggest one', 'suggest setting', 'suggest stays', 'suggestion lands', 'suite 373', 'suite take', 'suite xavier', 'suitemates get', 'suits best', 'suits bestrply', 'sullivan calling', 'sum dinero', 'sum time', 'sum1 hurts', 'sum1 vry', 'summer bulbs', 'summer days', 'summer free', 'summer shopping', 'summers finally', 'summon time', 'sumthin 4give', 'sun 1030', 'sun ah', 'sun anti', 'sun cant', 'sun cos', 'sun finish', 'sun fresh', 'sun go', 'sun liao', 'sun rose', 'sun shiny', 'sun strange', 'sun thanx', 'sun tvlol', 'sun0819 posts', 'sunday evei', 'sunday holiday', 'sunday lt3', 'sunday with', 'sunlight bcozi', 'sunlight please', 'sunny africa', 'sunny california', 'sunny rays', 'sunoco howard', 'sunroof popped', 'sunscreen like', 'sunshine hols', 'sunshine how', 'sunshine quiz', 'suntec look', 'suntec steamboat', 'suntec wat', 'sup town', 'super 87131', 'super bowl', 'super cocacola', 'super dagood', 'super msg', 'super sony', 'superb selection', 'superb thought', 'superior tell', 'superior telling', 'supervisor find', 'supervisor got', 'suply ltgt', 'supose ok', 'suppliers shop', 'supply cds', 'support 3u', 'support and', 'support associate', 'support fund', 'support jia', 'support parentnot', 'support system', 'support voice', 'support your', 'supportproviding assistance', 'supports ass', 'supportvery less', 'suppose put', 'suppose see', 'supposed childs', 'supposed couldnt', 'supposed deal', 'supposed get', 'supposed happening', 'supposed know', 'supposed leave', 'supposed meet', 'supposed subtoitles', 'supposed support', 'supposed take', 'supposed wake', 'supreme get', 'suprman matrix3', 'sura didnt', 'sura im', 'sure alex', 'sure cant', 'sure car', 'sure check', 'sure checking', 'sure dat', 'sure did', 'sure do', 'sure doesnt', 'sure dont', 'sure driving', 'sure everybodys', 'sure everything', 'sure flavour', 'sure get', 'sure give', 'sure got', 'sure ill', 'sure ilol', 'sure im', 'sure knows', 'sure let', 'sure loads', 'sure make', 'sure need', 'sure neighbors', 'sure night', 'sure nothing', 'sure park', 'sure pay', 'sure process', 'sure props', 'sure pub', 'sure ready', 'sure relatives', 'sure sarcastic', 'sure shouldnt', 'sure since', 'sure still', 'sure stomach', 'sure the', 'sure theres', 'sure thesis', 'sure theyll', 'sure thing', 'sure think', 'sure time', 'sure trust', 'sure understood', 'sure want', 'sure whenever', 'sure working', 'sure yet', 'sure youll', 'surely adds', 'surely dont', 'surely get', 'surely made', 'surely pick', 'surely result', 'surfing lor', 'surfing online', 'surgical emergency', 'surly ill', 'surname mr', 'surprise awaiting', 'surprise checked', 'surprise didnt', 'surprise waiting', 'surprised havent', 'surprised im', 'surprised still', 'surprised went', 'surrounded bath', 'survey yesterday', 'surya movie', 'sux snake', 'suzy 69876', 'svc for', 'sw7 3ss', 'swalpa black', 'swan or', 'swann take', 'swap get', 'swashbuckling stuff', 'swat wkend', 'swatch one', 'swatch watch', 'sway aroundn', 'swayze great', 'swear cant', 'sweater fr', 'sweet and', 'sweet arabian', 'sweet come', 'sweet dreams', 'sweet dreamsu', 'sweet dreamz', 'sweet friend', 'sweet friends', 'sweet gentle', 'sweet heart', 'sweet hope', 'sweet latelyxxx', 'sweet may', 'sweet morning', 'sweet only1more', 'sweet send', 'sweet sleep', 'sweet time', 'sweet we', 'sweet well', 'sweet wondering', 'sweet words', 'sweetest world', 'sweetheart darling', 'sweetheart hope', 'sweetie send', 'sweets week', 'swell oh', 'swhrt deyhope', 'swimming indian', 'swimming pool', 'swimsuit allowed', 'swing bit', 'swing like', 'swing need', 'swing pick', 'swing room', 'swing roommate', 'swing tomorrow', 'swing usf', 'swing wee', 'swing yet', 'swiss bank', 'swiss banks', 'switch ur', 'switch your', 'swollen glands', 'swoop its', 'swoop picking', 'swt orangei', 'swt thought', 'swtheart bstfrnd', 'syd lehhaha', 'symbol cdgt', 'symbol love', 'sympathetic ltgt', 'symptoms love', 'synced shangela', 'syria canada', 'syrup 5mls', 'system administrator', 'system give', 'system how', 'system like', 'system sh', 'system slowing', 't91 you', 'ta jobs', 'ta luv', 'ta tul', 'table booked', 'table lambda', 'tables occupied', 'tablet fever', 'tablets reaction', 'tablets shove', 'tacos rajas', 'tactful way', 'tactless generally', 'tadaaaaa home', 'tag keep', 'tagged my', 'tahan anot', 'tahan power', 'tai feng', 'tait edwards', 'taj mahal', 'taka lor', 'take babe', 'take back', 'take bath', 'take beatings', 'take call', 'take car', 'take care', 'take challenge', 'take cr', 'take didnt', 'take doin', 'take easy', 'take every', 'take exam', 'take fifteen', 'take finish', 'take flight', 'take forever', 'take friend', 'take get', 'take gonna', 'take good', 'take haha', 'take help', 'take home', 'take hour', 'take howard', 'take it', 'take job', 'take lead', 'take leave', 'take like', 'take long', 'take look', 'take ltgt', 'take major', 'take member', 'take modules', 'take mokka', 'take mrt', 'take much', 'take nap', 'take one', 'take part', 'take partner', 'take pic', 'take pictures', 'take post', 'take practice', 'take rest', 'take risk', 'take seriously', 'take shopping', 'take shower', 'take sick', 'take slow', 'take small', 'take smth', 'take something', 'take sorrowsi', 'take steak', 'take tablets', 'take ten', 'take test', 'take that', 'take the', 'take tram', 'take unless', 'take ur', 'take us', 'take warm', 'take weight', 'takecare goodmorning', 'taken real', 'taken trains', 'takenonly left', 'takes 2wks', 'takes away', 'takes care', 'takes closer', 'takes doesnt', 'takes enough', 'takes little', 'takes lot', 'takes place', 'takes runs', 'takes take', 'takes week', 'takes years', 'takin bus', 'takin linear', 'takin money', 'takin shower', 'taking call', 'taking class', 'taking derek', 'taking dress', 'taking fixed', 'taking forever', 'taking half', 'taking italian', 'taking live', 'taking long', 'taking ltgt', 'taking modules', 'taking part', 'taking quick', 'taking sq825', 'taking sweet', 'taking ure', 'talents would', 'talk actual', 'talk apartment', 'talk boston', 'talk called', 'talk cant', 'talk earlier', 'talk english', 'talk ever', 'talk explain', 'talk jaya', 'talk later', 'talk legal', 'talk not', 'talk nowi', 'talk or', 'talk others', 'talk pa', 'talk phone', 'talk royal', 'talk saturday', 'talk say', 'talk sexy', 'talk spontaneously', 'talk sport', 'talk stuff', 'talk time', 'talk tonight', 'talk txt', 'talk with', 'talkbut wannatell', 'talked to', 'talkin boutxx', 'talking aha', 'talking bout', 'talking do', 'talking fat', 'talking is', 'talking like', 'talking people', 'talking please', 'talking thats', 'talks email', 'tall princess', 'tallent wasting', 'tamilnaduthen tough', 'tampa dont', 'tampa ffffuuuuuuu', 'tampa might', 'tampa point', 'tampa preferably', 'tampa sarasota', 'tampa west', 'tank yes', 'tantrums finished', 'tap spile', 'tape measure', 'tape pple', 'tape wrench', 'tariffs and', 'tariffs latest', 'tariffs text', 'tarot texts', 'tarpon springs', 'tas earn', 'taste fish', 'taste real', 'tasts lush', 'tat cd', 'tat new', 'tat vidnot', 'tat yijue', 'tata aig', 'tau sar', 'taught ranjith', 'taunton 1230', 'taunton still', 'taunton tonight', 'taunton wow', 'taxes outrageous', 'taxi ing', 'taxless budget', 'taxt massagetiepos', 'taylor already', 'taylor walmart', 'taylors money', 'tayseertissco joinedhope', 'tb james', 'tb love', 'tb ok', 'tb test', 'tbspersolvo chasing', 'tc 150pmtmsg', 'tc apply', 'tc box139', 'tc kiosk', 'tc pobox334', 'tc rstm', 'tc wwwdbuknet', 'tc wwwsantacallingcom', 'tc wwwtcbiz', 'tc wwwtextcompcom', 'tc wwwtxt43com', 'tc wwwtxttowincouk', 'tcllc nyusa', 'tcs apply', 'tcs box', 'tcs box334', 'tcs james', 'tcs po', 'tcs pobox334', 'tcs sae', 'tcs www80488biz', 'tcs wwwtklscom', 'tcsbcm4235wc1n3xx callcost', 'tcsc web', 'tcsstop sms', 'tddnewsletteremc1couk more', 'tea are', 'tea coffee', 'tea promptly', 'tea shopwe', 'tea soup', 'tea sure', 'teach and', 'teach apps', 'teach canada', 'teach class', 'teach ship', 'teacher bcoz', 'teacher said', 'teacher teaches', 'teaches hw', 'teaches lesson', 'teaches lessons', 'teaches volcanoes', 'teaching til', 'team 87077', 'team budget', 'team details', 'team like', 'team scoring', 'teams waiting', 'tear always', 'tear comes', 'tear dsnt', 'tear sorrow', 'tears off', 'tease make', 'tease you', 'teasing kiss', 'tech park6ph', 'tech processits', 'technical support', 'technologies todayhe', 'tee hee', 'teenager wants', 'teeth hidden', 'teeth painful', 'teethif asapok', 'teethis paining', 'tel 0845', 'tel added', 'tel me', 'tel neglect', 'tel one', 'tel shall', 'tel themp', 'tel twice', 'tel ur', 'tel vikky', 'tel wats', 'telephone 09041940223', 'telephone number', 'telephonic interview', 'teletext pg', 'tell academic', 'tell address', 'tell aft', 'tell ans', 'tell answer', 'tell anything', 'tell ashley', 'tell bad', 'tell blakes', 'tell call', 'tell car', 'tell come', 'tell company', 'tell dad', 'tell day', 'tell dear', 'tell deepest', 'tell drug', 'tell everybody', 'tell find', 'tell finishes', 'tell fool', 'tell friend', 'tell friends', 'tell get', 'tell half', 'tell happen', 'tell haul', 'tell headache', 'tell her', 'tell him', 'tell hrishi', 'tell im', 'tell infront', 'tell jus', 'tell know', 'tell knowing', 'tell language', 'tell later', 'tell like', 'tell likes', 'tell look', 'tell love', 'tell make', 'tell man', 'tell me', 'tell need', 'tell nelson', 'tell noe', 'tell one', 'tell or', 'tell others', 'tell pa', 'tell play', 'tell ppl', 'tell pubcafe', 'tell quite', 'tell reached', 'tell rob', 'tell score', 'tell shes', 'tell shola', 'tell shuhui', 'tell side', 'tell smth', 'tell so', 'tell something', 'tell special', 'tell starting', 'tell stay', 'tell stupid', 'tell sura', 'tell take', 'tell takes', 'tell tell', 'tell thatnow', 'tell then', 'tell theyre', 'tell time', 'tell truth', 'tell ur', 'tell ure', 'tell us', 'tell wait', 'tell want', 'tell wat', 'tell wating', 'tell wen', 'tell went', 'tell what', 'tell which', 'tell whole', 'tell whos', 'telling abt', 'telling coulda', 'telling dat', 'telling dont', 'telling drive', 'telling everyone', 'telling friday', 'telling im', 'telling leona', 'telling mark', 'telling shuhui', 'telling tell', 'telling today', 'tellmiss im', 'tells apparently', 'tells call', 'tells chocolate', 'tells totally', 'telly decided', 'telly no', 'telphone moralone', 'telugu moviewat', 'teluguthts gudk', 'temales wonderful', 'temp might', 'temp reduce', 'temper self', 'temple amp', 'temple na', 'ten billion', 'ten bucks', 'ten days', 'ten minutes', 'ten morning', 'ten owe', 'ten rs', 'ten special', 'ten times', 'ten years', 'tenants welcome', 'tendencies take', 'tenerife holiday', 'tension ahwhat', 'tension face', 'teresa hope', 'term 54', 'term can', 'term dis', 'terminatedwe sorry', 'terms apply', 'terms club', 'terms conditions', 'terms going', 'terms mids', 'terms settings', 'terrible pay', 'terrible wk', 'terrific food', 'terrorist make', 'tescos quite', 'tessypls favor', 'test bad', 'test considering', 'test courage', 'test earlier', 'test friday', 'test going', 'test it', 'test ltgt', 'test message', 'test quality', 'test readiness', 'test results', 'test strips', 'test tomorrow', 'test willpower', 'test yesterday', 'test yet', 'testing phone', 'testing would', 'tests guide', 'tests if', 'tests need', 'tex mecause', 'texas atm', 'texd me', 'text 12', 'text 83738', 'text address', 'text after', 'text age', 'text all', 'text amp', 'text anymore', 'text babe', 'text back', 'text banneduk', 'text bck', 'text blakes', 'text blue', 'text bother', 'text bus', 'text camcorder', 'text carlos', 'text chance', 'text charged', 'text credits', 'text cute', 'text dating', 'text details', 'text drive', 'text drop', 'text fa', 'text favour', 'text first', 'text five', 'text free', 'text get', 'text give', 'text go', 'text gr8', 'text great', 'text hasnt', 'text head', 'text heart', 'text hey', 'text home', 'text hope', 'text horny', 'text hot', 'text if', 'text im', 'text jason', 'text kadeem', 'text lately', 'text later', 'text live', 'text mad1', 'text mad2', 'text man', 'text mat', 'text match', 'text meet', 'text meets', 'text messages', 'text missing', 'text money', 'text months', 'text morning', 'text mquiz', 'text msgs', 'text mtalk', 'text new', 'text ok', 'text one', 'text orange', 'text paris', 'text pass', 'text password', 'text pics', 'text pix', 'text play', 'text polys', 'text priscillas', 'text rally', 'text rate', 'text reply', 'text rgds', 'text see', 'text sent', 'text shop', 'text spider', 'text stop', 'text stopbcm', 'text store', 'text subpoly', 'text sue', 'text super', 'text talk', 'text text', 'text tomorrow', 'text tone', 'text tonight', 'text valid', 'text vip', 'text want', 'text wap', 'text way', 'text well', 'text wen', 'text whatever', 'text whenever', 'text wishing', 'text word', 'text wwwringtonescouk', 'text yes', 'text youre', 'text82228 get', 'textand new', 'textbook intro', 'textbuddy chat', 'textcomp 250', 'texted craziest', 'texted finished', 'texted im', 'texted pshewmissing', 'textin how', 'texting donate', 'texting get', 'texting right', 'texting see', 'texting wanted', 'textoperator g2', 'textoperator g696ga', 'textpod chance', 'texts 20', 'texts call', 'texts confirmdeny', 'texts costing', 'texts facebook', 'texts find', 'texts free', 'texts happy', 'texts help', 'texts if', 'texts im', 'texts limited', 'texts old', 'texts txt', 'texts use', 'textsweekend calls', 'th birthday', 'th delivery', 'th gower', 'th january', 'th ltgt', 'th march', 'th next', 'than week', 'thangam feel', 'thangam really', 'thangam sorry', 'thangamits mistake', 'thank and', 'thank baby', 'thank breather', 'thank dear', 'thank everything', 'thank generally', 'thank god', 'thank good', 'thank have', 'thank it', 'thank like', 'thank much', 'thank pics', 'thank princess', 'thank sister', 'thank tming', 'thank winner', 'thank you', 'thank youve', 'thanks advice', 'thanks breathe', 'thanks chikku', 'thanks clarification', 'thanks comin', 'thanks coming', 'thanks continued', 'thanks da', 'thanks especially', 'thanks fills', 'thanks gift', 'thanks god', 'thanks good', 'thanks got', 'thanks honey', 'thanks hope', 'thanks ill', 'thanks information', 'thanks invite', 'thanks it', 'thanks its', 'thanks kanoanyway', 'thanks lol', 'thanks looking', 'thanks lot', 'thanks loti', 'thanks love', 'thanks lovely', 'thanks loving', 'thanks making', 'thanks message', 'thanks or', 'thanks picking', 'thanks purchase', 'thanks putting', 'thanks reply', 'thanks ringtone', 'thanks see', 'thanks sending', 'thanks sharing', 'thanks skype', 'thanks so', 'thanks speak', 'thanks subscription', 'thanks talk', 'thanks temales', 'thanks thinking', 'thanks though', 'thanks understanding', 'thanks vote', 'thanks wishes', 'thanks yesterday', 'thanksgiving cuz', 'thanksgiving ill', 'thanksgiving without', 'thanku wish', 'thankyou much', 'thanx 2day', 'thanx bday', 'thanx birthday', 'thanx brownie', 'thanx darlinim', 'thanx everything', 'thanx gd', 'thanx got', 'thanx lot', 'thanx printing', 'thanx puttin', 'thanx school', 'thanx sending', 'thanx take', 'thanx taking', 'thanx tau', 'thanx time', 'thanx wait', 'thanx yup', 'thanx4 today', 'thasa bit', 'that 2007', 'that 500', 'that al', 'that alrite', 'that and', 'that cant', 'that day', 'that depends', 'that game', 'that happend', 'that ltgt', 'that makes', 'that mathematics', 'that means', 'that meant', 'that med', 'that mns', 'that much', 'that one', 'that order', 'that point', 'that random', 'that realise', 'that said', 'that savings', 'that scool', 'that seems', 'that so', 'that sucks', 'that the', 'that thing', 'that this', 'that time', 'that timegud', 'that way', 'that wondar', 'that wondarfull', 'that would', 'that woulda', 'that yelling', 'that you', 'that2worzels wizzle', 'thatd pretty', 'thatdont call', 'thati wait', 'thatll give', 'thatll work', 'thatmum gotmarried', 'thatnow im', 'thats 8hr', 'thats actually', 'thats alright', 'thats bad', 'thats best', 'thats better', 'thats bit', 'thats blanked', 'thats called', 'thats cause', 'thats children', 'thats cleared', 'thats cool', 'thats de', 'thats didnt', 'thats different', 'thats doesnt', 'thats easy', 'thats ebay', 'thats everything', 'thats fine', 'thats first', 'thats gay', 'thats going', 'thats good', 'thats great', 'thats guess', 'thats haf', 'thats happening', 'thats honeymoon', 'thats ill', 'thats im', 'thats impression', 'thats kind', 'thats last', 'thats late', 'thats lot', 'thats love', 'thats necessarily', 'thats need', 'thats nice', 'thats ok', 'thats okay', 'thats one', 'thats possible', 'thats problem', 'thats real', 'thats result', 'thats romantic', 'thats rude', 'thats rule', 'thats sad', 'thats said', 'thats shame', 'thats significant', 'thats something', 'thats sorry', 'thats still', 'thats texted', 'thats thinking', 'thats thought', 'thats tiny', 'thats trouble', 'thats way', 'thats worried', 'thats wrong', 'the 1im', 'the affidavit', 'the balance', 'the bank', 'the banks', 'the baskets', 'the battery', 'the beauty', 'the bird', 'the boys', 'the bus', 'the checking', 'the common', 'the computer', 'the current', 'the day', 'the docks', 'the evo', 'the exorcism', 'the eyes', 'the fact', 'the fieldof', 'the first', 'the flower', 'the free', 'the fuck', 'the fuckin', 'the gas', 'the girls', 'the goverment', 'the great', 'the greatest', 'the guy', 'the hair', 'the heater', 'the hell', 'the highest', 'the history', 'the holiday', 'the home', 'the house', 'the inconvenience', 'the intha', 'the issue', 'the king', 'the last', 'the lay', 'the length', 'the lift', 'the lower', 'the ltgt', 'the message', 'the mob', 'the mobile', 'the money', 'the monthly', 'the most', 'the moyep', 'the msg', 'the new', 'the nhs', 'the office', 'the one', 'the outstanding', 'the oz', 'the performance', 'the person', 'the place', 'the problem', 'the proof', 'the ride', 'the ringsreturn', 'the sad', 'the same', 'the scotsman', 'the search', 'the service', 'the sign', 'the simpsons', 'the site', 'the sleep', 'the strokes', 'the swan', 'the tables', 'the theory', 'the thought', 'the way', 'the weathers', 'the whole', 'the wine', 'the word', 'the world', 'the worlds', 'the xmas', 'the4th october', 'theacusations itxt', 'theatre go', 'theatre going', 'theatre so', 'theatre wit', 'thecd isvimportant', 'thedailydraw dear', 'thekingshead come', 'them raining', 'themed mu', 'themob check', 'themob help', 'themob wap', 'themobhit link', 'themobyo yo', 'then always', 'then anything', 'then ask', 'then better', 'then buy', 'then buying', 'then came', 'then cant', 'then come', 'then da', 'then deduct', 'then dinner', 'then drive', 'then dun', 'then eat', 'then entertain', 'then every', 'then get', 'then go', 'then going', 'then gotta', 'then hey', 'then ill', 'then john', 'then likely', 'then make', 'then many', 'then meeting', 'then missy', 'then mums', 'then must', 'then one', 'then plan', 'then responding', 'then save', 'then sell', 'then shd', 'then shun', 'then special', 'then started', 'then told', 'then tot', 'then ur', 'then wait', 'then wan', 'then want', 'then wat', 'then you', 'thenwill get', 'theoretically yeah', 'theory argument', 'theory test', 'theplace adress', 'thepub l8tr', 'there babe', 'there bold', 'there charges', 'there first', 'there generally', 'there is', 'there like', 'there lotta', 'there many', 'there may', 'there nice', 'there os', 'there sense', 'there size', 'there tell', 'there use', 'theredo see', 'theregoodnight dear', 'therell minor', 'therere definitely', 'therere people', 'theres always', 'theres anyway', 'theres barely', 'theres basic', 'theres card', 'theres chick', 'theres class', 'theres dont', 'theres evening', 'theres fantastic', 'theres kb', 'theres like', 'theres lot', 'theres nt', 'theres pattern', 'theres point', 'theres quite', 'theres real', 'theres ring', 'theres room', 'theres somebody', 'theres someone', 'theres still', 'theres underwear', 'theres veggie', 'theres way', 'these meds', 'these numbers', 'these wont', 'theseyours raj', 'thesis got', 'thesmszonecom lets', 'thewend haventcn', 'they arent', 'they cant', 'they currently', 'they didt', 'they dont', 'they finally', 'they get', 'they give', 'they giving', 'they going', 'they made', 'they making', 'they pick', 'they predicting', 'they released', 'they replied', 'they said', 'they see', 'they talking', 'they think', 'they thread', 'they treat', 'they try', 'they wont', 'they wrong', 'theyll understand', 'theyre casting', 'theyre dramatic', 'theyre female', 'theyre keen', 'theyre lots', 'theyre pub', 'theyre selling', 'theyre the', 'thgt clash', 'thgt workin', 'thia argument', 'thin goes', 'thing 4eva', 'thing already', 'thing another', 'thing apes', 'thing beyond', 'thing big', 'thing but', 'thing change', 'thing comes', 'thing dont', 'thing earth', 'thing else', 'thing even', 'thing ever', 'thing filthyguys', 'thing get4an18th', 'thing give', 'thing going', 'thing good', 'thing im', 'thing interesting', 'thing just', 'thing lautech', 'thing left', 'thing life', 'thing love', 'thing mate', 'thing mistake', 'thing need', 'thing past', 'thing pears', 'thing princess', 'thing related', 'thing remains', 'thing remember', 'thing resolved', 'thing running', 'thing sent', 'thing speak', 'thing thats', 'thing then', 'thing think', 'thing tomo', 'thing wear', 'thing well', 'thing whole', 'thinghow sha', 'things antibiotic', 'things as', 'things back', 'things beautifulmay', 'things bigger', 'things blow', 'things but', 'things coming', 'things constantly', 'things different', 'things doesnt', 'things dont', 'things easy', 'things going', 'things happening', 'things have', 'things herlove', 'things im', 'things important', 'things improve', 'things just', 'things keep', 'things laugh', 'things life', 'things like', 'things lovable', 'things may', 'things morning', 'things must', 'things nigeria', 'things occupy', 'things ok', 'things perspective', 'things possiblehope', 'things quite', 'things see', 'things take', 'things want', 'things went', 'things wit', 'things worklove', 'things year', 'think 21', 'think about', 'think actually', 'think addie', 'think also', 'think anyone', 'think are', 'think armand', 'think asking', 'think atrocious', 'think better', 'think book', 'think boytoy', 'think certainly', 'think chennai', 'think coincidence', 'think common', 'think could', 'think crazy', 'think da', 'think decided', 'think disturbing', 'think do', 'think doug', 'think dreams', 'think far', 'think forgot', 'think fuck', 'think get', 'think girl', 'think go', 'think goes', 'think going', 'think gonna', 'think got', 'think hope', 'think hungover', 'think iam', 'think ill', 'think im', 'think is', 'think it', 'think ive', 'think least', 'think love', 'think make', 'think match', 'think meare', 'think mentor', 'think might', 'think miss', 'think money', 'think move', 'think much', 'think need', 'think office', 'think ok', 'think one', 'think picture', 'think ps3', 'think rule', 'think secure', 'think see', 'think send', 'think sent', 'think shldxxxx', 'think should', 'think something', 'think somewhere', 'think spatula', 'think steyn', 'think still', 'think sweet', 'think sweetie', 'think tantrums', 'think teju', 'think thanks', 'think thats', 'think theres', 'think think', 'think thinking', 'think twice', 'think two', 'think ur', 'think use', 'think usual', 'think waiting', 'think wake', 'think waste', 'think wi', 'think wot', 'think would', 'think write', 'think wrong', 'think wun', 'think you', 'think youll', 'think youre', 'thinked first', 'thinkin goin', 'thinkin going', 'thinkin haha', 'thinkin ipad', 'thinkin malaria', 'thinkin someone', 'thinking and', 'thinking applying', 'thinking chennai', 'thinking chuckin', 'thinking go', 'thinking going', 'thinking lifting', 'thinking lor', 'thinking mayb', 'thinking plus', 'thinking right', 'thinking so', 'thinking staying', 'thinks get', 'thinks im', 'thinks knows', 'thinks shes', 'thinks so', 'thinks ur', 'thinkthis time', 'thinl role', 'thirunelvali tirunelvali', 'this 2nd', 'this amount', 'this at', 'this christmas', 'this creepy', 'this day', 'this final', 'this get', 'this girl', 'this got', 'this grownup', 'this hoping', 'this is', 'this isnt', 'this kind', 'this message', 'this msg', 'this new', 'this number', 'this one', 'this pain', 'this pay', 'this pen', 'this phone', 'this really', 'this roger', 'this school', 'this si', 'this single', 'this subscrition', 'this sucks', 'this the', 'this ur', 'this week', 'this weekend', 'this weeks', 'this whole', 'this wishing', 'this wk', 'this world', 'this wouldnt', 'this year', 'thisdon believe', 'thk 50', 'thk 530', 'thk abt', 'thk aft', 'thk anything', 'thk book', 'thk cant', 'thk cine', 'thk darren', 'thk dun', 'thk em', 'thk fast', 'thk go', 'thk got', 'thk gotta', 'thk hes', 'thk ill', 'thk im', 'thk impossible', 'thk juz', 'thk leona', 'thk lots', 'thk mayb', 'thk me', 'thk mum', 'thk muz', 'thk nite', 'thk oredi', 'thk oso', 'thk quite', 'thk saw', 'thk second', 'thk shd', 'thk shld', 'thk shop', 'thk sorts', 'thk students', 'thk sure', 'thk teacher', 'thk told', 'thk toot', 'thk wat', 'thkin goin', 'thm again', 'thm in2', 'thnk abt', 'thnk different', 'thnk lyk', 'thnk think', 'thnk wrong', 'thnq adrian', 'thnx dude', 'tho anyway', 'tho catch', 'tho hardly', 'tho kane', 'tho may', 'tho saw', 'tho sucks', 'tho sure', 'tho this', 'tho what', 'those cocksuckers', 'those ducking', 'those exact', 'those like', 'thoso dont', 'thot have', 'thot yould', 'thou upto', 'though any', 'though cant', 'though clock', 'though didnt', 'though do', 'though get', 'though gets', 'though good', 'though havent', 'though hm', 'though im', 'though love', 'though miles', 'though scary', 'though shd', 'though somone', 'though understand', 'thought actually', 'thought alone', 'thought always', 'thought asap', 'thought babe', 'thought be', 'thought better', 'thought bout', 'thought calling', 'thought contract', 'thought could', 'thought didnt', 'thought do', 'thought expert', 'thought finish', 'thought friends', 'thought friendship', 'thought go', 'thought happy', 'thought id', 'thought king', 'thought left', 'thought lemme', 'thought liked', 'thought living', 'thought love', 'thought meant', 'thought misundrstud', 'thought nver', 'thought praps', 'thought punishment', 'thought put', 'thought said', 'thought send', 'thought slide', 'thought sofa', 'thought tactful', 'thought thanks', 'thought trip', 'thought wanna', 'thought xuhui', 'thoughts somewheresomeone', 'thoughtsi would', 'thousands old', 'thousands secrets', 'thout gonna', 'thread cause', 'thread wishlist', 'threats sales', 'three christmasmerry', 'three days', 'three drug', 'three months', 'threw thm', 'thriller director', 'throat hurts', 'throat its', 'throat what', 'throat wrecked', 'throw cliff', 'throw laundry', 'throw smoking', 'throwin thm', 'throwing were', 'thrown winds', 'throws luv', 'thru different', 'thru email', 'thru friends', 'thru much', 'thru paypal', 'thru thanks', 'thrurespect mother', 'ths hav', 'ths whom', 'tht guy', 'tht incident', 'tht nt', 'tht possible', 'tht time', 'tht unknown', 'tht vinobanagar', 'thts gods', 'thts im', 'thts nt', 'thts wat', 'thuglyfe falconerf', 'thurs fri', 'thurs pre', 'thurs sat', 'thursday night', 'thursday yay', 'thus shouldnt', 'thx all', 'thy lived', 'tick babe', 'tick tick', 'tick where', 'ticket availablei', 'ticket pongal', 'ticket preponed', 'ticket saturday', 'ticket tackle', 'ticket ya', 'tickets blu', 'tickets cos', 'tickets first', 'tickets if', 'tickets one', 'tickets prebook', 'tickets sale', 'tickets sat', 'tickets walsall', 'tickets wat', 'tiempo something', 'tiger woods', 'tight morning', 'tight pussy', 'tightly making', 'tihs msg', 'tiime dont', 'til 2day', 'til dinner', 'til end', 'til friday', 'til get', 'til got', 'til last', 'til late', 'til least', 'til like', 'til listen', 'til ltgt', 'til next', 'til nxt', 'til one', 'til shouted', 'til thanksgiving', 'til tomorrow', 'til twelve', 'til you', 'till 6months', 'till 6pm', 'till 8pm', 'till bus', 'till but', 'till come', 'till day', 'till den', 'till dint', 'till drop', 'till end', 'till last', 'till life', 'till mid', 'till next', 'till theregoodnight', 'tim bollox', 'time 01223585236', 'time 09099726429', 'time 930', 'time ago', 'time alone', 'time also', 'time angry', 'time argentina', 'time around', 'time atlast', 'time awesome', 'time bus', 'time but', 'time call', 'time calls150ppm', 'time cell', 'time chart', 'time child', 'time claire', 'time clean', 'time collect', 'time come', 'time coming', 'time created', 'time dad', 'time diesel', 'time done', 'time dont', 'time dreamlove', 'time driving', 'time earning', 'time enjoy', 'time especially', 'time ever', 'time everything', 'time fetch', 'time finish', 'time fixes', 'time flies', 'time free', 'time from', 'time get', 'time give', 'time going', 'time good', 'time got', 'time grins', 'time gud', 'time hop', 'time how', 'time id', 'time if', 'time il', 'time ill', 'time im', 'time in', 'time its', 'time ive', 'time job', 'time joy', 'time last', 'time laugh', 'time liao', 'time like', 'time ltgt', 'time make', 'time makes', 'time mayb', 'time meet', 'time meeting', 'time meh', 'time month', 'time more', 'time murder', 'time need', 'time network', 'time next', 'time night', 'time no', 'time one', 'time passthey', 'time place', 'time prob', 'time reach', 'time reply', 'time said', 'time saw', 'time see', 'time semester', 'time sexy', 'time sheets', 'time smile', 'time smoke', 'time soon', 'time sooner', 'time sorry', 'time spent', 'time subletting', 'time talk', 'time tell', 'time thing', 'time think', 'time thinkin', 'time tho', 'time together', 'time tonight', 'time tried', 'time truck', 'time ur', 'time use', 'time usual', 'time wake', 'time walk', 'time wan', 'time wanna', 'time want', 'time wat', 'time we', 'time weakness', 'time week', 'time went', 'time what', 'time when', 'time why', 'time wont', 'time work', 'time wrkin', 'time ya', 'time year', 'time you', 'time youre', 'time üll', 'timedhoni rocks', 'timegud ni8', 'timehope ur', 'times ahead', 'times already', 'times even', 'times if', 'times infront', 'times ive', 'times job', 'times lose', 'times oh', 'times per', 'times recently', 'times stuff', 'times text', 'times told', 'times used', 'times who', 'times wk', 'times woul', 'timeslil busyi', 'timeyour family', 'timi help', 'timin still', 'timing go', 'timing great', 'timing night', 'timings msg', 'tiny street', 'tip anyway', 'tips reply', 'tired arguing', 'tired come', 'tired got', 'tired havent', 'tired little', 'tired much', 'tired shoving', 'tired special', 'tired thia', 'tired travel', 'tiring lor', 'tirunelvai da', 'tirunelvali chennai', 'tirunelvali week', 'tirupur call', 'tirupur da', 'tis ias', 'tis time', 'tis ur', 'title 8007', 'titles crazyin', 'titles ghost', 'titleso win', 'tiwary rcbbattle', 'tix lar', 'tiz msg', 'tke care', 'tkts 21st', 'tkts euro2004', 'tlk wid', 'tm last', 'tm remind', 'tm very', 'tm whenever', 'tming tm', 'tmobile buy', 'tmobile customer', 'tmobile handset', 'tmorrowpls accomodate', 'tmr brin', 'tmr forfeit', 'tmr haf', 'tmr hee', 'tmr lor', 'tmr maybe', 'tmr meet', 'tmr neva', 'tmr nite', 'tmr onwards', 'tmr rite', 'tmr timin', 'tmr ull', 'tmr wanna', 'tmrw im', 'tmrw right', 'tmw may', 'tnc wwwldewcom1win150ppmx3age16subscription', 'tncs website', 'tncs wwwldewcom', 'tncs wwwldewcom1win150ppmx3age16', 'to activate', 'to be', 'to bid', 'to cancel', 'to claim', 'to collect', 'to day', 'to disturb', 'to dream', 'to extreme', 'to find', 'to get', 'to inform', 'to nosy', 'to opt', 'to order', 'to party', 'to pause', 'to pub', 'to receive', 'to remove', 'to removed', 'to review', 'to see', 'to stop', 'to take', 'to tampa', 'to unsubscribe', 'to use', 'to wonderful', 'to yor', 'to your', 'toa payoh', 'toaday fell', 'tobed at', 'tocallshall ileave', 'toclaim sae', 'today accept', 'today access', 'today aftr', 'today are', 'today auction', 'today bad', 'today better', 'today birthday', 'today bright', 'today but', 'today can', 'today cer', 'today cosign', 'today dad', 'today do', 'today done', 'today dry', 'today eh', 'today find', 'today formallypls', 'today from', 'today gee', 'today going', 'today goodmorning', 'today haf', 'today have', 'today he', 'today ho', 'today hope', 'today if', 'today im', 'today in', 'today is', 'today iz', 'today late', 'today like', 'today love', 'today ltdecimalgt', 'today ltgt', 'today lucky', 'today mah', 'today mail', 'today morn', 'today much', 'today need', 'today night', 'today of', 'today ok', 'today pa', 'today planning', 'today pm', 'today seing', 'today shall', 'today song', 'today sorry', 'today system', 'today tea', 'today tel', 'today text', 'today thats', 'today think', 'today tmr', 'today told', 'today wanna', 'today weekend', 'today when', 'today will', 'today wish', 'today workin', 'today would', 'todaybut still', 'todaydo said', 'todayfrom only', 'todaygood morning', 'todayhe got', 'todays class', 'todays day', 'todays draw', 'todays meeting', 'todays offer', 'todays plan', 'todays steam', 'todays voda', 'todays vodafone', 'todaysundaysunday holidayso', 'todo workand', 'tog believe', 'tog exactly', 'tog lor', 'together againloving', 'together amp', 'together befor', 'together buy', 'together didnt', 'together friendships', 'together gets', 'together ill', 'together loving', 'together na', 'together right', 'together sometime', 'together thinkin', 'tohar beeen', 'toilet stolen', 'tok go', 'tok lor', 'token heart', 'toking abt', 'told abi', 'told accenture', 'told adore', 'told already', 'told body', 'told check', 'told coming', 'told could', 'told dad', 'told dat', 'told direct', 'told dr', 'told earlier', 'told everything', 'told girls', 'told go', 'told going', 'told hr', 'told in', 'told ive', 'told jerry', 'told kallis', 'told last', 'told mark', 'told name', 'told nora', 'told number', 'told offer', 'told ok', 'told others', 'told ron', 'told smoke', 'told stage', 'told story', 'told tell', 'told today', 'told true', 'told twice', 'told would', 'told yesterday', 'toldshe asking', 'tolerance shit', 'toleratbcs ur', 'toll free', 'tom air', 'tom fri', 'tom pete', 'tomarrow coming', 'tomarrow final', 'tomarrow want', 'tome 2moro', 'tomeandsaidthis friend', 'tomo dont', 'tomo got', 'tomo half', 'tomo is', 'tomo lunchtime', 'tomo morning', 'tomo not', 'tomo return', 'tomo see', 'tomocant believe', 'tomorrow 5ish', 'tomorrow apparently', 'tomorrow around', 'tomorrow best', 'tomorrow bit', 'tomorrow di', 'tomorrow dont', 'tomorrow even', 'tomorrow finish', 'tomorrow get', 'tomorrow going', 'tomorrow got', 'tomorrow he', 'tomorrow iam', 'tomorrow im', 'tomorrow itplspls', 'tomorrow its', 'tomorrow know', 'tomorrow love', 'tomorrow morning', 'tomorrow morningtake', 'tomorrow never', 'tomorrow night', 'tomorrow onwards', 'tomorrow pray', 'tomorrow really', 'tomorrow result', 'tomorrow same', 'tomorrow send', 'tomorrow senthilhsbc', 'tomorrow so', 'tomorrow thus', 'tomorrow today', 'tomorrow tuesday', 'tomorrow txt', 'tomorrow uni', 'tomorrow wanna', 'tomorrow wil', 'tomorrow with', 'tomorrow xxx', 'tomorrow yesterday', 'tomorrowcall 67441233', 'tomorrowtoday im', 'tomorw gud', 'tone 0870737910216yrs', 'tone arrive', 'tone charity', 'tone club', 'tone dracula', 'tone flag', 'tone free', 'tone gr8', 'tone help', 'tone reply', 'tone text', 'tone title', 'tone txt', 'tone ur', 'tone week', 'tone within', 'tones 150p', 'tones 3gbp', 'tones 3x', 'tones 4u', 'tones all', 'tones call', 'tones cost', 'tones costing', 'tones etc', 'tones gossip', 'tones hit', 'tones hope', 'tones include', 'tones phone', 'tones ready', 'tones replying', 'tones str8', 'tones this', 'tones txt', 'tones wk', 'tones2u text', 'tonesreply real', 'tonexs subscription', 'tonght wen', 'tonight already', 'tonight babe', 'tonight bad', 'tonight class', 'tonight come', 'tonight excuses', 'tonight ill', 'tonight im', 'tonight interested', 'tonight ive', 'tonight lt', 'tonight mate', 'tonight maybe', 'tonight our', 'tonight possible', 'tonight really', 'tonight somethings', 'tonight tell', 'tonight want', 'tonight want2come', 'tonight wats', 'tonight well', 'tonight what', 'tonight whenever', 'tonight yeah', 'tonights game', 'tonite am', 'tonite apt', 'tonite as', 'tonite search', 'tonite they', 'tonitebusy streetshall', 'tonitethings looking', 'tons coins', 'tons sexy', 'tonsolitusaswell damn', 'too bad', 'too late', 'too lazy', 'too much', 'took another', 'took forever', 'took garage', 'took hooch', 'took leave', 'took long', 'took mo', 'took morphine', 'took mr', 'took pics', 'took place', 'took second', 'took tablets', 'tookplace somewhere', 'toolets see', 'tooo simple', 'toopray inshah', 'toopray meremove', 'toot b4', 'toot fringe', 'toothpaste every', 'tootsie pop', 'top 20', 'top artists', 'top bottom', 'top british', 'top cant', 'top dat', 'top everything', 'top head', 'top polyphonic', 'top prize', 'top quality', 'top receive', 'top ringtone', 'top shorter', 'top sony', 'top stadium', 'topic yet', 'topicsorry telling', 'toplay in', 'topped httpwwwbubbletextcom', 'toppoly tune', 'tor motive', 'torch 2bold', 'torch 9ja', 'torch bold', 'torch later', 'torch nigeria', 'torch should', 'torrents particularly', 'tortilla needed', 'tortilla soup', 'torture watching', 'tosend warm', 'toshiba got', 'toshiba portege', 'toss coin', 'tot 2daylove', 'tot ben', 'tot da', 'tot din', 'tot dun', 'tot going', 'tot group', 'tot havent', 'tot interested', 'tot juz', 'tot knew', 'tot outside', 'tot parkin', 'tot reach', 'tot say', 'tot told', 'tot ur', 'tot would', 'total disappointment', 'total order', 'total privacy', 'total video', 'totally disagreeable', 'totally free', 'totally fucking', 'totally rejected', 'totally see', 'totes when', 'touch easiest', 'touch folks', 'touch good', 'touch last', 'touch ltemailgt', 'touch permission', 'touch pls', 'touch sorry', 'touch thanks', 'touch weekend', 'touch you', 'touched itwhichturnedinto', 'tough decisions', 'tough get', 'tough ill', 'tough optimistic', 'tough people', 'tough questions', 'toughest acting', 'toughest thing', 'tour 1unbreakable', 'tour 9am', 'tour package', 'tour thought', 'tour win', 'towards busetop', 'towards draw', 'towards gal', 'towards getting', 'towards hard', 'towards net', 'town alone', 'town already', 'town bet', 'town cant', 'town cos', 'town durban', 'town eightish', 'town fooled', 'town ill', 'town jus', 'town lei', 'town love', 'town meet', 'town or', 'town something', 'town sorry', 'town therere', 'town this', 'town though', 'town tonight', 'town weekend', 'towncud go', 'towndontmatter if', 'toxic come', 'toyota camry', 'tp mrt', 'track ever', 'track lighters', 'track record', 'track usf', 'track wallet', 'track whose', 'trackmarque ltd', 'trade back', 'trade please', 'traditions have', 'traffic moves', 'traffic plus', 'train back', 'train cos', 'train durham', 'train incident', 'train morning', 'train seat', 'train worc', 'trained advisors', 'training amrita', 'training manual', 'training process', 'training started', 'training tomorrow', 'trainners save', 'trains play', 'trains triumphed', 'tram my', 'tranquility ur', 'transaction id', 'transaction reference', 'transfer charges', 'transfer she', 'transferacc enough', 'transfered ltgt', 'transferred someone', 'transfr amt', 'transfred ur', 'transport cant', 'transport less', 'trauma swear', 'trav acoentry41', 'travel ask', 'travel visitneed', 'travel voucher', 'travelled forgotten', 'travelling da', 'treadmill say', 'treasure every', 'treat dignity', 'treat hi', 'treat keep', 'treat like', 'treat maga', 'treat patients', 'treat pendingi', 'treat seem', 'treat somebody', 'treat want', 'treat well', 'treated urself', 'treatin ya', 'treats like', 'tree burning', 'tree gives', 'trek long', 'trends pros', 'trial prods', 'tried adding', 'tried call', 'tried calling', 'tried contact', 'tried everything', 'tried hittng', 'tried make', 'tried yet', 'trip annoying', 'trip barring', 'trip bus', 'trip dont', 'trip eurodisinc', 'trip got', 'trip india', 'trip last', 'trip lifetime', 'trip loooooool', 'trip nigeria', 'trip oh', 'trip ok', 'trip ptbo', 'trip sometme', 'trip thought', 'trip watch', 'trip wondering', 'triple echo', 'trishul theatre', 'triumphed mean', 'tron maybe', 'trouble can', 'trouble classes', 'trouble convincingjust', 'trouble ijust', 'trouble pours', 'trouble sleeping', 'trouble strangersaw', 'truble at', 'truck speeding', 'true already', 'true available', 'true deari', 'true dont', 'true friends', 'true goodnite', 'true how', 'true it', 'true its', 'true lov', 'true ltgt', 'true missin', 'true name', 'true tone', 'true true', 'true way', 'truekdo knw', 'truly amazing', 'truly memorable', 'truly special', 'truro hospital', 'trust 9ja', 'trust answers', 'trust buy', 'trust even', 'trust good', 'trust love', 'trust math', 'trusting much', 'truth brings', 'truth coz', 'truth dont', 'truth expression', 'truth gravity', 'truth lead', 'truth ull', 'truthful intimate', 'try alone', 'try answer', 'try budget', 'try bullshit', 'try cars', 'try change', 'try cheer', 'try chitchat', 'try come', 'try contact', 'try decided', 'try figure', 'try for', 'try gay', 'try get', 'try go', 'try hold', 'try keep', 'try later', 'try making', 'try months', 'try my', 'try neva', 'try new', 'try pls', 'try prove', 'try rebooting', 'try scrounge', 'try see', 'try send', 'try shoppin', 'try something', 'try speedchat', 'try they', 'try week', 'tryin ne', 'trying bother', 'trying contact', 'trying figure', 'trying find', 'trying finish', 'trying get', 'trying give', 'trying husband', 'trying invite', 'trying kadeem', 'trying make', 'trying reach', 'trying relocate', 'trying serious', 'trying smoke', 'trying smth', 'trying sort', 'trying sure', 'trying tell', 'trying weekend', 'trywales scotland', 'ts cs', 'tsandcs apply', 'tscs apply', 'tscs apply2', 'tscs wwwidewcom', 'tscs wwwldewcom', 'tscs wwwldewcomsubs161win150ppmx3', 'tscs wwwmovietriviatv', 'tscs wwwmusictrivianet', 'tscs wwwsmsconet', 'tscs wwwtextpodnet', 'tscs wwwtxt2shopcom', 'tscs08714740323 1winawk', 'tscs087147403231winawkage16 150perwksub', 'tsunami disaster', 'tsunamis arise', 'tsunamis occur', 'tt den', 'tt ends', 'tt im', 'tts best', 'tue th', 'tues wed', 'tuesday dont', 'tuesday evening', 'tuesday night', 'tuesday on', 'tuesday only', 'tuesday think', 'tui achieve', 'tuition 330', 'tuition gee', 'tuition haha', 'tuition paid', 'tul na', 'tulip lily', 'tunde this', 'tune sent', 'tunji hows', 'turn first', 'turn heater', 'turn pizza', 'turn txt', 'turned green', 'turning phone', 'turning right', 'turns friends', 'turns fun', 'turns hes', 'turns like', 'turns sit', 'turns stereo', 'tuth aight', 'tv always', 'tv collect', 'tv go', 'tv got', 'tv home', 'tv lor', 'tv officethenampet', 'tv quiz', 'tv show', 'tv shows', 'tv still', 'tv tell', 'tv ur', 'tv wat', 'tv watch', 'tvhe drunken', 'twat orange', 'twelve aah', 'twelve lecture', 'twelve plus', 'twenty past', 'twice people', 'twice row', 'twice saying', 'twice tel', 'twiggs st', 'twilight wwwgetzedcouk', 'twinks bears', 'twins comin', 'twittering birds', 'two become', 'two cartons', 'two crucial', 'two dad', 'two damn', 'two days', 'two egg', 'two fundamentals', 'two ill', 'two letters', 'two monthnot', 'two numbers', 'two nurses', 'two odi', 'two only', 'two pints', 'two round', 'two rounds', 'two sleeps', 'two smiling', 'two still', 'two teams', 'two three', 'two trips', 'two twelve', 'two us', 'two weeks', 'two years', 'tx fonin', 'txt 07786200117', 'txt 12', 'txt 80160', 'txt 84025', 'txt action', 'txt ans', 'txt ansr', 'txt answer', 'txt back', 'txt bak', 'txt best', 'txt bundle', 'txt call', 'txt card', 'txt chat', 'txt club', 'txt cos', 'txt costs', 'txt csh11', 'txt dis', 'txt dogs', 'txt end', 'txt eng', 'txt entry', 'txt fantasy', 'txt finish', 'txt first', 'txt girl', 'txt hmm', 'txt horo', 'txt ill', 'txt later', 'txt love', 'txt me', 'txt message', 'txt more', 'txt music', 'txt nok', 'txt nokia', 'txt one', 'txt orange', 'txt out', 'txt park', 'txt play', 'txt pod', 'txt porn', 'txt pt2', 'txt rate', 'txt ratetcs', 'txt rec', 'txt ring', 'txt shop', 'txt sir', 'txt speedchat', 'txt sport', 'txt stop', 'txt store', 'txt swap', 'txt tone', 'txt ur', 'txt vpod', 'txt whose', 'txt wife', 'txt word', 'txt wordcollect', 'txt xxuk', 'txt xxx', 'txt250com 150pwk', 'txtauction txt', 'txtauctiontxt wordstart', 'txtin tell', 'txting driving', 'txting gravel', 'txting moan', 'txting tell', 'txting word', 'txtjourney hasnt', 'txtno ads', 'txts 6months', 'txts call', 'txts cost', 'txts orange', 'txts reply', 'txts send', 'txtx stop', 'tyler cant', 'tyler getting', 'tyler literally', 'tyler take', 'tyler two', 'tylers got', 'type activities', 'type food', 'type forgot', 'type google', 'type later', 'type ltgt', 'type message', 'type sent', 'type stuff', 'type word', 'type words', 'typelyk footblcrckt', 'types try', 'typical reply', 'u2moro wen', 'u4 call', 'uawakefeellikw shitjustfound', 'ubandu run', 'ubi cresubi', 'ubi one', 'ucall wen', 'ufind rreveal', 'ugadi happy', 'ugh cant', 'ugh couldnt', 'ugh dont', 'ugh fuck', 'ugh got', 'ugh gotta', 'ugh hopefully', 'ugh im', 'ugh leg', 'ugh long', 'ugos numbers', 'uh heads', 'uh yeah', 'uhhhhrmm isnt', 'uif member', 'uin wk', 'ujhhhhhhh computer', 'uk break', 'uk guys', 'uk look', 'uk mobile', 'uk per', 'uk po', 'uk singles', 'uk tour', 'uk travel', 'uk txt', 'ukmobiledate msg', 'ukp2000 prize', 'uks biggest', 'uks fastest', 'uks horniest', 'uks largest', 'uks wildest', 'ull brand', 'ull gt', 'ull hate', 'ull knw', 'ull noe', 'ultimate spiderman', 'ultimately tor', 'ultimatum oh', 'um ur', 'umma ask', 'umma called', 'umma did', 'umma life', 'umma love', 'ummmawill call', 'ummmmmaah many', 'un buen', 'unable cal', 'unable connect', 'unable please', 'unable reach', 'unbelievable faglord', 'unclaimed call', 'uncle abbey', 'uncle aka', 'uncle already', 'uncle boye', 'uncle checking', 'uncle finance', 'uncle ill', 'uncle informed', 'uncle john', 'uncle timi', 'uncles 1st', 'uncles atlanta', 'unconditionally without', 'unconscious thats', 'unconsciously avoiding', 'unconvinced isnt', 'uncountable noun', 'uncut diamond', 'under sea', 'underdtand often', 'understand american', 'understand darlin', 'understand important', 'understand loss', 'understand message', 'understand other', 'understand special', 'understand wine', 'understanding differences', 'understanding ive', 'understanding small', 'understood acted', 'understood by', 'understood text', 'underwear bras', 'undrstnd start', 'undrstndng dat', 'unemployed every', 'unemployed moment', 'uneventful many', 'unfolds okay', 'unfortunately ive', 'unfortunately pics', 'unfortuntly snake', 'unhappiness accept', 'uni at', 'uni starts', 'uni today', 'unicefs asian', 'uniform in', 'unintentional but', 'unintentionally bad', 'unique enough', 'unique person', 'unique user', 'uniquei hope', 'united kingdom', 'units ltgt', 'univ how', 'university florida', 'university hospital', 'university southern', 'unknown album', 'unless book', 'unless chop', 'unless free', 'unless getting', 'unless guys', 'unless meetin', 'unless see', 'unless situation', 'unless theres', 'unlike docs', 'unlimited calls', 'unlimited free', 'unlimited haha', 'unlimited hardcore', 'unlimited movies', 'unlimited text', 'unlimited texts', 'unlimited weekend', 'unmits however', 'unnecessarily affectionate', 'unnecessarily hostile', 'unni thank', 'unrecognized though', 'unredeemed bonus', 'unredeemed points', 'unredeemed sim', 'unsecured cant', 'unsold players', 'unsoldmike hussey', 'unsoldnow gibbs', 'unspoken pain', 'unsub 08718727870', 'unsub reply', 'unsub stop', 'unsubscribe alerts', 'unsubscribe anytime', 'unsubscribe help08712400602450p', 'unsubscribe send', 'unsubscribe service', 'unsubscribe stop', 'unsubscribe text', 'unsubscribe txt', 'unsubscribe yet', 'unsubscribed services', 'until 545', 'unusual ill', 'uothrwise even', 'up 2im', 'up 2morro', 'up 2nite', 'up before', 'up bout', 'up but', 'up for', 'up goin', 'up in', 'up love', 'up much', 'up now', 'up or', 'up over', 'up wan', 'up wiv', 'up work', 'up wot', 'up4 nething', 'up4 something', 'upd8 freefone', 'updat countinlots', 'update co', 'update face', 'update free', 'update help', 'update latest', 'update or2stoptxt', 'update tonitethings', 'update totally', 'update vco', 'update weed', 'updatenow 12mths', 'updatenow xmas', 'upgrade loyalty', 'upgrade pay', 'upgrading current', 'upgrdcentre orange', 'uphad bad', 'upload call', 'upload songs', 'uploaded mine', 'uploads luv', 'upnot fit', 'upping order', 'ups 3days', 'upset then', 'upset your', 'upseti assume', 'upsetits dont', 'upstairs ok', 'upto 12mths', 'upto 50', 'upto ltgt', 'upto tonight', 'uptown girl', 'upyeh she', 'ur 150', 'ur 1st', 'ur 250', 'ur 500', 'ur acnt', 'ur answer', 'ur area', 'ur around', 'ur ass', 'ur award', 'ur awarded', 'ur baby', 'ur bag', 'ur balance', 'ur belovd', 'ur best', 'ur birds', 'ur birthdate', 'ur birthday', 'ur bloody', 'ur books', 'ur brolly', 'ur car', 'ur career', 'ur cashbalance', 'ur cashin', 'ur cell', 'ur chance', 'ur changes', 'ur choice', 'ur close', 'ur closeby', 'ur club', 'ur colleg', 'ur college', 'ur colours', 'ur coming', 'ur compass', 'ur contacts', 'ur content', 'ur crushes', 'ur cupboard', 'ur day', 'ur dinner', 'ur doin', 'ur draw', 'ur dream', 'ur dreams', 'ur driving', 'ur email', 'ur every', 'ur exam', 'ur exams', 'ur eyes', 'ur face', 'ur family', 'ur familymay', 'ur fault', 'ur favorite', 'ur fingers', 'ur flight', 'ur fone', 'ur footprints', 'ur fortune', 'ur freak', 'ur free', 'ur frens', 'ur friend', 'ur friends', 'ur friendship', 'ur frnds', 'ur frndz', 'ur full', 'ur games', 'ur gf', 'ur goin', 'ur going', 'ur gray', 'ur grown', 'ur guide', 'ur hair', 'ur hand', 'ur hands', 'ur hdd', 'ur head', 'ur heart', 'ur help', 'ur hmv', 'ur home', 'ur hon', 'ur house', 'ur lab', 'ur laptop', 'ur leadership', 'ur lect', 'ur lecture', 'ur lesson', 'ur life', 'ur lookin', 'ur lovable', 'ur loved', 'ur lovely', 'ur lover', 'ur luck', 'ur lucky', 'ur lunch', 'ur luv', 'ur m8s', 'ur mail', 'ur map', 'ur mates', 'ur med', 'ur messages', 'ur mind', 'ur mins', 'ur mob', 'ur mobile', 'ur monkey', 'ur msg', 'ur name', 'ur national', 'ur nature', 'ur next', 'ur numberso', 'ur office', 'ur ok', 'ur openin', 'ur opinion', 'ur order', 'ur paper', 'ur papers', 'ur past', 'ur personality', 'ur phone', 'ur physics', 'ur pimples', 'ur pin', 'ur plans', 'ur points', 'ur prayers', 'ur price', 'ur prince', 'ur problem', 'ur problems', 'ur reaction', 'ur red', 'ur rents', 'ur replybe', 'ur report', 'ur ringtone', 'ur rite', 'ur room', 'ur sad', 'ur same', 'ur self', 'ur shows', 'ur sis', 'ur smart', 'ur smile', 'ur sms', 'ur someone', 'ur soul', 'ur specialcall', 'ur standard', 'ur star', 'ur stomach', 'ur style', 'ur sugardad', 'ur tear', 'ur tears', 'ur time', 'ur todays', 'ur tonexs', 'ur trusting', 'ur tuition', 'ur typical', 'ur uniquei', 'ur up4', 'ur valuable', 'ur valued', 'ur values', 'ur vibrant', 'ur visa', 'ur voice', 'ur wall', 'ur welcome', 'ur words', 'ur years', 'ure beautiful', 'ure busy', 'ure done', 'ure oktake', 'ure phone', 'ure practical', 'ure rite', 'ure singapore', 'ure still', 'ure welcome', 'urfeeling bettersn', 'urgent call', 'urgent collection', 'urgent important', 'urgent last', 'urgent message', 'urgent please', 'urgent pls', 'urgent this', 'urgent ur', 'urgent urgent', 'urgent we', 'urgent works', 'urgent you', 'urgent your', 'urgentbut hv', 'urgentlyits vry', 'urgh coach', 'urgnt call', 'urgnt dont', 'urgnt sms', 'urgoin outl8rjust', 'urgran knowneway', 'urination thing', 'url cant', 'urmomi careabout', 'urn anyone', 'urn ltgt', 'urself bcoz', 'urself cos', 'urself digi', 'urself gn', 'urself jacket', 'urself lor', 'urself tmr', 'urself witout', 'us amused', 'us another', 'us back', 'us bottle', 'us but', 'us call', 'us come', 'us connection', 'us customer', 'us drink', 'us extra', 'us forget', 'us forgt', 'us free', 'us get', 'us getting', 'us go', 'us great', 'us happy', 'us hypertension', 'us jump', 'us keeping', 'us later', 'us lor', 'us ltgt', 'us lunch', 'us many', 'us need', 'us oredi', 'us president', 'us problems', 'us shopping', 'us since', 'us speechless', 'us thing', 'us tog', 'us together', 'us uk', 'us use', 'us work', 'usb flash', 'usc ltgt', 'usc payment', 'uscedu great', 'use call', 'use considering', 'use credit', 'use dial', 'use drink', 'use following', 'use foreign', 'use gt', 'use half8th', 'use happy', 'use home', 'use hook', 'use hour', 'use however', 'use httpalto18coukwavewaveaspo44345', 'use if', 'use it', 'use joining', 'use laugh', 'use lots', 'use money', 'use mouth', 'use msn', 'use next', 'use oneta', 'use os', 'use phone', 'use sim', 'use sleep', 'use soc', 'use type', 'use unlimited', 'use ur', 'use wap', 'use wife', 'use words', 'use wylie', 'used also', 'used chest', 'used dat', 'used driving', 'used dumb', 'used good', 'used hope', 'used its', 'used let', 'used measure', 'used multis', 'used ones', 'used otherwise', 'used plus', 'used taxless', 'useful straight', 'useless calling', 'user 0789xxxxxxx', 'user 0796xxxxxx', 'user id', 'user name', 'user today', 'user trial', 'uses half', 'usf charge', 'usf dogwood', 'usf guess', 'usf like', 'usf little', 'usf lives', 'usf man', 'usf swing', 'usf time', 'usf tonight', 'usget convinced', 'usher britney', 'using auction', 'using biolas', 'using broken', 'using connections', 'using drugs', 'using eve', 'using get', 'using net', 'using your', 'uslet life', 'usmle work', 'usno competition', 'uso happy', 'usps takes', 'usual call', 'usual come', 'usual guys', 'usual let', 'usual nobody', 'usual vijay', 'usualiam fine', 'usually body', 'usually get', 'usually person', 'usually runs', 'usually stops', 'usually take', 'utter waste', 'uttered word', 'uu won', 'uup later', 'uv causes', 'uve done', 'uve invited', 'uve selected', 'uwana mt', 'uwant m8', 'uworld site', 'vague she', 'vaguely remember', 'vai dont', 'vale lor', 'valentine arent', 'valentine even', 'valentine game', 'valentine shopping', 'valentine wasnt', 'valentine yo', 'valentines day', 'valentines huh', 'valentines weekend', 'valid 12', 'valid 12hours', 'valid 12hrs', 'valid 24', 'valid 31', 'valid name', 'valuable affectionate', 'valuable frnds', 'valuable situations', 'value people', 'value pls', 'valued 350', 'valued customer', 'valued frnds', 'valued mobile', 'valued network', 'valued vodafone', 'valuemorning brings', 'values desires', 'valuing definitly', 'varaya elaya', 'vargu lyfu', 'various global', 'various points', 'varma kept', 'vary mobiles', 'vary service', 'vasai amp', 'vat cancel', 'vava also', 'vava playing', 'vava umma', 'vco free', 'vday parachute', 'vday shirts', 've won', 'vegas stays', 'vegetables 6housemaid', 'veggie pizza', 'vehicle sariyag', 'velly good', 'velusamy sirs', 'venugopal mentionedtomorrow', 'verified cnn', 'verify get', 'verify yr', 'verifying project', 'version da', 'version if', 'versus ltgt', 'very clean', 'very easy', 'very good', 'very hurting', 'very inconvenient', 'very much', 'very slowly', 'very smart', 'very strange', 'vettam set', 'vewy lubly', 'vewy vewy', 'via access', 'via aletter', 'via dating', 'via fullonsmscom', 'via indyarockscom', 'via wadebridgei', 'via way2smscom', 'via yahoo', 'vibrant colourful', 'vibrate acting', 'vibrator did', 'vic market', 'victoria island', 'victors hill', 'vid enough', 'video calls', 'video camera', 'video chat', 'video clip', 'video club', 'video converter', 'video handset', 'video mmsto', 'video mobile', 'video phone', 'video phone750', 'video player', 'video sent', 'video shortly', 'video tape', 'videochat wid', 'videophones call', 'videopic fones', 'videos smsshsexnetun', 'videosound gold', 'videosounds2 logosmusicnews', 'vidnot finishd', 'view couple', 'vijay film', 'vijay going', 'vijay movie', 'vijaykanth comedy', 'vikky come', 'vikky hav', 'vikky im', 'vikky vl', 'vikkyim otside', 'vilikkamt ws', 'vill one', 'villa 87077', 'village 83118', 'village delhi', 'village get', 'village place', 'village pub', 'vinobanagar violence', 'violated privacy', 'violence against', 'violence bad', 'violence hw', 'violet tulip', 'vip 83110', 'vip club', 'vip row', 'vip tickets', 'virgils cream', 'virgin records', 'virgin sumfing', 'virgins ready', 'virtual hug', 'visa coming', 'visionsmscom text', 'visit 1st', 'visit 80488biz', 'visit academic', 'visit cant', 'visit fullonsmscom', 'visit last', 'visit months', 'visit sms', 'visit www07781482378com', 'visit wwwshortbreaksorguk', 'visit wwwwin82050couk', 'visitneed finish', 'visitors maybe', 'vital completes', 'viva gmgngegnt', 'vivekanand 9t', 'viveki got', 'vl bcum', 'vl cometil', 'vl completing', 'vl credited', 'vl givits', 'vl nice', 'vl witin', 'vldo know', 'voda numbers', 'vodafone customer', 'vodafone numbers', 'vodafone respond', 'vodka scotch', 'voice how', 'voice im', 'voice love', 'voice need', 'voice process', 'voice processexcellent', 'voice processnetworking', 'voice so', 'voicemail please', 'voila money', 'volcanoes erupt', 'vomit its', 'vomit okay', 'vomit temp', 'vomiting is', 'vote caring', 'vote next', 'vote now', 'vote wherever', 'voted last', 'voucher call', 'voucher entered', 'voucher frm', 'voucher holder', 'voucher replying', 'voucher store', 'voucher wc', 'vouchers 125', 'vouchers 125gift', 'vouchers every', 'vouchers free', 'vouchers just', 'vouchers text', 'vouchers today', 'voucherstext yes', 'vpist love', 'vpod 81303', 'vry much', 'vry special', 'vry urgentbut', 'vs responsibility', 'vth books', 'vth yen', 'vtired cause', 'vu bcm1896wc1n3xx', 'w111wx 150', 'w14rg 150p', 'w1a 6zf', 'w1j 6hl', 'w4 5wq', 'w45wq 16', 'w45wq norm150ptone', 'w8in 4utxt', 'wa efficient', 'wa enjoy', 'wa ur', 'wa14 2px', 'waaaat lololo', 'wadebridgei brilliant', 'wah like', 'wah lucky', 'wah okie', 'wah yan', 'wahala just', 'wahay another', 'waheed fathima', 'waheeda fathima', 'wahleykkumsharing happy', 'waht rael', 'wait ah', 'wait already', 'wait apply', 'wait ar', 'wait ask', 'wait bus', 'wait chikkuil', 'wait come', 'wait conversations', 'wait cornwall', 'wait dunno', 'wait fifth', 'wait finish', 'wait get', 'wait hmmmm', 'wait inside', 'wait know', 'wait lar', 'wait lick', 'wait lor', 'wait ltgt', 'wait minstand', 'wait msg', 'wait mum', 'wait my', 'wait outside', 'wait party', 'wait period', 'wait rain', 'wait reply', 'wait sch', 'wait see', 'wait summer', 'wait taste', 'wait thats', 'wait til', 'wait till', 'wait to', 'wait ur', 'wait us', 'wait year', 'waited amp', 'waited yesterday', 'waiti come', 'waitin pete', 'waitin phone', 'waitin treat', 'waitin usual', 'waiting bus', 'waiting call', 'waiting car', 'waiting chat', 'waiting check', 'waiting collected', 'waiting come', 'waiting company', 'waiting customer', 'waiting everyone', 'waiting find', 'waiting for', 'waiting goodnight', 'waiting hmmm', 'waiting ideal', 'waiting letter', 'waiting machan', 'waiting mail', 'waiting mom', 'waiting opinions', 'waiting players', 'waiting please', 'waiting quick', 'waiting reception', 'waiting room', 'waiting sch', 'waiting sis', 'waiting sofa', 'waiting text', 'waiting tree', 'waiting tv', 'waiting ur', 'waiting weeks', 'waiting wish', 'waitshould texting', 'waitu havnt', 'wake 10', 'wake already', 'wake cause', 'wake early', 'wake first', 'wake gt', 'wake late', 'wake long', 'wake ltgt', 'wake me', 'wake miss', 'wake msg', 'wake see', 'wake since', 'wake slave', 'wake sweet', 'wake wondering', 'wake words', 'wake you', 'waking afternoon', 'waking daywith', 'waking every', 'waking words', 'wales ill', 'wales kinda', 'waliking ard', 'walk 3miles', 'walk around', 'walk beside', 'walk carpark', 'walk cross', 'walk everywhere', 'walk far', 'walk like', 'walk meh', 'walk slowly', 'walk sunlight', 'walk table', 'walk toaday', 'walk vic', 'walk wid', 'walk winner', 'walkabout far', 'walked hour', 'walked moms', 'walked pub', 'walkin unfortuntly', 'walking citylink', 'walking day', 'walking heaven', 'walking home', 'walking park', 'walking waiting', 'walks drugs', 'wallpaper text', 'wallpaperall free', 'walls amp', 'walls around', 'walls bunkers', 'walmart ill', 'walmart im', 'walmart soon', 'walsall tue', 'wamma get', 'wan 2c', 'wan already', 'wan buy', 'wan call', 'wan carry', 'wan come', 'wan distract', 'wan dun', 'wan early', 'wan eat', 'wan fast', 'wan go', 'wan haf', 'wan help', 'wan juz', 'wan ktv', 'wan lor', 'wan meet', 'wan ok', 'wan send', 'wan stay', 'wan take', 'wan tell', 'wan today', 'wan watch', 'wan yogasana', 'wan2 win', 'wana eat', 'wana fal', 'wana feels', 'wana go', 'wana meet', 'wana pei', 'wana plan', 'wana see', 'wana specialise', 'wanna art', 'wanna call', 'wanna chat', 'wanna cum', 'wanna do', 'wanna dosomething', 'wanna find', 'wanna gayle', 'wanna get', 'wanna go', 'wanna gym', 'wanna hot', 'wanna laugh', 'wanna make', 'wanna meet', 'wanna pictxt', 'wanna play', 'wanna say', 'wanna see', 'wanna somethin', 'wanna spend', 'wanna study', 'wanna take', 'wanna watch', 'wannatell details', 'want 10', 'want 2mrw', 'want 750', 'want 800', 'want alone', 'want anything', 'want ask', 'want babe', 'want bold', 'want book', 'want bring', 'want buy', 'want catch', 'want change', 'want chat', 'want cld', 'want cock', 'want come', 'want concentrate', 'want could', 'want crave', 'want cuddle', 'want custom', 'want da', 'want dirty', 'want dont', 'want drinkin', 'want drive', 'want excuses', 'want explicit', 'want fedex', 'want finally', 'want flood', 'want friend', 'want funk', 'want get', 'want give', 'want go', 'want got', 'want grasp', 'want hear', 'want hold', 'want hot', 'want house', 'want ill', 'want inside', 'want its', 'want join', 'want kfc', 'want kids', 'want kiss', 'want know', 'want latest', 'want leave', 'want lick', 'want listen', 'want live', 'want loss', 'want loved', 'want ltgt', 'want make', 'want mapquest', 'want meet', 'want mine', 'want miserable', 'want moneyi', 'want need', 'want new', 'want pick', 'want plan', 'want please', 'want posting', 'want pouts', 'want pretend', 'want pull', 'want ralphs', 'want ramen', 'want real', 'want really', 'want remember', 'want scream', 'want see', 'want send', 'want sent', 'want she', 'want show', 'want slave', 'want sleep', 'want smoke', 'want snow', 'want something', 'want stuffs', 'want surprised', 'want take', 'want talk', 'want tel', 'want tell', 'want text', 'want that', 'want thing', 'want tonight', 'want transferacc', 'want type', 'want us', 'want use', 'want uxxxx', 'want wait', 'want work', 'want write', 'want xmas', 'want ya', 'want you', 'want2come its', 'wanted ask', 'wanted bed', 'wanted bring', 'wanted chat', 'wanted come', 'wanted decking', 'wanted embarassed', 'wanted hurt', 'wanted know', 'wanted ltgt', 'wanted meet', 'wanted night', 'wanted say', 'wanted scold', 'wanted smoke', 'wanted sure', 'wanted surprise', 'wanted talk', 'wanted tell', 'wanted us', 'wanted wish', 'wanting miss', 'wanting one', 'wanting see', 'wanting xx', 'wants 2go', 'wants alone', 'wants buy', 'wants chinese', 'wants drop', 'wants drugs', 'wants dubsack', 'wants eat', 'wants feel', 'wants know', 'wants light', 'wants meet', 'wants party', 'wants questions', 'wants sell', 'wants shop', 'wants stay', 'wants talk', 'wants us', 'wants work', 'wap 82468', 'wap bangb', 'wap bookmark', 'wap charge', 'wap link', 'wap mobsicom', 'wap phone', 'wap to', 'waqt se', 'warm bath', 'warm its', 'warm ltgt', 'warm morning', 'warm outgoing', 'warm peaceful', 'warm ready', 'warm wish', 'warming heart', 'warned sprint', 'warner cinema', 'warner village', 'warning samantha', 'warranty 150ppm', 'warwick weve', 'was actual', 'was actually', 'was ask', 'was away', 'was exhausted', 'was farm', 'was feeling', 'was found', 'was good', 'was goodnite', 'was gr8', 'was minutes', 'was nice', 'was ok', 'was on', 'was once', 'was playng', 'was really', 'was snoringthey', 'was something', 'was test', 'was the', 'was thinking', 'was work', 'washob nobbing', 'wasnt available', 'wasnt bad', 'wasnt checked', 'wasnt enough', 'wasnt even', 'wasnt never', 'wasnt paying', 'wasnt phoned', 'wasnt surprised', 'wasnt well', 'wasnt went', 'wasnt you', 'waste dai', 'waste face', 'waste rr', 'waste time', 'waste wonderful', 'wasted den', 'wasted night', 'wat abt', 'wat blank', 'wat busy', 'wat but', 'wat buy', 'wat collecting', 'wat colour', 'wat copied', 'wat cos', 'wat dat', 'wat discussed', 'wat eat', 'wat get', 'wat got', 'wat haha', 'wat happened', 'wat how', 'wat its', 'wat izzit', 'wat late', 'wat long', 'wat lunch', 'wat mah', 'wat makes', 'wat me', 'wat no', 'wat of', 'wat picking', 'wat present', 'wat really', 'wat schedule', 'wat shall', 'wat still', 'wat then', 'wat think', 'wat tht', 'wat time', 'wat told', 'wat uniform', 'wat ur', 'wat want', 'wat we', 'wat would', 'wat wright', 'watch b4', 'watch cos', 'watch da', 'watch films', 'watch forgot', 'watch gave', 'watch go', 'watch infernal', 'watch kavalan', 'watch lar', 'watch lor', 'watch many', 'watch meh', 'watch men', 'watch mia', 'watch movie', 'watch pm', 'watch remember', 'watch resizing', 'watch rupaul', 'watch say', 'watch shrek', 'watch thk', 'watch today', 'watch tv', 'watch unlimited', 'watched italian', 'watches really', 'watchin lido', 'watching 2nd', 'watching ajith', 'watching cartoon', 'watching days', 'watching england', 'watching film', 'watching footie', 'watching house', 'watching keeping', 'watching live', 'watching lotr', 'watching match', 'watching movie', 'watching office', 'watching olave', 'watching playing', 'watching so', 'watching surya', 'watching telugu', 'watching tv', 'watchng planet', 'water and', 'water daily', 'water dock', 'water logging', 'water make', 'water reminding', 'water season', 'water very', 'watever relation', 'watever shared', 'watevr wanna', 'wating reply', 'watll wth', 'watrdayno diseases', 'wats da', 'wats dear', 'wats happening', 'wats matter', 'wats plan', 'wats road', 'wats talks', 'wats ur', 'wats wit', 'watts wanted', 'waves came', 'waves replied', 'way 2day', 'way ask', 'way avoid', 'way back', 'way barcelona', 'way body', 'way calicut', 'way call', 'way comes', 'way congrats', 'way contact', 'way could', 'way cup', 'way didnt', 'way do', 'way dont', 'way download', 'way either', 'way enter', 'way feel', 'way food', 'way friendship', 'way get', 'way give', 'way got', 'way gota', 'way greatly', 'way home', 'way im', 'way its', 'way ive', 'way london', 'way lost', 'way make', 'way may', 'way meet', 'way moms', 'way office', 'way pile', 'way railway', 'way rencontre', 'way ru', 'way save', 'way school', 'way seemed', 'way send', 'way shit', 'way should', 'way showing', 'way shrink', 'way specific', 'way stairs', 'way stay', 'way stops', 'way thanks', 'way think', 'way tirupur', 'way transport', 'way try', 'way ur', 'way usps', 'way walking', 'way wanna', 'way want', 'way what', 'way when', 'way works', 'waythis real', 'wc 2703', 'wc1n 3xx', 'we 800', 'we 9pm', 'we ave', 'we braved', 'we call', 'we can', 'we cherish', 'we come', 'we confirm', 'we could', 'we countin', 'we cribbs', 'we currently', 'we deliver', 'we dont', 'we drop', 'we fine', 'we full', 'we fun', 'we get', 'we go', 'we good', 'we got', 'we grandmas', 'we happy', 'we havent', 'we hoping', 'we ignore', 'we jus', 'we juz', 'we know', 'we leave', 'we leaving', 'we left', 'we live', 'we made', 'we make', 'we meet', 'we monkeyaround', 'we moved', 'we need', 'we never', 'we new', 'we okay', 'we outside', 'we pick', 'we pizza', 'we planning', 'we pleased', 'we probably', 'we recently', 'we regret', 'we rounderso', 'we said', 'we sent', 'we shud', 'we skip', 'we spend', 'we spending', 'we still', 'we stopped', 'we study', 'we supposed', 'we talk', 'we think', 'we took', 'we tried', 'we try', 'we trying', 'we wait', 'we walked', 'we watching', 'we went', 'we winner', 'we wont', 'weak cuz', 'weak sucker', 'weak suckers', 'weak swalpa', 'weak today', 'weakness like', 'weaknesses grins', 'weapon occupy', 'wear coat', 'wear jeans', 'wear nudist', 'wear shirts', 'wear sport', 'wearing blue', 'wearing shorts', 'wearing sweatter', 'weaseling way', 'weasels in', 'weather brings', 'weather calis', 'weather ive', 'weather keep', 'weather like', 'weathers cool', 'web age16', 'web page', 'web2mobile ur', 'webadres geting', 'webeburnin 1st', 'webpage available', 'website didnt', 'website play', 'website yes', 'websitenow blogging', 'wed fri', 'wed get', 'wed how', 'wed like', 'wed ltgt', 'wed nite', 'wedding chapel', 'wedding lingerie', 'wedlunch go', 'wednesday probably', 'wednesday see', 'wednesday think', 'wednesday though', 'wednesday wasnt', 'wednesday when', 'weds 630', 'wee bit', 'weed alcohol', 'weed budget', 'weed dealer', 'weed fiendmake', 'weed smoke', 'weed week', 'weeddeficient like', 'week 150', 'week 16', 'week abiola', 'week already', 'week and', 'week andres', 'week any', 'week are', 'week back', 'week bday', 'week bend', 'week best', 'week call', 'week cause', 'week chat', 'week choose', 'week do', 'week end', 'week enter', 'week entry', 'week fancy', 'week free', 'week freesend', 'week gave', 'week get', 'week gets', 'week give', 'week go', 'week have', 'week im', 'week in', 'week include', 'week just', 'week leave', 'week need', 'week new', 'week no1', 'week now', 'week princess', 'week ryan', 'week see', 'week she', 'week since', 'week spiral', 'week start', 'week starting', 'week still', 'week study', 'week stuff', 'week text', 'week theyre', 'week town', 'week txt', 'week vl', 'week way', 'week we', 'week week', 'week weekly', 'week woot', 'week yeah', 'week you', 'weekdays got', 'weekend abiola', 'weekend called', 'weekend calls', 'weekend did', 'weekend fine', 'weekend hi', 'weekend leh', 'weekend missing', 'weekend next', 'weekend our', 'weekend paris', 'weekend thanks', 'weekend we', 'weekend wot', 'weekend wwwcashbincouk', 'weekends change', 'weekends draw', 'weekends fun', 'weekends liao', 'weekly 150p', 'weekly comp', 'weekly competition', 'weekly coolmob', 'weekly draw', 'weekly new', 'weekly quiz', 'weekly ringtoneget', 'weekly tones', 'weekly what', 'weekly where', 'weeks anyway', 'weeks become', 'weeks calling', 'weeks competition', 'weeks completely', 'weeks new', 'weeks offer', 'weeks pls', 'weeks savamob', 'weeks start', 'weeks stuff', 'weeks top', 'weeks triple', 'weeks word', 'weekstop sms08718727870', 'weigh thanks', 'weighed lost', 'weight gee', 'weight just', 'weight tear', 'weight thk', 'weight woohoo', 'weighthaha so', 'weightloss no', 'weird even', 'weird know', 'weird shit', 'weird timing', 'weirdest auto', 'weirdest track', 'weirdy brownies', 'weiyi goin', 'welcome call', 'welcome caught', 'welcome come', 'welcome have', 'welcome new', 'welcome party', 'welcome please', 'welcome select', 'welcome ukmobiledate', 'welcome weekend', 'welcomes you', 'well ahead', 'well also', 'well arent', 'well babe', 'well balls', 'well bet', 'well boy', 'well boytoy', 'well bring', 'well come', 'well confuses', 'well credit', 'well da', 'well day', 'well did', 'well doctors', 'well done', 'well dont', 'well endowed', 'well find', 'well fine', 'well finished', 'well found', 'well full', 'well general', 'well give', 'well good', 'well great', 'well gud', 'well guild', 'well haf', 'well happy', 'well head', 'well hunnyhope', 'well im', 'well imma', 'well ive', 'well join', 'well keep', 'well know', 'well later', 'well leave', 'well like', 'well little', 'well love', 'well me', 'well meant', 'well medical', 'well might', 'well months', 'well must', 'well night', 'well nose', 'well obviously', 'well officially', 'well past', 'well pay', 'well plenty', 'well preferably', 'well presence', 'well princess', 'well quality', 'well reach', 'well right', 'well rock', 'well see', 'well settled', 'well shes', 'well skype', 'well slightly', 'well so', 'well soon', 'well sounds', 'well spiffing', 'well take', 'well thanks', 'well thats', 'well theres', 'well thousands', 'well told', 'well tomo', 'well tons', 'well tryin', 'well uv', 'well wasnt', 'well watch', 'well weather', 'well welp', 'well work', 'well you', 'well youre', 'wellda peril', 'welli wanted', 'welltake careswt', 'wellyou need', 'welp apparently', 'welp sort', 'wen die', 'wen finish', 'wen get', 'wen girl', 'wen im', 'wen lift', 'wen ltgt', 'wen miss', 'wen mt', 'wen need', 'wen pick', 'wen texd', 'wen ull', 'wen ur', 'wen wake', 'wenever lik', 'went already', 'went attend', 'went back', 'went bath', 'went bed', 'went change', 'went day', 'went dead', 'went dentist', 'went fast', 'went fastpls', 'went fish', 'went fml', 'went freedom', 'went ganesh', 'went home', 'went liao', 'went marriage', 'went mt', 'went oredi', 'went out', 'went pay', 'went place', 'went play', 'went post', 'went project', 'went school', 'went she', 'went shop', 'went sim', 'went sleep', 'went so', 'went spent', 'went to', 'went tobed', 'went today', 'went trip', 'went ur', 'went well', 'went work', 'wenwecan chat', 'wer askd', 'wer calld', 'wer told', 'were 2geva', 'were deciding', 'were done', 'were drunk', 'were finally', 'were friends', 'were getting', 'were gonna', 'were never', 'were opposite', 'were somewhere', 'were theyre', 'were tour', 'were trying', 'wereare free', 'werebored yeah', 'werent kidding', 'werethe monkeespeople', 'wesley howve', 'wesleys town', 'west coast', 'west palm', 'western chinese', 'westlife m8', 'westonzoyland going', 'westshore hyde', 'wet right', 'wet wanting', 'wet warm', 'weve given', 'weve planned', 'weve spoken', 'wewa 130', 'what about', 'what are', 'what class', 'what cooking', 'what dance', 'what day', 'what did', 'what diet', 'what do', 'what doctor', 'what dog', 'what doinghow', 'what eat', 'what else', 'what end', 'what fave', 'what feel', 'what flower', 'what forgiveness', 'what going', 'what happen', 'what happened', 'what have', 'what hello', 'what hex', 'what how', 'what hows', 'what im', 'what important', 'what keeps', 'what kind', 'what langport', 'what leave', 'what like', 'what looking', 'what makes', 'what mean', 'what might', 'what miss', 'what need', 'what next', 'what number', 'what one', 'what pa', 'what part', 'what plan', 'what plural', 'what professional', 'what reckon', 'what record', 'what remember', 'what said', 'what say', 'what school', 'what shower', 'what standing', 'what talking', 'what the', 'what think', 'what thinked', 'what thinking', 'what thou', 'what time', 'what todaysundaysunday', 'what told', 'what type', 'what want', 'what way', 'what wearing', 'what where', 'what woke', 'what year', 'what you', 'what youdoing', 'whatever feel', 'whatever find', 'whatever im', 'whatever juliana', 'whatever lol', 'whatever love', 'whatever response', 'whatever saying', 'whatever send', 'whatever want', 'whats bruv', 'whats charles', 'whats coming', 'whats do', 'whats feathery', 'whats full', 'whats good', 'whats happenin', 'whats happening', 'whats house', 'whats how', 'whats name', 'whats nannys', 'whats no1', 'whats oga', 'whats plan', 'whats problem', 'whats room', 'whats significance', 'whats sleeping', 'whats staff', 'whats talent', 'whats ur', 'whats weather', 'whats wrong', 'whatsup dont', 'wheat chex', 'when are', 'when beg', 'when big', 'when booking', 'when born', 'when bring', 'when buy', 'when came', 'when can', 'when come', 'when comes', 'when coming', 'when dad', 'when didnt', 'when doubt', 'when elvis', 'when finish', 'when get', 'when go2sri', 'when going', 'when guys', 'when let', 'when loads', 'when login', 'when love', 'when much', 'when next', 'when people', 'when put', 'when school', 'when skyped', 'when stuff', 'when the', 'when ur', 'when use', 'when wana', 'when wanna', 'when want', 'when work', 'when wrking', 'when youre', 'whenever cool', 'whenever get', 'whenever see', 'whenever show', 'whenever speak', 'whenever text', 'whenever want', 'whenever youre', 'whenevr forevr', 'whenevr ur', 'whenre guys', 'whens album', 'whens cant', 'whens radio', 'whens school', 'whenwhere pick', 'where 2006', 'where abj', 'where am', 'where atyour', 'where battery', 'where call', 'where could', 'where cum', 'where download', 'where else', 'where garage', 'where get', 'where go', 'where got', 'where hiding', 'where hungry', 'where is', 'where keep', 'where lover', 'where meeting', 'where must', 'where need', 'where one', 'where pouts', 'where sip', 'where stay', 'where today', 'where what', 'where who', 'where wil', 'where working', 'where wuld', 'where you', 'where youwhen', 'whereare friendsare', 'wherebtw go', 'wheres boytoy', 'wheres class', 'wheres fish', 'wheres mummys', 'wheres piece', 'wheres place', 'wheres sexy', 'wherever call', 'wherever fuck', 'wherever go', 'wherever heart', 'wherever ur', 'wherevr whenevr', 'wherres boytoy', 'whether cut', 'whether eat', 'whether play', 'whether text', 'whether wana', 'which brand', 'which channel', 'which day', 'which guess', 'which im', 'which is', 'which never', 'which remind', 'which song', 'which weekend', 'which weird', 'which worse', 'while im', 'whileamp promise', 'whilltake forever', 'whispers fucking', 'white fudge', 'white girls', 'white oooooh', 'white see', 'white underwear', 'whn al', 'whn read', 'who alls', 'who are', 'who irritates', 'who is', 'who knew', 'who loves', 'who needs', 'who people', 'who sang', 'who talking', 'who was', 'who went', 'whole boston', 'whole car', 'whole day', 'whole electricity', 'whole family', 'whole houseful', 'whole hugh', 'whole morning', 'whole planeti', 'whole second', 'whole show', 'whole stretch', 'whole time', 'whom care', 'whom waited', 'whore you', 'whos back', 'whos class', 'whos gayd', 'whos it', 'whos pls', 'whos private', 'whos say', 'whos sms', 'whose 80082', 'whose idea', 'whr ru', 'why arrange', 'why ask', 'why boss', 'why come', 'why de', 'why didnt', 'why dint', 'why dont', 'why early', 'why get', 'why havent', 'why keeping', 'why log', 'why mummy', 'why must', 'why nothing', 'why princess', 'why send', 'why silent', 'why talking', 'why tired', 'why wait', 'why wake', 'why wants', 'why would', 'wi nz', 'wicked smile', 'wicklow eire', 'wid 25', 'wid blueu', 'wid caken', 'wid corect', 'wid dnt', 'wid little', 'wid mates', 'wid ur', 'wid yelowi', 'widelivecomindex wmlid1b6a5ecef91ff937819firsttrue180430jul05', 'widelivecomindex wmlid820554ad0a1705572711firsttrue', 'wif breakfast', 'wif buying', 'wif cos', 'wif da', 'wif darren', 'wif family', 'wif finally', 'wif frens', 'wif gek1510', 'wif lar', 'wif lei', 'wif long', 'wif meet', 'wif mum', 'wif oni', 'wif sis', 'wif sleeping', 'wif work', 'wif yest', 'wife 89938', 'wife but', 'wife called', 'wife didnt', 'wife doctor', 'wife my', 'wife natural', 'wife of', 'wife text', 'wife wifes', 'wifedont demand', 'wifehow knew', 'wifes shahjahan', 'wifi ipad', 'wifi ltgt', 'wihtuot ayn', 'wil bring', 'wil cal', 'wil care', 'wil cme', 'wil come', 'wil explain', 'wil get', 'wil getting', 'wil ltgt', 'wil nevr', 'wil pick', 'wil reach', 'wil realized', 'wil really', 'wil toleratbcs', 'wil use', 'wild txt', 'wildest chat', 'wildlife talk', 'will around', 'will bthere', 'will cal', 'will call', 'will class', 'will come', 'will done', 'will expect', 'will feel', 'will fill', 'will firmware', 'will food', 'will give', 'will go', 'will going', 'will gonna', 'will gr8', 'will growrandom', 'will have', 'will help', 'will holla', 'will hollalater', 'will keep', 'will let', 'will look', 'will meet', 'will miss', 'will never', 'will office', 'will part', 'will purchase', 'will receive', 'will remember', 'will send', 'will september', 'will show', 'will smithswitch', 'will soon', 'will still', 'will switch', 'will try', 'will two', 'will was', 'willing go', 'willing live', 'willing pay', 'win 100', 'win 1000', 'win 150', 'win 200', 'win 250', 'win 40gb', 'win 80086', 'win 83355', 'win battle', 'win big', 'win cash', 'win fa', 'win free', 'win get', 'win ipod', 'win latest', 'win level', 'win lose', 'win lotr', 'win meetgreet', 'win newest', 'win nookii', 'win orig', 'win really', 'win still', 'win super', 'win top', 'win urgent', 'win vip', 'win we', 'win year', 'wind drops', 'windows even', 'windows logoff', 'winds bandages', 'wine dine', 'wine flowing', 'wine good', 'wine groovying', 'wine keep', 'wine kudiyarasu', 'wine makes', 'wine pie', 'wine theplace', 'wined dined', 'wings play', 'wining number', 'winner as', 'winner august', 'winner ave', 'winner claim', 'winner guaranteed', 'winner mr', 'winner notified', 'winner specially', 'winnersclub po', 'winning tooo', 'wins min', 'wins situation', 'winterstone left', 'wipe ur', 'wipro interview', 'wiproyou get', 'wire3net 1st4terms', 'wisdom eyes', 'wisdom teeth', 'wise man', 'wise trust', 'wish as', 'wish bed', 'wish best', 'wish come', 'wish command', 'wish day', 'wish dont', 'wish dsnt', 'wish every', 'wish feel', 'wish fine', 'wish for', 'wish get', 'wish goodmorning', 'wish great', 'wish guys', 'wish had', 'wish happiness', 'wish happy', 'wish holding', 'wish id', 'wish knew', 'wish love', 'wish many', 'wish merry', 'wish my', 'wish sleep', 'wish so', 'wish things', 'wish together', 'wish well', 'wisheds you', 'wishes birthday', 'wishes nimya', 'wishes nimyapls', 'wishin gr8', 'wishing all', 'wishing beautiful', 'wishing family', 'wishing great', 'wishing happiness', 'wishing wonderful', 'wishlist section', 'wiskey brandy', 'wit 1st', 'wit beloved', 'wit dem', 'wit different', 'wit frnds', 'wit guys', 'wit kz', 'wit mail', 'wit meso', 'wit ola', 'wit uothrwise', 'wit ur', 'wit uso', 'with 200', 'with 300', 'with alex', 'with boyf', 'with cheer', 'with me', 'with my', 'with nichols', 'with reason', 'with salary', 'with sis', 'with the', 'with week', 'with will', 'with you', 'with your', 'with yourself', 'withdraw anyhow', 'wither eg23f', 'within 28', 'within 28days', 'within 5min', 'within days', 'within min', 'within next', 'within normal', 'without anyones', 'without askin', 'without asking', 'without babe', 'without baby', 'without cant', 'without care', 'without dont', 'without dreams', 'without frnds', 'without half', 'without installing', 'without losing', 'without love', 'without me', 'without recharge', 'without see', 'without success', 'without upcharge', 'without we', 'without wisdom', 'without ya', 'witin ltgt', 'witot hurting', 'witout frnd', 'wiv all', 'wiv busty', 'wiv hello', 'wiv miss', 'wiv ur', 'wiv walked', 'wiv work', 'wiv wud', 'wizzle whatever', 'wk day', 'wk free', 'wk get', 'wk good', 'wk got', 'wk offdam', 'wk ok', 'wk opt', 'wk satsound', 'wk saucy', 'wk this', 'wk txt', 'wk who', 'wkend as', 'wkend ok', 'wkend warner', 'wkg sat', 'wkg wherebtw', 'wkly comp', 'wkly draw', 'wkly shopping', 'wkly win', 'wknd coz', 'wks charged150pmsg2', 'wks free', 'wktxt great', 'wlcome back', 'wld good', 'wld prefer', 'wmlid820554ad0a1705572711firsttrue ringtone', 'wn hit', 'wn hurt', 'wnevr wana', 'wnt bck', 'wnt buy', 'wnt tlk', 'wo hai', 'wo nahi', 'woah realising', 'wocay luv', 'woke bit', 'woke dropped', 'woke early', 'woke gave', 'woke how', 'woke up', 'woke wish', 'woke yeesh', 'woken uphad', 'woman am', 'woman and', 'woman coming', 'woman hitler', 'woman man', 'womdarfull actor', 'women looking', 'won 1000call', 'won 1250', 'won 2000', 'won as', 'won guaranteed', 'won your', 'won youre', 'wondar full', 'wondarfull song', 'wonder able', 'wonder cos', 'wonder day', 'wonder dont', 'wonder go', 'wonder got', 'wonder phone', 'wonder smiling', 'wonder youll', 'wonderful blessing', 'wonderful caring', 'wonderful day', 'wonderful fruit', 'wonderful gods', 'wonderful hope', 'wonderful okors', 'wonderful plans', 'wonderful smile', 'wonderful thank', 'wonderful today', 'wonderful ur', 'wonderful week', 'wonderful weekend', 'wondering forgot', 'wondering ive', 'wondering moment', 'wondering others', 'wondering planning', 'wondering right', 'wondering wont', 'wondering would', 'wondering wow', 'wonders my', 'wont 215', 'wont able', 'wont allow', 'wont anything', 'wont ard', 'wont ask', 'wont awake', 'wont back', 'wont bat', 'wont believe', 'wont belive', 'wont biro', 'wont bother', 'wont buy', 'wont call', 'wont come', 'wont eat', 'wont even', 'wont feel', 'wont forget', 'wont get', 'wont give', 'wont go', 'wont have', 'wont home', 'wont just', 'wont let', 'wont needing', 'wont play', 'wont say', 'wont sliding', 'wont so', 'wont stop', 'wont take', 'wont talk', 'wont tell', 'wont think', 'wont touch', 'wont use', 'wont worry', 'wont year', 'woo hoo', 'woodland avenue', 'woods play', 'woot now', 'woot woot', 'woould buzz', 'woozles weasels', 'worc foregate', 'word abt', 'word ar', 'word back', 'word chat', 'word checkmate', 'word claim', 'word collect', 'word credit', 'word did', 'word draw', 'word enter', 'word free', 'word go', 'word morning', 'word ok', 'word out', 'word say', 'word start', 'word win', 'wordcollect no83355', 'wordnot merely', 'words better', 'words beyond', 'words but', 'words have', 'words left', 'words may', 'words meok', 'words morning', 'words please', 'words right', 'words thank', 'words thought', 'words ym', 'wordsevry wish', 'wordstart no81151', 'work 2morro', 'work ah', 'work already', 'work and', 'work ar', 'work ask', 'work at', 'work but', 'work called', 'work cant', 'work day', 'work did', 'work difficult', 'work doesnt', 'work done', 'work even', 'work evening', 'work everything', 'work fine', 'work first', 'work frm', 'work going', 'work got', 'work hard', 'work havebeen', 'work hey', 'work hour', 'work house', 'work just', 'work ladies', 'work lapdancer', 'work lark', 'work liao', 'work magic', 'work meh', 'work mobile', 'work mon', 'work need', 'work oh', 'work one', 'work online', 'work out', 'work place', 'work please', 'work problem', 'work right', 'work school', 'work sends', 'work shower', 'work slave', 'work something', 'work soon', 'work sth', 'work tel', 'work thanks', 'work things', 'work timing', 'work today', 'work tomorrow', 'work tonight', 'work two', 'work vaguely', 'work wanting', 'work we', 'work week', 'work well', 'work wif', 'work work', 'work xxx', 'work yet', 'workand whilltake', 'workin free', 'workin hard', 'workin huh', 'workin lor', 'workin once', 'workin oso', 'workin overtime', 'workin ur', 'working 96', 'working and', 'working dayexcept', 'working eyes', 'working fine', 'working found', 'working getting', 'working home', 'working im', 'working lots', 'working ringing', 'working technical', 'working thing', 'working till', 'working tmr', 'working today', 'working towards', 'working tuesday', 'working weekend', 'worklove makes', 'workout lor', 'works laugh', 'works ltgt', 'works mine', 'works tomorrow', 'world 7th', 'world bank', 'world calls', 'world cup', 'world easy', 'world famamus', 'world ge', 'world god', 'world hear', 'world la', 'world lies', 'world princess', 'world running', 'world shakespeare', 'world smile', 'world so', 'world stands', 'world suffers', 'world thing', 'world wit', 'world without', 'world wonder', 'worldgnun sent', 'worldmay also', 'worlds discreet', 'worlds dressed', 'worlds happiest', 'worldvery tough', 'worms bad', 'worried but', 'worried derek', 'worried going', 'worried he', 'worried just', 'worried pls', 'worried you', 'worries blue', 'worries hope', 'worries things', 'worry bout', 'worry cold', 'worry day', 'worry easy', 'worry finished', 'worry go', 'worry guess', 'worry head', 'worry ill', 'worry im', 'worry lm', 'worry might', 'worry muchi', 'worry nothing', 'worry saying', 'worry though', 'worry well', 'worryc l8tr', 'worrying appt', 'worryuse ice', 'worse dude', 'worse gastroenteritis', 'worse time', 'worse uses', 'worst thing', 'worth 3350', 'worth 350', 'worth 500', 'worth 5000', 'worth discount', 'worth left', 'worth may', 'worth tonight', 'worthless garbage', 'wot bitch', 'wot bout', 'wot earth', 'wot get', 'wot hell', 'wot hmm', 'wot lost', 'wot next', 'wot people', 'wot say', 'wot student', 'wot the', 'wot think', 'wot thout', 'wot up', 'wot wanna', 'wot want', 'wot wed', 'wot weirdo', 'wotu doin', 'wotz ur', 'woul lead', 'would appropriate', 'would ask', 'would awesome', 'would birds', 'would call', 'would come', 'would cost', 'would cry', 'would despite', 'would eventually', 'would first', 'would fit', 'would freak', 'would fuckin', 'would get', 'would go', 'would good', 'would great', 'would happen', 'would happy', 'would help', 'would hurt', 'would im', 'would inconsiderate', 'would inform', 'would ip', 'would late', 'would learn', 'would like', 'would little', 'would look', 'would love', 'would lovely', 'would lush', 'would make', 'would mom', 'would much', 'would normal', 'would ok', 'would okay', 'would possibly', 'would probably', 'would really', 'would run', 'would say', 'would sayy', 'would send', 'would smoking', 'would start', 'would text', 'would think', 'would vewy', 'would want', 'would woke', 'would work', 'would worse', 'would youd', 'woulda changed', 'woulda worse', 'wouldnt be', 'wouldnt jerk', 'wouldnt leave', 'wouldnt say', 'wouldnt that', 'wounds like', 'wow didnt', 'wow ever', 'wow got', 'wow healthy', 'wow impressed', 'wow love', 'wow must', 'wow never', 'wow thats', 'wow the', 'wow youre', 'wquestion end', 'wrc rally', 'wrecked see', 'wrench could', 'wrenching cramps', 'wright brother', 'write ccna', 'write instead', 'write love', 'write msg', 'write paper', 'write smth', 'write wat', 'writhing pain', 'wrk feel', 'wrki fancy', 'wrking nxt', 'wrks wot', 'wrld been', 'wrnog bt', 'wrong ask', 'wrong bcoz', 'wrong calling', 'wrong everyso', 'wrong faultal', 'wrong lie', 'wrong number', 'wrong one', 'wrong phone', 'wrong sorry', 'wrong thing', 'wrongly lar', 'wrongtake care', 'wrote im', 'wrote like', 'ws al', 'ws made', 'wt real', 'wtc far', 'wtf nig', 'wtf poop', 'wtf random', 'wth ur', 'wthout cant', 'wud annoyin', 'wud never', 'wudnt take', 'wuld get', 'wuld without', 'wuldnt bother', 'wun angry', 'wun believe', 'wun cut', 'wun disturb', 'wun drivin', 'wun home', 'wun signing', 'www4tcbiz 2optout', 'wwwapplausestorecom monthlysubscription50pmsg', 'wwwasjesuscom read', 'wwwb4utelecom discount', 'wwwbridalpetticoatdreamscouk choose', 'wwwcashbincouk dear', 'wwwclubmobycom call', 'wwwclubzedcouk billing', 'wwwcnupdatescomnewsletter unsubscribe', 'wwwcomuknet login', 'wwwdbuknet lccltd', 'wwwflirtpartyus replys150', 'wwwfullonsmscom it', 'wwwgetzedcouk 0870141701216', 'wwwgetzedcouk pobox', 'wwwgetzedcouk pobox36504w45wq', 'wwwidewcom skillgame', 'wwwldewcom skillgame1winaweek', 'wwwldewcom win150ppmx3age16', 'wwwmovietriviatv custcare', 'wwwmusictrivianet custcare', 'wwwphb1com ph08700435505150p', 'wwwregalportfoliocouk customer', 'wwwringtonekingcouk enjoy', 'wwwringtonescouk original', 'wwwsmsacubootydelious stop', 'wwwsmsacugoldviking stop', 'wwwsmsacuhmmross stop', 'wwwsmsacunat27081980 stop', 'wwwsmsacunatalie2k9 stop', 'wwwsmsconet 150pm', 'wwwsmsconet cost', 'wwwtcbiz 18', 'wwwtextcompcom cust', 'wwwtextpodnet custcare', 'wwwtklscom age16', 'wwwtxt2shopcom custcare', 'wwwtxt43com 150p', 'wwwtxt82228com questions', 'wylie ryans', 'wylie smokes', 'wylie tampa', 'wylie update', 'x2 ltgt', 'x29 your', 'x49 your', 'x49your mobile', 'xafter msgs', 'xam 532', 'xam hall', 'xavier decided', 'xavier sleeping', 'xavier smoke', 'xchat this', 'xchat uks', 'xclusiveclubsaisai 2morow', 'xin da', 'xins hostel', 'xmas eve', 'xmas how', 'xmas iscoming', 'xmas miracle', 'xmas msg', 'xmas new', 'xmas offer', 'xmas prize', 'xmas radio', 'xmas reward', 'xmas story', 'xmas tonesreply', 'xmas tree', 'xmas when', 'xnet mins100txtmth', 'xt music', 'xuhui going', 'xuhui told', 'xuhui working', 'xx calls', 'xx luv', 'xx text', 'xxsp visionsmscom', 'xxuk suzy', 'xxx 18', 'xxx pics', 'xxx picsfree1', 'xxx psxtra', 'xxx slo4msgs', 'xxx std', 'xxxmobilemovieclub to', 'xxxx selected', 'xxxxx expires', 'xxxxxx shows', 'xy ask', 'xy feel', 'xy going', 'xy lor', 'xy suggest', 'xy trying', 'xy ur', 'xy wants', 'y87 valid', 'ya 2moro', 'ya amx', 'ya babe', 'ya bellearlier', 'ya boggy', 'ya break', 'ya came', 'ya cant', 'ya dot', 'ya eshxxxxxxxxxxx', 'ya even', 'ya finish', 'ya gailxx', 'ya go', 'ya got', 'ya im', 'ya kisses', 'ya know', 'ya knw', 'ya love', 'ya need', 'ya nice', 'ya nowonion', 'ya ok', 'ya one', 'ya remember', 'ya soon', 'ya srsly', 'ya taking', 'ya tel', 'ya telling', 'ya toldshe', 'ya tomo', 'ya treacle', 'ya try', 'ya wana', 'ya want', 'ya well', 'ya ya', 'yagoing restaurant', 'yah we', 'yahoo boys', 'yahoo connection', 'yahoo email', 'yahoo messenger', 'yahoo pobox36504w45wq', 'yahoo would', 'yalrigu heltiniiyo', 'yalru lyfu', 'yam cake', 'yan jiu', 'yar else', 'yar keep', 'yar lor', 'yar quite', 'yar salon', 'yar say', 'yar tot', 'yar wanted', 'yards pass', 'yavnt tried', 'yay cant', 'yay finally', 'yay is', 'yay you', 'yday hogidhechinnu', 'yeah 1526', 'yeah able', 'yeah and', 'yeah baby', 'yeah basically', 'yeah clearly', 'yeah confirmed', 'yeah could', 'yeah don', 'yeah dont', 'yeah everything', 'yeah fact', 'yeah forgot', 'yeah gang', 'yeah get', 'yeah give', 'yeah go', 'yeah got', 'yeah grooved', 'yeah hopefully', 'yeah id', 'yeah ill', 'yeah im', 'yeah imagine', 'yeah imma', 'yeah ive', 'yeah jays', 'yeah jus', 'yeah kinda', 'yeah like', 'yeah lol', 'yeah okden', 'yeah open', 'yeah oz', 'yeah point', 'yeah probably', 'yeah probs', 'yeah right', 'yeah see', 'yeah set', 'yeah slow', 'yeah still', 'yeah sure', 'yeah thatd', 'yeah thats', 'yeah theres', 'yeah think', 'yeah totes', 'yeah tough', 'yeah usual', 'yeah was', 'yeah whatever', 'yeah wheres', 'yeah work', 'yeah worse', 'yeah wouldnt', 'yeahand hav', 'year abiola', 'year advance', 'year all', 'year already', 'year and', 'year anyways', 'year begin', 'year best', 'year bring', 'year call', 'year cos', 'year coupla', 'year dear', 'year didnt', 'year dont', 'year happy', 'year hope', 'year how', 'year just', 'year know', 'year looking', 'year love', 'year ltgt', 'year my', 'year oh', 'year old', 'year princess', 'year resolution', 'year see', 'year special', 'year supply', 'year tel', 'year this', 'year together', 'year told', 'year ur', 'year wanted', 'years air', 'years brother', 'years delivery', 'years eve', 'years gud', 'years its', 'years life', 'years melody', 'years missed', 'years old', 'years plans', 'years shower', 'years sighs', 'years south', 'years well', 'yeesh late', 'yeh am', 'yeh indians', 'yelling scrappy', 'yelling thought', 'yellow card', 'yellow rose', 'yelowi wnt', 'yen madodu', 'yeovil motor', 'yep baby', 'yep dereks', 'yep fine', 'yep get', 'yep great', 'yep like', 'yep phone', 'yep pretty', 'yep sure', 'yep yesterday', 'yer mobile', 'yes 85023', 'yes ammaelife', 'yes and', 'yes appt', 'yes baby', 'yes bit', 'yes but', 'yes call', 'yes callback', 'yes chatting', 'yes come', 'yes completely', 'yes da', 'yes dear', 'yes dont', 'yes fine', 'yes finished', 'yes glad', 'yes he', 'yes how', 'yes ill', 'yes im', 'yes its', 'yes ive', 'yes know', 'yes l8er', 'yes last', 'yes like', 'yes many', 'yes masters', 'yes meet', 'yes msg', 'yes must', 'yes nigh', 'yes no', 'yes obviously', 'yes one', 'yes our', 'yes outside', 'yes please', 'yes possible', 'yes posted', 'yes princess', 'yes question', 'yes reg', 'yes rent', 'yes saw', 'yes see', 'yes shopping', 'yes so', 'yes speak', 'yes started', 'yes terms', 'yes the', 'yes they', 'yes think', 'yes thought', 'yes trust', 'yes wanted', 'yes watching', 'yes165 no165', 'yes434 no434', 'yes440 no440', 'yes762 no762', 'yes910 no910', 'yesbut said', 'yesfrom last', 'yesgauti sehwag', 'yeshe good', 'yeshe really', 'yeshere tv', 'yesim office', 'yesmum lookin', 'yessura sun', 'yest its', 'yest jus', 'yest late', 'yest lor', 'yest still', 'yest wake', 'yest yest', 'yesterday already', 'yesterday dream', 'yesterday find', 'yesterday his', 'yesterday its', 'yesterday night', 'yesterday now', 'yesterday oh', 'yesterday sir', 'yesterday sorry', 'yesterday still', 'yesterday today', 'yesterday true', 'yesterday ugh', 'yesterday you', 'yet ache', 'yet chikkugoing', 'yet chikkuk', 'yet chikkusimple', 'yet chikkuwat', 'yet dun', 'yet eh', 'yet every', 'yet get', 'yet going', 'yet hadya', 'yet hee', 'yet hmmm', 'yet im', 'yet just', 'yet miss', 'yet my', 'yet never', 'yet ok', 'yet ovr', 'yet probably', 'yet right', 'yet rite', 'yet sent', 'yet something', 'yet still', 'yet tell', 'yet the', 'yet ur', 'yet what', 'yet will', 'yet ya', 'yettys number', 'yetunde im', 'yetunde said', 'yi tho', 'yifeng part', 'yijue its', 'yijue jus', 'yijue meet', 'yijue meeting', 'yijue then', 'yijue would', 'ym get', 'ym got', 'ym happy', 'ym seen', 'ym think', 'ymca getzedcouk', 'yo around', 'yo ass', 'yo byatch', 'yo call', 'yo carlos', 'yo chad', 'yo come', 'yo date', 'yo dats', 'yo dude', 'yo game', 'yo gonna', 'yo guess', 'yo guys', 'yo howz', 'yo im', 'yo jp', 'yo know', 'yo need', 'yo sorry', 'yo theres', 'yo tho', 'yo trip', 'yo valentine', 'yo watching', 'yo way', 'yo work', 'yo yo', 'yo yohere', 'yoga anot', 'yoga basic', 'yoga call', 'yoga course', 'yoga haha', 'yoga hip', 'yoga lesson', 'yogasana 10', 'yogasana coz', 'yogasana oso', 'yohere comes', 'yor house', 'yor local', 'yor ownyouve', 'yorge pataistha', 'you 07801543489', 'you 1000', 'you 2000', 'you 21', 'you 40', 'you 500', 'you 6th', 'you actually', 'you also', 'you always', 'you amp', 'you are', 'you arent', 'you available', 'you awarded', 'you bad', 'you best', 'you better', 'you big', 'you bothering', 'you bringing', 'you busy', 'you call', 'you callingforgot', 'you can', 'you cannt', 'you change', 'you charged', 'you choose', 'you come', 'you contacted', 'you cougarpen', 'you could', 'you covers', 'you cutting', 'you dad', 'you dear', 'you dearly', 'you didnt', 'you do', 'you donate', 'you dont', 'you downloaded', 'you either', 'you eldest', 'you enjoy', 'you entitled', 'you everywhere', 'you flippin', 'you following', 'you friend', 'you get', 'you getting', 'you give', 'you giving', 'you go', 'you gonna', 'you gorgeous', 'you got', 'you great', 'you guaranteed', 'you had', 'you hate', 'you have', 'you havent', 'you home', 'you important', 'you in', 'you intrepid', 'you jot', 'you keep', 'you kiss', 'you know', 'you last', 'you late', 'you later', 'you lifted', 'you like', 'you lingo', 'you listen', 'you looking', 'you love', 'you made', 'you make', 'you making', 'you mean', 'you meet', 'you messages', 'you might', 'you mine', 'you money', 'you mu', 'you must', 'you need', 'you never', 'you new', 'you nokia', 'you offer', 'you one', 'you ordered', 'you our', 'you person', 'you phone', 'you place', 'you please', 'you pls', 'you pretty', 'you put', 'you qatar', 'you read', 'you ready', 'you received', 'you receiving', 'you recieve', 'you registered', 'you remember', 'you reply', 'you right', 'you ripped', 'you rock', 'you room', 'you said', 'you see', 'you seeing', 'you selected', 'you sent', 'you set', 'you sexy', 'you sir', 'you skype', 'you sleep', 'you solve', 'you specially', 'you spoke', 'you stayin', 'you still', 'you stop', 'you studies', 'you supposed', 'you sure', 'you take', 'you tell', 'you think', 'you thinking', 'you told', 'you toopray', 'you try', 'you trying', 'you unbelievable', 'you unsubscribe', 'you unsubscribed', 'you used', 'you ve', 'you walk', 'you wanna', 'you want', 'you week', 'you wherevr', 'you wil', 'you will', 'you win', 'you winner', 'you woke', 'you won', 'you wonderful', 'you wont', 'you would', 'youany way', 'youcarlos isare', 'youclean my', 'youd able', 'youd are', 'youd better', 'youd decided', 'youd feel', 'youd laugh', 'youd like', 'youd marry', 'youdearwith lots', 'youdoing later', 'youhow performed', 'youi bring', 'yould like', 'youll buy', 'youll drive', 'youll free', 'youll get', 'youll need', 'youll never', 'youll nmde', 'youll prolly', 'youll rcv', 'youll run', 'youll see', 'youll text', 'youmoney aint', 'youmy mom', 'young still', 'younger man', 'youphone im', 'your 2003', 'your 2004', 'your 500', 'your 900', 'your abta', 'your account', 'your area', 'your b4u', 'your babe', 'your best', 'your bill', 'your bloodsend', 'your board', 'your brother', 'your chance', 'your complementary', 'your complimentary', 'your costa', 'your credits', 'your curious', 'your dad', 'your daily', 'your fone', 'your free', 'your friends', 'your going', 'your gonna', 'your good', 'your habit', 'your holiday', 'your installation', 'your internet', 'your keralacircle', 'your life', 'your lucky', 'your mobile', 'your mum', 'your next', 'your number', 'your opinion', 'your order', 'your plan', 'your priority', 'your pussy', 'your question', 'your real', 'your renewal', 'your right', 'your sic', 'your subs', 'your think', 'your transaction', 'your unique', 'your video', 'your weekly', 'your wish', 'youre alibi', 'youre around', 'youre back', 'youre boss', 'youre car', 'youre cleaning', 'youre close', 'youre concerned', 'youre done', 'youre doublefaggot', 'youre driving', 'youre due', 'youre forgiven', 'youre free', 'youre gonna', 'youre leaving', 'youre parked', 'youre paying', 'youre ready', 'youre restocked', 'youre right', 'youre sick', 'youre since', 'youre slacking', 'youre still', 'youre supposed', 'youre sure', 'youre thinking', 'youre turning', 'youre unemployed', 'youre way', 'youre winner', 'yourinclusive text', 'yourjob seemed', 'yours now4t', 'yourself atleast', 'yourself that', 'youso much', 'youthats give', 'youto find', 'youuuuu where', 'youve already', 'youve always', 'youve charged', 'youve come', 'youve got', 'youve living', 'youve said', 'youve settled', 'youve tkts', 'youve won', 'youve wonderful', 'youwanna chat', 'youwhen wil', 'yoville phone', 'yowifes hint', 'yoyyooo know', 'yr area', 'yr buddys', 'yr chik', 'yr choice', 'yr draw', 'yr network', 'yr phone', 'yr prize', 'yr project', 'yr terms', 'yrs can', 'yrs difficult', 'yrs eve', 'yrs no', 'yrs say', 'yrs supply', 'ystrdayice medicine', 'yummy babe', 'yummy lips', 'yun ahnow', 'yun ahthe', 'yun buying', 'yun dun', 'yun fetch', 'yunny im', 'yuo exmpel', 'yuo raed', 'yuou working', 'yup already', 'yup anything', 'yup bathe', 'yup comin', 'yup coming', 'yup cut', 'yup fren', 'yup from', 'yup giving', 'yup go', 'yup havent', 'yup hey', 'yup hopefully', 'yup how', 'yup im', 'yup ive', 'yup izzit', 'yup leaving', 'yup lunch', 'yup msg', 'yup need', 'yup next', 'yup ok', 'yup paragon', 'yup send', 'yup shd', 'yup song', 'yup studying', 'yup thk', 'yup trying', 'yup wun', 'yupz ive', 'ywhere at', 'zac doesnt', 'zahers got', 'zebra animation', 'zed 08701417012', 'zed 08701417012150p', 'zed pobox', 'zeros that', 'zhong se', 'zindgi wo', 'zoe 18', 'zoe it', 'zogtorius staring', 'zoom cine', 'zouk with', 'zyada kisi', 'üll finish', 'üll submitting', 'üll take', '〨ud evening']\n"
     ]
    }
   ],
   "source": [
    "print(cv1.get_feature_names())"
   ]
  },
  {
   "cell_type": "code",
   "execution_count": 89,
   "metadata": {},
   "outputs": [
    {
     "name": "stdout",
     "output_type": "stream",
     "text": [
      "(10, 126)\n"
     ]
    }
   ],
   "source": [
    "# create sample data\n",
    "data_sample = data[:10]\n",
    "cv2 = CountVectorizer(ngram_range=(2,2))\n",
    "\n",
    "X = cv2.fit_transform(data_sample['msg_clean'])\n",
    "print(X.shape)"
   ]
  },
  {
   "cell_type": "code",
   "execution_count": 90,
   "metadata": {},
   "outputs": [
    {
     "data": {
      "text/html": [
       "<div>\n",
       "<style scoped>\n",
       "    .dataframe tbody tr th:only-of-type {\n",
       "        vertical-align: middle;\n",
       "    }\n",
       "\n",
       "    .dataframe tbody tr th {\n",
       "        vertical-align: top;\n",
       "    }\n",
       "\n",
       "    .dataframe thead th {\n",
       "        text-align: right;\n",
       "    }\n",
       "</style>\n",
       "<table border=\"1\" class=\"dataframe\">\n",
       "  <thead>\n",
       "    <tr style=\"text-align: right;\">\n",
       "      <th></th>\n",
       "      <th>09061701461 claim</th>\n",
       "      <th>11 months</th>\n",
       "      <th>12 hours</th>\n",
       "      <th>150 rcv</th>\n",
       "      <th>2005 text</th>\n",
       "      <th>21st may</th>\n",
       "      <th>87121 receive</th>\n",
       "      <th>900 prize</th>\n",
       "      <th>aids patent</th>\n",
       "      <th>already say</th>\n",
       "      <th>...</th>\n",
       "      <th>valued network</th>\n",
       "      <th>vettam set</th>\n",
       "      <th>weeks word</th>\n",
       "      <th>wif oni</th>\n",
       "      <th>win fa</th>\n",
       "      <th>winner as</th>\n",
       "      <th>wkly comp</th>\n",
       "      <th>word back</th>\n",
       "      <th>world la</th>\n",
       "      <th>xxx std</th>\n",
       "    </tr>\n",
       "  </thead>\n",
       "  <tbody>\n",
       "    <tr>\n",
       "      <th>0</th>\n",
       "      <td>0</td>\n",
       "      <td>0</td>\n",
       "      <td>0</td>\n",
       "      <td>0</td>\n",
       "      <td>0</td>\n",
       "      <td>0</td>\n",
       "      <td>0</td>\n",
       "      <td>0</td>\n",
       "      <td>0</td>\n",
       "      <td>0</td>\n",
       "      <td>...</td>\n",
       "      <td>0</td>\n",
       "      <td>0</td>\n",
       "      <td>0</td>\n",
       "      <td>0</td>\n",
       "      <td>0</td>\n",
       "      <td>0</td>\n",
       "      <td>0</td>\n",
       "      <td>0</td>\n",
       "      <td>1</td>\n",
       "      <td>0</td>\n",
       "    </tr>\n",
       "    <tr>\n",
       "      <th>1</th>\n",
       "      <td>0</td>\n",
       "      <td>0</td>\n",
       "      <td>0</td>\n",
       "      <td>0</td>\n",
       "      <td>0</td>\n",
       "      <td>0</td>\n",
       "      <td>0</td>\n",
       "      <td>0</td>\n",
       "      <td>0</td>\n",
       "      <td>0</td>\n",
       "      <td>...</td>\n",
       "      <td>0</td>\n",
       "      <td>0</td>\n",
       "      <td>0</td>\n",
       "      <td>1</td>\n",
       "      <td>0</td>\n",
       "      <td>0</td>\n",
       "      <td>0</td>\n",
       "      <td>0</td>\n",
       "      <td>0</td>\n",
       "      <td>0</td>\n",
       "    </tr>\n",
       "    <tr>\n",
       "      <th>2</th>\n",
       "      <td>0</td>\n",
       "      <td>0</td>\n",
       "      <td>0</td>\n",
       "      <td>0</td>\n",
       "      <td>1</td>\n",
       "      <td>1</td>\n",
       "      <td>1</td>\n",
       "      <td>0</td>\n",
       "      <td>0</td>\n",
       "      <td>0</td>\n",
       "      <td>...</td>\n",
       "      <td>0</td>\n",
       "      <td>0</td>\n",
       "      <td>0</td>\n",
       "      <td>0</td>\n",
       "      <td>1</td>\n",
       "      <td>0</td>\n",
       "      <td>1</td>\n",
       "      <td>0</td>\n",
       "      <td>0</td>\n",
       "      <td>0</td>\n",
       "    </tr>\n",
       "    <tr>\n",
       "      <th>3</th>\n",
       "      <td>0</td>\n",
       "      <td>0</td>\n",
       "      <td>0</td>\n",
       "      <td>0</td>\n",
       "      <td>0</td>\n",
       "      <td>0</td>\n",
       "      <td>0</td>\n",
       "      <td>0</td>\n",
       "      <td>0</td>\n",
       "      <td>1</td>\n",
       "      <td>...</td>\n",
       "      <td>0</td>\n",
       "      <td>0</td>\n",
       "      <td>0</td>\n",
       "      <td>0</td>\n",
       "      <td>0</td>\n",
       "      <td>0</td>\n",
       "      <td>0</td>\n",
       "      <td>0</td>\n",
       "      <td>0</td>\n",
       "      <td>0</td>\n",
       "    </tr>\n",
       "    <tr>\n",
       "      <th>4</th>\n",
       "      <td>0</td>\n",
       "      <td>0</td>\n",
       "      <td>0</td>\n",
       "      <td>0</td>\n",
       "      <td>0</td>\n",
       "      <td>0</td>\n",
       "      <td>0</td>\n",
       "      <td>0</td>\n",
       "      <td>0</td>\n",
       "      <td>0</td>\n",
       "      <td>...</td>\n",
       "      <td>0</td>\n",
       "      <td>0</td>\n",
       "      <td>0</td>\n",
       "      <td>0</td>\n",
       "      <td>0</td>\n",
       "      <td>0</td>\n",
       "      <td>0</td>\n",
       "      <td>0</td>\n",
       "      <td>0</td>\n",
       "      <td>0</td>\n",
       "    </tr>\n",
       "    <tr>\n",
       "      <th>5</th>\n",
       "      <td>0</td>\n",
       "      <td>0</td>\n",
       "      <td>0</td>\n",
       "      <td>1</td>\n",
       "      <td>0</td>\n",
       "      <td>0</td>\n",
       "      <td>0</td>\n",
       "      <td>0</td>\n",
       "      <td>0</td>\n",
       "      <td>0</td>\n",
       "      <td>...</td>\n",
       "      <td>0</td>\n",
       "      <td>0</td>\n",
       "      <td>1</td>\n",
       "      <td>0</td>\n",
       "      <td>0</td>\n",
       "      <td>0</td>\n",
       "      <td>0</td>\n",
       "      <td>1</td>\n",
       "      <td>0</td>\n",
       "      <td>1</td>\n",
       "    </tr>\n",
       "    <tr>\n",
       "      <th>6</th>\n",
       "      <td>0</td>\n",
       "      <td>0</td>\n",
       "      <td>0</td>\n",
       "      <td>0</td>\n",
       "      <td>0</td>\n",
       "      <td>0</td>\n",
       "      <td>0</td>\n",
       "      <td>0</td>\n",
       "      <td>1</td>\n",
       "      <td>0</td>\n",
       "      <td>...</td>\n",
       "      <td>0</td>\n",
       "      <td>0</td>\n",
       "      <td>0</td>\n",
       "      <td>0</td>\n",
       "      <td>0</td>\n",
       "      <td>0</td>\n",
       "      <td>0</td>\n",
       "      <td>0</td>\n",
       "      <td>0</td>\n",
       "      <td>0</td>\n",
       "    </tr>\n",
       "    <tr>\n",
       "      <th>7</th>\n",
       "      <td>0</td>\n",
       "      <td>0</td>\n",
       "      <td>0</td>\n",
       "      <td>0</td>\n",
       "      <td>0</td>\n",
       "      <td>0</td>\n",
       "      <td>0</td>\n",
       "      <td>0</td>\n",
       "      <td>0</td>\n",
       "      <td>0</td>\n",
       "      <td>...</td>\n",
       "      <td>0</td>\n",
       "      <td>1</td>\n",
       "      <td>0</td>\n",
       "      <td>0</td>\n",
       "      <td>0</td>\n",
       "      <td>0</td>\n",
       "      <td>0</td>\n",
       "      <td>0</td>\n",
       "      <td>0</td>\n",
       "      <td>0</td>\n",
       "    </tr>\n",
       "    <tr>\n",
       "      <th>8</th>\n",
       "      <td>1</td>\n",
       "      <td>0</td>\n",
       "      <td>1</td>\n",
       "      <td>0</td>\n",
       "      <td>0</td>\n",
       "      <td>0</td>\n",
       "      <td>0</td>\n",
       "      <td>1</td>\n",
       "      <td>0</td>\n",
       "      <td>0</td>\n",
       "      <td>...</td>\n",
       "      <td>1</td>\n",
       "      <td>0</td>\n",
       "      <td>0</td>\n",
       "      <td>0</td>\n",
       "      <td>0</td>\n",
       "      <td>1</td>\n",
       "      <td>0</td>\n",
       "      <td>0</td>\n",
       "      <td>0</td>\n",
       "      <td>0</td>\n",
       "    </tr>\n",
       "    <tr>\n",
       "      <th>9</th>\n",
       "      <td>0</td>\n",
       "      <td>1</td>\n",
       "      <td>0</td>\n",
       "      <td>0</td>\n",
       "      <td>0</td>\n",
       "      <td>0</td>\n",
       "      <td>0</td>\n",
       "      <td>0</td>\n",
       "      <td>0</td>\n",
       "      <td>0</td>\n",
       "      <td>...</td>\n",
       "      <td>0</td>\n",
       "      <td>0</td>\n",
       "      <td>0</td>\n",
       "      <td>0</td>\n",
       "      <td>0</td>\n",
       "      <td>0</td>\n",
       "      <td>0</td>\n",
       "      <td>0</td>\n",
       "      <td>0</td>\n",
       "      <td>0</td>\n",
       "    </tr>\n",
       "  </tbody>\n",
       "</table>\n",
       "<p>10 rows × 126 columns</p>\n",
       "</div>"
      ],
      "text/plain": [
       "   09061701461 claim  11 months  12 hours  150 rcv  2005 text  21st may  \\\n",
       "0                  0          0         0        0          0         0   \n",
       "1                  0          0         0        0          0         0   \n",
       "2                  0          0         0        0          1         1   \n",
       "3                  0          0         0        0          0         0   \n",
       "4                  0          0         0        0          0         0   \n",
       "5                  0          0         0        1          0         0   \n",
       "6                  0          0         0        0          0         0   \n",
       "7                  0          0         0        0          0         0   \n",
       "8                  1          0         1        0          0         0   \n",
       "9                  0          1         0        0          0         0   \n",
       "\n",
       "   87121 receive  900 prize  aids patent  already say  ...  valued network  \\\n",
       "0              0          0            0            0  ...               0   \n",
       "1              0          0            0            0  ...               0   \n",
       "2              1          0            0            0  ...               0   \n",
       "3              0          0            0            1  ...               0   \n",
       "4              0          0            0            0  ...               0   \n",
       "5              0          0            0            0  ...               0   \n",
       "6              0          0            1            0  ...               0   \n",
       "7              0          0            0            0  ...               0   \n",
       "8              0          1            0            0  ...               1   \n",
       "9              0          0            0            0  ...               0   \n",
       "\n",
       "   vettam set  weeks word  wif oni  win fa  winner as  wkly comp  word back  \\\n",
       "0           0           0        0       0          0          0          0   \n",
       "1           0           0        1       0          0          0          0   \n",
       "2           0           0        0       1          0          1          0   \n",
       "3           0           0        0       0          0          0          0   \n",
       "4           0           0        0       0          0          0          0   \n",
       "5           0           1        0       0          0          0          1   \n",
       "6           0           0        0       0          0          0          0   \n",
       "7           1           0        0       0          0          0          0   \n",
       "8           0           0        0       0          1          0          0   \n",
       "9           0           0        0       0          0          0          0   \n",
       "\n",
       "   world la  xxx std  \n",
       "0         1        0  \n",
       "1         0        0  \n",
       "2         0        0  \n",
       "3         0        0  \n",
       "4         0        0  \n",
       "5         0        1  \n",
       "6         0        0  \n",
       "7         0        0  \n",
       "8         0        0  \n",
       "9         0        0  \n",
       "\n",
       "[10 rows x 126 columns]"
      ]
     },
     "execution_count": 90,
     "metadata": {},
     "output_type": "execute_result"
    }
   ],
   "source": [
    "df = pd.DataFrame(X.toarray(), columns=cv2.get_feature_names())\n",
    "df"
   ]
  },
  {
   "cell_type": "markdown",
   "metadata": {},
   "source": [
    "# 17. TF-IDF vectorization"
   ]
  },
  {
   "cell_type": "code",
   "execution_count": 91,
   "metadata": {},
   "outputs": [],
   "source": [
    "# TF-IDF vectorization:\n",
    "#     creates document-term matix\n",
    "#         columns are individual unique words\n",
    "#         cells contain weight which signifies how important a word is for an individual text message\n",
    "        \n",
    "        \n",
    "#     w = tf * log(N/df)\n",
    "#     w =weight\n",
    "#     tf = occurance of word in a sentence\n",
    "#     log(N/df) = occurrance of word in document\n",
    "    \n",
    "#     I am studing NLP.\n",
    "#     tf of 'am' = 1/4 =0.25\n",
    "#     N=200\n",
    "#     df is am present in 2 document = 2\n",
    "#     w = 0.25 * log(200/2)"
   ]
  },
  {
   "cell_type": "code",
   "execution_count": 92,
   "metadata": {},
   "outputs": [
    {
     "data": {
      "text/html": [
       "<div>\n",
       "<style scoped>\n",
       "    .dataframe tbody tr th:only-of-type {\n",
       "        vertical-align: middle;\n",
       "    }\n",
       "\n",
       "    .dataframe tbody tr th {\n",
       "        vertical-align: top;\n",
       "    }\n",
       "\n",
       "    .dataframe thead th {\n",
       "        text-align: right;\n",
       "    }\n",
       "</style>\n",
       "<table border=\"1\" class=\"dataframe\">\n",
       "  <thead>\n",
       "    <tr style=\"text-align: right;\">\n",
       "      <th></th>\n",
       "      <th>label</th>\n",
       "      <th>msg</th>\n",
       "    </tr>\n",
       "  </thead>\n",
       "  <tbody>\n",
       "    <tr>\n",
       "      <th>0</th>\n",
       "      <td>ham</td>\n",
       "      <td>Go until jurong point, crazy.. Available only in bugis n great world la e buffet... Cine there g...</td>\n",
       "    </tr>\n",
       "    <tr>\n",
       "      <th>1</th>\n",
       "      <td>ham</td>\n",
       "      <td>Ok lar... Joking wif u oni...</td>\n",
       "    </tr>\n",
       "    <tr>\n",
       "      <th>2</th>\n",
       "      <td>spam</td>\n",
       "      <td>Free entry in 2 a wkly comp to win FA Cup final tkts 21st May 2005. Text FA to 87121 to receive ...</td>\n",
       "    </tr>\n",
       "    <tr>\n",
       "      <th>3</th>\n",
       "      <td>ham</td>\n",
       "      <td>U dun say so early hor... U c already then say...</td>\n",
       "    </tr>\n",
       "    <tr>\n",
       "      <th>4</th>\n",
       "      <td>ham</td>\n",
       "      <td>Nah I don't think he goes to usf, he lives around here though</td>\n",
       "    </tr>\n",
       "  </tbody>\n",
       "</table>\n",
       "</div>"
      ],
      "text/plain": [
       "  label  \\\n",
       "0   ham   \n",
       "1   ham   \n",
       "2  spam   \n",
       "3   ham   \n",
       "4   ham   \n",
       "\n",
       "                                                                                                   msg  \n",
       "0  Go until jurong point, crazy.. Available only in bugis n great world la e buffet... Cine there g...  \n",
       "1                                                                        Ok lar... Joking wif u oni...  \n",
       "2  Free entry in 2 a wkly comp to win FA Cup final tkts 21st May 2005. Text FA to 87121 to receive ...  \n",
       "3                                                    U dun say so early hor... U c already then say...  \n",
       "4                                        Nah I don't think he goes to usf, he lives around here though  "
      ]
     },
     "execution_count": 92,
     "metadata": {},
     "output_type": "execute_result"
    }
   ],
   "source": [
    "import pandas as pd\n",
    "import re\n",
    "import string\n",
    "pd.set_option('display.max_colwidth', 100)\n",
    "stopwords = nltk.corpus.stopwords.words(\"english\")\n",
    "data = pd.read_csv(\"SMSSpamCollection\", sep='\\t', header=None)\n",
    "data.columns = ['label', 'msg']\n",
    "data.head()"
   ]
  },
  {
   "cell_type": "code",
   "execution_count": 93,
   "metadata": {},
   "outputs": [],
   "source": [
    "# clean text\n",
    "def clean_text(txt):\n",
    "    txt = ''.join([i for i in txt if i not in string.punctuation])\n",
    "    tokens = re.split('\\W+', txt)\n",
    "    txt = [word for word in tokens if word not in stopwords]\n",
    "    return txt"
   ]
  },
  {
   "cell_type": "code",
   "execution_count": 94,
   "metadata": {},
   "outputs": [],
   "source": [
    "# tf-idf vectorizer"
   ]
  },
  {
   "cell_type": "code",
   "execution_count": 95,
   "metadata": {},
   "outputs": [
    {
     "name": "stdout",
     "output_type": "stream",
     "text": [
      "{'this': 6, 'is': 3, 'sentence': 4, 'another': 0, 'third': 5, 'document': 1, 'here': 2}\n",
      "['another', 'document', 'here', 'is', 'sentence', 'third', 'this']\n",
      "(3, 7)\n",
      "[[0.         0.         0.         0.73941068 0.47606294 0.\n",
      "  0.47606294]\n",
      " [0.63174505 0.         0.         0.37311881 0.4804584  0.\n",
      "  0.4804584 ]\n",
      " [0.         0.54645401 0.54645401 0.32274454 0.         0.54645401\n",
      "  0.        ]]\n"
     ]
    }
   ],
   "source": [
    "from sklearn.feature_extraction.text import TfidfVectorizer\n",
    "tfidf_vect = TfidfVectorizer()\n",
    "corpus = [\"This is s sentence is\",\n",
    "          \"This is a another sentence\",\n",
    "          \"third document is here\"]\n",
    "\n",
    "X = tfidf_vect.fit(corpus)\n",
    "print(X.vocabulary_)\n",
    "print(tfidf_vect.get_feature_names())\n",
    "\n",
    "\n",
    "X = tfidf_vect.transform(corpus)\n",
    "print(X.shape)\n",
    "print(X.toarray())"
   ]
  },
  {
   "cell_type": "code",
   "execution_count": 96,
   "metadata": {},
   "outputs": [
    {
     "data": {
      "text/html": [
       "<div>\n",
       "<style scoped>\n",
       "    .dataframe tbody tr th:only-of-type {\n",
       "        vertical-align: middle;\n",
       "    }\n",
       "\n",
       "    .dataframe tbody tr th {\n",
       "        vertical-align: top;\n",
       "    }\n",
       "\n",
       "    .dataframe thead th {\n",
       "        text-align: right;\n",
       "    }\n",
       "</style>\n",
       "<table border=\"1\" class=\"dataframe\">\n",
       "  <thead>\n",
       "    <tr style=\"text-align: right;\">\n",
       "      <th></th>\n",
       "      <th>another</th>\n",
       "      <th>document</th>\n",
       "      <th>here</th>\n",
       "      <th>is</th>\n",
       "      <th>sentence</th>\n",
       "      <th>third</th>\n",
       "      <th>this</th>\n",
       "    </tr>\n",
       "  </thead>\n",
       "  <tbody>\n",
       "    <tr>\n",
       "      <th>0</th>\n",
       "      <td>0.000000</td>\n",
       "      <td>0.000000</td>\n",
       "      <td>0.000000</td>\n",
       "      <td>0.739411</td>\n",
       "      <td>0.476063</td>\n",
       "      <td>0.000000</td>\n",
       "      <td>0.476063</td>\n",
       "    </tr>\n",
       "    <tr>\n",
       "      <th>1</th>\n",
       "      <td>0.631745</td>\n",
       "      <td>0.000000</td>\n",
       "      <td>0.000000</td>\n",
       "      <td>0.373119</td>\n",
       "      <td>0.480458</td>\n",
       "      <td>0.000000</td>\n",
       "      <td>0.480458</td>\n",
       "    </tr>\n",
       "    <tr>\n",
       "      <th>2</th>\n",
       "      <td>0.000000</td>\n",
       "      <td>0.546454</td>\n",
       "      <td>0.546454</td>\n",
       "      <td>0.322745</td>\n",
       "      <td>0.000000</td>\n",
       "      <td>0.546454</td>\n",
       "      <td>0.000000</td>\n",
       "    </tr>\n",
       "  </tbody>\n",
       "</table>\n",
       "</div>"
      ],
      "text/plain": [
       "    another  document      here        is  sentence     third      this\n",
       "0  0.000000  0.000000  0.000000  0.739411  0.476063  0.000000  0.476063\n",
       "1  0.631745  0.000000  0.000000  0.373119  0.480458  0.000000  0.480458\n",
       "2  0.000000  0.546454  0.546454  0.322745  0.000000  0.546454  0.000000"
      ]
     },
     "execution_count": 96,
     "metadata": {},
     "output_type": "execute_result"
    }
   ],
   "source": [
    "df = pd.DataFrame(X.toarray(), columns=tfidf_vect.get_feature_names())\n",
    "df"
   ]
  },
  {
   "cell_type": "code",
   "execution_count": 97,
   "metadata": {},
   "outputs": [],
   "source": [
    "# tf-idf vectorization on SMSSpamCollection"
   ]
  },
  {
   "cell_type": "code",
   "execution_count": 98,
   "metadata": {},
   "outputs": [
    {
     "name": "stdout",
     "output_type": "stream",
     "text": [
      "(10, 137)\n"
     ]
    }
   ],
   "source": [
    "# create sample data\n",
    "data_sample = data[:10]\n",
    "tfidf2 = TfidfVectorizer(analyzer=clean_text)\n",
    "\n",
    "X = tfidf2.fit_transform(data_sample['msg'])\n",
    "print(X.shape)"
   ]
  },
  {
   "cell_type": "code",
   "execution_count": 99,
   "metadata": {},
   "outputs": [
    {
     "data": {
      "text/html": [
       "<div>\n",
       "<style scoped>\n",
       "    .dataframe tbody tr th:only-of-type {\n",
       "        vertical-align: middle;\n",
       "    }\n",
       "\n",
       "    .dataframe tbody tr th {\n",
       "        vertical-align: top;\n",
       "    }\n",
       "\n",
       "    .dataframe thead th {\n",
       "        text-align: right;\n",
       "    }\n",
       "</style>\n",
       "<table border=\"1\" class=\"dataframe\">\n",
       "  <thead>\n",
       "    <tr style=\"text-align: right;\">\n",
       "      <th></th>\n",
       "      <th>08002986030</th>\n",
       "      <th>08452810075over18s</th>\n",
       "      <th>09061701461</th>\n",
       "      <th>11</th>\n",
       "      <th>12</th>\n",
       "      <th>150</th>\n",
       "      <th>2</th>\n",
       "      <th>2005</th>\n",
       "      <th>21st</th>\n",
       "      <th>3</th>\n",
       "      <th>...</th>\n",
       "      <th>u</th>\n",
       "      <th>usf</th>\n",
       "      <th>valued</th>\n",
       "      <th>wat</th>\n",
       "      <th>weeks</th>\n",
       "      <th>wif</th>\n",
       "      <th>win</th>\n",
       "      <th>wkly</th>\n",
       "      <th>word</th>\n",
       "      <th>world</th>\n",
       "    </tr>\n",
       "  </thead>\n",
       "  <tbody>\n",
       "    <tr>\n",
       "      <th>0</th>\n",
       "      <td>0.00000</td>\n",
       "      <td>0.000000</td>\n",
       "      <td>0.000000</td>\n",
       "      <td>0.00000</td>\n",
       "      <td>0.000000</td>\n",
       "      <td>0.000000</td>\n",
       "      <td>0.000000</td>\n",
       "      <td>0.000000</td>\n",
       "      <td>0.000000</td>\n",
       "      <td>0.000000</td>\n",
       "      <td>...</td>\n",
       "      <td>0.000000</td>\n",
       "      <td>0.000000</td>\n",
       "      <td>0.000000</td>\n",
       "      <td>0.25</td>\n",
       "      <td>0.000000</td>\n",
       "      <td>0.000000</td>\n",
       "      <td>0.000000</td>\n",
       "      <td>0.000000</td>\n",
       "      <td>0.000000</td>\n",
       "      <td>0.25</td>\n",
       "    </tr>\n",
       "    <tr>\n",
       "      <th>1</th>\n",
       "      <td>0.00000</td>\n",
       "      <td>0.000000</td>\n",
       "      <td>0.000000</td>\n",
       "      <td>0.00000</td>\n",
       "      <td>0.000000</td>\n",
       "      <td>0.000000</td>\n",
       "      <td>0.000000</td>\n",
       "      <td>0.000000</td>\n",
       "      <td>0.000000</td>\n",
       "      <td>0.000000</td>\n",
       "      <td>...</td>\n",
       "      <td>0.408248</td>\n",
       "      <td>0.000000</td>\n",
       "      <td>0.000000</td>\n",
       "      <td>0.00</td>\n",
       "      <td>0.000000</td>\n",
       "      <td>0.408248</td>\n",
       "      <td>0.000000</td>\n",
       "      <td>0.000000</td>\n",
       "      <td>0.000000</td>\n",
       "      <td>0.00</td>\n",
       "    </tr>\n",
       "    <tr>\n",
       "      <th>2</th>\n",
       "      <td>0.00000</td>\n",
       "      <td>0.193446</td>\n",
       "      <td>0.000000</td>\n",
       "      <td>0.00000</td>\n",
       "      <td>0.000000</td>\n",
       "      <td>0.000000</td>\n",
       "      <td>0.193446</td>\n",
       "      <td>0.193446</td>\n",
       "      <td>0.193446</td>\n",
       "      <td>0.000000</td>\n",
       "      <td>...</td>\n",
       "      <td>0.000000</td>\n",
       "      <td>0.000000</td>\n",
       "      <td>0.000000</td>\n",
       "      <td>0.00</td>\n",
       "      <td>0.000000</td>\n",
       "      <td>0.000000</td>\n",
       "      <td>0.193446</td>\n",
       "      <td>0.193446</td>\n",
       "      <td>0.000000</td>\n",
       "      <td>0.00</td>\n",
       "    </tr>\n",
       "    <tr>\n",
       "      <th>3</th>\n",
       "      <td>0.00000</td>\n",
       "      <td>0.000000</td>\n",
       "      <td>0.000000</td>\n",
       "      <td>0.00000</td>\n",
       "      <td>0.000000</td>\n",
       "      <td>0.000000</td>\n",
       "      <td>0.000000</td>\n",
       "      <td>0.000000</td>\n",
       "      <td>0.000000</td>\n",
       "      <td>0.000000</td>\n",
       "      <td>...</td>\n",
       "      <td>0.000000</td>\n",
       "      <td>0.000000</td>\n",
       "      <td>0.000000</td>\n",
       "      <td>0.00</td>\n",
       "      <td>0.000000</td>\n",
       "      <td>0.000000</td>\n",
       "      <td>0.000000</td>\n",
       "      <td>0.000000</td>\n",
       "      <td>0.000000</td>\n",
       "      <td>0.00</td>\n",
       "    </tr>\n",
       "    <tr>\n",
       "      <th>4</th>\n",
       "      <td>0.00000</td>\n",
       "      <td>0.000000</td>\n",
       "      <td>0.000000</td>\n",
       "      <td>0.00000</td>\n",
       "      <td>0.000000</td>\n",
       "      <td>0.000000</td>\n",
       "      <td>0.000000</td>\n",
       "      <td>0.000000</td>\n",
       "      <td>0.000000</td>\n",
       "      <td>0.000000</td>\n",
       "      <td>...</td>\n",
       "      <td>0.000000</td>\n",
       "      <td>0.333333</td>\n",
       "      <td>0.000000</td>\n",
       "      <td>0.00</td>\n",
       "      <td>0.000000</td>\n",
       "      <td>0.000000</td>\n",
       "      <td>0.000000</td>\n",
       "      <td>0.000000</td>\n",
       "      <td>0.000000</td>\n",
       "      <td>0.00</td>\n",
       "    </tr>\n",
       "    <tr>\n",
       "      <th>5</th>\n",
       "      <td>0.00000</td>\n",
       "      <td>0.000000</td>\n",
       "      <td>0.000000</td>\n",
       "      <td>0.00000</td>\n",
       "      <td>0.000000</td>\n",
       "      <td>0.231109</td>\n",
       "      <td>0.000000</td>\n",
       "      <td>0.000000</td>\n",
       "      <td>0.000000</td>\n",
       "      <td>0.231109</td>\n",
       "      <td>...</td>\n",
       "      <td>0.000000</td>\n",
       "      <td>0.000000</td>\n",
       "      <td>0.000000</td>\n",
       "      <td>0.00</td>\n",
       "      <td>0.231109</td>\n",
       "      <td>0.000000</td>\n",
       "      <td>0.000000</td>\n",
       "      <td>0.000000</td>\n",
       "      <td>0.231109</td>\n",
       "      <td>0.00</td>\n",
       "    </tr>\n",
       "    <tr>\n",
       "      <th>6</th>\n",
       "      <td>0.00000</td>\n",
       "      <td>0.000000</td>\n",
       "      <td>0.000000</td>\n",
       "      <td>0.00000</td>\n",
       "      <td>0.000000</td>\n",
       "      <td>0.000000</td>\n",
       "      <td>0.000000</td>\n",
       "      <td>0.000000</td>\n",
       "      <td>0.000000</td>\n",
       "      <td>0.000000</td>\n",
       "      <td>...</td>\n",
       "      <td>0.000000</td>\n",
       "      <td>0.000000</td>\n",
       "      <td>0.000000</td>\n",
       "      <td>0.00</td>\n",
       "      <td>0.000000</td>\n",
       "      <td>0.000000</td>\n",
       "      <td>0.000000</td>\n",
       "      <td>0.000000</td>\n",
       "      <td>0.000000</td>\n",
       "      <td>0.00</td>\n",
       "    </tr>\n",
       "    <tr>\n",
       "      <th>7</th>\n",
       "      <td>0.00000</td>\n",
       "      <td>0.000000</td>\n",
       "      <td>0.000000</td>\n",
       "      <td>0.00000</td>\n",
       "      <td>0.000000</td>\n",
       "      <td>0.000000</td>\n",
       "      <td>0.000000</td>\n",
       "      <td>0.000000</td>\n",
       "      <td>0.000000</td>\n",
       "      <td>0.000000</td>\n",
       "      <td>...</td>\n",
       "      <td>0.000000</td>\n",
       "      <td>0.000000</td>\n",
       "      <td>0.000000</td>\n",
       "      <td>0.00</td>\n",
       "      <td>0.000000</td>\n",
       "      <td>0.000000</td>\n",
       "      <td>0.000000</td>\n",
       "      <td>0.000000</td>\n",
       "      <td>0.000000</td>\n",
       "      <td>0.00</td>\n",
       "    </tr>\n",
       "    <tr>\n",
       "      <th>8</th>\n",
       "      <td>0.00000</td>\n",
       "      <td>0.000000</td>\n",
       "      <td>0.225174</td>\n",
       "      <td>0.00000</td>\n",
       "      <td>0.225174</td>\n",
       "      <td>0.000000</td>\n",
       "      <td>0.000000</td>\n",
       "      <td>0.000000</td>\n",
       "      <td>0.000000</td>\n",
       "      <td>0.000000</td>\n",
       "      <td>...</td>\n",
       "      <td>0.000000</td>\n",
       "      <td>0.000000</td>\n",
       "      <td>0.225174</td>\n",
       "      <td>0.00</td>\n",
       "      <td>0.000000</td>\n",
       "      <td>0.000000</td>\n",
       "      <td>0.000000</td>\n",
       "      <td>0.000000</td>\n",
       "      <td>0.000000</td>\n",
       "      <td>0.00</td>\n",
       "    </tr>\n",
       "    <tr>\n",
       "      <th>9</th>\n",
       "      <td>0.21594</td>\n",
       "      <td>0.000000</td>\n",
       "      <td>0.000000</td>\n",
       "      <td>0.21594</td>\n",
       "      <td>0.000000</td>\n",
       "      <td>0.000000</td>\n",
       "      <td>0.000000</td>\n",
       "      <td>0.000000</td>\n",
       "      <td>0.000000</td>\n",
       "      <td>0.000000</td>\n",
       "      <td>...</td>\n",
       "      <td>0.000000</td>\n",
       "      <td>0.000000</td>\n",
       "      <td>0.000000</td>\n",
       "      <td>0.00</td>\n",
       "      <td>0.000000</td>\n",
       "      <td>0.000000</td>\n",
       "      <td>0.000000</td>\n",
       "      <td>0.000000</td>\n",
       "      <td>0.000000</td>\n",
       "      <td>0.00</td>\n",
       "    </tr>\n",
       "  </tbody>\n",
       "</table>\n",
       "<p>10 rows × 137 columns</p>\n",
       "</div>"
      ],
      "text/plain": [
       "   08002986030  08452810075over18s  09061701461       11        12       150  \\\n",
       "0      0.00000            0.000000     0.000000  0.00000  0.000000  0.000000   \n",
       "1      0.00000            0.000000     0.000000  0.00000  0.000000  0.000000   \n",
       "2      0.00000            0.193446     0.000000  0.00000  0.000000  0.000000   \n",
       "3      0.00000            0.000000     0.000000  0.00000  0.000000  0.000000   \n",
       "4      0.00000            0.000000     0.000000  0.00000  0.000000  0.000000   \n",
       "5      0.00000            0.000000     0.000000  0.00000  0.000000  0.231109   \n",
       "6      0.00000            0.000000     0.000000  0.00000  0.000000  0.000000   \n",
       "7      0.00000            0.000000     0.000000  0.00000  0.000000  0.000000   \n",
       "8      0.00000            0.000000     0.225174  0.00000  0.225174  0.000000   \n",
       "9      0.21594            0.000000     0.000000  0.21594  0.000000  0.000000   \n",
       "\n",
       "          2      2005      21st         3  ...         u       usf    valued  \\\n",
       "0  0.000000  0.000000  0.000000  0.000000  ...  0.000000  0.000000  0.000000   \n",
       "1  0.000000  0.000000  0.000000  0.000000  ...  0.408248  0.000000  0.000000   \n",
       "2  0.193446  0.193446  0.193446  0.000000  ...  0.000000  0.000000  0.000000   \n",
       "3  0.000000  0.000000  0.000000  0.000000  ...  0.000000  0.000000  0.000000   \n",
       "4  0.000000  0.000000  0.000000  0.000000  ...  0.000000  0.333333  0.000000   \n",
       "5  0.000000  0.000000  0.000000  0.231109  ...  0.000000  0.000000  0.000000   \n",
       "6  0.000000  0.000000  0.000000  0.000000  ...  0.000000  0.000000  0.000000   \n",
       "7  0.000000  0.000000  0.000000  0.000000  ...  0.000000  0.000000  0.000000   \n",
       "8  0.000000  0.000000  0.000000  0.000000  ...  0.000000  0.000000  0.225174   \n",
       "9  0.000000  0.000000  0.000000  0.000000  ...  0.000000  0.000000  0.000000   \n",
       "\n",
       "    wat     weeks       wif       win      wkly      word  world  \n",
       "0  0.25  0.000000  0.000000  0.000000  0.000000  0.000000   0.25  \n",
       "1  0.00  0.000000  0.408248  0.000000  0.000000  0.000000   0.00  \n",
       "2  0.00  0.000000  0.000000  0.193446  0.193446  0.000000   0.00  \n",
       "3  0.00  0.000000  0.000000  0.000000  0.000000  0.000000   0.00  \n",
       "4  0.00  0.000000  0.000000  0.000000  0.000000  0.000000   0.00  \n",
       "5  0.00  0.231109  0.000000  0.000000  0.000000  0.231109   0.00  \n",
       "6  0.00  0.000000  0.000000  0.000000  0.000000  0.000000   0.00  \n",
       "7  0.00  0.000000  0.000000  0.000000  0.000000  0.000000   0.00  \n",
       "8  0.00  0.000000  0.000000  0.000000  0.000000  0.000000   0.00  \n",
       "9  0.00  0.000000  0.000000  0.000000  0.000000  0.000000   0.00  \n",
       "\n",
       "[10 rows x 137 columns]"
      ]
     },
     "execution_count": 99,
     "metadata": {},
     "output_type": "execute_result"
    }
   ],
   "source": [
    "df = pd.DataFrame(X.toarray(), columns=tfidf2.get_feature_names())\n",
    "df"
   ]
  },
  {
   "cell_type": "markdown",
   "metadata": {},
   "source": [
    "# 18. Feature Engineering"
   ]
  },
  {
   "cell_type": "code",
   "execution_count": 100,
   "metadata": {},
   "outputs": [],
   "source": [
    "# Feature Engineering:\n",
    "#  Creating a new features of transforming existing features using domain knowledge of the data, that makes ML algo work better\n",
    "#     metrics:\n",
    "#     length of documents\n",
    "#     avg word size within a document\n",
    "#     use a punctuation in the text\n",
    "#     capitalize of words in a document\n",
    "    \n",
    "# Transformation: Appling some transformations of data can make it work better\n",
    "#     Power transformation. x^2, root(x)\n",
    "#     Standardizing Data\n",
    "#     Normalization: bring different features to similar scale\n",
    "    "
   ]
  },
  {
   "cell_type": "markdown",
   "metadata": {},
   "source": [
    "# 19. Feature Creation"
   ]
  },
  {
   "cell_type": "code",
   "execution_count": 102,
   "metadata": {},
   "outputs": [],
   "source": [
    "# Message Length\n",
    "# punctuation usage\n",
    "\n",
    "# Stop word usage\n",
    "# Capitalization usage \n",
    "# avg word length"
   ]
  },
  {
   "cell_type": "code",
   "execution_count": 103,
   "metadata": {},
   "outputs": [
    {
     "data": {
      "text/html": [
       "<div>\n",
       "<style scoped>\n",
       "    .dataframe tbody tr th:only-of-type {\n",
       "        vertical-align: middle;\n",
       "    }\n",
       "\n",
       "    .dataframe tbody tr th {\n",
       "        vertical-align: top;\n",
       "    }\n",
       "\n",
       "    .dataframe thead th {\n",
       "        text-align: right;\n",
       "    }\n",
       "</style>\n",
       "<table border=\"1\" class=\"dataframe\">\n",
       "  <thead>\n",
       "    <tr style=\"text-align: right;\">\n",
       "      <th></th>\n",
       "      <th>label</th>\n",
       "      <th>msg</th>\n",
       "    </tr>\n",
       "  </thead>\n",
       "  <tbody>\n",
       "    <tr>\n",
       "      <th>0</th>\n",
       "      <td>ham</td>\n",
       "      <td>Go until jurong point, crazy.. Available only in bugis n great world la e buffet... Cine there g...</td>\n",
       "    </tr>\n",
       "    <tr>\n",
       "      <th>1</th>\n",
       "      <td>ham</td>\n",
       "      <td>Ok lar... Joking wif u oni...</td>\n",
       "    </tr>\n",
       "    <tr>\n",
       "      <th>2</th>\n",
       "      <td>spam</td>\n",
       "      <td>Free entry in 2 a wkly comp to win FA Cup final tkts 21st May 2005. Text FA to 87121 to receive ...</td>\n",
       "    </tr>\n",
       "    <tr>\n",
       "      <th>3</th>\n",
       "      <td>ham</td>\n",
       "      <td>U dun say so early hor... U c already then say...</td>\n",
       "    </tr>\n",
       "    <tr>\n",
       "      <th>4</th>\n",
       "      <td>ham</td>\n",
       "      <td>Nah I don't think he goes to usf, he lives around here though</td>\n",
       "    </tr>\n",
       "  </tbody>\n",
       "</table>\n",
       "</div>"
      ],
      "text/plain": [
       "  label  \\\n",
       "0   ham   \n",
       "1   ham   \n",
       "2  spam   \n",
       "3   ham   \n",
       "4   ham   \n",
       "\n",
       "                                                                                                   msg  \n",
       "0  Go until jurong point, crazy.. Available only in bugis n great world la e buffet... Cine there g...  \n",
       "1                                                                        Ok lar... Joking wif u oni...  \n",
       "2  Free entry in 2 a wkly comp to win FA Cup final tkts 21st May 2005. Text FA to 87121 to receive ...  \n",
       "3                                                    U dun say so early hor... U c already then say...  \n",
       "4                                        Nah I don't think he goes to usf, he lives around here though  "
      ]
     },
     "execution_count": 103,
     "metadata": {},
     "output_type": "execute_result"
    }
   ],
   "source": [
    "import pandas as pd\n",
    "data = pd.read_csv(\"SMSSpamCollection\", sep='\\t', header=None)\n",
    "data.columns = ['label', 'msg']\n",
    "data.head()"
   ]
  },
  {
   "cell_type": "code",
   "execution_count": 104,
   "metadata": {},
   "outputs": [],
   "source": [
    "# Create Feature: message length"
   ]
  },
  {
   "cell_type": "code",
   "execution_count": 105,
   "metadata": {},
   "outputs": [
    {
     "data": {
      "text/html": [
       "<div>\n",
       "<style scoped>\n",
       "    .dataframe tbody tr th:only-of-type {\n",
       "        vertical-align: middle;\n",
       "    }\n",
       "\n",
       "    .dataframe tbody tr th {\n",
       "        vertical-align: top;\n",
       "    }\n",
       "\n",
       "    .dataframe thead th {\n",
       "        text-align: right;\n",
       "    }\n",
       "</style>\n",
       "<table border=\"1\" class=\"dataframe\">\n",
       "  <thead>\n",
       "    <tr style=\"text-align: right;\">\n",
       "      <th></th>\n",
       "      <th>label</th>\n",
       "      <th>msg</th>\n",
       "      <th>msg_len</th>\n",
       "    </tr>\n",
       "  </thead>\n",
       "  <tbody>\n",
       "    <tr>\n",
       "      <th>0</th>\n",
       "      <td>ham</td>\n",
       "      <td>Go until jurong point, crazy.. Available only in bugis n great world la e buffet... Cine there g...</td>\n",
       "      <td>111</td>\n",
       "    </tr>\n",
       "    <tr>\n",
       "      <th>1</th>\n",
       "      <td>ham</td>\n",
       "      <td>Ok lar... Joking wif u oni...</td>\n",
       "      <td>29</td>\n",
       "    </tr>\n",
       "    <tr>\n",
       "      <th>2</th>\n",
       "      <td>spam</td>\n",
       "      <td>Free entry in 2 a wkly comp to win FA Cup final tkts 21st May 2005. Text FA to 87121 to receive ...</td>\n",
       "      <td>155</td>\n",
       "    </tr>\n",
       "    <tr>\n",
       "      <th>3</th>\n",
       "      <td>ham</td>\n",
       "      <td>U dun say so early hor... U c already then say...</td>\n",
       "      <td>49</td>\n",
       "    </tr>\n",
       "    <tr>\n",
       "      <th>4</th>\n",
       "      <td>ham</td>\n",
       "      <td>Nah I don't think he goes to usf, he lives around here though</td>\n",
       "      <td>61</td>\n",
       "    </tr>\n",
       "  </tbody>\n",
       "</table>\n",
       "</div>"
      ],
      "text/plain": [
       "  label  \\\n",
       "0   ham   \n",
       "1   ham   \n",
       "2  spam   \n",
       "3   ham   \n",
       "4   ham   \n",
       "\n",
       "                                                                                                   msg  \\\n",
       "0  Go until jurong point, crazy.. Available only in bugis n great world la e buffet... Cine there g...   \n",
       "1                                                                        Ok lar... Joking wif u oni...   \n",
       "2  Free entry in 2 a wkly comp to win FA Cup final tkts 21st May 2005. Text FA to 87121 to receive ...   \n",
       "3                                                    U dun say so early hor... U c already then say...   \n",
       "4                                        Nah I don't think he goes to usf, he lives around here though   \n",
       "\n",
       "   msg_len  \n",
       "0      111  \n",
       "1       29  \n",
       "2      155  \n",
       "3       49  \n",
       "4       61  "
      ]
     },
     "execution_count": 105,
     "metadata": {},
     "output_type": "execute_result"
    }
   ],
   "source": [
    "data['msg_len'] = data['msg'].apply(lambda x: len(x))\n",
    "data.head()"
   ]
  },
  {
   "cell_type": "code",
   "execution_count": 106,
   "metadata": {},
   "outputs": [],
   "source": [
    "# Create Feature: punctuation usage"
   ]
  },
  {
   "cell_type": "code",
   "execution_count": 107,
   "metadata": {},
   "outputs": [
    {
     "data": {
      "text/html": [
       "<div>\n",
       "<style scoped>\n",
       "    .dataframe tbody tr th:only-of-type {\n",
       "        vertical-align: middle;\n",
       "    }\n",
       "\n",
       "    .dataframe tbody tr th {\n",
       "        vertical-align: top;\n",
       "    }\n",
       "\n",
       "    .dataframe thead th {\n",
       "        text-align: right;\n",
       "    }\n",
       "</style>\n",
       "<table border=\"1\" class=\"dataframe\">\n",
       "  <thead>\n",
       "    <tr style=\"text-align: right;\">\n",
       "      <th></th>\n",
       "      <th>label</th>\n",
       "      <th>msg</th>\n",
       "      <th>msg_len</th>\n",
       "      <th>punctuation_percent</th>\n",
       "    </tr>\n",
       "  </thead>\n",
       "  <tbody>\n",
       "    <tr>\n",
       "      <th>0</th>\n",
       "      <td>ham</td>\n",
       "      <td>Go until jurong point, crazy.. Available only in bugis n great world la e buffet... Cine there g...</td>\n",
       "      <td>111</td>\n",
       "      <td>8.108108</td>\n",
       "    </tr>\n",
       "    <tr>\n",
       "      <th>1</th>\n",
       "      <td>ham</td>\n",
       "      <td>Ok lar... Joking wif u oni...</td>\n",
       "      <td>29</td>\n",
       "      <td>20.689655</td>\n",
       "    </tr>\n",
       "    <tr>\n",
       "      <th>2</th>\n",
       "      <td>spam</td>\n",
       "      <td>Free entry in 2 a wkly comp to win FA Cup final tkts 21st May 2005. Text FA to 87121 to receive ...</td>\n",
       "      <td>155</td>\n",
       "      <td>3.870968</td>\n",
       "    </tr>\n",
       "    <tr>\n",
       "      <th>3</th>\n",
       "      <td>ham</td>\n",
       "      <td>U dun say so early hor... U c already then say...</td>\n",
       "      <td>49</td>\n",
       "      <td>12.244898</td>\n",
       "    </tr>\n",
       "    <tr>\n",
       "      <th>4</th>\n",
       "      <td>ham</td>\n",
       "      <td>Nah I don't think he goes to usf, he lives around here though</td>\n",
       "      <td>61</td>\n",
       "      <td>3.278689</td>\n",
       "    </tr>\n",
       "  </tbody>\n",
       "</table>\n",
       "</div>"
      ],
      "text/plain": [
       "  label  \\\n",
       "0   ham   \n",
       "1   ham   \n",
       "2  spam   \n",
       "3   ham   \n",
       "4   ham   \n",
       "\n",
       "                                                                                                   msg  \\\n",
       "0  Go until jurong point, crazy.. Available only in bugis n great world la e buffet... Cine there g...   \n",
       "1                                                                        Ok lar... Joking wif u oni...   \n",
       "2  Free entry in 2 a wkly comp to win FA Cup final tkts 21st May 2005. Text FA to 87121 to receive ...   \n",
       "3                                                    U dun say so early hor... U c already then say...   \n",
       "4                                        Nah I don't think he goes to usf, he lives around here though   \n",
       "\n",
       "   msg_len  punctuation_percent  \n",
       "0      111             8.108108  \n",
       "1       29            20.689655  \n",
       "2      155             3.870968  \n",
       "3       49            12.244898  \n",
       "4       61             3.278689  "
      ]
     },
     "execution_count": 107,
     "metadata": {},
     "output_type": "execute_result"
    }
   ],
   "source": [
    "import string\n",
    "def punctuation_count(txt):\n",
    "    count = sum([1 for i in txt if i in string.punctuation])\n",
    "    return 100 * count/len(txt)\n",
    "\n",
    "data['punctuation_percent'] = data['msg'].apply(lambda x:punctuation_count(x))\n",
    "data.head()"
   ]
  },
  {
   "cell_type": "markdown",
   "metadata": {},
   "source": [
    "20."
   ]
  },
  {
   "cell_type": "code",
   "execution_count": 108,
   "metadata": {},
   "outputs": [],
   "source": [
    "# Feature Evalution"
   ]
  },
  {
   "cell_type": "code",
   "execution_count": 109,
   "metadata": {},
   "outputs": [],
   "source": [
    "# Evaluted Created Feature"
   ]
  },
  {
   "cell_type": "code",
   "execution_count": 110,
   "metadata": {},
   "outputs": [],
   "source": [
    "from matplotlib import pyplot\n",
    "import numpy as np\n",
    "%matplotlib inline"
   ]
  },
  {
   "cell_type": "code",
   "execution_count": 111,
   "metadata": {},
   "outputs": [],
   "source": [
    "# plot message length for spam and ham"
   ]
  },
  {
   "cell_type": "code",
   "execution_count": 112,
   "metadata": {},
   "outputs": [
    {
     "name": "stderr",
     "output_type": "stream",
     "text": [
      "c:\\users\\biman.pal\\appdata\\local\\programs\\python\\python37\\lib\\site-packages\\ipykernel_launcher.py:2: MatplotlibDeprecationWarning: \n",
      "The 'normed' kwarg was deprecated in Matplotlib 2.1 and will be removed in 3.1. Use 'density' instead.\n",
      "  \n",
      "c:\\users\\biman.pal\\appdata\\local\\programs\\python\\python37\\lib\\site-packages\\ipykernel_launcher.py:3: MatplotlibDeprecationWarning: \n",
      "The 'normed' kwarg was deprecated in Matplotlib 2.1 and will be removed in 3.1. Use 'density' instead.\n",
      "  This is separate from the ipykernel package so we can avoid doing imports until\n"
     ]
    },
    {
     "data": {
      "image/png": "[encoded data removed]",
      "text/plain": [
       "<Figure size 432x288 with 1 Axes>"
      ]
     },
     "metadata": {
      "needs_background": "light"
     },
     "output_type": "display_data"
    }
   ],
   "source": [
    "bins = np.linspace(0,250,50)\n",
    "pyplot.hist(data[data['label']=='spam']['msg_len'], bins, label='spam', normed=True)\n",
    "pyplot.hist(data[data['label']=='ham']['msg_len'], bins, label='ham', normed=True)\n",
    "pyplot.legend()\n",
    "pyplot.show()"
   ]
  },
  {
   "cell_type": "code",
   "execution_count": 113,
   "metadata": {},
   "outputs": [],
   "source": [
    "# Evaluate punctuation percentage"
   ]
  },
  {
   "cell_type": "code",
   "execution_count": 114,
   "metadata": {},
   "outputs": [
    {
     "name": "stderr",
     "output_type": "stream",
     "text": [
      "c:\\users\\biman.pal\\appdata\\local\\programs\\python\\python37\\lib\\site-packages\\ipykernel_launcher.py:2: MatplotlibDeprecationWarning: \n",
      "The 'normed' kwarg was deprecated in Matplotlib 2.1 and will be removed in 3.1. Use 'density' instead.\n",
      "  \n",
      "c:\\users\\biman.pal\\appdata\\local\\programs\\python\\python37\\lib\\site-packages\\ipykernel_launcher.py:3: MatplotlibDeprecationWarning: \n",
      "The 'normed' kwarg was deprecated in Matplotlib 2.1 and will be removed in 3.1. Use 'density' instead.\n",
      "  This is separate from the ipykernel package so we can avoid doing imports until\n"
     ]
    },
    {
     "data": {
      "image/png": "[encoded data removed]",
      "text/plain": [
       "<Figure size 432x288 with 1 Axes>"
      ]
     },
     "metadata": {
      "needs_background": "light"
     },
     "output_type": "display_data"
    }
   ],
   "source": [
    "bins = np.linspace(0,20,50)\n",
    "pyplot.hist(data[data['label']=='spam']['punctuation_percent'], bins, label='spam', normed=True)\n",
    "pyplot.hist(data[data['label']=='ham']['punctuation_percent'], bins, label='ham', normed=True)\n",
    "pyplot.legend()\n",
    "pyplot.show()"
   ]
  },
  {
   "cell_type": "markdown",
   "metadata": {},
   "source": [
    "# 21. Power Transformation"
   ]
  },
  {
   "cell_type": "code",
   "execution_count": 115,
   "metadata": {},
   "outputs": [],
   "source": [
    "# Power Transformation:\n",
    "#     Changing each data point in a certain column to make the distribution look closer to a normal distribution\n",
    "\n",
    "# Tukey Transformation:\n",
    "#          x^lambda , lambda>0\n",
    "#     y =  log(x),    lambda=0\n",
    "#          -(x^lambda) lambda<0\n",
    "\n",
    "# Box-cox Transformation:\n",
    "#     y = ((x^lambda-1)/lambda) , lambda not= 0\n",
    "#         log(x) ,                lambda=0\n",
    "        \n",
    "# Transformation Process:\n",
    "#     Determine range of exponent to text\n",
    "#     Apply transformation to each value of the chossen feature\n",
    "#     Determine which transformation yeild best distribution.eg:plot histogram and pick which looks closer to normal distribution"
   ]
  },
  {
   "cell_type": "code",
   "execution_count": 116,
   "metadata": {},
   "outputs": [],
   "source": [
    "from matplotlib import pyplot\n",
    "import numpy as np\n",
    "%matplotlib inline"
   ]
  },
  {
   "cell_type": "code",
   "execution_count": 117,
   "metadata": {},
   "outputs": [
    {
     "data": {
      "image/png": "[encoded data removed]",
      "text/plain": [
       "<Figure size 432x288 with 1 Axes>"
      ]
     },
     "metadata": {
      "needs_background": "light"
     },
     "output_type": "display_data"
    }
   ],
   "source": [
    "bins = np.linspace(0,250,50)\n",
    "pyplot.hist(data['msg_len'], bins)\n",
    "pyplot.title(\"Message length\")\n",
    "pyplot.show()"
   ]
  },
  {
   "cell_type": "code",
   "execution_count": 118,
   "metadata": {},
   "outputs": [
    {
     "data": {
      "image/png": "[encoded data removed]",
      "text/plain": [
       "<Figure size 432x288 with 1 Axes>"
      ]
     },
     "metadata": {
      "needs_background": "light"
     },
     "output_type": "display_data"
    }
   ],
   "source": [
    "bins = np.linspace(0,50,50)\n",
    "pyplot.hist(data['punctuation_percent'], bins)\n",
    "pyplot.title(\"Message length\")\n",
    "pyplot.show()"
   ]
  },
  {
   "cell_type": "code",
   "execution_count": 119,
   "metadata": {},
   "outputs": [
    {
     "data": {
      "image/png": "[encoded data removed]",
      "text/plain": [
       "<Figure size 432x288 with 1 Axes>"
      ]
     },
     "metadata": {
      "needs_background": "light"
     },
     "output_type": "display_data"
    },
    {
     "data": {
      "image/png": "[encoded data removed]",
      "text/plain": [
       "<Figure size 432x288 with 1 Axes>"
      ]
     },
     "metadata": {
      "needs_background": "light"
     },
     "output_type": "display_data"
    },
    {
     "data": {
      "image/png": "[encoded data removed]",
      "text/plain": [
       "<Figure size 432x288 with 1 Axes>"
      ]
     },
     "metadata": {
      "needs_background": "light"
     },
     "output_type": "display_data"
    },
    {
     "data": {
      "image/png": "[encoded data removed]",
      "text/plain": [
       "<Figure size 432x288 with 1 Axes>"
      ]
     },
     "metadata": {
      "needs_background": "light"
     },
     "output_type": "display_data"
    },
    {
     "data": {
      "image/png": "[encoded data removed]",
      "text/plain": [
       "<Figure size 432x288 with 1 Axes>"
      ]
     },
     "metadata": {
      "needs_background": "light"
     },
     "output_type": "display_data"
    }
   ],
   "source": [
    "for i in [1,2,3,4,5]:\n",
    "    pyplot.hist((data['punctuation_percent'])**(1/i), bins=50)\n",
    "    pyplot.title(f\"Transformation 1/{i}\")\n",
    "    pyplot.show()"
   ]
  },
  {
   "cell_type": "markdown",
   "metadata": {},
   "source": [
    "# 22. Evalution metrix"
   ]
  },
  {
   "cell_type": "code",
   "execution_count": 120,
   "metadata": {},
   "outputs": [],
   "source": [
    "# Evalution metrix\n",
    "# Accurecy = (Predicted correctly/observation)\n",
    "# Precision = (predicted as spam correctly/ predicted spam)\n",
    "# recall = (predicted as spam correctly/actual spam)"
   ]
  },
  {
   "cell_type": "code",
   "execution_count": 121,
   "metadata": {},
   "outputs": [],
   "source": [
    "# Evalute the model\n",
    "\n",
    "# msg_idx:      1   2   3   4   5    6\n",
    "# Ground_truth: s   s   n   s   n    s\n",
    "# Predicted:    s   n   n   s   s    s\n",
    "#               c   w   c   c   w    c\n",
    "\n",
    "# Accurecy = (4/6)=0.6667\n",
    "# Precision =(3/4)=0.75\n",
    "# Recall = (3/4) =0.75"
   ]
  }
 ],
 "metadata": {
  "kernelspec": {
   "display_name": "Python 3",
   "language": "python",
   "name": "python3"
  },
  "language_info": {
   "codemirror_mode": {
    "name": "ipython",
    "version": 3
   },
   "file_extension": ".py",
   "mimetype": "text/x-python",
   "name": "python",
   "nbconvert_exporter": "python",
   "pygments_lexer": "ipython3",
   "version": "3.7.3"
  }
 },
 "nbformat": 4,
 "nbformat_minor": 2
}
